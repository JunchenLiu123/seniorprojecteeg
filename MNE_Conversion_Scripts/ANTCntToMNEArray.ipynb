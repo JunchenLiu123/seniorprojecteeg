{
 "cells": [
  {
   "cell_type": "markdown",
   "metadata": {},
   "source": [
    "# Converting raw ANT .cnt\n",
    "* This file will convert raw ANT-Neuro .cnt EEG files to a format that can be read by MNE-Python.\n",
    "* The goal \n",
    "    * To read .cnt data using libeep library\n",
    "    * Convert to numpy nDArray if not already\n",
    "    * Use MNE-Pythons RawArray method to read EEG data.\n",
    "* Conversion will be done using python2 because libeep was compiled with this version.\n",
    "* The arrays OR MNE RawArray objects will be stored with pickle and later read with an updated version of MNE for python3"
   ]
  },
  {
   "cell_type": "code",
   "execution_count": 5,
   "metadata": {},
   "outputs": [],
   "source": [
    "import os\n",
    "\n",
    "import libeep\n",
    "import mne"
   ]
  },
  {
   "cell_type": "code",
   "execution_count": 8,
   "metadata": {},
   "outputs": [],
   "source": [
    "path = '/run/media/edrias/5212-DECF/raw_data/'"
   ]
  },
  {
   "cell_type": "code",
   "execution_count": 35,
   "metadata": {},
   "outputs": [],
   "source": [
    "# method to get names of all .cnt and .trg files and put them in a dictionary with raw_data folder as key\n",
    "def raw_data_file_names(path):\n",
    "    \n",
    "    raw_data_folders = os.listdir(path)\n",
    "    raw_data_dict = {}\n",
    "    for folder in raw_data_folders:\n",
    "        files = os.listdir(os.path.join(path, folder))\n",
    "        raw_data_dict[folder] = [x for x in files if '.cnt' in x or '.trg' in x]\n",
    "    return raw_data_dict"
   ]
  },
  {
   "cell_type": "code",
   "execution_count": 46,
   "metadata": {},
   "outputs": [],
   "source": [
    "raw_data_dict = raw_data_file_names(path)"
   ]
  },
  {
   "cell_type": "code",
   "execution_count": 39,
   "metadata": {},
   "outputs": [],
   "source": [
    "# read raw data - takes path of .cnt file.\n",
    "def read_raw_data(path):\n",
    "    return libeep.read_cnt(path)\n",
    "    "
   ]
  },
  {
   "cell_type": "code",
   "execution_count": 78,
   "metadata": {},
   "outputs": [
    {
     "name": "stdout",
     "output_type": "stream",
     "text": [
      "SA20140331\n",
      "/run/media/edrias/5212-DECF/raw_data/SA20140314/20140314_1553.cnt\n",
      "/run/media/edrias/5212-DECF/raw_data/SA20140314/20140314_1553.cnt\n",
      "SA20140402\n",
      "/run/media/edrias/5212-DECF/raw_data/SA20140314/20140314_1553.cnt\n",
      "/run/media/edrias/5212-DECF/raw_data/SA20140314/20140314_1553.cnt\n",
      "SA20140404\n",
      "/run/media/edrias/5212-DECF/raw_data/SA20140314/20140314_1553.cnt\n",
      "/run/media/edrias/5212-DECF/raw_data/SA20140314/20140314_1553.cnt\n",
      "SA20140320B\n",
      "/run/media/edrias/5212-DECF/raw_data/SA20140314/20140314_1553.cnt\n",
      "/run/media/edrias/5212-DECF/raw_data/SA20140314/20140314_1553.cnt\n",
      "SA20140320A\n",
      "/run/media/edrias/5212-DECF/raw_data/SA20140314/20140314_1553.cnt\n",
      "/run/media/edrias/5212-DECF/raw_data/SA20140314/20140314_1553.cnt\n",
      "SA20140424\n",
      "/run/media/edrias/5212-DECF/raw_data/SA20140314/20140314_1553.cnt\n",
      "/run/media/edrias/5212-DECF/raw_data/SA20140314/20140314_1553.cnt\n",
      "SA20140411A\n",
      "/run/media/edrias/5212-DECF/raw_data/SA20140314/20140314_1553.cnt\n",
      "/run/media/edrias/5212-DECF/raw_data/SA20140314/20140314_1553.cnt\n",
      "SA20140428\n",
      "/run/media/edrias/5212-DECF/raw_data/SA20140314/20140314_1553.cnt\n",
      "/run/media/edrias/5212-DECF/raw_data/SA20140314/20140314_1553.cnt\n",
      "SA20131216\n",
      "/run/media/edrias/5212-DECF/raw_data/SA20140314/20140314_1553.cnt\n",
      "/run/media/edrias/5212-DECF/raw_data/SA20140314/20140314_1553.cnt\n",
      "SA20140225\n",
      "/run/media/edrias/5212-DECF/raw_data/SA20140314/20140314_1553.cnt\n",
      "/run/media/edrias/5212-DECF/raw_data/SA20140314/20140314_1553.cnt\n",
      "SA20140220\n",
      "/run/media/edrias/5212-DECF/raw_data/SA20140314/20140314_1553.cnt\n",
      "/run/media/edrias/5212-DECF/raw_data/SA20140314/20140314_1553.cnt\n",
      "SA20140205\n",
      "/run/media/edrias/5212-DECF/raw_data/SA20140314/20140314_1553.cnt\n",
      "/run/media/edrias/5212-DECF/raw_data/SA20140314/20140314_1553.cnt\n",
      "SA20140207\n",
      "/run/media/edrias/5212-DECF/raw_data/SA20140314/20140314_1553.cnt\n",
      "/run/media/edrias/5212-DECF/raw_data/SA20140314/20140314_1553.cnt\n",
      "SA20140206\n",
      "/run/media/edrias/5212-DECF/raw_data/SA20140314/20140314_1553.cnt\n",
      "/run/media/edrias/5212-DECF/raw_data/SA20140314/20140314_1553.cnt\n",
      "SA20140228\n",
      "SA20140304\n",
      "/run/media/edrias/5212-DECF/raw_data/SA20140314/20140314_1553.cnt\n",
      "/run/media/edrias/5212-DECF/raw_data/SA20140314/20140314_1553.cnt\n",
      "SA20140306\n",
      "/run/media/edrias/5212-DECF/raw_data/SA20140314/20140314_1553.cnt\n",
      "/run/media/edrias/5212-DECF/raw_data/SA20140314/20140314_1553.cnt\n",
      "SA20140327\n",
      "/run/media/edrias/5212-DECF/raw_data/SA20140314/20140314_1553.cnt\n",
      "/run/media/edrias/5212-DECF/raw_data/SA20140314/20140314_1553.cnt\n",
      "SA20140324\n",
      "/run/media/edrias/5212-DECF/raw_data/SA20140314/20140314_1553.cnt\n",
      "/run/media/edrias/5212-DECF/raw_data/SA20140314/20140314_1553.cnt\n",
      "SA20140325\n",
      "/run/media/edrias/5212-DECF/raw_data/SA20140314/20140314_1553.cnt\n",
      "/run/media/edrias/5212-DECF/raw_data/SA20140314/20140314_1553.cnt\n",
      "SA20140415\n",
      "/run/media/edrias/5212-DECF/raw_data/SA20140314/20140314_1553.cnt\n",
      "/run/media/edrias/5212-DECF/raw_data/SA20140314/20140314_1553.cnt\n",
      "SA20140430\n",
      "/run/media/edrias/5212-DECF/raw_data/SA20140314/20140314_1553.cnt\n",
      "/run/media/edrias/5212-DECF/raw_data/SA20140314/20140314_1553.cnt\n",
      "SA20140410\n",
      "/run/media/edrias/5212-DECF/raw_data/SA20140314/20140314_1553.cnt\n",
      "/run/media/edrias/5212-DECF/raw_data/SA20140314/20140314_1553.cnt\n",
      "SA20140418\n",
      "/run/media/edrias/5212-DECF/raw_data/SA20140314/20140314_1553.cnt\n",
      "/run/media/edrias/5212-DECF/raw_data/SA20140314/20140314_1553.cnt\n",
      "SA20140227A\n",
      "/run/media/edrias/5212-DECF/raw_data/SA20140314/20140314_1553.cnt\n",
      "/run/media/edrias/5212-DECF/raw_data/SA20140314/20140314_1553.cnt\n",
      "SA20140227B\n",
      "/run/media/edrias/5212-DECF/raw_data/SA20140314/20140314_1553.cnt\n",
      "SA20140423\n",
      "/run/media/edrias/5212-DECF/raw_data/SA20140314/20140314_1553.cnt\n",
      "/run/media/edrias/5212-DECF/raw_data/SA20140314/20140314_1553.cnt\n",
      "SA20140319\n",
      "/run/media/edrias/5212-DECF/raw_data/SA20140314/20140314_1553.cnt\n",
      "/run/media/edrias/5212-DECF/raw_data/SA20140314/20140314_1553.cnt\n",
      "SA20140318\n",
      "/run/media/edrias/5212-DECF/raw_data/SA20140314/20140314_1553.cnt\n",
      "/run/media/edrias/5212-DECF/raw_data/SA20140314/20140314_1553.cnt\n",
      "SA20140219\n",
      "/run/media/edrias/5212-DECF/raw_data/SA20140314/20140314_1553.cnt\n",
      "/run/media/edrias/5212-DECF/raw_data/SA20140314/20140314_1553.cnt\n",
      "SA20140313\n",
      "/run/media/edrias/5212-DECF/raw_data/SA20140314/20140314_1553.cnt\n",
      "/run/media/edrias/5212-DECF/raw_data/SA20140314/20140314_1553.cnt\n",
      "SA20140217\n",
      "/run/media/edrias/5212-DECF/raw_data/SA20140314/20140314_1553.cnt\n",
      "/run/media/edrias/5212-DECF/raw_data/SA20140314/20140314_1553.cnt\n",
      "SA20140314\n",
      "/run/media/edrias/5212-DECF/raw_data/SA20140314/20140314_1553.cnt\n",
      "/run/media/edrias/5212-DECF/raw_data/SA20140314/20140314_1553.cnt\n"
     ]
    }
   ],
   "source": [
    "file_dict_keys = raw_data_dict.keys()\n",
    "cnt_paths = []\n",
    "\n",
    "for key in file_dict_keys:\n",
    "    files = raw_data_dict[key]\n",
    "    cnt_files = [x for x in files if '.cnt' in x]\n",
    "    print key\n",
    "    for file in cnt_files:\n",
    "        folder_path = os.path.join(path, key)\n",
    "        cnt_file = os.path.join(folder_path, cnt_file)\n",
    "        cnt_paths.append(cnt_file)\n",
    "        print cnt_file"
   ]
  },
  {
   "cell_type": "code",
   "execution_count": 68,
   "metadata": {},
   "outputs": [
    {
     "data": {
      "text/plain": [
       "['SA20140331',\n",
       " 'SA20140402',\n",
       " 'SA20140404',\n",
       " 'SA20140320B',\n",
       " 'SA20140320A',\n",
       " 'SA20140424',\n",
       " 'SA20140411A',\n",
       " 'SA20140428',\n",
       " 'SA20131216',\n",
       " 'SA20140225',\n",
       " 'SA20140220',\n",
       " 'SA20140205',\n",
       " 'SA20140207',\n",
       " 'SA20140206',\n",
       " 'SA20140228',\n",
       " 'SA20140304',\n",
       " 'SA20140306',\n",
       " 'SA20140327',\n",
       " 'SA20140324',\n",
       " 'SA20140325',\n",
       " 'SA20140415',\n",
       " 'SA20140430',\n",
       " 'SA20140410',\n",
       " 'SA20140418',\n",
       " 'SA20140227A',\n",
       " 'SA20140227B',\n",
       " 'SA20140423',\n",
       " 'SA20140319',\n",
       " 'SA20140318',\n",
       " 'SA20140219',\n",
       " 'SA20140313',\n",
       " 'SA20140217',\n",
       " 'SA20140314']"
      ]
     },
     "execution_count": 68,
     "metadata": {},
     "output_type": "execute_result"
    }
   ],
   "source": [
    "raw_data_dict.keys()"
   ]
  },
  {
   "cell_type": "code",
   "execution_count": null,
   "metadata": {},
   "outputs": [],
   "source": []
  }
 ],
 "metadata": {
  "kernelspec": {
   "display_name": "Python 2",
   "language": "python",
   "name": "python2"
  },
  "language_info": {
   "codemirror_mode": {
    "name": "ipython",
    "version": 2
   },
   "file_extension": ".py",
   "mimetype": "text/x-python",
   "name": "python",
   "nbconvert_exporter": "python",
   "pygments_lexer": "ipython2",
   "version": "2.7.15"
  }
 },
 "nbformat": 4,
 "nbformat_minor": 2
}
