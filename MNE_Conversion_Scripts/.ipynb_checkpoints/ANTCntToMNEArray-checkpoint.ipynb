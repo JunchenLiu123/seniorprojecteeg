{
 "cells": [
  {
   "cell_type": "markdown",
   "metadata": {},
   "source": [
    "# Converting raw ANT .cnt\n",
    "* This file will convert raw ANT-Neuro .cnt EEG files to a format that can be read by MNE-Python.\n",
    "* The goal \n",
    "    * To read .cnt data using libeep library\n",
    "    * Convert to numpy nDArray if not already\n",
    "    * Use MNE-Pythons RawArray method to read EEG data.\n",
    "* Conversion will be done using python2 because libeep was compiled with this version.\n",
    "* The arrays OR MNE RawArray objects will be stored with pickle and later read with an updated version of MNE for python3"
   ]
  },
  {
   "cell_type": "code",
   "execution_count": 4,
   "metadata": {},
   "outputs": [],
   "source": [
    "import libeep\n",
    "import mne"
   ]
  },
  {
   "cell_type": "code",
   "execution_count": null,
   "metadata": {},
   "outputs": [],
   "source": [
    "path = '/run/media/edrias/5212-DECF/raw_data/'"
   ]
  },
  {
   "cell_type": "code",
   "execution_count": null,
   "metadata": {},
   "outputs": [],
   "source": []
  }
 ],
 "metadata": {
  "kernelspec": {
   "display_name": "Python 2",
   "language": "python",
   "name": "python2"
  },
  "language_info": {
   "codemirror_mode": {
    "name": "ipython",
    "version": 2
   },
   "file_extension": ".py",
   "mimetype": "text/x-python",
   "name": "python",
   "nbconvert_exporter": "python",
   "pygments_lexer": "ipython2",
   "version": "2.7.15"
  }
 },
 "nbformat": 4,
 "nbformat_minor": 2
}
