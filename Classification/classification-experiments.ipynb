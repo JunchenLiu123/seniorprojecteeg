{
 "cells": [
  {
   "cell_type": "markdown",
   "metadata": {},
   "source": [
    "# Classification Experiments \n",
    "By: Shateesh Bhugwansing\n"
   ]
  },
  {
   "cell_type": "markdown",
   "metadata": {},
   "source": [
    "### Experiment 1 - Logistic Regression\n",
    "\n",
    "__Data__: EpochedEEG/20131216_1441_epo.fif (Epoched data from Emmanuil's batch script)\n",
    "\n",
    "__Problem__: Classify target vs. flanker stimuli \n",
    "\n",
    "__Procedure__:\n",
    "1. perform PCA on data to reduce the number of channels 129 to 9\n",
    "2. reassign event_id's for each epoch. target = 140, flanker = 160\n",
    "3. Run logistic regression classifier on the original data\n",
    "4. Run the same classifier in step 3, on the PCA data and compare results. \n",
    "    "
   ]
  },
  {
   "cell_type": "code",
   "execution_count": 70,
   "metadata": {},
   "outputs": [],
   "source": [
    "import mne\n",
    "import numpy as np\n",
    "import matplotlib.pyplot as plt\n",
    "%matplotlib inline\n",
    "import matplotlib\n",
    "# matplotlib.rcParams['figure.figsize'] = (15, 15)\n",
    "matplotlib.rcParams.update({'font.size': 11})"
   ]
  },
  {
   "cell_type": "code",
   "execution_count": 51,
   "metadata": {},
   "outputs": [
    {
     "name": "stdout",
     "output_type": "stream",
     "text": [
      "Reading /Volumes/SB/EpochedEEG/20131216_1441_epo.fif ...\n",
      "    Found the data of interest:\n",
      "        t =    -199.22 ...     500.00 ms\n",
      "        0 CTF compensation matrices available\n",
      "5424 matching events found\n",
      "Applying baseline correction (mode: mean)\n",
      "5424 matching events found\n",
      "Applying baseline correction (mode: mean)\n",
      "Not setting metadata\n",
      "0 projection items activated\n"
     ]
    }
   ],
   "source": [
    "path = '/Volumes/SB/EpochedEEG/20131216_1441_epo.fif'\n",
    "epoch = mne.read_epochs(path, preload=True)\n"
   ]
  },
  {
   "cell_type": "code",
   "execution_count": 52,
   "metadata": {},
   "outputs": [],
   "source": [
    "from mne.datasets import sample\n",
    "from mne.decoding import UnsupervisedSpatialFilter\n",
    "\n",
    "from sklearn.decomposition import PCA"
   ]
  },
  {
   "cell_type": "code",
   "execution_count": 53,
   "metadata": {},
   "outputs": [],
   "source": [
    "pca = UnsupervisedSpatialFilter(PCA(9), average=False) # PCA, keep 9 components \n",
    "\n",
    "epoch_data = epoch.get_data()\n",
    "pca_data = pca.fit_transform(epoch_data)"
   ]
  },
  {
   "cell_type": "code",
   "execution_count": null,
   "metadata": {},
   "outputs": [],
   "source": [
    "import pickle\n",
    "\n",
    "pickle.dump(pca_data, open('pca_data_20131216_1441.pkl', 'wb'))\n",
    "pickle.dump(epoch_data, open('epoch_data_20131216_1441.pkl', 'wb'))"
   ]
  },
  {
   "cell_type": "code",
   "execution_count": 4,
   "metadata": {},
   "outputs": [],
   "source": [
    "filtered_epoch = epoch[(epoch.events[:,-1] >= 135) & (epoch.events[:,-1] <= 165)]"
   ]
  },
  {
   "cell_type": "code",
   "execution_count": null,
   "metadata": {},
   "outputs": [],
   "source": [
    "pickle.dump(filtered_epoch, open('filtered_epoch_20131216_1441.pkl', 'wb'))"
   ]
  },
  {
   "cell_type": "code",
   "execution_count": 5,
   "metadata": {},
   "outputs": [
    {
     "data": {
      "text/plain": [
       "(1280, 129, 180)"
      ]
     },
     "execution_count": 5,
     "metadata": {},
     "output_type": "execute_result"
    }
   ],
   "source": [
    "filtered_epoch_data = filtered_epoch.get_data()\n",
    "filtered_epoch_data.shape"
   ]
  },
  {
   "cell_type": "code",
   "execution_count": null,
   "metadata": {},
   "outputs": [],
   "source": [
    "filtered_pca_data = pca.fit_transform(filtered_epoch_data)\n",
    "filtered_pca_data.shape"
   ]
  },
  {
   "cell_type": "code",
   "execution_count": null,
   "metadata": {},
   "outputs": [],
   "source": [
    "pickle.dump(filtered_epoch_data, open('filtered_epoch_data_20131216_1441.pkl', 'wb'))\n",
    "pickle.dump(filtered_pca_data, open('filtered_pca_data_20131216_1441.pkl', 'wb'))"
   ]
  },
  {
   "cell_type": "code",
   "execution_count": 6,
   "metadata": {},
   "outputs": [],
   "source": [
    "# change the event id to '140' for target, and '160' for flanker. \n",
    "\n",
    "for x in filtered_epoch.events:\n",
    "    if x[-1] <= 145:\n",
    "        x[-1] = 140\n",
    "    else:\n",
    "        x[-1] = 160"
   ]
  },
  {
   "cell_type": "code",
   "execution_count": 7,
   "metadata": {},
   "outputs": [
    {
     "data": {
      "text/plain": [
       "array([[  2581,     31,    140],\n",
       "       [  2583,      0,    160],\n",
       "       [  3671,      0,    140],\n",
       "       ...,\n",
       "       [658086,      0,    160],\n",
       "       [658618,     31,    140],\n",
       "       [658620,      0,    160]])"
      ]
     },
     "execution_count": 7,
     "metadata": {},
     "output_type": "execute_result"
    }
   ],
   "source": [
    "filtered_epoch.events"
   ]
  },
  {
   "cell_type": "markdown",
   "metadata": {},
   "source": [
    "### Logistic Regression on epoched data (129 Channels) "
   ]
  },
  {
   "cell_type": "code",
   "execution_count": 54,
   "metadata": {},
   "outputs": [],
   "source": [
    "from mne.decoding import Vectorizer\n",
    "from sklearn.preprocessing import MinMaxScaler\n",
    "from sklearn.preprocessing import StandardScaler\n",
    "from sklearn.pipeline import make_pipeline\n",
    "from sklearn.linear_model import LogisticRegression\n",
    "from sklearn.model_selection import train_test_split\n",
    "from sklearn.model_selection import StratifiedKFold\n",
    "from sklearn.metrics import classification_report\n",
    "from sklearn.svm import SVC  # noqa\n",
    "from sklearn.model_selection import ShuffleSplit  # noqa\n",
    "\n",
    "from sklearn.metrics import confusion_matrix\n",
    "from mne.viz import tight_layout"
   ]
  },
  {
   "cell_type": "code",
   "execution_count": 55,
   "metadata": {},
   "outputs": [
    {
     "name": "stdout",
     "output_type": "stream",
     "text": [
      "             precision    recall  f1-score   support\n",
      "\n",
      "        140       1.00      1.00      1.00       640\n",
      "        160       1.00      1.00      1.00       640\n",
      "\n",
      "avg / total       1.00      1.00      1.00      1280\n",
      "\n"
     ]
    }
   ],
   "source": [
    "# use logistic regression, L1 penalty \n",
    "\n",
    "\n",
    "from mne.preprocessing import Xdawn\n",
    "\n",
    "\n",
    "clf = make_pipeline(\n",
    "                    Vectorizer(),\n",
    "                    MinMaxScaler(),\n",
    "                    LogisticRegression(penalty='l1'))\n",
    "\n",
    "# logReg = LogisticRegression()\n",
    "\n",
    "#cross validator\n",
    "cv = StratifiedKFold(n_splits = 10, shuffle = True, random_state = 42)\n",
    "\n",
    "\n",
    "#Do cross-validation\n",
    "labels = filtered_epoch.events[:,-1]\n",
    "preds = np.empty(len(filtered_epoch._data))\n",
    "for train, test in cv.split(filtered_epoch._data, labels):\n",
    "    clf.fit(filtered_epoch._data[train], labels[train])\n",
    "    preds[test] = clf.predict(filtered_epoch.get_data()[test])\n",
    "    \n",
    "target_names = [ '140', '160']\n",
    "report = classification_report(labels, preds, target_names=target_names)\n",
    "print(report)"
   ]
  },
  {
   "cell_type": "code",
   "execution_count": 71,
   "metadata": {},
   "outputs": [
    {
     "data": {
      "image/png": "[encoded data removed]",
      "text/plain": [
       "<Figure size 432x288 with 2 Axes>"
      ]
     },
     "metadata": {
      "needs_background": "light"
     },
     "output_type": "display_data"
    }
   ],
   "source": [
    "# Normalized confusion matrix\n",
    "from sklearn.metrics import confusion_matrix\n",
    "from mne.viz import tight_layout\n",
    "\n",
    "\n",
    "\n",
    "cm = confusion_matrix(labels, preds)\n",
    "cm_normalized = cm.astype(float) / cm.sum(axis=1)[:, np.newaxis]\n",
    "\n",
    "# Plot confusion matrix\n",
    "plt.imshow(cm_normalized, interpolation='nearest', cmap=plt.cm.Blues)\n",
    "plt.title('Target vs. Flanker -- Logistic Regression')\n",
    "plt.colorbar()\n",
    "tick_marks = np.arange(len(target_names))\n",
    "plt.xticks(tick_marks, target_names, rotation=45)\n",
    "plt.yticks(tick_marks, target_names)\n",
    "tight_layout()\n",
    "plt.ylabel('True label')\n",
    "plt.xlabel('Predicted label')\n",
    "plt.show()"
   ]
  },
  {
   "cell_type": "markdown",
   "metadata": {},
   "source": [
    "### Experiment 2 - SVM\n",
    "\n",
    "__Data__: EpochedEEG/20131216_1441_epo.fif (Epoched data from Emmanuil's batch script)\n",
    "\n",
    "__Problem__: Classify target vs. flanker stimuli \n",
    "\n",
    "__Procedure__:\n",
    "1. perform PCA on data to reduce the number of channels 129 to 9\n",
    "2. reassign event_id's for each epoch. target = 140, flanker = 160\n",
    "3. Run SVM classifier on the original data\n",
    "4. Run the same classifier in step 3, on the PCA data and compare results. \n",
    "    "
   ]
  },
  {
   "cell_type": "code",
   "execution_count": null,
   "metadata": {},
   "outputs": [],
   "source": [
    "from sklearn.svm import SVC  # noqa\n",
    "from sklearn.model_selection import ShuffleSplit  # noqa\n",
    "\n",
    "cv2 = StratifiedKFold(n_splits = 10, shuffle = True, random_state = 42)\n",
    "svc = SVC(C=1, kernel='linear')\n",
    "\n",
    "\n",
    "clf2 = make_pipeline(\n",
    "                    Vectorizer(),\n",
    "                    MinMaxScaler(),\n",
    "                    svc)\n",
    "\n",
    "\n",
    "labels2 = filtered_epoch.events[:,-1]\n",
    "preds2 = np.empty(len(filtered_epoch._data))\n",
    "for train2, test2 in cv2.split(filtered_epoch._data, labels2):\n",
    "    clf.fit(filtered_epoch.get_data()[train2], labels[train2])\n",
    "    preds2[test2] = clf.predict(filtered_epoch.get_data()[test2])\n",
    "    \n",
    "target_names2 = [ '140', '160']\n",
    "report2 = classification_report(labels2, preds2, target_names=target_names2)\n",
    "print(report2)"
   ]
  },
  {
   "cell_type": "code",
   "execution_count": null,
   "metadata": {},
   "outputs": [],
   "source": [
    "# Normalized confusion matrix\n",
    "from sklearn.metrics import confusion_matrix\n",
    "from mne.viz import tight_layout\n",
    "\n",
    "\n",
    "\n",
    "cm = confusion_matrix(labels2, preds2)\n",
    "cm_normalized = cm.astype(float) / cm.sum(axis=1)[:, np.newaxis]\n",
    "\n",
    "# Plot confusion matrix\n",
    "plt.imshow(cm_normalized, interpolation='nearest', cmap=plt.cm.Blues)\n",
    "plt.title('Normalized Confusion matrix -- SVM')\n",
    "plt.colorbar()\n",
    "tick_marks = np.arange(len(target_names2))\n",
    "plt.xticks(tick_marks, target_names2, rotation=45)\n",
    "plt.yticks(tick_marks, target_names2)\n",
    "tight_layout()\n",
    "plt.ylabel('True label')\n",
    "plt.xlabel('Predicted label')\n",
    "plt.show()"
   ]
  },
  {
   "cell_type": "code",
   "execution_count": null,
   "metadata": {},
   "outputs": [],
   "source": [
    "# try scatter plot of events data, see if the data already has a clear divide \n",
    "\n",
    "filtered_epoch"
   ]
  },
  {
   "cell_type": "code",
   "execution_count": 9,
   "metadata": {},
   "outputs": [
    {
     "data": {
      "text/plain": [
       "(1280, 23220)"
      ]
     },
     "execution_count": 9,
     "metadata": {},
     "output_type": "execute_result"
    }
   ],
   "source": [
    "from mne.decoding import Vectorizer\n",
    "\n",
    "vectorizer = Vectorizer()\n",
    "reshaped = vectorizer.fit_transform(filtered_epoch._data)\n",
    "reshaped.shape"
   ]
  },
  {
   "cell_type": "code",
   "execution_count": 43,
   "metadata": {},
   "outputs": [
    {
     "data": {
      "text/plain": [
       "<matplotlib.collections.PathCollection at 0x81cd0ccf8>"
      ]
     },
     "execution_count": 43,
     "metadata": {},
     "output_type": "execute_result"
    },
    {
     "data": {
      "image/png": "[encoded data removed]",
      "text/plain": [
       "<Figure size 432x288 with 1 Axes>"
      ]
     },
     "metadata": {
      "needs_background": "light"
     },
     "output_type": "display_data"
    }
   ],
   "source": [
    "labels = filtered_epoch.events[:,-1]\n",
    "\n",
    "plt.ylim(-7.0e-05, 7.0e-05)\n",
    "plt.xlim(-7.0e-05, 7.0e-05)\n",
    "plt.scatter(reshaped[:,0], reshaped[:,1])"
   ]
  },
  {
   "cell_type": "code",
   "execution_count": 12,
   "metadata": {},
   "outputs": [
    {
     "data": {
      "text/plain": [
       "array([2.29729041e-05, 1.79218559e-05, 1.65427913e-05, ...,\n",
       "       0.00000000e+00, 0.00000000e+00, 0.00000000e+00])"
      ]
     },
     "execution_count": 12,
     "metadata": {},
     "output_type": "execute_result"
    }
   ],
   "source": [
    "(reshaped[1,:])"
   ]
  },
  {
   "cell_type": "code",
   "execution_count": 15,
   "metadata": {},
   "outputs": [
    {
     "name": "stderr",
     "output_type": "stream",
     "text": [
      "/Users/shateeshbhugwansing/anaconda/envs/mne/lib/python3.6/site-packages/sklearn/model_selection/_split.py:2026: FutureWarning: From version 0.21, test_size will always complement train_size unless both are specified.\n",
      "  FutureWarning)\n"
     ]
    },
    {
     "name": "stdout",
     "output_type": "stream",
     "text": [
      "train_x size ::  (896, 129, 180)\n",
      "train_y size ::  (896,)\n",
      "test_x size ::  (384, 129, 180)\n",
      "test_y size ::  (384,)\n"
     ]
    }
   ],
   "source": [
    "\n",
    "train_x, test_x, train_y, test_y = train_test_split(filtered_epoch._data, labels, train_size = 0.7)\n",
    "print(\"train_x size :: \", train_x.shape)\n",
    "print(\"train_y size :: \", train_y.shape)\n",
    " \n",
    "print(\"test_x size :: \", test_x.shape)\n",
    "print(\"test_y size :: \", test_y.shape)"
   ]
  },
  {
   "cell_type": "code",
   "execution_count": 16,
   "metadata": {},
   "outputs": [],
   "source": [
    "train_x = vectorizer.fit_transform(train_x)\n",
    "test_x = vectorizer.fit_transform(test_x)"
   ]
  },
  {
   "cell_type": "code",
   "execution_count": 17,
   "metadata": {},
   "outputs": [
    {
     "data": {
      "text/plain": [
       "LogisticRegression(C=1.0, class_weight=None, dual=False, fit_intercept=True,\n",
       "          intercept_scaling=1, max_iter=100, multi_class='ovr', n_jobs=1,\n",
       "          penalty='l2', random_state=None, solver='liblinear', tol=0.0001,\n",
       "          verbose=0, warm_start=False)"
      ]
     },
     "execution_count": 17,
     "metadata": {},
     "output_type": "execute_result"
    }
   ],
   "source": [
    "reg_model = LogisticRegression()\n",
    "reg_model.fit(train_x, train_y)"
   ]
  },
  {
   "cell_type": "code",
   "execution_count": 18,
   "metadata": {},
   "outputs": [
    {
     "data": {
      "text/plain": [
       "1.0"
      ]
     },
     "execution_count": 18,
     "metadata": {},
     "output_type": "execute_result"
    }
   ],
   "source": [
    "train_accuracy = reg_model.score(train_x, train_y)\n",
    "# train_accuracy\n",
    "\n",
    "test_accuracy = reg_model.score(test_x, test_y)\n",
    "# test_accuracy\n",
    "train_accuracy"
   ]
  },
  {
   "cell_type": "markdown",
   "metadata": {},
   "source": [
    "### Attempt to classify with another target set, to confirm that my pipeline is okay. "
   ]
  },
  {
   "cell_type": "code",
   "execution_count": 19,
   "metadata": {},
   "outputs": [
    {
     "data": {
      "text/plain": [
       "{'trail_start': 31,\n",
       " 'left_button': 131,\n",
       " 'right_button': 132,\n",
       " 'congruent': 133,\n",
       " 'incongruent': 134,\n",
       " 'correct': 129,\n",
       " 'incorrect': 130,\n",
       " 't_baby': 135,\n",
       " 't_bell': 136,\n",
       " 't_bird': 137,\n",
       " 't_burp': 138,\n",
       " 't_dog': 139,\n",
       " 't_drum': 140,\n",
       " 't_knock': 141,\n",
       " 't_laugh': 142,\n",
       " 't_phone': 143,\n",
       " 't_train': 144,\n",
       " 't_water': 145,\n",
       " 'f_baby': 155,\n",
       " 'f_bell': 156,\n",
       " 'f_bird': 157,\n",
       " 'f_burp': 158,\n",
       " 'f_dog': 159,\n",
       " 'f_drum': 160,\n",
       " 'f_knock': 161,\n",
       " 'f_laugh': 162,\n",
       " 'f_phone': 163,\n",
       " 'f_train': 164,\n",
       " 'f_water': 165,\n",
       " 'flanker_stim_1': 1,\n",
       " 'flanker_stim_2': 2,\n",
       " 'flanker_stim_3': 3,\n",
       " 'flanker_stim_4': 4,\n",
       " 'flanker_stim_5': 5,\n",
       " 'flanker_stim_6': 6,\n",
       " 'flanker_stim_7': 7,\n",
       " 'flanker_stim_8': 8,\n",
       " 'flanker_stim_9': 9,\n",
       " 'flanker_stim_10': 10,\n",
       " 'flanker_stim_11': 11,\n",
       " 'flanker_stim_12': 12,\n",
       " 'target_stim_13': 13,\n",
       " 'target_stim_14': 14,\n",
       " 'target_stim_15': 15,\n",
       " 'target_stim_16': 16,\n",
       " 'target_stim_17': 17,\n",
       " 'target_stim_18': 18,\n",
       " 'target_stim_19': 19,\n",
       " 'target_stim_20': 20,\n",
       " 'target_stim_21': 21,\n",
       " 'target_stim_22': 22,\n",
       " 'target_stim_23': 23,\n",
       " 'target_stim_24': 24}"
      ]
     },
     "execution_count": 19,
     "metadata": {},
     "output_type": "execute_result"
    }
   ],
   "source": [
    "epoch.event_id"
   ]
  },
  {
   "cell_type": "code",
   "execution_count": 20,
   "metadata": {},
   "outputs": [],
   "source": [
    "congruency = epoch[(epoch.events[:,-1] == 133) | (epoch.events[:,-1] == 134)]"
   ]
  },
  {
   "cell_type": "code",
   "execution_count": 21,
   "metadata": {},
   "outputs": [
    {
     "data": {
      "text/plain": [
       "(640, 129, 180)"
      ]
     },
     "execution_count": 21,
     "metadata": {},
     "output_type": "execute_result"
    }
   ],
   "source": [
    "congruency._data.shape"
   ]
  },
  {
   "cell_type": "code",
   "execution_count": 22,
   "metadata": {},
   "outputs": [],
   "source": [
    "congruency_data = vectorizer.fit_transform(congruency._data)\n",
    "\n"
   ]
  },
  {
   "cell_type": "code",
   "execution_count": 23,
   "metadata": {},
   "outputs": [
    {
     "name": "stderr",
     "output_type": "stream",
     "text": [
      "/Users/shateeshbhugwansing/anaconda/envs/mne/lib/python3.6/site-packages/sklearn/model_selection/_split.py:2026: FutureWarning: From version 0.21, test_size will always complement train_size unless both are specified.\n",
      "  FutureWarning)\n"
     ]
    }
   ],
   "source": [
    "congruency_labels = congruency.events[:,-1]\n",
    "train_x, test_x, train_y, test_y = train_test_split(congruency_data, congruency_labels, train_size = 0.7)\n"
   ]
  },
  {
   "cell_type": "code",
   "execution_count": 24,
   "metadata": {},
   "outputs": [
    {
     "name": "stdout",
     "output_type": "stream",
     "text": [
      "train_x size ::  (448, 23220)\n",
      "train_y size ::  (448,)\n",
      "test_x size ::  (192, 23220)\n",
      "test_y size ::  (192,)\n"
     ]
    }
   ],
   "source": [
    "print(\"train_x size :: \", train_x.shape)\n",
    "print(\"train_y size :: \", train_y.shape)\n",
    " \n",
    "print(\"test_x size :: \", test_x.shape)\n",
    "print(\"test_y size :: \", test_y.shape)"
   ]
  },
  {
   "cell_type": "code",
   "execution_count": 29,
   "metadata": {},
   "outputs": [
    {
     "data": {
      "text/plain": [
       "LogisticRegression(C=1.0, class_weight=None, dual=False, fit_intercept=True,\n",
       "          intercept_scaling=1, max_iter=100, multi_class='ovr', n_jobs=1,\n",
       "          penalty='l2', random_state=None, solver='liblinear', tol=0.0001,\n",
       "          verbose=0, warm_start=False)"
      ]
     },
     "execution_count": 29,
     "metadata": {},
     "output_type": "execute_result"
    }
   ],
   "source": [
    "reg_model = LogisticRegression()\n",
    "reg_model.fit(train_x, train_y)"
   ]
  },
  {
   "cell_type": "code",
   "execution_count": 30,
   "metadata": {},
   "outputs": [
    {
     "name": "stdout",
     "output_type": "stream",
     "text": [
      "train accuracy:  0.9174107142857143\n",
      "test accuracy 0.90625\n"
     ]
    }
   ],
   "source": [
    "train_accuracy = reg_model.score(train_x, train_y)\n",
    "print(\"train accuracy: \", train_accuracy)\n",
    "\n",
    "test_accuracy = reg_model.score(test_x, test_y)\n",
    "print(\"test accuracy\", test_accuracy)"
   ]
  },
  {
   "cell_type": "markdown",
   "metadata": {},
   "source": [
    "## Re-do experiments 1, with new classification problem: congruent vs. incongruent"
   ]
  },
  {
   "cell_type": "code",
   "execution_count": 31,
   "metadata": {},
   "outputs": [],
   "source": [
    "congruency = epoch[(epoch.events[:,-1] == 133) | (epoch.events[:,-1] == 134)]\n",
    "congruency_data = vectorizer.fit_transform(congruency._data)\n",
    "congruency_labels = congruency.events[:,-1]"
   ]
  },
  {
   "cell_type": "code",
   "execution_count": 74,
   "metadata": {},
   "outputs": [
    {
     "ename": "KeyboardInterrupt",
     "evalue": "",
     "output_type": "error",
     "traceback": [
      "\u001b[0;31m---------------------------------------------------------------------------\u001b[0m",
      "\u001b[0;31mKeyboardInterrupt\u001b[0m                         Traceback (most recent call last)",
      "\u001b[0;32m<ipython-input-74-3283b6ac8681>\u001b[0m in \u001b[0;36m<module>\u001b[0;34m()\u001b[0m\n\u001b[1;32m     11\u001b[0m \u001b[0mpreds\u001b[0m \u001b[0;34m=\u001b[0m \u001b[0mnp\u001b[0m\u001b[0;34m.\u001b[0m\u001b[0mempty\u001b[0m\u001b[0;34m(\u001b[0m\u001b[0mlen\u001b[0m\u001b[0;34m(\u001b[0m\u001b[0mcongruency\u001b[0m\u001b[0;34m.\u001b[0m\u001b[0m_data\u001b[0m\u001b[0;34m)\u001b[0m\u001b[0;34m)\u001b[0m\u001b[0;34m\u001b[0m\u001b[0m\n\u001b[1;32m     12\u001b[0m \u001b[0;32mfor\u001b[0m \u001b[0mtrain\u001b[0m\u001b[0;34m,\u001b[0m \u001b[0mtest\u001b[0m \u001b[0;32min\u001b[0m \u001b[0mcv\u001b[0m\u001b[0;34m.\u001b[0m\u001b[0msplit\u001b[0m\u001b[0;34m(\u001b[0m\u001b[0mcongruency_data\u001b[0m\u001b[0;34m,\u001b[0m \u001b[0mcongruency_labels\u001b[0m\u001b[0;34m)\u001b[0m\u001b[0;34m:\u001b[0m\u001b[0;34m\u001b[0m\u001b[0m\n\u001b[0;32m---> 13\u001b[0;31m     \u001b[0mclf\u001b[0m\u001b[0;34m.\u001b[0m\u001b[0mfit\u001b[0m\u001b[0;34m(\u001b[0m\u001b[0mcongruency_data\u001b[0m\u001b[0;34m[\u001b[0m\u001b[0mtrain\u001b[0m\u001b[0;34m]\u001b[0m\u001b[0;34m,\u001b[0m \u001b[0mcongruency_labels\u001b[0m\u001b[0;34m[\u001b[0m\u001b[0mtrain\u001b[0m\u001b[0;34m]\u001b[0m\u001b[0;34m)\u001b[0m\u001b[0;34m\u001b[0m\u001b[0m\n\u001b[0m\u001b[1;32m     14\u001b[0m     \u001b[0mpreds\u001b[0m\u001b[0;34m[\u001b[0m\u001b[0mtest\u001b[0m\u001b[0;34m]\u001b[0m \u001b[0;34m=\u001b[0m \u001b[0mclf\u001b[0m\u001b[0;34m.\u001b[0m\u001b[0mpredict\u001b[0m\u001b[0;34m(\u001b[0m\u001b[0mcongruency_data\u001b[0m\u001b[0;34m[\u001b[0m\u001b[0mtest\u001b[0m\u001b[0;34m]\u001b[0m\u001b[0;34m)\u001b[0m\u001b[0;34m\u001b[0m\u001b[0m\n\u001b[1;32m     15\u001b[0m \u001b[0;31m#     print(clf.score(congruency_data[test], congruency_labels[test]))\u001b[0m\u001b[0;34m\u001b[0m\u001b[0;34m\u001b[0m\u001b[0m\n",
      "\u001b[0;32m~/anaconda/envs/mne/lib/python3.6/site-packages/sklearn/linear_model/logistic.py\u001b[0m in \u001b[0;36mfit\u001b[0;34m(self, X, y, sample_weight)\u001b[0m\n\u001b[1;32m   1235\u001b[0m                 \u001b[0mself\u001b[0m\u001b[0;34m.\u001b[0m\u001b[0mclass_weight\u001b[0m\u001b[0;34m,\u001b[0m \u001b[0mself\u001b[0m\u001b[0;34m.\u001b[0m\u001b[0mpenalty\u001b[0m\u001b[0;34m,\u001b[0m \u001b[0mself\u001b[0m\u001b[0;34m.\u001b[0m\u001b[0mdual\u001b[0m\u001b[0;34m,\u001b[0m \u001b[0mself\u001b[0m\u001b[0;34m.\u001b[0m\u001b[0mverbose\u001b[0m\u001b[0;34m,\u001b[0m\u001b[0;34m\u001b[0m\u001b[0m\n\u001b[1;32m   1236\u001b[0m                 \u001b[0mself\u001b[0m\u001b[0;34m.\u001b[0m\u001b[0mmax_iter\u001b[0m\u001b[0;34m,\u001b[0m \u001b[0mself\u001b[0m\u001b[0;34m.\u001b[0m\u001b[0mtol\u001b[0m\u001b[0;34m,\u001b[0m \u001b[0mself\u001b[0m\u001b[0;34m.\u001b[0m\u001b[0mrandom_state\u001b[0m\u001b[0;34m,\u001b[0m\u001b[0;34m\u001b[0m\u001b[0m\n\u001b[0;32m-> 1237\u001b[0;31m                 sample_weight=sample_weight)\n\u001b[0m\u001b[1;32m   1238\u001b[0m             \u001b[0mself\u001b[0m\u001b[0;34m.\u001b[0m\u001b[0mn_iter_\u001b[0m \u001b[0;34m=\u001b[0m \u001b[0mnp\u001b[0m\u001b[0;34m.\u001b[0m\u001b[0marray\u001b[0m\u001b[0;34m(\u001b[0m\u001b[0;34m[\u001b[0m\u001b[0mn_iter_\u001b[0m\u001b[0;34m]\u001b[0m\u001b[0;34m)\u001b[0m\u001b[0;34m\u001b[0m\u001b[0m\n\u001b[1;32m   1239\u001b[0m             \u001b[0;32mreturn\u001b[0m \u001b[0mself\u001b[0m\u001b[0;34m\u001b[0m\u001b[0m\n",
      "\u001b[0;32m~/anaconda/envs/mne/lib/python3.6/site-packages/sklearn/svm/base.py\u001b[0m in \u001b[0;36m_fit_liblinear\u001b[0;34m(X, y, C, fit_intercept, intercept_scaling, class_weight, penalty, dual, verbose, max_iter, tol, random_state, multi_class, loss, epsilon, sample_weight)\u001b[0m\n\u001b[1;32m    888\u001b[0m         \u001b[0mX\u001b[0m\u001b[0;34m,\u001b[0m \u001b[0my_ind\u001b[0m\u001b[0;34m,\u001b[0m \u001b[0msp\u001b[0m\u001b[0;34m.\u001b[0m\u001b[0misspmatrix\u001b[0m\u001b[0;34m(\u001b[0m\u001b[0mX\u001b[0m\u001b[0;34m)\u001b[0m\u001b[0;34m,\u001b[0m \u001b[0msolver_type\u001b[0m\u001b[0;34m,\u001b[0m \u001b[0mtol\u001b[0m\u001b[0;34m,\u001b[0m \u001b[0mbias\u001b[0m\u001b[0;34m,\u001b[0m \u001b[0mC\u001b[0m\u001b[0;34m,\u001b[0m\u001b[0;34m\u001b[0m\u001b[0m\n\u001b[1;32m    889\u001b[0m         \u001b[0mclass_weight_\u001b[0m\u001b[0;34m,\u001b[0m \u001b[0mmax_iter\u001b[0m\u001b[0;34m,\u001b[0m \u001b[0mrnd\u001b[0m\u001b[0;34m.\u001b[0m\u001b[0mrandint\u001b[0m\u001b[0;34m(\u001b[0m\u001b[0mnp\u001b[0m\u001b[0;34m.\u001b[0m\u001b[0miinfo\u001b[0m\u001b[0;34m(\u001b[0m\u001b[0;34m'i'\u001b[0m\u001b[0;34m)\u001b[0m\u001b[0;34m.\u001b[0m\u001b[0mmax\u001b[0m\u001b[0;34m)\u001b[0m\u001b[0;34m,\u001b[0m\u001b[0;34m\u001b[0m\u001b[0m\n\u001b[0;32m--> 890\u001b[0;31m         epsilon, sample_weight)\n\u001b[0m\u001b[1;32m    891\u001b[0m     \u001b[0;31m# Regarding rnd.randint(..) in the above signature:\u001b[0m\u001b[0;34m\u001b[0m\u001b[0;34m\u001b[0m\u001b[0m\n\u001b[1;32m    892\u001b[0m     \u001b[0;31m# seed for srand in range [0..INT_MAX); due to limitations in Numpy\u001b[0m\u001b[0;34m\u001b[0m\u001b[0;34m\u001b[0m\u001b[0m\n",
      "\u001b[0;31mKeyboardInterrupt\u001b[0m: "
     ]
    }
   ],
   "source": [
    "# clf = make_pipeline(\n",
    "#                     Vectorizer(),\n",
    "#                     MinMaxScaler(),\n",
    "#                     LogisticRegression(penalty='l2'))\n",
    "\n",
    "# I already vectorized the data in prev. cell. Let's just use Logistic regression\n",
    "\n",
    "cv = StratifiedKFold(n_splits = 10, shuffle = True, random_state = 42)\n",
    "clf = LogisticRegression()\n",
    "\n",
    "preds = np.empty(len(congruency._data))\n",
    "for train, test in cv.split(congruency_data, congruency_labels):\n",
    "    clf.fit(congruency_data[train], congruency_labels[train])\n",
    "    preds[test] = clf.predict(congruency_data[test])\n",
    "#     print(clf.score(congruency_data[test], congruency_labels[test]))\n",
    "    \n",
    "target_names = [ '133', '134']\n",
    "report = classification_report(congruency_labels, preds, target_names=target_names)\n",
    "print(report)"
   ]
  },
  {
   "cell_type": "code",
   "execution_count": 73,
   "metadata": {},
   "outputs": [
    {
     "ename": "ValueError",
     "evalue": "Found input variables with inconsistent numbers of samples: [640, 1280]",
     "output_type": "error",
     "traceback": [
      "\u001b[0;31m---------------------------------------------------------------------------\u001b[0m",
      "\u001b[0;31mValueError\u001b[0m                                Traceback (most recent call last)",
      "\u001b[0;32m<ipython-input-73-0e5e889def60>\u001b[0m in \u001b[0;36m<module>\u001b[0;34m()\u001b[0m\n\u001b[1;32m      6\u001b[0m \u001b[0;34m\u001b[0m\u001b[0m\n\u001b[1;32m      7\u001b[0m \u001b[0;34m\u001b[0m\u001b[0m\n\u001b[0;32m----> 8\u001b[0;31m \u001b[0mcm\u001b[0m \u001b[0;34m=\u001b[0m \u001b[0mconfusion_matrix\u001b[0m\u001b[0;34m(\u001b[0m\u001b[0mcongruency_labels\u001b[0m\u001b[0;34m,\u001b[0m \u001b[0mpreds\u001b[0m\u001b[0;34m)\u001b[0m\u001b[0;34m\u001b[0m\u001b[0m\n\u001b[0m\u001b[1;32m      9\u001b[0m \u001b[0mcm_normalized\u001b[0m \u001b[0;34m=\u001b[0m \u001b[0mcm\u001b[0m\u001b[0;34m.\u001b[0m\u001b[0mastype\u001b[0m\u001b[0;34m(\u001b[0m\u001b[0mfloat\u001b[0m\u001b[0;34m)\u001b[0m \u001b[0;34m/\u001b[0m \u001b[0mcm\u001b[0m\u001b[0;34m.\u001b[0m\u001b[0msum\u001b[0m\u001b[0;34m(\u001b[0m\u001b[0maxis\u001b[0m\u001b[0;34m=\u001b[0m\u001b[0;36m1\u001b[0m\u001b[0;34m)\u001b[0m\u001b[0;34m[\u001b[0m\u001b[0;34m:\u001b[0m\u001b[0;34m,\u001b[0m \u001b[0mnp\u001b[0m\u001b[0;34m.\u001b[0m\u001b[0mnewaxis\u001b[0m\u001b[0;34m]\u001b[0m\u001b[0;34m\u001b[0m\u001b[0m\n\u001b[1;32m     10\u001b[0m \u001b[0;34m\u001b[0m\u001b[0m\n",
      "\u001b[0;32m~/anaconda/envs/mne/lib/python3.6/site-packages/sklearn/metrics/classification.py\u001b[0m in \u001b[0;36mconfusion_matrix\u001b[0;34m(y_true, y_pred, labels, sample_weight)\u001b[0m\n\u001b[1;32m    248\u001b[0m \u001b[0;34m\u001b[0m\u001b[0m\n\u001b[1;32m    249\u001b[0m     \"\"\"\n\u001b[0;32m--> 250\u001b[0;31m     \u001b[0my_type\u001b[0m\u001b[0;34m,\u001b[0m \u001b[0my_true\u001b[0m\u001b[0;34m,\u001b[0m \u001b[0my_pred\u001b[0m \u001b[0;34m=\u001b[0m \u001b[0m_check_targets\u001b[0m\u001b[0;34m(\u001b[0m\u001b[0my_true\u001b[0m\u001b[0;34m,\u001b[0m \u001b[0my_pred\u001b[0m\u001b[0;34m)\u001b[0m\u001b[0;34m\u001b[0m\u001b[0m\n\u001b[0m\u001b[1;32m    251\u001b[0m     \u001b[0;32mif\u001b[0m \u001b[0my_type\u001b[0m \u001b[0;32mnot\u001b[0m \u001b[0;32min\u001b[0m \u001b[0;34m(\u001b[0m\u001b[0;34m\"binary\"\u001b[0m\u001b[0;34m,\u001b[0m \u001b[0;34m\"multiclass\"\u001b[0m\u001b[0;34m)\u001b[0m\u001b[0;34m:\u001b[0m\u001b[0;34m\u001b[0m\u001b[0m\n\u001b[1;32m    252\u001b[0m         \u001b[0;32mraise\u001b[0m \u001b[0mValueError\u001b[0m\u001b[0;34m(\u001b[0m\u001b[0;34m\"%s is not supported\"\u001b[0m \u001b[0;34m%\u001b[0m \u001b[0my_type\u001b[0m\u001b[0;34m)\u001b[0m\u001b[0;34m\u001b[0m\u001b[0m\n",
      "\u001b[0;32m~/anaconda/envs/mne/lib/python3.6/site-packages/sklearn/metrics/classification.py\u001b[0m in \u001b[0;36m_check_targets\u001b[0;34m(y_true, y_pred)\u001b[0m\n\u001b[1;32m     69\u001b[0m     \u001b[0my_pred\u001b[0m \u001b[0;34m:\u001b[0m \u001b[0marray\u001b[0m \u001b[0;32mor\u001b[0m \u001b[0mindicator\u001b[0m \u001b[0mmatrix\u001b[0m\u001b[0;34m\u001b[0m\u001b[0m\n\u001b[1;32m     70\u001b[0m     \"\"\"\n\u001b[0;32m---> 71\u001b[0;31m     \u001b[0mcheck_consistent_length\u001b[0m\u001b[0;34m(\u001b[0m\u001b[0my_true\u001b[0m\u001b[0;34m,\u001b[0m \u001b[0my_pred\u001b[0m\u001b[0;34m)\u001b[0m\u001b[0;34m\u001b[0m\u001b[0m\n\u001b[0m\u001b[1;32m     72\u001b[0m     \u001b[0mtype_true\u001b[0m \u001b[0;34m=\u001b[0m \u001b[0mtype_of_target\u001b[0m\u001b[0;34m(\u001b[0m\u001b[0my_true\u001b[0m\u001b[0;34m)\u001b[0m\u001b[0;34m\u001b[0m\u001b[0m\n\u001b[1;32m     73\u001b[0m     \u001b[0mtype_pred\u001b[0m \u001b[0;34m=\u001b[0m \u001b[0mtype_of_target\u001b[0m\u001b[0;34m(\u001b[0m\u001b[0my_pred\u001b[0m\u001b[0;34m)\u001b[0m\u001b[0;34m\u001b[0m\u001b[0m\n",
      "\u001b[0;32m~/anaconda/envs/mne/lib/python3.6/site-packages/sklearn/utils/validation.py\u001b[0m in \u001b[0;36mcheck_consistent_length\u001b[0;34m(*arrays)\u001b[0m\n\u001b[1;32m    202\u001b[0m     \u001b[0;32mif\u001b[0m \u001b[0mlen\u001b[0m\u001b[0;34m(\u001b[0m\u001b[0muniques\u001b[0m\u001b[0;34m)\u001b[0m \u001b[0;34m>\u001b[0m \u001b[0;36m1\u001b[0m\u001b[0;34m:\u001b[0m\u001b[0;34m\u001b[0m\u001b[0m\n\u001b[1;32m    203\u001b[0m         raise ValueError(\"Found input variables with inconsistent numbers of\"\n\u001b[0;32m--> 204\u001b[0;31m                          \" samples: %r\" % [int(l) for l in lengths])\n\u001b[0m\u001b[1;32m    205\u001b[0m \u001b[0;34m\u001b[0m\u001b[0m\n\u001b[1;32m    206\u001b[0m \u001b[0;34m\u001b[0m\u001b[0m\n",
      "\u001b[0;31mValueError\u001b[0m: Found input variables with inconsistent numbers of samples: [640, 1280]"
     ]
    }
   ],
   "source": [
    "# Normalized confusion matrix\n",
    "from sklearn.metrics import confusion_matrix\n",
    "from mne.viz import tight_layout\n",
    "\n",
    "target_names = [ '133', '134']\n",
    "\n",
    "\n",
    "cm = confusion_matrix(congruency_labels, preds)\n",
    "cm_normalized = cm.astype(float) / cm.sum(axis=1)[:, np.newaxis]\n",
    "\n",
    "# Plot confusion matrix\n",
    "plt.imshow(cm_normalized, interpolation='nearest', cmap=plt.cm.Blues)\n",
    "plt.title('Congruent vs. Incongruent -- Logistic Regression')\n",
    "plt.colorbar()\n",
    "tick_marks = np.arange(len(target_names))\n",
    "plt.xticks(tick_marks, target_names, rotation=45)\n",
    "plt.yticks(tick_marks, target_names)\n",
    "tight_layout()\n",
    "plt.ylabel('True label')\n",
    "plt.xlabel('Predicted label')\n",
    "plt.show()"
   ]
  },
  {
   "cell_type": "markdown",
   "metadata": {},
   "source": [
    "## Re-do experiment 2 -- Congruent vs. Incongruent, SVM"
   ]
  },
  {
   "cell_type": "code",
   "execution_count": 38,
   "metadata": {},
   "outputs": [
    {
     "name": "stdout",
     "output_type": "stream",
     "text": [
      "             precision    recall  f1-score   support\n",
      "\n",
      "        133       0.86      0.99      0.92       320\n",
      "        134       0.99      0.84      0.91       320\n",
      "\n",
      "avg / total       0.92      0.91      0.91       640\n",
      "\n"
     ]
    }
   ],
   "source": [
    "from sklearn.svm import SVC  # noqa\n",
    "from sklearn.model_selection import ShuffleSplit  # noqa\n",
    "\n",
    "cv2 = StratifiedKFold(n_splits = 10, shuffle = True, random_state = 42)\n",
    "svc = SVC(C=1, kernel='linear')\n",
    "\n",
    "\n",
    "clf2 = make_pipeline(\n",
    "                    Vectorizer(),\n",
    "                    MinMaxScaler(),\n",
    "                    svc)\n",
    "\n",
    "\n",
    "labels2 = congruency.events[:,-1]\n",
    "preds2 = np.empty(len(congruency._data))\n",
    "for train2, test2 in cv2.split(congruency._data, labels2):\n",
    "    clf2.fit(congruency_data[train2], labels2[train2])\n",
    "    preds2[test2] = clf.predict(congruency_data[test2])\n",
    "    \n",
    "target_names2 = [ '133', '134']\n",
    "report2 = classification_report(labels2, preds2, target_names=target_names2)\n",
    "print(report2)"
   ]
  },
  {
   "cell_type": "code",
   "execution_count": 68,
   "metadata": {},
   "outputs": [
    {
     "data": {
      "image/png": "[encoded data removed]",
      "text/plain": [
       "<Figure size 432x288 with 2 Axes>"
      ]
     },
     "metadata": {
      "needs_background": "light"
     },
     "output_type": "display_data"
    }
   ],
   "source": [
    "cm2 = confusion_matrix(congruency_labels, preds2)\n",
    "cm2_normalized = cm2.astype(float) / cm2.sum(axis=1)[:, np.newaxis]\n",
    "\n",
    "# Plot confusion matrix\n",
    "plt.imshow(cm2_normalized, interpolation='nearest', cmap=plt.cm.Blues)\n",
    "plt.title('Congruent vs. Incongruent -- SVM')\n",
    "plt.colorbar()\n",
    "tick_marks = np.arange(len(target_names))\n",
    "plt.xticks(tick_marks, target_names, rotation=45)\n",
    "plt.yticks(tick_marks, target_names)\n",
    "tight_layout()\n",
    "plt.ylabel('True label')\n",
    "plt.xlabel('Predicted label')\n",
    "plt.show()"
   ]
  },
  {
   "cell_type": "code",
   "execution_count": 40,
   "metadata": {},
   "outputs": [
    {
     "data": {
      "text/plain": [
       "640"
      ]
     },
     "execution_count": 40,
     "metadata": {},
     "output_type": "execute_result"
    }
   ],
   "source": [
    "len(preds2)"
   ]
  },
  {
   "cell_type": "markdown",
   "metadata": {},
   "source": [
    "## Another test to see if the pipeline is okay: classify two targets (t_baby vs t_bird)"
   ]
  },
  {
   "cell_type": "code",
   "execution_count": 46,
   "metadata": {},
   "outputs": [
    {
     "data": {
      "text/plain": [
       "array([136, 136, 136, 136, 136, 136, 136, 136, 136, 136, 135, 135, 135,\n",
       "       135, 135, 135, 135, 135, 135, 135, 136, 136, 136, 136, 136, 136,\n",
       "       136, 136, 136, 136, 135, 135, 135, 135, 135, 135, 135, 135, 135,\n",
       "       135, 135, 135, 135, 135, 135, 135, 135, 135, 135, 135, 136, 136,\n",
       "       136, 136, 136, 136, 136, 136, 136, 136, 136, 136, 136, 136, 136,\n",
       "       136, 136, 136, 136, 136, 135, 135, 135, 135, 135, 135, 135, 135,\n",
       "       135, 135, 135, 135, 135, 135, 135, 135, 135, 135, 135, 135, 136,\n",
       "       136, 136, 136, 136, 136, 136, 136, 136, 136, 135, 135, 135, 135,\n",
       "       135, 135, 135, 135, 135, 135])"
      ]
     },
     "execution_count": 46,
     "metadata": {},
     "output_type": "execute_result"
    }
   ],
   "source": [
    "baby_bird = epoch[(epoch.events[:,-1] == 135) | (epoch.events[:,-1] == 136)]\n",
    "baby_bird_data = vectorizer.fit_transform(baby_bird._data)\n",
    "baby_bird_labels = baby_bird.events[:,-1]\n",
    "baby_bird_labels"
   ]
  },
  {
   "cell_type": "code",
   "execution_count": 47,
   "metadata": {},
   "outputs": [
    {
     "name": "stdout",
     "output_type": "stream",
     "text": [
      "             precision    recall  f1-score   support\n",
      "\n",
      "        135       0.84      0.87      0.85        60\n",
      "        136       0.83      0.80      0.82        50\n",
      "\n",
      "avg / total       0.84      0.84      0.84       110\n",
      "\n"
     ]
    }
   ],
   "source": [
    "cv3 = StratifiedKFold(n_splits = 10, shuffle = True, random_state = 42)\n",
    "clf3 = LogisticRegression()\n",
    "\n",
    "preds3 = np.empty(len(baby_bird._data))\n",
    "for train3, test3 in cv3.split(baby_bird_data, baby_bird_labels):\n",
    "    clf3.fit(baby_bird_data[train3], baby_bird_labels[train3])\n",
    "    preds3[test3] = clf3.predict(baby_bird_data[test3])\n",
    "#     print(clf.score(congruency_data[test], congruency_labels[test]))\n",
    "    \n",
    "target_names3 = [ '135', '136']\n",
    "report3 = classification_report(baby_bird_labels, preds3, target_names=target_names3)\n",
    "print(report3)"
   ]
  },
  {
   "cell_type": "code",
   "execution_count": 48,
   "metadata": {},
   "outputs": [
    {
     "data": {
      "image/png": "[encoded data removed]",
      "text/plain": [
       "<Figure size 432x288 with 2 Axes>"
      ]
     },
     "metadata": {
      "needs_background": "light"
     },
     "output_type": "display_data"
    }
   ],
   "source": [
    "cm3 = confusion_matrix(congruency_labels, preds2)\n",
    "cm3_normalized = cm3.astype(float) / cm3.sum(axis=1)[:, np.newaxis]\n",
    "\n",
    "# Plot confusion matrix\n",
    "plt.imshow(cm3_normalized, interpolation='nearest', cmap=plt.cm.Blues)\n",
    "plt.title('Congruent vs. Incongruent -- SVM')\n",
    "plt.colorbar()\n",
    "tick_marks = np.arange(len(target_names))\n",
    "plt.xticks(tick_marks, target_names, rotation=45)\n",
    "plt.yticks(tick_marks, target_names)\n",
    "tight_layout()\n",
    "plt.ylabel('True label')\n",
    "plt.xlabel('Predicted label')\n",
    "plt.show()"
   ]
  },
  {
   "cell_type": "code",
   "execution_count": null,
   "metadata": {},
   "outputs": [],
   "source": []
  }
 ],
 "metadata": {
  "kernelspec": {
   "display_name": "Python 3",
   "language": "python",
   "name": "python3"
  },
  "language_info": {
   "codemirror_mode": {
    "name": "ipython",
    "version": 3
   },
   "file_extension": ".py",
   "mimetype": "text/x-python",
   "name": "python",
   "nbconvert_exporter": "python",
   "pygments_lexer": "ipython3",
   "version": "3.6.6"
  }
 },
 "nbformat": 4,
 "nbformat_minor": 2
}
