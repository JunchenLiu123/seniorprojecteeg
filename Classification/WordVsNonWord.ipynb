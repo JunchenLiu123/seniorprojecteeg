{
 "cells": [
  {
   "cell_type": "code",
   "execution_count": 34,
   "metadata": {},
   "outputs": [
    {
     "name": "stderr",
     "output_type": "stream",
     "text": [
      "ERROR:root:File `'preprocecssing_helpers.ipynb.py'` not found.\n",
      "ERROR:root:File `'Batch_ArtifactFilter_Epoch.ipynb.py'` not found.\n"
     ]
    }
   ],
   "source": [
    "%run ../preprocessing/Artifact_Removal/preprocecssing_helpers.ipynb\n",
    "%run ../preprocessing/StimCodes.ipynb\n",
    "%run ../Classification/ConcatEpochTrails.ipynb\n",
    "%run ../PCA/Emmanuil-PCA.ipynb\n",
    "%run ../preprocessing/Artifact_Removal/Extract_Describer_Events.ipynb\n",
    "# %run ../preprocessing/frequency_bands.ipynb\n",
    "import matplotlib.pyplot as plt\n",
    "%matplotlib inline\n",
    "import matplotlib\n",
    "matplotlib.rcParams['figure.figsize'] = (20.0, 15.0)\n",
    "matplotlib.rcParams.update({'font.size': 15})\n",
    "import numpy as np\n",
    "\n",
    "import mne \n",
    "\n",
    "from mne.decoding import Vectorizer\n",
    "from sklearn.preprocessing import MinMaxScaler, Normalizer\n",
    "from sklearn.preprocessing import StandardScaler\n",
    "from sklearn.pipeline import make_pipeline\n",
    "from sklearn.linear_model import LogisticRegression\n",
    "from sklearn.model_selection import train_test_split\n",
    "from sklearn.model_selection import StratifiedKFold\n",
    "from sklearn.metrics import classification_report\n",
    "from sklearn.svm import SVC\n",
    "from sklearn.model_selection import ShuffleSplit\n",
    "\n",
    "from mne.decoding import UnsupervisedSpatialFilter\n",
    "from sklearn.decomposition import PCA\n",
    "\n",
    "from sklearn.metrics import confusion_matrix\n",
    "from mne.viz import tight_layout\n",
    "\n",
    "import time"
   ]
  },
  {
   "cell_type": "markdown",
   "metadata": {},
   "source": [
    "# Exploring Word vs Non-word classification\n",
    "* Non word vs word classification becomes more intriicate than just classifying audio vs visual.\n",
    "    * We can say that there are word vs non-word classification tasks for both Auditory and Visual stimuli."
   ]
  },
  {
   "cell_type": "code",
   "execution_count": 2,
   "metadata": {},
   "outputs": [
    {
     "data": {
      "text/plain": [
       "['20131216_1441_epo.fif',\n",
       " '20140205_1114_epo.fif',\n",
       " '20140205_1230_epo.fif',\n",
       " '20140206_1029_epo.fif',\n",
       " '20140206_1151_epo.fif',\n",
       " '20140207_1146_epo.fif',\n",
       " '20140207_1219_epo.fif',\n",
       " '20140217_1136_epo.fif',\n",
       " '20140217_1211_epo.fif',\n",
       " '20140219_1046_epo.fif',\n",
       " '20140219_1205_epo.fif',\n",
       " '20140220_1123_epo.fif',\n",
       " '20140225_1422_epo.fif',\n",
       " '20140227_1058_epo.fif',\n",
       " '20140227_1220_epo.fif',\n",
       " '20140227_1410_epo.fif',\n",
       " '20140304_1418_epo.fif',\n",
       " '20140306_1133_epo.fif',\n",
       " '20140306_1338_epo.fif',\n",
       " '20140313_1439_epo.fif',\n",
       " '20140313_1630_epo.fif',\n",
       " '20140314_1424_epo.fif',\n",
       " '20140314_1553_epo.fif',\n",
       " '20140318_1043_epo.fif',\n",
       " '20140318_1211_epo.fif',\n",
       " '20140319_1043_epo.fif',\n",
       " '20140319_1342_epo.fif',\n",
       " '20140320_1040_epo.fif',\n",
       " '20140320_1421_epo.fif',\n",
       " '20140324_1441_epo.fif',\n",
       " '20140324_1553_epo.fif',\n",
       " '20140325_1007_epo.fif',\n",
       " '20140327_1022_epo.fif',\n",
       " '20140331_1753_epo.fif',\n",
       " '20140402_1603_epo.fif',\n",
       " '20140402_1734_epo.fif',\n",
       " '20140404_1418_epo.fif',\n",
       " '20140404_1628_epo.fif',\n",
       " '20140410_1217_epo.fif',\n",
       " '20140410_1356_epo.fif',\n",
       " '20140411_0929_epo.fif',\n",
       " '20140411_1105_epo.fif',\n",
       " '20140415_1137_epo.fif',\n",
       " '20140415_1309_epo.fif',\n",
       " '20140418_1421_epo.fif',\n",
       " '20140418_1546_epo.fif',\n",
       " '20140423_1554_epo.fif',\n",
       " '20140424_1002_epo.fif',\n",
       " '20140424_1606_epo.fif',\n",
       " '20140428_0959_epo.fif',\n",
       " '20140430_1501_epo.fif',\n",
       " '20131216_1441_epo_epo.fif',\n",
       " '20140205_1114_epo_epo.fif',\n",
       " '20140205_1230_epo_epo.fif',\n",
       " '20140206_1029_epo_epo.fif',\n",
       " '20140206_1151_epo_epo.fif',\n",
       " '20140207_1146_epo_epo.fif',\n",
       " '20140207_1219_epo_epo.fif',\n",
       " '20140217_1136_epo_epo.fif',\n",
       " '20140217_1211_epo_epo.fif',\n",
       " '20140219_1046_epo_epo.fif',\n",
       " '20140219_1205_epo_epo.fif',\n",
       " '20140220_1123_epo_epo.fif',\n",
       " '20140225_1422_epo_epo.fif',\n",
       " '20140227_1058_epo_epo.fif',\n",
       " '20140227_1220_epo_epo.fif',\n",
       " '20140227_1410_epo_epo.fif',\n",
       " '20140304_1418_epo_epo.fif',\n",
       " '20140306_1133_epo_epo.fif',\n",
       " '20140306_1338_epo_epo.fif',\n",
       " '20140313_1439_epo_epo.fif',\n",
       " '20140313_1630_epo_epo.fif',\n",
       " '20140314_1424_epo_epo.fif',\n",
       " '20140314_1553_epo_epo.fif',\n",
       " '20140318_1043_epo_epo.fif',\n",
       " '20140318_1211_epo_epo.fif',\n",
       " '20140319_1043_epo_epo.fif',\n",
       " '20140319_1342_epo_epo.fif',\n",
       " '20140320_1040_epo_epo.fif',\n",
       " '20140320_1421_epo_epo.fif',\n",
       " '20140324_1441_epo_epo.fif',\n",
       " '20140324_1553_epo_epo.fif',\n",
       " '20140325_1007_epo_epo.fif',\n",
       " '20140327_1022_epo_epo.fif',\n",
       " '20140331_1753_epo_epo.fif',\n",
       " '20140402_1603_epo_epo.fif',\n",
       " '20140402_1734_epo_epo.fif',\n",
       " '20140404_1418_epo_epo.fif',\n",
       " '20140404_1628_epo_epo.fif',\n",
       " '20140410_1217_epo_epo.fif',\n",
       " '20140410_1356_epo_epo.fif',\n",
       " '20140411_0929_epo_epo.fif',\n",
       " '20140411_1105_epo_epo.fif',\n",
       " '20140415_1137_epo_epo.fif',\n",
       " '20140415_1309_epo_epo.fif',\n",
       " '20140418_1421_epo_epo.fif',\n",
       " '20140418_1546_epo_epo.fif',\n",
       " '20140423_1554_epo_epo.fif',\n",
       " '20140424_1002_epo_epo.fif',\n",
       " '20140424_1606_epo_epo.fif',\n",
       " '20140428_0959_epo_epo.fif',\n",
       " '20140430_1501_epo_epo.fif']"
      ]
     },
     "execution_count": 2,
     "metadata": {},
     "output_type": "execute_result"
    }
   ],
   "source": [
    "path = 'E:\\stim_code_epochs'\n",
    "epoch_files = os.listdir(path)\n",
    "epoch_files"
   ]
  },
  {
   "cell_type": "markdown",
   "metadata": {},
   "source": [
    "## Visualization of Word vs Non-word EEG"
   ]
  },
  {
   "cell_type": "code",
   "execution_count": 3,
   "metadata": {},
   "outputs": [
    {
     "name": "stdout",
     "output_type": "stream",
     "text": [
      "Reading E:\\stim_code_epochs\\20140205_1230_epo.fif ...\n",
      "    Found the data of interest:\n",
      "        t =       0.00 ...    1949.22 ms\n",
      "        0 CTF compensation matrices available\n",
      "978 matching events found\n",
      "Applying baseline correction (mode: mean)\n",
      "978 matching events found\n",
      "Applying baseline correction (mode: mean)\n",
      "Not setting metadata\n",
      "0 projection items activated\n"
     ]
    }
   ],
   "source": [
    "epoch = mne.read_epochs(os.path.join(path,epoch_files[2]), preload = True)"
   ]
  },
  {
   "cell_type": "code",
   "execution_count": 4,
   "metadata": {},
   "outputs": [],
   "source": [
    "new_events = convert_epoch_events_to_stim_combinations(epoch_object=epoch)\n",
    "epoch.events = new_events"
   ]
  },
  {
   "cell_type": "code",
   "execution_count": 5,
   "metadata": {},
   "outputs": [],
   "source": [
    "#montage file\n",
    "if 'Nasium' in epoch.ch_names:\n",
    "    epoch.drop_channels(ch_names=['Nasium', 'LL4', 'L12', 'VEOG']);\n",
    "montage = mne.channels.read_montage(kind = 'ANT_DukeWaveGuard_128_electrode_montages_updated_V4')\n",
    "epoch.set_montage(montage);\n"
   ]
  },
  {
   "cell_type": "code",
   "execution_count": 6,
   "metadata": {},
   "outputs": [
    {
     "data": {
      "text/plain": [
       "array([[  7480,      0,    112],\n",
       "       [  7730,      0,    112],\n",
       "       [  7997,      0,    112],\n",
       "       ...,\n",
       "       [417664,      0,   1112],\n",
       "       [417922,      0,   1112],\n",
       "       [418189,      0,   1112]])"
      ]
     },
     "execution_count": 6,
     "metadata": {},
     "output_type": "execute_result"
    }
   ],
   "source": [
    "epoch.events"
   ]
  },
  {
   "cell_type": "code",
   "execution_count": 7,
   "metadata": {},
   "outputs": [
    {
     "data": {
      "text/plain": [
       "{'AALL': 112,\n",
       " 'AALN': 212,\n",
       " 'AANL': 312,\n",
       " 'AANN': 412,\n",
       " 'AVLL': 512,\n",
       " 'AVNN': 612,\n",
       " 'VALL': 712,\n",
       " 'VANN': 812,\n",
       " 'VVLL': 912,\n",
       " 'VVLN': 1012,\n",
       " 'VVNL': 1112,\n",
       " 'VVNN': 1212}"
      ]
     },
     "execution_count": 7,
     "metadata": {},
     "output_type": "execute_result"
    }
   ],
   "source": [
    "modality_lexicality_event_ids"
   ]
  },
  {
   "cell_type": "code",
   "execution_count": 8,
   "metadata": {},
   "outputs": [],
   "source": [
    "epoch.event_id = modality_lexicality_event_ids"
   ]
  },
  {
   "cell_type": "code",
   "execution_count": 9,
   "metadata": {},
   "outputs": [],
   "source": [
    "def get_frequency_band(band, epoch_object):\n",
    "    \"\"\"\n",
    "    Description:\n",
    "        returns an epoch object with a filtered frequency band\n",
    "    \n",
    "    Variables: \n",
    "        band : \n",
    "            'Theta':(4,7),\n",
    "            'Alpha':(8,12),\n",
    "            'Beta':(13,25),\n",
    "            'Gamma':(30,45)\n",
    "        epoch_object: mne.epoch\n",
    "    -----\n",
    "    returns: epoch object\n",
    "    \n",
    "    \"\"\"\n",
    "    iter_freqs = {\n",
    "        'Theta':(4,7),\n",
    "        'Alpha':(8,12),\n",
    "        'Beta':(13,25),\n",
    "        'Gamma':(30,45)\n",
    "    }\n",
    "    copy_epoch = epoch_object.copy()\n",
    "    copy_epoch.filter(l_freq= iter_freqs[band][0],\n",
    "                    h_freq = iter_freqs[band][1])\n",
    "    \n",
    "    return copy_epoch\n"
   ]
  },
  {
   "cell_type": "code",
   "execution_count": 10,
   "metadata": {},
   "outputs": [
    {
     "name": "stdout",
     "output_type": "stream",
     "text": [
      "Setting up band-pass filter from 30 - 45 Hz\n",
      "l_trans_bandwidth chosen to be 7.5 Hz\n",
      "h_trans_bandwidth chosen to be 11.2 Hz\n",
      "Filter length of 113 samples (0.441 sec) selected\n"
     ]
    }
   ],
   "source": [
    "gamma_epoch = get_frequency_band('Gamma', epoch)"
   ]
  },
  {
   "cell_type": "code",
   "execution_count": 11,
   "metadata": {},
   "outputs": [],
   "source": [
    "mean_stats = get_mean_band(gamma_epoch)\n",
    "mean_stats = mean_stats.swapaxes(1,2)"
   ]
  },
  {
   "cell_type": "code",
   "execution_count": 12,
   "metadata": {},
   "outputs": [],
   "source": [
    "# Separate word and non-word events by audio and visual.\n",
    "for event in epoch.events:\n",
    "    first_digit = int(str(event[-1])[0])\n",
    "    if first_digit%2 != 0:\n",
    "        event[-1] = 100 #lexical\n",
    "    else:\n",
    "        event[-1] = 101 # non-lexical"
   ]
  },
  {
   "cell_type": "code",
   "execution_count": 13,
   "metadata": {},
   "outputs": [
    {
     "name": "stdout",
     "output_type": "stream",
     "text": [
      "clf elapsed time: 0.0\n"
     ]
    },
    {
     "name": "stderr",
     "output_type": "stream",
     "text": [
      "C:\\Users\\Emmanuil\\Anaconda3\\envs\\mne\\lib\\site-packages\\sklearn\\linear_model\\logistic.py:432: FutureWarning: Default solver will be changed to 'lbfgs' in 0.22. Specify a solver to silence this warning.\n",
      "  FutureWarning)\n"
     ]
    },
    {
     "name": "stdout",
     "output_type": "stream",
     "text": [
      "kfold elapsed time: 0.3481175899505615\n",
      "kfold elapsed time: 0.18450641632080078\n"
     ]
    },
    {
     "name": "stderr",
     "output_type": "stream",
     "text": [
      "C:\\Users\\Emmanuil\\Anaconda3\\envs\\mne\\lib\\site-packages\\sklearn\\linear_model\\logistic.py:432: FutureWarning: Default solver will be changed to 'lbfgs' in 0.22. Specify a solver to silence this warning.\n",
      "  FutureWarning)\n",
      "C:\\Users\\Emmanuil\\Anaconda3\\envs\\mne\\lib\\site-packages\\sklearn\\linear_model\\logistic.py:432: FutureWarning: Default solver will be changed to 'lbfgs' in 0.22. Specify a solver to silence this warning.\n",
      "  FutureWarning)\n"
     ]
    },
    {
     "name": "stdout",
     "output_type": "stream",
     "text": [
      "kfold elapsed time: 0.11968016624450684\n"
     ]
    },
    {
     "name": "stderr",
     "output_type": "stream",
     "text": [
      "C:\\Users\\Emmanuil\\Anaconda3\\envs\\mne\\lib\\site-packages\\sklearn\\linear_model\\logistic.py:432: FutureWarning: Default solver will be changed to 'lbfgs' in 0.22. Specify a solver to silence this warning.\n",
      "  FutureWarning)\n"
     ]
    },
    {
     "name": "stdout",
     "output_type": "stream",
     "text": [
      "kfold elapsed time: 0.22739267349243164\n"
     ]
    },
    {
     "name": "stderr",
     "output_type": "stream",
     "text": [
      "C:\\Users\\Emmanuil\\Anaconda3\\envs\\mne\\lib\\site-packages\\sklearn\\linear_model\\logistic.py:432: FutureWarning: Default solver will be changed to 'lbfgs' in 0.22. Specify a solver to silence this warning.\n",
      "  FutureWarning)\n"
     ]
    },
    {
     "name": "stdout",
     "output_type": "stream",
     "text": [
      "kfold elapsed time: 0.2433490753173828\n",
      "classification elapsed time: 1.1250133514404297\n",
      "              precision    recall  f1-score   support\n",
      "\n",
      "     Lexical       0.65      0.66      0.65       558\n",
      " Non-Lexical       0.53      0.52      0.53       420\n",
      "\n",
      "   micro avg       0.60      0.60      0.60       978\n",
      "   macro avg       0.59      0.59      0.59       978\n",
      "weighted avg       0.60      0.60      0.60       978\n",
      "\n",
      "reporting elapsed time: 0.0029916763305664062\n"
     ]
    }
   ],
   "source": [
    "# classification pipeline\n",
    "start = time.time()\n",
    "clf = make_pipeline(Vectorizer(),\n",
    "                    StandardScaler(),\n",
    "                    LogisticRegression(penalty='l1'))\n",
    "end = time.time()\n",
    "print(\"clf elapsed time: {0}\".format(end - start))\n",
    "\n",
    "start_master = time.time()\n",
    "cv = StratifiedKFold(n_splits=5, shuffle = True, random_state = 42)\n",
    "\n",
    "labels = epoch.events[:,-1]\n",
    "preds = np.empty(len(mean_stats))\n",
    "for train, test in cv.split(mean_stats, labels):\n",
    "    start = time.time()\n",
    "    clf.fit(mean_stats[train], labels[train])\n",
    "    preds[test] = clf.predict(mean_stats[test])\n",
    "    end = time.time()\n",
    "    print(\"kfold elapsed time: {0}\".format(end - start))\n",
    "end = time.time()\n",
    "print(\"classification elapsed time: {0}\".format(end - start_master))\n",
    "\n",
    "\n",
    "start = time.time()\n",
    "target_names = ['Lexical', 'Non-Lexical']\n",
    "report = classification_report(labels, preds, target_names=target_names)\n",
    "print(report)\n",
    "end = time.time()\n",
    "print(\"reporting elapsed time: {0}\".format(end - start))"
   ]
  },
  {
   "cell_type": "code",
   "execution_count": 14,
   "metadata": {},
   "outputs": [
    {
     "data": {
      "image/png": "[encoded data removed]",
      "text/plain": [
       "<Figure size 432x288 with 2 Axes>"
      ]
     },
     "metadata": {
      "needs_background": "light"
     },
     "output_type": "display_data"
    }
   ],
   "source": [
    "cm3 = confusion_matrix(labels, preds)\n",
    "cm3_normalized = cm3.astype(float) / cm3.sum(axis=1)[:, np.newaxis]\n",
    "\n",
    "# Plot confusion matrix\n",
    "plt.imshow(cm3_normalized, interpolation='nearest', cmap=plt.cm.Blues)\n",
    "plt.title('Lexical vs. Non-Lexical', size = 20)\n",
    "plt.colorbar()\n",
    "tick_marks = np.arange(len(target_names))\n",
    "plt.xticks(tick_marks, target_names, rotation=45, size = 20)\n",
    "plt.yticks(tick_marks, target_names,size = 20)\n",
    "tight_layout()\n",
    "plt.ylabel('True label',size = 20)\n",
    "plt.xlabel('Predicted label',size = 20)\n",
    "plt.show()"
   ]
  },
  {
   "cell_type": "code",
   "execution_count": 16,
   "metadata": {},
   "outputs": [],
   "source": [
    "#  X_train, X_test, y_train, y_test = train_test_split(gamma_epoch.get_data())"
   ]
  },
  {
   "cell_type": "code",
   "execution_count": 17,
   "metadata": {},
   "outputs": [],
   "source": [
    "visual_channels = ['RC7','RD7','RE4','R12','R13','RR12','RR13',\n",
    "                   'LC7','LD7',';LE4','L12','L13','LL12','LL13']\n",
    "audio_channels = [x for x in epoch.ch_names if 'LD' in x or 'LC' in x or 'LA' in x\n",
    "                  or 'RD' in x or 'RC' in x or 'RA' in x]"
   ]
  },
  {
   "cell_type": "code",
   "execution_count": 18,
   "metadata": {},
   "outputs": [
    {
     "data": {
      "text/plain": [
       "<EpochsFIF  |   978 events (all good), 0 - 1.94922 sec, baseline [0, 0], ~171.8 MB, data loaded,\n",
       " 'AALL': 0\n",
       " 'AALN': 0\n",
       " 'AANL': 0\n",
       " 'AANN': 0\n",
       " 'AVLL': 0\n",
       " 'AVNN': 0\n",
       " 'VALL': 0\n",
       " 'VANN': 0\n",
       " 'VVLL': 0\n",
       " 'VVLN': 0\n",
       " 'VVNL': 0\n",
       " 'VVNN': 0>"
      ]
     },
     "execution_count": 18,
     "metadata": {},
     "output_type": "execute_result"
    }
   ],
   "source": [
    "bad_channels = []\n",
    "for ch in epoch.ch_names:\n",
    "    if ch not in visual_channels and ch not in audio_channels:\n",
    "        bad_channels.append(ch)\n",
    "epoch.drop_channels(ch_names= bad_channels)"
   ]
  },
  {
   "cell_type": "code",
   "execution_count": 19,
   "metadata": {},
   "outputs": [
    {
     "data": {
      "text/plain": [
       "(978, 46, 500)"
      ]
     },
     "execution_count": 19,
     "metadata": {},
     "output_type": "execute_result"
    }
   ],
   "source": [
    "epoch.get_data().shape"
   ]
  },
  {
   "cell_type": "code",
   "execution_count": 20,
   "metadata": {},
   "outputs": [
    {
     "name": "stdout",
     "output_type": "stream",
     "text": [
      "Setting up band-pass filter from 30 - 45 Hz\n",
      "l_trans_bandwidth chosen to be 7.5 Hz\n",
      "h_trans_bandwidth chosen to be 11.2 Hz\n",
      "Filter length of 113 samples (0.441 sec) selected\n"
     ]
    }
   ],
   "source": [
    "gamma_epoch = get_frequency_band('Gamma', epoch)"
   ]
  },
  {
   "cell_type": "code",
   "execution_count": 21,
   "metadata": {},
   "outputs": [],
   "source": [
    "mean_stats = get_mean_band(gamma_epoch)\n",
    "mean_stats = mean_stats.swapaxes(1,2)"
   ]
  },
  {
   "cell_type": "code",
   "execution_count": 22,
   "metadata": {
    "scrolled": false
   },
   "outputs": [
    {
     "name": "stdout",
     "output_type": "stream",
     "text": [
      "clf elapsed time: 0.0\n",
      "kfold elapsed time: 0.15358757972717285\n"
     ]
    },
    {
     "name": "stderr",
     "output_type": "stream",
     "text": [
      "C:\\Users\\Emmanuil\\Anaconda3\\envs\\mne\\lib\\site-packages\\sklearn\\linear_model\\logistic.py:432: FutureWarning: Default solver will be changed to 'lbfgs' in 0.22. Specify a solver to silence this warning.\n",
      "  FutureWarning)\n",
      "C:\\Users\\Emmanuil\\Anaconda3\\envs\\mne\\lib\\site-packages\\sklearn\\linear_model\\logistic.py:432: FutureWarning: Default solver will be changed to 'lbfgs' in 0.22. Specify a solver to silence this warning.\n",
      "  FutureWarning)\n"
     ]
    },
    {
     "name": "stdout",
     "output_type": "stream",
     "text": [
      "kfold elapsed time: 0.06482648849487305\n",
      "kfold elapsed time: 0.05485367774963379\n",
      "kfold elapsed time: 0.07978606224060059\n"
     ]
    },
    {
     "name": "stderr",
     "output_type": "stream",
     "text": [
      "C:\\Users\\Emmanuil\\Anaconda3\\envs\\mne\\lib\\site-packages\\sklearn\\linear_model\\logistic.py:432: FutureWarning: Default solver will be changed to 'lbfgs' in 0.22. Specify a solver to silence this warning.\n",
      "  FutureWarning)\n",
      "C:\\Users\\Emmanuil\\Anaconda3\\envs\\mne\\lib\\site-packages\\sklearn\\linear_model\\logistic.py:432: FutureWarning: Default solver will be changed to 'lbfgs' in 0.22. Specify a solver to silence this warning.\n",
      "  FutureWarning)\n",
      "C:\\Users\\Emmanuil\\Anaconda3\\envs\\mne\\lib\\site-packages\\sklearn\\linear_model\\logistic.py:432: FutureWarning: Default solver will be changed to 'lbfgs' in 0.22. Specify a solver to silence this warning.\n",
      "  FutureWarning)\n"
     ]
    },
    {
     "name": "stdout",
     "output_type": "stream",
     "text": [
      "kfold elapsed time: 0.118682861328125\n",
      "classification elapsed time: 0.47572779655456543\n",
      "              precision    recall  f1-score   support\n",
      "\n",
      "     Lexical       0.63      0.72      0.67       558\n",
      " Non-Lexical       0.54      0.44      0.48       420\n",
      "\n",
      "   micro avg       0.60      0.60      0.60       978\n",
      "   macro avg       0.58      0.58      0.58       978\n",
      "weighted avg       0.59      0.60      0.59       978\n",
      "\n",
      "reporting elapsed time: 0.0019948482513427734\n"
     ]
    }
   ],
   "source": [
    "# classification pipeline\n",
    "start = time.time()\n",
    "clf = make_pipeline(Vectorizer(),\n",
    "                    StandardScaler(),\n",
    "                    LogisticRegression(penalty='l1'))\n",
    "end = time.time()\n",
    "print(\"clf elapsed time: {0}\".format(end - start))\n",
    "\n",
    "start_master = time.time()\n",
    "cv = StratifiedKFold(n_splits=5, shuffle = True, random_state = 42)\n",
    "\n",
    "labels = epoch.events[:,-1]\n",
    "preds = np.empty(len(mean_stats))\n",
    "for train, test in cv.split(mean_stats, labels):\n",
    "    start = time.time()\n",
    "    clf.fit(mean_stats[train], labels[train])\n",
    "    preds[test] = clf.predict(mean_stats[test])\n",
    "    end = time.time()\n",
    "    print(\"kfold elapsed time: {0}\".format(end - start))\n",
    "end = time.time()\n",
    "print(\"classification elapsed time: {0}\".format(end - start_master))\n",
    "\n",
    "\n",
    "start = time.time()\n",
    "target_names = ['Lexical', 'Non-Lexical']\n",
    "report = classification_report(labels, preds, target_names=target_names)\n",
    "print(report)\n",
    "end = time.time()\n",
    "print(\"reporting elapsed time: {0}\".format(end - start))"
   ]
  },
  {
   "cell_type": "code",
   "execution_count": 23,
   "metadata": {},
   "outputs": [],
   "source": [
    "# Lexical vs Non-Lexical needs more though..."
   ]
  },
  {
   "cell_type": "code",
   "execution_count": 24,
   "metadata": {},
   "outputs": [
    {
     "name": "stdout",
     "output_type": "stream",
     "text": [
      "Reading E:\\stim_code_epochs\\20140205_1230_epo.fif ...\n",
      "    Found the data of interest:\n",
      "        t =       0.00 ...    1949.22 ms\n",
      "        0 CTF compensation matrices available\n",
      "978 matching events found\n",
      "Applying baseline correction (mode: mean)\n",
      "978 matching events found\n",
      "Applying baseline correction (mode: mean)\n",
      "Not setting metadata\n",
      "0 projection items activated\n",
      "Reading E:\\stim_code_epochs\\20140206_1029_epo.fif ...\n",
      "    Found the data of interest:\n",
      "        t =       0.00 ...    1949.22 ms\n",
      "        0 CTF compensation matrices available\n",
      "949 matching events found\n",
      "Applying baseline correction (mode: mean)\n",
      "949 matching events found\n",
      "Applying baseline correction (mode: mean)\n",
      "Not setting metadata\n",
      "0 projection items activated\n"
     ]
    }
   ],
   "source": [
    "epoch_1 = mne.read_epochs(os.path.join(path,epoch_files[2]), preload = True)\n",
    "epoch_2 = mne.read_epochs(os.path.join(path,epoch_files[3]), preload = True)"
   ]
  },
  {
   "cell_type": "code",
   "execution_count": 25,
   "metadata": {},
   "outputs": [
    {
     "name": "stdout",
     "output_type": "stream",
     "text": [
      "1927 matching events found\n",
      "Applying baseline correction (mode: mean)\n",
      "Not setting metadata\n",
      "0 bad epochs dropped\n"
     ]
    }
   ],
   "source": [
    "epoch = mne.concatenate_epochs([epoch_1, epoch_2])"
   ]
  },
  {
   "cell_type": "code",
   "execution_count": 26,
   "metadata": {},
   "outputs": [],
   "source": [
    "#montage file\n",
    "if 'Nasium' in epoch.ch_names:\n",
    "    epoch.drop_channels(ch_names=['Nasium', 'LL4', 'L12', 'VEOG']);\n",
    "montage = mne.channels.read_montage(kind = 'ANT_DukeWaveGuard_128_electrode_montages_updated_V4')\n",
    "epoch.set_montage(montage);"
   ]
  },
  {
   "cell_type": "code",
   "execution_count": 27,
   "metadata": {},
   "outputs": [],
   "source": [
    "#split by audio and visual \n",
    "## Visual - Lexical vs Non-Lexical\n",
    "\n",
    "new_events = convert_epoch_events_to_stim_combinations(epoch)\n",
    "epoch = epoch[:-1]\n",
    "epoch.events = new_events"
   ]
  },
  {
   "cell_type": "code",
   "execution_count": 28,
   "metadata": {},
   "outputs": [],
   "source": [
    "epoch.event_id = modality_lexicality_event_ids"
   ]
  },
  {
   "cell_type": "code",
   "execution_count": 29,
   "metadata": {},
   "outputs": [
    {
     "data": {
      "text/plain": [
       "{'AALL': 112,\n",
       " 'AALN': 212,\n",
       " 'AANL': 312,\n",
       " 'AANN': 412,\n",
       " 'AVLL': 512,\n",
       " 'AVNN': 612,\n",
       " 'VALL': 712,\n",
       " 'VANN': 812,\n",
       " 'VVLL': 912,\n",
       " 'VVLN': 1012,\n",
       " 'VVNL': 1112,\n",
       " 'VVNN': 1212}"
      ]
     },
     "execution_count": 29,
     "metadata": {},
     "output_type": "execute_result"
    }
   ],
   "source": [
    "modality_lexicality_event_ids"
   ]
  },
  {
   "cell_type": "code",
   "execution_count": 30,
   "metadata": {},
   "outputs": [],
   "source": [
    "#seprate labels into 4 differnt types.\n",
    "# audio - lexical \n",
    "# audio - non-lexical\n",
    "# visual- lexical\n",
    "# visual- non-lexical\n",
    "\n",
    "for event in epoch.events:\n",
    "    first_digit = int(str(event[-1])[0])\n",
    "    if event[-1] < 700  and first_digit %2 !=0:\n",
    "        #Audio - lexical\n",
    "        event[-1] = 100\n",
    "    elif event[-1] < 700 and first_digit%2 == 0:\n",
    "        #Audio - non-lexical\n",
    "        event[-1] = 101\n",
    "    elif event[-1] >700 and first_digit%2 !=0:\n",
    "        #Visual - lexical\n",
    "        event[-1] = 200\n",
    "    else:\n",
    "        # Visual non-lexical\n",
    "        event[-1] = 201"
   ]
  },
  {
   "cell_type": "code",
   "execution_count": 31,
   "metadata": {},
   "outputs": [
    {
     "name": "stdout",
     "output_type": "stream",
     "text": [
      "Setting up band-pass filter from 30 - 45 Hz\n",
      "l_trans_bandwidth chosen to be 7.5 Hz\n",
      "h_trans_bandwidth chosen to be 11.2 Hz\n",
      "Filter length of 113 samples (0.441 sec) selected\n"
     ]
    }
   ],
   "source": [
    "# get gamma frequency\n",
    "gamma_epoch = get_frequency_band('Gamma', epoch[:-1])"
   ]
  },
  {
   "cell_type": "code",
   "execution_count": 32,
   "metadata": {},
   "outputs": [
    {
     "data": {
      "text/plain": [
       "(1925, 125, 500)"
      ]
     },
     "execution_count": 32,
     "metadata": {},
     "output_type": "execute_result"
    }
   ],
   "source": [
    "gamma_epoch.get_data().shape"
   ]
  },
  {
   "cell_type": "code",
   "execution_count": 33,
   "metadata": {},
   "outputs": [],
   "source": [
    "mean_stats = get_mean_band(gamma_epoch)\n",
    "mean_stats = mean_stats.swapaxes(1,2)"
   ]
  },
  {
   "cell_type": "code",
   "execution_count": 48,
   "metadata": {},
   "outputs": [],
   "source": [
    "#extract each type of audio/visual - lexical/non-lexical event\n",
    "audio_lexical = gamma_epoch[gamma_epoch.events[:,-1] == 100]\n",
    "audio_non_lexical = gamma_epoch[gamma_epoch.events[:,-1] == 101]\n",
    "visual_lexical = gamma_epoch[gamma_epoch.events[:,-1] == 200]\n",
    "visual_non_lexical = gamma_epoch[gamma_epoch.events[:,-1] == 201]"
   ]
  },
  {
   "cell_type": "code",
   "execution_count": 86,
   "metadata": {},
   "outputs": [
    {
     "name": "stdout",
     "output_type": "stream",
     "text": [
      "(354, 125, 500)\n",
      "(590, 125, 500)\n",
      "(681, 125, 500)\n",
      "(300, 125, 500)\n"
     ]
    }
   ],
   "source": [
    "print(audio_lexical.get_data().shape)\n",
    "print(audio_non_lexical.get_data().shape)\n",
    "print(visual_lexical.get_data().shape)\n",
    "print(visual_non_lexical.get_data().shape)"
   ]
  },
  {
   "cell_type": "code",
   "execution_count": 91,
   "metadata": {},
   "outputs": [],
   "source": [
    "# combine audio_lexical and audio-nonlexical\n",
    "audio_lexical_data = audio_lexical.get_data()\n",
    "audio_non_lexical_data = audio_non_lexical.get_data()[:354]\n",
    "audio_lexicality_data = np.concatenate((audio_lexical_data, audio_non_lexical_data))\n",
    "audio_lexicality_labels = np.concatenate((audio_lexical.events[:,-1], audio_non_lexical[:354].events[:,-1]))"
   ]
  },
  {
   "cell_type": "code",
   "execution_count": 105,
   "metadata": {},
   "outputs": [],
   "source": [
    "mean_stats = get_mean_band(audio_lexicality_data)\n",
    "mean_stats = mean_stats.swapaxes(1,2)"
   ]
  },
  {
   "cell_type": "code",
   "execution_count": 106,
   "metadata": {},
   "outputs": [
    {
     "data": {
      "text/plain": [
       "(708, 125, 3)"
      ]
     },
     "execution_count": 106,
     "metadata": {},
     "output_type": "execute_result"
    }
   ],
   "source": [
    "mean_stats.shape"
   ]
  },
  {
   "cell_type": "code",
   "execution_count": 124,
   "metadata": {},
   "outputs": [
    {
     "data": {
      "text/plain": [
       "(708, 125, 500)"
      ]
     },
     "execution_count": 124,
     "metadata": {},
     "output_type": "execute_result"
    }
   ],
   "source": [
    "audio_lexicality_data.shape"
   ]
  },
  {
   "cell_type": "code",
   "execution_count": 111,
   "metadata": {},
   "outputs": [
    {
     "name": "stdout",
     "output_type": "stream",
     "text": [
      "clf elapsed time: 0.0009970664978027344\n",
      "kfold elapsed time: 0.05884265899658203\n",
      "kfold elapsed time: 0.06682085990905762\n",
      "kfold elapsed time: 0.05684781074523926\n"
     ]
    },
    {
     "name": "stderr",
     "output_type": "stream",
     "text": [
      "C:\\Users\\Emmanuil\\Anaconda3\\envs\\mne\\lib\\site-packages\\sklearn\\linear_model\\logistic.py:432: FutureWarning: Default solver will be changed to 'lbfgs' in 0.22. Specify a solver to silence this warning.\n",
      "  FutureWarning)\n",
      "C:\\Users\\Emmanuil\\Anaconda3\\envs\\mne\\lib\\site-packages\\sklearn\\linear_model\\logistic.py:432: FutureWarning: Default solver will be changed to 'lbfgs' in 0.22. Specify a solver to silence this warning.\n",
      "  FutureWarning)\n",
      "C:\\Users\\Emmanuil\\Anaconda3\\envs\\mne\\lib\\site-packages\\sklearn\\linear_model\\logistic.py:432: FutureWarning: Default solver will be changed to 'lbfgs' in 0.22. Specify a solver to silence this warning.\n",
      "  FutureWarning)\n"
     ]
    },
    {
     "name": "stdout",
     "output_type": "stream",
     "text": [
      "kfold elapsed time: 0.05385637283325195\n",
      "kfold elapsed time: 0.05784487724304199\n",
      "classification elapsed time: 0.2962076663970947\n",
      "                   precision    recall  f1-score   support\n",
      "\n",
      "    Audio Lexical       0.86      0.82      0.84       354\n",
      "Audio Non-Lexical       0.83      0.86      0.84       354\n",
      "\n",
      "        micro avg       0.84      0.84      0.84       708\n",
      "        macro avg       0.84      0.84      0.84       708\n",
      "     weighted avg       0.84      0.84      0.84       708\n",
      "\n",
      "reporting elapsed time: 0.0029926300048828125\n"
     ]
    },
    {
     "name": "stderr",
     "output_type": "stream",
     "text": [
      "C:\\Users\\Emmanuil\\Anaconda3\\envs\\mne\\lib\\site-packages\\sklearn\\linear_model\\logistic.py:432: FutureWarning: Default solver will be changed to 'lbfgs' in 0.22. Specify a solver to silence this warning.\n",
      "  FutureWarning)\n",
      "C:\\Users\\Emmanuil\\Anaconda3\\envs\\mne\\lib\\site-packages\\sklearn\\linear_model\\logistic.py:432: FutureWarning: Default solver will be changed to 'lbfgs' in 0.22. Specify a solver to silence this warning.\n",
      "  FutureWarning)\n"
     ]
    }
   ],
   "source": [
    "# classification pipeline\n",
    "start = time.time()\n",
    "clf = make_pipeline(Vectorizer(),\n",
    "                    StandardScaler(),\n",
    "                    LogisticRegression(penalty='l1'))\n",
    "end = time.time()\n",
    "print(\"clf elapsed time: {0}\".format(end - start))\n",
    "\n",
    "start_master = time.time()\n",
    "cv = StratifiedKFold(n_splits=5, shuffle = True, random_state = 42)\n",
    "\n",
    "labels = audio_lexicality_labels\n",
    "preds = np.empty(len(mean_stats))\n",
    "for train, test in cv.split(mean_stats, labels):\n",
    "    start = time.time()\n",
    "    clf.fit(mean_stats[train], labels[train])\n",
    "    preds[test] = clf.predict(mean_stats[test])\n",
    "    end = time.time()\n",
    "    print(\"kfold elapsed time: {0}\".format(end - start))\n",
    "end = time.time()\n",
    "print(\"classification elapsed time: {0}\".format(end - start_master))\n",
    "\n",
    "\n",
    "start = time.time()\n",
    "target_names = ['Audio Lexical', 'Audio Non-Lexical']\n",
    "report = classification_report(labels, preds, target_names=target_names)\n",
    "print(report)\n",
    "end = time.time()\n",
    "print(\"reporting elapsed time: {0}\".format(end - start))"
   ]
  },
  {
   "cell_type": "code",
   "execution_count": 108,
   "metadata": {},
   "outputs": [
    {
     "data": {
      "image/png": "[encoded data removed]",
      "text/plain": [
       "<Figure size 1440x1080 with 2 Axes>"
      ]
     },
     "metadata": {
      "needs_background": "light"
     },
     "output_type": "display_data"
    }
   ],
   "source": [
    "cm3 = confusion_matrix(labels, preds)\n",
    "cm3_normalized = cm3.astype(float) / cm3.sum(axis=1)[:, np.newaxis]\n",
    "\n",
    "# Plot confusion matrix\n",
    "plt.imshow(cm3_normalized, interpolation='nearest', cmap=plt.cm.Blues)\n",
    "plt.title('Audio Lexical vs. Audio Non-Lexical', size = 30)\n",
    "plt.colorbar()\n",
    "tick_marks = np.arange(len(target_names))\n",
    "plt.xticks(tick_marks, target_names, rotation=45, size = 30)\n",
    "plt.yticks(tick_marks, target_names,size = 30)\n",
    "tight_layout()\n",
    "plt.ylabel('True label',size = 30)\n",
    "plt.xlabel('Predicted label',size = 30)\n",
    "plt.show()"
   ]
  },
  {
   "cell_type": "code",
   "execution_count": 95,
   "metadata": {},
   "outputs": [
    {
     "data": {
      "text/plain": [
       "(1925, 125, 500)"
      ]
     },
     "execution_count": 95,
     "metadata": {},
     "output_type": "execute_result"
    }
   ],
   "source": [
    "gamma_epoch.get_data().shape"
   ]
  },
  {
   "cell_type": "code",
   "execution_count": 125,
   "metadata": {},
   "outputs": [],
   "source": [
    "visual_lexical_data = visual_lexical.get_data()[:300]\n",
    "visual_non_lexical_data = visual_non_lexical.get_data()\n",
    "visual_lexicality_data = np.concatenate((visual_lexical_data, visual_non_lexical_data))\n",
    "visual_lexicality_labels = np.concatenate((visual_lexical[:300].events[:,-1], visual_non_lexical.events[:,-1]))"
   ]
  },
  {
   "cell_type": "code",
   "execution_count": 126,
   "metadata": {},
   "outputs": [
    {
     "data": {
      "text/plain": [
       "(600, 125, 500)"
      ]
     },
     "execution_count": 126,
     "metadata": {},
     "output_type": "execute_result"
    }
   ],
   "source": [
    "visual_lexicality_data.shape"
   ]
  },
  {
   "cell_type": "code",
   "execution_count": 127,
   "metadata": {},
   "outputs": [],
   "source": [
    "visual_lexicality_mean_stats = (visual_lexicality_data)\n",
    "visual_lexicality_mean_stats = visual_lexicality_mean_stats.swapaxes(1,2)"
   ]
  },
  {
   "cell_type": "code",
   "execution_count": 128,
   "metadata": {},
   "outputs": [
    {
     "name": "stdout",
     "output_type": "stream",
     "text": [
      "clf elapsed time: 0.0\n"
     ]
    },
    {
     "name": "stderr",
     "output_type": "stream",
     "text": [
      "C:\\Users\\Emmanuil\\Anaconda3\\envs\\mne\\lib\\site-packages\\sklearn\\linear_model\\logistic.py:432: FutureWarning: Default solver will be changed to 'lbfgs' in 0.22. Specify a solver to silence this warning.\n",
      "  FutureWarning)\n"
     ]
    },
    {
     "name": "stdout",
     "output_type": "stream",
     "text": [
      "kfold elapsed time: 2.5491843223571777\n"
     ]
    },
    {
     "name": "stderr",
     "output_type": "stream",
     "text": [
      "C:\\Users\\Emmanuil\\Anaconda3\\envs\\mne\\lib\\site-packages\\sklearn\\linear_model\\logistic.py:432: FutureWarning: Default solver will be changed to 'lbfgs' in 0.22. Specify a solver to silence this warning.\n",
      "  FutureWarning)\n"
     ]
    },
    {
     "name": "stdout",
     "output_type": "stream",
     "text": [
      "kfold elapsed time: 2.5052990913391113\n"
     ]
    },
    {
     "name": "stderr",
     "output_type": "stream",
     "text": [
      "C:\\Users\\Emmanuil\\Anaconda3\\envs\\mne\\lib\\site-packages\\sklearn\\linear_model\\logistic.py:432: FutureWarning: Default solver will be changed to 'lbfgs' in 0.22. Specify a solver to silence this warning.\n",
      "  FutureWarning)\n"
     ]
    },
    {
     "name": "stdout",
     "output_type": "stream",
     "text": [
      "kfold elapsed time: 2.504304885864258\n"
     ]
    },
    {
     "name": "stderr",
     "output_type": "stream",
     "text": [
      "C:\\Users\\Emmanuil\\Anaconda3\\envs\\mne\\lib\\site-packages\\sklearn\\linear_model\\logistic.py:432: FutureWarning: Default solver will be changed to 'lbfgs' in 0.22. Specify a solver to silence this warning.\n",
      "  FutureWarning)\n"
     ]
    },
    {
     "name": "stdout",
     "output_type": "stream",
     "text": [
      "kfold elapsed time: 2.524249315261841\n"
     ]
    },
    {
     "name": "stderr",
     "output_type": "stream",
     "text": [
      "C:\\Users\\Emmanuil\\Anaconda3\\envs\\mne\\lib\\site-packages\\sklearn\\linear_model\\logistic.py:432: FutureWarning: Default solver will be changed to 'lbfgs' in 0.22. Specify a solver to silence this warning.\n",
      "  FutureWarning)\n"
     ]
    },
    {
     "name": "stdout",
     "output_type": "stream",
     "text": [
      "kfold elapsed time: 2.5262441635131836\n",
      "classification elapsed time: 12.61327075958252\n",
      "                    precision    recall  f1-score   support\n",
      "\n",
      "    Visual Lexical       0.55      0.60      0.57       300\n",
      "Visual Non-Lexical       0.56      0.51      0.53       300\n",
      "\n",
      "         micro avg       0.55      0.55      0.55       600\n",
      "         macro avg       0.55      0.55      0.55       600\n",
      "      weighted avg       0.55      0.55      0.55       600\n",
      "\n",
      "reporting elapsed time: 0.002991914749145508\n"
     ]
    }
   ],
   "source": [
    "# classification pipeline\n",
    "start = time.time()\n",
    "clf = make_pipeline(Vectorizer(),\n",
    "                    StandardScaler(),\n",
    "                    LogisticRegression(penalty='l1'))\n",
    "end = time.time()\n",
    "print(\"clf elapsed time: {0}\".format(end - start))\n",
    "\n",
    "start_master = time.time()\n",
    "cv = StratifiedKFold(n_splits=5, shuffle = True, random_state = 42)\n",
    "\n",
    "labels = visual_lexicality_labels\n",
    "preds = np.empty(len(visual_lexicality_mean_stats))\n",
    "for train, test in cv.split(visual_lexicality_mean_stats, labels):\n",
    "    start = time.time()\n",
    "    clf.fit(visual_lexicality_mean_stats[train], labels[train])\n",
    "    preds[test] = clf.predict(visual_lexicality_mean_stats[test])\n",
    "    end = time.time()\n",
    "    print(\"kfold elapsed time: {0}\".format(end - start))\n",
    "end = time.time()\n",
    "print(\"classification elapsed time: {0}\".format(end - start_master))\n",
    "\n",
    "\n",
    "start = time.time()\n",
    "target_names = ['Visual Lexical', 'Visual Non-Lexical']\n",
    "report = classification_report(labels, preds, target_names=target_names)\n",
    "print(report)\n",
    "end = time.time()\n",
    "print(\"reporting elapsed time: {0}\".format(end - start))"
   ]
  },
  {
   "cell_type": "code",
   "execution_count": 129,
   "metadata": {},
   "outputs": [
    {
     "data": {
      "image/png": "[encoded data removed]",
      "text/plain": [
       "<Figure size 1440x1080 with 2 Axes>"
      ]
     },
     "metadata": {
      "needs_background": "light"
     },
     "output_type": "display_data"
    }
   ],
   "source": [
    "cm3 = confusion_matrix(labels, preds)\n",
    "cm3_normalized = cm3.astype(float) / cm3.sum(axis=1)[:, np.newaxis]\n",
    "\n",
    "# Plot confusion matrix\n",
    "plt.imshow(cm3_normalized, interpolation='nearest', cmap=plt.cm.Blues)\n",
    "plt.title('Visual Lexical vs. Visual Non-Lexical', size = 30)\n",
    "plt.colorbar()\n",
    "tick_marks = np.arange(len(target_names))\n",
    "plt.xticks(tick_marks, target_names, rotation=45, size = 30)\n",
    "plt.yticks(tick_marks, target_names,size = 30)\n",
    "tight_layout()\n",
    "plt.ylabel('True label',size = 30)\n",
    "plt.xlabel('Predicted label',size = 30)\n",
    "plt.show()"
   ]
  },
  {
   "cell_type": "code",
   "execution_count": 119,
   "metadata": {},
   "outputs": [
    {
     "data": {
      "text/plain": [
       "(708, 3, 125)"
      ]
     },
     "execution_count": 119,
     "metadata": {},
     "output_type": "execute_result"
    }
   ],
   "source": [
    "visual_lexality_mean_stats.shape"
   ]
  },
  {
   "cell_type": "code",
   "execution_count": null,
   "metadata": {},
   "outputs": [],
   "source": []
  }
 ],
 "metadata": {
  "kernelspec": {
   "display_name": "Python 3",
   "language": "python",
   "name": "python3"
  },
  "language_info": {
   "codemirror_mode": {
    "name": "ipython",
    "version": 3
   },
   "file_extension": ".py",
   "mimetype": "text/x-python",
   "name": "python",
   "nbconvert_exporter": "python",
   "pygments_lexer": "ipython3",
   "version": "3.6.7"
  }
 },
 "nbformat": 4,
 "nbformat_minor": 2
}
