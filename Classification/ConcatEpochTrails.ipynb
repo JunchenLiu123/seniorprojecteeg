{
 "cells": [
  {
   "cell_type": "markdown",
   "metadata": {},
   "source": [
    "## Extract trails\n",
    "* This notebook will concatenate all epochs assoicated with a trail in to one data point.\n",
    "* The goal of this is to try to describe data as a binary label\n",
    "    * In other words a trail can be described as congruent or incongruent"
   ]
  },
  {
   "cell_type": "code",
   "execution_count": 136,
   "metadata": {},
   "outputs": [],
   "source": [
    "%run ../preprocessing/Artifact_Removal/preprocecssing_helpers.ipynb\n",
    "%run ../preprocessing/StimCodes.ipynb\n",
    "import os\n",
    "\n",
    "import mne\n",
    "from mne.preprocessing import ICA\n",
    "import numpy as np\n",
    "import matplotlib.pyplot as plt\n",
    "%matplotlib inline\n",
    "import matplotlib\n",
    "matplotlib.rcParams['figure.figsize'] = (10.0, 10.0)\n",
    "matplotlib.rcParams.update({'font.size': 15})\n",
    "\n",
    "import time\n",
    "\n",
    "from sklearn.preprocessing import StandardScaler, normalize"
   ]
  },
  {
   "cell_type": "code",
   "execution_count": 51,
   "metadata": {},
   "outputs": [
    {
     "name": "stdout",
     "output_type": "stream",
     "text": [
      "Reading E:\\EpochedEEG\\20131216_1441_epo.fif ...\n",
      "    Found the data of interest:\n",
      "        t =    -199.22 ...     500.00 ms\n",
      "        0 CTF compensation matrices available\n",
      "5424 matching events found\n",
      "Applying baseline correction (mode: mean)\n",
      "5424 matching events found\n",
      "Applying baseline correction (mode: mean)\n",
      "Not setting metadata\n",
      "0 projection items activated\n"
     ]
    }
   ],
   "source": [
    "path = 'E:\\EpochedEEG'\n",
    "epoch_files = os.listdir(path)\n",
    "file = os.path.join(path,epoch_files[0])\n",
    "epoch = mne.read_epochs(file, preload = True)"
   ]
  },
  {
   "cell_type": "code",
   "execution_count": 3,
   "metadata": {},
   "outputs": [],
   "source": [
    "#UPDATES THE STIM CODE EVENT_IDS TO THEIR CORRECT VALUES\n",
    "epoch = update_stim_code_event_ids(epoch)"
   ]
  },
  {
   "cell_type": "code",
   "execution_count": 4,
   "metadata": {
    "scrolled": true
   },
   "outputs": [
    {
     "data": {
      "text/plain": [
       "{'trail_start': 31,\n",
       " 'left_button': 131,\n",
       " 'right_button': 132,\n",
       " 'congruent': 133,\n",
       " 'incongruent': 134,\n",
       " 'correct': 129,\n",
       " 'incorrect': 130,\n",
       " 't_baby': 135,\n",
       " 't_bell': 136,\n",
       " 't_bird': 137,\n",
       " 't_burp': 138,\n",
       " 't_dog': 139,\n",
       " 't_drum': 140,\n",
       " 't_knock': 141,\n",
       " 't_laugh': 142,\n",
       " 't_phone': 143,\n",
       " 't_train': 144,\n",
       " 't_water': 145,\n",
       " 'f_baby': 155,\n",
       " 'f_bell': 156,\n",
       " 'f_bird': 157,\n",
       " 'f_burp': 158,\n",
       " 'f_dog': 159,\n",
       " 'f_drum': 160,\n",
       " 'f_knock': 161,\n",
       " 'f_laugh': 162,\n",
       " 'f_phone': 163,\n",
       " 'f_train': 164,\n",
       " 'f_water': 165,\n",
       " 'b-f2-wrd': 1,\n",
       " 'b-f1-wrd': 2,\n",
       " 'b-tg-wrd': 3,\n",
       " 'b-f2-spk': 4,\n",
       " 'b-f1-spk': 5,\n",
       " 'b-tg-spk': 6,\n",
       " 'b-f2-pic': 7,\n",
       " 'b-f1-pic': 8,\n",
       " 'b-tg-pic': 9,\n",
       " 'b-f2-snd': 10,\n",
       " 'b-f1-snd': 11,\n",
       " 'b-tg-snd': 12,\n",
       " 'f-f2-wrd': 13,\n",
       " 'f-f1-wrd': 14,\n",
       " 'f-tg-wrd': 15,\n",
       " 'f-f2-spk': 16,\n",
       " 'f-f1-spk': 17,\n",
       " 'f-tg-spk': 18,\n",
       " 'f-f2-pic': 19,\n",
       " 'f-f1-pic': 20,\n",
       " 'f-tg-pic': 21,\n",
       " 'f-f2-snd': 22,\n",
       " 'f-f1-snd': 23,\n",
       " 'f-tg-snd': 24}"
      ]
     },
     "execution_count": 4,
     "metadata": {},
     "output_type": "execute_result"
    }
   ],
   "source": [
    "epoch.event_id"
   ]
  },
  {
   "cell_type": "code",
   "execution_count": 5,
   "metadata": {},
   "outputs": [
    {
     "name": "stdout",
     "output_type": "stream",
     "text": [
      "len events: 5424\n"
     ]
    }
   ],
   "source": [
    "events = epoch.events[:,-1]\n",
    "event_ids = epoch.event_id\n",
    "print(\"len events:\", len(events))"
   ]
  },
  {
   "cell_type": "code",
   "execution_count": 6,
   "metadata": {},
   "outputs": [
    {
     "data": {
      "text/plain": [
       "(5424, 129, 180)"
      ]
     },
     "execution_count": 6,
     "metadata": {},
     "output_type": "execute_result"
    }
   ],
   "source": [
    "epoch.get_data().shape"
   ]
  },
  {
   "cell_type": "code",
   "execution_count": 8,
   "metadata": {},
   "outputs": [
    {
     "name": "stdout",
     "output_type": "stream",
     "text": [
      "[list([131]) list([31, 144, 162, 8, 3, 7, 132, 134, 130])\n",
      " list([31, 142, 162, 8, 3, 7, 132, 133, 129])\n",
      " list([31, 142, 162, 8, 3, 7, 132, 133])\n",
      " list([31, 142, 162, 8, 3, 7, 132, 133, 129])]\n"
     ]
    }
   ],
   "source": [
    "#combining events of a trail into 1 list\n",
    "trials = []\n",
    "event_trial = []\n",
    "start_index = 0\n",
    "end_index = 0\n",
    "for event in events:\n",
    "    if event == 31 and event_trial != []:\n",
    "        trials.append(event_trial)\n",
    "        event_trial = []\n",
    "        event_trial.append(event)\n",
    "    else:\n",
    "        event_trial.append(event)\n",
    "print(np.array(trials)[:5])"
   ]
  },
  {
   "cell_type": "code",
   "execution_count": 9,
   "metadata": {},
   "outputs": [
    {
     "name": "stdout",
     "output_type": "stream",
     "text": [
      "[list([131]) list([31, 144, 162, 8, 3, 7, 132, 134, 130])\n",
      " list([31, 142, 162, 8, 3, 7, 132, 133, 129])\n",
      " list([31, 142, 162, 8, 3, 7, 132, 133])\n",
      " list([31, 142, 162, 8, 3, 7, 132, 133, 129])]\n"
     ]
    }
   ],
   "source": [
    "#combining events of a trail into 1 list\n",
    "trials_1 = []\n",
    "event_trial_1 = []\n",
    "start_index = 0\n",
    "end_index = 0\n",
    "trial_index_list = []\n",
    "for i in range(len(events)):\n",
    "    if events[i] == 31 and event_trial != []:\n",
    "        trial_index_list.append((start_index, end_index))\n",
    "        trials_1.append(event_trial_1)\n",
    "        event_trial_1 = []\n",
    "        event_trial_1.append(events[i])\n",
    "        start_index = i\n",
    "        end_index +=1\n",
    "    else:\n",
    "        end_index +=1\n",
    "        event_trial_1.append(events[i])\n",
    "print(np.array(trials_1)[:5])"
   ]
  },
  {
   "cell_type": "code",
   "execution_count": 11,
   "metadata": {},
   "outputs": [
    {
     "data": {
      "text/plain": [
       "array([ 31, 141, 161,   2, 131,   9,   1, 132, 133, 129])"
      ]
     },
     "execution_count": 11,
     "metadata": {},
     "output_type": "execute_result"
    }
   ],
   "source": [
    "events[trial_index_list[-1][0]:trial_index_list[-1][1]]"
   ]
  },
  {
   "cell_type": "code",
   "execution_count": 150,
   "metadata": {},
   "outputs": [
    {
     "data": {
      "text/plain": [
       "[{'left_button': 131},\n",
       " {'trail_start': 31,\n",
       "  't_train': 144,\n",
       "  'f_laugh': 162,\n",
       "  'b-f1-pic': 8,\n",
       "  'b-tg-wrd': 3,\n",
       "  'b-f2-pic': 7,\n",
       "  'right_button': 132,\n",
       "  'incongruent': 134,\n",
       "  'incorrect': 130},\n",
       " {'trail_start': 31,\n",
       "  't_laugh': 142,\n",
       "  'f_laugh': 162,\n",
       "  'b-f1-pic': 8,\n",
       "  'b-tg-wrd': 3,\n",
       "  'b-f2-pic': 7,\n",
       "  'right_button': 132,\n",
       "  'congruent': 133,\n",
       "  'correct': 129}]"
      ]
     },
     "execution_count": 150,
     "metadata": {},
     "output_type": "execute_result"
    }
   ],
   "source": [
    "#create a list of dictionaries for trials where each dictionary\n",
    "# contains the event_ids of a trial.\n",
    "trials_and_events = []\n",
    "trial_dict = {}\n",
    "for trial in trials:\n",
    "    for event in trial:\n",
    "        for key, value in event_ids.items():\n",
    "            if value == event:\n",
    "                trial_dict[key] = event\n",
    "    trials_and_events.append(trial_dict)\n",
    "    trial_dict = {}\n",
    "trials_and_events[:3]"
   ]
  },
  {
   "cell_type": "code",
   "execution_count": 13,
   "metadata": {},
   "outputs": [],
   "source": [
    "#remove dead trail at the beginning of study\n",
    "# del trials_and_events[0]"
   ]
  },
  {
   "cell_type": "markdown",
   "metadata": {},
   "source": [
    "###  Combine epochs by trail (event_ids are combined, but combining epochs is a different task)"
   ]
  },
  {
   "cell_type": "markdown",
   "metadata": {},
   "source": [
    "### combine epochs and give them a label equal to Audio or Visual "
   ]
  },
  {
   "cell_type": "code",
   "execution_count": 153,
   "metadata": {
    "scrolled": true
   },
   "outputs": [
    {
     "name": "stdout",
     "output_type": "stream",
     "text": [
      "stim cominbation (14, 21, 4) not valid\n",
      "{'trail_start': 31, 't_water': 145, 'f_burp': 158, 'f-f1-wrd': 14, 'f-tg-pic': 21, 'b-f2-spk': 4, 'left_button': 131, 'incongruent': 134}\n"
     ]
    },
    {
     "data": {
      "text/plain": [
       "{'VVLN': {'trail_start': 31,\n",
       "  't_laugh': 142,\n",
       "  'f_laugh': 162,\n",
       "  'b-f1-pic': 8,\n",
       "  'b-tg-wrd': 3,\n",
       "  'b-f2-pic': 7,\n",
       "  'right_button': 132,\n",
       "  'congruent': 133}}"
      ]
     },
     "execution_count": 153,
     "metadata": {},
     "output_type": "execute_result"
    }
   ],
   "source": [
    "# creating a new dictionary where each trail will equal one of the values in the dictinary Mode_lexi that is defined in \n",
    "# ../preprocessing/StimCodes.ipynb\n",
    "trial_event_ids = []\n",
    "count = 0\n",
    "for trial in trials_and_events:\n",
    "    #check individual stim-codes and match them with corresponding combination defined in stimcodes.ipynb\n",
    "    stim_combination = []\n",
    "    \n",
    "    for key in trial:\n",
    "#         print(trial[key])\n",
    "        if int(trial[key]) >= 1 and int(trial[key]) <= 24:\n",
    "            stim_combination.append(trial[key])\n",
    "#             print(stim_combination)\n",
    "        if len(stim_combination) == 3: # stim-code combination complete, it can now be matched to a value in Mode_lexi\n",
    "            stim_combination_tuple = (stim_combination[0],stim_combination[1],stim_combination[2])\n",
    "#             print(stim_combination_tuple)\n",
    "            \n",
    "            try:#check if stim combination tuple is valid\n",
    "                stim_combo_key = stim_combinations[stim_combination_tuple]\n",
    "                dict = {stim_combo_key : trial}\n",
    "                trial_event_ids.append(dict)\n",
    "            except:\n",
    "                print(\"stim cominbation {0} not valid\".format(stim_combination_tuple))\n",
    "                print(trial)\n",
    "            break;\n",
    "trial_event_ids[2]"
   ]
  },
  {
   "cell_type": "code",
   "execution_count": 146,
   "metadata": {},
   "outputs": [
    {
     "data": {
      "text/plain": [
       "638"
      ]
     },
     "execution_count": 146,
     "metadata": {},
     "output_type": "execute_result"
    }
   ],
   "source": [
    "trial_event_ids[0] #this trial has stim-code combination VVLN, which is a visual stimuli \n",
    "len(trial_event_ids)"
   ]
  },
  {
   "cell_type": "markdown",
   "metadata": {},
   "source": [
    "## Event_ids are concatentated, but now I need to concatentate epochs\n",
    "* This will be done by changing event_ids of a trial into a new event event_id that will describe all epochs in that trial. "
   ]
  },
  {
   "cell_type": "markdown",
   "metadata": {},
   "source": [
    "Trying a new method where I have one epoch object that will continuously be concatentated with another temporary epoch object."
   ]
  },
  {
   "cell_type": "code",
   "execution_count": 170,
   "metadata": {},
   "outputs": [],
   "source": [
    "#new Event_ids\n",
    "modality_lexicality_event_ids = {\n",
    "   \"AALL\" : 112,\n",
    "   \"AALN\" : 212,\n",
    "   \"AANL\" : 312,\n",
    "   \"AANN\" : 412,\n",
    "   \"AVLL\" : 512,\n",
    "   \"AVNN\" : 612,\n",
    "   \"VALL\" : 712,\n",
    "   \"VANN\" : 812,\n",
    "   \"VVLL\" : 912,\n",
    "   \"VVLN\" : 1012,\n",
    "   \"VVNL\" : 1112,\n",
    "   \"VVNN\" : 1212\n",
    "}"
   ]
  },
  {
   "cell_type": "markdown",
   "metadata": {},
   "source": [
    "Use mne.merge_events to combine events"
   ]
  },
  {
   "cell_type": "code",
   "execution_count": 105,
   "metadata": {
    "collapsed": true
   },
   "outputs": [
    {
     "name": "stdout",
     "output_type": "stream",
     "text": [
      "0 0 1\n",
      "1 1 10\n",
      "2 10 19\n",
      "3 19 27\n",
      "4 27 36\n",
      "5 36 44\n",
      "6 44 52\n",
      "7 52 60\n",
      "8 60 68\n",
      "9 68 76\n",
      "10 76 84\n",
      "11 84 92\n",
      "12 92 101\n",
      "13 101 110\n",
      "14 110 119\n",
      "15 119 128\n",
      "16 128 136\n",
      "17 136 145\n",
      "18 145 153\n",
      "19 153 161\n",
      "20 161 170\n",
      "21 170 179\n",
      "22 179 187\n",
      "23 187 195\n",
      "24 195 204\n",
      "25 204 213\n",
      "26 213 222\n",
      "27 222 230\n",
      "28 230 238\n",
      "29 238 247\n",
      "30 247 255\n",
      "31 255 263\n",
      "32 263 271\n",
      "33 271 280\n",
      "34 280 289\n",
      "35 289 297\n",
      "36 297 305\n",
      "37 305 313\n",
      "38 313 321\n",
      "39 321 330\n",
      "40 330 339\n",
      "41 339 348\n",
      "42 348 357\n",
      "43 357 365\n",
      "44 365 373\n",
      "45 373 381\n",
      "46 381 390\n",
      "47 390 399\n",
      "48 399 407\n",
      "49 407 415\n",
      "50 415 423\n",
      "51 423 431\n",
      "52 431 439\n",
      "53 439 448\n",
      "54 448 456\n",
      "55 456 464\n",
      "56 464 472\n",
      "57 472 481\n",
      "58 481 489\n",
      "59 489 498\n",
      "60 498 507\n",
      "61 507 515\n",
      "62 515 523\n",
      "63 523 532\n",
      "64 532 540\n",
      "65 540 549\n",
      "66 549 557\n",
      "67 557 566\n",
      "68 566 574\n",
      "69 574 582\n",
      "70 582 590\n",
      "71 590 599\n",
      "72 599 607\n",
      "73 607 616\n",
      "74 616 625\n",
      "75 625 633\n",
      "76 633 642\n",
      "77 642 650\n",
      "78 650 658\n",
      "79 658 667\n",
      "80 667 676\n",
      "81 676 685\n",
      "82 685 694\n",
      "83 694 702\n",
      "84 702 710\n",
      "85 710 718\n",
      "86 718 727\n",
      "87 727 735\n",
      "88 735 744\n",
      "89 744 752\n",
      "90 752 760\n",
      "91 760 769\n",
      "92 769 778\n",
      "93 778 786\n",
      "94 786 795\n",
      "95 795 803\n",
      "96 803 811\n",
      "97 811 820\n",
      "98 820 828\n",
      "99 828 836\n",
      "100 836 845\n",
      "101 845 854\n",
      "102 854 863\n",
      "103 863 871\n",
      "104 871 880\n",
      "105 880 889\n",
      "106 889 898\n",
      "107 898 907\n",
      "108 907 916\n",
      "109 916 925\n",
      "110 925 933\n",
      "111 933 942\n",
      "112 942 950\n",
      "113 950 958\n",
      "114 958 966\n",
      "115 966 975\n",
      "116 975 983\n",
      "117 983 992\n",
      "118 992 1001\n",
      "119 1001 1010\n",
      "120 1010 1020\n",
      "121 1020 1029\n",
      "122 1029 1038\n",
      "123 1038 1046\n",
      "124 1046 1055\n",
      "125 1055 1064\n",
      "126 1064 1073\n",
      "127 1073 1081\n",
      "128 1081 1089\n",
      "129 1089 1097\n",
      "130 1097 1105\n",
      "131 1105 1113\n",
      "132 1113 1122\n",
      "133 1122 1130\n",
      "134 1130 1138\n",
      "135 1138 1146\n",
      "136 1146 1154\n",
      "137 1154 1162\n",
      "138 1162 1170\n",
      "139 1170 1179\n",
      "140 1179 1189\n",
      "141 1189 1197\n",
      "142 1197 1205\n",
      "143 1205 1213\n",
      "144 1213 1222\n",
      "145 1222 1230\n",
      "146 1230 1239\n",
      "147 1239 1247\n",
      "148 1247 1256\n",
      "149 1256 1264\n",
      "150 1264 1272\n",
      "151 1272 1280\n",
      "152 1280 1288\n",
      "153 1288 1296\n",
      "154 1296 1305\n",
      "155 1305 1313\n",
      "156 1313 1322\n",
      "157 1322 1331\n",
      "158 1331 1340\n",
      "159 1340 1348\n",
      "160 1348 1357\n",
      "161 1357 1366\n",
      "162 1366 1375\n",
      "163 1375 1383\n",
      "164 1383 1391\n",
      "165 1391 1400\n",
      "166 1400 1408\n",
      "167 1408 1416\n",
      "168 1416 1424\n",
      "169 1424 1432\n",
      "170 1432 1440\n",
      "171 1440 1448\n",
      "172 1448 1456\n",
      "173 1456 1464\n",
      "174 1464 1472\n",
      "175 1472 1480\n",
      "176 1480 1489\n",
      "177 1489 1497\n",
      "178 1497 1506\n",
      "179 1506 1514\n",
      "180 1514 1524\n",
      "181 1524 1532\n",
      "182 1532 1540\n",
      "183 1540 1548\n",
      "184 1548 1556\n",
      "185 1556 1564\n",
      "186 1564 1572\n",
      "187 1572 1581\n",
      "188 1581 1589\n",
      "189 1589 1597\n",
      "190 1597 1605\n",
      "191 1605 1614\n",
      "192 1614 1623\n",
      "193 1623 1631\n",
      "194 1631 1640\n",
      "195 1640 1648\n",
      "196 1648 1657\n",
      "197 1657 1666\n",
      "198 1666 1675\n",
      "199 1675 1683\n",
      "200 1683 1692\n",
      "201 1692 1700\n",
      "202 1700 1708\n",
      "203 1708 1716\n",
      "204 1716 1725\n",
      "205 1725 1733\n",
      "206 1733 1742\n",
      "207 1742 1751\n",
      "208 1751 1759\n",
      "209 1759 1767\n",
      "210 1767 1776\n",
      "211 1776 1785\n",
      "212 1785 1794\n",
      "213 1794 1802\n",
      "214 1802 1811\n",
      "215 1811 1820\n",
      "216 1820 1829\n",
      "217 1829 1837\n",
      "218 1837 1845\n",
      "219 1845 1854\n",
      "220 1854 1864\n",
      "221 1864 1873\n",
      "222 1873 1881\n",
      "223 1881 1889\n",
      "224 1889 1898\n",
      "225 1898 1906\n",
      "226 1906 1914\n",
      "227 1914 1922\n",
      "228 1922 1931\n",
      "229 1931 1939\n",
      "230 1939 1947\n",
      "231 1947 1955\n",
      "232 1955 1963\n",
      "233 1963 1971\n",
      "234 1971 1980\n",
      "235 1980 1988\n",
      "236 1988 1996\n",
      "237 1996 2004\n",
      "238 2004 2012\n",
      "239 2012 2021\n",
      "240 2021 2031\n",
      "241 2031 2039\n",
      "242 2039 2048\n",
      "243 2048 2057\n",
      "244 2057 2066\n",
      "245 2066 2074\n",
      "246 2074 2082\n",
      "247 2082 2090\n",
      "248 2090 2098\n",
      "249 2098 2107\n",
      "250 2107 2117\n",
      "251 2117 2125\n",
      "252 2125 2133\n",
      "253 2133 2141\n",
      "254 2141 2150\n",
      "255 2150 2159\n",
      "256 2159 2167\n",
      "257 2167 2176\n",
      "258 2176 2184\n",
      "259 2184 2192\n",
      "260 2192 2202\n",
      "261 2202 2210\n",
      "262 2210 2218\n",
      "263 2218 2226\n",
      "264 2226 2234\n",
      "265 2234 2242\n",
      "266 2242 2250\n",
      "267 2250 2259\n",
      "268 2259 2267\n",
      "269 2267 2275\n",
      "270 2275 2284\n",
      "271 2284 2293\n",
      "272 2293 2301\n",
      "273 2301 2309\n",
      "274 2309 2317\n",
      "275 2317 2325\n",
      "276 2325 2334\n",
      "277 2334 2342\n",
      "278 2342 2350\n",
      "279 2350 2359\n",
      "280 2359 2369\n",
      "281 2369 2378\n",
      "282 2378 2386\n",
      "283 2386 2395\n",
      "284 2395 2403\n",
      "285 2403 2411\n",
      "286 2411 2420\n",
      "287 2420 2429\n",
      "288 2429 2438\n",
      "289 2438 2446\n",
      "290 2446 2454\n",
      "291 2454 2463\n",
      "292 2463 2471\n",
      "293 2471 2480\n",
      "294 2480 2488\n",
      "295 2488 2496\n",
      "296 2496 2505\n",
      "297 2505 2513\n",
      "298 2513 2521\n",
      "299 2521 2529\n",
      "300 2529 2539\n",
      "301 2539 2547\n",
      "302 2547 2555\n",
      "303 2555 2563\n",
      "304 2563 2571\n",
      "305 2571 2579\n",
      "306 2579 2587\n",
      "307 2587 2595\n",
      "308 2595 2604\n",
      "309 2604 2612\n",
      "310 2612 2621\n",
      "311 2621 2629\n",
      "312 2629 2637\n",
      "313 2637 2646\n",
      "314 2646 2654\n",
      "315 2654 2663\n",
      "316 2663 2671\n",
      "317 2671 2679\n",
      "318 2679 2687\n",
      "319 2687 2696\n",
      "320 2696 2706\n",
      "321 2706 2715\n",
      "322 2715 2724\n",
      "323 2724 2732\n",
      "324 2732 2741\n",
      "325 2741 2750\n",
      "326 2750 2759\n",
      "327 2759 2767\n",
      "328 2767 2775\n",
      "329 2775 2784\n",
      "330 2784 2792\n",
      "331 2792 2800\n",
      "332 2800 2808\n",
      "333 2808 2817\n",
      "334 2817 2825\n",
      "335 2825 2834\n",
      "336 2834 2842\n",
      "337 2842 2850\n",
      "338 2850 2858\n",
      "339 2858 2866\n"
     ]
    },
    {
     "ename": "IndexError",
     "evalue": "list index out of range",
     "output_type": "error",
     "traceback": [
      "\u001b[1;31m---------------------------------------------------------------------------\u001b[0m",
      "\u001b[1;31mIndexError\u001b[0m                                Traceback (most recent call last)",
      "\u001b[1;32m<ipython-input-105-9a71a7fedf8d>\u001b[0m in \u001b[0;36m<module>\u001b[1;34m()\u001b[0m\n\u001b[0;32m     14\u001b[0m \u001b[1;31m#     print(modality_lexicality_event_ids[list(trial_event_ids[i].keys())[0]])\u001b[0m\u001b[1;33m\u001b[0m\u001b[1;33m\u001b[0m\u001b[0m\n\u001b[0;32m     15\u001b[0m     temp_merged_events = mne.merge_events(temp_events,temp_events[:,-1],\n\u001b[1;32m---> 16\u001b[1;33m                                           modality_lexicality_event_ids[list(trial_event_ids[i].keys())[0]],replace_events= True)\n\u001b[0m\u001b[0;32m     17\u001b[0m \u001b[1;31m#     print(temp_merged_events)\u001b[0m\u001b[1;33m\u001b[0m\u001b[1;33m\u001b[0m\u001b[0m\n\u001b[0;32m     18\u001b[0m     \u001b[0mmerged_events\u001b[0m\u001b[1;33m.\u001b[0m\u001b[0mappend\u001b[0m\u001b[1;33m(\u001b[0m\u001b[0mtemp_merged_events\u001b[0m\u001b[1;33m)\u001b[0m\u001b[1;33m\u001b[0m\u001b[0m\n",
      "\u001b[1;31mIndexError\u001b[0m: list index out of range"
     ]
    }
   ],
   "source": [
    "copy_epoch = epoch.copy()\n",
    "# need a to  assign events of a trial to a temporary list\n",
    "# have a master list to append temporary list to.\n",
    "merged_events = []\n",
    "time_start = time.time()\n",
    "for i in range(len(trial_index_list)):\n",
    "    start, end = trial_index_list[i]\n",
    "    print(i,start,end)\n",
    "    temp_epoch = copy_epoch[start:end]\n",
    "    temp_events = temp_epoch.events\n",
    "#     print(temp_events)\n",
    "#     print(trial_event_ids[i].keys())\n",
    "#     print(list(trial_event_ids[i].keys())[0])\n",
    "#     print(modality_lexicality_event_ids[list(trial_event_ids[i].keys())[0]])\n",
    "    temp_merged_events = mne.merge_events(temp_events,temp_events[:,-1],\n",
    "                                          modality_lexicality_event_ids[list(trial_event_ids[i].keys())[0]],replace_events= True)\n",
    "#     print(temp_merged_events)\n",
    "    merged_events.append(temp_merged_events)\n",
    "    temp_merged_events = []\n",
    "    time_end = time.time()\n",
    "print(\"time elapsed:\", time_end - time_start)\n",
    "print(\"merged_events:\",merged_events)"
   ]
  },
  {
   "cell_type": "code",
   "execution_count": 154,
   "metadata": {},
   "outputs": [],
   "source": [
    "def get_stim_code_combination(epoch_object,stim_combinations_dict):\n",
    "    stim_codes = []\n",
    "    for event in epoch_object.events[:,-1]: #iterate over event_ids\n",
    "        if event >= 1 and event <= 24:\n",
    "            stim_codes.append(event)\n",
    "            if len(stim_codes) == 3:\n",
    "                stim_codes_tuple = (stim_codes[0],stim_codes[1],stim_codes[2])\n",
    "                return stim_combinations[stim_codes_tuple]\n",
    "    return \"NaN\""
   ]
  },
  {
   "cell_type": "code",
   "execution_count": 196,
   "metadata": {},
   "outputs": [
    {
     "name": "stdout",
     "output_type": "stream",
     "text": [
      "Could not find stim-code combination.\n",
      "Meta: stim-combo-key: NaN\n",
      "Could not find stim-code combination.\n",
      "Meta: stim-combo-key: VVNL\n"
     ]
    }
   ],
   "source": [
    "copy_epoch = epoch.copy()\n",
    "new_events_master = []\n",
    "for i in range(len(trial_index_list)): # iterate through trial index list\n",
    "    # extract start and end index\n",
    "    try:\n",
    "        start = trial_index_list[i][0]\n",
    "        end = trial_index_list[i][1]\n",
    "\n",
    "        #initialize temp epoch object between start - end indices\n",
    "        temp_epoch = copy_epoch[start:end]\n",
    "#         print(temp_epoch)\n",
    "        # get temp epoch events\n",
    "        temp_epoch_events = temp_epoch.events\n",
    "        temp_epoch_event_ids = temp_epoch_events[:,-1]\n",
    "        stim_code_key = get_stim_code_combination(temp_epoch, stim_combinations)\n",
    "\n",
    "#         print(type(stim_code_key))\n",
    "        new_event_id = modality_lexicality_event_ids[stim_code_key]\n",
    "#         print(new_event_id)\n",
    "#         try:\n",
    "        temp_epoch_merged_events = mne.merge_events(temp_epoch_events,\n",
    "                                                    temp_epoch_event_ids,\n",
    "                                                    new_event_id,\n",
    "                                                    replace_events = True)\n",
    "#         except:\n",
    "#             print(\"Could not merge events\")\n",
    "#         try:\n",
    "        new_events_master.append(temp_epoch_merged_events)\n",
    "#         except:\n",
    "#             print(\"Could not append merged events\")\n",
    "\n",
    "    except:\n",
    "        print(\"Could not find stim-code combination.\")\n",
    "        print(\"Meta: stim-combo-key: {0}\".format(stim_code_key))\n",
    "        "
   ]
  },
  {
   "cell_type": "code",
   "execution_count": 199,
   "metadata": {},
   "outputs": [],
   "source": [
    "# np_new_events_master = np.array(new_events_master).reshape(-1,1)\n",
    "concat_events = np.concatenate([x for x in new_events_master])"
   ]
  },
  {
   "cell_type": "code",
   "execution_count": 201,
   "metadata": {},
   "outputs": [],
   "source": [
    "epoch.events = concat_events\n",
    "epoch.event_id = modality_lexicality_event_ids"
   ]
  },
  {
   "cell_type": "code",
   "execution_count": 212,
   "metadata": {},
   "outputs": [],
   "source": [
    "def convert_event_ids_to_stim_combinations(epoch_object, trial_index_list, stim_combinations):\n",
    "    \"\"\"\n",
    "        epoch_object: mne.epochs.EpochsFIF object\n",
    "        ----\n",
    "        trial_index_list: A list containing the start and end index for each trial of an epoch object\n",
    "        ----\n",
    "        stim_combinations: A dictionary whose keys are 3-tuples and values are corressponding stim-code combination value\n",
    "                           ex. { (5,6,4) : \"AALL\" }\n",
    "        ---\n",
    "        returns\n",
    "            List of Lists containing events for an epoch object. \n",
    "            \n",
    "    \"\"\"\n",
    "    \n",
    "    for i in range(len(trial_index_list)): # iterate through trial index list\n",
    "    # extract start and end index\n",
    "        try:\n",
    "            start = trial_index_list[i][0]\n",
    "            end = trial_index_list[i][1]\n",
    "\n",
    "            #initialize temp epoch object between start - end indices\n",
    "            temp_epoch = copy_epoch[start:end]\n",
    "            # get temp epoch events\n",
    "            temp_epoch_events = temp_epoch.events\n",
    "            temp_epoch_event_ids = temp_epoch_events[:,-1]\n",
    "            stim_code_key = get_stim_code_combination(temp_epoch, stim_combinations)\n",
    "\n",
    "            new_event_id = modality_lexicality_event_ids[stim_code_key]\n",
    "            temp_epoch_merged_events = mne.merge_events(temp_epoch_events,\n",
    "                                                        temp_epoch_event_ids,\n",
    "                                                        new_event_id,\n",
    "                                                        replace_events = True)\n",
    "\n",
    "            new_events_master.append(temp_epoch_merged_events)\n",
    "\n",
    "        except:\n",
    "            print(\"Could not find stim-code combination.\")\n",
    "            print(\"Meta: stim-combo-key: {0}\".format(stim_code_key))\n",
    "        \n",
    "    return np.concatenate([x for x in new_events_master])"
   ]
  },
  {
   "cell_type": "code",
   "execution_count": 213,
   "metadata": {},
   "outputs": [
    {
     "name": "stdout",
     "output_type": "stream",
     "text": [
      "Could not find stim-code combination.\n",
      "Meta: stim-combo-key: NaN\n",
      "Could not find stim-code combination.\n",
      "Meta: stim-combo-key: VVNL\n"
     ]
    }
   ],
   "source": [
    "event_list = convert_event_ids_to_stim_combinations(epoch_object=epoch, \n",
    "                                       trial_index_list= trial_index_list,\n",
    "                                       stim_combinations = stim_combinations)"
   ]
  },
  {
   "cell_type": "code",
   "execution_count": 214,
   "metadata": {},
   "outputs": [
    {
     "data": {
      "text/plain": [
       "array([[  2580,      0,   1012],\n",
       "       [  2581,   1012,   1012],\n",
       "       [  2583,      0,   1012],\n",
       "       ...,\n",
       "       [658382,      0,   1112],\n",
       "       [658479,      0,   1112],\n",
       "       [658481,      0,   1112]])"
      ]
     },
     "execution_count": 214,
     "metadata": {},
     "output_type": "execute_result"
    }
   ],
   "source": [
    "event_list"
   ]
  },
  {
   "cell_type": "code",
   "execution_count": null,
   "metadata": {},
   "outputs": [],
   "source": []
  }
 ],
 "metadata": {
  "kernelspec": {
   "display_name": "Python 3",
   "language": "python",
   "name": "python3"
  },
  "language_info": {
   "codemirror_mode": {
    "name": "ipython",
    "version": 3
   },
   "file_extension": ".py",
   "mimetype": "text/x-python",
   "name": "python",
   "nbconvert_exporter": "python",
   "pygments_lexer": "ipython3",
   "version": "3.6.6"
  }
 },
 "nbformat": 4,
 "nbformat_minor": 2
}
