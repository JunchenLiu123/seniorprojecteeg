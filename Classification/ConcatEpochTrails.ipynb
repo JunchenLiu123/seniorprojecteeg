{
 "cells": [
  {
   "cell_type": "markdown",
   "metadata": {},
   "source": [
    "## Extract trails\n",
    "* This notebook will concatenate all epochs assoicated with a trail in to one data point.\n",
    "* The goal of this is to try to describe data as a binary label\n",
    "    * In other words a trail can be described as congruent or incongruent"
   ]
  },
  {
   "cell_type": "code",
   "execution_count": null,
   "metadata": {},
   "outputs": [],
   "source": [
    "%run ../preprocessing/Artifact_Removal/preprocecssing_helpers.ipynb\n",
    "%run ../preprocessing/StimCodes.ipynb\n",
    "import os\n",
    "\n",
    "import mne\n",
    "from mne.preprocessing import ICA\n",
    "import numpy as np\n",
    "import matplotlib.pyplot as plt\n",
    "%matplotlib inline\n",
    "import matplotlib\n",
    "matplotlib.rcParams['figure.figsize'] = (10.0, 10.0)\n",
    "matplotlib.rcParams.update({'font.size': 15})\n",
    "\n",
    "from sklearn.preprocessing import StandardScaler, normalize"
   ]
  },
  {
   "cell_type": "code",
   "execution_count": null,
   "metadata": {},
   "outputs": [],
   "source": [
    "path = 'E:\\EpochedEEG'\n",
    "epoch_files = os.listdir(path)\n",
    "file = os.path.join(path,epoch_files[0])\n",
    "epoch = mne.read_epochs(file, preload = True)"
   ]
  },
  {
   "cell_type": "code",
   "execution_count": null,
   "metadata": {},
   "outputs": [],
   "source": [
    "#UPDATES THE STIM CODE EVENT_IDS TO THEIR CORRECT VALUES\n",
    "epoch = update_stim_code_event_ids(epoch)"
   ]
  },
  {
   "cell_type": "code",
   "execution_count": null,
   "metadata": {
    "scrolled": true
   },
   "outputs": [],
   "source": [
    "epoch.event_id"
   ]
  },
  {
   "cell_type": "code",
   "execution_count": null,
   "metadata": {},
   "outputs": [],
   "source": [
    "events = epoch.events[:,-1]\n",
    "event_ids = epoch.event_id\n",
    "print(\"len events:\", len(events))"
   ]
  },
  {
   "cell_type": "code",
   "execution_count": null,
   "metadata": {},
   "outputs": [],
   "source": [
    "epoch.get_data().shape"
   ]
  },
  {
   "cell_type": "code",
   "execution_count": null,
   "metadata": {},
   "outputs": [],
   "source": [
    "#combining events of a trail into 1 list\n",
    "trials = []\n",
    "event_trial = []\n",
    "start_index = 0\n",
    "end_index = 0\n",
    "trial_index_list = []\n",
    "for event in events:\n",
    "    if event == 31 and event_trial != []:\n",
    "        trial_index_list.append((start_index, end_index))\n",
    "        trials.append(event_trial)\n",
    "        event_trial = []\n",
    "        event_trial.append(event)\n",
    "        start_index = i\n",
    "    else:\n",
    "        event_trial.append(event)\n",
    "print(np.array(trials)[:5])"
   ]
  },
  {
   "cell_type": "code",
   "execution_count": null,
   "metadata": {},
   "outputs": [],
   "source": [
    "#combining events of a trail into 1 list\n",
    "trials_1 = []\n",
    "event_trial_1 = []\n",
    "start_index = 0\n",
    "end_index = 0\n",
    "trial_index_list = []\n",
    "for i in range(len(events)):\n",
    "    if events[i] == 31 and event_trial != []:\n",
    "        trial_index_list.append((start_index, end_index))\n",
    "        trials_1.append(event_trial_1)\n",
    "        event_trial_1 = []\n",
    "        event_trial_1.append(events[i])\n",
    "        start_index = i\n",
    "        end_index +=1\n",
    "    else:\n",
    "        end_index +=1\n",
    "        event_trial_1.append(events[i])\n",
    "print(np.array(trials_1)[:5])"
   ]
  },
  {
   "cell_type": "code",
   "execution_count": null,
   "metadata": {},
   "outputs": [],
   "source": [
    "trial_index_list"
   ]
  },
  {
   "cell_type": "code",
   "execution_count": null,
   "metadata": {},
   "outputs": [],
   "source": [
    "events[trial_index_list[-1][0]:trial_index_list[-1][1]]"
   ]
  },
  {
   "cell_type": "code",
   "execution_count": null,
   "metadata": {},
   "outputs": [],
   "source": [
    "#create a list of dictionaries for trials where each dictionary\n",
    "# contains the event_ids of a trial.\n",
    "trials_and_events = []\n",
    "trial_dict = {}\n",
    "for trial in trials:\n",
    "    for event in trial:\n",
    "        for key, value in event_ids.items():\n",
    "            if value == event:\n",
    "                trial_dict[key] = event\n",
    "    trials_and_events.append(trial_dict)\n",
    "    trial_dict = {}\n",
    "trials_and_events[:3]"
   ]
  },
  {
   "cell_type": "code",
   "execution_count": null,
   "metadata": {},
   "outputs": [],
   "source": [
    "#remove dead trail at the beginning of study\n",
    "# del trials_and_events[0]"
   ]
  },
  {
   "cell_type": "markdown",
   "metadata": {},
   "source": [
    "###  Combine epochs by trail (event_ids are combined, but combining epochs is a different task)"
   ]
  },
  {
   "cell_type": "markdown",
   "metadata": {},
   "source": [
    "### combine epochs and give them a label equal to Audio or Visual "
   ]
  },
  {
   "cell_type": "code",
   "execution_count": null,
   "metadata": {
    "scrolled": true
   },
   "outputs": [],
   "source": [
    "# creating a new dictionary where each trail will equal one of the values in the dictinary Mode_lexi that is defined in \n",
    "# ../preprocessing/StimCodes.ipynb\n",
    "trial_event_ids = []\n",
    "for trial in trials_and_events:\n",
    "    #check individual stim-codes and match them with corresponding combination defined in stimcodes.ipynb\n",
    "    stim_combination = []\n",
    "    \n",
    "    for key in trial:\n",
    "#         print(trial[key])\n",
    "        if int(trial[key]) >= 1 and int(trial[key]) <= 24:\n",
    "            stim_combination.append(trial[key])\n",
    "#             print(stim_combination)\n",
    "        if len(stim_combination) == 3: # stim-code combination complete, it can now be matched to a value in Mode_lexi\n",
    "            stim_combination_tuple = (stim_combination[0],stim_combination[1],stim_combination[2])\n",
    "#             print(stim_combination_tuple)\n",
    "            \n",
    "            for stim_combo_key in modal_lexi:\n",
    "                stim_combo1 = modal_lexi[stim_combo_key][0]\n",
    "                stim_combo2 = modal_lexi[stim_combo_key][1]\n",
    "\n",
    "                if stim_combination_tuple == stim_combo1 or stim_combination == stim_combo2:\n",
    "                    dict = {stim_combo_key : trial}      \n",
    "                    trial_event_ids.append(dict)\n",
    "            break;\n",
    " "
   ]
  },
  {
   "cell_type": "code",
   "execution_count": null,
   "metadata": {
    "scrolled": false
   },
   "outputs": [],
   "source": [
    "trial_event_ids[0] #this trial has stim-code combination VVLN, which is a visual stimuli "
   ]
  },
  {
   "cell_type": "markdown",
   "metadata": {},
   "source": [
    "## Event_ids are concatentated, but now I need to concatentate epochs\n",
    "* This will be done by changing event_ids of a trial into a new event event_id that will describe all epochs in that trial. "
   ]
  },
  {
   "cell_type": "markdown",
   "metadata": {},
   "source": [
    "Trying a new method where I have one epoch object that will continuously be concatentated with another temporary epoch object."
   ]
  },
  {
   "cell_type": "code",
   "execution_count": null,
   "metadata": {},
   "outputs": [],
   "source": [
    "#new Event_ids\n",
    "modality_lexicality_event_ids = {\n",
    "   \"AALL\" : 112,\n",
    "   \"AALN\" : 212,\n",
    "   \"AANL\" : 312,\n",
    "   \"AANN\" : 412,\n",
    "   \"AVLL\" : 512,\n",
    "   \"AVNN\" : 612,\n",
    "   \"VALL\" : 712,\n",
    "   \"VANN\" : 812,\n",
    "   \"VVLL\" : 912,\n",
    "   \"VVLN\" : 1012,\n",
    "   \"VVNL\" : 1112,\n",
    "   \"VVNN\" : 1212\n",
    "}"
   ]
  },
  {
   "cell_type": "markdown",
   "metadata": {},
   "source": [
    "Use mne.merge_events to combine events"
   ]
  },
  {
   "cell_type": "code",
   "execution_count": null,
   "metadata": {},
   "outputs": [],
   "source": [
    "### temp_trial_list = [] #used for storage of event_ids of trial\n",
    "temp_events = epoch.events\n",
    "for trial in trial_event_ids[1:3]:\n",
    "    for key in trial:\n",
    "        for item in trial[key]:\n",
    "            temp_trial_list.append(epoch.event_id[item])\n",
    "        print(temp_trial_list)\n",
    "        temp_events = mne.merge_events(temp_events, temp_trial_list, modality_lexicality_event_ids[key])\n",
    "        temp_trial_list = []"
   ]
  },
  {
   "cell_type": "code",
   "execution_count": null,
   "metadata": {},
   "outputs": [],
   "source": [
    "epoch.events[:,-1][:10]"
   ]
  },
  {
   "cell_type": "code",
   "execution_count": null,
   "metadata": {},
   "outputs": [],
   "source": [
    "\n",
    "epoch_1 = epoch[1:9]\n",
    "epochs_merge = mne.merge_events(events=epoch_1.events,ids = epoch_1.events[:,-1],new_id= 0 )"
   ]
  },
  {
   "cell_type": "code",
   "execution_count": null,
   "metadata": {},
   "outputs": [],
   "source": []
  },
  {
   "cell_type": "code",
   "execution_count": null,
   "metadata": {},
   "outputs": [],
   "source": [
    "epoch_1.events = epochs_merge\n",
    "epoch_1.plot();"
   ]
  },
  {
   "cell_type": "code",
   "execution_count": null,
   "metadata": {},
   "outputs": [],
   "source": [
    "start_time = epoch_1.events[:,0][0]\n",
    "end_time = epoch_1.events[:,0][-1]\n",
    "epoch_1.events = np.array([\n",
    "    [2580,    0,   0],\n",
    "    [2581,   31,  0],\n",
    "    [2583,    0,  0],\n",
    "    [2593,    0,    0],\n",
    "    [2718,    0,    0],\n",
    "    [2847,    0,  0],\n",
    "    [3200,    0,  0],\n",
    "    [3201,  132,  0],\n",
    "])"
   ]
  },
  {
   "cell_type": "code",
   "execution_count": null,
   "metadata": {},
   "outputs": [],
   "source": []
  }
 ],
 "metadata": {
  "kernelspec": {
   "display_name": "Python 3",
   "language": "python",
   "name": "python3"
  },
  "language_info": {
   "codemirror_mode": {
    "name": "ipython",
    "version": 3
   },
   "file_extension": ".py",
   "mimetype": "text/x-python",
   "name": "python",
   "nbconvert_exporter": "python",
   "pygments_lexer": "ipython3",
   "version": "3.6.6"
  }
 },
 "nbformat": 4,
 "nbformat_minor": 2
}
