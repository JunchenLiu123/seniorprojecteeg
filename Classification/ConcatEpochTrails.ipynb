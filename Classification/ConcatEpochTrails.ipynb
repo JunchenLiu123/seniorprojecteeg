{
 "cells": [
  {
   "cell_type": "markdown",
   "metadata": {},
   "source": [
    "## Extract trails\n",
    "* This notebook will concatenate all epochs assoicated with a trail in to one data point.\n",
    "* The goal of this is to try to describe data as congruent or incongruent.\n",
    "    * In other words a trail will be described as congruent or incongruent"
   ]
  },
  {
   "cell_type": "code",
   "execution_count": 1,
   "metadata": {},
   "outputs": [],
   "source": [
    "%run ../preprocessing/Artifact_Removal/preprocecssing_helpers.ipynb\n",
    "%run ../preprocessing/StimCodes.ipynb\n",
    "import os\n",
    "\n",
    "import mne\n",
    "from mne.preprocessing import ICA\n",
    "import numpy as np\n",
    "import matplotlib.pyplot as plt\n",
    "%matplotlib inline\n",
    "import matplotlib\n",
    "matplotlib.rcParams['figure.figsize'] = (50.0, 30.0)\n",
    "matplotlib.rcParams.update({'font.size': 15})\n",
    "\n",
    "from sklearn.preprocessing import StandardScaler, normalize"
   ]
  },
  {
   "cell_type": "code",
   "execution_count": 2,
   "metadata": {},
   "outputs": [
    {
     "name": "stdout",
     "output_type": "stream",
     "text": [
      "Reading E:\\EpochedEEG\\20131216_1441_epo.fif ...\n",
      "    Found the data of interest:\n",
      "        t =    -199.22 ...     500.00 ms\n",
      "        0 CTF compensation matrices available\n",
      "5424 matching events found\n",
      "Applying baseline correction (mode: mean)\n",
      "5424 matching events found\n",
      "Applying baseline correction (mode: mean)\n",
      "Not setting metadata\n",
      "0 projection items activated\n"
     ]
    }
   ],
   "source": [
    "path = 'E:\\EpochedEEG'\n",
    "epoch_files = os.listdir(path)\n",
    "file = os.path.join(path,epoch_files[0])\n",
    "epoch = mne.read_epochs(file, preload = True)"
   ]
  },
  {
   "cell_type": "code",
   "execution_count": 3,
   "metadata": {},
   "outputs": [],
   "source": [
    "epoch = update_stim_code_event_ids(epoch)"
   ]
  },
  {
   "cell_type": "code",
   "execution_count": 4,
   "metadata": {},
   "outputs": [
    {
     "data": {
      "text/plain": [
       "{'trail_start': 31,\n",
       " 'left_button': 131,\n",
       " 'right_button': 132,\n",
       " 'congruent': 133,\n",
       " 'incongruent': 134,\n",
       " 'correct': 129,\n",
       " 'incorrect': 130,\n",
       " 't_baby': 135,\n",
       " 't_bell': 136,\n",
       " 't_bird': 137,\n",
       " 't_burp': 138,\n",
       " 't_dog': 139,\n",
       " 't_drum': 140,\n",
       " 't_knock': 141,\n",
       " 't_laugh': 142,\n",
       " 't_phone': 143,\n",
       " 't_train': 144,\n",
       " 't_water': 145,\n",
       " 'f_baby': 155,\n",
       " 'f_bell': 156,\n",
       " 'f_bird': 157,\n",
       " 'f_burp': 158,\n",
       " 'f_dog': 159,\n",
       " 'f_drum': 160,\n",
       " 'f_knock': 161,\n",
       " 'f_laugh': 162,\n",
       " 'f_phone': 163,\n",
       " 'f_train': 164,\n",
       " 'f_water': 165,\n",
       " 'b-f2-wrd': 1,\n",
       " 'b-f1-wrd': 2,\n",
       " 'b-tg-wrd': 3,\n",
       " 'b-f2-spk': 4,\n",
       " 'b-f1-spk': 5,\n",
       " 'b-tg-spk': 6,\n",
       " 'b-f2-pic': 7,\n",
       " 'b-f1-pic': 8,\n",
       " 'b-tg-pic': 9,\n",
       " 'b-f2-snd': 10,\n",
       " 'b-f1-snd': 11,\n",
       " 'b-tg-snd': 12,\n",
       " 'f-f2-wrd': 13,\n",
       " 'f-f1-wrd': 14,\n",
       " 'f-tg-wrd': 15,\n",
       " 'f-f2-spk': 16,\n",
       " 'f-f1-spk': 17,\n",
       " 'f-tg-spk': 18,\n",
       " 'f-f2-pic': 19,\n",
       " 'f-f1-pic': 20,\n",
       " 'f-tg-pic': 21,\n",
       " 'f-f2-snd': 22,\n",
       " 'f-f1-snd': 23,\n",
       " 'f-tg-snd': 24}"
      ]
     },
     "execution_count": 4,
     "metadata": {},
     "output_type": "execute_result"
    }
   ],
   "source": [
    "epoch.event_id"
   ]
  },
  {
   "cell_type": "code",
   "execution_count": 8,
   "metadata": {},
   "outputs": [
    {
     "name": "stdout",
     "output_type": "stream",
     "text": [
      "len events: 5424\n"
     ]
    }
   ],
   "source": [
    "events = epoch.events[:,-1]\n",
    "event_ids = epoch.event_id\n",
    "print(\"len events:\", len(events))"
   ]
  },
  {
   "cell_type": "code",
   "execution_count": 9,
   "metadata": {},
   "outputs": [
    {
     "data": {
      "text/plain": [
       "(5424, 129, 180)"
      ]
     },
     "execution_count": 9,
     "metadata": {},
     "output_type": "execute_result"
    }
   ],
   "source": [
    "epoch.get_data().shape"
   ]
  },
  {
   "cell_type": "code",
   "execution_count": 10,
   "metadata": {},
   "outputs": [],
   "source": [
    "#combining events of a trail into 1 list\n",
    "trials = []\n",
    "event_trial = []\n",
    "for event in events:\n",
    "    if event == 31 and event_trial != []:\n",
    "        trials.append(event_trial)\n",
    "        event_trial = []\n",
    "        event_trial.append(event)\n",
    "    else:\n",
    "        event_trial.append(event)\n",
    "# print(np.array(trails))"
   ]
  },
  {
   "cell_type": "code",
   "execution_count": null,
   "metadata": {},
   "outputs": [],
   "source": []
  },
  {
   "cell_type": "code",
   "execution_count": 11,
   "metadata": {},
   "outputs": [
    {
     "data": {
      "text/plain": [
       "[{'left_button': 131},\n",
       " {'trail_start': 31,\n",
       "  't_train': 144,\n",
       "  'f_laugh': 162,\n",
       "  'b-f1-pic': 8,\n",
       "  'b-tg-wrd': 3,\n",
       "  'b-f2-pic': 7,\n",
       "  'right_button': 132,\n",
       "  'incongruent': 134,\n",
       "  'incorrect': 130},\n",
       " {'trail_start': 31,\n",
       "  't_laugh': 142,\n",
       "  'f_laugh': 162,\n",
       "  'b-f1-pic': 8,\n",
       "  'b-tg-wrd': 3,\n",
       "  'b-f2-pic': 7,\n",
       "  'right_button': 132,\n",
       "  'congruent': 133,\n",
       "  'correct': 129},\n",
       " {'trail_start': 31,\n",
       "  't_laugh': 142,\n",
       "  'f_laugh': 162,\n",
       "  'b-f1-pic': 8,\n",
       "  'b-tg-wrd': 3,\n",
       "  'b-f2-pic': 7,\n",
       "  'right_button': 132,\n",
       "  'congruent': 133},\n",
       " {'trail_start': 31,\n",
       "  't_laugh': 142,\n",
       "  'f_laugh': 162,\n",
       "  'b-f1-pic': 8,\n",
       "  'b-tg-wrd': 3,\n",
       "  'b-f2-pic': 7,\n",
       "  'right_button': 132,\n",
       "  'congruent': 133,\n",
       "  'correct': 129}]"
      ]
     },
     "execution_count": 11,
     "metadata": {},
     "output_type": "execute_result"
    }
   ],
   "source": [
    "trials_and_events = []\n",
    "trial_dict = {}\n",
    "for trial in trials:\n",
    "    for event in trial:\n",
    "        for key, value in event_ids.items():\n",
    "            if value == event:\n",
    "                trial_dict[key] = event\n",
    "    trials_and_events.append(trial_dict)\n",
    "    trial_dict = {}\n",
    "trials_and_events[:5]"
   ]
  },
  {
   "cell_type": "code",
   "execution_count": 12,
   "metadata": {},
   "outputs": [],
   "source": [
    "#remove dead trail at the beginning of study\n",
    "del trials_and_events[0]"
   ]
  },
  {
   "cell_type": "markdown",
   "metadata": {},
   "source": [
    "###  Combine epochs by trail (event_ids are combined, but combining epochs is a different task)"
   ]
  },
  {
   "cell_type": "code",
   "execution_count": 13,
   "metadata": {},
   "outputs": [
    {
     "data": {
      "text/plain": [
       "(5424, 129, 180)"
      ]
     },
     "execution_count": 13,
     "metadata": {},
     "output_type": "execute_result"
    }
   ],
   "source": [
    "epoch.get_data().shape"
   ]
  },
  {
   "cell_type": "code",
   "execution_count": null,
   "metadata": {},
   "outputs": [],
   "source": []
  },
  {
   "cell_type": "markdown",
   "metadata": {},
   "source": [
    "### combine epochs and give them a label equal to Audio or Visual "
   ]
  },
  {
   "cell_type": "code",
   "execution_count": 12,
   "metadata": {
    "scrolled": true
   },
   "outputs": [],
   "source": [
    "# creating a new dictionary where each trail will equal one of the values in the dictinary Mode_lexi that is defined in \n",
    "# ../preprocessing/StimCodes.ipynb\n",
    "trial_event_ids = []\n",
    "for trial in trials_and_events:\n",
    "    #check individual stim-codes and match them with corresponding combination defined in stimcodes.ipynb\n",
    "    stim_combination = []\n",
    "    \n",
    "    for key in trial:\n",
    "#         print(trial[key])\n",
    "        if int(trial[key]) >= 1 and int(trial[key]) <= 24:\n",
    "            stim_combination.append(trial[key])\n",
    "#             print(stim_combination)\n",
    "        if len(stim_combination) == 3: # stim-code combination complete, it can now be matched to a value in Mode_lexi\n",
    "            stim_combination_tuple = (stim_combination[0],stim_combination[1],stim_combination[2])\n",
    "#             print(stim_combination_tuple)\n",
    "            \n",
    "            for stim_combo_key in modal_lexi:\n",
    "                stim_combo1 = modal_lexi[stim_combo_key][0]\n",
    "                stim_combo2 = modal_lexi[stim_combo_key][1]\n",
    "\n",
    "                if stim_combination_tuple == stim_combo1 or stim_combination == stim_combo2:\n",
    "                    dict = {stim_combo_key : trial}      \n",
    "                    trial_event_ids.append(dict)\n",
    "            break;\n",
    " "
   ]
  },
  {
   "cell_type": "code",
   "execution_count": 15,
   "metadata": {
    "scrolled": false
   },
   "outputs": [
    {
     "data": {
      "text/plain": [
       "[{'VVLN': {'trail_start': 31,\n",
       "   't_laugh': 142,\n",
       "   'f_laugh': 162,\n",
       "   'b-f1-pic': 8,\n",
       "   'b-tg-wrd': 3,\n",
       "   'right_button': 132,\n",
       "   'b-f2-pic': 7,\n",
       "   'congruent': 133}},\n",
       " {'VVLN': {'trail_start': 31,\n",
       "   't_train': 144,\n",
       "   'f_laugh': 162,\n",
       "   'b-f1-pic': 8,\n",
       "   'b-tg-wrd': 3,\n",
       "   'b-f2-pic': 7,\n",
       "   'left_button': 131,\n",
       "   'incongruent': 134,\n",
       "   'correct': 129}},\n",
       " {'VVLN': {'trail_start': 31,\n",
       "   't_laugh': 142,\n",
       "   'f_laugh': 162,\n",
       "   'b-f1-pic': 8,\n",
       "   'b-tg-wrd': 3,\n",
       "   'b-f2-pic': 7,\n",
       "   'right_button': 132,\n",
       "   'congruent': 133}},\n",
       " {'VVLN': {'trail_start': 31,\n",
       "   't_train': 144,\n",
       "   'f_laugh': 162,\n",
       "   'b-f1-pic': 8,\n",
       "   'b-tg-wrd': 3,\n",
       "   'b-f2-pic': 7,\n",
       "   'left_button': 131,\n",
       "   'incongruent': 134}},\n",
       " {'VVLN': {'trail_start': 31,\n",
       "   't_train': 144,\n",
       "   'f_laugh': 162,\n",
       "   'b-f1-pic': 8,\n",
       "   'b-tg-wrd': 3,\n",
       "   'b-f2-pic': 7,\n",
       "   'left_button': 131,\n",
       "   'incongruent': 134}},\n",
       " {'VVNN': {'trail_start': 31,\n",
       "   't_drum': 140,\n",
       "   'f_drum': 160,\n",
       "   'b-f1-pic': 8,\n",
       "   'b-tg-pic': 9,\n",
       "   'b-f2-pic': 7,\n",
       "   'right_button': 132,\n",
       "   'congruent': 133,\n",
       "   'correct': 129}},\n",
       " {'VVNN': {'trail_start': 31,\n",
       "   't_drum': 140,\n",
       "   'f_drum': 160,\n",
       "   'b-f1-pic': 8,\n",
       "   'b-tg-pic': 9,\n",
       "   'b-f2-pic': 7,\n",
       "   'right_button': 132,\n",
       "   'congruent': 133,\n",
       "   'correct': 129}},\n",
       " {'VVNN': {'trail_start': 31,\n",
       "   't_dog': 139,\n",
       "   'f_drum': 160,\n",
       "   'b-f1-pic': 8,\n",
       "   'b-tg-pic': 9,\n",
       "   'b-f2-pic': 7,\n",
       "   'left_button': 131,\n",
       "   'incongruent': 134}},\n",
       " {'VVNN': {'trail_start': 31,\n",
       "   't_dog': 139,\n",
       "   'f_drum': 160,\n",
       "   'b-f1-pic': 8,\n",
       "   'b-tg-pic': 9,\n",
       "   'b-f2-pic': 7,\n",
       "   'left_button': 131,\n",
       "   'incongruent': 134}},\n",
       " {'VVNN': {'trail_start': 31,\n",
       "   't_dog': 139,\n",
       "   'f_drum': 160,\n",
       "   'b-f1-pic': 8,\n",
       "   'b-tg-pic': 9,\n",
       "   'b-f2-pic': 7,\n",
       "   'left_button': 131,\n",
       "   'incongruent': 134}},\n",
       " {'VVNN': {'trail_start': 31,\n",
       "   't_drum': 140,\n",
       "   'f_drum': 160,\n",
       "   'b-f1-pic': 8,\n",
       "   'b-tg-pic': 9,\n",
       "   'right_button': 132,\n",
       "   'b-f2-pic': 7,\n",
       "   'congruent': 133,\n",
       "   'correct': 129}},\n",
       " {'VVNN': {'trail_start': 31,\n",
       "   't_dog': 139,\n",
       "   'f_drum': 160,\n",
       "   'b-f1-pic': 8,\n",
       "   'b-tg-pic': 9,\n",
       "   'b-f2-pic': 7,\n",
       "   'left_button': 131,\n",
       "   'incongruent': 134,\n",
       "   'correct': 129}},\n",
       " {'VVNN': {'trail_start': 31,\n",
       "   't_drum': 140,\n",
       "   'f_drum': 160,\n",
       "   'b-f1-pic': 8,\n",
       "   'b-tg-pic': 9,\n",
       "   'b-f2-pic': 7,\n",
       "   'right_button': 132,\n",
       "   'congruent': 133}},\n",
       " {'VVNN': {'trail_start': 31,\n",
       "   't_drum': 140,\n",
       "   'f_drum': 160,\n",
       "   'b-f1-pic': 8,\n",
       "   'b-tg-pic': 9,\n",
       "   'b-f2-pic': 7,\n",
       "   'right_button': 132,\n",
       "   'congruent': 133}},\n",
       " {'VVNN': {'trail_start': 31,\n",
       "   't_dog': 139,\n",
       "   'f_drum': 160,\n",
       "   'b-f1-pic': 8,\n",
       "   'b-tg-pic': 9,\n",
       "   'b-f2-pic': 7,\n",
       "   'right_button': 132,\n",
       "   'incongruent': 134}}]"
      ]
     },
     "execution_count": 15,
     "metadata": {},
     "output_type": "execute_result"
    }
   ],
   "source": [
    "trial_event_ids[15:30] #this trial has stim-code combination VVLN, which is a visual stimuli "
   ]
  },
  {
   "cell_type": "code",
   "execution_count": 16,
   "metadata": {},
   "outputs": [
    {
     "ename": "NameError",
     "evalue": "name 'epochs' is not defined",
     "output_type": "error",
     "traceback": [
      "\u001b[1;31m---------------------------------------------------------------------------\u001b[0m",
      "\u001b[1;31mNameError\u001b[0m                                 Traceback (most recent call last)",
      "\u001b[1;32m<ipython-input-16-f410ac6cb365>\u001b[0m in \u001b[0;36m<module>\u001b[1;34m()\u001b[0m\n\u001b[1;32m----> 1\u001b[1;33m \u001b[0mupdated_epochs\u001b[0m \u001b[1;33m=\u001b[0m \u001b[0mepochs\u001b[0m\u001b[1;33m[\u001b[0m\u001b[1;36m1\u001b[0m\u001b[1;33m:\u001b[0m\u001b[1;33m]\u001b[0m\u001b[1;31m#dropped first epoch - it is a dead epoch\u001b[0m\u001b[1;33m\u001b[0m\u001b[0m\n\u001b[0m\u001b[0;32m      2\u001b[0m \u001b[0mtrial_epochs\u001b[0m \u001b[1;33m=\u001b[0m \u001b[1;33m[\u001b[0m\u001b[1;33m]\u001b[0m\u001b[1;33m\u001b[0m\u001b[0m\n\u001b[0;32m      3\u001b[0m \u001b[1;33m\u001b[0m\u001b[0m\n\u001b[0;32m      4\u001b[0m \u001b[1;32mfor\u001b[0m \u001b[0mepoch\u001b[0m \u001b[1;32min\u001b[0m \u001b[0mupdated_epochs\u001b[0m\u001b[1;33m:\u001b[0m\u001b[1;33m\u001b[0m\u001b[0m\n\u001b[0;32m      5\u001b[0m     \u001b[1;36m2\u001b[0m\u001b[1;33m\u001b[0m\u001b[0m\n",
      "\u001b[1;31mNameError\u001b[0m: name 'epochs' is not defined"
     ]
    }
   ],
   "source": [
    "updated_epochs = epochs[1:]#dropped first epoch - it is a dead epoch\n",
    "trial_epochs = []\n",
    "\n",
    "for epoch in updated_epochs:\n",
    "    2\n",
    "epoch.get_data()[:2,:,:].shape"
   ]
  },
  {
   "cell_type": "code",
   "execution_count": 18,
   "metadata": {},
   "outputs": [],
   "source": [
    "#combine epochs into trials with index of epochs of a trial\n",
    "trials = []\n",
    "event_trial = []\n",
    "start_index = 0\n",
    "current_index = 0\n",
    "\n",
    "for i in range(len(events)):\n",
    "    if events[i] == 31 and event_trial != []:\n",
    "        \n",
    "        trials.append([(start_index, current_index),event_trial])\n",
    "        \n",
    "        event_trial = []\n",
    "        start_index+=1\n",
    "        event_trial.append(events[i])\n",
    "    else:\n",
    "        current_index+=1\n",
    "        event_trial.append(events[i])"
   ]
  },
  {
   "cell_type": "code",
   "execution_count": 20,
   "metadata": {},
   "outputs": [],
   "source": [
    "# now I can create a list of epoch objects indicating trials\n",
    "epoch_trials = []\n",
    "for trial in trials:\n",
    "    start_index, end_index = trial[0]\n",
    "    epoch_trials.append(epoch.get_data()[start_index:end_index,:,:])\n",
    "    "
   ]
  },
  {
   "cell_type": "code",
   "execution_count": 24,
   "metadata": {},
   "outputs": [
    {
     "data": {
      "text/plain": [
       "(1, 129, 180)"
      ]
     },
     "execution_count": 24,
     "metadata": {},
     "output_type": "execute_result"
    }
   ],
   "source": [
    "np.array(epoch_trials).shape"
   ]
  },
  {
   "cell_type": "code",
   "execution_count": null,
   "metadata": {},
   "outputs": [],
   "source": []
  }
 ],
 "metadata": {
  "kernelspec": {
   "display_name": "Python 3",
   "language": "python",
   "name": "python3"
  },
  "language_info": {
   "codemirror_mode": {
    "name": "ipython",
    "version": 3
   },
   "file_extension": ".py",
   "mimetype": "text/x-python",
   "name": "python",
   "nbconvert_exporter": "python",
   "pygments_lexer": "ipython3",
   "version": "3.6.6"
  }
 },
 "nbformat": 4,
 "nbformat_minor": 2
}
