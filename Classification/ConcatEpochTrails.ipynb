{
 "cells": [
  {
   "cell_type": "markdown",
   "metadata": {},
   "source": [
    "## Extract trails\n",
    "* This notebook will concatenate all epochs assoicated with a trail in to one data point.\n",
    "* The goal of this is to try to describe data as a binary label\n",
    "    * In other words a trail can be described as congruent or incongruent"
   ]
  },
  {
   "cell_type": "code",
   "execution_count": 1,
   "metadata": {},
   "outputs": [],
   "source": [
    "%run ../preprocessing/Artifact_Removal/preprocecssing_helpers.ipynb\n",
    "%run ../preprocessing/StimCodes.ipynb\n",
    "import os\n",
    "\n",
    "import mne\n",
    "from mne.preprocessing import ICA\n",
    "import numpy as np\n",
    "import matplotlib.pyplot as plt\n",
    "%matplotlib inline\n",
    "import matplotlib\n",
    "matplotlib.rcParams['figure.figsize'] = (10.0, 10.0)\n",
    "matplotlib.rcParams.update({'font.size': 15})\n",
    "\n",
    "import time\n",
    "\n",
    "from sklearn.preprocessing import StandardScaler, normalize"
   ]
  },
  {
   "cell_type": "code",
   "execution_count": 20,
   "metadata": {},
   "outputs": [
    {
     "name": "stdout",
     "output_type": "stream",
     "text": [
      "Reading F:\\EpochedEEG\\20140205_1114_epo.fif ...\n",
      "    Found the data of interest:\n",
      "        t =    -199.22 ...     500.00 ms\n",
      "        0 CTF compensation matrices available\n",
      "5379 matching events found\n",
      "Applying baseline correction (mode: mean)\n",
      "5379 matching events found\n",
      "Applying baseline correction (mode: mean)\n",
      "Not setting metadata\n",
      "0 projection items activated\n"
     ]
    }
   ],
   "source": [
    "# # path = 'F:\\EpochedEEG'\n",
    "# path = '/Volumes/SB/EpochedEEG/'\n",
    "# epoch_files = os.listdir(path)\n",
    "# file = os.path.join(path,epoch_files[1])\n",
    "# epoch = mne.read_epochs(file, preload = True)"
   ]
  },
  {
   "cell_type": "code",
   "execution_count": 4,
   "metadata": {},
   "outputs": [],
   "source": [
    "# #UPDATES THE STIM CODE EVENT_IDS TO THEIR CORRECT VALUES\n",
    "# epoch = update_stim_code_event_ids(epoch)"
   ]
  },
  {
   "cell_type": "code",
   "execution_count": null,
   "metadata": {
    "scrolled": true
   },
   "outputs": [],
   "source": [
    "# epoch.event_id"
   ]
  },
  {
   "cell_type": "code",
   "execution_count": 17,
   "metadata": {},
   "outputs": [
    {
     "name": "stdout",
     "output_type": "stream",
     "text": [
      "len events: 5384\n"
     ]
    }
   ],
   "source": [
    "# events = epoch.events[:,-1]\n",
    "# event_ids = epoch.event_id\n",
    "# print(\"len events:\", len(events))"
   ]
  },
  {
   "cell_type": "code",
   "execution_count": 23,
   "metadata": {},
   "outputs": [
    {
     "data": {
      "text/plain": [
       "array([[6403,    0,   13],\n",
       "       [6631,    0,  132],\n",
       "       [6633,    0,  133],\n",
       "       [6808,    0,   31],\n",
       "       [6810,    0,  145],\n",
       "       [6811,  145,  159],\n",
       "       [6817,    0,   14],\n",
       "       [6942,    0,   21],\n",
       "       [7071,    0,   13],\n",
       "       [7387,    0,  132],\n",
       "       [7389,    0,  134],\n",
       "       [7558,    0,   31],\n",
       "       [7559,   31,  139],\n",
       "       [7560,  139,  159],\n",
       "       [7566,    0,   14]])"
      ]
     },
     "execution_count": 23,
     "metadata": {},
     "output_type": "execute_result"
    }
   ],
   "source": [
    "# epoch.events[30:45]"
   ]
  },
  {
   "cell_type": "code",
   "execution_count": 9,
   "metadata": {},
   "outputs": [
    {
     "name": "stdout",
     "output_type": "stream",
     "text": [
      "[list([131]) list([31, 139, 165, 14, 21, 13, 132, 134])\n",
      " list([31, 145, 165, 14, 21, 13, 132, 133])\n",
      " list([31, 145, 165, 14, 21, 13, 132, 133])\n",
      " list([31, 145, 165, 14, 21, 13, 132, 133])]\n"
     ]
    }
   ],
   "source": [
    "# #combining events of a trail into 1 list\n",
    "# trials = []\n",
    "# event_trial = []\n",
    "# start_index = 0\n",
    "# end_index = 0\n",
    "# for event in events:\n",
    "#     if event == 31 and event_trial != []:\n",
    "# #         event_trial.append(event)\n",
    "#         trials.append(event_trial)\n",
    "#         event_trial = []\n",
    "#         event_trial.append(event)\n",
    "#     else:\n",
    "#         event_trial.append(event)\n",
    "# print(np.array(trials)[:5])"
   ]
  },
  {
   "cell_type": "code",
   "execution_count": 7,
   "metadata": {},
   "outputs": [
    {
     "name": "stdout",
     "output_type": "stream",
     "text": [
      "[list([131]) list([31, 139, 165, 14, 21, 13, 132, 134])\n",
      " list([31, 145, 165, 14, 21, 13, 132, 133])\n",
      " list([31, 145, 165, 14, 21, 13, 132, 133])\n",
      " list([31, 145, 165, 14, 21, 13, 132, 133])]\n"
     ]
    }
   ],
   "source": [
    "# #combining events of a trail into 1 list\n",
    "# trials_1 = []\n",
    "# event_trial_1 = []\n",
    "# start_index = 0\n",
    "# end_index = 0\n",
    "# trial_index_list = []\n",
    "# for i in range(len(events)):\n",
    "#     if events[i] == 31 and event_trial != []:\n",
    "#         trial_index_list.append((start_index, end_index))\n",
    "#         trials_1.append(event_trial_1)\n",
    "#         event_trial_1 = []\n",
    "#         event_trial_1.append(events[i])\n",
    "#         start_index = i\n",
    "#         end_index +=1\n",
    "#     else:\n",
    "#         end_index +=1\n",
    "#         event_trial_1.append(events[i])\n",
    "# print(np.array(trials_1)[:5])"
   ]
  },
  {
   "cell_type": "code",
   "execution_count": 7,
   "metadata": {},
   "outputs": [
    {
     "ename": "SyntaxError",
     "evalue": "invalid syntax (<ipython-input-7-f3c24164534b>, line 11)",
     "output_type": "error",
     "traceback": [
      "\u001b[1;36m  File \u001b[1;32m\"<ipython-input-7-f3c24164534b>\"\u001b[1;36m, line \u001b[1;32m11\u001b[0m\n\u001b[1;33m    else if i ==\u001b[0m\n\u001b[1;37m          ^\u001b[0m\n\u001b[1;31mSyntaxError\u001b[0m\u001b[1;31m:\u001b[0m invalid syntax\n"
     ]
    }
   ],
   "source": [
    "def get_trial_index_list(epoch_object):\n",
    "    start_index = 0\n",
    "    end_index = 0\n",
    "    trial_index_list = []\n",
    "    events = epoch_object.events[:,-1]\n",
    "    for i in range(len(events)):\n",
    "        if events[i] == 31:\n",
    "            trial_index_list.append((start_index, end_index))\n",
    "            start_index = i\n",
    "            end_index +=1            \n",
    "        else:\n",
    "            end_index +=1\n",
    "#     print(start_index,end_index)\n",
    "    # I need to add the value of the last'end' tuple, the full trial index list being cut off before the last trial. \n",
    "    trial_index_list.append((start_index, end_index ))\n",
    "    return trial_index_list"
   ]
  },
  {
   "cell_type": "code",
   "execution_count": 6,
   "metadata": {},
   "outputs": [],
   "source": [
    "# t_list = get_trial_index_list(epoch_object=epoch)"
   ]
  },
  {
   "cell_type": "code",
   "execution_count": null,
   "metadata": {},
   "outputs": [],
   "source": [
    "# events[trial_index_list[-1][0]:trial_index_list[-1][1]]"
   ]
  },
  {
   "cell_type": "code",
   "execution_count": null,
   "metadata": {},
   "outputs": [],
   "source": [
    "# #create a list of dictionaries for trials where each dictionary\n",
    "# # contains the event_ids of a trial.\n",
    "# trials_and_events = []\n",
    "# trial_dict = {}\n",
    "# for trial in trials:\n",
    "#     for event in trial:\n",
    "#         for key, value in event_ids.items():\n",
    "#             if value == event:\n",
    "#                 trial_dict[key] = event\n",
    "#     trials_and_events.append(trial_dict)\n",
    "#     trial_dict = {}\n",
    "# trials_and_events[:3]"
   ]
  },
  {
   "cell_type": "code",
   "execution_count": null,
   "metadata": {},
   "outputs": [],
   "source": [
    "#remove dead trail at the beginning of study\n",
    "# del trials_and_events[0]"
   ]
  },
  {
   "cell_type": "markdown",
   "metadata": {},
   "source": [
    "###  Combine epochs by trail (event_ids are combined, but combining epochs is a different task)"
   ]
  },
  {
   "cell_type": "markdown",
   "metadata": {},
   "source": [
    "### combine epochs and give them a label equal to Audio or Visual "
   ]
  },
  {
   "cell_type": "code",
   "execution_count": null,
   "metadata": {
    "scrolled": true
   },
   "outputs": [],
   "source": [
    "# # creating a new dictionary where each trail will equal one of the values in the dictinary Mode_lexi that is defined in \n",
    "# # ../preprocessing/StimCodes.ipynb\n",
    "# trial_event_ids = []\n",
    "# count = 0\n",
    "# for trial in trials_and_events:\n",
    "#     #check individual stim-codes and match them with corresponding combination defined in stimcodes.ipynb\n",
    "#     stim_combination = []\n",
    "    \n",
    "#     for key in trial:\n",
    "# #         print(trial[key])\n",
    "#         if int(trial[key]) >= 1 and int(trial[key]) <= 24:\n",
    "#             stim_combination.append(trial[key])\n",
    "# #             print(stim_combination)\n",
    "#         if len(stim_combination) == 3: # stim-code combination complete, it can now be matched to a value in Mode_lexi\n",
    "#             stim_combination_tuple = (stim_combination[0],stim_combination[1],stim_combination[2])\n",
    "# #             print(stim_combination_tuple)\n",
    "            \n",
    "#             try:#check if stim combination tuple is valid\n",
    "#                 stim_combo_key = stim_combinations[stim_combination_tuple]\n",
    "#                 dict = {stim_combo_key : trial}\n",
    "#                 trial_event_ids.append(dict)\n",
    "#             except:\n",
    "#                 print(\"stim cominbation {0} not valid\".format(stim_combination_tuple))\n",
    "#                 print(trial)\n",
    "#             break;\n",
    "# trial_event_ids[2]"
   ]
  },
  {
   "cell_type": "code",
   "execution_count": null,
   "metadata": {},
   "outputs": [],
   "source": [
    "# trial_event_ids[0] #this trial has stim-code combination VVLN, which is a visual stimuli \n",
    "# len(trial_event_ids)"
   ]
  },
  {
   "cell_type": "markdown",
   "metadata": {},
   "source": [
    "## Event_ids are concatentated, but now I need to concatentate epochs\n",
    "* This will be done by changing event_ids of a trial into a new event event_id that will describe all epochs in that trial. "
   ]
  },
  {
   "cell_type": "markdown",
   "metadata": {},
   "source": [
    "Trying a new method where I have one epoch object that will continuously be concatentated with another temporary epoch object."
   ]
  },
  {
   "cell_type": "code",
   "execution_count": null,
   "metadata": {},
   "outputs": [],
   "source": [
    "#new Event_ids\n",
    "modality_lexicality_event_ids = {\n",
    "   \"AALL\" : 112,\n",
    "   \"AALN\" : 212,\n",
    "   \"AANL\" : 312,\n",
    "   \"AANN\" : 412,\n",
    "   \"AVLL\" : 512,\n",
    "   \"AVNN\" : 612,\n",
    "   \"VALL\" : 712,\n",
    "   \"VANN\" : 812,\n",
    "   \"VVLL\" : 912,\n",
    "   \"VVLN\" : 1012,\n",
    "   \"VVNL\" : 1112,\n",
    "   \"VVNN\" : 1212\n",
    "}"
   ]
  },
  {
   "cell_type": "markdown",
   "metadata": {},
   "source": [
    "Use mne.merge_events to combine events"
   ]
  },
  {
   "cell_type": "code",
   "execution_count": null,
   "metadata": {},
   "outputs": [],
   "source": [
    "def get_stim_code_combination(epoch_object,stim_combinations_dict):\n",
    "    stim_codes = []\n",
    "    for event in epoch_object.events[:,-1]: #iterate over event_ids\n",
    "        if event >= 1 and event <= 24:\n",
    "            stim_codes.append(event)\n",
    "            if len(stim_codes) == 3:\n",
    "                stim_codes_tuple = (stim_codes[0],stim_codes[1],stim_codes[2])\n",
    "                return stim_combinations[stim_codes_tuple]\n",
    "    return \"NaN\""
   ]
  },
  {
   "cell_type": "code",
   "execution_count": 1,
   "metadata": {},
   "outputs": [],
   "source": [
    "def convert_event_ids_to_stim_combinations(epoch_object, trial_index_list, stim_combinations):\n",
    "    \"\"\"\n",
    "        epoch_object: mne.epochs.EpochsFIF object\n",
    "        ----\n",
    "        trial_index_list: A list containing the start and end index for each trial of an epoch object\n",
    "        ----\n",
    "        stim_combinations: A dictionary whose keys are 3-tuples and values are corressponding stim-code combination value\n",
    "                           ex. { (5,6,4) : \"AALL\" }\n",
    "        ---\n",
    "        returns\n",
    "            List of Lists containing events for an epoch object. \n",
    "            \n",
    "    \"\"\"\n",
    "    new_events_master = []\n",
    "    copy_epoch = epoch_object.copy()\n",
    "    print(\"events shape: {}\".format(epoch_object.events.shape))\n",
    "    print(\"\")\n",
    "    for i in range(len(trial_index_list)): # iterate through trial index list\n",
    "    # extract start and end index\n",
    "\n",
    "        start = trial_index_list[i][0]\n",
    "        end = trial_index_list[i][1]\n",
    "\n",
    "        #initialize temp epoch object between start - end indices\n",
    "#         print(start,end)\n",
    "        temp_epoch = copy_epoch[start:end]\n",
    "        # get temp epoch events\n",
    "        temp_epoch_events = temp_epoch.events\n",
    "        temp_epoch_event_ids = temp_epoch_events[:,-1]\n",
    "        \n",
    "        stim_code_key = get_stim_code_combination(temp_epoch, stim_combinations)\n",
    "        \n",
    "        if stim_code_key != 'NaN':\n",
    "            new_event_id = modality_lexicality_event_ids[stim_code_key]\n",
    "\n",
    "            temp_epoch_merged_events = mne.merge_events(temp_epoch_events,\n",
    "                                                        temp_epoch_event_ids,\n",
    "                                                        new_event_id,\n",
    "                                                        replace_events = True)\n",
    "\n",
    "            new_events_master.append(temp_epoch_merged_events)\n",
    "\n",
    "        else:\n",
    "            \n",
    "            print(\"Could not find stim-code combination.\")\n",
    "            print(\"error in trial index: {}\".format(trial_index_list[i]))\n",
    "            new_events_master.append(temp_epoch_events)\n",
    "#             print(\"Meta: stim-combo-key: {0}\".format(stim_code_key))\n",
    "    \n",
    "    \n",
    "    new_events_master = np.array(new_events_master).reshape(-1,1)\n",
    "    print(np.array(new_events_master).shape)\n",
    "    return_array = np.concatenate([x for x in new_events_master])\n",
    "    return np.concatenate([x for x in return_array])"
   ]
  }
 ],
 "metadata": {
  "kernelspec": {
   "display_name": "Python 3",
   "language": "python",
   "name": "python3"
  },
  "language_info": {
   "codemirror_mode": {
    "name": "ipython",
    "version": 3
   },
   "file_extension": ".py",
   "mimetype": "text/x-python",
   "name": "python",
   "nbconvert_exporter": "python",
   "pygments_lexer": "ipython3",
   "version": "3.6.5"
  }
 },
 "nbformat": 4,
 "nbformat_minor": 2
}
