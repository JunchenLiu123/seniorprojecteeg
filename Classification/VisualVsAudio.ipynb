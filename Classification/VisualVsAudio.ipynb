{
 "cells": [
  {
   "cell_type": "markdown",
   "metadata": {},
   "source": [
    "## Classifying Audio Vs Visual labels "
   ]
  },
  {
   "cell_type": "code",
   "execution_count": null,
   "metadata": {},
   "outputs": [],
   "source": [
    "%run ../preprocessing/Artifact_Removal/preprocecssing_helpers.ipynb\n",
    "%run ../preprocessing/Artifact_Removal/Extract_Describer_Events.ipynb\n",
    "%run ../preprocessing/StimCodes.ipynb\n",
    "%run ../Classification/ConcatEpochTrails.ipynb\n",
    "%run ../PCA/Emmanuil-PCA.ipynb\n",
    "import mne \n",
    "import sys\n",
    "from mne import io, EvokedArray\n",
    "from mne.decoding import Vectorizer, get_coef\n",
    "from sklearn.preprocessing import MinMaxScaler, Normalizer\n",
    "from sklearn.preprocessing import StandardScaler\n",
    "from sklearn.pipeline import make_pipeline\n",
    "from sklearn.linear_model import LogisticRegression\n",
    "from sklearn.model_selection import train_test_split\n",
    "from sklearn.model_selection import StratifiedKFold\n",
    "from sklearn.metrics import classification_report\n",
    "from sklearn.svm import SVC  # noqa\n",
    "from sklearn.model_selection import ShuffleSplit  # noqa\n",
    "\n",
    "from mne.decoding import UnsupervisedSpatialFilter, SlidingEstimator,cross_val_multiscore\n",
    "from sklearn.decomposition import PCA\n",
    "\n",
    "from sklearn.metrics import confusion_matrix\n",
    "from mne.viz import tight_layout\n",
    "from mne.decoding import LinearModel\n",
    "import matplotlib.pyplot as plt\n",
    "import numpy as np\n",
    "matplotlib.rcParams['figure.figsize'] = (15, 15)\n",
    "matplotlib.rcParams.update({'font.size': 15})\n",
    "%matplotlib inline\n",
    "import time\n",
    "\n",
    "byteToGB = 1000000000"
   ]
  },
  {
   "cell_type": "code",
   "execution_count": null,
   "metadata": {},
   "outputs": [],
   "source": [
    "# path = 'E:/correct_time_epochs/'\n",
    "path = '/sharedData3/proj_mdg/scratch-eproj/NEW_EPOCH_DATA/'\n",
    "epoch_files = os.listdir(path)\n",
    "epoch_files[:5]\n",
    "file = os.path.join(path, epoch_files[0]) #19"
   ]
  },
  {
   "cell_type": "code",
   "execution_count": null,
   "metadata": {},
   "outputs": [],
   "source": [
    "epoch_files;"
   ]
  },
  {
   "cell_type": "code",
   "execution_count": null,
   "metadata": {},
   "outputs": [],
   "source": [
    "# read epoch object \n",
    "epoch = mne.read_epochs(file, preload= True)"
   ]
  },
  {
   "cell_type": "code",
   "execution_count": null,
   "metadata": {},
   "outputs": [],
   "source": [
    "epochs_list = []\n",
    "total_bytes = 0\n",
    "master_epochs_list = []\n",
    "for file in epoch_files:\n",
    "    if total_bytes/byteToGB > 4:\n",
    "        master_epochs_list.append(epochs_list)\n",
    "        epochs_list = []\n",
    "        total_bytes = 0\n",
    "    else:\n",
    "        epoch_path = os.path.join(path, file)\n",
    "        epoch = mne.read_epochs(epoch_path, preload = True)\n",
    "        new_epoch = convert_epoch_object_events(epoch_object=epoch.copy())\n",
    "        epochs_list.append(new_epoch)\n",
    "        total_bytes += sys.getsizeof(new_epoch.get_data())\n",
    "        print(\"total_bytes:\", total_bytes)\n",
    "#         print(new_epoch.events)\n",
    "# master_epochs = mne.epochs.concatenate_epochs(epochs_list)"
   ]
  },
  {
   "cell_type": "code",
   "execution_count": 4,
   "metadata": {},
   "outputs": [],
   "source": [
    "combined_master_list_epochs = []\n",
    "for i in range(len(master_epochs_list)):\n",
    "    combined_master_list_epochs.append(mne.epochs.concatenate_epochs(master_epochs_list[i]))\n",
    " "
   ]
  },
  {
   "cell_type": "code",
   "execution_count": null,
   "metadata": {},
   "outputs": [],
   "source": [
    "sub_1_master_epochs = mne.epochs.concatenate_epochs(combined_master_list_epochs[:3])"
   ]
  },
  {
   "cell_type": "code",
   "execution_count": 5,
   "metadata": {},
   "outputs": [
    {
     "name": "stdout",
     "output_type": "stream",
     "text": [
      "33012 matching events found\n",
      "Applying baseline correction (mode: mean)\n",
      "Not setting metadata\n",
      "0 bad epochs dropped\n"
     ]
    }
   ],
   "source": [
    "sub_2_master_epochs = mne.epochs.concatenate_epochs([combined_master_list_epochs[0], combined_master_list_epochs[1]])"
   ]
  },
  {
   "cell_type": "code",
   "execution_count": null,
   "metadata": {},
   "outputs": [],
   "source": []
  },
  {
   "cell_type": "code",
   "execution_count": null,
   "metadata": {},
   "outputs": [],
   "source": [
    "new_events = convert_epoch_events_to_stim_combinations(master_epochs)\n",
    "master_epochs.events = new_events"
   ]
  },
  {
   "cell_type": "code",
   "execution_count": null,
   "metadata": {},
   "outputs": [],
   "source": []
  },
  {
   "cell_type": "code",
   "execution_count": null,
   "metadata": {},
   "outputs": [],
   "source": [
    "# drop bad channels \n",
    "if 'Nasium' in master_epochs.ch_names:\n",
    "    master_epochs.drop_channels(ch_names=['Nasium', 'LL4', 'L12', 'VEOG']);"
   ]
  },
  {
   "cell_type": "code",
   "execution_count": null,
   "metadata": {},
   "outputs": [],
   "source": [
    "def get_audio_visual_labels(epoch_object):\n",
    "    events = epoch_object.events[:,-1]\n",
    "    labels = []\n",
    "    for event in events:\n",
    "        if event < 700:\n",
    "            labels.append(0)\n",
    "        else:\n",
    "            labels.append(1)\n",
    "    return np.array(labels)"
   ]
  },
  {
   "cell_type": "code",
   "execution_count": null,
   "metadata": {},
   "outputs": [],
   "source": [
    "def get_frequency_band(band, epoch_object):\n",
    "    \"\"\"\n",
    "    Description:\n",
    "        returns an epoch object with a filtered frequency band\n",
    "    \n",
    "    Variables: \n",
    "        band : \n",
    "            'Theta':(4,7),\n",
    "            'Alpha':(8,12),\n",
    "            'Beta':(13,25),\n",
    "            'Gamma':(30,45)\n",
    "        epoch_object: mne.epoch\n",
    "    -----\n",
    "    returns: epoch object\n",
    "    \n",
    "    \"\"\"\n",
    "    iter_freqs = {\n",
    "        'Theta':(4,7),\n",
    "        'Alpha':(8,12),\n",
    "        'Beta':(13,25),\n",
    "        'Gamma':(30,45)\n",
    "    }\n",
    "    copy_epoch = epoch_object.copy()\n",
    "    copy_epoch.filter(l_freq= iter_freqs[band][0],\n",
    "                    h_freq = iter_freqs[band][1])\n",
    "    \n",
    "    return copy_epoch"
   ]
  },
  {
   "cell_type": "code",
   "execution_count": null,
   "metadata": {},
   "outputs": [],
   "source": [
    "def classify_lgr(epoch_object, data_range, do_mean_stats = False, freq_band ='None'):\n",
    "    clf = make_pipeline(Vectorizer(),\n",
    "                        StandardScaler(),\n",
    "                        LinearModel(LogisticRegression(solver='lbfgs',max_iter=1000)))\n",
    "    start_master = time.time()\n",
    "    new_events = convert_epoch_events_to_stim_combinations(epoch_object= epoch_object)\n",
    "    \n",
    "    epoch_object.events = new_events\n",
    "    labels = get_audio_visual_labels(epoch_object)\n",
    "    \n",
    "    start_master = time.time()\n",
    "    cv = StratifiedKFold(n_splits=5, shuffle = True, random_state = 42)\n",
    "    \n",
    "    if freq_band.lower() == 'gamma':\n",
    "        freq_data = get_frequency_band('Gamma', epoch_object=epoch_object)\n",
    "    elif freq_band.lower() == 'alpha':\n",
    "        freq_data = get_frequency_band('Alpha', epoch_object=epoch_object)\n",
    "    elif freq_band.lower() == 'beta':\n",
    "        freq_data = get_frequency_band('Beta', epoch_object=epoch_object)\n",
    "    elif freq_band.lower() == 'theta':\n",
    "        freq_data = get_frequency_band('Theta', epoch_object=epoch_object)\n",
    "    elif freq_band.lower() =='none':\n",
    "        freq_data = epoch_object.get_data()\n",
    "    else:\n",
    "        return \"{0} is an invalid frequency band! \\n Please select \\\n",
    "                Theta, Alpha, Beta, or Gamma\".format(freq_band)\n",
    "        \n",
    "    \n",
    "    if do_mean_stats:\n",
    "        data = get_mean_band(freq_data)\n",
    "        data = data.swapaxes(1,2)\n",
    "    else:\n",
    "        data = freq_data\n",
    "    \n",
    "    data = data[:,:,data_range[0]:data_range[1]]\n",
    "    print(data.shape)\n",
    "    print(labels.shape)\n",
    "    preds = np.empty(len(data))\n",
    "    \n",
    "    for train, test in cv.split(data, labels):\n",
    "        start = time.time()\n",
    "        clf.fit(data[train], labels[train])\n",
    "        preds[test] = clf.predict(data[test])\n",
    "        try:\n",
    "            print(clf.score(data[test], labels[test]))\n",
    "        except:\n",
    "            print(\"could not get score\")\n",
    "        end = time.time()\n",
    "        print(\"kfold elapsed time: {0}\".format(end - start))\n",
    "    end = time.time()\n",
    "    print(\"classification elapsed time: {0}\".format(end - start_master))\n",
    "\n",
    "    start = time.time()\n",
    "    target_names = ['Audio', 'Visual']\n",
    "    report = classification_report(labels, preds, target_names=target_names)\n",
    "    print(report)\n",
    "    end = time.time()\n",
    "    print(\"reporting elapsed time: {0}\".format(end - start))\n",
    "    \n",
    "    return report"
   ]
  },
  {
   "cell_type": "code",
   "execution_count": null,
   "metadata": {},
   "outputs": [],
   "source": [
    "audioVisualLabels = get_audio_visual_labels(master_epochs)"
   ]
  },
  {
   "cell_type": "code",
   "execution_count": null,
   "metadata": {},
   "outputs": [],
   "source": [
    "print(len([x for x in audioVisualLabels if x == 0]))\n",
    "len([x for x in audioVisualLabels if x == 1])"
   ]
  },
  {
   "cell_type": "code",
   "execution_count": null,
   "metadata": {},
   "outputs": [],
   "source": [
    "len(audioLabels)"
   ]
  },
  {
   "cell_type": "code",
   "execution_count": null,
   "metadata": {},
   "outputs": [],
   "source": [
    "try:\n",
    "    classify_lgr(epoch_object=master_epochs.copy(),data_range=[0,300],  do_mean_stats=False, freq_band='None')\n",
    "except:\n",
    "    print(\"Oops, something went wrong!\")"
   ]
  },
  {
   "cell_type": "code",
   "execution_count": null,
   "metadata": {},
   "outputs": [],
   "source": [
    "try:\n",
    "    classify_lgr(epoch_object=master_epochs.copy(),data_range=[0,300],  do_mean_stats=True, freq_band='None')\n",
    "except:\n",
    "    print(\"Oops, something went wrong!\")"
   ]
  },
  {
   "cell_type": "code",
   "execution_count": null,
   "metadata": {},
   "outputs": [],
   "source": [
    "try:\n",
    "    classify_lgr(epoch_object=master_epochs.copy(),data_range=[0,300],  do_mean_stats=False, freq_band='Alpha')\n",
    "except:\n",
    "    print(\"Oops, something went wrong!\")"
   ]
  },
  {
   "cell_type": "code",
   "execution_count": null,
   "metadata": {},
   "outputs": [],
   "source": [
    "try:\n",
    "    classify_lgr(epoch_object=master_epochs.copy(),data_range=[0,300],  do_mean_stats=False, freq_band='Beta')\n",
    "except:\n",
    "    print(\"Oops, something went wrong!\")"
   ]
  },
  {
   "cell_type": "code",
   "execution_count": null,
   "metadata": {},
   "outputs": [],
   "source": [
    "try:\n",
    "    classify_lgr(epoch_object=master_epochs.copy(),data_range=[0,300],  do_mean_stats=False, freq_band='Gamma')\n",
    "except:\n",
    "    print(\"Oops, something went wrong!\")"
   ]
  },
  {
   "cell_type": "code",
   "execution_count": null,
   "metadata": {},
   "outputs": [],
   "source": [
    "try:\n",
    "    classify_lgr(epoch_object=master_epochs.copy(),data_range=[0,300],  do_mean_stats=False, freq_band='Theta')\n",
    "except:\n",
    "    print(\"Oops, something went wrong!\")"
   ]
  },
  {
   "cell_type": "code",
   "execution_count": null,
   "metadata": {},
   "outputs": [],
   "source": [
    "classify_lgr(epoch_object=master_epochs.copy(),data_range=[0,300],  do_mean_stats=True, freq_band='None')"
   ]
  },
  {
   "cell_type": "code",
   "execution_count": null,
   "metadata": {},
   "outputs": [],
   "source": [
    "epoch = mne.read_epochs(file, preload= True)"
   ]
  },
  {
   "cell_type": "code",
   "execution_count": null,
   "metadata": {},
   "outputs": [],
   "source": [
    "alpha_report = classify_lgr(epoch_object=epoch.copy(), do_mean_stats=False, freq_band='Alpha')"
   ]
  },
  {
   "cell_type": "code",
   "execution_count": null,
   "metadata": {},
   "outputs": [],
   "source": [
    "alpha_report_mean_stats = classify_lgr(epoch_object=epoch.copy(), do_mean_stats=True, freq_band='alpha')"
   ]
  },
  {
   "cell_type": "code",
   "execution_count": null,
   "metadata": {},
   "outputs": [],
   "source": [
    "beta_report = classify_lgr(epoch_object=epoch.copy(), do_mean_stats=False, freq_band='beta')\n",
    "beta_report_mean_stats = classify_lgr(epoch_object=epoch.copy(), do_mean_stats=True, freq_band='beta')"
   ]
  },
  {
   "cell_type": "code",
   "execution_count": null,
   "metadata": {},
   "outputs": [],
   "source": [
    "theta_report = classify_lgr(epoch_object=epoch.copy(), do_mean_stats=False, freq_band='theta')\n",
    "theta_report_mean_stats = classify_lgr(epoch_object=epoch.copy(), do_mean_stats=True, freq_band='theta')"
   ]
  },
  {
   "cell_type": "code",
   "execution_count": null,
   "metadata": {},
   "outputs": [],
   "source": [
    "gamma_report = classify_lgr(epoch_object=epoch.copy(), do_mean_stats=False, freq_band='gamma')\n",
    "gamma_report_mean_stats = classify_lgr(epoch_object=epoch.copy(), do_mean_stats=True, freq_band='gamma')"
   ]
  },
  {
   "cell_type": "code",
   "execution_count": null,
   "metadata": {},
   "outputs": [],
   "source": [
    "report_mean_stats = classify_lgr(epoch.copy(), do_mean_stats=True)"
   ]
  },
  {
   "cell_type": "markdown",
   "metadata": {},
   "source": [
    "## Example of plotting coefficients from MNE"
   ]
  },
  {
   "cell_type": "code",
   "execution_count": null,
   "metadata": {},
   "outputs": [],
   "source": [
    "# def classifyScore(epoch_object):\n",
    "if 'Nasium' in epoch.ch_names:\n",
    "    epoch.drop_channels(ch_names=['Nasium', 'LL4', 'L12', 'VEOG']);\n",
    "    copy_epoch = epoch.copy()\n",
    "\n",
    "X = copy_epoch.pick_types(meg=False, eeg=True)\n",
    "# X = get_mean_band(X)\n",
    "# X = X.swapaxes(1,2)\n",
    "new_events = convert_epoch_events_to_stim_combinations(epoch_object= copy_epoch)    \n",
    "copy_epoch.events = new_events\n",
    "y = get_audio_visual_labels(copy_epoch)\n",
    "X_train, X_test, y_train, y_test = train_test_split(X.get_data(), y, test_size = 0.3, random_state = 42)\n",
    "# print(X.shape, y.shape)\n",
    "print(X_train.shape, y_train.shape)\n",
    "# Define a unique pipeline to sequentially:\n",
    "clf = make_pipeline(\n",
    "    Vectorizer(),                       # 1) vectorize across time and channels\n",
    "    StandardScaler(),                   # 2) normalize features across trials\n",
    "    LinearModel(\n",
    "        LogisticRegression(solver='lbfgs',max_iter = 1000)))  # 3) fits a logistic regression\n",
    "\n",
    "clf.fit(X_train, y_train)\n",
    "\n",
    "# Extract and plot patterns and filters\n",
    "for name in ('patterns_', 'filters_'):\n",
    "    # The `inverse_transform` parameter will call this method on any estimator\n",
    "    # contained in the pipeline, in reverse order.\n",
    "    coef = get_coef(clf, name, inverse_transform=True)\n",
    "    evoked = EvokedArray(coef, copy_epoch.info, tmin=copy_epoch.tmin)\n",
    "    evoked.plot_topomap(title='EEG %s' % name[:-1], time_unit='s')"
   ]
  },
  {
   "cell_type": "code",
   "execution_count": null,
   "metadata": {},
   "outputs": [],
   "source": [
    "if 'Nasium' in master_epochs.ch_names:\n",
    "    master_epochs.drop_channels(ch_names=['Nasium', 'LL4', 'L12', 'VEOG']);\n",
    "copy_epoch = master_epochs.copy()\n",
    "\n",
    "X = copy_epoch.pick_types(meg=False, eeg=True)\n",
    "# X = get_mean_band(X)\n",
    "# X = X.swapaxes(1,2)\n",
    "new_events = convert_epoch_events_to_stim_combinations(epoch_object= copy_epoch)    \n",
    "copy_epoch.events = new_events\n",
    "y = get_audio_visual_labels(copy_epoch)\n",
    "# half_1_data = X.get_data()[:,:,round(.09*512):round(.140*512)]\n",
    "# half_2_data = X.get_data()[:,:,round(.280*512):round(.330*512)]\n",
    "# full_data = np.concatenate((half_1_data, half_2_data),axis = 2)\n",
    "X_train, X_test, y_train, y_test = train_test_split(X.get_data(), y, test_size = 0.3, random_state = 42)\n",
    "# print(X.shape, y.shape)\n",
    "print(X_train.shape, y_train.shape)\n",
    "# Define a unique pipeline to sequentially:\n",
    "clf = make_pipeline(\n",
    "    Vectorizer(),                       # 1) vectorize across time and channels\n",
    "    StandardScaler(),                   # 2) normalize features across trials\n",
    "    LinearModel(\n",
    "        LogisticRegression(solver='lbfgs',max_iter = 1000)))  # 3) fits a logistic regression\n",
    "\n",
    "clf.fit(X_train, y_train)\n",
    "\n",
    "# Extract and plot patterns and filters\n",
    "for name in ('patterns_', 'filters_'):\n",
    "    # The `inverse_transform` parameter will call this method on any estimator\n",
    "    # contained in the pipeline, in reverse order.\n",
    "    coef = get_coef(clf, name, inverse_transform=True)\n",
    "    evoked = EvokedArray(coef, copy_epoch.info, tmin=copy_epoch.tmin)\n",
    "    evoked.plot_topomap(title='EEG %s' % name[:-1], time_unit='s', times=np.arange(0,.55,.05))"
   ]
  },
  {
   "cell_type": "code",
   "execution_count": null,
   "metadata": {},
   "outputs": [],
   "source": [
    "if 'Nasium' in master_epochs.ch_names:\n",
    "    master_epochs.drop_channels(ch_names=['Nasium', 'LL4', 'L12', 'VEOG']);\n",
    "copy_epoch = master_epochs.copy()\n",
    "\n",
    "X = copy_epoch.pick_types(meg=False, eeg=True)\n",
    "# X = get_mean_band(X)\n",
    "# X = X.swapaxes(1,2)\n",
    "new_events = convert_epoch_events_to_stim_combinations(epoch_object= copy_epoch)    \n",
    "copy_epoch.events = new_events\n",
    "y = get_audio_visual_labels(copy_epoch)\n",
    "# half_1_data = X.get_data()[:,:,round(.09*512):round(.140*512)]\n",
    "# half_2_data = X.get_data()[:,:,round(.280*512):round(.330*512)]\n",
    "# full_data = np.concatenate((half_1_data, half_2_data),axis = 2)\n",
    "X_train, X_test, y_train, y_test = train_test_split(X.get_data(), y, test_size = 0.3, random_state = 42)\n",
    "# print(X.shape, y.shape)\n",
    "print(X_train.shape, y_train.shape)\n",
    "# Define a unique pipeline to sequentially:\n",
    "clf = make_pipeline(\n",
    "    Vectorizer(),                       # 1) vectorize across time and channels\n",
    "    StandardScaler(),                   # 2) normalize features across trials\n",
    "    LinearModel(\n",
    "        LogisticRegression(solver='lbfgs',max_iter = 5000, warm_start=True)))  # 3) fits a logistic regression\n",
    "\n",
    "clf.fit(X_train, y_train)\n",
    "\n",
    "# Extract and plot patterns and filters\n",
    "for name in ('patterns_', 'filters_'):\n",
    "    # The `inverse_transform` parameter will call this method on any estimator\n",
    "    # contained in the pipeline, in reverse order.\n",
    "    coef = get_coef(clf, name, inverse_transform=True)\n",
    "    evoked = EvokedArray(coef, copy_epoch.info, tmin=copy_epoch.tmin)\n",
    "    evoked.plot_topomap(title='EEG %s' % name[:-1], time_unit='s', times=np.arange(0,.55,.05))"
   ]
  },
  {
   "cell_type": "code",
   "execution_count": null,
   "metadata": {
    "scrolled": true
   },
   "outputs": [],
   "source": [
    "\n",
    "for name in ('patterns_', 'filters_'):\n",
    "    # The `inverse_transform` parameter will call this method on any estimator\n",
    "    # contained in the pipeline, in reverse order.\n",
    "    coef = get_coef(clf, name, inverse_transform=True)\n",
    "    evoked = EvokedArray(coef, copy_epoch.info, tmin=copy_epoch.tmin)\n",
    "    evoked.plot_topomap(title='EEG %s' % name[:-1], time_unit='s', times=np.arange(0,.2,.01))"
   ]
  },
  {
   "cell_type": "code",
   "execution_count": null,
   "metadata": {},
   "outputs": [],
   "source": [
    "\n",
    "for name in ('patterns_', 'filters_'):\n",
    "    # The `inverse_transform` parameter will call this method on any estimator\n",
    "    # contained in the pipeline, in reverse order.\n",
    "    coef = get_coef(clf, name, inverse_transform=True)\n",
    "    evoked = EvokedArray(coef, copy_epoch.info, tmin=copy_epoch.tmin)\n",
    "    evoked.plot_topomap(title='EEG %s' % name[:-1], time_unit='s', times=np.arange(0.2,.4,.01))"
   ]
  },
  {
   "cell_type": "code",
   "execution_count": null,
   "metadata": {},
   "outputs": [],
   "source": [
    "clf.score(X_test,y_test)"
   ]
  },
  {
   "cell_type": "code",
   "execution_count": null,
   "metadata": {},
   "outputs": [],
   "source": [
    "coef.mean()"
   ]
  },
  {
   "cell_type": "code",
   "execution_count": null,
   "metadata": {},
   "outputs": [],
   "source": [
    "if 'Nasium' in epoch.ch_names:\n",
    "    epoch.drop_channels(ch_names=['Nasium', 'LL4', 'L12', 'VEOG']);\n",
    "copy_epoch = epoch.copy()\n",
    "\n",
    "X = copy_epoch.pick_types(meg=False, eeg=True)\n",
    "X = get_mean_band(X)\n",
    "X = X.swapaxes(1,2)\n",
    "new_events = convert_epoch_events_to_stim_combinations(epoch_object= copy_epoch)    \n",
    "copy_epoch.events = new_events\n",
    "y = get_audio_visual_labels(copy_epoch)\n",
    "X_train, X_test, y_train, y_test = train_test_split(X, y, test_size = 0.3, random_state = 42)\n",
    "# print(X.shape, y.shape)\n",
    "print(X_train.shape, y_train.shape)\n",
    "# Define a unique pipeline to sequentially:\n",
    "clf = make_pipeline(\n",
    "    Vectorizer(),                       # 1) vectorize across time and channels\n",
    "    StandardScaler(),                   # 2) normalize features across trials\n",
    "    LinearModel(\n",
    "        LogisticRegression(solver='lbfgs',max_iter = 1000)))  # 3) fits a logistic regression\n",
    "\n",
    "clf.fit(X_train, y_train)\n",
    "\n",
    "# Extract and plot patterns and filters\n",
    "for name in ('patterns_', 'filters_'):\n",
    "    # The `inverse_transform` parameter will call this method on any estimator\n",
    "    # contained in the pipeline, in reverse order.\n",
    "    coef = get_coef(clf, name, inverse_transform=True)\n",
    "    evoked = EvokedArray(coef, copy_epoch.info, tmin=copy_epoch.tmin)\n",
    "    evoked.plot_topomap(title='EEG %s' % name[:-1], time_unit='s')"
   ]
  },
  {
   "cell_type": "code",
   "execution_count": null,
   "metadata": {},
   "outputs": [],
   "source": [
    "half_1_data = X.get_data()[:,:,round(.09*512):round(.140*512)]\n",
    "half_2_data = X.get_data()[:,:,round(.280*512):round(.330*512)]\n",
    "full_data = np.concatenate((half_1_data, half_2_data),axis = 2)\n",
    "full_data.shape"
   ]
  },
  {
   "cell_type": "code",
   "execution_count": null,
   "metadata": {},
   "outputs": [],
   "source": [
    "clf.score(X_test,y_test)"
   ]
  },
  {
   "cell_type": "code",
   "execution_count": null,
   "metadata": {},
   "outputs": [],
   "source": [
    "for data in coef:\n",
    "    for numb in data:\n",
    "        numb = numb - coef.std()\n",
    "        "
   ]
  },
  {
   "cell_type": "code",
   "execution_count": null,
   "metadata": {},
   "outputs": [],
   "source": [
    "coef.min()"
   ]
  },
  {
   "cell_type": "code",
   "execution_count": null,
   "metadata": {},
   "outputs": [],
   "source": [
    "coef.min()"
   ]
  },
  {
   "cell_type": "code",
   "execution_count": null,
   "metadata": {},
   "outputs": [],
   "source": [
    "coef.max()"
   ]
  },
  {
   "cell_type": "code",
   "execution_count": null,
   "metadata": {},
   "outputs": [],
   "source": [
    "coef.std()"
   ]
  },
  {
   "cell_type": "code",
   "execution_count": null,
   "metadata": {},
   "outputs": [],
   "source": [
    "epoch_evoked = epoch.average()\n",
    "epoch_evoked.data.shape"
   ]
  },
  {
   "cell_type": "code",
   "execution_count": null,
   "metadata": {},
   "outputs": [],
   "source": [
    "epoch_test = mne.read_epochs(os.path.join(path, epoch_files[2]), preload= True)"
   ]
  },
  {
   "cell_type": "code",
   "execution_count": null,
   "metadata": {},
   "outputs": [],
   "source": [
    "copy = epoch_test.copy()\n",
    "test_events = convert_epoch_events_to_stim_combinations(epoch_object= copy)"
   ]
  },
  {
   "cell_type": "code",
   "execution_count": null,
   "metadata": {},
   "outputs": [],
   "source": [
    "copy.events = test_events"
   ]
  },
  {
   "cell_type": "code",
   "execution_count": null,
   "metadata": {},
   "outputs": [],
   "source": [
    "y1_test = get_audio_visual_labels(copy)\n",
    "y1_test.shape"
   ]
  },
  {
   "cell_type": "code",
   "execution_count": null,
   "metadata": {},
   "outputs": [],
   "source": [
    "copy.events.shape"
   ]
  },
  {
   "cell_type": "code",
   "execution_count": null,
   "metadata": {},
   "outputs": [],
   "source": [
    "if 'Nasium' in epoch_test.ch_names:\n",
    "    epoch_test.drop_channels(ch_names=['Nasium', 'LL4', 'L12', 'VEOG']);\n",
    "    \n",
    "copy_epoch = epoch.copy()\n",
    "test_copy_epoch = epoch_test.copy()\n",
    "X_1 = test_copy_epoch.pick_types(meg=False, eeg=True)\n",
    "X_1 = get_mean_band(X_1)\n",
    "X_1 = X_1.swapaxes(1,2)\n",
    "test_new_events = convert_epoch_events_to_stim_combinations(epoch_object= test_copy_epoch)    \n",
    "test_copy_epoch.events = test_new_events\n",
    "y_1 = get_audio_visual_labels(epoch_object=test_copy_epoch)\n",
    "X_train_1, X_test_1, y_train_1, y_test_1 = train_test_split(X_1, y_1, test_size = 0.3, random_state = 42)"
   ]
  },
  {
   "cell_type": "code",
   "execution_count": null,
   "metadata": {},
   "outputs": [],
   "source": [
    "clf.fit(X_train_1,y_train_1);"
   ]
  },
  {
   "cell_type": "code",
   "execution_count": null,
   "metadata": {},
   "outputs": [],
   "source": [
    "clf.fit(X_train, y_train)"
   ]
  },
  {
   "cell_type": "code",
   "execution_count": null,
   "metadata": {},
   "outputs": [],
   "source": [
    "clf.score(X_test, y_test)"
   ]
  },
  {
   "cell_type": "code",
   "execution_count": null,
   "metadata": {},
   "outputs": [],
   "source": [
    "for name in ('patterns_', 'filters_'):\n",
    "    # The `inverse_transform` parameter will call this method on any estimator\n",
    "    # contained in the pipeline, in reverse order.\n",
    "    coef = get_coef(clf, name, inverse_transform=True)\n",
    "    evoked = EvokedArray(coef, copy_epoch.info, tmin=copy_epoch.tmin)\n",
    "    evoked.plot_topomap(title='EEG %s' % name[:-1], time_unit='s', times = np.arange(0.0,.2,.010))"
   ]
  },
  {
   "cell_type": "code",
   "execution_count": null,
   "metadata": {},
   "outputs": [],
   "source": [
    "for name in ('patterns_', 'filters_'):\n",
    "    # The `inverse_transform` parameter will call this method on any estimator\n",
    "    # contained in the pipeline, in reverse order.\n",
    "    coef = get_coef(clf, name, inverse_transform=True)\n",
    "    evoked = EvokedArray(coef, copy_epoch.info, tmin=copy_epoch.tmin)\n",
    "    evoked.plot_topomap(title='EEG %s' % name[:-1], time_unit='s', times = np.arange(0.2,.4,.010))"
   ]
  },
  {
   "cell_type": "code",
   "execution_count": null,
   "metadata": {},
   "outputs": [],
   "source": [
    "evoked.plot(time_unit ='ms');"
   ]
  },
  {
   "cell_type": "code",
   "execution_count": null,
   "metadata": {},
   "outputs": [],
   "source": [
    "if 'Nasium' in epoch.ch_names:\n",
    "    epoch.drop_channels(ch_names=['Nasium', 'LL4', 'L12', 'VEOG']);\n",
    "copy_epoch = epoch.copy()\n",
    "\n",
    "X = copy_epoch.pick_types(meg=False, eeg=True)\n",
    "X = get_mean_band(X)\n",
    "X = X.swapaxes(1,2)\n",
    "new_events = convert_epoch_events_to_stim_combinations(epoch_object= copy_epoch)    \n",
    "copy_epoch.events = new_events\n",
    "y = get_audio_visual_labels(copy_epoch)\n",
    "X_train, X_test, y_train, y_test = train_test_split(X, y, test_size = 0.3, random_state = 42)\n",
    "# print(X.shape, y.shape)\n",
    "print(X_train.shape, y_train.shape)\n",
    "# Define a unique pipeline to sequentially:\n",
    "clf = make_pipeline(\n",
    "    Vectorizer(),                       # 1) vectorize across time and channels\n",
    "    StandardScaler(),                   # 2) normalize features across trials\n",
    "    LinearModel(\n",
    "        LogisticRegression(solver='lbfgs',max_iter = 1000)))  # 3) fits a logistic regression\n",
    "\n",
    "clf.fit(X_train, y_train)\n",
    "\n",
    "# Extract and plot patterns and filters\n",
    "for name in ('patterns_', 'filters_'):\n",
    "    # The `inverse_transform` parameter will call this method on any estimator\n",
    "    # contained in the pipeline, in reverse order.\n",
    "    coef = get_coef(clf, name, inverse_transform=True)\n",
    "    evoked = EvokedArray(coef, copy_epoch.info, tmin=copy_epoch.tmin)\n",
    "    evoked.plot_topomap(title='EEG %s' % name[:-1], time_unit='s')\n",
    "    evoked.plot_topo()"
   ]
  },
  {
   "cell_type": "code",
   "execution_count": null,
   "metadata": {},
   "outputs": [],
   "source": [
    "clf.score(X_test,y_test)"
   ]
  },
  {
   "cell_type": "code",
   "execution_count": null,
   "metadata": {},
   "outputs": [],
   "source": [
    "if 'Nasium' in epoch.ch_names:\n",
    "    epoch.drop_channels(ch_names=['Nasium', 'LL4', 'L12', 'VEOG']);\n",
    "copy_epoch = epoch.copy()\n"
   ]
  },
  {
   "cell_type": "code",
   "execution_count": null,
   "metadata": {},
   "outputs": [],
   "source": []
  },
  {
   "cell_type": "code",
   "execution_count": null,
   "metadata": {},
   "outputs": [],
   "source": [
    "if 'Nasium' in epoch.ch_names:\n",
    "    epoch.drop_channels(ch_names=['Nasium', 'LL4', 'L12', 'VEOG']);\n",
    "copy_epoch = epoch.copy()\n",
    "\n",
    "copy_epoch = epoch.copy()\n",
    "X = copy_epoch.pick_types(meg=False, eeg=True)\n",
    "new_events = convert_epoch_events_to_stim_combinations(epoch_object= copy_epoch)\n",
    "\n",
    "copy_epoch.events = new_events\n",
    "\n",
    "y = get_audio_visual_labels(copy_epoch)\n",
    "clf = make_pipeline(StandardScaler(),\n",
    "                    LinearModel(LogisticRegression(solver='lbfgs', max_iter = 500)))\n",
    "time_decod = SlidingEstimator(clf, n_jobs=1, scoring='roc_auc')\n",
    "\n",
    "time_decod.fit(X.get_data(), y)\n",
    "\n",
    "coef = get_coef(time_decod, 'patterns_', inverse_transform=True)\n",
    "evoked = mne.EvokedArray(coef, copy_epoch.info, tmin=copy_epoch.times[0])\n",
    "joint_kwargs = dict(ts_args=dict(time_unit='s'),\n",
    "                    topomap_args=dict(time_unit='s'))\n",
    "evoked.plot_joint(times=np.arange(0., .600, .100), title='patterns',\n",
    "                  **joint_kwargs)"
   ]
  },
  {
   "cell_type": "code",
   "execution_count": null,
   "metadata": {},
   "outputs": [],
   "source": [
    "evoked.plot_joint(times=np.arange(0., .600, .100), title='patterns',\n",
    "                  **joint_kwargs);"
   ]
  },
  {
   "cell_type": "code",
   "execution_count": null,
   "metadata": {},
   "outputs": [],
   "source": [
    "# We will train the classifier on all left visual vs auditory trials on MEG\n",
    "\n",
    "clf = make_pipeline(StandardScaler(), LogisticRegression(solver='lbfgs', max_iter = 500))\n",
    "\n",
    "time_decod = SlidingEstimator(clf, n_jobs=1, scoring='roc_auc')\n",
    "scores = cross_val_multiscore(time_decod, X.get_data(), y, cv=5, n_jobs=1)\n",
    "\n",
    "# Mean scores across cross-validation splits\n",
    "scores = np.mean(scores, axis=0)\n",
    "\n",
    "# Plot\n",
    "fig, ax = plt.subplots()\n",
    "ax.plot(copy_epoch.times, scores, label='score')\n",
    "ax.axhline(.5, color='k', linestyle='--', label='chance')\n",
    "ax.set_xlabel('Times')\n",
    "ax.set_ylabel('AUC')  # Area Under the Curve\n",
    "ax.legend()\n",
    "ax.axvline(.0, color='k', linestyle='-')\n",
    "ax.set_title('Sensor space decoding')"
   ]
  },
  {
   "cell_type": "code",
   "execution_count": null,
   "metadata": {},
   "outputs": [],
   "source": [
    "# Plot\n",
    "fig, ax = plt.subplots(figsize=(10,8))\n",
    "ax.plot(copy_epoch.times, scores, label='score')\n",
    "ax.axhline(.5, color='k', linestyle='--', label='chance')\n",
    "ax.set_xlabel('Times (ms)', fontsize = 20)\n",
    "ax.set_ylabel('AUC', fontsize = 20)  # Area Under the Curve\n",
    "ax.legend()\n",
    "ax.axvline(.0, color='k', linestyle='-')\n",
    "ax.set_title('Sensor space decoding', fontsize = 20)"
   ]
  },
  {
   "cell_type": "code",
   "execution_count": null,
   "metadata": {},
   "outputs": [],
   "source": [
    "matplotlib.__version__"
   ]
  },
  {
   "cell_type": "code",
   "execution_count": null,
   "metadata": {},
   "outputs": [],
   "source": [
    "for name in ('patterns_', 'filters_'):\n",
    "    # The `inverse_transform` parameter will call this method on any estimator\n",
    "    # contained in the pipeline, in reverse order.\n",
    "    coef = get_coef(clf, name, inverse_transform=True)\n",
    "    evoked = EvokedArray(coef[:,0].reshape(-1,1), copy_epoch.info, tmin=copy_epoch.tmin)\n",
    "    evoked.plot_topomap(title='EEG %s' % name[:-1], time_unit='ms', times= [0], res = 1000, size = 5, show_names=True, colorbar=False)"
   ]
  },
  {
   "cell_type": "code",
   "execution_count": null,
   "metadata": {},
   "outputs": [],
   "source": [
    "variance_coef = coef[:,0]\n",
    "variance_coef.shape"
   ]
  },
  {
   "cell_type": "code",
   "execution_count": null,
   "metadata": {},
   "outputs": [],
   "source": [
    "np.arange(0,variance_coef.shape[0],1)"
   ]
  },
  {
   "cell_type": "code",
   "execution_count": null,
   "metadata": {},
   "outputs": [],
   "source": [
    "feat_importance = np.std(X_train,0) * coef\n",
    "print(feat_importance.shape)"
   ]
  },
  {
   "cell_type": "code",
   "execution_count": null,
   "metadata": {
    "scrolled": false
   },
   "outputs": [],
   "source": [
    "variance_feat_import = feat_importance[:,0]\n",
    "plt.figure(figsize=(10,8))\n",
    "plt.bar(np.arange(1,variance_feat_import.shape[0] +1,1),variance_feat_import, width = 1)\n",
    "plt.title('Feature Importance of Logistic Regression Coefficients using Variance data', fontsize = 12)\n",
    "plt.xlabel('Channels', fontsize = 15)\n",
    "plt.ylabel('Uv', fontsize = 15)"
   ]
  },
  {
   "cell_type": "code",
   "execution_count": null,
   "metadata": {},
   "outputs": [],
   "source": [
    "Skew_feat_import = feat_importance[:,1]\n",
    "plt.figure(figsize=(10,8))\n",
    "plt.bar(np.arange(1,variance_feat_import.shape[0] +1,1),Skew_feat_import, width = 1)\n",
    "plt.title('Feature Importance of Logistic Regression Coefficients using Skewness data', fontsize = 12)\n",
    "plt.xlabel('Channels', fontsize = 15)\n",
    "plt.ylabel('Uv', fontsize = 15)"
   ]
  },
  {
   "cell_type": "code",
   "execution_count": null,
   "metadata": {},
   "outputs": [],
   "source": [
    "Kurt_feat_import = feat_importance[:,2]\n",
    "plt.figure(figsize=(10,8))\n",
    "plt.bar(np.arange(1,variance_feat_import.shape[0] +1,1),Kurt_feat_import, width = 1)\n",
    "plt.title('Feature Importance of Logistic Regression Coefficients using Kurtosis data', fontsize = 12)\n",
    "plt.xlabel('Channels', fontsize = 15)\n",
    "plt.ylabel('Uv', fontsize = 15)"
   ]
  },
  {
   "cell_type": "code",
   "execution_count": null,
   "metadata": {},
   "outputs": [],
   "source": [
    "for name in ('patterns_', 'filters_'):\n",
    "    # The `inverse_transform` parameter will call this method on any estimator\n",
    "    # contained in the pipeline, in reverse order.\n",
    "    coef = get_coef(clf, name, inverse_transform=True)\n",
    "    evoked = EvokedArray(coef[:,1].reshape(-1,1), copy_epoch.info, tmin=copy_epoch.tmin)\n",
    "    evoked.plot_topomap(title='EEG %s' % name[:-1], time_unit='ms', times= [0], size = 5,res = 1000, show_names=True, colorbar=False)"
   ]
  },
  {
   "cell_type": "code",
   "execution_count": null,
   "metadata": {},
   "outputs": [],
   "source": []
  },
  {
   "cell_type": "code",
   "execution_count": null,
   "metadata": {
    "scrolled": false
   },
   "outputs": [],
   "source": [
    "for name in ('patterns_', 'filters_'):\n",
    "    # The `inverse_transform` parameter will call this method on any estimator\n",
    "    # contained in the pipeline, in reverse order.\n",
    "    coef = get_coef(clf, name, inverse_transform=True)\n",
    "    evoked = EvokedArray(coef[:,2].reshape(-1,1), copy_epoch.info, tmin=copy_epoch.tmin)\n",
    "    evoked.plot_topomap(title='EEG %s' % name[:-1], time_unit='ms', times= [0],  show_names=True, size = 5,res = 1000, colorbar=False)\n",
    "    evoked.plot_topo()"
   ]
  },
  {
   "cell_type": "code",
   "execution_count": null,
   "metadata": {},
   "outputs": [],
   "source": []
  },
  {
   "cell_type": "code",
   "execution_count": null,
   "metadata": {},
   "outputs": [],
   "source": [
    "coef_0 = coef[:,0].reshape(-1,1)\n",
    "coef_1 = coef[:,1].reshape(-1,1)\n",
    "coef_2 = coef[:,2].reshape(-1,1)"
   ]
  },
  {
   "cell_type": "code",
   "execution_count": null,
   "metadata": {},
   "outputs": [],
   "source": [
    "plt.scatter(coef_1,coef_2)\n",
    "# plt.xticks(np.arange)"
   ]
  },
  {
   "cell_type": "code",
   "execution_count": null,
   "metadata": {},
   "outputs": [],
   "source": [
    "coef_1[y == 0,:]"
   ]
  },
  {
   "cell_type": "code",
   "execution_count": null,
   "metadata": {},
   "outputs": [],
   "source": [
    "scale_pipeline = make_pipeline(Vectorizer(), StandardScaler())\n",
    "X_scaled = scale_pipeline.fit_transform(X)"
   ]
  },
  {
   "cell_type": "code",
   "execution_count": null,
   "metadata": {},
   "outputs": [],
   "source": [
    "vect = Vectorizer()"
   ]
  },
  {
   "cell_type": "code",
   "execution_count": null,
   "metadata": {},
   "outputs": [],
   "source": [
    "X_scaled_vect = vect.fit_transform(X_scaled)"
   ]
  },
  {
   "cell_type": "code",
   "execution_count": null,
   "metadata": {},
   "outputs": [],
   "source": [
    "X_scaled_vect.shape"
   ]
  },
  {
   "cell_type": "code",
   "execution_count": null,
   "metadata": {},
   "outputs": [],
   "source": [
    "plt.scatter(X[:,:,1][y == 1], X[:,:,2][y == 1]);\n",
    "plt.scatter(X[:,:,1][y == 0], X[:,:,2][y == 0]);\n"
   ]
  },
  {
   "cell_type": "code",
   "execution_count": null,
   "metadata": {},
   "outputs": [],
   "source": [
    "coef[:,1].reshape(-1,1).shape"
   ]
  },
  {
   "cell_type": "markdown",
   "metadata": {},
   "source": [
    "### Based on the above diagrams, classify time between 100 - 350 ms"
   ]
  },
  {
   "cell_type": "code",
   "execution_count": null,
   "metadata": {},
   "outputs": [],
   "source": [
    "copy_epoch = epoch.copy()\n",
    "report_100ms_350ms = classify_lgr(copy_epoch, data_range=[51,180] do_mean_stats=False)"
   ]
  },
  {
   "cell_type": "code",
   "execution_count": null,
   "metadata": {},
   "outputs": [],
   "source": [
    "copy_epoch = epoch.copy()\n",
    "report_all = classify_lgr(copy_epoch, data_range=[0,300], do_mean_stats=False)"
   ]
  },
  {
   "cell_type": "code",
   "execution_count": null,
   "metadata": {},
   "outputs": [],
   "source": [
    "print(gamma_report)"
   ]
  },
  {
   "cell_type": "code",
   "execution_count": null,
   "metadata": {},
   "outputs": [],
   "source": [
    "updated_events = convert_epoch_events_to_stim_combinations(epoch_object=epoch.copy())"
   ]
  },
  {
   "cell_type": "code",
   "execution_count": null,
   "metadata": {},
   "outputs": [],
   "source": [
    "updated_events.shape"
   ]
  },
  {
   "cell_type": "code",
   "execution_count": null,
   "metadata": {},
   "outputs": [],
   "source": [
    "file_1 = os.path.join(path, epoch_files[19])\n",
    "file_2 = os.path.join(path, epoch_files[10])\n",
    "file_3 = os.path.join(path, epoch_files[2])"
   ]
  },
  {
   "cell_type": "code",
   "execution_count": null,
   "metadata": {},
   "outputs": [],
   "source": [
    "epoch_1 = mne.read_epochs(file_1, preload= True)\n",
    "epoch_2 = mne.read_epochs(file_2, preload= True)\n",
    "epoch_3 = mne.read_epochs(file_3, preload= True)"
   ]
  },
  {
   "cell_type": "code",
   "execution_count": null,
   "metadata": {},
   "outputs": [],
   "source": [
    "# drop bad channels \n",
    "if 'Nasium' in epoch_1.ch_names:\n",
    "    epoch_1.drop_channels(ch_names=['Nasium', 'LL4', 'L12', 'VEOG']);\n",
    "    \n",
    "# drop bad channels \n",
    "if 'Nasium' in epoch_2.ch_names:\n",
    "    epoch_2.drop_channels(ch_names=['Nasium', 'LL4', 'L12', 'VEOG']);\n",
    "    \n",
    "# drop bad channels \n",
    "if 'Nasium' in epoch_3.ch_names:\n",
    "    epoch_3.drop_channels(ch_names=['Nasium', 'LL4', 'L12', 'VEOG']);"
   ]
  },
  {
   "cell_type": "code",
   "execution_count": null,
   "metadata": {},
   "outputs": [],
   "source": [
    "report_1 = classify_lgr(epoch_object=epoch_1.copy(), data_range= [0,300],do_mean_stats=True)\n",
    "report_2 = classify_lgr(epoch_object=epoch_2.copy(), data_range= [0,300],do_mean_stats=True)\n",
    "report_3 = classify_lgr(epoch_object=epoch_3.copy(), data_range= [0,300],do_mean_stats=True)"
   ]
  },
  {
   "cell_type": "code",
   "execution_count": null,
   "metadata": {},
   "outputs": [],
   "source": [
    "report_2 = classify_lgr(epoch_object=epoch_2.copy(), data_range= [0,300],do_mean_stats=True)"
   ]
  },
  {
   "cell_type": "code",
   "execution_count": null,
   "metadata": {},
   "outputs": [],
   "source": [
    "report_3 = classify_lgr(epoch_object=epoch_3.copy(), data_range= [0,300],do_mean_stats=True)"
   ]
  },
  {
   "cell_type": "code",
   "execution_count": null,
   "metadata": {},
   "outputs": [],
   "source": []
  },
  {
   "cell_type": "code",
   "execution_count": null,
   "metadata": {},
   "outputs": [],
   "source": [
    "subjects = ['19','10','12']\n",
    "scores_1 = np.array([.73,.67])\n",
    "scores_2 = [.74,.77]\n",
    "scores_3 = [.69,.66]\n",
    "plt.figure(figsize=(8,6))\n",
    "ax = plt.subplot()\n",
    "\n",
    "ax.bar('subject 19', scores_1, width = 0.5,align='center')\n",
    "ax.bar('subject 10', scores_2, width = 0.5,align='center')\n",
    "ax.bar('subject 2', scores_3, width = 0.5, align='center')\n",
    "ax.set_title('Classifcation scores of three subjects', fontsize = 20)\n",
    "ax.set_xlabel('Subjects', fontsize = 20)\n",
    "ax.set_ylabel('Score',fontsize = 20)\n",
    "ax.grid(axis = 'y')\n",
    "plt.show();"
   ]
  },
  {
   "cell_type": "code",
   "execution_count": null,
   "metadata": {},
   "outputs": [],
   "source": [
    "plt.bar()"
   ]
  },
  {
   "cell_type": "code",
   "execution_count": null,
   "metadata": {},
   "outputs": [],
   "source": [
    "file_2 = os.path.join(path, epoch_files[10])"
   ]
  },
  {
   "cell_type": "code",
   "execution_count": null,
   "metadata": {},
   "outputs": [],
   "source": [
    "epoch_2 = mne.read_epochs(file_2, preload= True)"
   ]
  },
  {
   "cell_type": "code",
   "execution_count": null,
   "metadata": {},
   "outputs": [],
   "source": [
    "epoch_2.get_data().shape"
   ]
  },
  {
   "cell_type": "code",
   "execution_count": null,
   "metadata": {},
   "outputs": [],
   "source": [
    "epoch_2.events.shape"
   ]
  },
  {
   "cell_type": "code",
   "execution_count": null,
   "metadata": {},
   "outputs": [],
   "source": [
    "epoch_1.plot_psd_topomap();"
   ]
  },
  {
   "cell_type": "code",
   "execution_count": null,
   "metadata": {},
   "outputs": [],
   "source": [
    "epoch_2.plot_psd_topomap();"
   ]
  },
  {
   "cell_type": "code",
   "execution_count": null,
   "metadata": {},
   "outputs": [],
   "source": [
    "epoch_3.plot_psd_topomap();"
   ]
  },
  {
   "cell_type": "code",
   "execution_count": null,
   "metadata": {},
   "outputs": [],
   "source": [
    "sys.getsizeof(epoch.get_data())"
   ]
  },
  {
   "cell_type": "code",
   "execution_count": null,
   "metadata": {},
   "outputs": [],
   "source": [
    "master_epochs_list"
   ]
  },
  {
   "cell_type": "code",
   "execution_count": null,
   "metadata": {},
   "outputs": [],
   "source": [
    "len(epochs_list)"
   ]
  },
  {
   "cell_type": "code",
   "execution_count": null,
   "metadata": {},
   "outputs": [],
   "source": []
  },
  {
   "cell_type": "code",
   "execution_count": null,
   "metadata": {},
   "outputs": [],
   "source": []
  }
 ],
 "metadata": {
  "kernelspec": {
   "display_name": "Python 3",
   "language": "python",
   "name": "python3"
  },
  "language_info": {
   "codemirror_mode": {
    "name": "ipython",
    "version": 3
   },
   "file_extension": ".py",
   "mimetype": "text/x-python",
   "name": "python",
   "nbconvert_exporter": "python",
   "pygments_lexer": "ipython3",
   "version": "3.6.6"
  }
 },
 "nbformat": 4,
 "nbformat_minor": 2
}
