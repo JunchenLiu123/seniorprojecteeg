{
 "cells": [
  {
   "cell_type": "markdown",
   "metadata": {},
   "source": [
    "# Classification Experiment - Lexicality (Language vs. Non-language)\n",
    "By: Shateesh Bhugwansing\n",
    "\n"
   ]
  },
  {
   "cell_type": "markdown",
   "metadata": {},
   "source": [
    "### Experiment 1 - Logistic Regression\n",
    "\n",
    "__Data__: EpochedEEG/20131216_1441_epo.fif (Epoched data from Emmanuil's batch script)\n",
    "\n",
    "__Problem__: Classify language vs. Non-language epochs \n",
    "\n",
    "__Procedure__:\n",
    "1. filter the epoched data for epochs 1-24 \n",
    "2. label events by either language or non-language, using the dictionary that Emmanuil created (preprocessing/StimCodes\n",
    "3. Run Logistic Regression classifier on the labeled data. \n"
   ]
  },
  {
   "cell_type": "code",
   "execution_count": 1,
   "metadata": {},
   "outputs": [],
   "source": [
    "%run ../preprocessing/StimCodes.ipynb\n",
    "import mne\n",
    "import numpy as np\n",
    "import matplotlib.pyplot as plt\n",
    "%matplotlib inline\n",
    "import matplotlib\n",
    "matplotlib.rcParams.update({'font.size': 11})"
   ]
  },
  {
   "cell_type": "code",
   "execution_count": 2,
   "metadata": {},
   "outputs": [
    {
     "data": {
      "text/plain": [
       "{'AALL': [(5, 6, 4), (17, 18, 16)],\n",
       " 'AALN': [(11, 6, 10), (23, 18, 22)],\n",
       " 'AANL': [(5, 12, 4), (17, 24, 16)],\n",
       " 'AANN': [(11, 12, 10), (23, 24, 22)],\n",
       " 'AVLL': [(2, 6, 1), (14, 18, 13)],\n",
       " 'AVNN': [(8, 12, 7), (20, 24, 19)],\n",
       " 'VALL': [(5, 3, 4), (17, 15, 16)],\n",
       " 'VANN': [(11, 9, 10), (23, 21, 22)],\n",
       " 'VVLL': [(2, 3, 1), (14, 15, 13)],\n",
       " 'VVLN': [(8, 3, 7), (20, 15, 19)],\n",
       " 'VVNL': [(2, 9, 1), (14, 21, 13)],\n",
       " 'VVNN': [(8, 9, 7), (20, 21, 19)]}"
      ]
     },
     "execution_count": 2,
     "metadata": {},
     "output_type": "execute_result"
    }
   ],
   "source": []
  },
  {
   "cell_type": "code",
   "execution_count": null,
   "metadata": {},
   "outputs": [],
   "source": []
  }
 ],
 "metadata": {
  "kernelspec": {
   "display_name": "Python 3",
   "language": "python",
   "name": "python3"
  },
  "language_info": {
   "codemirror_mode": {
    "name": "ipython",
    "version": 3
   },
   "file_extension": ".py",
   "mimetype": "text/x-python",
   "name": "python",
   "nbconvert_exporter": "python",
   "pygments_lexer": "ipython3",
   "version": "3.6.6"
  }
 },
 "nbformat": 4,
 "nbformat_minor": 2
}
