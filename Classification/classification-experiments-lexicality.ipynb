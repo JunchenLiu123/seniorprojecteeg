{
 "cells": [
  {
   "cell_type": "markdown",
   "metadata": {},
   "source": [
    "# Classification Experiment - Lexicality (Language vs. Non-language)\n",
    "By: Shateesh Bhugwansing\n",
    "\n"
   ]
  },
  {
   "cell_type": "markdown",
   "metadata": {},
   "source": [
    "### Experiment 1 - Logistic Regression\n",
    "\n",
    "__Data__: EpochedEEG/20131216_1441_epo.fif (Epoched data from Emmanuil's batch script)\n",
    "\n",
    "__Problem__: Classify language vs. Non-language epochs \n",
    "\n",
    "__Procedure__:\n",
    "1. filter the epoched data for epochs 1-24 \n",
    "2. label events by either language or non-language, using the dictionary that Emmanuil created (preprocessing/StimCodes"
   ]
  }
 ],
 "metadata": {
  "kernelspec": {
   "display_name": "Python 3",
   "language": "python",
   "name": "python3"
  },
  "language_info": {
   "codemirror_mode": {
    "name": "ipython",
    "version": 3
   },
   "file_extension": ".py",
   "mimetype": "text/x-python",
   "name": "python",
   "nbconvert_exporter": "python",
   "pygments_lexer": "ipython3",
   "version": "3.6.6"
  }
 },
 "nbformat": 4,
 "nbformat_minor": 2
}
