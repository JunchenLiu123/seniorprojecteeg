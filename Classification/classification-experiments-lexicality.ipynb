{
 "cells": [
  {
   "cell_type": "markdown",
   "metadata": {},
   "source": [
    "# Classification Experiment - Lexicality (Language vs. Non-language)\n",
    "By: Shateesh Bhugwansing\n",
    "\n"
   ]
  },
  {
   "cell_type": "markdown",
   "metadata": {},
   "source": [
    "### Experiment 1 - Logistic Regression\n",
    "\n",
    "__Data__: EpochedEEG/20131216_1441_epo.fif (Epoched data from Emmanuil's batch script)\n",
    "\n",
    "__Problem__: Classify language vs. Non-language epochs \n",
    "\n",
    "__Procedure__:\n",
    "1. filter the epoched data for epochs 1-24 \n",
    "2. label events by either language or non-language, using the dictionary that Emmanuil created (preprocessing/StimCodes\n",
    "3. Run Logistic Regression classifier on the labeled data. \n"
   ]
  },
  {
   "cell_type": "code",
   "execution_count": 1,
   "metadata": {},
   "outputs": [],
   "source": [
    "%run ../preprocessing/StimCodes.ipynb\n",
    "import mne\n",
    "import numpy as np\n",
    "import matplotlib.pyplot as plt\n",
    "%matplotlib inline\n",
    "import matplotlib\n",
    "matplotlib.rcParams.update({'font.size': 11})"
   ]
  },
  {
   "cell_type": "code",
   "execution_count": 3,
   "metadata": {},
   "outputs": [
    {
     "data": {
      "text/plain": [
       "{'AALL': [(5, 6, 4), (17, 18, 16)],\n",
       " 'AALN': [(11, 6, 10), (23, 18, 22)],\n",
       " 'AANL': [(5, 12, 4), (17, 24, 16)],\n",
       " 'AANN': [(11, 12, 10), (23, 24, 22)],\n",
       " 'AVLL': [(2, 6, 1), (14, 18, 13)],\n",
       " 'AVNN': [(8, 12, 7), (20, 24, 19)],\n",
       " 'VALL': [(5, 3, 4), (17, 15, 16)],\n",
       " 'VANN': [(11, 9, 10), (23, 21, 22)],\n",
       " 'VVLL': [(2, 3, 1), (14, 15, 13)],\n",
       " 'VVLN': [(8, 3, 7), (20, 15, 19)],\n",
       " 'VVNL': [(2, 9, 1), (14, 21, 13)],\n",
       " 'VVNN': [(8, 9, 7), (20, 21, 19)]}"
      ]
     },
     "execution_count": 3,
     "metadata": {},
     "output_type": "execute_result"
    }
   ],
   "source": [
    "modal_lexi"
   ]
  },
  {
   "cell_type": "code",
   "execution_count": 4,
   "metadata": {},
   "outputs": [
    {
     "name": "stdout",
     "output_type": "stream",
     "text": [
      "Reading /Volumes/SB/EpochedEEG/20131216_1441_epo.fif ...\n",
      "    Found the data of interest:\n",
      "        t =    -199.22 ...     500.00 ms\n",
      "        0 CTF compensation matrices available\n",
      "5424 matching events found\n",
      "Applying baseline correction (mode: mean)\n",
      "5424 matching events found\n",
      "Applying baseline correction (mode: mean)\n",
      "Not setting metadata\n",
      "0 projection items activated\n"
     ]
    }
   ],
   "source": [
    "# read in data \n",
    "path = '/Volumes/SB/EpochedEEG/20131216_1441_epo.fif'\n",
    "epoch = mne.read_epochs(path, preload=True)"
   ]
  },
  {
   "cell_type": "code",
   "execution_count": 5,
   "metadata": {},
   "outputs": [],
   "source": [
    "# filter data for stim codes 1-24 \n",
    "filtered_epoch = epoch[(epoch.events[:,-1] >= 1) & (epoch.events[:,-1] <= 24)]"
   ]
  },
  {
   "cell_type": "code",
   "execution_count": 11,
   "metadata": {},
   "outputs": [
    {
     "data": {
      "text/plain": [
       "(1920, 3)"
      ]
     },
     "execution_count": 11,
     "metadata": {},
     "output_type": "execute_result"
    }
   ],
   "source": [
    "filtered_epoch.events.shape"
   ]
  },
  {
   "cell_type": "code",
   "execution_count": 12,
   "metadata": {},
   "outputs": [
    {
     "data": {
      "text/plain": [
       "(1920, 129, 180)"
      ]
     },
     "execution_count": 12,
     "metadata": {},
     "output_type": "execute_result"
    }
   ],
   "source": [
    "# get epoch data \n",
    "filtered_epoch_data = filtered_epoch.get_data()\n",
    "filtered_epoch_data.shape"
   ]
  },
  {
   "cell_type": "code",
   "execution_count": 33,
   "metadata": {},
   "outputs": [],
   "source": [
    "# create labels \n",
    "language  = [v for k, v in modal_lexi.items() if k[-1] == 'L']"
   ]
  },
  {
   "cell_type": "code",
   "execution_count": 34,
   "metadata": {},
   "outputs": [
    {
     "data": {
      "text/plain": [
       "[[(5, 6, 4), (17, 18, 16)],\n",
       " [(5, 12, 4), (17, 24, 16)],\n",
       " [(2, 6, 1), (14, 18, 13)],\n",
       " [(5, 3, 4), (17, 15, 16)],\n",
       " [(2, 3, 1), (14, 15, 13)],\n",
       " [(2, 9, 1), (14, 21, 13)]]"
      ]
     },
     "execution_count": 34,
     "metadata": {},
     "output_type": "execute_result"
    }
   ],
   "source": [
    "language\n"
   ]
  },
  {
   "cell_type": "code",
   "execution_count": 16,
   "metadata": {},
   "outputs": [],
   "source": [
    "non_language = [v for k, v in modal_lexi.items() if k[-1] == 'N']"
   ]
  },
  {
   "cell_type": "code",
   "execution_count": 17,
   "metadata": {},
   "outputs": [
    {
     "data": {
      "text/plain": [
       "[[(11, 6, 10), (23, 18, 22)],\n",
       " [(11, 12, 10), (23, 24, 22)],\n",
       " [(8, 12, 7), (20, 24, 19)],\n",
       " [(11, 9, 10), (23, 21, 22)],\n",
       " [(8, 3, 7), (20, 15, 19)],\n",
       " [(8, 9, 7), (20, 21, 19)]]"
      ]
     },
     "execution_count": 17,
     "metadata": {},
     "output_type": "execute_result"
    }
   ],
   "source": [
    "non_language"
   ]
  },
  {
   "cell_type": "code",
   "execution_count": 64,
   "metadata": {},
   "outputs": [],
   "source": [
    "# language = [ids for row in language for tup in row for ids in tup]\n"
   ]
  },
  {
   "cell_type": "code",
   "execution_count": 66,
   "metadata": {},
   "outputs": [],
   "source": [
    "# NOTE: By inspection of the language and non_language lists, you can see that the last event_id, which\n",
    "# indicates language vs. non-language, corresponds to the following:\n",
    "# language: 4, 1, 16, 13\n",
    "# non_language: 10, 7, 22, 19\n",
    "\n",
    "# create a labels list accordingly: \n",
    "labels = []\n",
    "for ids in filtered_epoch.events[:,-1]:\n",
    "    if ids in (1,4, 13, 16):\n",
    "        labels.append('L')\n",
    "    \n",
    "    if ids in (7,10,19,22):\n",
    "        labels.append('N')"
   ]
  },
  {
   "cell_type": "code",
   "execution_count": 91,
   "metadata": {},
   "outputs": [],
   "source": [
    "filtered_epoch_lex = filtered_epoch[(filtered_epoch.events[:,-1] == 1) | (filtered_epoch.events[:,-1] == 4) |\n",
    "                                    (filtered_epoch.events[:,-1] == 13) | (filtered_epoch.events[:,-1] == 16) |\n",
    "                                   (filtered_epoch.events[:,-1] == 7) | (filtered_epoch.events[:,-1] == 10) |\n",
    "                                   (filtered_epoch.events[:,-1] == 19) | (filtered_epoch.events[:,-1] == 22)]"
   ]
  },
  {
   "cell_type": "code",
   "execution_count": null,
   "metadata": {},
   "outputs": [],
   "source": []
  }
 ],
 "metadata": {
  "kernelspec": {
   "display_name": "Python 3",
   "language": "python",
   "name": "python3"
  },
  "language_info": {
   "codemirror_mode": {
    "name": "ipython",
    "version": 3
   },
   "file_extension": ".py",
   "mimetype": "text/x-python",
   "name": "python",
   "nbconvert_exporter": "python",
   "pygments_lexer": "ipython3",
   "version": "3.6.6"
  }
 },
 "nbformat": 4,
 "nbformat_minor": 2
}
