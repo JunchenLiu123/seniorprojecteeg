{
 "cells": [
  {
   "cell_type": "markdown",
   "metadata": {},
   "source": [
    "# Classification Experiment - Lexicality (Language vs. Non-language)\n",
    "By: Shateesh Bhugwansing\n",
    "\n"
   ]
  },
  {
   "cell_type": "markdown",
   "metadata": {},
   "source": [
    "### Experiment 1 - Logistic Regression\n",
    "\n",
    "__Data__: EpochedEEG/20131216_1441_epo.fif (Epoched data from Emmanuil's batch script)\n",
    "\n",
    "__Problem__: Classify language vs. Non-language epochs \n",
    "\n",
    "__Procedure__:\n",
    "1. filter the epoched data for epochs 1-24 \n",
    "2. label events by either language or non-language, using the dictionary that Emmanuil created (preprocessing/StimCodes\n",
    "3. Run Logistic Regression classifier on the labeled data. \n"
   ]
  },
  {
   "cell_type": "code",
   "execution_count": 1,
   "metadata": {},
   "outputs": [],
   "source": [
    "%run ../preprocessing/StimCodes.ipynb\n",
    "import mne\n",
    "import numpy as np\n",
    "import matplotlib.pyplot as plt\n",
    "%matplotlib inline\n",
    "import matplotlib\n",
    "matplotlib.rcParams.update({'font.size': 12})"
   ]
  },
  {
   "cell_type": "code",
   "execution_count": 2,
   "metadata": {},
   "outputs": [
    {
     "data": {
      "text/plain": [
       "{'AALL': [(5, 6, 4), (17, 18, 16)],\n",
       " 'AALN': [(11, 6, 10), (23, 18, 22)],\n",
       " 'AANL': [(5, 12, 4), (17, 24, 16)],\n",
       " 'AANN': [(11, 12, 10), (23, 24, 22)],\n",
       " 'AVLL': [(2, 6, 1), (14, 18, 13)],\n",
       " 'AVNN': [(8, 12, 7), (20, 24, 19)],\n",
       " 'VALL': [(5, 3, 4), (17, 15, 16)],\n",
       " 'VANN': [(11, 9, 10), (23, 21, 22)],\n",
       " 'VVLL': [(2, 3, 1), (14, 15, 13)],\n",
       " 'VVLN': [(8, 3, 7), (20, 15, 19)],\n",
       " 'VVNL': [(2, 9, 1), (14, 21, 13)],\n",
       " 'VVNN': [(8, 9, 7), (20, 21, 19)]}"
      ]
     },
     "execution_count": 2,
     "metadata": {},
     "output_type": "execute_result"
    }
   ],
   "source": [
    "modal_lexi"
   ]
  },
  {
   "cell_type": "code",
   "execution_count": 4,
   "metadata": {},
   "outputs": [
    {
     "name": "stdout",
     "output_type": "stream",
     "text": [
      "Reading /Volumes/SB/EpochedEEG/20131216_1441_epo.fif ...\n",
      "    Found the data of interest:\n",
      "        t =    -199.22 ...     500.00 ms\n",
      "        0 CTF compensation matrices available\n",
      "5424 matching events found\n",
      "Applying baseline correction (mode: mean)\n",
      "5424 matching events found\n",
      "Applying baseline correction (mode: mean)\n",
      "Not setting metadata\n",
      "0 projection items activated\n"
     ]
    }
   ],
   "source": [
    "# read in data \n",
    "path = '/Volumes/SB/EpochedEEG/20131216_1441_epo.fif'\n",
    "epoch = mne.read_epochs(path, preload=True)"
   ]
  },
  {
   "cell_type": "code",
   "execution_count": 4,
   "metadata": {},
   "outputs": [],
   "source": [
    "# filter data for stim codes 1-24 \n",
    "filtered_epoch = epoch[(epoch.events[:,-1] >= 1) & (epoch.events[:,-1] <= 24)]"
   ]
  },
  {
   "cell_type": "code",
   "execution_count": 16,
   "metadata": {},
   "outputs": [
    {
     "data": {
      "text/plain": [
       "array([8, 3, 7, ..., 2, 9, 1])"
      ]
     },
     "execution_count": 16,
     "metadata": {},
     "output_type": "execute_result"
    }
   ],
   "source": [
    "filtered_epoch.events[:,-1]"
   ]
  },
  {
   "cell_type": "code",
   "execution_count": 13,
   "metadata": {},
   "outputs": [
    {
     "data": {
      "text/plain": [
       "(1920, 129, 180)"
      ]
     },
     "execution_count": 13,
     "metadata": {},
     "output_type": "execute_result"
    }
   ],
   "source": [
    "# get epoch data \n",
    "filtered_epoch_data = filtered_epoch.get_data()\n",
    "filtered_epoch_data.shape"
   ]
  },
  {
   "cell_type": "code",
   "execution_count": 24,
   "metadata": {},
   "outputs": [],
   "source": [
    "# create labels \n",
    "language  = [v for k, v in modal_lexi.items() if k[-1] == 'L']"
   ]
  },
  {
   "cell_type": "code",
   "execution_count": 18,
   "metadata": {},
   "outputs": [
    {
     "data": {
      "text/plain": [
       "[[(5, 6, 4), (17, 18, 16)],\n",
       " [(5, 12, 4), (17, 24, 16)],\n",
       " [(2, 6, 1), (14, 18, 13)],\n",
       " [(5, 3, 4), (17, 15, 16)],\n",
       " [(2, 3, 1), (14, 15, 13)],\n",
       " [(2, 9, 1), (14, 21, 13)]]"
      ]
     },
     "execution_count": 18,
     "metadata": {},
     "output_type": "execute_result"
    }
   ],
   "source": [
    "language\n"
   ]
  },
  {
   "cell_type": "code",
   "execution_count": 25,
   "metadata": {},
   "outputs": [],
   "source": [
    "non_language = [v for k, v in modal_lexi.items() if k[-1] == 'N']"
   ]
  },
  {
   "cell_type": "code",
   "execution_count": 26,
   "metadata": {},
   "outputs": [
    {
     "data": {
      "text/plain": [
       "[[(11, 6, 10), (23, 18, 22)],\n",
       " [(11, 12, 10), (23, 24, 22)],\n",
       " [(8, 12, 7), (20, 24, 19)],\n",
       " [(11, 9, 10), (23, 21, 22)],\n",
       " [(8, 3, 7), (20, 15, 19)],\n",
       " [(8, 9, 7), (20, 21, 19)]]"
      ]
     },
     "execution_count": 26,
     "metadata": {},
     "output_type": "execute_result"
    }
   ],
   "source": [
    "non_language"
   ]
  },
  {
   "cell_type": "code",
   "execution_count": 27,
   "metadata": {},
   "outputs": [],
   "source": [
    "# language = [ids for row in language for tup in row for ids in tup]\n",
    "# ignore this cell"
   ]
  },
  {
   "cell_type": "code",
   "execution_count": 29,
   "metadata": {},
   "outputs": [],
   "source": [
    "# NOTE: By inspection of the language and non_language lists, you can see that the last event_id, which\n",
    "# indicates language vs. non-language, corresponds to the following:\n",
    "# language: 4, 1, 16, 13\n",
    "# non_language: 10, 7, 22, 19\n",
    "\n",
    "# create a labels list accordingly: \n",
    "labels = []\n",
    "for ids in filtered_epoch.events[:,-1]:\n",
    "    if ids in (1,4, 13, 16):\n",
    "        labels.append(1) # 1 = language\n",
    "    \n",
    "    if ids in (7,10,19,22):\n",
    "        labels.append(0) # 0 = non-language"
   ]
  },
  {
   "cell_type": "code",
   "execution_count": 32,
   "metadata": {},
   "outputs": [
    {
     "data": {
      "text/plain": [
       "640"
      ]
     },
     "execution_count": 32,
     "metadata": {},
     "output_type": "execute_result"
    }
   ],
   "source": [
    "len(labels)"
   ]
  },
  {
   "cell_type": "code",
   "execution_count": 33,
   "metadata": {},
   "outputs": [],
   "source": [
    "filtered_epoch_lex = filtered_epoch[(filtered_epoch.events[:,-1] == 1) | (filtered_epoch.events[:,-1] == 4) |\n",
    "                                    (filtered_epoch.events[:,-1] == 13) | (filtered_epoch.events[:,-1] == 16) |\n",
    "                                   (filtered_epoch.events[:,-1] == 7) | (filtered_epoch.events[:,-1] == 10) |\n",
    "                                   (filtered_epoch.events[:,-1] == 19) | (filtered_epoch.events[:,-1] == 22)]"
   ]
  },
  {
   "cell_type": "code",
   "execution_count": 34,
   "metadata": {},
   "outputs": [
    {
     "data": {
      "text/plain": [
       "(640, 129, 180)"
      ]
     },
     "execution_count": 34,
     "metadata": {},
     "output_type": "execute_result"
    }
   ],
   "source": [
    "filtered_epoch_lex._data.shape"
   ]
  },
  {
   "cell_type": "code",
   "execution_count": 35,
   "metadata": {},
   "outputs": [],
   "source": [
    "# get imports used for classification algos \n",
    "\n",
    "from mne.decoding import Vectorizer\n",
    "from sklearn.preprocessing import MinMaxScaler\n",
    "from sklearn.preprocessing import StandardScaler\n",
    "from sklearn.pipeline import make_pipeline\n",
    "from sklearn.linear_model import LogisticRegression\n",
    "from sklearn.model_selection import train_test_split\n",
    "from sklearn.model_selection import StratifiedKFold\n",
    "from sklearn.metrics import classification_report\n",
    "from sklearn.svm import SVC  # noqa\n",
    "from sklearn.model_selection import ShuffleSplit  # noqa\n",
    "\n",
    "from sklearn.metrics import confusion_matrix\n",
    "from mne.viz import tight_layout"
   ]
  },
  {
   "cell_type": "code",
   "execution_count": 36,
   "metadata": {},
   "outputs": [],
   "source": [
    "# perform logistic regression, use cross validation\n",
    "\n",
    "# clf = make_pipeline(\n",
    "#                     Vectorizer(),\n",
    "#                     MinMaxScaler(),\n",
    "#                     LogisticRegression(penalty='l1'))\n",
    "\n",
    "cv = StratifiedKFold(n_splits = 10, shuffle = True, random_state = 42)\n",
    "vectorizer = Vectorizer()\n",
    "data = vectorizer.fit_transform(filtered_epoch_lex._data)\n",
    "clf = LogisticRegression()\n"
   ]
  },
  {
   "cell_type": "code",
   "execution_count": 41,
   "metadata": {},
   "outputs": [
    {
     "data": {
      "text/plain": [
       "numpy.ndarray"
      ]
     },
     "execution_count": 41,
     "metadata": {},
     "output_type": "execute_result"
    }
   ],
   "source": [
    "labels = np.array(labels)\n",
    "type(labels)"
   ]
  },
  {
   "cell_type": "code",
   "execution_count": 43,
   "metadata": {},
   "outputs": [
    {
     "name": "stdout",
     "output_type": "stream",
     "text": [
      "             precision    recall  f1-score   support\n",
      "\n",
      "          L       0.65      0.70      0.68       340\n",
      "          N       0.63      0.58      0.61       300\n",
      "\n",
      "avg / total       0.64      0.65      0.64       640\n",
      "\n"
     ]
    }
   ],
   "source": [
    "preds = np.empty(len(filtered_epoch_lex._data))\n",
    "\n",
    "for train, test in cv.split(data, labels):\n",
    "    clf.fit(data[train], labels[train])\n",
    "    preds[test] = clf.predict(data[test])\n",
    "    \n",
    "target_names = [ 'L', 'N']\n",
    "report = classification_report(labels, preds, target_names=target_names)\n",
    "print(report)"
   ]
  },
  {
   "cell_type": "code",
   "execution_count": 44,
   "metadata": {},
   "outputs": [
    {
     "data": {
      "image/png": "[encoded data removed]",
      "text/plain": [
       "<Figure size 432x288 with 2 Axes>"
      ]
     },
     "metadata": {
      "needs_background": "light"
     },
     "output_type": "display_data"
    }
   ],
   "source": [
    "# Normalized confusion matrix\n",
    "from sklearn.metrics import confusion_matrix\n",
    "from mne.viz import tight_layout\n",
    "\n",
    "target_names = [ 'Language', 'Non-Language']\n",
    "\n",
    "\n",
    "cm = confusion_matrix(labels, preds)\n",
    "cm_normalized = cm.astype(float) / cm.sum(axis=1)[:, np.newaxis]\n",
    "\n",
    "# Plot confusion matrix\n",
    "plt.imshow(cm_normalized, interpolation='nearest', cmap=plt.cm.Blues)\n",
    "plt.title('Language vs. Non-Langauge -- Logistic Regression')\n",
    "plt.colorbar()\n",
    "tick_marks = np.arange(len(target_names))\n",
    "plt.xticks(tick_marks, target_names, rotation=45)\n",
    "plt.yticks(tick_marks, target_names)\n",
    "tight_layout()\n",
    "plt.ylabel('True label')\n",
    "plt.xlabel('Predicted label')\n",
    "plt.show()"
   ]
  },
  {
   "cell_type": "markdown",
   "metadata": {},
   "source": [
    "### Experiment 2 - Language vs. Non-Language, SVM\n",
    "\n",
    "__Data__: EpochedEEG/20131216_1441_epo.fif (Epoched data from Emmanuil's batch script)\n",
    "\n",
    "__Problem__: Classify language vs. Non-language epochs \n",
    "\n",
    "__Procedure__:\n",
    "1. filter the epoched data for epochs 1-24 \n",
    "2. label events by either language or non-language, using the dictionary that Emmanuil created (preprocessing/StimCodes\n",
    "3. Run SVM classifier on the labeled data. \n"
   ]
  },
  {
   "cell_type": "code",
   "execution_count": 49,
   "metadata": {},
   "outputs": [],
   "source": [
    "lex_data = filtered_epoch_lex._data"
   ]
  },
  {
   "cell_type": "code",
   "execution_count": 51,
   "metadata": {},
   "outputs": [
    {
     "name": "stdout",
     "output_type": "stream",
     "text": [
      "             precision    recall  f1-score   support\n",
      "\n",
      "          L       0.73      0.78      0.75       340\n",
      "          N       0.73      0.67      0.70       300\n",
      "\n",
      "avg / total       0.73      0.73      0.73       640\n",
      "\n"
     ]
    }
   ],
   "source": [
    "from sklearn.svm import SVC  # noqa\n",
    "from sklearn.model_selection import ShuffleSplit  # noqa\n",
    "\n",
    "cv2 = StratifiedKFold(n_splits = 10, shuffle = True, random_state = 42)\n",
    "svc = SVC(C=1, kernel='linear')\n",
    "\n",
    "\n",
    "clf2 = make_pipeline(\n",
    "                    Vectorizer(),\n",
    "                    MinMaxScaler(),\n",
    "                    svc)\n",
    "\n",
    "preds2 = np.empty(len(filtered_epoch_lex._data))\n",
    "\n",
    "for train2, test2 in cv2.split(data, labels):\n",
    "    clf2.fit(data[train2], labels[train2])\n",
    "    preds2[test2] = clf.predict(data[test2])\n",
    "    \n",
    "target_names2 = [ 'L', 'N']\n",
    "report2 = classification_report(labels, preds2, target_names=target_names2)\n",
    "print(report2)"
   ]
  },
  {
   "cell_type": "code",
   "execution_count": 52,
   "metadata": {},
   "outputs": [
    {
     "data": {
      "image/png": "[encoded data removed]",
      "text/plain": [
       "<Figure size 432x288 with 2 Axes>"
      ]
     },
     "metadata": {
      "needs_background": "light"
     },
     "output_type": "display_data"
    }
   ],
   "source": [
    "cm2 = confusion_matrix(labels, preds2)\n",
    "cm2_normalized = cm2.astype(float) / cm2.sum(axis=1)[:, np.newaxis]\n",
    "\n",
    "# Plot confusion matrix\n",
    "plt.imshow(cm2_normalized, interpolation='nearest', cmap=plt.cm.Blues)\n",
    "plt.title('Language vs. Non-Language -- SVM')\n",
    "plt.colorbar()\n",
    "tick_marks = np.arange(len(target_names2))\n",
    "plt.xticks(tick_marks, target_names2, rotation=45)\n",
    "plt.yticks(tick_marks, target_names2)\n",
    "tight_layout()\n",
    "plt.ylabel('True label')\n",
    "plt.xlabel('Predicted label')\n",
    "plt.show()"
   ]
  },
  {
   "cell_type": "markdown",
   "metadata": {},
   "source": [
    "### 10/24/18 Experiment: Lexicality classification with two files"
   ]
  },
  {
   "cell_type": "code",
   "execution_count": null,
   "metadata": {},
   "outputs": [],
   "source": []
  }
 ],
 "metadata": {
  "kernelspec": {
   "display_name": "Python 3",
   "language": "python",
   "name": "python3"
  },
  "language_info": {
   "codemirror_mode": {
    "name": "ipython",
    "version": 3
   },
   "file_extension": ".py",
   "mimetype": "text/x-python",
   "name": "python",
   "nbconvert_exporter": "python",
   "pygments_lexer": "ipython3",
   "version": "3.6.6"
  }
 },
 "nbformat": 4,
 "nbformat_minor": 2
}
