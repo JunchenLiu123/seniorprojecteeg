{
 "cells": [
  {
   "cell_type": "code",
   "execution_count": 1,
   "metadata": {},
   "outputs": [],
   "source": [
    "import mne \n",
    "import numpy as np\n",
    "import os\n",
    "import matplotlib.pyplot as plt\n",
    "from matplotlib.pyplot import figure\n",
    "figure(num=None, figsize=(8, 6), dpi=80, facecolor='w', edgecolor='k')\n",
    "figure(figsize=(1,1))\n",
    "from mne.decoding import UnsupervisedSpatialFilter\n",
    "from sklearn.decomposition import PCA, FastICA\n",
    "from sklearn.linear_model import LogisticRegression\n",
    "from sklearn.discriminant_analysis import LinearDiscriminantAnalysis as LDA\n",
    "from sklearn.model_selection import StratifiedKFold\n",
    "from sklearn.pipeline import make_pipeline\n",
    "from mne.decoding import Vectorizer\n",
    "from sklearn.preprocessing import MinMaxScaler\n",
    "from sklearn.metrics import classification_report\n",
    "import itertools\n",
    "\n"
   ]
  },
  {
   "cell_type": "code",
   "execution_count": 2,
   "metadata": {},
   "outputs": [],
   "source": [
    "def arrayFiles(path):\n",
    "    folderContent = os.listdir(path)\n",
    "    fifFiles = []\n",
    "    for i in folderContent :\n",
    "        fifFiles.append(path + \"/\" + i)\n",
    "    \n",
    "    return fifFiles"
   ]
  },
  {
   "cell_type": "code",
   "execution_count": 3,
   "metadata": {},
   "outputs": [],
   "source": [
    "#concatenate path to name of each file and store in array for reading in data\n",
    "path = '/Volumes/flash64/EpochedEEG'\n",
    "allFifFiles = arrayFiles(path)"
   ]
  },
  {
   "cell_type": "code",
   "execution_count": 4,
   "metadata": {},
   "outputs": [
    {
     "name": "stdout",
     "output_type": "stream",
     "text": [
      "Reading /Volumes/flash64/EpochedEEG/20131216_1441_epo.fif ...\n",
      "    Found the data of interest:\n",
      "        t =    -199.22 ...     500.00 ms\n",
      "        0 CTF compensation matrices available\n",
      "5424 matching events found\n",
      "Applying baseline correction (mode: mean)\n",
      "5424 matching events found\n",
      "Applying baseline correction (mode: mean)\n",
      "Not setting metadata\n",
      "0 projection items activated\n"
     ]
    }
   ],
   "source": [
    "epoch = mne.read_epochs(allFifFiles[0],preload=True)"
   ]
  },
  {
   "cell_type": "code",
   "execution_count": null,
   "metadata": {},
   "outputs": [],
   "source": []
  },
  {
   "cell_type": "code",
   "execution_count": null,
   "metadata": {},
   "outputs": [],
   "source": []
  },
  {
   "cell_type": "code",
   "execution_count": 5,
   "metadata": {},
   "outputs": [],
   "source": [
    "new_stim_code_event_ids = {\n",
    "     \n",
    "    \"b-f2-wrd\":1,\n",
    "    \"b-f1-wrd\":2,\n",
    "    \"b-tg-wrd\":3,\n",
    "\n",
    "    \"b-f2-spk\":4,\n",
    "    \"b-f1-spk\":5,\n",
    "    \"b-tg-spk\":6,\n",
    "\n",
    "    \"b-f2-pic\":7,\n",
    "    \"b-f1-pic\":8,\n",
    "    \"b-tg-pic\":9,\n",
    "\n",
    "    \"b-f2-snd\":10,\n",
    "    \"b-f1-snd\":11,\n",
    "    \"b-tg-snd\":12,\n",
    "\n",
    "    \"f-f2-wrd\":13,\n",
    "    \"f-f1-wrd\":14,\n",
    "    \"f-tg-wrd\":15,\n",
    "\n",
    "    \"f-f2-spk\":16,\n",
    "    \"f-f1-spk\":17,\n",
    "    \"f-tg-spk\":18,\n",
    "\n",
    "    \"f-f2-pic\":19,\n",
    "    \"f-f1-pic\":20,\n",
    "    \"f-tg-pic\":21,\n",
    "\n",
    "    \"f-f2-snd\":22,\n",
    "    \"f-f1-snd\":23,\n",
    "    \"f-tg-snd\":24\n",
    "}"
   ]
  },
  {
   "cell_type": "code",
   "execution_count": 6,
   "metadata": {},
   "outputs": [],
   "source": [
    "def update_stim_code_event_ids(epoch_object):\n",
    "    keys_to_delete = [x for x in epoch_object.event_id if 'stim' in x]\n",
    "    \n",
    "    for key in keys_to_delete:\n",
    "        if key in epoch_object.event_id.keys():\n",
    "            del epoch_object.event_id[key]\n",
    "            \n",
    "    for key in new_stim_code_event_ids:\n",
    "        epoch_object.event_id[key] = new_stim_code_event_ids[key]\n",
    "    return epoch_object"
   ]
  },
  {
   "cell_type": "code",
   "execution_count": 7,
   "metadata": {},
   "outputs": [
    {
     "data": {
      "text/plain": [
       "{'b-f1-pic': 8,\n",
       " 'b-f1-snd': 11,\n",
       " 'b-f1-spk': 5,\n",
       " 'b-f1-wrd': 2,\n",
       " 'b-f2-pic': 7,\n",
       " 'b-f2-snd': 10,\n",
       " 'b-f2-spk': 4,\n",
       " 'b-f2-wrd': 1,\n",
       " 'b-tg-pic': 9,\n",
       " 'b-tg-snd': 12,\n",
       " 'b-tg-spk': 6,\n",
       " 'b-tg-wrd': 3,\n",
       " 'congruent': 133,\n",
       " 'correct': 129,\n",
       " 'f-f1-pic': 20,\n",
       " 'f-f1-snd': 23,\n",
       " 'f-f1-spk': 17,\n",
       " 'f-f1-wrd': 14,\n",
       " 'f-f2-pic': 19,\n",
       " 'f-f2-snd': 22,\n",
       " 'f-f2-spk': 16,\n",
       " 'f-f2-wrd': 13,\n",
       " 'f-tg-pic': 21,\n",
       " 'f-tg-snd': 24,\n",
       " 'f-tg-spk': 18,\n",
       " 'f-tg-wrd': 15,\n",
       " 'f_baby': 155,\n",
       " 'f_bell': 156,\n",
       " 'f_bird': 157,\n",
       " 'f_burp': 158,\n",
       " 'f_dog': 159,\n",
       " 'f_drum': 160,\n",
       " 'f_knock': 161,\n",
       " 'f_laugh': 162,\n",
       " 'f_phone': 163,\n",
       " 'f_train': 164,\n",
       " 'f_water': 165,\n",
       " 'incongruent': 134,\n",
       " 'incorrect': 130,\n",
       " 'left_button': 131,\n",
       " 'right_button': 132,\n",
       " 't_baby': 135,\n",
       " 't_bell': 136,\n",
       " 't_bird': 137,\n",
       " 't_burp': 138,\n",
       " 't_dog': 139,\n",
       " 't_drum': 140,\n",
       " 't_knock': 141,\n",
       " 't_laugh': 142,\n",
       " 't_phone': 143,\n",
       " 't_train': 144,\n",
       " 't_water': 145,\n",
       " 'trail_start': 31}"
      ]
     },
     "execution_count": 7,
     "metadata": {},
     "output_type": "execute_result"
    }
   ],
   "source": [
    "epochs = update_stim_code_event_ids(epoch)\n",
    "epochs.event_id"
   ]
  },
  {
   "cell_type": "code",
   "execution_count": 20,
   "metadata": {},
   "outputs": [],
   "source": [
    "filtered_epoch = epochs[(epochs.events[:,-1] >= 7) & (epochs.events[:,-1] <= 9) | \n",
    "                        (epochs.events[:,-1] >= 19) & (epochs.events[:,-1] <= 21) |\n",
    "                       (epochs.events[:,-1] >= 10) & (epochs.events[:,-1] <= 12) |\n",
    "                       (epochs.events[:,-1] >= 22) & (epochs.events[:,-1] <= 24)]"
   ]
  },
  {
   "cell_type": "code",
   "execution_count": 21,
   "metadata": {},
   "outputs": [
    {
     "data": {
      "text/plain": [
       "{'b-f1-pic': 8,\n",
       " 'b-f1-snd': 11,\n",
       " 'b-f2-pic': 7,\n",
       " 'b-f2-snd': 10,\n",
       " 'b-tg-pic': 9,\n",
       " 'b-tg-snd': 12,\n",
       " 'f-f1-pic': 20,\n",
       " 'f-f1-snd': 23,\n",
       " 'f-f2-pic': 19,\n",
       " 'f-f2-snd': 22,\n",
       " 'f-tg-pic': 21,\n",
       " 'f-tg-snd': 24}"
      ]
     },
     "execution_count": 21,
     "metadata": {},
     "output_type": "execute_result"
    }
   ],
   "source": [
    "filtered_epoch.event_id"
   ]
  },
  {
   "cell_type": "code",
   "execution_count": 23,
   "metadata": {},
   "outputs": [],
   "source": [
    "#0 for visual and 1 for audio\n",
    "test = filtered_epoch\n",
    "\n",
    "for i in range(0,980):\n",
    "    if test.events[i][-1] in (7,8, 9, 19, 20, 21):\n",
    "        test.events[i][-1] = 0\n",
    "    elif test.events[i][-1] in (10, 11, 12, 22, 23, 24):\n",
    "        test.events[i][-1] = 1"
   ]
  },
  {
   "cell_type": "code",
   "execution_count": 24,
   "metadata": {},
   "outputs": [
    {
     "data": {
      "text/plain": [
       "array([[  2593,      0,      0],\n",
       "       [  2847,      0,      0],\n",
       "       [  3682,      0,      0],\n",
       "       ...,\n",
       "       [655357,      0,      0],\n",
       "       [658221,      0,      0],\n",
       "       [658755,      0,      0]])"
      ]
     },
     "execution_count": 24,
     "metadata": {},
     "output_type": "execute_result"
    }
   ],
   "source": [
    "test.events"
   ]
  },
  {
   "cell_type": "code",
   "execution_count": null,
   "metadata": {},
   "outputs": [
    {
     "name": "stderr",
     "output_type": "stream",
     "text": [
      "/anaconda3/lib/python3.6/site-packages/sklearn/discriminant_analysis.py:388: UserWarning: Variables are collinear.\n",
      "  warnings.warn(\"Variables are collinear.\")\n",
      "/anaconda3/lib/python3.6/site-packages/sklearn/discriminant_analysis.py:388: UserWarning: Variables are collinear.\n",
      "  warnings.warn(\"Variables are collinear.\")\n",
      "/anaconda3/lib/python3.6/site-packages/sklearn/discriminant_analysis.py:388: UserWarning: Variables are collinear.\n",
      "  warnings.warn(\"Variables are collinear.\")\n",
      "/anaconda3/lib/python3.6/site-packages/sklearn/discriminant_analysis.py:388: UserWarning: Variables are collinear.\n",
      "  warnings.warn(\"Variables are collinear.\")\n",
      "/anaconda3/lib/python3.6/site-packages/sklearn/discriminant_analysis.py:388: UserWarning: Variables are collinear.\n",
      "  warnings.warn(\"Variables are collinear.\")\n",
      "/anaconda3/lib/python3.6/site-packages/sklearn/discriminant_analysis.py:388: UserWarning: Variables are collinear.\n",
      "  warnings.warn(\"Variables are collinear.\")\n"
     ]
    }
   ],
   "source": [
    "dataXX = test.get_data()\n",
    "eventsYY = test.events[:,-1]\n",
    "\n",
    "clf = make_pipeline(Vectorizer(),\n",
    "                    MinMaxScaler(),\n",
    "                    LDA())\n",
    "\n",
    "#cross validation\n",
    "cv = StratifiedKFold(n_splits = 10, shuffle=True)\n",
    "preds = np.empty(len(eventsYY))\n",
    "scoresss = []\n",
    "for train,test in cv.split(dataXX,eventsYY):\n",
    "    clf.fit(dataXX[train],eventsYY[train])\n",
    "    preds[test] = clf.predict(dataXX[test])\n",
    "    scoresss.append(clf.score(dataXX[test],eventsYY[test]))"
   ]
  },
  {
   "cell_type": "code",
   "execution_count": null,
   "metadata": {},
   "outputs": [],
   "source": [
    "print(\"mean classification score\", np.mean(scoresss))\n"
   ]
  },
  {
   "cell_type": "code",
   "execution_count": null,
   "metadata": {},
   "outputs": [],
   "source": []
  },
  {
   "cell_type": "code",
   "execution_count": null,
   "metadata": {},
   "outputs": [],
   "source": []
  }
 ],
 "metadata": {
  "kernelspec": {
   "display_name": "Python 3",
   "language": "python",
   "name": "python3"
  },
  "language_info": {
   "codemirror_mode": {
    "name": "ipython",
    "version": 3
   },
   "file_extension": ".py",
   "mimetype": "text/x-python",
   "name": "python",
   "nbconvert_exporter": "python",
   "pygments_lexer": "ipython3",
   "version": "3.6.4"
  }
 },
 "nbformat": 4,
 "nbformat_minor": 2
}
