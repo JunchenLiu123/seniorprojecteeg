{
 "cells": [
  {
   "cell_type": "code",
   "execution_count": 66,
   "metadata": {},
   "outputs": [
    {
     "data": {
      "text/plain": [
       "<matplotlib.figure.Figure at 0x1c144e6080>"
      ]
     },
     "metadata": {},
     "output_type": "display_data"
    },
    {
     "data": {
      "text/plain": [
       "<matplotlib.figure.Figure at 0x1c144e6160>"
      ]
     },
     "metadata": {},
     "output_type": "display_data"
    }
   ],
   "source": [
    "import mne \n",
    "import numpy as np\n",
    "import os\n",
    "import matplotlib.pyplot as plt\n",
    "from matplotlib.pyplot import figure\n",
    "figure(num=None, figsize=(8, 6), dpi=80, facecolor='w', edgecolor='k')\n",
    "figure(figsize=(1,1))\n",
    "from mne.decoding import UnsupervisedSpatialFilter\n",
    "from sklearn.decomposition import PCA, FastICA\n",
    "from sklearn.linear_model import LogisticRegression\n",
    "from sklearn.discriminant_analysis import LinearDiscriminantAnalysis as LDA\n",
    "from sklearn.model_selection import StratifiedKFold\n",
    "from sklearn.pipeline import make_pipeline\n",
    "from mne.decoding import Vectorizer\n",
    "from sklearn.preprocessing import MinMaxScaler, StandardScaler\n",
    "from sklearn.metrics import classification_report\n",
    "import itertools\n",
    "from sklearn.svm import SVC \n",
    "\n",
    "from mne.preprocessing import ICA\n"
   ]
  },
  {
   "cell_type": "code",
   "execution_count": 67,
   "metadata": {},
   "outputs": [],
   "source": [
    "setFile = '/Volumes/flash32/EEGLAB/SA20140306/20140306_1133.set'"
   ]
  },
  {
   "cell_type": "code",
   "execution_count": 68,
   "metadata": {},
   "outputs": [
    {
     "name": "stdout",
     "output_type": "stream",
     "text": [
      "Reading /Volumes/flash32/EEGLAB/SA20140306/20140306_1133.fdt\n",
      "Reading 0 ... 951345  =      0.000 ...  1858.096 secs...\n"
     ]
    }
   ],
   "source": [
    "raw = mne.io.read_raw_eeglab(setFile,preload = True)"
   ]
  },
  {
   "cell_type": "code",
   "execution_count": 69,
   "metadata": {},
   "outputs": [],
   "source": [
    "def find_events(raw):\n",
    "    return mne.find_events(raw,output='offset',\n",
    "                           min_duration=1/raw.info['sfreq'],\n",
    "                           shortest_event=0.5,\n",
    "                           initial_event=False)\n",
    "\n"
   ]
  },
  {
   "cell_type": "code",
   "execution_count": 70,
   "metadata": {},
   "outputs": [
    {
     "name": "stdout",
     "output_type": "stream",
     "text": [
      "5792 events found\n",
      "Event IDs: [  1   2   3   4   5   6   7   8   9  10  11  12  13  14  15  16  17  18\n",
      "  19  20  21  22  23  24  31 129 130 131 132 133 134 135 136 137 138 139\n",
      " 140 141 142 143 144 145 155 156 157 158 159 160 161 162 163 164 165]\n"
     ]
    },
    {
     "data": {
      "text/plain": [
       "array([[  6715,      0,    131],\n",
       "       [  7046,      0,     31],\n",
       "       [  7049,      0,    137],\n",
       "       ...,\n",
       "       [841233,      0,      4],\n",
       "       [841501,      0,    134],\n",
       "       [841503,      0,    129]])"
      ]
     },
     "execution_count": 70,
     "metadata": {},
     "output_type": "execute_result"
    }
   ],
   "source": [
    "events = find_events(raw)\n",
    "events"
   ]
  },
  {
   "cell_type": "code",
   "execution_count": 71,
   "metadata": {},
   "outputs": [],
   "source": [
    "def get_trials(events):\n",
    "    trials = []\n",
    "    current_trial = []\n",
    "    for event in events:\n",
    "        if event[-1] == 31 and current_trial != []:\n",
    "            trials.append(current_trial)\n",
    "            current_trial = []\n",
    "            current_trial.append(event)\n",
    "        else:\n",
    "            current_trial.append(event)\n",
    "    trials.append(current_trial)\n",
    "    return trials"
   ]
  },
  {
   "cell_type": "code",
   "execution_count": 72,
   "metadata": {},
   "outputs": [],
   "source": [
    "trials = get_trials(events)"
   ]
  },
  {
   "cell_type": "code",
   "execution_count": 73,
   "metadata": {},
   "outputs": [],
   "source": [
    "\"\"\"\n",
    "filter out all trials that are not within stim code definitions.\n",
    "The second flanker stim code should be one plus the first flanker stim code. \n",
    "Than concatenates trials back into events.\n",
    "\"\"\"\n",
    "\n",
    "def filter_trials(trials):\n",
    "    events = find_events(raw)\n",
    "    trials = get_trials(events)\n",
    "    filteredTrials = []\n",
    "    totalTrials = 0\n",
    "    filtered = 0\n",
    "    for x in trials:\n",
    "        totalTrials += 1\n",
    "        \n",
    "    for trial in trials:\n",
    "        first_stim = False\n",
    "        third_stim = False\n",
    "        first_stim_code = 0\n",
    "        \n",
    "        for event in trial:\n",
    "            if first_stim == True and third_stim == True:\n",
    "                filteredTrials.append(trial)\n",
    "                filtered += 1\n",
    "                first_stim = False\n",
    "                third_stim = False\n",
    "                break;\n",
    "            else:    \n",
    "                #print(event[-1])\n",
    "                if event[-1] <= 24 and first_stim == False:\n",
    "                        first_stim_code = event[-1]\n",
    "                        first_stim = True\n",
    "                elif event[-1] <=24 and first_stim == True:    \n",
    "                    if event[-1] + 1 == first_stim_code:\n",
    "                        third_stim = True\n",
    "                        first_stim_code = 0\n",
    "    print('number of trials removed: ',totalTrials - filtered)\n",
    "    return np.concatenate(filteredTrials,axis = 0)"
   ]
  },
  {
   "cell_type": "code",
   "execution_count": 74,
   "metadata": {},
   "outputs": [
    {
     "name": "stdout",
     "output_type": "stream",
     "text": [
      "5792 events found\n",
      "Event IDs: [  1   2   3   4   5   6   7   8   9  10  11  12  13  14  15  16  17  18\n",
      "  19  20  21  22  23  24  31 129 130 131 132 133 134 135 136 137 138 139\n",
      " 140 141 142 143 144 145 155 156 157 158 159 160 161 162 163 164 165]\n",
      "number of trials removed:  1\n"
     ]
    },
    {
     "data": {
      "text/plain": [
       "array([[  7046,      0,     31],\n",
       "       [  7049,      0,    137],\n",
       "       [  7052,      0,    164],\n",
       "       ...,\n",
       "       [841233,      0,      4],\n",
       "       [841501,      0,    134],\n",
       "       [841503,      0,    129]])"
      ]
     },
     "execution_count": 74,
     "metadata": {},
     "output_type": "execute_result"
    }
   ],
   "source": [
    "filter_trials(trials)"
   ]
  },
  {
   "cell_type": "code",
   "execution_count": 75,
   "metadata": {},
   "outputs": [],
   "source": [
    "def get_events_with_stim_code(events):\n",
    "    \"\"\"\n",
    "    Return only events with stim codes from all the events\n",
    "    make sure to make numpy arrays all events and return final array numpy\n",
    "    \"\"\"\n",
    "    stim_events = []\n",
    "    for event in events:\n",
    "        if event[-1] <=24:\n",
    "            stim_events.append(np.array(event))\n",
    "    return np.array(stim_events)  "
   ]
  },
  {
   "cell_type": "code",
   "execution_count": 76,
   "metadata": {},
   "outputs": [
    {
     "name": "stdout",
     "output_type": "stream",
     "text": [
      "5792 events found\n",
      "Event IDs: [  1   2   3   4   5   6   7   8   9  10  11  12  13  14  15  16  17  18\n",
      "  19  20  21  22  23  24  31 129 130 131 132 133 134 135 136 137 138 139\n",
      " 140 141 142 143 144 145 155 156 157 158 159 160 161 162 163 164 165]\n",
      "number of trials removed:  1\n"
     ]
    },
    {
     "data": {
      "text/plain": [
       "array([[  7064,      0,      2],\n",
       "       [  7314,      0,      6],\n",
       "       [  7564,      0,      1],\n",
       "       ...,\n",
       "       [840706,      0,      5],\n",
       "       [840965,      0,      3],\n",
       "       [841233,      0,      4]])"
      ]
     },
     "execution_count": 76,
     "metadata": {},
     "output_type": "execute_result"
    }
   ],
   "source": [
    "get_events_with_stim_code(filter_trials(trials))"
   ]
  },
  {
   "cell_type": "code",
   "execution_count": 77,
   "metadata": {},
   "outputs": [],
   "source": [
    "def artifact_removal(eeglab):\n",
    "    \"\"\"\n",
    "    NOTE: use this method after creating epoch objects to speed up process!\n",
    "    \n",
    "    Description:\n",
    "        Perform notch filter, frequenc filter, and ICA \n",
    "        \n",
    "    Variables: \n",
    "        eeglab: mne.io.eeglab.eeglab.RawEEGLAB object\n",
    "    returns:\n",
    "        eeglab: mne.io.eeglab.eeglab.RawEEGLAB object\n",
    "\n",
    "    \"\"\"\n",
    "    \n",
    "    raw.notch_filter(np.arange(60,241,60), filter_length='auto', phase = 'zero')\n",
    "    raw.filter(5,100, fir_design='firwin')\n",
    "    raw.resample(256, n_jobs=10)\n",
    "    ica = ICA(n_components=None, max_iter = 1000, random_state = 42)\n",
    "    ica.fit(raw,picks = None, decim=3, reject=dict(mag=4e-12, grad=4000e-13))\n",
    "    ica.detect_artifacts(raw,start_find=None, stop_find=None, ecg_ch=None, \n",
    "                 ecg_score_func='pearsonr', skew_criterion=None, \n",
    "                 kurt_criterion=None, var_criterion=None,add_nodes=None)\n",
    "    \n",
    "    return ica.apply(raw)"
   ]
  },
  {
   "cell_type": "code",
   "execution_count": 78,
   "metadata": {},
   "outputs": [],
   "source": [
    "new_stim_code_event_ids = {\n",
    "     \n",
    "    \"b-f2-wrd\":1,\n",
    "    \"b-f1-wrd\":2,\n",
    "    \"b-tg-wrd\":3,\n",
    "\n",
    "    \"b-f2-spk\":4,\n",
    "    \"b-f1-spk\":5,\n",
    "    \"b-tg-spk\":6,\n",
    "\n",
    "    \"b-f2-pic\":7,\n",
    "    \"b-f1-pic\":8,\n",
    "    \"b-tg-pic\":9,\n",
    "\n",
    "    \"b-f2-snd\":10,\n",
    "    \"b-f1-snd\":11,\n",
    "    \"b-tg-snd\":12,\n",
    "\n",
    "    \"f-f2-wrd\":13,\n",
    "    \"f-f1-wrd\":14,\n",
    "    \"f-tg-wrd\":15,\n",
    "\n",
    "    \"f-f2-spk\":16,\n",
    "    \"f-f1-spk\":17,\n",
    "    \"f-tg-spk\":18,\n",
    "\n",
    "    \"f-f2-pic\":19,\n",
    "    \"f-f1-pic\":20,\n",
    "    \"f-tg-pic\":21,\n",
    "\n",
    "    \"f-f2-snd\":22,\n",
    "    \"f-f1-snd\":23,\n",
    "    \"f-tg-snd\":24\n",
    "}"
   ]
  },
  {
   "cell_type": "code",
   "execution_count": 79,
   "metadata": {},
   "outputs": [],
   "source": [
    "def create_epochs(raw,events,event_id,):\n",
    "    tmax = (1/raw.info['sfreq']) * 499  #to get desired epoch length\n",
    "    return mne.Epochs(raw=raw,events=events,event_id=event_id,tmin=0,tmax=tmax,preload=True )"
   ]
  },
  {
   "cell_type": "code",
   "execution_count": 80,
   "metadata": {},
   "outputs": [],
   "source": [
    "def remove_artifacts_and_create_epochs(raw):\n",
    "    events = filter_trials(trials)\n",
    "    stim_code_events = get_events_with_stim_code(events)\n",
    "    #stim_code_event_ids = get_stim_code_event_ids(stim_code_events,new_stim_code_event_ids)\n",
    "    raw_ica = artifact_removal(raw)\n",
    "    \n",
    "    return create_epochs(raw_ica,events,new_stim_code_event_ids)"
   ]
  },
  {
   "cell_type": "code",
   "execution_count": 81,
   "metadata": {},
   "outputs": [
    {
     "name": "stdout",
     "output_type": "stream",
     "text": [
      "5792 events found\n",
      "Event IDs: [  1   2   3   4   5   6   7   8   9  10  11  12  13  14  15  16  17  18\n",
      "  19  20  21  22  23  24  31 129 130 131 132 133 134 135 136 137 138 139\n",
      " 140 141 142 143 144 145 155 156 157 158 159 160 161 162 163 164 165]\n",
      "number of trials removed:  1\n",
      "Setting up band-stop filter\n",
      "Filter length of 3379 samples (6.600 sec) selected\n",
      "Setting up band-pass filter from 5 - 1e+02 Hz\n",
      "l_trans_bandwidth chosen to be 2.0 Hz\n",
      "h_trans_bandwidth chosen to be 25.0 Hz\n",
      "Filter length of 845 samples (1.650 sec) selected\n",
      "5792 events found\n",
      "Event IDs: [  1   2   3   4   5   6   7   8   9  10  11  12  13  14  15  16  17  18\n",
      "  19  20  21  22  23  24  31 129 130 131 132 133 134 135 136 137 138 139\n",
      " 140 141 142 143 144 145 155 156 157 158 159 160 161 162 163 164 165]\n"
     ]
    },
    {
     "name": "stderr",
     "output_type": "stream",
     "text": [
      "[Parallel(n_jobs=10)]: Done  52 tasks      | elapsed:   17.2s\n",
      "[Parallel(n_jobs=10)]: Done 129 out of 129 | elapsed:   46.0s finished\n"
     ]
    },
    {
     "name": "stdout",
     "output_type": "stream",
     "text": [
      "5388 events found\n",
      "Event IDs: [  1   2   3   4   5   6   7   8   9  10  11  12  13  14  15  16  17  18\n",
      "  19  20  21  22  23  24  31 129 130 131 132 133 134 135 136 137 138 139\n",
      " 140 141 142 143 144 145 155 156 157 158 159 160 161 162 163 164 165]\n",
      "Fitting ICA to data using 128 channels (please be patient, this may take a while)\n",
      "Inferring max_pca_components from picks\n",
      "Using all PCA components: 128\n",
      "Fitting ICA took 146.7s.\n",
      "    Searching for artifacts...\n",
      "Artifact indices found:\n",
      "    \n",
      "Ready.\n",
      "Transforming to ICA space (128 components)\n",
      "Zeroing out 0 ICA components\n",
      "1920 matching events found\n",
      "Applying baseline correction (mode: mean)\n",
      "Not setting metadata\n",
      "0 projection items activated\n",
      "Loading data for 1920 events and 500 original time points ...\n",
      "936 bad epochs dropped\n"
     ]
    }
   ],
   "source": [
    "epoch = remove_artifacts_and_create_epochs(raw)"
   ]
  },
  {
   "cell_type": "code",
   "execution_count": 48,
   "metadata": {},
   "outputs": [
    {
     "data": {
      "text/plain": [
       "mne.epochs.Epochs"
      ]
     },
     "execution_count": 48,
     "metadata": {},
     "output_type": "execute_result"
    }
   ],
   "source": [
    "type(epoch)"
   ]
  },
  {
   "cell_type": "code",
   "execution_count": 83,
   "metadata": {},
   "outputs": [
    {
     "data": {
      "text/plain": [
       "(984, 129, 500)"
      ]
     },
     "execution_count": 83,
     "metadata": {},
     "output_type": "execute_result"
    }
   ],
   "source": [
    "epoch.get_data().shape"
   ]
  },
  {
   "cell_type": "code",
   "execution_count": 49,
   "metadata": {},
   "outputs": [
    {
     "data": {
      "text/plain": [
       "array([[  7064,      0,      2],\n",
       "       [  7314,      0,      6],\n",
       "       [  7564,      0,      1],\n",
       "       ...,\n",
       "       [474286,      0,     23],\n",
       "       [474536,      0,     18],\n",
       "       [474787,      0,     22]])"
      ]
     },
     "execution_count": 49,
     "metadata": {},
     "output_type": "execute_result"
    }
   ],
   "source": [
    "epoch.events"
   ]
  },
  {
   "cell_type": "code",
   "execution_count": 50,
   "metadata": {},
   "outputs": [
    {
     "data": {
      "text/plain": [
       "{'b-f1-pic': 8,\n",
       " 'b-f1-snd': 11,\n",
       " 'b-f1-spk': 5,\n",
       " 'b-f1-wrd': 2,\n",
       " 'b-f2-pic': 7,\n",
       " 'b-f2-snd': 10,\n",
       " 'b-f2-spk': 4,\n",
       " 'b-f2-wrd': 1,\n",
       " 'b-tg-pic': 9,\n",
       " 'b-tg-snd': 12,\n",
       " 'b-tg-spk': 6,\n",
       " 'b-tg-wrd': 3,\n",
       " 'f-f1-pic': 20,\n",
       " 'f-f1-snd': 23,\n",
       " 'f-f1-spk': 17,\n",
       " 'f-f1-wrd': 14,\n",
       " 'f-f2-pic': 19,\n",
       " 'f-f2-snd': 22,\n",
       " 'f-f2-spk': 16,\n",
       " 'f-f2-wrd': 13,\n",
       " 'f-tg-pic': 21,\n",
       " 'f-tg-snd': 24,\n",
       " 'f-tg-spk': 18,\n",
       " 'f-tg-wrd': 15}"
      ]
     },
     "execution_count": 50,
     "metadata": {},
     "output_type": "execute_result"
    }
   ],
   "source": [
    "epoch.event_id"
   ]
  },
  {
   "cell_type": "code",
   "execution_count": 61,
   "metadata": {},
   "outputs": [],
   "source": [
    "#epoch.save(fname='20140306_1133-epo.fif')"
   ]
  },
  {
   "cell_type": "code",
   "execution_count": 84,
   "metadata": {},
   "outputs": [],
   "source": [
    "data = epoch.get_data()"
   ]
  },
  {
   "cell_type": "code",
   "execution_count": 94,
   "metadata": {},
   "outputs": [
    {
     "data": {
      "text/plain": [
       "(984, 129, 500)"
      ]
     },
     "execution_count": 94,
     "metadata": {},
     "output_type": "execute_result"
    }
   ],
   "source": [
    "data.shape"
   ]
  },
  {
   "cell_type": "code",
   "execution_count": 101,
   "metadata": {},
   "outputs": [
    {
     "name": "stdout",
     "output_type": "stream",
     "text": [
      "(1, 50)\n",
      "(2, 50)\n",
      "(3, 50)\n",
      "(4, 50)\n",
      "(5, 50)\n",
      "(6, 50)\n",
      "(7, 50)\n",
      "(8, 50)\n",
      "(9, 50)\n",
      "(10, 50)\n",
      "(11, 50)\n",
      "(12, 50)\n",
      "(13, 50)\n",
      "(14, 50)\n",
      "(15, 50)\n",
      "(16, 50)\n",
      "(17, 50)\n",
      "(18, 50)\n",
      "(19, 50)\n",
      "(20, 50)\n",
      "(21, 50)\n",
      "(22, 50)\n",
      "(23, 50)\n",
      "(24, 50)\n",
      "(25, 50)\n",
      "(26, 50)\n",
      "(27, 50)\n",
      "(28, 50)\n",
      "(29, 50)\n",
      "(30, 50)\n",
      "(31, 50)\n",
      "(32, 50)\n",
      "(33, 50)\n",
      "(34, 50)\n",
      "(35, 50)\n",
      "(36, 50)\n",
      "(37, 50)\n",
      "(38, 50)\n",
      "(39, 50)\n",
      "(40, 50)\n",
      "(41, 50)\n",
      "(42, 50)\n",
      "(43, 50)\n",
      "(44, 50)\n",
      "(45, 50)\n",
      "(46, 50)\n",
      "(47, 50)\n",
      "(48, 50)\n",
      "(49, 50)\n",
      "(50, 50)\n",
      "(51, 50)\n",
      "(52, 50)\n",
      "(53, 50)\n",
      "(54, 50)\n",
      "(55, 50)\n",
      "(56, 50)\n",
      "(57, 50)\n",
      "(58, 50)\n",
      "(59, 50)\n",
      "(60, 50)\n",
      "(61, 50)\n",
      "(62, 50)\n",
      "(63, 50)\n",
      "(64, 50)\n",
      "(65, 50)\n",
      "(66, 50)\n",
      "(67, 50)\n",
      "(68, 50)\n",
      "(69, 50)\n",
      "(70, 50)\n",
      "(71, 50)\n",
      "(72, 50)\n",
      "(73, 50)\n",
      "(74, 50)\n",
      "(75, 50)\n",
      "(76, 50)\n",
      "(77, 50)\n",
      "(78, 50)\n",
      "(79, 50)\n",
      "(80, 50)\n",
      "(81, 50)\n",
      "(82, 50)\n",
      "(83, 50)\n",
      "(84, 50)\n",
      "(85, 50)\n",
      "(86, 50)\n",
      "(87, 50)\n",
      "(88, 50)\n",
      "(89, 50)\n",
      "(90, 50)\n",
      "(91, 50)\n",
      "(92, 50)\n",
      "(93, 50)\n",
      "(94, 50)\n",
      "(95, 50)\n",
      "(96, 50)\n",
      "(97, 50)\n",
      "(98, 50)\n",
      "(99, 50)\n",
      "(100, 50)\n",
      "(101, 50)\n",
      "(102, 50)\n",
      "(103, 50)\n",
      "(104, 50)\n",
      "(105, 50)\n",
      "(106, 50)\n",
      "(107, 50)\n",
      "(108, 50)\n",
      "(109, 50)\n",
      "(110, 50)\n",
      "(111, 50)\n",
      "(112, 50)\n",
      "(113, 50)\n",
      "(114, 50)\n",
      "(115, 50)\n",
      "(116, 50)\n",
      "(117, 50)\n",
      "(118, 50)\n",
      "(119, 50)\n",
      "(120, 50)\n",
      "(121, 50)\n",
      "(122, 50)\n",
      "(123, 50)\n",
      "(124, 50)\n",
      "(125, 50)\n",
      "(126, 50)\n",
      "(127, 50)\n",
      "(128, 50)\n",
      "(129, 50)\n"
     ]
    }
   ],
   "source": [
    "def getAverageVar(data,segmentNum,epochNum):\n",
    "    \n",
    "    \n",
    "\n",
    "for channel in data[0]:\n",
    "    max_arr.append(channel[0:50])\n",
    "    arr = np.array(max_arr)\n",
    "    print(arr.shape)"
   ]
  },
  {
   "cell_type": "code",
   "execution_count": 112,
   "metadata": {},
   "outputs": [
    {
     "data": {
      "text/plain": [
       "(129, 50)"
      ]
     },
     "execution_count": 112,
     "metadata": {},
     "output_type": "execute_result"
    }
   ],
   "source": [
    "firstEpoch50data = np.array(max_arr)\n",
    "firstEpoch50data.shape"
   ]
  },
  {
   "cell_type": "code",
   "execution_count": 119,
   "metadata": {},
   "outputs": [
    {
     "data": {
      "text/plain": [
       "2.6014002251925666e-09"
      ]
     },
     "execution_count": 119,
     "metadata": {},
     "output_type": "execute_result"
    }
   ],
   "source": [
    "mean = np.mean(firstEpoch50data)\n",
    "mean"
   ]
  },
  {
   "cell_type": "code",
   "execution_count": 120,
   "metadata": {},
   "outputs": [
    {
     "data": {
      "text/plain": [
       "array([ 2.60140023e-09,  3.21936341e-06,  1.71719606e-05, -6.18284394e-07,\n",
       "       -2.52973396e-05, -3.19022771e-05, -4.93652826e-05, -4.72085403e-05,\n",
       "       -3.53708711e-05, -1.63027217e-05,  8.80742258e-06,  1.42474809e-05,\n",
       "        2.02112505e-05,  2.43080973e-05,  1.51388184e-05,  5.70301917e-06,\n",
       "        8.61577987e-06,  1.03310416e-05,  1.58864671e-05,  1.60469165e-05,\n",
       "        1.92008919e-05,  3.15338995e-05,  1.93752904e-05,  8.32157437e-06,\n",
       "        8.30281535e-06,  1.78685547e-05,  1.26299024e-05, -2.51697418e-06,\n",
       "        4.35120269e-06,  8.66018257e-06,  1.91083911e-05,  1.94131771e-05,\n",
       "        1.55417799e-05,  1.50397073e-05,  6.64227585e-06,  5.08770678e-06,\n",
       "        5.09859605e-06,  7.28987875e-06,  9.61881380e-06,  1.01314268e-05,\n",
       "        7.27203135e-06,  1.09908318e-05,  1.01266422e-05,  1.33903364e-05,\n",
       "        2.17708593e-05,  1.29925540e-05,  1.26062540e-05,  1.44216904e-05,\n",
       "        1.02608729e-05,  1.37982195e-05])"
      ]
     },
     "execution_count": 120,
     "metadata": {},
     "output_type": "execute_result"
    }
   ],
   "source": [
    "mean - firstEpoch50data[0]"
   ]
  },
  {
   "cell_type": "code",
   "execution_count": 118,
   "metadata": {},
   "outputs": [
    {
     "data": {
      "text/plain": [
       "array([[ 0.00000000e+00, -3.21676201e-06, -1.71693592e-05, ...,\n",
       "        -1.44190890e-05, -1.02582715e-05, -1.37956181e-05],\n",
       "       [ 0.00000000e+00,  1.67594076e-07, -5.33031974e-06, ...,\n",
       "        -1.38133314e-05, -8.47172674e-06, -1.42941024e-05],\n",
       "       [ 0.00000000e+00, -2.04089828e-06, -5.93303656e-06, ...,\n",
       "        -1.65377441e-05, -1.36941415e-05, -1.27385043e-05],\n",
       "       ...,\n",
       "       [ 0.00000000e+00,  5.13467936e-07,  1.06802868e-05, ...,\n",
       "         3.05669011e-07, -2.39182552e-06, -2.65470145e-06],\n",
       "       [ 0.00000000e+00, -2.53321829e-07,  6.58559300e-06, ...,\n",
       "        -3.19511373e-06, -6.79651916e-06, -4.07718894e-06],\n",
       "       [ 0.00000000e+00,  0.00000000e+00,  0.00000000e+00, ...,\n",
       "         0.00000000e+00,  0.00000000e+00,  0.00000000e+00]])"
      ]
     },
     "execution_count": 118,
     "metadata": {},
     "output_type": "execute_result"
    }
   ],
   "source": [
    "firstEpoch50data"
   ]
  },
  {
   "cell_type": "code",
   "execution_count": null,
   "metadata": {},
   "outputs": [],
   "source": []
  }
 ],
 "metadata": {
  "kernelspec": {
   "display_name": "Python 3",
   "language": "python",
   "name": "python3"
  },
  "language_info": {
   "codemirror_mode": {
    "name": "ipython",
    "version": 3
   },
   "file_extension": ".py",
   "mimetype": "text/x-python",
   "name": "python",
   "nbconvert_exporter": "python",
   "pygments_lexer": "ipython3",
   "version": "3.6.4"
  }
 },
 "nbformat": 4,
 "nbformat_minor": 2
}
