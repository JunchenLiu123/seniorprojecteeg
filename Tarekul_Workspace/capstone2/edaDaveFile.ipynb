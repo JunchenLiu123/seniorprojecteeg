{
 "cells": [
  {
   "cell_type": "code",
   "execution_count": 1,
   "metadata": {},
   "outputs": [],
   "source": [
    "import mne\n",
    "import numpy as np"
   ]
  },
  {
   "cell_type": "code",
   "execution_count": 2,
   "metadata": {},
   "outputs": [
    {
     "data": {
      "text/plain": [
       "'0.15.2'"
      ]
     },
     "execution_count": 2,
     "metadata": {},
     "output_type": "execute_result"
    }
   ],
   "source": [
    "mne.__version__"
   ]
  },
  {
   "cell_type": "code",
   "execution_count": 3,
   "metadata": {},
   "outputs": [
    {
     "ename": "KeyError",
     "evalue": "\"The following positions are missing from the montage definitions: [u'Lm', u'LE1', u'Nasium', u'LE3', u'LD2', u'LD5', u'LC3', u'LC6', u'LB1', u'LB4', u'LA2', u'LA5', u'LL1', u'LL4', u'LL7', u'LL10', u'LL13', u'L3', u'L6', u'L9', u'L12', u'Z1', u'Z4', u'Z7', u'Z10', u'Z13', u'R3', u'R6', u'R9', u'R12', u'RR1', u'RR4', u'RR7', u'RR10', u'RR13', u'RA2', u'RA5', u'RB1', u'RB4', u'RC3', u'RC6', u'RD2', u'RD5', u'RE1', u'VEOG', u'RE3', u'Rm', u'RE4', u'RD1', u'RD3', u'RD4', u'RD6', u'RD7', u'RC1', u'RC2', u'RC4', u'RC5', u'RC7', u'RB2', u'RB3', u'RB5', u'RB6', u'RA1', u'RA3', u'RA4', u'RR2', u'RR3', u'RR5', u'RR6', u'RR8', u'RR9', u'RR11', u'RR12', u'R1', u'R2', u'R4', u'R5', u'R7', u'R8', u'R10', u'R11', u'R13', u'R14', u'Z2', u'Z3', u'Z5', u'Z6', u'Z8', u'Z9', u'Z11', u'Z12', u'Z14', u'L1', u'L2', u'L4', u'L5', u'L7', u'L8', u'L10', u'L11', u'L13', u'L14', u'LL2', u'LL3', u'LL5', u'LL6', u'LL8', u'LL9', u'LL11', u'LL12', u'LA1', u'LA3', u'LA4', u'LB2', u'LB3', u'LB5', u'LB6', u'LC1', u'LC2', u'LC4', u'LC5', u'LC7', u'LD1', u'LD3', u'LD4', u'LD6', u'LD7', u'LE4']. If those channels lack positions because they are EOG channels use the eog parameter.\"",
     "output_type": "error",
     "traceback": [
      "\u001b[0;31m---------------------------------------------------------------------------\u001b[0m",
      "\u001b[0;31mKeyError\u001b[0m                                  Traceback (most recent call last)",
      "\u001b[0;32m<ipython-input-3-941a03a624a0>\u001b[0m in \u001b[0;36m<module>\u001b[0;34m()\u001b[0m\n\u001b[1;32m      1\u001b[0m \u001b[0mfilename\u001b[0m \u001b[0;34m=\u001b[0m \u001b[0;34m\"/Volumes/flashDrive/SA20140304/20140304_1418.set\"\u001b[0m\u001b[0;34m\u001b[0m\u001b[0m\n\u001b[0;32m----> 2\u001b[0;31m \u001b[0mmne\u001b[0m\u001b[0;34m.\u001b[0m\u001b[0mio\u001b[0m\u001b[0;34m.\u001b[0m\u001b[0mread_raw_eeglab\u001b[0m\u001b[0;34m(\u001b[0m\u001b[0mfilename\u001b[0m\u001b[0;34m)\u001b[0m\u001b[0;34m\u001b[0m\u001b[0m\n\u001b[0m",
      "\u001b[0;32m/anaconda3/envs/py27/lib/python2.7/site-packages/mne/io/eeglab/eeglab.pyc\u001b[0m in \u001b[0;36mread_raw_eeglab\u001b[0;34m(input_fname, montage, eog, event_id, event_id_func, preload, verbose, uint16_codec)\u001b[0m\n\u001b[1;32m    192\u001b[0m     return RawEEGLAB(input_fname=input_fname, montage=montage, preload=preload,\n\u001b[1;32m    193\u001b[0m                      \u001b[0meog\u001b[0m\u001b[0;34m=\u001b[0m\u001b[0meog\u001b[0m\u001b[0;34m,\u001b[0m \u001b[0mevent_id\u001b[0m\u001b[0;34m=\u001b[0m\u001b[0mevent_id\u001b[0m\u001b[0;34m,\u001b[0m \u001b[0mevent_id_func\u001b[0m\u001b[0;34m=\u001b[0m\u001b[0mevent_id_func\u001b[0m\u001b[0;34m,\u001b[0m\u001b[0;34m\u001b[0m\u001b[0m\n\u001b[0;32m--> 194\u001b[0;31m                      verbose=verbose, uint16_codec=uint16_codec)\n\u001b[0m\u001b[1;32m    195\u001b[0m \u001b[0;34m\u001b[0m\u001b[0m\n\u001b[1;32m    196\u001b[0m \u001b[0;34m\u001b[0m\u001b[0m\n",
      "\u001b[0;32m/anaconda3/envs/py27/lib/python2.7/site-packages/mne/io/eeglab/eeglab.pyc\u001b[0m in \u001b[0;36m__init__\u001b[0;34m(self, input_fname, montage, eog, event_id, event_id_func, preload, verbose, uint16_codec)\u001b[0m\n",
      "\u001b[0;32m/anaconda3/envs/py27/lib/python2.7/site-packages/mne/utils.pyc\u001b[0m in \u001b[0;36mverbose\u001b[0;34m(function, *args, **kwargs)\u001b[0m\n\u001b[1;32m    726\u001b[0m         \u001b[0;32mwith\u001b[0m \u001b[0muse_log_level\u001b[0m\u001b[0;34m(\u001b[0m\u001b[0mverbose_level\u001b[0m\u001b[0;34m)\u001b[0m\u001b[0;34m:\u001b[0m\u001b[0;34m\u001b[0m\u001b[0m\n\u001b[1;32m    727\u001b[0m             \u001b[0;32mreturn\u001b[0m \u001b[0mfunction\u001b[0m\u001b[0;34m(\u001b[0m\u001b[0;34m*\u001b[0m\u001b[0margs\u001b[0m\u001b[0;34m,\u001b[0m \u001b[0;34m**\u001b[0m\u001b[0mkwargs\u001b[0m\u001b[0;34m)\u001b[0m\u001b[0;34m\u001b[0m\u001b[0m\n\u001b[0;32m--> 728\u001b[0;31m     \u001b[0;32mreturn\u001b[0m \u001b[0mfunction\u001b[0m\u001b[0;34m(\u001b[0m\u001b[0;34m*\u001b[0m\u001b[0margs\u001b[0m\u001b[0;34m,\u001b[0m \u001b[0;34m**\u001b[0m\u001b[0mkwargs\u001b[0m\u001b[0;34m)\u001b[0m\u001b[0;34m\u001b[0m\u001b[0m\n\u001b[0m\u001b[1;32m    729\u001b[0m \u001b[0;34m\u001b[0m\u001b[0m\n\u001b[1;32m    730\u001b[0m \u001b[0;34m\u001b[0m\u001b[0m\n",
      "\u001b[0;32m/anaconda3/envs/py27/lib/python2.7/site-packages/mne/io/eeglab/eeglab.pyc\u001b[0m in \u001b[0;36m__init__\u001b[0;34m(self, input_fname, montage, eog, event_id, event_id_func, preload, verbose, uint16_codec)\u001b[0m\n\u001b[1;32m    338\u001b[0m \u001b[0;34m\u001b[0m\u001b[0m\n\u001b[1;32m    339\u001b[0m         \u001b[0mlast_samps\u001b[0m \u001b[0;34m=\u001b[0m \u001b[0;34m[\u001b[0m\u001b[0meeg\u001b[0m\u001b[0;34m.\u001b[0m\u001b[0mpnts\u001b[0m \u001b[0;34m-\u001b[0m \u001b[0;36m1\u001b[0m\u001b[0;34m]\u001b[0m\u001b[0;34m\u001b[0m\u001b[0m\n\u001b[0;32m--> 340\u001b[0;31m         \u001b[0minfo\u001b[0m \u001b[0;34m=\u001b[0m \u001b[0m_get_info\u001b[0m\u001b[0;34m(\u001b[0m\u001b[0meeg\u001b[0m\u001b[0;34m,\u001b[0m \u001b[0mmontage\u001b[0m\u001b[0;34m,\u001b[0m \u001b[0meog\u001b[0m\u001b[0;34m=\u001b[0m\u001b[0meog\u001b[0m\u001b[0;34m)\u001b[0m\u001b[0;34m\u001b[0m\u001b[0m\n\u001b[0m\u001b[1;32m    341\u001b[0m \u001b[0;34m\u001b[0m\u001b[0m\n\u001b[1;32m    342\u001b[0m         stim_chan = dict(ch_name='STI 014', coil_type=FIFF.FIFFV_COIL_NONE,\n",
      "\u001b[0;32m/anaconda3/envs/py27/lib/python2.7/site-packages/mne/io/eeglab/eeglab.pyc\u001b[0m in \u001b[0;36m_get_info\u001b[0;34m(eeg, montage, eog)\u001b[0m\n\u001b[1;32m    107\u001b[0m     \u001b[0;32melse\u001b[0m\u001b[0;34m:\u001b[0m\u001b[0;34m\u001b[0m\u001b[0m\n\u001b[1;32m    108\u001b[0m         _check_update_montage(info, montage, path=path,\n\u001b[0;32m--> 109\u001b[0;31m                               update_ch_names=update_ch_names)\n\u001b[0m\u001b[1;32m    110\u001b[0m \u001b[0;34m\u001b[0m\u001b[0m\n\u001b[1;32m    111\u001b[0m     \u001b[0minfo\u001b[0m\u001b[0;34m[\u001b[0m\u001b[0;34m'buffer_size_sec'\u001b[0m\u001b[0;34m]\u001b[0m \u001b[0;34m=\u001b[0m \u001b[0;36m1.\u001b[0m  \u001b[0;31m# reasonable default\u001b[0m\u001b[0;34m\u001b[0m\u001b[0m\n",
      "\u001b[0;32m/anaconda3/envs/py27/lib/python2.7/site-packages/mne/io/base.pyc\u001b[0m in \u001b[0;36m_check_update_montage\u001b[0;34m(info, montage, path, update_ch_names)\u001b[0m\n\u001b[1;32m   2508\u001b[0m                     \u001b[0;34m\"definitions: %s. If those channels lack positions \"\u001b[0m\u001b[0;34m\u001b[0m\u001b[0m\n\u001b[1;32m   2509\u001b[0m                     \u001b[0;34m\"because they are EOG channels use the eog parameter.\"\u001b[0m\u001b[0;34m\u001b[0m\u001b[0m\n\u001b[0;32m-> 2510\u001b[0;31m                     % str(missing_positions))\n\u001b[0m\u001b[1;32m   2511\u001b[0m \u001b[0;34m\u001b[0m\u001b[0m\n\u001b[1;32m   2512\u001b[0m \u001b[0;34m\u001b[0m\u001b[0m\n",
      "\u001b[0;31mKeyError\u001b[0m: \"The following positions are missing from the montage definitions: [u'Lm', u'LE1', u'Nasium', u'LE3', u'LD2', u'LD5', u'LC3', u'LC6', u'LB1', u'LB4', u'LA2', u'LA5', u'LL1', u'LL4', u'LL7', u'LL10', u'LL13', u'L3', u'L6', u'L9', u'L12', u'Z1', u'Z4', u'Z7', u'Z10', u'Z13', u'R3', u'R6', u'R9', u'R12', u'RR1', u'RR4', u'RR7', u'RR10', u'RR13', u'RA2', u'RA5', u'RB1', u'RB4', u'RC3', u'RC6', u'RD2', u'RD5', u'RE1', u'VEOG', u'RE3', u'Rm', u'RE4', u'RD1', u'RD3', u'RD4', u'RD6', u'RD7', u'RC1', u'RC2', u'RC4', u'RC5', u'RC7', u'RB2', u'RB3', u'RB5', u'RB6', u'RA1', u'RA3', u'RA4', u'RR2', u'RR3', u'RR5', u'RR6', u'RR8', u'RR9', u'RR11', u'RR12', u'R1', u'R2', u'R4', u'R5', u'R7', u'R8', u'R10', u'R11', u'R13', u'R14', u'Z2', u'Z3', u'Z5', u'Z6', u'Z8', u'Z9', u'Z11', u'Z12', u'Z14', u'L1', u'L2', u'L4', u'L5', u'L7', u'L8', u'L10', u'L11', u'L13', u'L14', u'LL2', u'LL3', u'LL5', u'LL6', u'LL8', u'LL9', u'LL11', u'LL12', u'LA1', u'LA3', u'LA4', u'LB2', u'LB3', u'LB5', u'LB6', u'LC1', u'LC2', u'LC4', u'LC5', u'LC7', u'LD1', u'LD3', u'LD4', u'LD6', u'LD7', u'LE4']. If those channels lack positions because they are EOG channels use the eog parameter.\""
     ]
    }
   ],
   "source": [
    "filename = \"/Volumes/flashDrive/SA20140304/20140304_1418.set\"\n",
    "mne.io.read_raw_eeglab(filename)"
   ]
  },
  {
   "cell_type": "code",
   "execution_count": null,
   "metadata": {},
   "outputs": [],
   "source": []
  }
 ],
 "metadata": {
  "kernelspec": {
   "display_name": "Python 2",
   "language": "python",
   "name": "python2"
  },
  "language_info": {
   "codemirror_mode": {
    "name": "ipython",
    "version": 2
   },
   "file_extension": ".py",
   "mimetype": "text/x-python",
   "name": "python",
   "nbconvert_exporter": "python",
   "pygments_lexer": "ipython2",
   "version": "2.7.14"
  }
 },
 "nbformat": 4,
 "nbformat_minor": 2
}
