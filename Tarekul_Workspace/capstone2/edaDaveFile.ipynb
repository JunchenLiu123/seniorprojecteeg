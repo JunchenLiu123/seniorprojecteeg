{
 "cells": [
  {
   "cell_type": "code",
   "execution_count": 1,
   "metadata": {},
   "outputs": [
    {
     "name": "stdout",
     "output_type": "stream",
     "text": [
      "3.6.4 |Anaconda, Inc.| (default, Jan 16 2018, 12:04:33) \n",
      "[GCC 4.2.1 Compatible Clang 4.0.1 (tags/RELEASE_401/final)]\n"
     ]
    }
   ],
   "source": [
    "import sys\n",
    "print(sys.version)\n"
   ]
  },
  {
   "cell_type": "code",
   "execution_count": 2,
   "metadata": {},
   "outputs": [],
   "source": [
    "import mne\n",
    "import os\n",
    "import numpy as np\n",
    "import matplotlib.pyplot as plt\n",
    "%matplotlib inline\n",
    "import matplotlib"
   ]
  },
  {
   "cell_type": "code",
   "execution_count": 3,
   "metadata": {},
   "outputs": [],
   "source": [
    "def searchFolders(path):\n",
    "    subjFolders = os.listdir(path)\n",
    "    eeglab = []\n",
    "    for i in subjFolders:\n",
    "        if '.DS_Store' not in i:\n",
    "            eeglab.append(i)\n",
    "    \n",
    "    eeglab_dict = {}\n",
    "    for folder in eeglab:\n",
    "        folderPath = os.path.join(path,folder)\n",
    "        contents = os.listdir(folderPath)\n",
    "        eeglab_dict[folder] = [x for x in contents if '.set' in x]\n",
    "    return eeglab_dict"
   ]
  },
  {
   "cell_type": "code",
   "execution_count": 6,
   "metadata": {},
   "outputs": [
    {
     "name": "stdout",
     "output_type": "stream",
     "text": [
      "{'SA20140304': ['20140304_1418.set', '20140304_1614.set'], 'SA20140306': ['20140306_1133.set', '20140306_1338.set']}\n"
     ]
    }
   ],
   "source": [
    "path = '/Volumes/flashDrive/EEGLAB'\n",
    "eeglab_dict = searchFolders(path)\n",
    "print(eeglab_dict)"
   ]
  },
  {
   "cell_type": "code",
   "execution_count": 7,
   "metadata": {},
   "outputs": [
    {
     "name": "stdout",
     "output_type": "stream",
     "text": [
      "Reading /Volumes/flashDrive/EEGLAB/SA20140306/20140306_1133.fdt\n",
      "Reading 0 ... 951345  =      0.000 ...  1858.096 secs...\n"
     ]
    }
   ],
   "source": [
    "# read file\n",
    "np.random.seed(42)\n",
    "eeglab_dict_keys = list(eeglab_dict.keys())\n",
    "eeglab_folder = os.path.join(path,eeglab_dict_keys[1])\n",
    "\n",
    "eeglab_file = os.path.join(eeglab_folder, eeglab_dict[eeglab_dict_keys[1]][0])\n",
    "raw = mne.io.read_raw_eeglab(eeglab_file, preload=True, verbose = True)"
   ]
  },
  {
   "cell_type": "code",
   "execution_count": null,
   "metadata": {},
   "outputs": [],
   "source": []
  },
  {
   "cell_type": "code",
   "execution_count": null,
   "metadata": {},
   "outputs": [],
   "source": []
  },
  {
   "cell_type": "code",
   "execution_count": null,
   "metadata": {},
   "outputs": [],
   "source": []
  }
 ],
 "metadata": {
  "kernelspec": {
   "display_name": "Python 3",
   "language": "python",
   "name": "python3"
  },
  "language_info": {
   "codemirror_mode": {
    "name": "ipython",
    "version": 3
   },
   "file_extension": ".py",
   "mimetype": "text/x-python",
   "name": "python",
   "nbconvert_exporter": "python",
   "pygments_lexer": "ipython3",
   "version": "3.6.4"
  }
 },
 "nbformat": 4,
 "nbformat_minor": 2
}
