{
 "cells": [
  {
   "cell_type": "code",
   "execution_count": 374,
   "metadata": {},
   "outputs": [],
   "source": [
    "import mne \n",
    "import numpy as np\n",
    "import os\n",
    "import matplotlib.pyplot as plt"
   ]
  },
  {
   "cell_type": "code",
   "execution_count": 238,
   "metadata": {},
   "outputs": [],
   "source": [
    "def arrayFiles(path):\n",
    "    folderContent = os.listdir(path)\n",
    "    fifFiles = []\n",
    "    for i in folderContent :\n",
    "        fifFiles.append(path + \"/\" + i)\n",
    "    \n",
    "    return fifFiles"
   ]
  },
  {
   "cell_type": "code",
   "execution_count": 239,
   "metadata": {},
   "outputs": [],
   "source": [
    "#concatenate path to name of each file and store in array for reading in data\n",
    "path = '/Volumes/flash64/EpochedEEG'\n",
    "allFifFiles = arrayFiles(path)\n"
   ]
  },
  {
   "cell_type": "code",
   "execution_count": 240,
   "metadata": {},
   "outputs": [
    {
     "name": "stdout",
     "output_type": "stream",
     "text": [
      "Reading /Volumes/flash64/EpochedEEG/20131216_1441_epo.fif ...\n",
      "    Found the data of interest:\n",
      "        t =    -199.22 ...     500.00 ms\n",
      "        0 CTF compensation matrices available\n",
      "5424 matching events found\n",
      "Applying baseline correction (mode: mean)\n",
      "5424 matching events found\n",
      "Applying baseline correction (mode: mean)\n",
      "Not setting metadata\n",
      "0 projection items activated\n"
     ]
    }
   ],
   "source": [
    "epoch = mne.read_epochs(allFifFiles[0],preload=True)"
   ]
  },
  {
   "cell_type": "code",
   "execution_count": null,
   "metadata": {},
   "outputs": [],
   "source": []
  },
  {
   "cell_type": "code",
   "execution_count": 241,
   "metadata": {},
   "outputs": [
    {
     "data": {
      "text/plain": [
       "{'congruent': 133,\n",
       " 'correct': 129,\n",
       " 'f_baby': 155,\n",
       " 'f_bell': 156,\n",
       " 'f_bird': 157,\n",
       " 'f_burp': 158,\n",
       " 'f_dog': 159,\n",
       " 'f_drum': 160,\n",
       " 'f_knock': 161,\n",
       " 'f_laugh': 162,\n",
       " 'f_phone': 163,\n",
       " 'f_train': 164,\n",
       " 'f_water': 165,\n",
       " 'flanker_stim_1': 1,\n",
       " 'flanker_stim_10': 10,\n",
       " 'flanker_stim_11': 11,\n",
       " 'flanker_stim_12': 12,\n",
       " 'flanker_stim_2': 2,\n",
       " 'flanker_stim_3': 3,\n",
       " 'flanker_stim_4': 4,\n",
       " 'flanker_stim_5': 5,\n",
       " 'flanker_stim_6': 6,\n",
       " 'flanker_stim_7': 7,\n",
       " 'flanker_stim_8': 8,\n",
       " 'flanker_stim_9': 9,\n",
       " 'incongruent': 134,\n",
       " 'incorrect': 130,\n",
       " 'left_button': 131,\n",
       " 'right_button': 132,\n",
       " 't_baby': 135,\n",
       " 't_bell': 136,\n",
       " 't_bird': 137,\n",
       " 't_burp': 138,\n",
       " 't_dog': 139,\n",
       " 't_drum': 140,\n",
       " 't_knock': 141,\n",
       " 't_laugh': 142,\n",
       " 't_phone': 143,\n",
       " 't_train': 144,\n",
       " 't_water': 145,\n",
       " 'target_stim_13': 13,\n",
       " 'target_stim_14': 14,\n",
       " 'target_stim_15': 15,\n",
       " 'target_stim_16': 16,\n",
       " 'target_stim_17': 17,\n",
       " 'target_stim_18': 18,\n",
       " 'target_stim_19': 19,\n",
       " 'target_stim_20': 20,\n",
       " 'target_stim_21': 21,\n",
       " 'target_stim_22': 22,\n",
       " 'target_stim_23': 23,\n",
       " 'target_stim_24': 24,\n",
       " 'trail_start': 31}"
      ]
     },
     "execution_count": 241,
     "metadata": {},
     "output_type": "execute_result"
    }
   ],
   "source": [
    "#see all event ids\n",
    "epoch.event_id"
   ]
  },
  {
   "cell_type": "code",
   "execution_count": 290,
   "metadata": {},
   "outputs": [],
   "source": [
    "#seperate all flanker events\n",
    "f_baby_events = epoch.events[epoch.events[:,-1] == 155]\n",
    "f_bell_events = epoch.events[epoch.events[:,-1] == 156]\n",
    "f_bird_events = epoch.events[epoch.events[:,-1] == 157] \n",
    "f_burp_events = epoch.events[epoch.events[:,-1] == 158]\n",
    "f_dog_events = epoch.events[epoch.events[:,-1] == 159] \n",
    "f_drum_events = epoch.events[epoch.events[:,-1] == 160]\n",
    "f_knock_events = epoch.events[epoch.events[:,-1] == 161]\n",
    "f_laugh_events = epoch.events[epoch.events[:,-1] == 162]\n",
    "f_phone_events = epoch.events[epoch.events[:,-1] == 163]\n",
    "f_train_events = epoch.events[epoch.events[:,-1] == 164]\n",
    "f_water_events = epoch.events[epoch.events[:,-1] == 165]\n",
    "\n"
   ]
  },
  {
   "cell_type": "code",
   "execution_count": 315,
   "metadata": {},
   "outputs": [
    {
     "data": {
      "text/plain": [
       "array([[ 47079,    141,    156],\n",
       "       [ 49048,      0,    156],\n",
       "       [ 53539,      0,    156],\n",
       "       [ 54960,    136,    156],\n",
       "       [130079,      0,    156],\n",
       "       [132904,      0,    156],\n",
       "       [134528,      0,    156],\n",
       "       [136134,      0,    156],\n",
       "       [136668,      0,    156],\n",
       "       [139027,    136,    156],\n",
       "       [140901,      0,    156],\n",
       "       [142550,    136,    156],\n",
       "       [246965,      0,    156],\n",
       "       [249273,      0,    156],\n",
       "       [250134,    143,    156],\n",
       "       [252046,      0,    156],\n",
       "       [256189,      0,    156],\n",
       "       [258665,      0,    156],\n",
       "       [259332,    143,    156],\n",
       "       [259892,      0,    156],\n",
       "       [302696,    140,    156],\n",
       "       [304647,    140,    156],\n",
       "       [305186,      0,    156],\n",
       "       [306615,    136,    156],\n",
       "       [314801,    140,    156],\n",
       "       [315977,    140,    156],\n",
       "       [317299,    136,    156],\n",
       "       [317842,      0,    156],\n",
       "       [506961,      0,    156],\n",
       "       [507499,    140,    156],\n",
       "       [508378,    140,    156],\n",
       "       [509584,      0,    156],\n",
       "       [510135,      0,    156],\n",
       "       [510669,      0,    156],\n",
       "       [511612,      0,    156],\n",
       "       [512335,    136,    156],\n",
       "       [513007,    136,    156],\n",
       "       [514540,      0,    156],\n",
       "       [515087,      0,    156],\n",
       "       [516482,    140,    156],\n",
       "       [517632,    140,    156],\n",
       "       [518416,    136,    156],\n",
       "       [519682,      0,    156],\n",
       "       [520216,      0,    156],\n",
       "       [521013,      0,    156],\n",
       "       [522670,    136,    156],\n",
       "       [523205,      0,    156],\n",
       "       [524022,    140,    156]])"
      ]
     },
     "execution_count": 315,
     "metadata": {},
     "output_type": "execute_result"
    }
   ],
   "source": [
    "epoch.events[epoch.events[:,-1]==156]"
   ]
  },
  {
   "cell_type": "code",
   "execution_count": 243,
   "metadata": {},
   "outputs": [],
   "source": [
    "#array flankers\n"
   ]
  },
  {
   "cell_type": "code",
   "execution_count": 276,
   "metadata": {},
   "outputs": [
    {
     "data": {
      "text/plain": [
       "array([False, False, False, ..., False, False, False])"
      ]
     },
     "execution_count": 276,
     "metadata": {},
     "output_type": "execute_result"
    }
   ],
   "source": [
    "#156 or 157 or 158 or 159 or 160 or 161 or 162 or 163 or 164 or 165\n",
    "\n",
    "epoch.events[:,-1] == (155 or 156)\n"
   ]
  },
  {
   "cell_type": "code",
   "execution_count": 352,
   "metadata": {},
   "outputs": [
    {
     "data": {
      "text/plain": [
       "array([[  2411,      0,    131],\n",
       "       [  2580,      0,     31],\n",
       "       [  2581,     31,    144],\n",
       "       ...,\n",
       "       [658880,      0,      1],\n",
       "       [658931,      0,    131],\n",
       "       [659013,      0,    134]])"
      ]
     },
     "execution_count": 352,
     "metadata": {},
     "output_type": "execute_result"
    }
   ],
   "source": [
    "epoch.events"
   ]
  },
  {
   "cell_type": "code",
   "execution_count": 379,
   "metadata": {},
   "outputs": [
    {
     "data": {
      "text/plain": [
       "{'f_baby': 155,\n",
       " 'f_bell': 156,\n",
       " 'f_bird': 157,\n",
       " 'f_burp': 158,\n",
       " 'f_dog': 159,\n",
       " 'f_drum': 160,\n",
       " 'f_knock': 161,\n",
       " 'f_laugh': 162,\n",
       " 'f_phone': 163,\n",
       " 'f_train': 164,\n",
       " 'f_water': 165,\n",
       " 't_baby': 135,\n",
       " 't_bell': 136,\n",
       " 't_bird': 137,\n",
       " 't_burp': 138,\n",
       " 't_dog': 139,\n",
       " 't_drum': 140,\n",
       " 't_knock': 141,\n",
       " 't_laugh': 142,\n",
       " 't_phone': 143,\n",
       " 't_train': 144,\n",
       " 't_water': 145}"
      ]
     },
     "execution_count": 379,
     "metadata": {},
     "output_type": "execute_result"
    }
   ],
   "source": [
    "''''f_baby': 155,\n",
    " 'f_bell': 156,\n",
    " 'f_bird': 157,\n",
    " 'f_burp': 158,\n",
    " 'f_dog': 159,\n",
    " 'f_drum': 160,\n",
    " 'f_knock': 161,\n",
    " 'f_laugh': 162,\n",
    " 'f_phone': 163,\n",
    " 'f_train': 164,\n",
    " 'f_water': 165,'''\n",
    "\n",
    "flankerEpochs = epoch['f_baby','f_bell','f_bird','f_burp','f_dog','f_drum','f_knock',\n",
    "             'f_laugh','f_phone','f_train','f_water']\n",
    "\n",
    "targetEpochs = epoch['t_baby','t_bell','t_bird','t_burp','t_dog','t_drum','t_knock',\n",
    "             't_laugh','t_phone','t_train','t_water']\n",
    "\n",
    "#targetEpochs.plot(n_channels=20)\n",
    "\n",
    "flankerTargetEpoch = epoch['f_baby','f_bell','f_bird','f_burp','f_dog','f_drum','f_knock',\n",
    "             'f_laugh','f_phone','f_train','f_water','t_baby','t_bell','t_bird','t_burp','t_dog','t_drum','t_knock',\n",
    "             't_laugh','t_phone','t_train','t_water']\n",
    "flankerTargetEpoch.event_id"
   ]
  },
  {
   "cell_type": "code",
   "execution_count": 323,
   "metadata": {},
   "outputs": [
    {
     "data": {
      "text/plain": [
       "array([[ 59863,     31,    135],\n",
       "       [ 61043,     31,    135],\n",
       "       [ 63464,      0,    135],\n",
       "       [ 64187,     31,    135],\n",
       "       [ 65746,      0,    135],\n",
       "       [ 67455,     31,    135],\n",
       "       [ 68820,     31,    135],\n",
       "       [ 70082,     31,    135],\n",
       "       [ 70870,     31,    135],\n",
       "       [ 72179,     31,    135],\n",
       "       [181060,      0,    135],\n",
       "       [182132,      0,    135],\n",
       "       [183221,     31,    135],\n",
       "       [184535,      0,    135],\n",
       "       [185077,     31,    135],\n",
       "       [188105,      0,    135],\n",
       "       [189048,      0,    135],\n",
       "       [190895,     31,    135],\n",
       "       [193091,     31,    135],\n",
       "       [194155,     31,    135],\n",
       "       [231788,      0,    135],\n",
       "       [234578,     31,    135],\n",
       "       [236903,     31,    135],\n",
       "       [237442,      0,    135],\n",
       "       [238518,     31,    135],\n",
       "       [239057,    132,    135],\n",
       "       [240133,     31,    135],\n",
       "       [242291,      0,    135],\n",
       "       [242829,     31,    135],\n",
       "       [243906,      0,    135],\n",
       "       [357553,      0,    135],\n",
       "       [359999,      0,    135],\n",
       "       [362131,      0,    135],\n",
       "       [364064,     31,    135],\n",
       "       [365842,     31,    135],\n",
       "       [370722,      0,    135],\n",
       "       [372147,      0,    135],\n",
       "       [372866,     31,    135],\n",
       "       [375200,     31,    135],\n",
       "       [378421,     31,    135],\n",
       "       [459311,      0,    135],\n",
       "       [462312,     31,    135],\n",
       "       [462850,     31,    135],\n",
       "       [463931,     31,    135],\n",
       "       [464474,      0,    135],\n",
       "       [466067,     31,    135],\n",
       "       [471058,     31,    135],\n",
       "       [471601,      0,    135],\n",
       "       [472819,     31,    135],\n",
       "       [473379,     31,    135],\n",
       "       [588581,     31,    135],\n",
       "       [589550,      0,    135],\n",
       "       [590084,      0,    135],\n",
       "       [591462,      0,    135],\n",
       "       [591996,      0,    135],\n",
       "       [594713,     31,    135],\n",
       "       [595265,      0,    135],\n",
       "       [595932,      0,    135],\n",
       "       [598507,     31,    135],\n",
       "       [599041,     31,    135]])"
      ]
     },
     "execution_count": 323,
     "metadata": {},
     "output_type": "execute_result"
    }
   ],
   "source": [
    "epoch.events[epoch.events[:,-1]==135]"
   ]
  },
  {
   "cell_type": "code",
   "execution_count": 291,
   "metadata": {},
   "outputs": [],
   "source": [
    "flankerEpochs = np.concatenate((f_baby_events,f_bell_events,f_bird_events,f_burp_events,\n",
    "                               f_dog_events,f_drum_events,f_knock_events,f_laugh_events,\n",
    "                               f_phone_events,f_train_events,f_water_events),axis=0)"
   ]
  },
  {
   "cell_type": "code",
   "execution_count": 292,
   "metadata": {},
   "outputs": [
    {
     "data": {
      "text/plain": [
       "array([[181061,    135,    155],\n",
       "       [182133,    135,    155],\n",
       "       [183223,      0,    155],\n",
       "       ...,\n",
       "       [548211,      0,    165],\n",
       "       [548990,    137,    165],\n",
       "       [550734,    145,    165]])"
      ]
     },
     "execution_count": 292,
     "metadata": {},
     "output_type": "execute_result"
    }
   ],
   "source": [
    "#flankerEpochs"
   ]
  },
  {
   "cell_type": "code",
   "execution_count": 293,
   "metadata": {},
   "outputs": [],
   "source": [
    "#this only saves event info in arrays NOT the data!\n",
    "\"\"\"\n",
    "t_baby_events = epoch.events[epoch.events[:,-1] == 135]\n",
    "t_bell_events = epoch.events[epoch.events[:,-1] == 136]\n",
    "t_bird_events = epoch.events[epoch.events[:,-1] == 13] \n",
    "t_burp_events = epoch.events[epoch.events[:,-1] == 138]\n",
    "t_dog_events = epoch.events[epoch.events[:,-1] == 139] \n",
    "t_drum_events = epoch.events[epoch.events[:,-1] == 140]\n",
    "t_knock_events = epoch.events[epoch.events[:,-1] == 141]\n",
    "t_laugh_events = epoch.events[epoch.events[:,-1] == 142]\n",
    "t_phone_events = epoch.events[epoch.events[:,-1] == 143]\n",
    "t_train_events = epoch.events[epoch.events[:,-1] == 144]\n",
    "t_water_events = epoch.events[epoch.events[:,-1] == 145]\n",
    "\"\"\""
   ]
  },
  {
   "cell_type": "code",
   "execution_count": 294,
   "metadata": {},
   "outputs": [],
   "source": [
    "#cocatenate the events\n",
    "\"\"\"\n",
    "targetEpochs = np.concatenate((t_baby_events,t_bell_events,t_bird_events,t_burp_events,\n",
    "                               t_dog_events,t_drum_events,t_knock_events,t_laugh_events,\n",
    "                               t_phone_events,t_train_events,t_water_events),axis=0)\n",
    "\"\"\""
   ]
  },
  {
   "cell_type": "code",
   "execution_count": null,
   "metadata": {},
   "outputs": [],
   "source": []
  },
  {
   "cell_type": "code",
   "execution_count": 303,
   "metadata": {},
   "outputs": [],
   "source": [
    "#now i have two arrays flanker/target events.\n",
    "#I want only one array with both flanker and target\n",
    "\"\"\"\n",
    "flankers_targets = np.concatenate((f_baby_events,f_bell_events,f_bird_events,f_burp_events,\n",
    "                               f_dog_events,f_drum_events,f_knock_events,f_laugh_events,\n",
    "                               f_phone_events,f_train_events,f_water_events,t_baby_events,t_bell_events,t_bird_events,t_burp_events,\n",
    "                               t_dog_events,t_drum_events,t_knock_events,t_laugh_events,\n",
    "                               t_phone_events,t_train_events,t_water_events),axis=0) \"\"\""
   ]
  },
  {
   "cell_type": "code",
   "execution_count": null,
   "metadata": {},
   "outputs": [],
   "source": []
  },
  {
   "cell_type": "code",
   "execution_count": null,
   "metadata": {},
   "outputs": [],
   "source": []
  },
  {
   "cell_type": "code",
   "execution_count": null,
   "metadata": {},
   "outputs": [],
   "source": []
  }
 ],
 "metadata": {
  "kernelspec": {
   "display_name": "Python 3",
   "language": "python",
   "name": "python3"
  },
  "language_info": {
   "codemirror_mode": {
    "name": "ipython",
    "version": 3
   },
   "file_extension": ".py",
   "mimetype": "text/x-python",
   "name": "python",
   "nbconvert_exporter": "python",
   "pygments_lexer": "ipython3",
   "version": "3.6.4"
  }
 },
 "nbformat": 4,
 "nbformat_minor": 2
}
