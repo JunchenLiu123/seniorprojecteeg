{
 "cells": [
  {
   "cell_type": "code",
   "execution_count": 35,
   "metadata": {},
   "outputs": [],
   "source": [
    "import mne \n",
    "import numpy as np\n",
    "import os\n",
    "import matplotlib.pyplot as plt\n",
    "from mne.decoding import UnsupervisedSpatialFilter\n",
    "from sklearn.decomposition import PCA, FastICA\n",
    "from sklearn.linear_model import LogisticRegression\n",
    "from sklearn.discriminant_analysis import LinearDiscriminantAnalysis as LDA\n",
    "from sklearn.model_selection import StratifiedKFold\n",
    "from sklearn.pipeline import make_pipeline\n",
    "from mne.decoding import Vectorizer\n",
    "from sklearn.preprocessing import MinMaxScaler"
   ]
  },
  {
   "cell_type": "code",
   "execution_count": 3,
   "metadata": {},
   "outputs": [],
   "source": [
    "def arrayFiles(path):\n",
    "    folderContent = os.listdir(path)\n",
    "    fifFiles = []\n",
    "    for i in folderContent :\n",
    "        fifFiles.append(path + \"/\" + i)\n",
    "    \n",
    "    return fifFiles"
   ]
  },
  {
   "cell_type": "code",
   "execution_count": 4,
   "metadata": {},
   "outputs": [],
   "source": [
    "#concatenate path to name of each file and store in array for reading in data\n",
    "path = '/Volumes/flash64/EpochedEEG'\n",
    "allFifFiles = arrayFiles(path)\n"
   ]
  },
  {
   "cell_type": "code",
   "execution_count": 5,
   "metadata": {},
   "outputs": [
    {
     "name": "stdout",
     "output_type": "stream",
     "text": [
      "Reading /Volumes/flash64/EpochedEEG/20131216_1441_epo.fif ...\n",
      "    Found the data of interest:\n",
      "        t =    -199.22 ...     500.00 ms\n",
      "        0 CTF compensation matrices available\n",
      "5424 matching events found\n",
      "Applying baseline correction (mode: mean)\n",
      "5424 matching events found\n",
      "Applying baseline correction (mode: mean)\n",
      "Not setting metadata\n",
      "0 projection items activated\n"
     ]
    }
   ],
   "source": [
    "epoch = mne.read_epochs(allFifFiles[0],preload=True)"
   ]
  },
  {
   "cell_type": "code",
   "execution_count": null,
   "metadata": {},
   "outputs": [],
   "source": []
  },
  {
   "cell_type": "code",
   "execution_count": 241,
   "metadata": {},
   "outputs": [
    {
     "data": {
      "text/plain": [
       "{'congruent': 133,\n",
       " 'correct': 129,\n",
       " 'f_baby': 155,\n",
       " 'f_bell': 156,\n",
       " 'f_bird': 157,\n",
       " 'f_burp': 158,\n",
       " 'f_dog': 159,\n",
       " 'f_drum': 160,\n",
       " 'f_knock': 161,\n",
       " 'f_laugh': 162,\n",
       " 'f_phone': 163,\n",
       " 'f_train': 164,\n",
       " 'f_water': 165,\n",
       " 'flanker_stim_1': 1,\n",
       " 'flanker_stim_10': 10,\n",
       " 'flanker_stim_11': 11,\n",
       " 'flanker_stim_12': 12,\n",
       " 'flanker_stim_2': 2,\n",
       " 'flanker_stim_3': 3,\n",
       " 'flanker_stim_4': 4,\n",
       " 'flanker_stim_5': 5,\n",
       " 'flanker_stim_6': 6,\n",
       " 'flanker_stim_7': 7,\n",
       " 'flanker_stim_8': 8,\n",
       " 'flanker_stim_9': 9,\n",
       " 'incongruent': 134,\n",
       " 'incorrect': 130,\n",
       " 'left_button': 131,\n",
       " 'right_button': 132,\n",
       " 't_baby': 135,\n",
       " 't_bell': 136,\n",
       " 't_bird': 137,\n",
       " 't_burp': 138,\n",
       " 't_dog': 139,\n",
       " 't_drum': 140,\n",
       " 't_knock': 141,\n",
       " 't_laugh': 142,\n",
       " 't_phone': 143,\n",
       " 't_train': 144,\n",
       " 't_water': 145,\n",
       " 'target_stim_13': 13,\n",
       " 'target_stim_14': 14,\n",
       " 'target_stim_15': 15,\n",
       " 'target_stim_16': 16,\n",
       " 'target_stim_17': 17,\n",
       " 'target_stim_18': 18,\n",
       " 'target_stim_19': 19,\n",
       " 'target_stim_20': 20,\n",
       " 'target_stim_21': 21,\n",
       " 'target_stim_22': 22,\n",
       " 'target_stim_23': 23,\n",
       " 'target_stim_24': 24,\n",
       " 'trail_start': 31}"
      ]
     },
     "execution_count": 241,
     "metadata": {},
     "output_type": "execute_result"
    }
   ],
   "source": [
    "#see all event ids\n",
    "epoch.event_id"
   ]
  },
  {
   "cell_type": "code",
   "execution_count": 9,
   "metadata": {},
   "outputs": [
    {
     "data": {
      "text/plain": [
       "{'f_baby': 155, 't_baby': 135}"
      ]
     },
     "execution_count": 9,
     "metadata": {},
     "output_type": "execute_result"
    }
   ],
   "source": [
    "#first just classify a flanker and a target of same.\n",
    "singleTargetFlanker = epoch['f_baby','t_baby']\n",
    "singleTargetFlanker.event_id"
   ]
  },
  {
   "cell_type": "code",
   "execution_count": 12,
   "metadata": {},
   "outputs": [],
   "source": [
    "dataX = singleTargetFlanker.get_data()\n",
    "eventsY = singleTargetFlanker.events[:,-1]\n",
    "\n",
    "clf = make_pipeline(Vectorizer(),\n",
    "                    MinMaxScaler(),\n",
    "                    LogisticRegression())\n",
    "\n",
    "#cross validation\n",
    "cv = StratifiedKFold(n_splits = 10, shuffle=True)\n",
    "\n",
    "scoress = []\n",
    "for train,test in cv.split(dataX,eventsY):\n",
    "    clf.fit(dataX[train],eventsY[train])\n",
    "    scoress.append(clf.score(dataX[test],eventsY[test]))"
   ]
  },
  {
   "cell_type": "code",
   "execution_count": 13,
   "metadata": {},
   "outputs": [
    {
     "name": "stdout",
     "output_type": "stream",
     "text": [
      "mean classification score 0.6262820512820514\n"
     ]
    }
   ],
   "source": [
    "print(\"mean classification score\", np.mean(scoress))"
   ]
  },
  {
   "cell_type": "code",
   "execution_count": null,
   "metadata": {},
   "outputs": [],
   "source": [
    "\n"
   ]
  },
  {
   "cell_type": "code",
   "execution_count": null,
   "metadata": {},
   "outputs": [],
   "source": []
  },
  {
   "cell_type": "code",
   "execution_count": 38,
   "metadata": {},
   "outputs": [],
   "source": [
    "''''f_baby': 155,\n",
    " 'f_bell': 156,\n",
    " 'f_bird': 157,\n",
    " 'f_burp': 158,\n",
    " 'f_dog': 159,\n",
    " 'f_drum': 160,\n",
    " 'f_knock': 161,\n",
    " 'f_laugh': 162,\n",
    " 'f_phone': 163,\n",
    " 'f_train': 164,\n",
    " 'f_water': 165,'''\n",
    "\n",
    "flankerEpochs = epoch['f_baby','f_bell','f_bird','f_burp','f_dog','f_drum','f_knock',\n",
    "             'f_laugh','f_phone','f_train','f_water']\n",
    "\n",
    "targetEpochs = epoch['t_baby','t_bell','t_bird','t_burp','t_dog','t_drum','t_knock',\n",
    "             't_laugh','t_phone','t_train','t_water']\n",
    "\n",
    "#targetEpochs.plot(n_channels=20)\n",
    "\n",
    "flankerTargetEpoch = epoch['f_baby','f_bell','f_bird','f_burp','f_dog','f_drum','f_knock',\n",
    "             'f_laugh','f_phone','f_train','f_water','t_baby','t_bell','t_bird','t_burp','t_dog','t_drum','t_knock',\n",
    "             't_laugh','t_phone','t_train','t_water']\n",
    "\n",
    "test = flankerTargetEpoch\n",
    "\n",
    "for i in range(0,1280):\n",
    "    if test.events[i][-1] in (155, 156, 157,158,159,160,161,162,163,164,165):\n",
    "        test.events[i][-1] = 0\n",
    "    elif test.events[i][-1] in (135, 136, 137,138,139,140,141,142,143,144,145):\n",
    "        test.events[i][-1] = 1\n",
    "\n",
    "#test.events\n"
   ]
  },
  {
   "cell_type": "code",
   "execution_count": 39,
   "metadata": {},
   "outputs": [
    {
     "name": "stderr",
     "output_type": "stream",
     "text": [
      "/anaconda3/lib/python3.6/site-packages/sklearn/discriminant_analysis.py:388: UserWarning: Variables are collinear.\n",
      "  warnings.warn(\"Variables are collinear.\")\n",
      "/anaconda3/lib/python3.6/site-packages/sklearn/discriminant_analysis.py:388: UserWarning: Variables are collinear.\n",
      "  warnings.warn(\"Variables are collinear.\")\n",
      "/anaconda3/lib/python3.6/site-packages/sklearn/discriminant_analysis.py:388: UserWarning: Variables are collinear.\n",
      "  warnings.warn(\"Variables are collinear.\")\n",
      "/anaconda3/lib/python3.6/site-packages/sklearn/discriminant_analysis.py:388: UserWarning: Variables are collinear.\n",
      "  warnings.warn(\"Variables are collinear.\")\n",
      "/anaconda3/lib/python3.6/site-packages/sklearn/discriminant_analysis.py:388: UserWarning: Variables are collinear.\n",
      "  warnings.warn(\"Variables are collinear.\")\n",
      "/anaconda3/lib/python3.6/site-packages/sklearn/discriminant_analysis.py:388: UserWarning: Variables are collinear.\n",
      "  warnings.warn(\"Variables are collinear.\")\n",
      "/anaconda3/lib/python3.6/site-packages/sklearn/discriminant_analysis.py:388: UserWarning: Variables are collinear.\n",
      "  warnings.warn(\"Variables are collinear.\")\n",
      "/anaconda3/lib/python3.6/site-packages/sklearn/discriminant_analysis.py:388: UserWarning: Variables are collinear.\n",
      "  warnings.warn(\"Variables are collinear.\")\n",
      "/anaconda3/lib/python3.6/site-packages/sklearn/discriminant_analysis.py:388: UserWarning: Variables are collinear.\n",
      "  warnings.warn(\"Variables are collinear.\")\n",
      "/anaconda3/lib/python3.6/site-packages/sklearn/discriminant_analysis.py:388: UserWarning: Variables are collinear.\n",
      "  warnings.warn(\"Variables are collinear.\")\n"
     ]
    }
   ],
   "source": [
    "dataXX = test.get_data()\n",
    "eventsYY = test.events[:,-1]\n",
    "\n",
    "clf = make_pipeline(Vectorizer(),\n",
    "                    MinMaxScaler(),\n",
    "                    LDA())\n",
    "\n",
    "#cross validation\n",
    "cv = StratifiedKFold(n_splits = 10, shuffle=True)\n",
    "\n",
    "scoresss = []\n",
    "for train,test in cv.split(dataXX,eventsYY):\n",
    "    clf.fit(dataXX[train],eventsYY[train])\n",
    "    scoresss.append(clf.score(dataXX[test],eventsYY[test]))"
   ]
  },
  {
   "cell_type": "code",
   "execution_count": 42,
   "metadata": {},
   "outputs": [
    {
     "name": "stdout",
     "output_type": "stream",
     "text": [
      "mean classification score 0.75390625\n"
     ]
    }
   ],
   "source": [
    "print(\"mean classification score\", np.mean(scoresss))"
   ]
  },
  {
   "cell_type": "code",
   "execution_count": 442,
   "metadata": {},
   "outputs": [
    {
     "name": "stdout",
     "output_type": "stream",
     "text": [
      "(1280, 129, 180)\n",
      "[144 162 142 ... 161 142 161]\n",
      "(1280,)\n",
      "(1280, 180)\n"
     ]
    }
   ],
   "source": [
    "#print(flankerTargetEpoch.events)\n",
    "data = test.get_data()\n",
    "print(data.shape)\n",
    "\n",
    "events = flankerTargetEpoch.events[:,-1]\n",
    "#events = events.reshape(events.shape[0],1)\n",
    "print(events)\n",
    "print(events.shape)\n",
    "\n",
    "XX = data[:,-1] \n",
    "print(XX.shape)\n",
    "\n",
    "#init pca and fit to data\n",
    "pca = UnsupervisedSpatialFilter(PCA(), average=False)\n",
    "pca_data = pca.fit_transform(data)"
   ]
  },
  {
   "cell_type": "code",
   "execution_count": 399,
   "metadata": {},
   "outputs": [
    {
     "data": {
      "image/png": "[encoded data removed]",
      "text/plain": [
       "<matplotlib.figure.Figure at 0x9049034a8>"
      ]
     },
     "metadata": {},
     "output_type": "display_data"
    }
   ],
   "source": [
    "comp_variance = np.cumsum(pca.estimator.explained_variance_ratio_)\n",
    "plt.plot(comp_variance, linewidth = 4.0, color = 'R')\n",
    "plt.xlabel('Number of Components', fontsize = 25)\n",
    "plt.ylabel('Cumulative Variance', fontsize = 25);\n",
    "plt.xticks(fontsize = 25);\n",
    "plt.yticks(fontsize = 25);"
   ]
  },
  {
   "cell_type": "code",
   "execution_count": null,
   "metadata": {},
   "outputs": [],
   "source": [
    "clf = make_pipeline(Vectorizer(),\n",
    "                    MinMaxScaler(),\n",
    "                    LogisticRegression())\n",
    "\n",
    "#cross validation\n",
    "cv = StratifiedKFold(n_splits = 10, shuffle=True)\n",
    "\n",
    "scores = []\n",
    "for train,test in cv.split(data,events):\n",
    "    clf.fit(data[train],events[train])\n",
    "    scores.append(clf.score(data[test],events[test]))"
   ]
  },
  {
   "cell_type": "code",
   "execution_count": null,
   "metadata": {},
   "outputs": [],
   "source": [
    "print(\"mean classification score\", np.mean(scores))"
   ]
  },
  {
   "cell_type": "code",
   "execution_count": null,
   "metadata": {},
   "outputs": [],
   "source": [
    "#seperate all flanker events\n",
    "\"\"\"\n",
    "f_baby_events = epoch.events[epoch.events[:,-1] == 155]\n",
    "f_bell_events = epoch.events[epoch.events[:,-1] == 156]\n",
    "f_bird_events = epoch.events[epoch.events[:,-1] == 157] \n",
    "f_burp_events = epoch.events[epoch.events[:,-1] == 158]\n",
    "f_dog_events = epoch.events[epoch.events[:,-1] == 159] \n",
    "f_drum_events = epoch.events[epoch.events[:,-1] == 160]\n",
    "f_knock_events = epoch.events[epoch.events[:,-1] == 161]\n",
    "f_laugh_events = epoch.events[epoch.events[:,-1] == 162]\n",
    "f_phone_events = epoch.events[epoch.events[:,-1] == 163]\n",
    "f_train_events = epoch.events[epoch.events[:,-1] == 164]\n",
    "f_water_events = epoch.events[epoch.events[:,-1] == 165]\n",
    "\"\"\"\n"
   ]
  },
  {
   "cell_type": "code",
   "execution_count": null,
   "metadata": {},
   "outputs": [],
   "source": []
  },
  {
   "cell_type": "code",
   "execution_count": 291,
   "metadata": {},
   "outputs": [],
   "source": [
    "\"\"\"\n",
    "flankerEpochs = np.concatenate((f_baby_events,f_bell_events,f_bird_events,f_burp_events,\n",
    "                               f_dog_events,f_drum_events,f_knock_events,f_laugh_events,\n",
    "                               f_phone_events,f_train_events,f_water_events),axis=0)\n",
    "                               \"\"\""
   ]
  },
  {
   "cell_type": "code",
   "execution_count": null,
   "metadata": {},
   "outputs": [],
   "source": []
  },
  {
   "cell_type": "code",
   "execution_count": 293,
   "metadata": {},
   "outputs": [],
   "source": [
    "#this only saves event info in arrays NOT the data!\n",
    "\"\"\"\n",
    "t_baby_events = epoch.events[epoch.events[:,-1] == 135]\n",
    "t_bell_events = epoch.events[epoch.events[:,-1] == 136]\n",
    "t_bird_events = epoch.events[epoch.events[:,-1] == 13] \n",
    "t_burp_events = epoch.events[epoch.events[:,-1] == 138]\n",
    "t_dog_events = epoch.events[epoch.events[:,-1] == 139] \n",
    "t_drum_events = epoch.events[epoch.events[:,-1] == 140]\n",
    "t_knock_events = epoch.events[epoch.events[:,-1] == 141]\n",
    "t_laugh_events = epoch.events[epoch.events[:,-1] == 142]\n",
    "t_phone_events = epoch.events[epoch.events[:,-1] == 143]\n",
    "t_train_events = epoch.events[epoch.events[:,-1] == 144]\n",
    "t_water_events = epoch.events[epoch.events[:,-1] == 145]\n",
    "\"\"\""
   ]
  },
  {
   "cell_type": "code",
   "execution_count": 294,
   "metadata": {},
   "outputs": [],
   "source": [
    "#cocatenate the events\n",
    "\"\"\"\n",
    "targetEpochs = np.concatenate((t_baby_events,t_bell_events,t_bird_events,t_burp_events,\n",
    "                               t_dog_events,t_drum_events,t_knock_events,t_laugh_events,\n",
    "                               t_phone_events,t_train_events,t_water_events),axis=0)\n",
    "\"\"\""
   ]
  },
  {
   "cell_type": "code",
   "execution_count": null,
   "metadata": {},
   "outputs": [],
   "source": []
  },
  {
   "cell_type": "code",
   "execution_count": 303,
   "metadata": {},
   "outputs": [],
   "source": [
    "#now i have two arrays flanker/target events.\n",
    "#I want only one array with both flanker and target\n",
    "\"\"\"\n",
    "flankers_targets = np.concatenate((f_baby_events,f_bell_events,f_bird_events,f_burp_events,\n",
    "                               f_dog_events,f_drum_events,f_knock_events,f_laugh_events,\n",
    "                               f_phone_events,f_train_events,f_water_events,t_baby_events,t_bell_events,t_bird_events,t_burp_events,\n",
    "                               t_dog_events,t_drum_events,t_knock_events,t_laugh_events,\n",
    "                               t_phone_events,t_train_events,t_water_events),axis=0) \"\"\""
   ]
  },
  {
   "cell_type": "code",
   "execution_count": null,
   "metadata": {},
   "outputs": [],
   "source": []
  },
  {
   "cell_type": "code",
   "execution_count": null,
   "metadata": {},
   "outputs": [],
   "source": []
  },
  {
   "cell_type": "code",
   "execution_count": null,
   "metadata": {},
   "outputs": [],
   "source": []
  }
 ],
 "metadata": {
  "kernelspec": {
   "display_name": "Python 3",
   "language": "python",
   "name": "python3"
  },
  "language_info": {
   "codemirror_mode": {
    "name": "ipython",
    "version": 3
   },
   "file_extension": ".py",
   "mimetype": "text/x-python",
   "name": "python",
   "nbconvert_exporter": "python",
   "pygments_lexer": "ipython3",
   "version": "3.6.4"
  }
 },
 "nbformat": 4,
 "nbformat_minor": 2
}
