{
 "cells": [
  {
   "cell_type": "code",
   "execution_count": 2,
   "metadata": {},
   "outputs": [],
   "source": [
    "import mne \n",
    "import numpy as np\n",
    "import os"
   ]
  },
  {
   "cell_type": "code",
   "execution_count": 3,
   "metadata": {},
   "outputs": [],
   "source": [
    "def arrayFiles(path):\n",
    "    folderContent = os.listdir(path)\n",
    "    fifFiles = []\n",
    "    for i in folderContent :\n",
    "        fifFiles.append(path + \"/\" + i)\n",
    "    \n",
    "    return fifFiles"
   ]
  },
  {
   "cell_type": "code",
   "execution_count": 4,
   "metadata": {},
   "outputs": [],
   "source": [
    "#concatenate path to name of each file and store in array for reading in data\n",
    "path = '/Volumes/flash64/EpochedEEG'\n",
    "allFifFiles = arrayFiles(path)\n"
   ]
  },
  {
   "cell_type": "code",
   "execution_count": 5,
   "metadata": {},
   "outputs": [
    {
     "name": "stdout",
     "output_type": "stream",
     "text": [
      "Reading /Volumes/flash64/EpochedEEG/20131216_1441_epo.fif ...\n",
      "    Found the data of interest:\n",
      "        t =    -199.22 ...     500.00 ms\n",
      "        0 CTF compensation matrices available\n",
      "5424 matching events found\n",
      "Applying baseline correction (mode: mean)\n",
      "5424 matching events found\n",
      "Applying baseline correction (mode: mean)\n",
      "Not setting metadata\n",
      "0 projection items activated\n"
     ]
    }
   ],
   "source": [
    "epoch = mne.read_epochs(allFifFiles[0],preload=True)"
   ]
  },
  {
   "cell_type": "code",
   "execution_count": 6,
   "metadata": {},
   "outputs": [
    {
     "data": {
      "text/plain": [
       "{'congruent': 133,\n",
       " 'correct': 129,\n",
       " 'f_baby': 155,\n",
       " 'f_bell': 156,\n",
       " 'f_bird': 157,\n",
       " 'f_burp': 158,\n",
       " 'f_dog': 159,\n",
       " 'f_drum': 160,\n",
       " 'f_knock': 161,\n",
       " 'f_laugh': 162,\n",
       " 'f_phone': 163,\n",
       " 'f_train': 164,\n",
       " 'f_water': 165,\n",
       " 'flanker_stim_1': 1,\n",
       " 'flanker_stim_10': 10,\n",
       " 'flanker_stim_11': 11,\n",
       " 'flanker_stim_12': 12,\n",
       " 'flanker_stim_2': 2,\n",
       " 'flanker_stim_3': 3,\n",
       " 'flanker_stim_4': 4,\n",
       " 'flanker_stim_5': 5,\n",
       " 'flanker_stim_6': 6,\n",
       " 'flanker_stim_7': 7,\n",
       " 'flanker_stim_8': 8,\n",
       " 'flanker_stim_9': 9,\n",
       " 'incongruent': 134,\n",
       " 'incorrect': 130,\n",
       " 'left_button': 131,\n",
       " 'right_button': 132,\n",
       " 't_baby': 135,\n",
       " 't_bell': 136,\n",
       " 't_bird': 137,\n",
       " 't_burp': 138,\n",
       " 't_dog': 139,\n",
       " 't_drum': 140,\n",
       " 't_knock': 141,\n",
       " 't_laugh': 142,\n",
       " 't_phone': 143,\n",
       " 't_train': 144,\n",
       " 't_water': 145,\n",
       " 'target_stim_13': 13,\n",
       " 'target_stim_14': 14,\n",
       " 'target_stim_15': 15,\n",
       " 'target_stim_16': 16,\n",
       " 'target_stim_17': 17,\n",
       " 'target_stim_18': 18,\n",
       " 'target_stim_19': 19,\n",
       " 'target_stim_20': 20,\n",
       " 'target_stim_21': 21,\n",
       " 'target_stim_22': 22,\n",
       " 'target_stim_23': 23,\n",
       " 'target_stim_24': 24,\n",
       " 'trail_start': 31}"
      ]
     },
     "execution_count": 6,
     "metadata": {},
     "output_type": "execute_result"
    }
   ],
   "source": [
    "#see all event ids\n",
    "epoch.event_id"
   ]
  },
  {
   "cell_type": "code",
   "execution_count": 7,
   "metadata": {},
   "outputs": [
    {
     "data": {
      "text/plain": [
       "array([[181061,    135,    155],\n",
       "       [182133,    135,    155],\n",
       "       [183223,      0,    155],\n",
       "       [183989,    145,    155],\n",
       "       [185079,      0,    155],\n",
       "       [185828,    145,    155],\n",
       "       [186491,    145,    155],\n",
       "       [187482,      0,    155],\n",
       "       [188106,    135,    155],\n",
       "       [189049,    135,    155],\n",
       "       [190896,    135,    155],\n",
       "       [191637,    145,    155],\n",
       "       [194156,    135,    155],\n",
       "       [194794,      0,    155],\n",
       "       [195362,    145,    155],\n",
       "       [197502,    145,    155],\n",
       "       [234580,      0,    155],\n",
       "       [235290,    137,    155],\n",
       "       [235828,    137,    155],\n",
       "       [236367,      0,    155],\n",
       "       [236905,      0,    155],\n",
       "       [237443,    135,    155],\n",
       "       [240135,      0,    155],\n",
       "       [240678,      0,    155],\n",
       "       [241216,      0,    155],\n",
       "       [241754,    137,    155],\n",
       "       [242292,    135,    155],\n",
       "       [242830,    135,    155],\n",
       "       [357554,    135,    155],\n",
       "       [358411,    138,    155],\n",
       "       [360000,    135,    155],\n",
       "       [362132,    135,    155],\n",
       "       [364065,    135,    155],\n",
       "       [364608,    138,    155],\n",
       "       [365172,    138,    155],\n",
       "       [365844,      0,    155],\n",
       "       [366430,      0,    155],\n",
       "       [367665,    138,    155],\n",
       "       [370723,    135,    155],\n",
       "       [371490,      0,    155],\n",
       "       [372149,      0,    155],\n",
       "       [372867,    135,    155],\n",
       "       [375201,    135,    155],\n",
       "       [376231,      0,    155],\n",
       "       [377062,      0,    155],\n",
       "       [378423,      0,    155],\n",
       "       [379172,      0,    155],\n",
       "       [379960,      0,    155],\n",
       "       [588582,    135,    155],\n",
       "       [589551,    135,    155],\n",
       "       [590085,    135,    155],\n",
       "       [590619,    139,    155],\n",
       "       [591463,    135,    155],\n",
       "       [591997,    135,    155],\n",
       "       [592531,    139,    155],\n",
       "       [593065,    139,    155],\n",
       "       [593599,    139,    155],\n",
       "       [594180,    139,    155],\n",
       "       [594714,    135,    155],\n",
       "       [595266,    135,    155],\n",
       "       [595933,    135,    155],\n",
       "       [597208,      0,    155],\n",
       "       [598509,      0,    155],\n",
       "       [599043,      0,    155],\n",
       "       [599628,      0,    155],\n",
       "       [600192,      0,    155],\n",
       "       [601325,      0,    155],\n",
       "       [602715,    139,    155]])"
      ]
     },
     "execution_count": 7,
     "metadata": {},
     "output_type": "execute_result"
    }
   ],
   "source": [
    "#seperate all flanker events\n",
    "epoch.events[epoch.events[:,-1] == 155]"
   ]
  },
  {
   "cell_type": "code",
   "execution_count": null,
   "metadata": {},
   "outputs": [],
   "source": []
  }
 ],
 "metadata": {
  "kernelspec": {
   "display_name": "Python 3",
   "language": "python",
   "name": "python3"
  },
  "language_info": {
   "codemirror_mode": {
    "name": "ipython",
    "version": 3
   },
   "file_extension": ".py",
   "mimetype": "text/x-python",
   "name": "python",
   "nbconvert_exporter": "python",
   "pygments_lexer": "ipython3",
   "version": "3.6.4"
  }
 },
 "nbformat": 4,
 "nbformat_minor": 2
}
