{
 "cells": [
  {
   "cell_type": "code",
   "execution_count": 33,
   "metadata": {},
   "outputs": [],
   "source": [
    "import math\n",
    "import mne\n",
    "import os\n",
    "import numpy as np\n",
    "import matplotlib.pyplot as plt\n",
    "%matplotlib inline\n",
    "plt.rcParams['figure.figsize'] = [10, 5]\n",
    "\n",
    "from mne.decoding import UnsupervisedSpatialFilter\n",
    "from sklearn.decomposition import PCA, FastICA\n",
    "\n",
    "from sklearn.model_selection import train_test_split, StratifiedKFold, StratifiedShuffleSplit\n",
    "\n",
    "from sklearn.linear_model import LogisticRegression"
   ]
  },
  {
   "cell_type": "code",
   "execution_count": 2,
   "metadata": {},
   "outputs": [],
   "source": [
    "#search and store names of all the files in folder in array\n",
    "def arrayFiles(path):\n",
    "    folderContent = os.listdir(path)\n",
    "    fifFiles = []\n",
    "    for i in folderContent :\n",
    "        fifFiles.append(path + \"/\" + i)\n",
    "    \n",
    "    return fifFiles"
   ]
  },
  {
   "cell_type": "code",
   "execution_count": 3,
   "metadata": {},
   "outputs": [],
   "source": [
    "#concatenate path to name of each file and store in array for reading in data\n",
    "path = '/Volumes/flash64/EpochedEEG'\n",
    "allFifFiles = arrayFiles(path)\n",
    "#print(allFifFiles)"
   ]
  },
  {
   "cell_type": "code",
   "execution_count": 42,
   "metadata": {},
   "outputs": [],
   "source": [
    "classification_score = []"
   ]
  },
  {
   "cell_type": "code",
   "execution_count": 4,
   "metadata": {},
   "outputs": [
    {
     "name": "stdout",
     "output_type": "stream",
     "text": [
      "Reading /Volumes/flash64/EpochedEEG/20131216_1441_epo.fif ...\n",
      "    Found the data of interest:\n",
      "        t =    -199.22 ...     500.00 ms\n",
      "        0 CTF compensation matrices available\n",
      "5424 matching events found\n",
      "Applying baseline correction (mode: mean)\n",
      "5424 matching events found\n",
      "Applying baseline correction (mode: mean)\n",
      "Not setting metadata\n",
      "0 projection items activated\n"
     ]
    }
   ],
   "source": [
    "epoch = mne.read_epochs(allFifFiles[0],preload=True)"
   ]
  },
  {
   "cell_type": "code",
   "execution_count": null,
   "metadata": {},
   "outputs": [],
   "source": []
  },
  {
   "cell_type": "code",
   "execution_count": 5,
   "metadata": {},
   "outputs": [],
   "source": [
    "epoch_copy = epoch.copy().crop(0,0.5)\n"
   ]
  },
  {
   "cell_type": "code",
   "execution_count": null,
   "metadata": {},
   "outputs": [],
   "source": []
  },
  {
   "cell_type": "code",
   "execution_count": 6,
   "metadata": {},
   "outputs": [],
   "source": [
    "#events = mne.pick_events(epoch.events, exclude=[133, 134])"
   ]
  },
  {
   "cell_type": "code",
   "execution_count": 7,
   "metadata": {},
   "outputs": [
    {
     "name": "stdout",
     "output_type": "stream",
     "text": [
      "[131  31 144 ...   1 131 134]\n"
     ]
    }
   ],
   "source": [
    "events = epoch_copy.events\n",
    "print(events[:,-1])"
   ]
  },
  {
   "cell_type": "code",
   "execution_count": 8,
   "metadata": {},
   "outputs": [],
   "source": [
    "#plotting the data to see it work.\n",
    "#epoch_copy.plot(n_channels=20)"
   ]
  },
  {
   "cell_type": "code",
   "execution_count": 9,
   "metadata": {},
   "outputs": [],
   "source": [
    "event_id = epoch_copy.event_id"
   ]
  },
  {
   "cell_type": "code",
   "execution_count": 10,
   "metadata": {},
   "outputs": [],
   "source": [
    "X = epoch_copy.get_data()\n",
    "y=epoch_copy.events[:,-1]\n",
    "\n",
    "XX = X[:,-1] \n",
    "\n",
    "#init pca and fit to data\n",
    "pca = UnsupervisedSpatialFilter(PCA(), average=False)\n",
    "pca_data = pca.fit_transform(X)\n"
   ]
  },
  {
   "cell_type": "code",
   "execution_count": 17,
   "metadata": {},
   "outputs": [
    {
     "data": {
      "text/plain": [
       "\"\\ncomp_variance = np.cumsum(pca.estimator.explained_variance_ratio_)\\nplt.plot(comp_variance, linewidth = 4.0, color = 'R')\\nplt.xlabel('Number of Components', fontsize = 25)\\nplt.ylabel('Cumulative Variance', fontsize = 25);\\nplt.xticks(fontsize = 25);\\nplt.yticks(fontsize = 25);\\n\""
      ]
     },
     "execution_count": 17,
     "metadata": {},
     "output_type": "execute_result"
    }
   ],
   "source": [
    "\"\"\"\n",
    "comp_variance = np.cumsum(pca.estimator.explained_variance_ratio_)\n",
    "plt.plot(comp_variance, linewidth = 4.0, color = 'R')\n",
    "plt.xlabel('Number of Components', fontsize = 25)\n",
    "plt.ylabel('Cumulative Variance', fontsize = 25);\n",
    "plt.xticks(fontsize = 25);\n",
    "plt.yticks(fontsize = 25);\n",
    "\"\"\""
   ]
  },
  {
   "cell_type": "code",
   "execution_count": 16,
   "metadata": {},
   "outputs": [],
   "source": [
    "logReg = LogisticRegression()\n",
    "\n",
    "#cross validation\n",
    "cv = StratifiedKFold(n_splits = 10, shuffle=True)\n",
    "\n",
    "#fit with cross validation on original data\n",
    "preds = np.empty(len(y))\n",
    "scores = []\n",
    "for train, test, in cv.split(XX, y):\n",
    "    logReg.fit(XX[train], y[train])\n",
    "    #preds[test] = logReg.predict(X[test])\n",
    "    scores.append(logReg.score(XX[test],y[test]))"
   ]
  },
  {
   "cell_type": "code",
   "execution_count": 29,
   "metadata": {},
   "outputs": [
    {
     "name": "stdout",
     "output_type": "stream",
     "text": [
      "mean classification score 0.3963827612626619\n"
     ]
    }
   ],
   "source": [
    "print(\"mean classification score\", np.mean(scores))"
   ]
  },
  {
   "cell_type": "code",
   "execution_count": 44,
   "metadata": {},
   "outputs": [],
   "source": [
    "classification_score.append(np.mean(scores))"
   ]
  },
  {
   "cell_type": "code",
   "execution_count": 46,
   "metadata": {},
   "outputs": [],
   "source": [
    "#print(classification_score)"
   ]
  },
  {
   "cell_type": "code",
   "execution_count": 47,
   "metadata": {},
   "outputs": [
    {
     "name": "stdout",
     "output_type": "stream",
     "text": [
      "Reading /Volumes/flash64/EpochedEEG/20140205_1114_epo.fif ...\n",
      "    Found the data of interest:\n",
      "        t =    -199.22 ...     500.00 ms\n",
      "        0 CTF compensation matrices available\n",
      "5379 matching events found\n",
      "Applying baseline correction (mode: mean)\n",
      "5379 matching events found\n",
      "Applying baseline correction (mode: mean)\n",
      "Not setting metadata\n",
      "0 projection items activated\n",
      "mean classification score 0.3978004063827708\n",
      "Reading /Volumes/flash64/EpochedEEG/20140205_1230_epo.fif ...\n",
      "    Found the data of interest:\n",
      "        t =    -199.22 ...     500.00 ms\n",
      "        0 CTF compensation matrices available\n",
      "5565 matching events found\n",
      "Applying baseline correction (mode: mean)\n",
      "5565 matching events found\n",
      "Applying baseline correction (mode: mean)\n",
      "Not setting metadata\n",
      "0 projection items activated\n"
     ]
    },
    {
     "name": "stderr",
     "output_type": "stream",
     "text": [
      "/anaconda3/lib/python3.6/site-packages/sklearn/model_selection/_split.py:605: Warning: The least populated class in y has only 8 members, which is too few. The minimum number of members in any class cannot be less than n_splits=10.\n",
      "  % (min_groups, self.n_splits)), Warning)\n"
     ]
    },
    {
     "name": "stdout",
     "output_type": "stream",
     "text": [
      "mean classification score 0.39551825901704074\n",
      "Reading /Volumes/flash64/EpochedEEG/20140206_1029_epo.fif ...\n",
      "    Found the data of interest:\n",
      "        t =    -199.22 ...     500.00 ms\n",
      "        0 CTF compensation matrices available\n",
      "5384 matching events found\n",
      "Applying baseline correction (mode: mean)\n",
      "5384 matching events found\n",
      "Applying baseline correction (mode: mean)\n",
      "Not setting metadata\n",
      "0 projection items activated\n",
      "mean classification score 0.38833589143550185\n",
      "Reading /Volumes/flash64/EpochedEEG/20140206_1151_epo.fif ...\n",
      "    Found the data of interest:\n",
      "        t =    -199.22 ...     500.00 ms\n",
      "        0 CTF compensation matrices available\n",
      "5583 matching events found\n",
      "Applying baseline correction (mode: mean)\n",
      "5583 matching events found\n",
      "Applying baseline correction (mode: mean)\n",
      "Not setting metadata\n",
      "0 projection items activated\n",
      "mean classification score 0.4046065937817448\n"
     ]
    }
   ],
   "source": [
    "for i in range(1,5):\n",
    "    epoch = mne.read_epochs(allFifFiles[i],preload=True)\n",
    "    epoch_copy = epoch.copy().crop(0,0.5)\n",
    "    \n",
    "    X = epoch_copy.get_data()\n",
    "    y=epoch_copy.events[:,-1]\n",
    "\n",
    "    XX = X[:,-1] \n",
    "\n",
    "    #init pca and fit to data\n",
    "    pca = UnsupervisedSpatialFilter(PCA(), average=False)\n",
    "    pca_data = pca.fit_transform(X)\n",
    "    \n",
    "    logReg = LogisticRegression()\n",
    "\n",
    "    #cross validation\n",
    "    cv = StratifiedKFold(n_splits = 10, shuffle=True)\n",
    "\n",
    "    #fit with cross validation on original data\n",
    "    preds = np.empty(len(y))\n",
    "    scores = []\n",
    "    for train, test, in cv.split(XX, y):\n",
    "        logReg.fit(XX[train], y[train])\n",
    "        #preds[test] = logReg.predict(X[test])\n",
    "        scores.append(logReg.score(XX[test],y[test]))\n",
    "        \n",
    "    print(\"mean classification score\", np.mean(scores))    \n",
    "    \n",
    "    classification_score.append(np.mean(scores))"
   ]
  },
  {
   "cell_type": "code",
   "execution_count": 48,
   "metadata": {},
   "outputs": [
    {
     "name": "stdout",
     "output_type": "stream",
     "text": [
      "[0.3963827612626619, 0.3978004063827708, 0.39551825901704074, 0.38833589143550185, 0.4046065937817448]\n"
     ]
    }
   ],
   "source": [
    "print(classification_score)"
   ]
  },
  {
   "cell_type": "code",
   "execution_count": 59,
   "metadata": {},
   "outputs": [
    {
     "data": {
      "text/plain": [
       "Text(0.5,1,'Logistic Regression')"
      ]
     },
     "execution_count": 59,
     "metadata": {},
     "output_type": "execute_result"
    },
    {
     "data": {
      "image/png": "[encoded data removed]",
      "text/plain": [
       "<matplotlib.figure.Figure at 0x1c1ec7e240>"
      ]
     },
     "metadata": {},
     "output_type": "display_data"
    }
   ],
   "source": [
    "subj = ['20131216_1441','20140205_1114','20140205_1230','20140206_1029','20140206_1151']\n",
    "pos = np.arange(len(subj))\n",
    "plt.bar(pos, classification_score, align='center', alpha=0.5)\n",
    "plt.xticks(pos, subj)\n",
    "plt.xlabel(\"Files\")\n",
    "plt.ylabel('Classification Score')\n",
    "plt.title('Logistic Regression')"
   ]
  },
  {
   "cell_type": "code",
   "execution_count": null,
   "metadata": {},
   "outputs": [],
   "source": []
  }
 ],
 "metadata": {
  "kernelspec": {
   "display_name": "Python 3",
   "language": "python",
   "name": "python3"
  },
  "language_info": {
   "codemirror_mode": {
    "name": "ipython",
    "version": 3
   },
   "file_extension": ".py",
   "mimetype": "text/x-python",
   "name": "python",
   "nbconvert_exporter": "python",
   "pygments_lexer": "ipython3",
   "version": "3.6.4"
  }
 },
 "nbformat": 4,
 "nbformat_minor": 2
}
