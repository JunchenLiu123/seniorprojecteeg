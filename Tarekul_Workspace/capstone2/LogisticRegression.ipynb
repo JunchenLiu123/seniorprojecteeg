{
 "cells": [
  {
   "cell_type": "code",
   "execution_count": 1,
   "metadata": {},
   "outputs": [],
   "source": [
    "import mne\n",
    "import os\n",
    "import numpy as np\n",
    "import matplotlib.pyplot as plt\n",
    "%matplotlib inline\n",
    "plt.rcParams['figure.figsize'] = [10, 5]\n",
    "\n",
    "from mne.decoding import UnsupervisedSpatialFilter\n",
    "from sklearn.decomposition import PCA, FastICA\n",
    "\n",
    "from sklearn.model_selection import train_test_split, StratifiedKFold, StratifiedShuffleSplit\n",
    "\n",
    "from sklearn.linear_model import LogisticRegression"
   ]
  },
  {
   "cell_type": "code",
   "execution_count": 2,
   "metadata": {},
   "outputs": [],
   "source": [
    "#search and store names of all the files in folder in array\n",
    "def arrayFiles(path):\n",
    "    folderContent = os.listdir(path)\n",
    "    fifFiles = []\n",
    "    for i in folderContent :\n",
    "        fifFiles.append(path + \"/\" + i)\n",
    "    \n",
    "    return fifFiles"
   ]
  },
  {
   "cell_type": "code",
   "execution_count": 3,
   "metadata": {},
   "outputs": [],
   "source": [
    "#concatenate path to name of each file and store in array for reading in data\n",
    "path = '/Volumes/flash64/EpochedEEG'\n",
    "allFifFiles = arrayFiles(path)\n",
    "#print(allFifFiles)"
   ]
  },
  {
   "cell_type": "code",
   "execution_count": 4,
   "metadata": {},
   "outputs": [
    {
     "name": "stdout",
     "output_type": "stream",
     "text": [
      "Reading /Volumes/flash64/EpochedEEG/20131216_1441_epo.fif ...\n",
      "    Found the data of interest:\n",
      "        t =    -199.22 ...     500.00 ms\n",
      "        0 CTF compensation matrices available\n",
      "5424 matching events found\n",
      "Applying baseline correction (mode: mean)\n",
      "5424 matching events found\n",
      "Applying baseline correction (mode: mean)\n",
      "Not setting metadata\n",
      "0 projection items activated\n"
     ]
    }
   ],
   "source": [
    "#print(allFifFiles[0])\n",
    "epoch = mne.read_epochs(allFifFiles[0],preload=True)"
   ]
  },
  {
   "cell_type": "code",
   "execution_count": null,
   "metadata": {},
   "outputs": [],
   "source": []
  },
  {
   "cell_type": "code",
   "execution_count": 5,
   "metadata": {},
   "outputs": [],
   "source": [
    "epoch_copy = epoch.copy().crop(0,0.5)\n"
   ]
  },
  {
   "cell_type": "code",
   "execution_count": null,
   "metadata": {},
   "outputs": [],
   "source": []
  },
  {
   "cell_type": "code",
   "execution_count": 6,
   "metadata": {},
   "outputs": [],
   "source": [
    "#events = mne.pick_events(epoch.events, exclude=[133, 134])"
   ]
  },
  {
   "cell_type": "code",
   "execution_count": 7,
   "metadata": {},
   "outputs": [
    {
     "name": "stdout",
     "output_type": "stream",
     "text": [
      "[131  31 144 ...   1 131 134]\n"
     ]
    }
   ],
   "source": [
    "events = epoch_copy.events\n",
    "print(events[:,-1])"
   ]
  },
  {
   "cell_type": "code",
   "execution_count": 8,
   "metadata": {},
   "outputs": [],
   "source": [
    "#plotting the data to see it work.\n",
    "#epoch_copy.plot(n_channels=20)"
   ]
  },
  {
   "cell_type": "code",
   "execution_count": 9,
   "metadata": {},
   "outputs": [],
   "source": [
    "event_id = epoch_copy.event_id"
   ]
  },
  {
   "cell_type": "code",
   "execution_count": 10,
   "metadata": {},
   "outputs": [],
   "source": [
    "X = epoch_copy.get_data()\n",
    "y=epoch_copy.events[:,-1]\n",
    "\n",
    "XX = X[:,-1] \n",
    "\n",
    "#init pca and fit to data\n",
    "pca = UnsupervisedSpatialFilter(PCA(), average=False)\n",
    "pca_data = pca.fit_transform(X)\n"
   ]
  },
  {
   "cell_type": "code",
   "execution_count": 11,
   "metadata": {},
   "outputs": [
    {
     "data": {
      "image/png": "[encoded data removed]",
      "text/plain": [
       "<matplotlib.figure.Figure at 0x1c15e2feb8>"
      ]
     },
     "metadata": {},
     "output_type": "display_data"
    }
   ],
   "source": [
    "comp_variance = np.cumsum(pca.estimator.explained_variance_ratio_)\n",
    "plt.plot(comp_variance, linewidth = 4.0, color = 'R')\n",
    "plt.xlabel('Number of Components', fontsize = 25)\n",
    "plt.ylabel('Cumulative Variance', fontsize = 25);\n",
    "plt.xticks(fontsize = 25);\n",
    "plt.yticks(fontsize = 25);"
   ]
  },
  {
   "cell_type": "code",
   "execution_count": 16,
   "metadata": {},
   "outputs": [],
   "source": [
    "logReg = LogisticRegression()\n",
    "\n",
    "#cross validation\n",
    "cv = StratifiedKFold(n_splits = 10, shuffle=True)\n",
    "\n",
    "#fit with cross validation on original data\n",
    "preds = np.empty(len(y))\n",
    "scores = []\n",
    "for train, test, in cv.split(XX, y):\n",
    "    logReg.fit(XX[train], y[train])\n",
    "    #preds[test] = logReg.predict(X[test])\n",
    "    scores.append(logReg.score(XX[test],y[test]))"
   ]
  },
  {
   "cell_type": "code",
   "execution_count": 13,
   "metadata": {},
   "outputs": [
    {
     "name": "stdout",
     "output_type": "stream",
     "text": [
      "mean classification score 0.3991859058665899\n"
     ]
    }
   ],
   "source": [
    "print(\"mean classification score\", np.mean(scores))"
   ]
  },
  {
   "cell_type": "code",
   "execution_count": 14,
   "metadata": {},
   "outputs": [
    {
     "name": "stdout",
     "output_type": "stream",
     "text": [
      "\n"
     ]
    }
   ],
   "source": []
  },
  {
   "cell_type": "code",
   "execution_count": null,
   "metadata": {},
   "outputs": [],
   "source": []
  }
 ],
 "metadata": {
  "kernelspec": {
   "display_name": "Python 3",
   "language": "python",
   "name": "python3"
  },
  "language_info": {
   "codemirror_mode": {
    "name": "ipython",
    "version": 3
   },
   "file_extension": ".py",
   "mimetype": "text/x-python",
   "name": "python",
   "nbconvert_exporter": "python",
   "pygments_lexer": "ipython3",
   "version": "3.6.4"
  }
 },
 "nbformat": 4,
 "nbformat_minor": 2
}
