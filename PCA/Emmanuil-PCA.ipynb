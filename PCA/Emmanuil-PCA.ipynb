{
 "cells": [
  {
   "cell_type": "code",
   "execution_count": 196,
   "metadata": {},
   "outputs": [],
   "source": [
    "%run ../preprocessing/Artifact_Removal/preprocecssing_helpers.ipynb\n",
    "import os\n",
    "\n",
    "import mne\n",
    "from mne.preprocessing import ICA\n",
    "import numpy as np\n",
    "import matplotlib.pyplot as plt\n",
    "%matplotlib inline\n",
    "import matplotlib\n",
    "matplotlib.rcParams['figure.figsize'] = (10.0, 10.0)\n",
    "matplotlib.rcParams.update({'font.size': 15})\n",
    "\n",
    "from mne.datasets import sample\n",
    "from mne.decoding import UnsupervisedSpatialFilter\n",
    "\n",
    "from sklearn.decomposition import PCA\n",
    "from sklearn.preprocessing import normalize\n",
    "from sklearn.neighbors import KNeighborsClassifier\n",
    "from sklearn.linear_model import LogisticRegression\n",
    "from sklearn.model_selection import train_test_split\n",
    "\n",
    "from scipy.stats import skew, kurtosis\n",
    "import pandas as pd"
   ]
  },
  {
   "cell_type": "code",
   "execution_count": 4,
   "metadata": {},
   "outputs": [],
   "source": [
    "path = 'E:\\EpochedEEG'\n",
    "epoch_files = os.listdir(path)"
   ]
  },
  {
   "cell_type": "code",
   "execution_count": 5,
   "metadata": {},
   "outputs": [],
   "source": [
    "file = os.path.join(path,epoch_files[0])"
   ]
  },
  {
   "cell_type": "code",
   "execution_count": 6,
   "metadata": {},
   "outputs": [
    {
     "name": "stdout",
     "output_type": "stream",
     "text": [
      "Reading E:\\EpochedEEG\\20131216_1441_epo.fif ...\n",
      "    Found the data of interest:\n",
      "        t =    -199.22 ...     500.00 ms\n",
      "        0 CTF compensation matrices available\n",
      "5424 matching events found\n",
      "Applying baseline correction (mode: mean)\n",
      "5424 matching events found\n",
      "Applying baseline correction (mode: mean)\n",
      "Not setting metadata\n",
      "0 projection items activated\n"
     ]
    }
   ],
   "source": [
    "epoch = mne.read_epochs(file, preload = True)"
   ]
  },
  {
   "cell_type": "code",
   "execution_count": 7,
   "metadata": {},
   "outputs": [],
   "source": [
    "pca = UnsupervisedSpatialFilter(PCA(28), average=False) # PCA, keep 9 components \n",
    "\n",
    "epoch_data = epoch.get_data()\n",
    "pca_data = pca.fit_transform(epoch_data)"
   ]
  },
  {
   "cell_type": "code",
   "execution_count": 8,
   "metadata": {},
   "outputs": [
    {
     "name": "stdout",
     "output_type": "stream",
     "text": [
      "Setting up band-pass filter from 30 - 1e+02 Hz\n",
      "l_trans_bandwidth chosen to be 7.5 Hz\n",
      "h_trans_bandwidth chosen to be 25.0 Hz\n",
      "Filter length of 113 samples (0.441 sec) selected\n",
      "Setting up band-pass filter from 12 - 30 Hz\n",
      "l_trans_bandwidth chosen to be 3.0 Hz\n",
      "h_trans_bandwidth chosen to be 7.5 Hz\n",
      "Filter length of 283 samples (1.105 sec) selected\n",
      "filter_length (283) is longer than the signal (180), distortion is likely. Reduce filter length or filter a longer signal.\n"
     ]
    },
    {
     "name": "stderr",
     "output_type": "stream",
     "text": [
      "<ipython-input-8-d74bec87c4a9>:2: RuntimeWarning: filter_length (283) is longer than the signal (180), distortion is likely. Reduce filter length or filter a longer signal.\n",
      "  beta_epoch =  epoch.filter(l_freq=12, h_freq= 30)\n"
     ]
    },
    {
     "name": "stdout",
     "output_type": "stream",
     "text": [
      "Setting up band-pass filter from 8 - 12 Hz\n",
      "l_trans_bandwidth chosen to be 2.0 Hz\n",
      "h_trans_bandwidth chosen to be 3.0 Hz\n",
      "Filter length of 423 samples (1.652 sec) selected\n",
      "filter_length (423) is longer than the signal (180), distortion is likely. Reduce filter length or filter a longer signal.\n"
     ]
    },
    {
     "name": "stderr",
     "output_type": "stream",
     "text": [
      "<ipython-input-8-d74bec87c4a9>:3: RuntimeWarning: filter_length (423) is longer than the signal (180), distortion is likely. Reduce filter length or filter a longer signal.\n",
      "  alpha_epoch = epoch.filter(l_freq=8, h_freq= 12)\n"
     ]
    },
    {
     "name": "stdout",
     "output_type": "stream",
     "text": [
      "Setting up band-pass filter from 4 - 7 Hz\n",
      "l_trans_bandwidth chosen to be 2.0 Hz\n",
      "h_trans_bandwidth chosen to be 2.0 Hz\n",
      "Filter length of 423 samples (1.652 sec) selected\n",
      "filter_length (423) is longer than the signal (180), distortion is likely. Reduce filter length or filter a longer signal.\n"
     ]
    },
    {
     "name": "stderr",
     "output_type": "stream",
     "text": [
      "<ipython-input-8-d74bec87c4a9>:4: RuntimeWarning: filter_length (423) is longer than the signal (180), distortion is likely. Reduce filter length or filter a longer signal.\n",
      "  theta_epoch = epoch.filter(l_freq=4, h_freq= 7)\n"
     ]
    },
    {
     "name": "stdout",
     "output_type": "stream",
     "text": [
      "Setting up low-pass filter at 4 Hz\n",
      "h_trans_bandwidth chosen to be 2.0 Hz\n",
      "Filter length of 423 samples (1.652 sec) selected\n",
      "filter_length (423) is longer than the signal (180), distortion is likely. Reduce filter length or filter a longer signal.\n"
     ]
    },
    {
     "name": "stderr",
     "output_type": "stream",
     "text": [
      "<ipython-input-8-d74bec87c4a9>:5: RuntimeWarning: filter_length (423) is longer than the signal (180), distortion is likely. Reduce filter length or filter a longer signal.\n",
      "  delta_epoch = epoch.filter(l_freq=0, h_freq= 4)\n"
     ]
    }
   ],
   "source": [
    "gamma_epoch = epoch.filter(l_freq=30, h_freq= 100)\n",
    "beta_epoch =  epoch.filter(l_freq=12, h_freq= 30)\n",
    "alpha_epoch = epoch.filter(l_freq=8, h_freq= 12)\n",
    "theta_epoch = epoch.filter(l_freq=4, h_freq= 7)\n",
    "delta_epoch = epoch.filter(l_freq=0, h_freq= 4)"
   ]
  },
  {
   "cell_type": "code",
   "execution_count": 85,
   "metadata": {},
   "outputs": [
    {
     "ename": "AttributeError",
     "evalue": "'numpy.ndarray' object has no attribute 'get_data'",
     "output_type": "error",
     "traceback": [
      "\u001b[1;31m---------------------------------------------------------------------------\u001b[0m",
      "\u001b[1;31mAttributeError\u001b[0m                            Traceback (most recent call last)",
      "\u001b[1;32m<ipython-input-85-8b292c0870f2>\u001b[0m in \u001b[0;36m<module>\u001b[1;34m()\u001b[0m\n\u001b[0;32m      3\u001b[0m \u001b[0malpha_data\u001b[0m \u001b[1;33m=\u001b[0m \u001b[0malpha_epoch\u001b[0m\u001b[1;33m.\u001b[0m\u001b[0mget_data\u001b[0m\u001b[1;33m(\u001b[0m\u001b[1;33m)\u001b[0m\u001b[1;33m\u001b[0m\u001b[0m\n\u001b[0;32m      4\u001b[0m \u001b[0mtheta_data\u001b[0m \u001b[1;33m=\u001b[0m \u001b[0mtheta_epoch\u001b[0m\u001b[1;33m.\u001b[0m\u001b[0mget_data\u001b[0m\u001b[1;33m(\u001b[0m\u001b[1;33m)\u001b[0m\u001b[1;33m\u001b[0m\u001b[0m\n\u001b[1;32m----> 5\u001b[1;33m \u001b[0mdelta_epoch\u001b[0m \u001b[1;33m=\u001b[0m \u001b[0mdelta_epoch\u001b[0m\u001b[1;33m.\u001b[0m\u001b[0mget_data\u001b[0m\u001b[1;33m(\u001b[0m\u001b[1;33m)\u001b[0m\u001b[1;33m\u001b[0m\u001b[0m\n\u001b[0m",
      "\u001b[1;31mAttributeError\u001b[0m: 'numpy.ndarray' object has no attribute 'get_data'"
     ]
    }
   ],
   "source": [
    "gamma_data = gamma_epoch.get_data()\n",
    "beta_data = beta_epoch.get_data()\n",
    "alpha_data = alpha_epoch.get_data()\n",
    "theta_data = theta_epoch.get_data()\n",
    "delta_epoch = delta_epoch.get_data()"
   ]
  },
  {
   "cell_type": "code",
   "execution_count": 86,
   "metadata": {},
   "outputs": [],
   "source": [
    "gamma_pca_data = pca.fit_transform(gamma_data)\n",
    "beta_pca_data = pca.fit_transform(beta_data)\n",
    "alpha_pca_data = pca.fit_transform(alpha_data)\n",
    "theta_pca_data = pca.fit_transform(theta_data)\n",
    "delta_pca_data = pca.fit_transform(delta_epoch)# didn't name this correctly"
   ]
  },
  {
   "cell_type": "markdown",
   "metadata": {},
   "source": [
    "## average data from each band"
   ]
  },
  {
   "cell_type": "code",
   "execution_count": 87,
   "metadata": {},
   "outputs": [
    {
     "data": {
      "text/plain": [
       "(5424, 28, 180)"
      ]
     },
     "execution_count": 87,
     "metadata": {},
     "output_type": "execute_result"
    }
   ],
   "source": [
    "gamma_pca_data.shape"
   ]
  },
  {
   "cell_type": "code",
   "execution_count": 88,
   "metadata": {},
   "outputs": [],
   "source": [
    "# final_data = np.shape()\n",
    "final_means = []\n",
    "for data in gamma_pca_data:\n",
    "#     print (data.shape)\n",
    "    means = []\n",
    "    for channel in data:\n",
    "#         print(channel.shape)\n",
    "        mean = channel.mean()\n",
    "        means.append(mean)\n",
    "    final_means.append(means)\n",
    "final_means = np.array(final_means)"
   ]
  },
  {
   "cell_type": "code",
   "execution_count": 89,
   "metadata": {
    "scrolled": true
   },
   "outputs": [
    {
     "data": {
      "text/plain": [
       "(5424, 28)"
      ]
     },
     "execution_count": 89,
     "metadata": {},
     "output_type": "execute_result"
    }
   ],
   "source": [
    "final_means.shape"
   ]
  },
  {
   "cell_type": "code",
   "execution_count": 220,
   "metadata": {},
   "outputs": [],
   "source": [
    "def get_mean_band(data):\n",
    "    final_variances = []\n",
    "    for d in data:\n",
    "    #     print (data.shape)\n",
    "        variances = []\n",
    "        skewnesses = []\n",
    "        kurtosises = []\n",
    "        stats = []\n",
    "        for channel in d:\n",
    "    #         print(channel.shape)\n",
    "            var = channel.var()\n",
    "            variances.append(var)\n",
    "            \n",
    "            skewness = skew(channel, axis=0)\n",
    "#             print(skewness)\n",
    "\n",
    "            skewnesses.append(skewness)\n",
    "#             print(skewness)\n",
    "            kurt = kurtosis(channel)\n",
    "            kurtosises.append(kurt)\n",
    "#         print(skewnesses)\n",
    "#         mean_skew = np.mean(skewnesses)\n",
    "#         stats.append(mean_skew)\n",
    "#         stats.append(np.mean(variances))\n",
    "        final_variances.append([np.mean(variances), np.mean(skewnesses), np.mean(kurtosises)])\n",
    "    \n",
    "    return np.array(final_variances)"
   ]
  },
  {
   "cell_type": "code",
   "execution_count": 221,
   "metadata": {},
   "outputs": [],
   "source": [
    "gamma_final_mean = get_mean_band(gamma_pca_data)\n",
    "beta_final_mean = get_mean_band(beta_pca_data)\n",
    "alpha_final_mean = get_mean_band(alpha_pca_data)\n",
    "delta_final_mean = get_mean_band(delta_pca_data)\n",
    "theta_final_mean = get_mean_band(theta_pca_data)\n",
    "regular_data_final_mean = get_mean_band(pca_data)                                 "
   ]
  },
  {
   "cell_type": "code",
   "execution_count": null,
   "metadata": {},
   "outputs": [],
   "source": []
  },
  {
   "cell_type": "code",
   "execution_count": 137,
   "metadata": {},
   "outputs": [
    {
     "data": {
      "text/plain": [
       "(5424,)"
      ]
     },
     "execution_count": 137,
     "metadata": {},
     "output_type": "execute_result"
    }
   ],
   "source": [
    "delta_final_mean.shape"
   ]
  },
  {
   "cell_type": "code",
   "execution_count": 222,
   "metadata": {},
   "outputs": [],
   "source": [
    "results = np.concatenate((gamma_final_mean,\n",
    "                          beta_final_mean,\n",
    "                          alpha_final_mean,\n",
    "                          delta_final_mean,\n",
    "                          theta_final_mean,\n",
    "                          regular_data_final_mean),axis = 1)"
   ]
  },
  {
   "cell_type": "code",
   "execution_count": 224,
   "metadata": {},
   "outputs": [
    {
     "data": {
      "text/plain": [
       "(5424, 18)"
      ]
     },
     "execution_count": 224,
     "metadata": {},
     "output_type": "execute_result"
    }
   ],
   "source": [
    "results.shape"
   ]
  },
  {
   "cell_type": "markdown",
   "metadata": {},
   "source": [
    "## plotting frequency bands"
   ]
  },
  {
   "cell_type": "code",
   "execution_count": 142,
   "metadata": {},
   "outputs": [
    {
     "data": {
      "text/plain": [
       "(5424,)"
      ]
     },
     "execution_count": 142,
     "metadata": {},
     "output_type": "execute_result"
    }
   ],
   "source": [
    "gamma_final_mean.shape"
   ]
  },
  {
   "cell_type": "code",
   "execution_count": 145,
   "metadata": {},
   "outputs": [
    {
     "data": {
      "text/plain": [
       "array([3.38604387e+00, 9.39360119e+00, 9.39360119e+00, 9.39360119e+00,\n",
       "       9.39309524e+00, 1.77579365e-03, 9.66820988e-03, 1.02001587e+01,\n",
       "       1.02001587e+01, 1.02001587e+01])"
      ]
     },
     "execution_count": 145,
     "metadata": {},
     "output_type": "execute_result"
    }
   ],
   "source": [
    "results[:10,2]"
   ]
  },
  {
   "cell_type": "code",
   "execution_count": 146,
   "metadata": {},
   "outputs": [
    {
     "data": {
      "image/png": "[encoded data removed]",
      "text/plain": [
       "<Figure size 720x720 with 1 Axes>"
      ]
     },
     "metadata": {
      "needs_background": "light"
     },
     "output_type": "display_data"
    }
   ],
   "source": [
    "plt.scatter(data[], results[:,3]);"
   ]
  },
  {
   "cell_type": "markdown",
   "metadata": {},
   "source": [
    "## extract congruent & incongruent labels"
   ]
  },
  {
   "cell_type": "code",
   "execution_count": 147,
   "metadata": {},
   "outputs": [],
   "source": [
    "events = epoch.events[:,-1]"
   ]
  },
  {
   "cell_type": "code",
   "execution_count": 175,
   "metadata": {},
   "outputs": [
    {
     "data": {
      "text/plain": [
       "(array([1015.,    0.,  313.,    0.,    0.,  250.,  341., 2204., 1282.,\n",
       "          19.]),\n",
       " array([1.97310436e-04, 1.24532694e+00, 2.49045657e+00, 3.73558620e+00,\n",
       "        4.98071583e+00, 6.22584546e+00, 7.47097509e+00, 8.71610472e+00,\n",
       "        9.96123435e+00, 1.12063640e+01, 1.24514936e+01]),\n",
       " <a list of 10 Patch objects>)"
      ]
     },
     "execution_count": 175,
     "metadata": {},
     "output_type": "execute_result"
    },
    {
     "data": {
      "image/png": "[encoded data removed]",
      "text/plain": [
       "<Figure size 720x720 with 1 Axes>"
      ]
     },
     "metadata": {
      "needs_background": "light"
     },
     "output_type": "display_data"
    }
   ],
   "source": [
    "plt."
   ]
  },
  {
   "cell_type": "code",
   "execution_count": 225,
   "metadata": {},
   "outputs": [],
   "source": [
    "event_ids = epoch.event_id"
   ]
  },
  {
   "cell_type": "code",
   "execution_count": 226,
   "metadata": {},
   "outputs": [],
   "source": [
    "labels = [x for x in events if x == 133 or x == 134]"
   ]
  },
  {
   "cell_type": "code",
   "execution_count": 227,
   "metadata": {},
   "outputs": [],
   "source": [
    "# labels"
   ]
  },
  {
   "cell_type": "code",
   "execution_count": 229,
   "metadata": {},
   "outputs": [
    {
     "data": {
      "text/html": [
       "<div>\n",
       "<style scoped>\n",
       "    .dataframe tbody tr th:only-of-type {\n",
       "        vertical-align: middle;\n",
       "    }\n",
       "\n",
       "    .dataframe tbody tr th {\n",
       "        vertical-align: top;\n",
       "    }\n",
       "\n",
       "    .dataframe thead th {\n",
       "        text-align: right;\n",
       "    }\n",
       "</style>\n",
       "<table border=\"1\" class=\"dataframe\">\n",
       "  <thead>\n",
       "    <tr style=\"text-align: right;\">\n",
       "      <th></th>\n",
       "      <th>0</th>\n",
       "      <th>1</th>\n",
       "      <th>2</th>\n",
       "      <th>3</th>\n",
       "      <th>4</th>\n",
       "      <th>5</th>\n",
       "      <th>6</th>\n",
       "      <th>7</th>\n",
       "      <th>8</th>\n",
       "      <th>9</th>\n",
       "      <th>10</th>\n",
       "      <th>11</th>\n",
       "      <th>12</th>\n",
       "      <th>13</th>\n",
       "      <th>14</th>\n",
       "      <th>15</th>\n",
       "      <th>16</th>\n",
       "      <th>17</th>\n",
       "      <th>labels</th>\n",
       "    </tr>\n",
       "  </thead>\n",
       "  <tbody>\n",
       "    <tr>\n",
       "      <th>0</th>\n",
       "      <td>3.386044</td>\n",
       "      <td>0.488472</td>\n",
       "      <td>6.806278</td>\n",
       "      <td>3.386044</td>\n",
       "      <td>0.486839</td>\n",
       "      <td>6.812505</td>\n",
       "      <td>3.386044</td>\n",
       "      <td>0.490505</td>\n",
       "      <td>6.806856</td>\n",
       "      <td>3.386044</td>\n",
       "      <td>0.494164</td>\n",
       "      <td>6.808174</td>\n",
       "      <td>3.386044</td>\n",
       "      <td>0.541587</td>\n",
       "      <td>6.809818</td>\n",
       "      <td>3.386044</td>\n",
       "      <td>0.689859</td>\n",
       "      <td>7.630383</td>\n",
       "      <td>131</td>\n",
       "    </tr>\n",
       "    <tr>\n",
       "      <th>1</th>\n",
       "      <td>9.393601</td>\n",
       "      <td>0.234367</td>\n",
       "      <td>4.122465</td>\n",
       "      <td>9.393601</td>\n",
       "      <td>0.227754</td>\n",
       "      <td>4.108319</td>\n",
       "      <td>9.393601</td>\n",
       "      <td>0.234367</td>\n",
       "      <td>4.130163</td>\n",
       "      <td>9.393601</td>\n",
       "      <td>0.233151</td>\n",
       "      <td>4.136674</td>\n",
       "      <td>9.393601</td>\n",
       "      <td>0.353169</td>\n",
       "      <td>4.117032</td>\n",
       "      <td>9.393601</td>\n",
       "      <td>0.361434</td>\n",
       "      <td>3.604639</td>\n",
       "      <td>31</td>\n",
       "    </tr>\n",
       "    <tr>\n",
       "      <th>2</th>\n",
       "      <td>9.393601</td>\n",
       "      <td>0.211692</td>\n",
       "      <td>5.504006</td>\n",
       "      <td>9.393601</td>\n",
       "      <td>0.210431</td>\n",
       "      <td>5.506521</td>\n",
       "      <td>9.393601</td>\n",
       "      <td>0.217669</td>\n",
       "      <td>5.520877</td>\n",
       "      <td>9.393601</td>\n",
       "      <td>0.214994</td>\n",
       "      <td>5.512341</td>\n",
       "      <td>9.393601</td>\n",
       "      <td>0.281951</td>\n",
       "      <td>5.513245</td>\n",
       "      <td>9.393601</td>\n",
       "      <td>0.355719</td>\n",
       "      <td>3.606906</td>\n",
       "      <td>144</td>\n",
       "    </tr>\n",
       "    <tr>\n",
       "      <th>3</th>\n",
       "      <td>9.393601</td>\n",
       "      <td>0.400234</td>\n",
       "      <td>4.241906</td>\n",
       "      <td>9.393601</td>\n",
       "      <td>0.401166</td>\n",
       "      <td>4.243094</td>\n",
       "      <td>9.393601</td>\n",
       "      <td>0.392107</td>\n",
       "      <td>4.245564</td>\n",
       "      <td>9.393601</td>\n",
       "      <td>0.391720</td>\n",
       "      <td>4.250504</td>\n",
       "      <td>9.393601</td>\n",
       "      <td>0.315885</td>\n",
       "      <td>4.241021</td>\n",
       "      <td>9.393601</td>\n",
       "      <td>0.295052</td>\n",
       "      <td>3.044671</td>\n",
       "      <td>162</td>\n",
       "    </tr>\n",
       "    <tr>\n",
       "      <th>4</th>\n",
       "      <td>9.393095</td>\n",
       "      <td>0.134880</td>\n",
       "      <td>4.074491</td>\n",
       "      <td>9.393095</td>\n",
       "      <td>0.131267</td>\n",
       "      <td>4.081047</td>\n",
       "      <td>9.393095</td>\n",
       "      <td>0.131694</td>\n",
       "      <td>4.079205</td>\n",
       "      <td>9.393095</td>\n",
       "      <td>0.131495</td>\n",
       "      <td>4.081700</td>\n",
       "      <td>9.393095</td>\n",
       "      <td>0.167721</td>\n",
       "      <td>4.095498</td>\n",
       "      <td>9.393095</td>\n",
       "      <td>0.274034</td>\n",
       "      <td>2.968560</td>\n",
       "      <td>8</td>\n",
       "    </tr>\n",
       "  </tbody>\n",
       "</table>\n",
       "</div>"
      ],
      "text/plain": [
       "          0         1         2         3         4         5         6  \\\n",
       "0  3.386044  0.488472  6.806278  3.386044  0.486839  6.812505  3.386044   \n",
       "1  9.393601  0.234367  4.122465  9.393601  0.227754  4.108319  9.393601   \n",
       "2  9.393601  0.211692  5.504006  9.393601  0.210431  5.506521  9.393601   \n",
       "3  9.393601  0.400234  4.241906  9.393601  0.401166  4.243094  9.393601   \n",
       "4  9.393095  0.134880  4.074491  9.393095  0.131267  4.081047  9.393095   \n",
       "\n",
       "          7         8         9        10        11        12        13  \\\n",
       "0  0.490505  6.806856  3.386044  0.494164  6.808174  3.386044  0.541587   \n",
       "1  0.234367  4.130163  9.393601  0.233151  4.136674  9.393601  0.353169   \n",
       "2  0.217669  5.520877  9.393601  0.214994  5.512341  9.393601  0.281951   \n",
       "3  0.392107  4.245564  9.393601  0.391720  4.250504  9.393601  0.315885   \n",
       "4  0.131694  4.079205  9.393095  0.131495  4.081700  9.393095  0.167721   \n",
       "\n",
       "         14        15        16        17  labels  \n",
       "0  6.809818  3.386044  0.689859  7.630383     131  \n",
       "1  4.117032  9.393601  0.361434  3.604639      31  \n",
       "2  5.513245  9.393601  0.355719  3.606906     144  \n",
       "3  4.241021  9.393601  0.295052  3.044671     162  \n",
       "4  4.095498  9.393095  0.274034  2.968560       8  "
      ]
     },
     "execution_count": 229,
     "metadata": {},
     "output_type": "execute_result"
    }
   ],
   "source": [
    "df = pd.DataFrame(data = results)\n",
    "df['labels'] = events\n",
    "df.head()"
   ]
  },
  {
   "cell_type": "code",
   "execution_count": 235,
   "metadata": {},
   "outputs": [],
   "source": [
    "# get the labels of congruent and incongruent\n",
    "data = df[(df['labels'] == 133) | (df['labels'] == 134)]\n",
    "data = data.reset_index()\n",
    "X = data.values[:,:6]\n",
    "y = data.values[:,-1:]"
   ]
  },
  {
   "cell_type": "code",
   "execution_count": 236,
   "metadata": {},
   "outputs": [],
   "source": [
    "normed_X = normalize(X)"
   ]
  },
  {
   "cell_type": "code",
   "execution_count": 237,
   "metadata": {},
   "outputs": [],
   "source": [
    "X_train, X_test, y_train, y_test = train_test_split(normed_X,y, test_size = 0.3, random_state = 42)"
   ]
  },
  {
   "cell_type": "code",
   "execution_count": 238,
   "metadata": {},
   "outputs": [
    {
     "data": {
      "text/plain": [
       "KNeighborsClassifier(algorithm='auto', leaf_size=30, metric='minkowski',\n",
       "           metric_params=None, n_jobs=1, n_neighbors=2, p=2,\n",
       "           weights='uniform')"
      ]
     },
     "execution_count": 238,
     "metadata": {},
     "output_type": "execute_result"
    }
   ],
   "source": [
    "knn = KNeighborsClassifier(n_neighbors=2)\n",
    "knn.fit(X_train, y_train.ravel())"
   ]
  },
  {
   "cell_type": "code",
   "execution_count": 239,
   "metadata": {},
   "outputs": [
    {
     "data": {
      "text/plain": [
       "0.4791666666666667"
      ]
     },
     "execution_count": 239,
     "metadata": {},
     "output_type": "execute_result"
    }
   ],
   "source": [
    "knn.score(X_test, y_test)"
   ]
  },
  {
   "cell_type": "code",
   "execution_count": 241,
   "metadata": {},
   "outputs": [
    {
     "data": {
      "text/plain": [
       "(640, 6)"
      ]
     },
     "execution_count": 241,
     "metadata": {},
     "output_type": "execute_result"
    }
   ],
   "source": [
    "X.shape"
   ]
  },
  {
   "cell_type": "code",
   "execution_count": 242,
   "metadata": {},
   "outputs": [
    {
     "ename": "IndexError",
     "evalue": "too many indices for array",
     "output_type": "error",
     "traceback": [
      "\u001b[1;31m---------------------------------------------------------------------------\u001b[0m",
      "\u001b[1;31mIndexError\u001b[0m                                Traceback (most recent call last)",
      "\u001b[1;32m<ipython-input-242-96db264911f9>\u001b[0m in \u001b[0;36m<module>\u001b[1;34m()\u001b[0m\n\u001b[1;32m----> 1\u001b[1;33m \u001b[0mplt\u001b[0m\u001b[1;33m.\u001b[0m\u001b[0mscatter\u001b[0m\u001b[1;33m(\u001b[0m\u001b[0mX\u001b[0m\u001b[1;33m[\u001b[0m\u001b[0my\u001b[0m \u001b[1;33m==\u001b[0m \u001b[1;36m133\u001b[0m\u001b[1;33m,\u001b[0m\u001b[1;36m0\u001b[0m\u001b[1;33m]\u001b[0m\u001b[1;33m,\u001b[0m \u001b[0mX\u001b[0m\u001b[1;33m[\u001b[0m\u001b[0my\u001b[0m \u001b[1;33m==\u001b[0m \u001b[1;36m134\u001b[0m\u001b[1;33m,\u001b[0m\u001b[1;36m0\u001b[0m\u001b[1;33m]\u001b[0m\u001b[1;33m)\u001b[0m\u001b[1;33m\u001b[0m\u001b[0m\n\u001b[0m",
      "\u001b[1;31mIndexError\u001b[0m: too many indices for array"
     ]
    }
   ],
   "source": [
    "plt.scatter(X[y == 133,0], X[y == 134,0])"
   ]
  },
  {
   "cell_type": "code",
   "execution_count": 189,
   "metadata": {},
   "outputs": [
    {
     "data": {
      "text/plain": [
       "0.4479166666666667"
      ]
     },
     "execution_count": 189,
     "metadata": {},
     "output_type": "execute_result"
    }
   ],
   "source": [
    "clf = LogisticRegression()\n",
    "clf.fit(X_train, y_train.ravel())\n",
    "clf.score(X_test,y_test)"
   ]
  },
  {
   "cell_type": "code",
   "execution_count": 63,
   "metadata": {},
   "outputs": [
    {
     "data": {
      "text/plain": [
       "(5424, 1)"
      ]
     },
     "execution_count": 63,
     "metadata": {},
     "output_type": "execute_result"
    }
   ],
   "source": [
    "gamma_final_mean.shape"
   ]
  },
  {
   "cell_type": "code",
   "execution_count": 31,
   "metadata": {},
   "outputs": [
    {
     "ename": "NameError",
     "evalue": "name 'concat_array' is not defined",
     "output_type": "error",
     "traceback": [
      "\u001b[1;31m---------------------------------------------------------------------------\u001b[0m",
      "\u001b[1;31mNameError\u001b[0m                                 Traceback (most recent call last)",
      "\u001b[1;32m<ipython-input-31-84067e8f8820>\u001b[0m in \u001b[0;36m<module>\u001b[1;34m()\u001b[0m\n\u001b[1;32m----> 1\u001b[1;33m \u001b[0mconcat_array\u001b[0m\u001b[1;33m.\u001b[0m\u001b[0mshape\u001b[0m\u001b[1;33m\u001b[0m\u001b[0m\n\u001b[0m",
      "\u001b[1;31mNameError\u001b[0m: name 'concat_array' is not defined"
     ]
    }
   ],
   "source": [
    "# concat_array.shape"
   ]
  },
  {
   "cell_type": "code",
   "execution_count": null,
   "metadata": {},
   "outputs": [],
   "source": [
    "# concat_array"
   ]
  },
  {
   "cell_type": "code",
   "execution_count": 32,
   "metadata": {},
   "outputs": [
    {
     "data": {
      "text/plain": [
       "(5424, 1, 28)"
      ]
     },
     "execution_count": 32,
     "metadata": {},
     "output_type": "execute_result"
    }
   ],
   "source": [
    "gamma_final_mean_3d = gamma_final_mean[:,np.newaxis,:]\n",
    "gamma_final_mean_3d.shape"
   ]
  },
  {
   "cell_type": "code",
   "execution_count": 33,
   "metadata": {},
   "outputs": [],
   "source": [
    "gamma_final_mean_3d = gamma_final_mean[...,np.newaxis]\n",
    "beta_final_mean_3d = beta_final_mean[...,np.newaxis]\n",
    "alpha_final_mean_3d = alpha_final_mean[...,np.newaxis]\n",
    "delta_final_mean_3d = delta_final_mean[...,np.newaxis]\n",
    "theta_final_mean_3d = theta_final_mean[...,np.newaxis]\n",
    "regular_final_mean_3d = regular_data_final_mean[...,np.newaxis]"
   ]
  },
  {
   "cell_type": "code",
   "execution_count": 34,
   "metadata": {},
   "outputs": [],
   "source": [
    "results = np.concatenate((gamma_final_mean_3d,\n",
    "                          beta_final_mean_3d,\n",
    "                          alpha_final_mean_3d,\n",
    "                          delta_final_mean_3d,\n",
    "                          theta_final_mean_3d,\n",
    "                          regular_final_mean_3d), axis = 2)"
   ]
  },
  {
   "cell_type": "code",
   "execution_count": 35,
   "metadata": {},
   "outputs": [
    {
     "data": {
      "text/plain": [
       "(5424, 28, 6)"
      ]
     },
     "execution_count": 35,
     "metadata": {},
     "output_type": "execute_result"
    }
   ],
   "source": [
    "results.shape"
   ]
  },
  {
   "cell_type": "code",
   "execution_count": 84,
   "metadata": {},
   "outputs": [
    {
     "data": {
      "text/plain": [
       "(5424, 112)"
      ]
     },
     "execution_count": 84,
     "metadata": {},
     "output_type": "execute_result"
    }
   ],
   "source": [
    "results.shape"
   ]
  },
  {
   "cell_type": "code",
   "execution_count": 83,
   "metadata": {},
   "outputs": [
    {
     "data": {
      "text/plain": [
       "array([[9.48092284e+01, 2.54036733e-14, 3.98203333e-16, ...,\n",
       "        5.06747997e-17, 2.91709662e-16, 1.99728688e-16],\n",
       "       [2.63020833e+02, 6.85103270e-14, 8.56307043e-15, ...,\n",
       "        1.12817652e-16, 5.20600004e-16, 5.65786132e-16],\n",
       "       [2.63020833e+02, 3.43498574e-14, 1.29864221e-14, ...,\n",
       "        8.44040557e-16, 2.11576834e-16, 2.31019793e-16],\n",
       "       ...,\n",
       "       [9.48066667e+01, 1.15964729e-15, 1.36319176e-15, ...,\n",
       "        3.30276350e-16, 1.27914633e-16, 4.97302674e-16],\n",
       "       [2.82734414e+02, 1.52442230e-15, 6.39534077e-15, ...,\n",
       "        1.88031892e-16, 1.12768466e-16, 1.47516428e-16],\n",
       "       [1.90070710e+02, 7.74529787e-15, 6.84704476e-15, ...,\n",
       "        2.51718968e-16, 1.22704620e-16, 1.45636172e-16]])"
      ]
     },
     "execution_count": 83,
     "metadata": {},
     "output_type": "execute_result"
    }
   ],
   "source": [
    "results"
   ]
  },
  {
   "cell_type": "code",
   "execution_count": null,
   "metadata": {},
   "outputs": [],
   "source": []
  }
 ],
 "metadata": {
  "kernelspec": {
   "display_name": "Python 3",
   "language": "python",
   "name": "python3"
  },
  "language_info": {
   "codemirror_mode": {
    "name": "ipython",
    "version": 3
   },
   "file_extension": ".py",
   "mimetype": "text/x-python",
   "name": "python",
   "nbconvert_exporter": "python",
   "pygments_lexer": "ipython3",
   "version": "3.6.4"
  }
 },
 "nbformat": 4,
 "nbformat_minor": 2
}
