{
 "cells": [
  {
   "cell_type": "code",
   "execution_count": 1,
   "metadata": {},
   "outputs": [],
   "source": [
    "%run ../preprocessing/Artifact_Removal/preprocecssing_helpers.ipynb\n",
    "import os\n",
    "\n",
    "import mne\n",
    "from mne.preprocessing import ICA\n",
    "import numpy as np\n",
    "import matplotlib.pyplot as plt\n",
    "%matplotlib inline\n",
    "import matplotlib\n",
    "matplotlib.rcParams['figure.figsize'] = (50.0, 30.0)\n",
    "matplotlib.rcParams.update({'font.size': 15})\n",
    "\n",
    "from mne.datasets import sample\n",
    "from mne.decoding import UnsupervisedSpatialFilter\n",
    "\n",
    "from sklearn.decomposition import PCA\n",
    "import pandas as pd"
   ]
  },
  {
   "cell_type": "code",
   "execution_count": 2,
   "metadata": {},
   "outputs": [],
   "source": [
    "path = 'E:\\EpochedEEG'\n",
    "epoch_files = os.listdir(path)"
   ]
  },
  {
   "cell_type": "code",
   "execution_count": 3,
   "metadata": {},
   "outputs": [],
   "source": [
    "file = os.path.join(path,epoch_files[0])"
   ]
  },
  {
   "cell_type": "code",
   "execution_count": 4,
   "metadata": {},
   "outputs": [
    {
     "name": "stdout",
     "output_type": "stream",
     "text": [
      "Reading E:\\EpochedEEG\\20131216_1441_epo.fif ...\n",
      "    Found the data of interest:\n",
      "        t =    -199.22 ...     500.00 ms\n",
      "        0 CTF compensation matrices available\n",
      "5424 matching events found\n",
      "Applying baseline correction (mode: mean)\n",
      "5424 matching events found\n",
      "Applying baseline correction (mode: mean)\n",
      "Not setting metadata\n",
      "0 projection items activated\n"
     ]
    }
   ],
   "source": [
    "epoch = mne.read_epochs(file, preload = True)"
   ]
  },
  {
   "cell_type": "code",
   "execution_count": 5,
   "metadata": {},
   "outputs": [],
   "source": [
    "pca = UnsupervisedSpatialFilter(PCA(9), average=False) # PCA, keep 9 components \n",
    "\n",
    "epoch_data = epoch.get_data()\n",
    "pca_data = pca.fit_transform(epoch_data)"
   ]
  },
  {
   "cell_type": "code",
   "execution_count": 6,
   "metadata": {},
   "outputs": [
    {
     "name": "stdout",
     "output_type": "stream",
     "text": [
      "Setting up band-pass filter from 30 - 1e+02 Hz\n",
      "l_trans_bandwidth chosen to be 7.5 Hz\n",
      "h_trans_bandwidth chosen to be 25.0 Hz\n",
      "Filter length of 113 samples (0.441 sec) selected\n",
      "Setting up band-pass filter from 12 - 30 Hz\n",
      "l_trans_bandwidth chosen to be 3.0 Hz\n",
      "h_trans_bandwidth chosen to be 7.5 Hz\n",
      "Filter length of 283 samples (1.105 sec) selected\n",
      "filter_length (283) is longer than the signal (180), distortion is likely. Reduce filter length or filter a longer signal.\n"
     ]
    },
    {
     "name": "stderr",
     "output_type": "stream",
     "text": [
      "<ipython-input-6-d74bec87c4a9>:2: RuntimeWarning: filter_length (283) is longer than the signal (180), distortion is likely. Reduce filter length or filter a longer signal.\n",
      "  beta_epoch =  epoch.filter(l_freq=12, h_freq= 30)\n"
     ]
    },
    {
     "name": "stdout",
     "output_type": "stream",
     "text": [
      "Setting up band-pass filter from 8 - 12 Hz\n",
      "l_trans_bandwidth chosen to be 2.0 Hz\n",
      "h_trans_bandwidth chosen to be 3.0 Hz\n",
      "Filter length of 423 samples (1.652 sec) selected\n",
      "filter_length (423) is longer than the signal (180), distortion is likely. Reduce filter length or filter a longer signal.\n"
     ]
    },
    {
     "name": "stderr",
     "output_type": "stream",
     "text": [
      "<ipython-input-6-d74bec87c4a9>:3: RuntimeWarning: filter_length (423) is longer than the signal (180), distortion is likely. Reduce filter length or filter a longer signal.\n",
      "  alpha_epoch = epoch.filter(l_freq=8, h_freq= 12)\n"
     ]
    },
    {
     "name": "stdout",
     "output_type": "stream",
     "text": [
      "Setting up band-pass filter from 4 - 7 Hz\n",
      "l_trans_bandwidth chosen to be 2.0 Hz\n",
      "h_trans_bandwidth chosen to be 2.0 Hz\n",
      "Filter length of 423 samples (1.652 sec) selected\n",
      "filter_length (423) is longer than the signal (180), distortion is likely. Reduce filter length or filter a longer signal.\n"
     ]
    },
    {
     "name": "stderr",
     "output_type": "stream",
     "text": [
      "<ipython-input-6-d74bec87c4a9>:4: RuntimeWarning: filter_length (423) is longer than the signal (180), distortion is likely. Reduce filter length or filter a longer signal.\n",
      "  theta_epoch = epoch.filter(l_freq=4, h_freq= 7)\n"
     ]
    },
    {
     "name": "stdout",
     "output_type": "stream",
     "text": [
      "Setting up low-pass filter at 4 Hz\n",
      "h_trans_bandwidth chosen to be 2.0 Hz\n",
      "Filter length of 423 samples (1.652 sec) selected\n",
      "filter_length (423) is longer than the signal (180), distortion is likely. Reduce filter length or filter a longer signal.\n"
     ]
    },
    {
     "name": "stderr",
     "output_type": "stream",
     "text": [
      "<ipython-input-6-d74bec87c4a9>:5: RuntimeWarning: filter_length (423) is longer than the signal (180), distortion is likely. Reduce filter length or filter a longer signal.\n",
      "  delta_epoch = epoch.filter(l_freq=0, h_freq= 4)\n"
     ]
    }
   ],
   "source": [
    "gamma_epoch = epoch.filter(l_freq=30, h_freq= 100)\n",
    "beta_epoch =  epoch.filter(l_freq=12, h_freq= 30)\n",
    "alpha_epoch = epoch.filter(l_freq=8, h_freq= 12)\n",
    "theta_epoch = epoch.filter(l_freq=4, h_freq= 7)\n",
    "delta_epoch = epoch.filter(l_freq=0, h_freq= 4)"
   ]
  },
  {
   "cell_type": "code",
   "execution_count": 7,
   "metadata": {},
   "outputs": [],
   "source": [
    "gamma_data = gamma_epoch.get_data()\n",
    "beta_data = beta_epoch.get_data()\n",
    "alpha_data = alpha_epoch.get_data()\n",
    "theta_data = theta_epoch.get_data()\n",
    "delta_epoch = delta_epoch.get_data()"
   ]
  },
  {
   "cell_type": "code",
   "execution_count": 8,
   "metadata": {},
   "outputs": [],
   "source": [
    "gamma_pca_data = pca.fit_transform(gamma_data)\n",
    "beta_pca_data = pca.fit_transform(beta_data)\n",
    "alpha_pca_data = pca.fit_transform(alpha_data)\n",
    "theta_pca_data = pca.fit_transform(theta_data)\n",
    "delta_pca_data = pca.fit_transform(delta_epoch)# didn't name this correctly"
   ]
  },
  {
   "cell_type": "markdown",
   "metadata": {},
   "source": [
    "## average data from each band"
   ]
  },
  {
   "cell_type": "code",
   "execution_count": 9,
   "metadata": {},
   "outputs": [
    {
     "data": {
      "text/plain": [
       "(5424, 9, 180)"
      ]
     },
     "execution_count": 9,
     "metadata": {},
     "output_type": "execute_result"
    }
   ],
   "source": [
    "gamma_pca_data.shape"
   ]
  },
  {
   "cell_type": "code",
   "execution_count": 10,
   "metadata": {},
   "outputs": [],
   "source": [
    "# final_data = np.shape()\n",
    "final_means = []\n",
    "for data in gamma_pca_data:\n",
    "#     print (data.shape)\n",
    "    means = []\n",
    "    for channel in data:\n",
    "#         print(channel.shape)\n",
    "        mean = channel.mean()\n",
    "        means.append(mean)\n",
    "    final_means.append(means)\n",
    "final_means = np.array(final_means)"
   ]
  },
  {
   "cell_type": "code",
   "execution_count": 11,
   "metadata": {
    "scrolled": true
   },
   "outputs": [
    {
     "data": {
      "text/plain": [
       "(5424, 9)"
      ]
     },
     "execution_count": 11,
     "metadata": {},
     "output_type": "execute_result"
    }
   ],
   "source": [
    "final_means.shape"
   ]
  },
  {
   "cell_type": "code",
   "execution_count": 12,
   "metadata": {},
   "outputs": [],
   "source": [
    "def get_mean_band(data):\n",
    "    final_means = []\n",
    "    for data in gamma_pca_data:\n",
    "    #     print (data.shape)\n",
    "        means = []\n",
    "        for channel in data:\n",
    "    #         print(channel.shape)\n",
    "            mean = channel.mean()\n",
    "            means.append(mean)\n",
    "        final_means.append(means)\n",
    "    \n",
    "    return np.array(final_means)\n",
    "    "
   ]
  },
  {
   "cell_type": "code",
   "execution_count": 13,
   "metadata": {},
   "outputs": [],
   "source": [
    "gamma_final_mean = get_mean_band(gamma_pca_data)\n",
    "beta_final_mean = get_mean_band(beta_pca_data)\n",
    "alpha_final_mean = get_mean_band(alpha_pca_data)\n",
    "delta_final_mean = get_mean_band(delta_pca_data)\n",
    "theta_final_mean = get_mean_band(theta_pca_data)\n",
    "regular_data_final_mean = get_mean_band(pca_data)                                 "
   ]
  },
  {
   "cell_type": "code",
   "execution_count": 14,
   "metadata": {},
   "outputs": [],
   "source": [
    "results = np.shape((len(epoch.events), 9, 63))"
   ]
  },
  {
   "cell_type": "code",
   "execution_count": 56,
   "metadata": {},
   "outputs": [],
   "source": [
    "results = np.concatenate((gamma_final_mean,\n",
    "                          beta_final_mean,\n",
    "                          alpha_final_mean,\n",
    "                          delta_final_mean,\n",
    "                          theta_final_mean,\n",
    "                          regular_data_final_mean),axis = 1)"
   ]
  },
  {
   "cell_type": "code",
   "execution_count": 57,
   "metadata": {},
   "outputs": [
    {
     "data": {
      "text/plain": [
       "(5424, 54)"
      ]
     },
     "execution_count": 57,
     "metadata": {},
     "output_type": "execute_result"
    }
   ],
   "source": [
    "results.shape"
   ]
  },
  {
   "cell_type": "markdown",
   "metadata": {},
   "source": [
    "## extract congruent & incongruent labels"
   ]
  },
  {
   "cell_type": "code",
   "execution_count": 16,
   "metadata": {},
   "outputs": [],
   "source": [
    "df = pd.DataFrame()"
   ]
  },
  {
   "cell_type": "code",
   "execution_count": 17,
   "metadata": {},
   "outputs": [
    {
     "data": {
      "text/plain": [
       "(5424, 54)"
      ]
     },
     "execution_count": 17,
     "metadata": {},
     "output_type": "execute_result"
    }
   ],
   "source": [
    "results.shape"
   ]
  },
  {
   "cell_type": "code",
   "execution_count": 28,
   "metadata": {},
   "outputs": [
    {
     "data": {
      "text/plain": [
       "(5424, 9)"
      ]
     },
     "execution_count": 28,
     "metadata": {},
     "output_type": "execute_result"
    }
   ],
   "source": [
    "gamma_final_mean.shape"
   ]
  },
  {
   "cell_type": "code",
   "execution_count": 21,
   "metadata": {},
   "outputs": [
    {
     "data": {
      "text/plain": [
       "(5424, 9, 63)"
      ]
     },
     "execution_count": 21,
     "metadata": {},
     "output_type": "execute_result"
    }
   ],
   "source": [
    "concat_array.shape"
   ]
  },
  {
   "cell_type": "code",
   "execution_count": 24,
   "metadata": {},
   "outputs": [
    {
     "data": {
      "text/plain": [
       "array([0., 0., 0., 0., 0., 0., 0., 0., 0.])"
      ]
     },
     "execution_count": 24,
     "metadata": {},
     "output_type": "execute_result"
    }
   ],
   "source": [
    "concat_array"
   ]
  },
  {
   "cell_type": "code",
   "execution_count": 40,
   "metadata": {},
   "outputs": [
    {
     "data": {
      "text/plain": [
       "(5424, 1, 9)"
      ]
     },
     "execution_count": 40,
     "metadata": {},
     "output_type": "execute_result"
    }
   ],
   "source": [
    "gamma_final_mean_3d = gamma_final_mean[:,np.newaxis,:]\n",
    "gamma_final_mean_3d.shape"
   ]
  },
  {
   "cell_type": "code",
   "execution_count": 51,
   "metadata": {},
   "outputs": [],
   "source": [
    "gamma_final_mean_3d = gamma_final_mean[...,np.newaxis]\n",
    "beta_final_mean_3d = beta_final_mean[...,np.newaxis]\n",
    "alpha_final_mean_3d = alpha_final_mean[...,np.newaxis]\n",
    "delta_final_mean_3d = delta_final_mean[...,np.newaxis]\n",
    "theta_final_mean_3d = theta_final_mean[...,np.newaxis]\n",
    "regular_final_mean_3d = regular_data_final_mean[...,np.newaxis]"
   ]
  },
  {
   "cell_type": "code",
   "execution_count": 54,
   "metadata": {},
   "outputs": [],
   "source": [
    "results = np.concatenate((gamma_final_mean_3d,\n",
    "                          beta_final_mean_3d,\n",
    "                          alpha_final_mean_3d,\n",
    "                          delta_final_mean_3d,\n",
    "                          theta_final_mean_3d,\n",
    "                          regular_final_mean_3d), axis = 2)"
   ]
  },
  {
   "cell_type": "code",
   "execution_count": 55,
   "metadata": {},
   "outputs": [
    {
     "data": {
      "text/plain": [
       "(5424, 9, 6)"
      ]
     },
     "execution_count": 55,
     "metadata": {},
     "output_type": "execute_result"
    }
   ],
   "source": [
    "results.shape"
   ]
  },
  {
   "cell_type": "code",
   "execution_count": null,
   "metadata": {},
   "outputs": [],
   "source": []
  }
 ],
 "metadata": {
  "kernelspec": {
   "display_name": "Python 3",
   "language": "python",
   "name": "python3"
  },
  "language_info": {
   "codemirror_mode": {
    "name": "ipython",
    "version": 3
   },
   "file_extension": ".py",
   "mimetype": "text/x-python",
   "name": "python",
   "nbconvert_exporter": "python",
   "pygments_lexer": "ipython3",
   "version": "3.6.6"
  }
 },
 "nbformat": 4,
 "nbformat_minor": 2
}
