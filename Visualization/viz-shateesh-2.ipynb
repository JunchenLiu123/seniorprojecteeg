{
 "cells": [
  {
   "cell_type": "markdown",
   "metadata": {},
   "source": [
    "### A new visualization notebook \n",
    "With the new epoch data and the working montage file   \n",
    "NOTE: We placed the working montage file for the ANT Duke Waveguard 128 ch cap in the mne python source code  \n",
    "(/Users/shateeshbhugwansing/anaconda/envs/mne/lib/python3.6/site-packages/mne/channels/data/montages) folder for easy access."
   ]
  },
  {
   "cell_type": "code",
   "execution_count": 1,
   "metadata": {},
   "outputs": [],
   "source": [
    "# %run ../preprocessing/StimCodes.ipynb\n",
    "import mne\n",
    "import numpy as np\n",
    "import matplotlib.pyplot as plt\n",
    "from matplotlib import cm\n",
    "\n",
    "%matplotlib inline \n",
    "\n",
    "import matplotlib\n",
    "matplotlib.rcParams.update({'font.size': 11})"
   ]
  },
  {
   "cell_type": "code",
   "execution_count": 2,
   "metadata": {},
   "outputs": [],
   "source": [
    "montage = mne.channels.read_montage(kind=\"ANT_DukeWaveGuard_128_electrode_montages_updated_V4\")\n"
   ]
  },
  {
   "cell_type": "code",
   "execution_count": null,
   "metadata": {},
   "outputs": [],
   "source": [
    "from pylab import rcParams\n",
    "rcParams['figure.figsize'] = 20, 15\n",
    "montage.plot(); \n",
    "\n",
    "matplotlib.rcParams.update({'font.size': 18})"
   ]
  },
  {
   "cell_type": "code",
   "execution_count": 4,
   "metadata": {},
   "outputs": [
    {
     "name": "stdout",
     "output_type": "stream",
     "text": [
      "Reading /Volumes/SB/NEW_EPOCH_DATA/20140205_1114_epo.fif ...\n",
      "    Found the data of interest:\n",
      "        t =       0.00 ...     500.00 ms\n",
      "        0 CTF compensation matrices available\n",
      "1908 matching events found\n",
      "Applying baseline correction (mode: mean)\n",
      "1908 matching events found\n",
      "Applying baseline correction (mode: mean)\n",
      "Not setting metadata\n",
      "0 projection items activated\n"
     ]
    }
   ],
   "source": [
    "# read in data \n",
    "# epoch_path = '/Volumes/SB/stim_code_epochs/20131216_1441_epo.fif'\n",
    "# epoch_path = '/Volumes/SB/stim_code_epochs/20140205_1114_epo.fif'\n",
    "\n",
    "# Use the new epochs for this\n",
    "epoch_path = '/Volumes/SB/NEW_EPOCH_DATA/20140205_1114_epo.fif'\n",
    "\n",
    "epoch = mne.read_epochs(epoch_path, preload=True)"
   ]
  },
  {
   "cell_type": "code",
   "execution_count": 5,
   "metadata": {},
   "outputs": [
    {
     "name": "stdout",
     "output_type": "stream",
     "text": [
      "The following EEG sensors did not have a position specified in the selected montage: ['Nasium', 'LL4', 'L12', 'VEOG']. Their position has been left untouched.\n"
     ]
    },
    {
     "name": "stderr",
     "output_type": "stream",
     "text": [
      "<ipython-input-5-2b9523d69e31>:1: RuntimeWarning: The following EEG sensors did not have a position specified in the selected montage: ['Nasium', 'LL4', 'L12', 'VEOG']. Their position has been left untouched.\n",
      "  epoch.set_montage(montage)\n"
     ]
    },
    {
     "data": {
      "text/plain": [
       "<EpochsFIF  |   1908 events (all good), 0 - 0.5 sec, baseline [0, 0], ~482.9 MB, data loaded,\n",
       " 'b-f1-pic': 60\n",
       " 'b-f1-snd': 60\n",
       " 'b-f1-spk': 100\n",
       " 'b-f1-wrd': 79\n",
       " 'b-f2-pic': 60\n",
       " 'b-f2-snd': 60\n",
       " 'b-f2-spk': 100\n",
       " 'b-f2-wrd': 79\n",
       " 'b-tg-pic': 60\n",
       " 'b-tg-snd': 80\n",
       " 'b-tg-spk': 79\n",
       " 'b-tg-wrd': 80\n",
       " 'f-f1-pic': 100\n",
       " 'f-f1-snd': 59\n",
       " 'f-f1-spk': 99\n",
       " 'f-f1-wrd': 79\n",
       " 'f-f2-pic': 100\n",
       " 'f-f2-snd': 59\n",
       " 'f-f2-spk': 99\n",
       " 'f-f2-wrd': 79\n",
       " 'f-tg-pic': 99\n",
       " 'f-tg-snd': 99\n",
       " 'f-tg-spk': 79\n",
       " 'f-tg-wrd': 60>"
      ]
     },
     "execution_count": 5,
     "metadata": {},
     "output_type": "execute_result"
    }
   ],
   "source": [
    "epoch.set_montage(montage)"
   ]
  },
  {
   "cell_type": "markdown",
   "metadata": {},
   "source": [
    "#### Drop the bad channels: Lm, Rm, Nasium, VEOG"
   ]
  },
  {
   "cell_type": "code",
   "execution_count": 6,
   "metadata": {},
   "outputs": [
    {
     "data": {
      "text/plain": [
       "['Lm',\n",
       " 'LE1',\n",
       " 'Nasium',\n",
       " 'LE3',\n",
       " 'LD2',\n",
       " 'LD5',\n",
       " 'LC3',\n",
       " 'LC6',\n",
       " 'LB1',\n",
       " 'LB4',\n",
       " 'LA2',\n",
       " 'LA5',\n",
       " 'LL1',\n",
       " 'LL4',\n",
       " 'LL7',\n",
       " 'LL10',\n",
       " 'LL13',\n",
       " 'L3',\n",
       " 'L6',\n",
       " 'L9',\n",
       " 'L12',\n",
       " 'Z1',\n",
       " 'Z4',\n",
       " 'Z7',\n",
       " 'Z10',\n",
       " 'Z13',\n",
       " 'R3',\n",
       " 'R6',\n",
       " 'R9',\n",
       " 'R12',\n",
       " 'RR1',\n",
       " 'RR4',\n",
       " 'RR7',\n",
       " 'RR10',\n",
       " 'RR13',\n",
       " 'RA2',\n",
       " 'RA5',\n",
       " 'RB1',\n",
       " 'RB4',\n",
       " 'RC3',\n",
       " 'RC6',\n",
       " 'RD2',\n",
       " 'RD5',\n",
       " 'RE1',\n",
       " 'VEOG',\n",
       " 'RE3',\n",
       " 'Rm',\n",
       " 'RE4',\n",
       " 'RD1',\n",
       " 'RD3',\n",
       " 'RD4',\n",
       " 'RD6',\n",
       " 'RD7',\n",
       " 'RC1',\n",
       " 'RC2',\n",
       " 'RC4',\n",
       " 'RC5',\n",
       " 'RC7',\n",
       " 'RB2',\n",
       " 'RB3',\n",
       " 'RB5',\n",
       " 'RB6',\n",
       " 'RA1',\n",
       " 'RA3',\n",
       " 'RA4',\n",
       " 'RR2',\n",
       " 'RR3',\n",
       " 'RR5',\n",
       " 'RR6',\n",
       " 'RR8',\n",
       " 'RR9',\n",
       " 'RR11',\n",
       " 'RR12',\n",
       " 'R1',\n",
       " 'R2',\n",
       " 'R4',\n",
       " 'R5',\n",
       " 'R7',\n",
       " 'R8',\n",
       " 'R10',\n",
       " 'R11',\n",
       " 'R13',\n",
       " 'R14',\n",
       " 'Z2',\n",
       " 'Z3',\n",
       " 'Z5',\n",
       " 'Z6',\n",
       " 'Z8',\n",
       " 'Z9',\n",
       " 'Z11',\n",
       " 'Z12',\n",
       " 'Z14',\n",
       " 'L1',\n",
       " 'L2',\n",
       " 'L4',\n",
       " 'L5',\n",
       " 'L7',\n",
       " 'L8',\n",
       " 'L10',\n",
       " 'L11',\n",
       " 'L13',\n",
       " 'L14',\n",
       " 'LL2',\n",
       " 'LL3',\n",
       " 'LL5',\n",
       " 'LL6',\n",
       " 'LL8',\n",
       " 'LL9',\n",
       " 'LL11',\n",
       " 'LL12',\n",
       " 'LA1',\n",
       " 'LA3',\n",
       " 'LA4',\n",
       " 'LB2',\n",
       " 'LB3',\n",
       " 'LB5',\n",
       " 'LB6',\n",
       " 'LC1',\n",
       " 'LC2',\n",
       " 'LC4',\n",
       " 'LC5',\n",
       " 'LC7',\n",
       " 'LD1',\n",
       " 'LD3',\n",
       " 'LD4',\n",
       " 'LD6',\n",
       " 'LD7',\n",
       " 'LE4',\n",
       " 'STI 014']"
      ]
     },
     "execution_count": 6,
     "metadata": {},
     "output_type": "execute_result"
    }
   ],
   "source": [
    "## Drop the bad channels \n",
    "epoch.ch_names"
   ]
  },
  {
   "cell_type": "code",
   "execution_count": 7,
   "metadata": {},
   "outputs": [
    {
     "data": {
      "text/plain": [
       "<EpochsFIF  |   1908 events (all good), 0 - 0.5 sec, baseline [0, 0], ~467.9 MB, data loaded,\n",
       " 'b-f1-pic': 60\n",
       " 'b-f1-snd': 60\n",
       " 'b-f1-spk': 100\n",
       " 'b-f1-wrd': 79\n",
       " 'b-f2-pic': 60\n",
       " 'b-f2-snd': 60\n",
       " 'b-f2-spk': 100\n",
       " 'b-f2-wrd': 79\n",
       " 'b-tg-pic': 60\n",
       " 'b-tg-snd': 80\n",
       " 'b-tg-spk': 79\n",
       " 'b-tg-wrd': 80\n",
       " 'f-f1-pic': 100\n",
       " 'f-f1-snd': 59\n",
       " 'f-f1-spk': 99\n",
       " 'f-f1-wrd': 79\n",
       " 'f-f2-pic': 100\n",
       " 'f-f2-snd': 59\n",
       " 'f-f2-spk': 99\n",
       " 'f-f2-wrd': 79\n",
       " 'f-tg-pic': 99\n",
       " 'f-tg-snd': 99\n",
       " 'f-tg-spk': 79\n",
       " 'f-tg-wrd': 60>"
      ]
     },
     "execution_count": 7,
     "metadata": {},
     "output_type": "execute_result"
    }
   ],
   "source": [
    "epoch.drop_channels(['Lm', 'Rm', 'Nasium', 'VEOG'])"
   ]
  },
  {
   "cell_type": "code",
   "execution_count": 8,
   "metadata": {},
   "outputs": [
    {
     "data": {
      "text/plain": [
       "['LE1',\n",
       " 'LE3',\n",
       " 'LD2',\n",
       " 'LD5',\n",
       " 'LC3',\n",
       " 'LC6',\n",
       " 'LB1',\n",
       " 'LB4',\n",
       " 'LA2',\n",
       " 'LA5',\n",
       " 'LL1',\n",
       " 'LL4',\n",
       " 'LL7',\n",
       " 'LL10',\n",
       " 'LL13',\n",
       " 'L3',\n",
       " 'L6',\n",
       " 'L9',\n",
       " 'L12',\n",
       " 'Z1',\n",
       " 'Z4',\n",
       " 'Z7',\n",
       " 'Z10',\n",
       " 'Z13',\n",
       " 'R3',\n",
       " 'R6',\n",
       " 'R9',\n",
       " 'R12',\n",
       " 'RR1',\n",
       " 'RR4',\n",
       " 'RR7',\n",
       " 'RR10',\n",
       " 'RR13',\n",
       " 'RA2',\n",
       " 'RA5',\n",
       " 'RB1',\n",
       " 'RB4',\n",
       " 'RC3',\n",
       " 'RC6',\n",
       " 'RD2',\n",
       " 'RD5',\n",
       " 'RE1',\n",
       " 'RE3',\n",
       " 'RE4',\n",
       " 'RD1',\n",
       " 'RD3',\n",
       " 'RD4',\n",
       " 'RD6',\n",
       " 'RD7',\n",
       " 'RC1',\n",
       " 'RC2',\n",
       " 'RC4',\n",
       " 'RC5',\n",
       " 'RC7',\n",
       " 'RB2',\n",
       " 'RB3',\n",
       " 'RB5',\n",
       " 'RB6',\n",
       " 'RA1',\n",
       " 'RA3',\n",
       " 'RA4',\n",
       " 'RR2',\n",
       " 'RR3',\n",
       " 'RR5',\n",
       " 'RR6',\n",
       " 'RR8',\n",
       " 'RR9',\n",
       " 'RR11',\n",
       " 'RR12',\n",
       " 'R1',\n",
       " 'R2',\n",
       " 'R4',\n",
       " 'R5',\n",
       " 'R7',\n",
       " 'R8',\n",
       " 'R10',\n",
       " 'R11',\n",
       " 'R13',\n",
       " 'R14',\n",
       " 'Z2',\n",
       " 'Z3',\n",
       " 'Z5',\n",
       " 'Z6',\n",
       " 'Z8',\n",
       " 'Z9',\n",
       " 'Z11',\n",
       " 'Z12',\n",
       " 'Z14',\n",
       " 'L1',\n",
       " 'L2',\n",
       " 'L4',\n",
       " 'L5',\n",
       " 'L7',\n",
       " 'L8',\n",
       " 'L10',\n",
       " 'L11',\n",
       " 'L13',\n",
       " 'L14',\n",
       " 'LL2',\n",
       " 'LL3',\n",
       " 'LL5',\n",
       " 'LL6',\n",
       " 'LL8',\n",
       " 'LL9',\n",
       " 'LL11',\n",
       " 'LL12',\n",
       " 'LA1',\n",
       " 'LA3',\n",
       " 'LA4',\n",
       " 'LB2',\n",
       " 'LB3',\n",
       " 'LB5',\n",
       " 'LB6',\n",
       " 'LC1',\n",
       " 'LC2',\n",
       " 'LC4',\n",
       " 'LC5',\n",
       " 'LC7',\n",
       " 'LD1',\n",
       " 'LD3',\n",
       " 'LD4',\n",
       " 'LD6',\n",
       " 'LD7',\n",
       " 'LE4',\n",
       " 'STI 014']"
      ]
     },
     "execution_count": 8,
     "metadata": {},
     "output_type": "execute_result"
    }
   ],
   "source": [
    "epoch.ch_names"
   ]
  },
  {
   "cell_type": "code",
   "execution_count": 9,
   "metadata": {},
   "outputs": [
    {
     "data": {
      "text/plain": [
       "<EpochsFIF  |   1908 events (all good), 0 - 0.5 sec, baseline [0, 0], ~460.5 MB, data loaded,\n",
       " 'b-f1-pic': 60\n",
       " 'b-f1-snd': 60\n",
       " 'b-f1-spk': 100\n",
       " 'b-f1-wrd': 79\n",
       " 'b-f2-pic': 60\n",
       " 'b-f2-snd': 60\n",
       " 'b-f2-spk': 100\n",
       " 'b-f2-wrd': 79\n",
       " 'b-tg-pic': 60\n",
       " 'b-tg-snd': 80\n",
       " 'b-tg-spk': 79\n",
       " 'b-tg-wrd': 80\n",
       " 'f-f1-pic': 100\n",
       " 'f-f1-snd': 59\n",
       " 'f-f1-spk': 99\n",
       " 'f-f1-wrd': 79\n",
       " 'f-f2-pic': 100\n",
       " 'f-f2-snd': 59\n",
       " 'f-f2-spk': 99\n",
       " 'f-f2-wrd': 79\n",
       " 'f-tg-pic': 99\n",
       " 'f-tg-snd': 99\n",
       " 'f-tg-spk': 79\n",
       " 'f-tg-wrd': 60>"
      ]
     },
     "execution_count": 9,
     "metadata": {},
     "output_type": "execute_result"
    }
   ],
   "source": [
    "# remove missing channels 'LL4', 'L12'\n",
    "epoch.drop_channels(['LL4', 'L12'])\n"
   ]
  },
  {
   "cell_type": "code",
   "execution_count": 10,
   "metadata": {},
   "outputs": [
    {
     "data": {
      "text/plain": [
       "123"
      ]
     },
     "execution_count": 10,
     "metadata": {},
     "output_type": "execute_result"
    }
   ],
   "source": [
    "len(epoch.ch_names)"
   ]
  },
  {
   "cell_type": "markdown",
   "metadata": {},
   "source": [
    "## Classification experiment (to generate coefficients)\n",
    "Audio vs. Visual  \n",
    "data: stim_code_epochs/20131216_1441_epo.fif  \n",
    "classifier: Logistic regression  \n"
   ]
  },
  {
   "cell_type": "code",
   "execution_count": 11,
   "metadata": {},
   "outputs": [
    {
     "name": "stderr",
     "output_type": "stream",
     "text": [
      "ERROR:root:File `'preprocecssing_helpers.ipynb.py'` not found.\n",
      "ERROR:root:File `'Batch_ArtifactFilter_Epoch.ipynb.py'` not found.\n",
      "ERROR:root:File `'preprocecssing_helpers.ipynb.py'` not found.\n"
     ]
    }
   ],
   "source": [
    "%run ../preprocessing/Artifact_Removal/Extract_Describer_Events.ipynb\n",
    "%run ../preprocessing/Artifact_Removal/preprocecssing_helpers.ipynb\n",
    "%run ../preprocessing/Artifact_Removal/Batch_ArtifactFilter_Epoch.ipynb\n",
    "%run ../preprocessing/StimCodes.ipynb\n",
    "%run ../Classification/ConcatEpochTrails.ipynb\n"
   ]
  },
  {
   "cell_type": "code",
   "execution_count": 12,
   "metadata": {},
   "outputs": [],
   "source": [
    "audio_visual = convert_epoch_events_to_stim_combinations(epoch)"
   ]
  },
  {
   "cell_type": "code",
   "execution_count": 13,
   "metadata": {},
   "outputs": [
    {
     "data": {
      "text/plain": [
       "array([[  9559,      0,   1112],\n",
       "       [  9843,      0,   1112],\n",
       "       [ 10110,      0,   1112],\n",
       "       ...,\n",
       "       [846110,      0,    912],\n",
       "       [846343,      0,    912],\n",
       "       [846619,      0,    912]])"
      ]
     },
     "execution_count": 13,
     "metadata": {},
     "output_type": "execute_result"
    }
   ],
   "source": [
    "audio_visual"
   ]
  },
  {
   "cell_type": "code",
   "execution_count": 14,
   "metadata": {},
   "outputs": [],
   "source": [
    "# replace the epoch.events with this audio_visual array\n"
   ]
  },
  {
   "cell_type": "code",
   "execution_count": 15,
   "metadata": {},
   "outputs": [],
   "source": [
    "epoch.events = audio_visual\n"
   ]
  },
  {
   "cell_type": "code",
   "execution_count": 16,
   "metadata": {},
   "outputs": [
    {
     "data": {
      "text/plain": [
       "array([1112, 1112, 1112, ...,  912,  912,  912])"
      ]
     },
     "execution_count": 16,
     "metadata": {},
     "output_type": "execute_result"
    }
   ],
   "source": [
    "audio_visual[:,-1]"
   ]
  },
  {
   "cell_type": "markdown",
   "metadata": {},
   "source": [
    "### epoch object has been updated with events that can be used for classification\n",
    "epoch.events[:,-1] < 700 = audio  \n",
    "epoch.events[:,-1] > 700 = visual"
   ]
  },
  {
   "cell_type": "code",
   "execution_count": 17,
   "metadata": {},
   "outputs": [],
   "source": [
    "# create a labels array\n",
    "# let 0 = audio, 1 = visual\n",
    "\n",
    "labels = [0 if (x < 700) else 1 for x in audio_visual[:,-1]]"
   ]
  },
  {
   "cell_type": "code",
   "execution_count": 18,
   "metadata": {},
   "outputs": [],
   "source": [
    "labels_np = np.array(labels)"
   ]
  },
  {
   "cell_type": "code",
   "execution_count": 19,
   "metadata": {},
   "outputs": [],
   "source": [
    "# get imports used for classification algos \n",
    "\n",
    "from mne.decoding import Vectorizer, get_coef\n",
    "from sklearn.preprocessing import MinMaxScaler\n",
    "from sklearn.preprocessing import StandardScaler\n",
    "from sklearn.pipeline import make_pipeline\n",
    "from sklearn.linear_model import LogisticRegression\n",
    "from sklearn.model_selection import train_test_split\n",
    "from sklearn.model_selection import StratifiedKFold\n",
    "from sklearn.metrics import classification_report\n",
    "from sklearn.svm import SVC  # noqa\n",
    "from sklearn.model_selection import ShuffleSplit  # noqa\n",
    "\n",
    "from sklearn.metrics import confusion_matrix\n",
    "from mne.viz import tight_layout"
   ]
  },
  {
   "cell_type": "code",
   "execution_count": 20,
   "metadata": {},
   "outputs": [],
   "source": [
    "# perform logistic regression, use cross validation\n",
    "\n",
    "clf = make_pipeline(\n",
    "                    Vectorizer(),\n",
    "#                     MinMaxScaler(),\n",
    "                    LogisticRegression(C=1))\n",
    "\n",
    "cv = StratifiedKFold(n_splits = 10, shuffle = True, random_state = 42)\n",
    "# vectorizer = Vectorizer()\n",
    "# data = vectorizer.fit_transform(filtered_epoch_lex._data)\n",
    "# clf = LogisticRegression()\n"
   ]
  },
  {
   "cell_type": "code",
   "execution_count": 21,
   "metadata": {},
   "outputs": [],
   "source": [
    "preds = np.empty(len(epoch._data))\n",
    "coeff = []\n",
    "data = epoch._data"
   ]
  },
  {
   "cell_type": "code",
   "execution_count": 22,
   "metadata": {},
   "outputs": [
    {
     "name": "stdout",
     "output_type": "stream",
     "text": [
      "             precision    recall  f1-score   support\n",
      "\n",
      "      Audio       0.54      0.63      0.58      1011\n",
      "     Visual       0.49      0.40      0.44       897\n",
      "\n",
      "avg / total       0.52      0.52      0.52      1908\n",
      "\n"
     ]
    }
   ],
   "source": [
    "for train, test in cv.split(data, labels_np):\n",
    "    clf.fit(data[train], labels_np[train])\n",
    "    coeff.append(get_coef(clf,'coef_'))\n",
    "    preds[test] = clf.predict(data[test])\n",
    "    \n",
    "target_names = [ 'Audio', 'Visual']\n",
    "report = classification_report(labels, preds, target_names=target_names)\n",
    "print(report)"
   ]
  },
  {
   "cell_type": "code",
   "execution_count": 23,
   "metadata": {},
   "outputs": [],
   "source": [
    "from sklearn.model_selection import cross_val_score\n"
   ]
  },
  {
   "cell_type": "code",
   "execution_count": 24,
   "metadata": {},
   "outputs": [],
   "source": [
    "scores = cross_val_score(clf, data, labels, cv=10, scoring='accuracy')"
   ]
  },
  {
   "cell_type": "code",
   "execution_count": 25,
   "metadata": {},
   "outputs": [
    {
     "data": {
      "text/plain": [
       "array([0.38541667, 0.63874346, 0.4921466 , 0.27748691, 0.48691099,\n",
       "       0.11518325, 0.55497382, 0.4       , 0.45789474, 0.53157895])"
      ]
     },
     "execution_count": 25,
     "metadata": {},
     "output_type": "execute_result"
    }
   ],
   "source": [
    "scores"
   ]
  },
  {
   "cell_type": "code",
   "execution_count": 27,
   "metadata": {},
   "outputs": [
    {
     "data": {
      "text/plain": [
       "(1908, 123, 257)"
      ]
     },
     "execution_count": 27,
     "metadata": {},
     "output_type": "execute_result"
    }
   ],
   "source": [
    "epoch.get_data().shape"
   ]
  },
  {
   "cell_type": "markdown",
   "metadata": {},
   "source": [
    "# TO DO:\n",
    "1. analyze the coefficients\n",
    "    1. reshape them into 123x500 (currently in vectorized form (1x61500)\n",
    "    2. for each coefficient matrix, find mean across 500ms. \n",
    "    3. find the channels (rows)  with the highest mean. \n",
    "    4. Compare them across all coeff matricies. Are the channels  the same? "
   ]
  },
  {
   "cell_type": "code",
   "execution_count": 26,
   "metadata": {},
   "outputs": [],
   "source": [
    "def reshape_coeff_matrix(x, step = 500):\n",
    "    \"\"\"\n",
    "    A method to reshape a 1D list of coefficients into the coefficient matrix: \n",
    "    example: (1, 615000) --> (123, 500)\n",
    "    \n",
    "    NOTE: YOU NEED TO IMPORT numpy as np to use this method\n",
    "    \n",
    "    Arguments: \n",
    "    - x = the current, 1D list of coefficients that needs to be reshaped. \n",
    "    - step = the desired length of one row in the new matrix (default = 500)\n",
    "    \n",
    "    Return:\n",
    "    - A 2D np array with the desired shape\n",
    "    \"\"\"\n",
    "    reshaped = []\n",
    "    \n",
    "    for i in range(0,len(x), step): \n",
    "        temp = []\n",
    "        for j in range(i,i+step):\n",
    "            temp.append(x[j])\n",
    "    \n",
    "        reshaped.append(temp)\n",
    "    \n",
    "    return np.array(reshaped)\n",
    "\n",
    "    \n",
    "    \n",
    "    "
   ]
  },
  {
   "cell_type": "code",
   "execution_count": 28,
   "metadata": {},
   "outputs": [],
   "source": [
    "# Use the helper function to reshape all of the coefficients in coeff\n",
    "coeff_matrices = []\n",
    "\n",
    "for i in coeff:\n",
    "    coeff_matrices.append(reshape_coeff_matrix(i[0], 257))"
   ]
  },
  {
   "cell_type": "code",
   "execution_count": 29,
   "metadata": {},
   "outputs": [
    {
     "name": "stdout",
     "output_type": "stream",
     "text": [
      "10\n",
      "<class 'numpy.ndarray'>\n",
      "Are the coeff matrices the same now? :  [[ True False False ... False False False]\n",
      " [ True False False ... False False False]\n",
      " [ True False False ... False False False]\n",
      " ...\n",
      " [ True False False ... False False False]\n",
      " [ True False False ... False False False]\n",
      " [False  True  True ... False  True False]]\n"
     ]
    }
   ],
   "source": [
    "print(len(coeff_matrices))\n",
    "print(type(coeff_matrices[0]))\n",
    "print(\"Are the coeff matrices the same now? : \", coeff_matrices[0] == coeff_matrices[1])"
   ]
  },
  {
   "cell_type": "markdown",
   "metadata": {},
   "source": [
    "## Ranking the channel + coefficients \n",
    "- To do this, I'm going to rank the channels based on the mean of their coefficients over the 500ms period. \n",
    "- Do this for each ofthe 10 coefficient matricies that are produced. \n",
    "- The hypothesis is that the same channels should appear at the top, meaning they are the same channels being used to do the classification every time (highest coefficients)"
   ]
  },
  {
   "cell_type": "code",
   "execution_count": 30,
   "metadata": {},
   "outputs": [],
   "source": [
    "coeff_matrices_mean = []\n",
    "\n",
    "for x in coeff_matrices:\n",
    "    avg = []\n",
    "    for i in range(len(x)):\n",
    "        avg.append(np.mean(x[i]))\n",
    "    coeff_matrices_mean.append(avg)\n",
    "\n",
    "\n",
    "    "
   ]
  },
  {
   "cell_type": "code",
   "execution_count": 31,
   "metadata": {},
   "outputs": [],
   "source": [
    "coeff_matrices_mean_np = np.array(coeff_matrices_mean)"
   ]
  },
  {
   "cell_type": "code",
   "execution_count": 32,
   "metadata": {},
   "outputs": [
    {
     "data": {
      "text/plain": [
       "(10, 123)"
      ]
     },
     "execution_count": 32,
     "metadata": {},
     "output_type": "execute_result"
    }
   ],
   "source": [
    "coeff_matrices_mean_np.shape"
   ]
  },
  {
   "cell_type": "code",
   "execution_count": 35,
   "metadata": {},
   "outputs": [],
   "source": [
    "channels = epoch.ch_names"
   ]
  },
  {
   "cell_type": "code",
   "execution_count": 36,
   "metadata": {},
   "outputs": [],
   "source": [
    "# map the means to the channels\n",
    "\n",
    "coeff_means_channels = []\n",
    "\n",
    "for x in range(len(coeff_matrices_mean_np)):\n",
    "    coeff_means_channels.append(dict(zip(channels, coeff_matrices_mean_np[x])))\n"
   ]
  },
  {
   "cell_type": "code",
   "execution_count": 37,
   "metadata": {},
   "outputs": [
    {
     "data": {
      "text/plain": [
       "{'LE1': 5.5455132980337865e-05,\n",
       " 'LE3': 7.117605917909207e-05,\n",
       " 'LD2': 9.262755061726013e-05,\n",
       " 'LD5': 8.116845846595989e-05,\n",
       " 'LC3': 6.44873634647799e-05,\n",
       " 'LC6': 0.00010175674872306134,\n",
       " 'LB1': 4.35533621616411e-05,\n",
       " 'LB4': 8.246081987266965e-05,\n",
       " 'LA2': 2.787576814215029e-05,\n",
       " 'LA5': 7.576090618823566e-05,\n",
       " 'LL1': -3.94675734439742e-05,\n",
       " 'LL7': 1.732270909008421e-05,\n",
       " 'LL10': 2.1511755216338164e-05,\n",
       " 'LL13': 6.194467913532567e-05,\n",
       " 'L3': -8.028340290636345e-05,\n",
       " 'L6': -5.835908737308474e-05,\n",
       " 'L9': 5.642999144009845e-07,\n",
       " 'Z1': -9.805664977002622e-05,\n",
       " 'Z4': -7.314674020216804e-05,\n",
       " 'Z7': -3.8403680709907256e-05,\n",
       " 'Z10': 1.984414425000182e-05,\n",
       " 'Z13': 5.405286924695727e-05,\n",
       " 'R3': -0.00012551052516151764,\n",
       " 'R6': -8.923200650825207e-05,\n",
       " 'R9': -3.708681409285283e-05,\n",
       " 'R12': 4.8540844945763665e-05,\n",
       " 'RR1': -0.00010843927112706673,\n",
       " 'RR4': -0.0001247539806701419,\n",
       " 'RR7': -7.517744448771468e-05,\n",
       " 'RR10': 8.981421927135389e-06,\n",
       " 'RR13': 6.36056875155772e-05,\n",
       " 'RA2': -6.378243335128828e-05,\n",
       " 'RA5': 1.126589257074006e-05,\n",
       " 'RB1': -8.261094484699896e-05,\n",
       " 'RB4': -2.2699245250478472e-05,\n",
       " 'RC3': -2.4556794133170454e-05,\n",
       " 'RC6': 2.5945875525424973e-05,\n",
       " 'RD2': -6.60152668026401e-05,\n",
       " 'RD5': -3.149323584494751e-05,\n",
       " 'RE1': -4.473655099286903e-05,\n",
       " 'RE3': 8.115196367532702e-05,\n",
       " 'RE4': 1.7552705442472992e-05,\n",
       " 'RD1': -9.245718449520188e-05,\n",
       " 'RD3': -2.383351070199339e-05,\n",
       " 'RD4': -1.5382212486541216e-05,\n",
       " 'RD6': 3.0429101250655015e-05,\n",
       " 'RD7': 6.114428700039598e-05,\n",
       " 'RC1': -5.9501335507566985e-05,\n",
       " 'RC2': -5.846380766429795e-05,\n",
       " 'RC4': -2.263758033033495e-05,\n",
       " 'RC5': 1.2513876100737013e-06,\n",
       " 'RC7': 2.8403536905771577e-05,\n",
       " 'RB2': -8.309925776807347e-05,\n",
       " 'RB3': -4.7905742145987835e-05,\n",
       " 'RB5': -3.288453400016492e-05,\n",
       " 'RB6': 2.6420591680200394e-05,\n",
       " 'RA1': -7.299083076395648e-05,\n",
       " 'RA3': -5.7752438142961865e-05,\n",
       " 'RA4': -3.942261014879039e-05,\n",
       " 'RR2': -6.863184881463353e-05,\n",
       " 'RR3': -9.15093589949398e-05,\n",
       " 'RR5': -7.102284916509783e-05,\n",
       " 'RR6': -7.787095556221885e-05,\n",
       " 'RR8': -5.286043465909006e-05,\n",
       " 'RR9': -4.668748022326528e-05,\n",
       " 'RR11': 5.9402102992581014e-05,\n",
       " 'RR12': 8.504677258308479e-05,\n",
       " 'R1': -9.081227634779092e-05,\n",
       " 'R2': -9.732279951490998e-05,\n",
       " 'R4': -0.00010369010246458367,\n",
       " 'R5': -0.00011567437107333016,\n",
       " 'R7': -7.045015280878133e-05,\n",
       " 'R8': -7.374124600601429e-05,\n",
       " 'R10': -2.368335087502032e-06,\n",
       " 'R11': 7.378134030270315e-05,\n",
       " 'R13': 5.9879647203805055e-05,\n",
       " 'R14': 5.089364367624582e-05,\n",
       " 'Z2': -0.00011024549134740632,\n",
       " 'Z3': -7.989258944956822e-05,\n",
       " 'Z5': -9.889356091255718e-05,\n",
       " 'Z6': -0.00010326145382553973,\n",
       " 'Z8': -1.3252792587981767e-05,\n",
       " 'Z9': 1.1102440540681933e-06,\n",
       " 'Z11': 3.003731741644945e-05,\n",
       " 'Z12': 3.211143002488359e-05,\n",
       " 'Z14': 9.114353424173161e-05,\n",
       " 'L1': -5.967381094259899e-05,\n",
       " 'L2': -9.856540535274039e-05,\n",
       " 'L4': -5.1356858873719663e-05,\n",
       " 'L5': -5.8923126123686397e-05,\n",
       " 'L7': -3.458706492344007e-05,\n",
       " 'L8': 2.998675926161966e-05,\n",
       " 'L10': 1.10537087610853e-05,\n",
       " 'L11': 2.3531620359788152e-05,\n",
       " 'L13': 5.818849482641778e-05,\n",
       " 'L14': 0.00011807469142475822,\n",
       " 'LL2': -2.3139855967159145e-05,\n",
       " 'LL3': -3.633932325898303e-05,\n",
       " 'LL5': -3.1201679116387774e-05,\n",
       " 'LL6': -4.2784084095711e-05,\n",
       " 'LL8': 1.2581082082070652e-05,\n",
       " 'LL9': 1.5674264545035305e-05,\n",
       " 'LL11': -3.8667799767767675e-06,\n",
       " 'LL12': 5.2080415887849925e-05,\n",
       " 'LA1': 1.1373213474547417e-05,\n",
       " 'LA3': 6.972706668429565e-05,\n",
       " 'LA4': 7.294551007813096e-05,\n",
       " 'LB2': 6.944748776112622e-05,\n",
       " 'LB3': 6.91498964756168e-05,\n",
       " 'LB5': 5.738530946631264e-05,\n",
       " 'LB6': 6.89031418800373e-05,\n",
       " 'LC1': 4.307364967101904e-05,\n",
       " 'LC2': 6.651410561529618e-05,\n",
       " 'LC4': 0.0001410538916690834,\n",
       " 'LC5': 0.00013940377614864627,\n",
       " 'LC7': 7.439079511036349e-05,\n",
       " 'LD1': 2.0775700114012354e-05,\n",
       " 'LD3': 7.177944188284732e-05,\n",
       " 'LD4': 8.045106729600532e-05,\n",
       " 'LD6': 0.00010642483131002586,\n",
       " 'LD7': 7.412844082228355e-05,\n",
       " 'LE4': 5.728923217535206e-05,\n",
       " 'STI 014': -0.0019072270790496013}"
      ]
     },
     "execution_count": 37,
     "metadata": {},
     "output_type": "execute_result"
    }
   ],
   "source": [
    "coeff_means_channels[0]"
   ]
  },
  {
   "cell_type": "code",
   "execution_count": 38,
   "metadata": {},
   "outputs": [],
   "source": [
    "# convert all mean coefficients to abs value \n",
    "\n",
    "for d in coeff_means_channels:\n",
    "    for k in d: \n",
    "        d[k] = abs(d[k])"
   ]
  },
  {
   "cell_type": "code",
   "execution_count": 39,
   "metadata": {},
   "outputs": [
    {
     "data": {
      "text/plain": [
       "{'LE1': 5.5455132980337865e-05,\n",
       " 'LE3': 7.117605917909207e-05,\n",
       " 'LD2': 9.262755061726013e-05,\n",
       " 'LD5': 8.116845846595989e-05,\n",
       " 'LC3': 6.44873634647799e-05,\n",
       " 'LC6': 0.00010175674872306134,\n",
       " 'LB1': 4.35533621616411e-05,\n",
       " 'LB4': 8.246081987266965e-05,\n",
       " 'LA2': 2.787576814215029e-05,\n",
       " 'LA5': 7.576090618823566e-05,\n",
       " 'LL1': 3.94675734439742e-05,\n",
       " 'LL7': 1.732270909008421e-05,\n",
       " 'LL10': 2.1511755216338164e-05,\n",
       " 'LL13': 6.194467913532567e-05,\n",
       " 'L3': 8.028340290636345e-05,\n",
       " 'L6': 5.835908737308474e-05,\n",
       " 'L9': 5.642999144009845e-07,\n",
       " 'Z1': 9.805664977002622e-05,\n",
       " 'Z4': 7.314674020216804e-05,\n",
       " 'Z7': 3.8403680709907256e-05,\n",
       " 'Z10': 1.984414425000182e-05,\n",
       " 'Z13': 5.405286924695727e-05,\n",
       " 'R3': 0.00012551052516151764,\n",
       " 'R6': 8.923200650825207e-05,\n",
       " 'R9': 3.708681409285283e-05,\n",
       " 'R12': 4.8540844945763665e-05,\n",
       " 'RR1': 0.00010843927112706673,\n",
       " 'RR4': 0.0001247539806701419,\n",
       " 'RR7': 7.517744448771468e-05,\n",
       " 'RR10': 8.981421927135389e-06,\n",
       " 'RR13': 6.36056875155772e-05,\n",
       " 'RA2': 6.378243335128828e-05,\n",
       " 'RA5': 1.126589257074006e-05,\n",
       " 'RB1': 8.261094484699896e-05,\n",
       " 'RB4': 2.2699245250478472e-05,\n",
       " 'RC3': 2.4556794133170454e-05,\n",
       " 'RC6': 2.5945875525424973e-05,\n",
       " 'RD2': 6.60152668026401e-05,\n",
       " 'RD5': 3.149323584494751e-05,\n",
       " 'RE1': 4.473655099286903e-05,\n",
       " 'RE3': 8.115196367532702e-05,\n",
       " 'RE4': 1.7552705442472992e-05,\n",
       " 'RD1': 9.245718449520188e-05,\n",
       " 'RD3': 2.383351070199339e-05,\n",
       " 'RD4': 1.5382212486541216e-05,\n",
       " 'RD6': 3.0429101250655015e-05,\n",
       " 'RD7': 6.114428700039598e-05,\n",
       " 'RC1': 5.9501335507566985e-05,\n",
       " 'RC2': 5.846380766429795e-05,\n",
       " 'RC4': 2.263758033033495e-05,\n",
       " 'RC5': 1.2513876100737013e-06,\n",
       " 'RC7': 2.8403536905771577e-05,\n",
       " 'RB2': 8.309925776807347e-05,\n",
       " 'RB3': 4.7905742145987835e-05,\n",
       " 'RB5': 3.288453400016492e-05,\n",
       " 'RB6': 2.6420591680200394e-05,\n",
       " 'RA1': 7.299083076395648e-05,\n",
       " 'RA3': 5.7752438142961865e-05,\n",
       " 'RA4': 3.942261014879039e-05,\n",
       " 'RR2': 6.863184881463353e-05,\n",
       " 'RR3': 9.15093589949398e-05,\n",
       " 'RR5': 7.102284916509783e-05,\n",
       " 'RR6': 7.787095556221885e-05,\n",
       " 'RR8': 5.286043465909006e-05,\n",
       " 'RR9': 4.668748022326528e-05,\n",
       " 'RR11': 5.9402102992581014e-05,\n",
       " 'RR12': 8.504677258308479e-05,\n",
       " 'R1': 9.081227634779092e-05,\n",
       " 'R2': 9.732279951490998e-05,\n",
       " 'R4': 0.00010369010246458367,\n",
       " 'R5': 0.00011567437107333016,\n",
       " 'R7': 7.045015280878133e-05,\n",
       " 'R8': 7.374124600601429e-05,\n",
       " 'R10': 2.368335087502032e-06,\n",
       " 'R11': 7.378134030270315e-05,\n",
       " 'R13': 5.9879647203805055e-05,\n",
       " 'R14': 5.089364367624582e-05,\n",
       " 'Z2': 0.00011024549134740632,\n",
       " 'Z3': 7.989258944956822e-05,\n",
       " 'Z5': 9.889356091255718e-05,\n",
       " 'Z6': 0.00010326145382553973,\n",
       " 'Z8': 1.3252792587981767e-05,\n",
       " 'Z9': 1.1102440540681933e-06,\n",
       " 'Z11': 3.003731741644945e-05,\n",
       " 'Z12': 3.211143002488359e-05,\n",
       " 'Z14': 9.114353424173161e-05,\n",
       " 'L1': 5.967381094259899e-05,\n",
       " 'L2': 9.856540535274039e-05,\n",
       " 'L4': 5.1356858873719663e-05,\n",
       " 'L5': 5.8923126123686397e-05,\n",
       " 'L7': 3.458706492344007e-05,\n",
       " 'L8': 2.998675926161966e-05,\n",
       " 'L10': 1.10537087610853e-05,\n",
       " 'L11': 2.3531620359788152e-05,\n",
       " 'L13': 5.818849482641778e-05,\n",
       " 'L14': 0.00011807469142475822,\n",
       " 'LL2': 2.3139855967159145e-05,\n",
       " 'LL3': 3.633932325898303e-05,\n",
       " 'LL5': 3.1201679116387774e-05,\n",
       " 'LL6': 4.2784084095711e-05,\n",
       " 'LL8': 1.2581082082070652e-05,\n",
       " 'LL9': 1.5674264545035305e-05,\n",
       " 'LL11': 3.8667799767767675e-06,\n",
       " 'LL12': 5.2080415887849925e-05,\n",
       " 'LA1': 1.1373213474547417e-05,\n",
       " 'LA3': 6.972706668429565e-05,\n",
       " 'LA4': 7.294551007813096e-05,\n",
       " 'LB2': 6.944748776112622e-05,\n",
       " 'LB3': 6.91498964756168e-05,\n",
       " 'LB5': 5.738530946631264e-05,\n",
       " 'LB6': 6.89031418800373e-05,\n",
       " 'LC1': 4.307364967101904e-05,\n",
       " 'LC2': 6.651410561529618e-05,\n",
       " 'LC4': 0.0001410538916690834,\n",
       " 'LC5': 0.00013940377614864627,\n",
       " 'LC7': 7.439079511036349e-05,\n",
       " 'LD1': 2.0775700114012354e-05,\n",
       " 'LD3': 7.177944188284732e-05,\n",
       " 'LD4': 8.045106729600532e-05,\n",
       " 'LD6': 0.00010642483131002586,\n",
       " 'LD7': 7.412844082228355e-05,\n",
       " 'LE4': 5.728923217535206e-05,\n",
       " 'STI 014': 0.0019072270790496013}"
      ]
     },
     "execution_count": 39,
     "metadata": {},
     "output_type": "execute_result"
    }
   ],
   "source": [
    "coeff_means_channels[0]"
   ]
  },
  {
   "cell_type": "code",
   "execution_count": 40,
   "metadata": {},
   "outputs": [],
   "source": [
    "# sort each dictionary in coeff_means_channels in order to rank them. should expect to see the same channels at the top\n",
    "# for each dict\n"
   ]
  },
  {
   "cell_type": "code",
   "execution_count": 41,
   "metadata": {},
   "outputs": [],
   "source": [
    "sorted_means_channels = []\n",
    "\n",
    "for x in range(len(coeff_means_channels)):\n",
    "    d = coeff_means_channels[x]\n",
    "    sorted_means_channels.append(sorted(d, key=d.get, reverse=True))"
   ]
  },
  {
   "cell_type": "code",
   "execution_count": 42,
   "metadata": {},
   "outputs": [
    {
     "data": {
      "text/plain": [
       "['STI 014',\n",
       " 'LC4',\n",
       " 'LC5',\n",
       " 'R3',\n",
       " 'RR4',\n",
       " 'L14',\n",
       " 'R5',\n",
       " 'Z2',\n",
       " 'RR1',\n",
       " 'LD6',\n",
       " 'R4',\n",
       " 'Z6',\n",
       " 'LC6',\n",
       " 'Z5',\n",
       " 'L2',\n",
       " 'Z1',\n",
       " 'R2',\n",
       " 'LD2',\n",
       " 'RD1',\n",
       " 'RR3',\n",
       " 'Z14',\n",
       " 'R1',\n",
       " 'R6',\n",
       " 'RR12',\n",
       " 'RB2',\n",
       " 'RB1',\n",
       " 'LB4',\n",
       " 'LD5',\n",
       " 'RE3',\n",
       " 'LD4',\n",
       " 'L3',\n",
       " 'Z3',\n",
       " 'RR6',\n",
       " 'LA5',\n",
       " 'RR7',\n",
       " 'LC7',\n",
       " 'LD7',\n",
       " 'R11',\n",
       " 'R8',\n",
       " 'Z4',\n",
       " 'RA1',\n",
       " 'LA4',\n",
       " 'LD3',\n",
       " 'LE3',\n",
       " 'RR5',\n",
       " 'R7',\n",
       " 'LA3',\n",
       " 'LB2',\n",
       " 'LB3',\n",
       " 'LB6',\n",
       " 'RR2',\n",
       " 'LC2',\n",
       " 'RD2',\n",
       " 'LC3',\n",
       " 'RA2',\n",
       " 'RR13',\n",
       " 'LL13',\n",
       " 'RD7',\n",
       " 'R13',\n",
       " 'L1',\n",
       " 'RC1',\n",
       " 'RR11',\n",
       " 'L5',\n",
       " 'RC2',\n",
       " 'L6',\n",
       " 'L13',\n",
       " 'RA3',\n",
       " 'LB5',\n",
       " 'LE4',\n",
       " 'LE1',\n",
       " 'Z13',\n",
       " 'RR8',\n",
       " 'LL12',\n",
       " 'L4',\n",
       " 'R14',\n",
       " 'R12',\n",
       " 'RB3',\n",
       " 'RR9',\n",
       " 'RE1',\n",
       " 'LB1',\n",
       " 'LC1',\n",
       " 'LL6',\n",
       " 'LL1',\n",
       " 'RA4',\n",
       " 'Z7',\n",
       " 'R9',\n",
       " 'LL3',\n",
       " 'L7',\n",
       " 'RB5',\n",
       " 'Z12',\n",
       " 'RD5',\n",
       " 'LL5',\n",
       " 'RD6',\n",
       " 'Z11',\n",
       " 'L8',\n",
       " 'RC7',\n",
       " 'LA2',\n",
       " 'RB6',\n",
       " 'RC6',\n",
       " 'RC3',\n",
       " 'RD3',\n",
       " 'L11',\n",
       " 'LL2',\n",
       " 'RB4',\n",
       " 'RC4',\n",
       " 'LL10',\n",
       " 'LD1',\n",
       " 'Z10',\n",
       " 'RE4',\n",
       " 'LL7',\n",
       " 'LL9',\n",
       " 'RD4',\n",
       " 'Z8',\n",
       " 'LL8',\n",
       " 'LA1',\n",
       " 'RA5',\n",
       " 'L10',\n",
       " 'RR10',\n",
       " 'LL11',\n",
       " 'R10',\n",
       " 'RC5',\n",
       " 'Z9',\n",
       " 'L9']"
      ]
     },
     "execution_count": 42,
     "metadata": {},
     "output_type": "execute_result"
    }
   ],
   "source": [
    "sorted_means_channels[0]"
   ]
  },
  {
   "cell_type": "code",
   "execution_count": 43,
   "metadata": {},
   "outputs": [
    {
     "data": {
      "text/plain": [
       "['STI 014',\n",
       " 'LC5',\n",
       " 'LC4',\n",
       " 'LD6',\n",
       " 'R5',\n",
       " 'LC6',\n",
       " 'Z6',\n",
       " 'Z5',\n",
       " 'R6',\n",
       " 'R4',\n",
       " 'RR4',\n",
       " 'RR12',\n",
       " 'R3',\n",
       " 'RR5',\n",
       " 'Z14',\n",
       " 'LC7',\n",
       " 'RR7',\n",
       " 'LD2',\n",
       " 'LD7',\n",
       " 'LB2',\n",
       " 'RR6',\n",
       " 'LD4',\n",
       " 'LB1',\n",
       " 'LA5',\n",
       " 'RA1',\n",
       " 'Z2',\n",
       " 'R7',\n",
       " 'LC2',\n",
       " 'LB3',\n",
       " 'LB6',\n",
       " 'RB1',\n",
       " 'LD5',\n",
       " 'LB4',\n",
       " 'Z4',\n",
       " 'R2',\n",
       " 'LL13',\n",
       " 'LD3',\n",
       " 'LA3',\n",
       " 'RR3',\n",
       " 'RA2',\n",
       " 'L13',\n",
       " 'RB2',\n",
       " 'R11',\n",
       " 'Z13',\n",
       " 'RR1',\n",
       " 'R13',\n",
       " 'R1',\n",
       " 'LC3',\n",
       " 'LA4',\n",
       " 'RE1',\n",
       " 'Z1',\n",
       " 'RD5',\n",
       " 'LB5',\n",
       " 'RC2',\n",
       " 'RR13',\n",
       " 'RR11',\n",
       " 'LC1',\n",
       " 'RA3',\n",
       " 'L2',\n",
       " 'LE4',\n",
       " 'LL12',\n",
       " 'R14',\n",
       " 'LE3',\n",
       " 'Z3',\n",
       " 'RB3',\n",
       " 'RD1',\n",
       " 'L5',\n",
       " 'L14',\n",
       " 'L3',\n",
       " 'RD2',\n",
       " 'L6',\n",
       " 'RR8',\n",
       " 'RR2',\n",
       " 'RD3',\n",
       " 'R12',\n",
       " 'R8',\n",
       " 'L4',\n",
       " 'RB5',\n",
       " 'RD4',\n",
       " 'R9',\n",
       " 'RA4',\n",
       " 'RR9',\n",
       " 'LD1',\n",
       " 'RE3',\n",
       " 'Z11',\n",
       " 'LL10',\n",
       " 'LL5',\n",
       " 'RC3',\n",
       " 'RE4',\n",
       " 'L1',\n",
       " 'LL6',\n",
       " 'RC4',\n",
       " 'RC5',\n",
       " 'RC1',\n",
       " 'LA2',\n",
       " 'L7',\n",
       " 'LA1',\n",
       " 'L11',\n",
       " 'L8',\n",
       " 'Z7',\n",
       " 'Z12',\n",
       " 'RB4',\n",
       " 'LL7',\n",
       " 'L10',\n",
       " 'LL9',\n",
       " 'RD7',\n",
       " 'Z8',\n",
       " 'LL8',\n",
       " 'LE1',\n",
       " 'Z10',\n",
       " 'LL3',\n",
       " 'L9',\n",
       " 'LL1',\n",
       " 'RB6',\n",
       " 'RC7',\n",
       " 'LL11',\n",
       " 'RA5',\n",
       " 'RR10',\n",
       " 'Z9',\n",
       " 'RC6',\n",
       " 'LL2',\n",
       " 'RD6',\n",
       " 'R10']"
      ]
     },
     "execution_count": 43,
     "metadata": {},
     "output_type": "execute_result"
    }
   ],
   "source": [
    "sorted_means_channels[1]"
   ]
  },
  {
   "cell_type": "markdown",
   "metadata": {},
   "source": [
    "## Analysis of these sorted channel names "
   ]
  },
  {
   "cell_type": "code",
   "execution_count": 44,
   "metadata": {},
   "outputs": [],
   "source": [
    "# take the top 30 ranking channels, based on their mean coefficients, from all 10 iterations of the classification.\n",
    "# Are the top 30 the same across all 10 iterations?\n",
    "# note: I took the top 30, because 30 is roughly 25% of 123\n",
    "\n",
    "top20 = []\n",
    "\n",
    "for x in sorted_means_channels:\n",
    "    top20.append(x[:20])"
   ]
  },
  {
   "cell_type": "code",
   "execution_count": 45,
   "metadata": {},
   "outputs": [],
   "source": [
    "top20_np = np.array(top20)"
   ]
  },
  {
   "cell_type": "code",
   "execution_count": 46,
   "metadata": {},
   "outputs": [
    {
     "data": {
      "text/plain": [
       "(10, 20)"
      ]
     },
     "execution_count": 46,
     "metadata": {},
     "output_type": "execute_result"
    }
   ],
   "source": [
    "top20_np.shape"
   ]
  },
  {
   "cell_type": "code",
   "execution_count": 47,
   "metadata": {},
   "outputs": [],
   "source": [
    "top20_flat = top20_np.flatten()"
   ]
  },
  {
   "cell_type": "code",
   "execution_count": 48,
   "metadata": {},
   "outputs": [
    {
     "data": {
      "text/plain": [
       "(200,)"
      ]
     },
     "execution_count": 48,
     "metadata": {},
     "output_type": "execute_result"
    }
   ],
   "source": [
    "top20_flat.shape"
   ]
  },
  {
   "cell_type": "code",
   "execution_count": 49,
   "metadata": {},
   "outputs": [],
   "source": [
    "from collections import Counter\n",
    "\n",
    "data = Counter(top20_flat)"
   ]
  },
  {
   "cell_type": "code",
   "execution_count": 50,
   "metadata": {},
   "outputs": [
    {
     "data": {
      "text/plain": [
       "Counter({'STI 014': 10,\n",
       "         'LC4': 9,\n",
       "         'LC5': 10,\n",
       "         'R3': 10,\n",
       "         'RR4': 10,\n",
       "         'L14': 1,\n",
       "         'R5': 10,\n",
       "         'Z2': 6,\n",
       "         'RR1': 6,\n",
       "         'LD6': 9,\n",
       "         'R4': 10,\n",
       "         'Z6': 7,\n",
       "         'LC6': 9,\n",
       "         'Z5': 10,\n",
       "         'L2': 6,\n",
       "         'Z1': 6,\n",
       "         'R2': 5,\n",
       "         'LD2': 3,\n",
       "         'RD1': 4,\n",
       "         'RR3': 3,\n",
       "         'R6': 4,\n",
       "         'RR12': 9,\n",
       "         'RR5': 2,\n",
       "         'Z14': 2,\n",
       "         'LC7': 3,\n",
       "         'RR7': 1,\n",
       "         'LD7': 2,\n",
       "         'LB2': 1,\n",
       "         'R1': 2,\n",
       "         'R11': 7,\n",
       "         'RR13': 5,\n",
       "         'LB4': 2,\n",
       "         'RA1': 2,\n",
       "         'LA5': 2,\n",
       "         'RB1': 1,\n",
       "         'RD7': 3,\n",
       "         'Z4': 3,\n",
       "         'L3': 3,\n",
       "         'Z3': 1,\n",
       "         'RE4': 1})"
      ]
     },
     "execution_count": 50,
     "metadata": {},
     "output_type": "execute_result"
    }
   ],
   "source": [
    "data"
   ]
  },
  {
   "cell_type": "code",
   "execution_count": 51,
   "metadata": {},
   "outputs": [
    {
     "data": {
      "text/plain": [
       "10"
      ]
     },
     "execution_count": 51,
     "metadata": {},
     "output_type": "execute_result"
    }
   ],
   "source": [
    "data.pop('STI 014')"
   ]
  },
  {
   "cell_type": "code",
   "execution_count": 52,
   "metadata": {},
   "outputs": [
    {
     "data": {
      "text/plain": [
       "39"
      ]
     },
     "execution_count": 52,
     "metadata": {},
     "output_type": "execute_result"
    }
   ],
   "source": [
    "len(data.keys())"
   ]
  },
  {
   "cell_type": "code",
   "execution_count": 53,
   "metadata": {},
   "outputs": [
    {
     "data": {
      "image/png": "[encoded data removed]",
      "text/plain": [
       "<Figure size 2880x1440 with 1 Axes>"
      ]
     },
     "metadata": {
      "needs_background": "light"
     },
     "output_type": "display_data"
    }
   ],
   "source": [
    "fig, ax = plt.subplots()\n",
    "\n",
    "plt.bar(data.keys(), data.values())\n",
    "ax.set_ylabel(\"Number of Appearances in top 20 Significant Coefficients\", fontsize=30)\n",
    "ax.set_xlabel(\"Channel\", fontsize=30)\n",
    "ax.set_title(\"Most Significant Channels in Logistic Regression decision (Based on coefficients)\", fontsize=30)\n",
    "ax.grid(True, axis='y')\n",
    "plt.xticks(np.arange(0, len(data.keys())), data.keys(), rotation=45, fontsize=25);\n",
    "plt.yticks(np.arange(0,11,step=1), fontsize=25 )\n",
    "fig.set_figwidth(40)\n",
    "fig.set_figheight(20)\n",
    "\n",
    "\n",
    "matplotlib.rcParams.update({'font.size': 15})"
   ]
  },
  {
   "cell_type": "code",
   "execution_count": 54,
   "metadata": {},
   "outputs": [
    {
     "name": "stdout",
     "output_type": "stream",
     "text": [
      "Fold  0 :  2.8596634090425724e-08\n",
      "Fold  1 :  4.480449030823439e-09\n",
      "Fold  2 :  1.6130008350308067e-08\n",
      "Fold  3 :  5.458355393112533e-09\n",
      "Fold  4 :  7.640131813054326e-09\n",
      "Fold  5 :  2.7385899661616627e-08\n",
      "Fold  6 :  1.1319028967763044e-08\n",
      "Fold  7 :  3.478857263764455e-09\n",
      "Fold  8 :  3.8784426247025815e-09\n",
      "Fold  9 :  1.0902305828886519e-07\n"
     ]
    }
   ],
   "source": [
    "# check the variance amongst the mean coefficients for all 10 iterations \n",
    "\n",
    "for i in range(len(coeff_means_channels)):\n",
    "    d = coeff_means_channels[i]\n",
    "    values = list(d.values())\n",
    "    print(\"Fold \", i, \": \", np.var(values))\n",
    "    "
   ]
  },
  {
   "cell_type": "code",
   "execution_count": null,
   "metadata": {},
   "outputs": [],
   "source": []
  },
  {
   "cell_type": "code",
   "execution_count": null,
   "metadata": {},
   "outputs": [],
   "source": []
  }
 ],
 "metadata": {
  "kernelspec": {
   "display_name": "Python 3",
   "language": "python",
   "name": "python3"
  },
  "language_info": {
   "codemirror_mode": {
    "name": "ipython",
    "version": 3
   },
   "file_extension": ".py",
   "mimetype": "text/x-python",
   "name": "python",
   "nbconvert_exporter": "python",
   "pygments_lexer": "ipython3",
   "version": "3.6.6"
  }
 },
 "nbformat": 4,
 "nbformat_minor": 2
}
