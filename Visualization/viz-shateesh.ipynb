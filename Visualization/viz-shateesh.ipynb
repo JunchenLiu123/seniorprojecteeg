{
 "cells": [
  {
   "cell_type": "markdown",
   "metadata": {},
   "source": [
    "### Visualization of our EEG data \n",
    "A notebook with different methods to visualize our data and results of classification  \n",
    "Author: Shateesh Bhugwansing"
   ]
  },
  {
   "cell_type": "code",
   "execution_count": 1,
   "metadata": {},
   "outputs": [],
   "source": [
    "%run ../preprocessing/StimCodes.ipynb\n",
    "import mne\n",
    "import numpy as np\n",
    "import matplotlib.pyplot as plt\n",
    "%matplotlib inline\n",
    "import matplotlib\n",
    "matplotlib.rcParams.update({'font.size': 11})"
   ]
  },
  {
   "cell_type": "code",
   "execution_count": 8,
   "metadata": {},
   "outputs": [
    {
     "ename": "ValueError",
     "evalue": "Some errors were detected !\n    Line #5 (got 1 columns instead of 2)\n    Line #6 (got 10 columns instead of 2)\n    Line #7 (got 5 columns instead of 2)\n    Line #8 (got 10 columns instead of 2)\n    Line #9 (got 5 columns instead of 2)\n    Line #10 (got 5 columns instead of 2)\n    Line #11 (got 5 columns instead of 2)\n    Line #12 (got 5 columns instead of 2)\n    Line #13 (got 5 columns instead of 2)\n    Line #14 (got 5 columns instead of 2)\n    Line #15 (got 5 columns instead of 2)\n    Line #16 (got 5 columns instead of 2)\n    Line #17 (got 5 columns instead of 2)\n    Line #18 (got 5 columns instead of 2)\n    Line #19 (got 5 columns instead of 2)\n    Line #20 (got 4 columns instead of 2)\n    Line #21 (got 4 columns instead of 2)\n    Line #22 (got 5 columns instead of 2)\n    Line #23 (got 5 columns instead of 2)\n    Line #24 (got 5 columns instead of 2)\n    Line #25 (got 5 columns instead of 2)\n    Line #26 (got 5 columns instead of 2)\n    Line #27 (got 5 columns instead of 2)\n    Line #28 (got 5 columns instead of 2)\n    Line #29 (got 5 columns instead of 2)\n    Line #30 (got 5 columns instead of 2)\n    Line #31 (got 5 columns instead of 2)\n    Line #32 (got 5 columns instead of 2)\n    Line #33 (got 5 columns instead of 2)\n    Line #34 (got 5 columns instead of 2)\n    Line #35 (got 5 columns instead of 2)\n    Line #36 (got 5 columns instead of 2)\n    Line #37 (got 4 columns instead of 2)\n    Line #38 (got 4 columns instead of 2)\n    Line #39 (got 5 columns instead of 2)\n    Line #40 (got 5 columns instead of 2)\n    Line #41 (got 5 columns instead of 2)\n    Line #42 (got 5 columns instead of 2)\n    Line #43 (got 5 columns instead of 2)\n    Line #44 (got 5 columns instead of 2)\n    Line #45 (got 5 columns instead of 2)\n    Line #46 (got 5 columns instead of 2)\n    Line #47 (got 5 columns instead of 2)\n    Line #48 (got 5 columns instead of 2)\n    Line #49 (got 10 columns instead of 2)\n    Line #50 (got 6 columns instead of 2)\n    Line #51 (got 5 columns instead of 2)\n    Line #52 (got 5 columns instead of 2)\n    Line #53 (got 5 columns instead of 2)\n    Line #54 (got 5 columns instead of 2)\n    Line #55 (got 5 columns instead of 2)\n    Line #56 (got 5 columns instead of 2)\n    Line #57 (got 5 columns instead of 2)\n    Line #58 (got 5 columns instead of 2)\n    Line #59 (got 5 columns instead of 2)\n    Line #60 (got 5 columns instead of 2)\n    Line #61 (got 5 columns instead of 2)\n    Line #62 (got 5 columns instead of 2)\n    Line #63 (got 5 columns instead of 2)\n    Line #64 (got 5 columns instead of 2)\n    Line #65 (got 5 columns instead of 2)\n    Line #66 (got 5 columns instead of 2)\n    Line #67 (got 5 columns instead of 2)\n    Line #68 (got 5 columns instead of 2)\n    Line #69 (got 5 columns instead of 2)\n    Line #70 (got 5 columns instead of 2)\n    Line #71 (got 5 columns instead of 2)\n    Line #72 (got 5 columns instead of 2)\n    Line #73 (got 5 columns instead of 2)\n    Line #74 (got 5 columns instead of 2)\n    Line #75 (got 5 columns instead of 2)\n    Line #76 (got 5 columns instead of 2)\n    Line #77 (got 4 columns instead of 2)\n    Line #78 (got 4 columns instead of 2)\n    Line #79 (got 5 columns instead of 2)\n    Line #80 (got 5 columns instead of 2)\n    Line #81 (got 5 columns instead of 2)\n    Line #82 (got 5 columns instead of 2)\n    Line #83 (got 5 columns instead of 2)\n    Line #84 (got 5 columns instead of 2)\n    Line #85 (got 5 columns instead of 2)\n    Line #86 (got 5 columns instead of 2)\n    Line #87 (got 5 columns instead of 2)\n    Line #88 (got 5 columns instead of 2)\n    Line #89 (got 5 columns instead of 2)\n    Line #90 (got 5 columns instead of 2)\n    Line #91 (got 5 columns instead of 2)\n    Line #92 (got 5 columns instead of 2)\n    Line #93 (got 5 columns instead of 2)\n    Line #94 (got 5 columns instead of 2)\n    Line #95 (got 5 columns instead of 2)\n    Line #96 (got 5 columns instead of 2)\n    Line #97 (got 5 columns instead of 2)\n    Line #98 (got 5 columns instead of 2)\n    Line #99 (got 5 columns instead of 2)\n    Line #100 (got 5 columns instead of 2)\n    Line #101 (got 5 columns instead of 2)\n    Line #102 (got 5 columns instead of 2)\n    Line #103 (got 5 columns instead of 2)\n    Line #104 (got 5 columns instead of 2)\n    Line #105 (got 5 columns instead of 2)\n    Line #106 (got 5 columns instead of 2)\n    Line #107 (got 5 columns instead of 2)\n    Line #108 (got 5 columns instead of 2)\n    Line #109 (got 5 columns instead of 2)\n    Line #110 (got 5 columns instead of 2)\n    Line #111 (got 5 columns instead of 2)\n    Line #112 (got 5 columns instead of 2)\n    Line #113 (got 5 columns instead of 2)\n    Line #114 (got 4 columns instead of 2)\n    Line #115 (got 4 columns instead of 2)\n    Line #116 (got 5 columns instead of 2)\n    Line #117 (got 5 columns instead of 2)\n    Line #118 (got 5 columns instead of 2)\n    Line #119 (got 5 columns instead of 2)\n    Line #120 (got 5 columns instead of 2)\n    Line #121 (got 5 columns instead of 2)\n    Line #122 (got 5 columns instead of 2)\n    Line #123 (got 5 columns instead of 2)\n    Line #124 (got 5 columns instead of 2)\n    Line #125 (got 5 columns instead of 2)\n    Line #126 (got 5 columns instead of 2)\n    Line #127 (got 5 columns instead of 2)\n    Line #128 (got 5 columns instead of 2)\n    Line #129 (got 5 columns instead of 2)\n    Line #130 (got 5 columns instead of 2)\n    Line #131 (got 5 columns instead of 2)\n    Line #132 (got 5 columns instead of 2)\n    Line #133 (got 5 columns instead of 2)\n    Line #134 (got 1 columns instead of 2)\n    Line #135 (got 129 columns instead of 2)",
     "output_type": "error",
     "traceback": [
      "\u001b[0;31m---------------------------------------------------------------------------\u001b[0m",
      "\u001b[0;31mValueError\u001b[0m                                Traceback (most recent call last)",
      "\u001b[0;32m<ipython-input-8-5182fc7d27f7>\u001b[0m in \u001b[0;36m<module>\u001b[0;34m()\u001b[0m\n\u001b[1;32m      1\u001b[0m \u001b[0mpath\u001b[0m \u001b[0;34m=\u001b[0m \u001b[0;34m'/Users/shateeshbhugwansing/Desktop/seniorprojecteeg/Visualization/'\u001b[0m\u001b[0;34m\u001b[0m\u001b[0m\n\u001b[0;32m----> 2\u001b[0;31m \u001b[0mmne\u001b[0m\u001b[0;34m.\u001b[0m\u001b[0mchannels\u001b[0m\u001b[0;34m.\u001b[0m\u001b[0mread_montage\u001b[0m\u001b[0;34m(\u001b[0m\u001b[0mkind\u001b[0m\u001b[0;34m=\u001b[0m\u001b[0;34m'ANT_DukeWaveGuard_128_electrode_montage_copy'\u001b[0m\u001b[0;34m,\u001b[0m \u001b[0mpath\u001b[0m\u001b[0;34m=\u001b[0m\u001b[0mpath\u001b[0m\u001b[0;34m)\u001b[0m\u001b[0;34m\u001b[0m\u001b[0m\n\u001b[0m",
      "\u001b[0;32m~/anaconda/envs/mne/lib/python3.6/site-packages/mne/channels/montage.py\u001b[0m in \u001b[0;36mread_montage\u001b[0;34m(kind, ch_names, path, unit, transform)\u001b[0m\n\u001b[1;32m    274\u001b[0m         \u001b[0;31m# easycap\u001b[0m\u001b[0;34m\u001b[0m\u001b[0;34m\u001b[0m\u001b[0m\n\u001b[1;32m    275\u001b[0m         \u001b[0;32mtry\u001b[0m\u001b[0;34m:\u001b[0m  \u001b[0;31m# newer version\u001b[0m\u001b[0;34m\u001b[0m\u001b[0m\n\u001b[0;32m--> 276\u001b[0;31m             \u001b[0mdata\u001b[0m \u001b[0;34m=\u001b[0m \u001b[0mnp\u001b[0m\u001b[0;34m.\u001b[0m\u001b[0mgenfromtxt\u001b[0m\u001b[0;34m(\u001b[0m\u001b[0mfname\u001b[0m\u001b[0;34m,\u001b[0m \u001b[0mdtype\u001b[0m\u001b[0;34m=\u001b[0m\u001b[0;34m'str'\u001b[0m\u001b[0;34m,\u001b[0m \u001b[0mskip_header\u001b[0m\u001b[0;34m=\u001b[0m\u001b[0;36m1\u001b[0m\u001b[0;34m)\u001b[0m\u001b[0;34m\u001b[0m\u001b[0m\n\u001b[0m\u001b[1;32m    277\u001b[0m         \u001b[0;32mexcept\u001b[0m \u001b[0mTypeError\u001b[0m\u001b[0;34m:\u001b[0m\u001b[0;34m\u001b[0m\u001b[0m\n\u001b[1;32m    278\u001b[0m             \u001b[0mdata\u001b[0m \u001b[0;34m=\u001b[0m \u001b[0mnp\u001b[0m\u001b[0;34m.\u001b[0m\u001b[0mgenfromtxt\u001b[0m\u001b[0;34m(\u001b[0m\u001b[0mfname\u001b[0m\u001b[0;34m,\u001b[0m \u001b[0mdtype\u001b[0m\u001b[0;34m=\u001b[0m\u001b[0;34m'str'\u001b[0m\u001b[0;34m,\u001b[0m \u001b[0mskiprows\u001b[0m\u001b[0;34m=\u001b[0m\u001b[0;36m1\u001b[0m\u001b[0;34m)\u001b[0m\u001b[0;34m\u001b[0m\u001b[0m\n",
      "\u001b[0;32m~/anaconda/envs/mne/lib/python3.6/site-packages/numpy/lib/npyio.py\u001b[0m in \u001b[0;36mgenfromtxt\u001b[0;34m(fname, dtype, comments, delimiter, skip_header, skip_footer, converters, missing_values, filling_values, usecols, names, excludelist, deletechars, replace_space, autostrip, case_sensitive, defaultfmt, unpack, usemask, loose, invalid_raise, max_rows, encoding)\u001b[0m\n\u001b[1;32m   2029\u001b[0m             \u001b[0;31m# Raise an exception ?\u001b[0m\u001b[0;34m\u001b[0m\u001b[0;34m\u001b[0m\u001b[0m\n\u001b[1;32m   2030\u001b[0m             \u001b[0;32mif\u001b[0m \u001b[0minvalid_raise\u001b[0m\u001b[0;34m:\u001b[0m\u001b[0;34m\u001b[0m\u001b[0m\n\u001b[0;32m-> 2031\u001b[0;31m                 \u001b[0;32mraise\u001b[0m \u001b[0mValueError\u001b[0m\u001b[0;34m(\u001b[0m\u001b[0merrmsg\u001b[0m\u001b[0;34m)\u001b[0m\u001b[0;34m\u001b[0m\u001b[0m\n\u001b[0m\u001b[1;32m   2032\u001b[0m             \u001b[0;31m# Issue a warning ?\u001b[0m\u001b[0;34m\u001b[0m\u001b[0;34m\u001b[0m\u001b[0m\n\u001b[1;32m   2033\u001b[0m             \u001b[0;32melse\u001b[0m\u001b[0;34m:\u001b[0m\u001b[0;34m\u001b[0m\u001b[0m\n",
      "\u001b[0;31mValueError\u001b[0m: Some errors were detected !\n    Line #5 (got 1 columns instead of 2)\n    Line #6 (got 10 columns instead of 2)\n    Line #7 (got 5 columns instead of 2)\n    Line #8 (got 10 columns instead of 2)\n    Line #9 (got 5 columns instead of 2)\n    Line #10 (got 5 columns instead of 2)\n    Line #11 (got 5 columns instead of 2)\n    Line #12 (got 5 columns instead of 2)\n    Line #13 (got 5 columns instead of 2)\n    Line #14 (got 5 columns instead of 2)\n    Line #15 (got 5 columns instead of 2)\n    Line #16 (got 5 columns instead of 2)\n    Line #17 (got 5 columns instead of 2)\n    Line #18 (got 5 columns instead of 2)\n    Line #19 (got 5 columns instead of 2)\n    Line #20 (got 4 columns instead of 2)\n    Line #21 (got 4 columns instead of 2)\n    Line #22 (got 5 columns instead of 2)\n    Line #23 (got 5 columns instead of 2)\n    Line #24 (got 5 columns instead of 2)\n    Line #25 (got 5 columns instead of 2)\n    Line #26 (got 5 columns instead of 2)\n    Line #27 (got 5 columns instead of 2)\n    Line #28 (got 5 columns instead of 2)\n    Line #29 (got 5 columns instead of 2)\n    Line #30 (got 5 columns instead of 2)\n    Line #31 (got 5 columns instead of 2)\n    Line #32 (got 5 columns instead of 2)\n    Line #33 (got 5 columns instead of 2)\n    Line #34 (got 5 columns instead of 2)\n    Line #35 (got 5 columns instead of 2)\n    Line #36 (got 5 columns instead of 2)\n    Line #37 (got 4 columns instead of 2)\n    Line #38 (got 4 columns instead of 2)\n    Line #39 (got 5 columns instead of 2)\n    Line #40 (got 5 columns instead of 2)\n    Line #41 (got 5 columns instead of 2)\n    Line #42 (got 5 columns instead of 2)\n    Line #43 (got 5 columns instead of 2)\n    Line #44 (got 5 columns instead of 2)\n    Line #45 (got 5 columns instead of 2)\n    Line #46 (got 5 columns instead of 2)\n    Line #47 (got 5 columns instead of 2)\n    Line #48 (got 5 columns instead of 2)\n    Line #49 (got 10 columns instead of 2)\n    Line #50 (got 6 columns instead of 2)\n    Line #51 (got 5 columns instead of 2)\n    Line #52 (got 5 columns instead of 2)\n    Line #53 (got 5 columns instead of 2)\n    Line #54 (got 5 columns instead of 2)\n    Line #55 (got 5 columns instead of 2)\n    Line #56 (got 5 columns instead of 2)\n    Line #57 (got 5 columns instead of 2)\n    Line #58 (got 5 columns instead of 2)\n    Line #59 (got 5 columns instead of 2)\n    Line #60 (got 5 columns instead of 2)\n    Line #61 (got 5 columns instead of 2)\n    Line #62 (got 5 columns instead of 2)\n    Line #63 (got 5 columns instead of 2)\n    Line #64 (got 5 columns instead of 2)\n    Line #65 (got 5 columns instead of 2)\n    Line #66 (got 5 columns instead of 2)\n    Line #67 (got 5 columns instead of 2)\n    Line #68 (got 5 columns instead of 2)\n    Line #69 (got 5 columns instead of 2)\n    Line #70 (got 5 columns instead of 2)\n    Line #71 (got 5 columns instead of 2)\n    Line #72 (got 5 columns instead of 2)\n    Line #73 (got 5 columns instead of 2)\n    Line #74 (got 5 columns instead of 2)\n    Line #75 (got 5 columns instead of 2)\n    Line #76 (got 5 columns instead of 2)\n    Line #77 (got 4 columns instead of 2)\n    Line #78 (got 4 columns instead of 2)\n    Line #79 (got 5 columns instead of 2)\n    Line #80 (got 5 columns instead of 2)\n    Line #81 (got 5 columns instead of 2)\n    Line #82 (got 5 columns instead of 2)\n    Line #83 (got 5 columns instead of 2)\n    Line #84 (got 5 columns instead of 2)\n    Line #85 (got 5 columns instead of 2)\n    Line #86 (got 5 columns instead of 2)\n    Line #87 (got 5 columns instead of 2)\n    Line #88 (got 5 columns instead of 2)\n    Line #89 (got 5 columns instead of 2)\n    Line #90 (got 5 columns instead of 2)\n    Line #91 (got 5 columns instead of 2)\n    Line #92 (got 5 columns instead of 2)\n    Line #93 (got 5 columns instead of 2)\n    Line #94 (got 5 columns instead of 2)\n    Line #95 (got 5 columns instead of 2)\n    Line #96 (got 5 columns instead of 2)\n    Line #97 (got 5 columns instead of 2)\n    Line #98 (got 5 columns instead of 2)\n    Line #99 (got 5 columns instead of 2)\n    Line #100 (got 5 columns instead of 2)\n    Line #101 (got 5 columns instead of 2)\n    Line #102 (got 5 columns instead of 2)\n    Line #103 (got 5 columns instead of 2)\n    Line #104 (got 5 columns instead of 2)\n    Line #105 (got 5 columns instead of 2)\n    Line #106 (got 5 columns instead of 2)\n    Line #107 (got 5 columns instead of 2)\n    Line #108 (got 5 columns instead of 2)\n    Line #109 (got 5 columns instead of 2)\n    Line #110 (got 5 columns instead of 2)\n    Line #111 (got 5 columns instead of 2)\n    Line #112 (got 5 columns instead of 2)\n    Line #113 (got 5 columns instead of 2)\n    Line #114 (got 4 columns instead of 2)\n    Line #115 (got 4 columns instead of 2)\n    Line #116 (got 5 columns instead of 2)\n    Line #117 (got 5 columns instead of 2)\n    Line #118 (got 5 columns instead of 2)\n    Line #119 (got 5 columns instead of 2)\n    Line #120 (got 5 columns instead of 2)\n    Line #121 (got 5 columns instead of 2)\n    Line #122 (got 5 columns instead of 2)\n    Line #123 (got 5 columns instead of 2)\n    Line #124 (got 5 columns instead of 2)\n    Line #125 (got 5 columns instead of 2)\n    Line #126 (got 5 columns instead of 2)\n    Line #127 (got 5 columns instead of 2)\n    Line #128 (got 5 columns instead of 2)\n    Line #129 (got 5 columns instead of 2)\n    Line #130 (got 5 columns instead of 2)\n    Line #131 (got 5 columns instead of 2)\n    Line #132 (got 5 columns instead of 2)\n    Line #133 (got 5 columns instead of 2)\n    Line #134 (got 1 columns instead of 2)\n    Line #135 (got 129 columns instead of 2)"
     ]
    }
   ],
   "source": [
    "path = '/Users/shateeshbhugwansing/Desktop/seniorprojecteeg/Visualization/'\n",
    "mne.channels.read_montage(kind='ANT_DukeWaveGuard_128_electrode_montage_copy', path=path)"
   ]
  },
  {
   "cell_type": "markdown",
   "metadata": {},
   "source": [
    "### Read_montage doesn't work. \n",
    "For now, I think the only visualization technique is to use topography maps"
   ]
  },
  {
   "cell_type": "code",
   "execution_count": null,
   "metadata": {},
   "outputs": [],
   "source": []
  }
 ],
 "metadata": {
  "kernelspec": {
   "display_name": "Python 3",
   "language": "python",
   "name": "python3"
  },
  "language_info": {
   "codemirror_mode": {
    "name": "ipython",
    "version": 3
   },
   "file_extension": ".py",
   "mimetype": "text/x-python",
   "name": "python",
   "nbconvert_exporter": "python",
   "pygments_lexer": "ipython3",
   "version": "3.6.6"
  }
 },
 "nbformat": 4,
 "nbformat_minor": 2
}
