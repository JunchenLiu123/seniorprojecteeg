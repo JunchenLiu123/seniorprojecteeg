{
 "cells": [
  {
   "cell_type": "markdown",
   "metadata": {},
   "source": [
    "### Visualization of our EEG data \n",
    "A notebook with different methods to visualize our data and results of classification  \n",
    "Author: Shateesh Bhugwansing"
   ]
  },
  {
   "cell_type": "code",
   "execution_count": 16,
   "metadata": {},
   "outputs": [],
   "source": [
    "%run ../preprocessing/StimCodes.ipynb\n",
    "import mne\n",
    "import numpy as np\n",
    "import matplotlib.pyplot as plt\n",
    "%matplotlib inline\n",
    "import matplotlib\n",
    "matplotlib.rcParams.update({'font.size': 11})"
   ]
  },
  {
   "cell_type": "code",
   "execution_count": 8,
   "metadata": {},
   "outputs": [
    {
     "ename": "ValueError",
     "evalue": "Some errors were detected !\n    Line #5 (got 1 columns instead of 2)\n    Line #6 (got 10 columns instead of 2)\n    Line #7 (got 5 columns instead of 2)\n    Line #8 (got 10 columns instead of 2)\n    Line #9 (got 5 columns instead of 2)\n    Line #10 (got 5 columns instead of 2)\n    Line #11 (got 5 columns instead of 2)\n    Line #12 (got 5 columns instead of 2)\n    Line #13 (got 5 columns instead of 2)\n    Line #14 (got 5 columns instead of 2)\n    Line #15 (got 5 columns instead of 2)\n    Line #16 (got 5 columns instead of 2)\n    Line #17 (got 5 columns instead of 2)\n    Line #18 (got 5 columns instead of 2)\n    Line #19 (got 5 columns instead of 2)\n    Line #20 (got 4 columns instead of 2)\n    Line #21 (got 4 columns instead of 2)\n    Line #22 (got 5 columns instead of 2)\n    Line #23 (got 5 columns instead of 2)\n    Line #24 (got 5 columns instead of 2)\n    Line #25 (got 5 columns instead of 2)\n    Line #26 (got 5 columns instead of 2)\n    Line #27 (got 5 columns instead of 2)\n    Line #28 (got 5 columns instead of 2)\n    Line #29 (got 5 columns instead of 2)\n    Line #30 (got 5 columns instead of 2)\n    Line #31 (got 5 columns instead of 2)\n    Line #32 (got 5 columns instead of 2)\n    Line #33 (got 5 columns instead of 2)\n    Line #34 (got 5 columns instead of 2)\n    Line #35 (got 5 columns instead of 2)\n    Line #36 (got 5 columns instead of 2)\n    Line #37 (got 4 columns instead of 2)\n    Line #38 (got 4 columns instead of 2)\n    Line #39 (got 5 columns instead of 2)\n    Line #40 (got 5 columns instead of 2)\n    Line #41 (got 5 columns instead of 2)\n    Line #42 (got 5 columns instead of 2)\n    Line #43 (got 5 columns instead of 2)\n    Line #44 (got 5 columns instead of 2)\n    Line #45 (got 5 columns instead of 2)\n    Line #46 (got 5 columns instead of 2)\n    Line #47 (got 5 columns instead of 2)\n    Line #48 (got 5 columns instead of 2)\n    Line #49 (got 10 columns instead of 2)\n    Line #50 (got 6 columns instead of 2)\n    Line #51 (got 5 columns instead of 2)\n    Line #52 (got 5 columns instead of 2)\n    Line #53 (got 5 columns instead of 2)\n    Line #54 (got 5 columns instead of 2)\n    Line #55 (got 5 columns instead of 2)\n    Line #56 (got 5 columns instead of 2)\n    Line #57 (got 5 columns instead of 2)\n    Line #58 (got 5 columns instead of 2)\n    Line #59 (got 5 columns instead of 2)\n    Line #60 (got 5 columns instead of 2)\n    Line #61 (got 5 columns instead of 2)\n    Line #62 (got 5 columns instead of 2)\n    Line #63 (got 5 columns instead of 2)\n    Line #64 (got 5 columns instead of 2)\n    Line #65 (got 5 columns instead of 2)\n    Line #66 (got 5 columns instead of 2)\n    Line #67 (got 5 columns instead of 2)\n    Line #68 (got 5 columns instead of 2)\n    Line #69 (got 5 columns instead of 2)\n    Line #70 (got 5 columns instead of 2)\n    Line #71 (got 5 columns instead of 2)\n    Line #72 (got 5 columns instead of 2)\n    Line #73 (got 5 columns instead of 2)\n    Line #74 (got 5 columns instead of 2)\n    Line #75 (got 5 columns instead of 2)\n    Line #76 (got 5 columns instead of 2)\n    Line #77 (got 4 columns instead of 2)\n    Line #78 (got 4 columns instead of 2)\n    Line #79 (got 5 columns instead of 2)\n    Line #80 (got 5 columns instead of 2)\n    Line #81 (got 5 columns instead of 2)\n    Line #82 (got 5 columns instead of 2)\n    Line #83 (got 5 columns instead of 2)\n    Line #84 (got 5 columns instead of 2)\n    Line #85 (got 5 columns instead of 2)\n    Line #86 (got 5 columns instead of 2)\n    Line #87 (got 5 columns instead of 2)\n    Line #88 (got 5 columns instead of 2)\n    Line #89 (got 5 columns instead of 2)\n    Line #90 (got 5 columns instead of 2)\n    Line #91 (got 5 columns instead of 2)\n    Line #92 (got 5 columns instead of 2)\n    Line #93 (got 5 columns instead of 2)\n    Line #94 (got 5 columns instead of 2)\n    Line #95 (got 5 columns instead of 2)\n    Line #96 (got 5 columns instead of 2)\n    Line #97 (got 5 columns instead of 2)\n    Line #98 (got 5 columns instead of 2)\n    Line #99 (got 5 columns instead of 2)\n    Line #100 (got 5 columns instead of 2)\n    Line #101 (got 5 columns instead of 2)\n    Line #102 (got 5 columns instead of 2)\n    Line #103 (got 5 columns instead of 2)\n    Line #104 (got 5 columns instead of 2)\n    Line #105 (got 5 columns instead of 2)\n    Line #106 (got 5 columns instead of 2)\n    Line #107 (got 5 columns instead of 2)\n    Line #108 (got 5 columns instead of 2)\n    Line #109 (got 5 columns instead of 2)\n    Line #110 (got 5 columns instead of 2)\n    Line #111 (got 5 columns instead of 2)\n    Line #112 (got 5 columns instead of 2)\n    Line #113 (got 5 columns instead of 2)\n    Line #114 (got 4 columns instead of 2)\n    Line #115 (got 4 columns instead of 2)\n    Line #116 (got 5 columns instead of 2)\n    Line #117 (got 5 columns instead of 2)\n    Line #118 (got 5 columns instead of 2)\n    Line #119 (got 5 columns instead of 2)\n    Line #120 (got 5 columns instead of 2)\n    Line #121 (got 5 columns instead of 2)\n    Line #122 (got 5 columns instead of 2)\n    Line #123 (got 5 columns instead of 2)\n    Line #124 (got 5 columns instead of 2)\n    Line #125 (got 5 columns instead of 2)\n    Line #126 (got 5 columns instead of 2)\n    Line #127 (got 5 columns instead of 2)\n    Line #128 (got 5 columns instead of 2)\n    Line #129 (got 5 columns instead of 2)\n    Line #130 (got 5 columns instead of 2)\n    Line #131 (got 5 columns instead of 2)\n    Line #132 (got 5 columns instead of 2)\n    Line #133 (got 5 columns instead of 2)\n    Line #134 (got 1 columns instead of 2)\n    Line #135 (got 129 columns instead of 2)",
     "output_type": "error",
     "traceback": [
      "\u001b[0;31m---------------------------------------------------------------------------\u001b[0m",
      "\u001b[0;31mValueError\u001b[0m                                Traceback (most recent call last)",
      "\u001b[0;32m<ipython-input-8-5182fc7d27f7>\u001b[0m in \u001b[0;36m<module>\u001b[0;34m()\u001b[0m\n\u001b[1;32m      1\u001b[0m \u001b[0mpath\u001b[0m \u001b[0;34m=\u001b[0m \u001b[0;34m'/Users/shateeshbhugwansing/Desktop/seniorprojecteeg/Visualization/'\u001b[0m\u001b[0;34m\u001b[0m\u001b[0m\n\u001b[0;32m----> 2\u001b[0;31m \u001b[0mmne\u001b[0m\u001b[0;34m.\u001b[0m\u001b[0mchannels\u001b[0m\u001b[0;34m.\u001b[0m\u001b[0mread_montage\u001b[0m\u001b[0;34m(\u001b[0m\u001b[0mkind\u001b[0m\u001b[0;34m=\u001b[0m\u001b[0;34m'ANT_DukeWaveGuard_128_electrode_montage_copy'\u001b[0m\u001b[0;34m,\u001b[0m \u001b[0mpath\u001b[0m\u001b[0;34m=\u001b[0m\u001b[0mpath\u001b[0m\u001b[0;34m)\u001b[0m\u001b[0;34m\u001b[0m\u001b[0m\n\u001b[0m",
      "\u001b[0;32m~/anaconda/envs/mne/lib/python3.6/site-packages/mne/channels/montage.py\u001b[0m in \u001b[0;36mread_montage\u001b[0;34m(kind, ch_names, path, unit, transform)\u001b[0m\n\u001b[1;32m    274\u001b[0m         \u001b[0;31m# easycap\u001b[0m\u001b[0;34m\u001b[0m\u001b[0;34m\u001b[0m\u001b[0m\n\u001b[1;32m    275\u001b[0m         \u001b[0;32mtry\u001b[0m\u001b[0;34m:\u001b[0m  \u001b[0;31m# newer version\u001b[0m\u001b[0;34m\u001b[0m\u001b[0m\n\u001b[0;32m--> 276\u001b[0;31m             \u001b[0mdata\u001b[0m \u001b[0;34m=\u001b[0m \u001b[0mnp\u001b[0m\u001b[0;34m.\u001b[0m\u001b[0mgenfromtxt\u001b[0m\u001b[0;34m(\u001b[0m\u001b[0mfname\u001b[0m\u001b[0;34m,\u001b[0m \u001b[0mdtype\u001b[0m\u001b[0;34m=\u001b[0m\u001b[0;34m'str'\u001b[0m\u001b[0;34m,\u001b[0m \u001b[0mskip_header\u001b[0m\u001b[0;34m=\u001b[0m\u001b[0;36m1\u001b[0m\u001b[0;34m)\u001b[0m\u001b[0;34m\u001b[0m\u001b[0m\n\u001b[0m\u001b[1;32m    277\u001b[0m         \u001b[0;32mexcept\u001b[0m \u001b[0mTypeError\u001b[0m\u001b[0;34m:\u001b[0m\u001b[0;34m\u001b[0m\u001b[0m\n\u001b[1;32m    278\u001b[0m             \u001b[0mdata\u001b[0m \u001b[0;34m=\u001b[0m \u001b[0mnp\u001b[0m\u001b[0;34m.\u001b[0m\u001b[0mgenfromtxt\u001b[0m\u001b[0;34m(\u001b[0m\u001b[0mfname\u001b[0m\u001b[0;34m,\u001b[0m \u001b[0mdtype\u001b[0m\u001b[0;34m=\u001b[0m\u001b[0;34m'str'\u001b[0m\u001b[0;34m,\u001b[0m \u001b[0mskiprows\u001b[0m\u001b[0;34m=\u001b[0m\u001b[0;36m1\u001b[0m\u001b[0;34m)\u001b[0m\u001b[0;34m\u001b[0m\u001b[0m\n",
      "\u001b[0;32m~/anaconda/envs/mne/lib/python3.6/site-packages/numpy/lib/npyio.py\u001b[0m in \u001b[0;36mgenfromtxt\u001b[0;34m(fname, dtype, comments, delimiter, skip_header, skip_footer, converters, missing_values, filling_values, usecols, names, excludelist, deletechars, replace_space, autostrip, case_sensitive, defaultfmt, unpack, usemask, loose, invalid_raise, max_rows, encoding)\u001b[0m\n\u001b[1;32m   2029\u001b[0m             \u001b[0;31m# Raise an exception ?\u001b[0m\u001b[0;34m\u001b[0m\u001b[0;34m\u001b[0m\u001b[0m\n\u001b[1;32m   2030\u001b[0m             \u001b[0;32mif\u001b[0m \u001b[0minvalid_raise\u001b[0m\u001b[0;34m:\u001b[0m\u001b[0;34m\u001b[0m\u001b[0m\n\u001b[0;32m-> 2031\u001b[0;31m                 \u001b[0;32mraise\u001b[0m \u001b[0mValueError\u001b[0m\u001b[0;34m(\u001b[0m\u001b[0merrmsg\u001b[0m\u001b[0;34m)\u001b[0m\u001b[0;34m\u001b[0m\u001b[0m\n\u001b[0m\u001b[1;32m   2032\u001b[0m             \u001b[0;31m# Issue a warning ?\u001b[0m\u001b[0;34m\u001b[0m\u001b[0;34m\u001b[0m\u001b[0m\n\u001b[1;32m   2033\u001b[0m             \u001b[0;32melse\u001b[0m\u001b[0;34m:\u001b[0m\u001b[0;34m\u001b[0m\u001b[0m\n",
      "\u001b[0;31mValueError\u001b[0m: Some errors were detected !\n    Line #5 (got 1 columns instead of 2)\n    Line #6 (got 10 columns instead of 2)\n    Line #7 (got 5 columns instead of 2)\n    Line #8 (got 10 columns instead of 2)\n    Line #9 (got 5 columns instead of 2)\n    Line #10 (got 5 columns instead of 2)\n    Line #11 (got 5 columns instead of 2)\n    Line #12 (got 5 columns instead of 2)\n    Line #13 (got 5 columns instead of 2)\n    Line #14 (got 5 columns instead of 2)\n    Line #15 (got 5 columns instead of 2)\n    Line #16 (got 5 columns instead of 2)\n    Line #17 (got 5 columns instead of 2)\n    Line #18 (got 5 columns instead of 2)\n    Line #19 (got 5 columns instead of 2)\n    Line #20 (got 4 columns instead of 2)\n    Line #21 (got 4 columns instead of 2)\n    Line #22 (got 5 columns instead of 2)\n    Line #23 (got 5 columns instead of 2)\n    Line #24 (got 5 columns instead of 2)\n    Line #25 (got 5 columns instead of 2)\n    Line #26 (got 5 columns instead of 2)\n    Line #27 (got 5 columns instead of 2)\n    Line #28 (got 5 columns instead of 2)\n    Line #29 (got 5 columns instead of 2)\n    Line #30 (got 5 columns instead of 2)\n    Line #31 (got 5 columns instead of 2)\n    Line #32 (got 5 columns instead of 2)\n    Line #33 (got 5 columns instead of 2)\n    Line #34 (got 5 columns instead of 2)\n    Line #35 (got 5 columns instead of 2)\n    Line #36 (got 5 columns instead of 2)\n    Line #37 (got 4 columns instead of 2)\n    Line #38 (got 4 columns instead of 2)\n    Line #39 (got 5 columns instead of 2)\n    Line #40 (got 5 columns instead of 2)\n    Line #41 (got 5 columns instead of 2)\n    Line #42 (got 5 columns instead of 2)\n    Line #43 (got 5 columns instead of 2)\n    Line #44 (got 5 columns instead of 2)\n    Line #45 (got 5 columns instead of 2)\n    Line #46 (got 5 columns instead of 2)\n    Line #47 (got 5 columns instead of 2)\n    Line #48 (got 5 columns instead of 2)\n    Line #49 (got 10 columns instead of 2)\n    Line #50 (got 6 columns instead of 2)\n    Line #51 (got 5 columns instead of 2)\n    Line #52 (got 5 columns instead of 2)\n    Line #53 (got 5 columns instead of 2)\n    Line #54 (got 5 columns instead of 2)\n    Line #55 (got 5 columns instead of 2)\n    Line #56 (got 5 columns instead of 2)\n    Line #57 (got 5 columns instead of 2)\n    Line #58 (got 5 columns instead of 2)\n    Line #59 (got 5 columns instead of 2)\n    Line #60 (got 5 columns instead of 2)\n    Line #61 (got 5 columns instead of 2)\n    Line #62 (got 5 columns instead of 2)\n    Line #63 (got 5 columns instead of 2)\n    Line #64 (got 5 columns instead of 2)\n    Line #65 (got 5 columns instead of 2)\n    Line #66 (got 5 columns instead of 2)\n    Line #67 (got 5 columns instead of 2)\n    Line #68 (got 5 columns instead of 2)\n    Line #69 (got 5 columns instead of 2)\n    Line #70 (got 5 columns instead of 2)\n    Line #71 (got 5 columns instead of 2)\n    Line #72 (got 5 columns instead of 2)\n    Line #73 (got 5 columns instead of 2)\n    Line #74 (got 5 columns instead of 2)\n    Line #75 (got 5 columns instead of 2)\n    Line #76 (got 5 columns instead of 2)\n    Line #77 (got 4 columns instead of 2)\n    Line #78 (got 4 columns instead of 2)\n    Line #79 (got 5 columns instead of 2)\n    Line #80 (got 5 columns instead of 2)\n    Line #81 (got 5 columns instead of 2)\n    Line #82 (got 5 columns instead of 2)\n    Line #83 (got 5 columns instead of 2)\n    Line #84 (got 5 columns instead of 2)\n    Line #85 (got 5 columns instead of 2)\n    Line #86 (got 5 columns instead of 2)\n    Line #87 (got 5 columns instead of 2)\n    Line #88 (got 5 columns instead of 2)\n    Line #89 (got 5 columns instead of 2)\n    Line #90 (got 5 columns instead of 2)\n    Line #91 (got 5 columns instead of 2)\n    Line #92 (got 5 columns instead of 2)\n    Line #93 (got 5 columns instead of 2)\n    Line #94 (got 5 columns instead of 2)\n    Line #95 (got 5 columns instead of 2)\n    Line #96 (got 5 columns instead of 2)\n    Line #97 (got 5 columns instead of 2)\n    Line #98 (got 5 columns instead of 2)\n    Line #99 (got 5 columns instead of 2)\n    Line #100 (got 5 columns instead of 2)\n    Line #101 (got 5 columns instead of 2)\n    Line #102 (got 5 columns instead of 2)\n    Line #103 (got 5 columns instead of 2)\n    Line #104 (got 5 columns instead of 2)\n    Line #105 (got 5 columns instead of 2)\n    Line #106 (got 5 columns instead of 2)\n    Line #107 (got 5 columns instead of 2)\n    Line #108 (got 5 columns instead of 2)\n    Line #109 (got 5 columns instead of 2)\n    Line #110 (got 5 columns instead of 2)\n    Line #111 (got 5 columns instead of 2)\n    Line #112 (got 5 columns instead of 2)\n    Line #113 (got 5 columns instead of 2)\n    Line #114 (got 4 columns instead of 2)\n    Line #115 (got 4 columns instead of 2)\n    Line #116 (got 5 columns instead of 2)\n    Line #117 (got 5 columns instead of 2)\n    Line #118 (got 5 columns instead of 2)\n    Line #119 (got 5 columns instead of 2)\n    Line #120 (got 5 columns instead of 2)\n    Line #121 (got 5 columns instead of 2)\n    Line #122 (got 5 columns instead of 2)\n    Line #123 (got 5 columns instead of 2)\n    Line #124 (got 5 columns instead of 2)\n    Line #125 (got 5 columns instead of 2)\n    Line #126 (got 5 columns instead of 2)\n    Line #127 (got 5 columns instead of 2)\n    Line #128 (got 5 columns instead of 2)\n    Line #129 (got 5 columns instead of 2)\n    Line #130 (got 5 columns instead of 2)\n    Line #131 (got 5 columns instead of 2)\n    Line #132 (got 5 columns instead of 2)\n    Line #133 (got 5 columns instead of 2)\n    Line #134 (got 1 columns instead of 2)\n    Line #135 (got 129 columns instead of 2)"
     ]
    }
   ],
   "source": [
    "path = '/Users/shateeshbhugwansing/Desktop/seniorprojecteeg/Visualization/'\n",
    "mne.channels.read_montage(kind='ANT_DukeWaveGuard_128_electrode_montage_copy', path=path)"
   ]
  },
  {
   "cell_type": "markdown",
   "metadata": {},
   "source": [
    "### Read_montage doesn't work. \n",
    "For now, I think the only visualization technique is to use topography maps"
   ]
  },
  {
   "cell_type": "markdown",
   "metadata": {},
   "source": [
    "### Topography Map"
   ]
  },
  {
   "cell_type": "code",
   "execution_count": 10,
   "metadata": {},
   "outputs": [
    {
     "name": "stdout",
     "output_type": "stream",
     "text": [
      "Reading /Volumes/SB/EpochedEEG/20131216_1441_epo.fif ...\n",
      "    Found the data of interest:\n",
      "        t =    -199.22 ...     500.00 ms\n",
      "        0 CTF compensation matrices available\n",
      "5424 matching events found\n",
      "Applying baseline correction (mode: mean)\n",
      "5424 matching events found\n",
      "Applying baseline correction (mode: mean)\n",
      "Not setting metadata\n",
      "0 projection items activated\n"
     ]
    }
   ],
   "source": [
    "# read in data \n",
    "epoch_path = '/Volumes/SB/EpochedEEG/20131216_1441_epo.fif'\n",
    "epoch = mne.read_epochs(epoch_path, preload=True)"
   ]
  },
  {
   "cell_type": "code",
   "execution_count": 11,
   "metadata": {},
   "outputs": [
    {
     "name": "stdout",
     "output_type": "stream",
     "text": [
      "No gradiometers found. Forcing n_grad to 0\n",
      "No magnetometers found. Forcing n_mag to 0\n",
      "Adding projection: eeg-Multiple-events--0.199-0.500-PCA-01\n",
      "Adding projection: eeg-Multiple-events--0.199-0.500-PCA-02\n"
     ]
    }
   ],
   "source": [
    "projs = mne.compute_proj_epochs(epoch)"
   ]
  },
  {
   "cell_type": "code",
   "execution_count": 12,
   "metadata": {},
   "outputs": [
    {
     "name": "stdout",
     "output_type": "stream",
     "text": [
      "2 projection items deactivated\n"
     ]
    }
   ],
   "source": [
    "epoch_projs = epoch.add_proj(projs)"
   ]
  },
  {
   "cell_type": "code",
   "execution_count": 13,
   "metadata": {},
   "outputs": [
    {
     "data": {
      "text/plain": [
       "mne.epochs.EpochsFIF"
      ]
     },
     "execution_count": 13,
     "metadata": {},
     "output_type": "execute_result"
    }
   ],
   "source": [
    "type(epoch_projs)"
   ]
  },
  {
   "cell_type": "code",
   "execution_count": 14,
   "metadata": {},
   "outputs": [
    {
     "data": {
      "text/plain": [
       "mne.epochs.EpochsFIF"
      ]
     },
     "execution_count": 14,
     "metadata": {},
     "output_type": "execute_result"
    }
   ],
   "source": [
    "type(epoch)"
   ]
  },
  {
   "cell_type": "code",
   "execution_count": 17,
   "metadata": {},
   "outputs": [
    {
     "name": "stderr",
     "output_type": "stream",
     "text": [
      "WARNING:root:Did not find any electrode locations the info, will attempt to use digitization points instead. However, if digitization points do not correspond to the EEG electrodes, this will lead to bad results. Please verify that the sensor locations in the plot are accurate.\n"
     ]
    },
    {
     "name": "stdout",
     "output_type": "stream",
     "text": [
      "Fitted sphere radius:         0.0 mm\n",
      "Origin head coordinates:      0.0 0.0 0.0 mm\n",
      "Origin device coordinates:    0.0 0.0 0.0 mm\n"
     ]
    },
    {
     "ename": "ValueError",
     "evalue": "The following electrodes have overlapping positions, which causes problems during visualization:\nLm, LE1, Nasium, LE3, LD2, LD5, LC3, LC6, LB1, LB4, LA2, LA5, LL1, LL4, LL7, LL10, LL13, L3, L6, L9, L12, Z1, Z4, Z7, Z10, Z13, R3, R6, R9, R12, RR1, RR4, RR7, RR10, RR13, RA2, RA5, RB1, RB4, RC3, RC6, RD2, RD5, RE1, VEOG, RE3, Rm, RE4, RD1, RD3, RD4, RD6, RD7, RC1, RC2, RC4, RC5, RC7, RB2, RB3, RB5, RB6, RA1, RA3, RA4, RR2, RR3, RR5, RR6, RR8, RR9, RR11, RR12, R1, R2, R4, R5, R7, R8, R10, R11, R13, R14, Z2, Z3, Z5, Z6, Z8, Z9, Z11, Z12, Z14, L1, L2, L4, L5, L7, L8, L10, L11, L13, L14, LL2, LL3, LL5, LL6, LL8, LL9, LL11, LL12, LA1, LA3, LA4, LB2, LB3, LB5, LB6, LC1, LC2, LC4, LC5, LC7, LD1, LD3, LD4, LD6, LD7, LE4",
     "output_type": "error",
     "traceback": [
      "\u001b[0;31m---------------------------------------------------------------------------\u001b[0m",
      "\u001b[0;31mValueError\u001b[0m                                Traceback (most recent call last)",
      "\u001b[0;32m<ipython-input-17-33a6fd3bb268>\u001b[0m in \u001b[0;36m<module>\u001b[0;34m()\u001b[0m\n\u001b[0;32m----> 1\u001b[0;31m \u001b[0mepoch_projs\u001b[0m\u001b[0;34m.\u001b[0m\u001b[0mplot_projs_topomap\u001b[0m\u001b[0;34m(\u001b[0m\u001b[0;34m)\u001b[0m\u001b[0;34m\u001b[0m\u001b[0m\n\u001b[0m",
      "\u001b[0;32m~/anaconda/envs/mne/lib/python3.6/site-packages/mne/io/proj.py\u001b[0m in \u001b[0;36mplot_projs_topomap\u001b[0;34m(self, ch_type, layout, axes)\u001b[0m\n\u001b[1;32m    320\u001b[0m                 \u001b[0;32mfor\u001b[0m \u001b[0mch\u001b[0m \u001b[0;32min\u001b[0m \u001b[0mch_type\u001b[0m\u001b[0;34m:\u001b[0m\u001b[0;34m\u001b[0m\u001b[0m\n\u001b[1;32m    321\u001b[0m                     \u001b[0;32mif\u001b[0m \u001b[0mch\u001b[0m \u001b[0;32min\u001b[0m \u001b[0mself\u001b[0m\u001b[0;34m:\u001b[0m\u001b[0;34m\u001b[0m\u001b[0m\n\u001b[0;32m--> 322\u001b[0;31m                         \u001b[0mlayout\u001b[0m\u001b[0;34m.\u001b[0m\u001b[0mappend\u001b[0m\u001b[0;34m(\u001b[0m\u001b[0mfind_layout\u001b[0m\u001b[0;34m(\u001b[0m\u001b[0mself\u001b[0m\u001b[0;34m.\u001b[0m\u001b[0minfo\u001b[0m\u001b[0;34m,\u001b[0m \u001b[0mch\u001b[0m\u001b[0;34m,\u001b[0m \u001b[0mexclude\u001b[0m\u001b[0;34m=\u001b[0m\u001b[0;34m[\u001b[0m\u001b[0;34m]\u001b[0m\u001b[0;34m)\u001b[0m\u001b[0;34m)\u001b[0m\u001b[0;34m\u001b[0m\u001b[0m\n\u001b[0m\u001b[1;32m    323\u001b[0m                     \u001b[0;32melse\u001b[0m\u001b[0;34m:\u001b[0m\u001b[0;34m\u001b[0m\u001b[0m\n\u001b[1;32m    324\u001b[0m                         \u001b[0mwarn\u001b[0m\u001b[0;34m(\u001b[0m\u001b[0;34m'Channel type %s is not found in info.'\u001b[0m \u001b[0;34m%\u001b[0m \u001b[0mch\u001b[0m\u001b[0;34m)\u001b[0m\u001b[0;34m\u001b[0m\u001b[0m\n",
      "\u001b[0;32m~/anaconda/envs/mne/lib/python3.6/site-packages/mne/channels/layout.py\u001b[0m in \u001b[0;36mfind_layout\u001b[0;34m(info, ch_type, exclude)\u001b[0m\n\u001b[1;32m    418\u001b[0m             raise RuntimeError('Cannot make EEG layout, no measurement info '\n\u001b[1;32m    419\u001b[0m                                'was passed to `find_layout`')\n\u001b[0;32m--> 420\u001b[0;31m         \u001b[0;32mreturn\u001b[0m \u001b[0mmake_eeg_layout\u001b[0m\u001b[0;34m(\u001b[0m\u001b[0minfo\u001b[0m\u001b[0;34m,\u001b[0m \u001b[0mexclude\u001b[0m\u001b[0;34m=\u001b[0m\u001b[0mexclude\u001b[0m\u001b[0;34m)\u001b[0m\u001b[0;34m\u001b[0m\u001b[0m\n\u001b[0m\u001b[1;32m    421\u001b[0m     \u001b[0;32melif\u001b[0m \u001b[0mhas_4D_mag\u001b[0m\u001b[0;34m:\u001b[0m\u001b[0;34m\u001b[0m\u001b[0m\n\u001b[1;32m    422\u001b[0m         \u001b[0mlayout_name\u001b[0m \u001b[0;34m=\u001b[0m \u001b[0;34m'magnesWH3600'\u001b[0m\u001b[0;34m\u001b[0m\u001b[0m\n",
      "\u001b[0;32m~/anaconda/envs/mne/lib/python3.6/site-packages/mne/channels/layout.py\u001b[0m in \u001b[0;36mmake_eeg_layout\u001b[0;34m(info, radius, width, height, exclude)\u001b[0m\n\u001b[1;32m    252\u001b[0m     picks = pick_types(info, meg=False, eeg=True, ref_meg=False,\n\u001b[1;32m    253\u001b[0m                        exclude=exclude)\n\u001b[0;32m--> 254\u001b[0;31m     \u001b[0mloc2d\u001b[0m \u001b[0;34m=\u001b[0m \u001b[0m_auto_topomap_coords\u001b[0m\u001b[0;34m(\u001b[0m\u001b[0minfo\u001b[0m\u001b[0;34m,\u001b[0m \u001b[0mpicks\u001b[0m\u001b[0;34m)\u001b[0m\u001b[0;34m\u001b[0m\u001b[0m\n\u001b[0m\u001b[1;32m    255\u001b[0m     \u001b[0mnames\u001b[0m \u001b[0;34m=\u001b[0m \u001b[0;34m[\u001b[0m\u001b[0minfo\u001b[0m\u001b[0;34m[\u001b[0m\u001b[0;34m'chs'\u001b[0m\u001b[0;34m]\u001b[0m\u001b[0;34m[\u001b[0m\u001b[0mi\u001b[0m\u001b[0;34m]\u001b[0m\u001b[0;34m[\u001b[0m\u001b[0;34m'ch_name'\u001b[0m\u001b[0;34m]\u001b[0m \u001b[0;32mfor\u001b[0m \u001b[0mi\u001b[0m \u001b[0;32min\u001b[0m \u001b[0mpicks\u001b[0m\u001b[0;34m]\u001b[0m\u001b[0;34m\u001b[0m\u001b[0m\n\u001b[1;32m    256\u001b[0m \u001b[0;34m\u001b[0m\u001b[0m\n",
      "\u001b[0;32m~/anaconda/envs/mne/lib/python3.6/site-packages/mne/channels/layout.py\u001b[0m in \u001b[0;36m_auto_topomap_coords\u001b[0;34m(info, picks, ignore_overlap, to_sphere)\u001b[0m\n\u001b[1;32m    709\u001b[0m         raise ValueError('The following electrodes have overlapping positions,'\n\u001b[1;32m    710\u001b[0m                          \u001b[0;34m' which causes problems during visualization:\\n'\u001b[0m \u001b[0;34m+\u001b[0m\u001b[0;34m\u001b[0m\u001b[0m\n\u001b[0;32m--> 711\u001b[0;31m                          ', '.join(problematic_electrodes))\n\u001b[0m\u001b[1;32m    712\u001b[0m \u001b[0;34m\u001b[0m\u001b[0m\n\u001b[1;32m    713\u001b[0m     \u001b[0;32mif\u001b[0m \u001b[0mto_sphere\u001b[0m\u001b[0;34m:\u001b[0m\u001b[0;34m\u001b[0m\u001b[0m\n",
      "\u001b[0;31mValueError\u001b[0m: The following electrodes have overlapping positions, which causes problems during visualization:\nLm, LE1, Nasium, LE3, LD2, LD5, LC3, LC6, LB1, LB4, LA2, LA5, LL1, LL4, LL7, LL10, LL13, L3, L6, L9, L12, Z1, Z4, Z7, Z10, Z13, R3, R6, R9, R12, RR1, RR4, RR7, RR10, RR13, RA2, RA5, RB1, RB4, RC3, RC6, RD2, RD5, RE1, VEOG, RE3, Rm, RE4, RD1, RD3, RD4, RD6, RD7, RC1, RC2, RC4, RC5, RC7, RB2, RB3, RB5, RB6, RA1, RA3, RA4, RR2, RR3, RR5, RR6, RR8, RR9, RR11, RR12, R1, R2, R4, R5, R7, R8, R10, R11, R13, R14, Z2, Z3, Z5, Z6, Z8, Z9, Z11, Z12, Z14, L1, L2, L4, L5, L7, L8, L10, L11, L13, L14, LL2, LL3, LL5, LL6, LL8, LL9, LL11, LL12, LA1, LA3, LA4, LB2, LB3, LB5, LB6, LC1, LC2, LC4, LC5, LC7, LD1, LD3, LD4, LD6, LD7, LE4"
     ]
    }
   ],
   "source": [
    "epoch_projs.plot_projs_topomap()"
   ]
  },
  {
   "cell_type": "code",
   "execution_count": 20,
   "metadata": {},
   "outputs": [
    {
     "name": "stderr",
     "output_type": "stream",
     "text": [
      "WARNING:root:Did not find any electrode locations the info, will attempt to use digitization points instead. However, if digitization points do not correspond to the EEG electrodes, this will lead to bad results. Please verify that the sensor locations in the plot are accurate.\n"
     ]
    },
    {
     "name": "stdout",
     "output_type": "stream",
     "text": [
      "Fitted sphere radius:         0.0 mm\n",
      "Origin head coordinates:      0.0 0.0 0.0 mm\n",
      "Origin device coordinates:    0.0 0.0 0.0 mm\n"
     ]
    },
    {
     "name": "stderr",
     "output_type": "stream",
     "text": [
      "/Users/shateeshbhugwansing/anaconda/envs/mne/lib/python3.6/site-packages/mne/transforms.py:690: RuntimeWarning: invalid value encountered in true_divide\n",
      "  out[:, 2] = np.arccos(cart[:, 2] / out[:, 0])\n",
      "/Users/shateeshbhugwansing/anaconda/envs/mne/lib/python3.6/site-packages/mne/viz/topomap.py:380: RuntimeWarning: divide by zero encountered in true_divide\n",
      "  head_pos['scale'] = 0.85 / (pos.max(axis=0) - pos.min(axis=0))\n",
      "/Users/shateeshbhugwansing/anaconda/envs/mne/lib/python3.6/site-packages/mne/viz/topomap.py:381: RuntimeWarning: invalid value encountered in multiply\n",
      "  pos *= head_pos['scale']\n",
      "/Users/shateeshbhugwansing/anaconda/envs/mne/lib/python3.6/site-packages/numpy/core/fromnumeric.py:83: RuntimeWarning: invalid value encountered in reduce\n",
      "  return ufunc.reduce(obj, axis, dtype, out, **passkwargs)\n",
      "WARNING:matplotlib.text:posx and posy should be finite values\n"
     ]
    },
    {
     "ename": "RuntimeError",
     "evalue": "libpng signaled error",
     "output_type": "error",
     "traceback": [
      "\u001b[0;31m---------------------------------------------------------------------------\u001b[0m",
      "\u001b[0;31mRuntimeError\u001b[0m                              Traceback (most recent call last)",
      "\u001b[0;32m~/anaconda/envs/mne/lib/python3.6/site-packages/IPython/core/formatters.py\u001b[0m in \u001b[0;36m__call__\u001b[0;34m(self, obj)\u001b[0m\n\u001b[1;32m    339\u001b[0m                 \u001b[0;32mpass\u001b[0m\u001b[0;34m\u001b[0m\u001b[0m\n\u001b[1;32m    340\u001b[0m             \u001b[0;32melse\u001b[0m\u001b[0;34m:\u001b[0m\u001b[0;34m\u001b[0m\u001b[0m\n\u001b[0;32m--> 341\u001b[0;31m                 \u001b[0;32mreturn\u001b[0m \u001b[0mprinter\u001b[0m\u001b[0;34m(\u001b[0m\u001b[0mobj\u001b[0m\u001b[0;34m)\u001b[0m\u001b[0;34m\u001b[0m\u001b[0m\n\u001b[0m\u001b[1;32m    342\u001b[0m             \u001b[0;31m# Finally look for special method names\u001b[0m\u001b[0;34m\u001b[0m\u001b[0;34m\u001b[0m\u001b[0m\n\u001b[1;32m    343\u001b[0m             \u001b[0mmethod\u001b[0m \u001b[0;34m=\u001b[0m \u001b[0mget_real_method\u001b[0m\u001b[0;34m(\u001b[0m\u001b[0mobj\u001b[0m\u001b[0;34m,\u001b[0m \u001b[0mself\u001b[0m\u001b[0;34m.\u001b[0m\u001b[0mprint_method\u001b[0m\u001b[0;34m)\u001b[0m\u001b[0;34m\u001b[0m\u001b[0m\n",
      "\u001b[0;32m~/anaconda/envs/mne/lib/python3.6/site-packages/IPython/core/pylabtools.py\u001b[0m in \u001b[0;36m<lambda>\u001b[0;34m(fig)\u001b[0m\n\u001b[1;32m    239\u001b[0m \u001b[0;34m\u001b[0m\u001b[0m\n\u001b[1;32m    240\u001b[0m     \u001b[0;32mif\u001b[0m \u001b[0;34m'png'\u001b[0m \u001b[0;32min\u001b[0m \u001b[0mformats\u001b[0m\u001b[0;34m:\u001b[0m\u001b[0;34m\u001b[0m\u001b[0m\n\u001b[0;32m--> 241\u001b[0;31m         \u001b[0mpng_formatter\u001b[0m\u001b[0;34m.\u001b[0m\u001b[0mfor_type\u001b[0m\u001b[0;34m(\u001b[0m\u001b[0mFigure\u001b[0m\u001b[0;34m,\u001b[0m \u001b[0;32mlambda\u001b[0m \u001b[0mfig\u001b[0m\u001b[0;34m:\u001b[0m \u001b[0mprint_figure\u001b[0m\u001b[0;34m(\u001b[0m\u001b[0mfig\u001b[0m\u001b[0;34m,\u001b[0m \u001b[0;34m'png'\u001b[0m\u001b[0;34m,\u001b[0m \u001b[0;34m**\u001b[0m\u001b[0mkwargs\u001b[0m\u001b[0;34m)\u001b[0m\u001b[0;34m)\u001b[0m\u001b[0;34m\u001b[0m\u001b[0m\n\u001b[0m\u001b[1;32m    242\u001b[0m     \u001b[0;32mif\u001b[0m \u001b[0;34m'retina'\u001b[0m \u001b[0;32min\u001b[0m \u001b[0mformats\u001b[0m \u001b[0;32mor\u001b[0m \u001b[0;34m'png2x'\u001b[0m \u001b[0;32min\u001b[0m \u001b[0mformats\u001b[0m\u001b[0;34m:\u001b[0m\u001b[0;34m\u001b[0m\u001b[0m\n\u001b[1;32m    243\u001b[0m         \u001b[0mpng_formatter\u001b[0m\u001b[0;34m.\u001b[0m\u001b[0mfor_type\u001b[0m\u001b[0;34m(\u001b[0m\u001b[0mFigure\u001b[0m\u001b[0;34m,\u001b[0m \u001b[0;32mlambda\u001b[0m \u001b[0mfig\u001b[0m\u001b[0;34m:\u001b[0m \u001b[0mretina_figure\u001b[0m\u001b[0;34m(\u001b[0m\u001b[0mfig\u001b[0m\u001b[0;34m,\u001b[0m \u001b[0;34m**\u001b[0m\u001b[0mkwargs\u001b[0m\u001b[0;34m)\u001b[0m\u001b[0;34m)\u001b[0m\u001b[0;34m\u001b[0m\u001b[0m\n",
      "\u001b[0;32m~/anaconda/envs/mne/lib/python3.6/site-packages/IPython/core/pylabtools.py\u001b[0m in \u001b[0;36mprint_figure\u001b[0;34m(fig, fmt, bbox_inches, **kwargs)\u001b[0m\n\u001b[1;32m    123\u001b[0m \u001b[0;34m\u001b[0m\u001b[0m\n\u001b[1;32m    124\u001b[0m     \u001b[0mbytes_io\u001b[0m \u001b[0;34m=\u001b[0m \u001b[0mBytesIO\u001b[0m\u001b[0;34m(\u001b[0m\u001b[0;34m)\u001b[0m\u001b[0;34m\u001b[0m\u001b[0m\n\u001b[0;32m--> 125\u001b[0;31m     \u001b[0mfig\u001b[0m\u001b[0;34m.\u001b[0m\u001b[0mcanvas\u001b[0m\u001b[0;34m.\u001b[0m\u001b[0mprint_figure\u001b[0m\u001b[0;34m(\u001b[0m\u001b[0mbytes_io\u001b[0m\u001b[0;34m,\u001b[0m \u001b[0;34m**\u001b[0m\u001b[0mkw\u001b[0m\u001b[0;34m)\u001b[0m\u001b[0;34m\u001b[0m\u001b[0m\n\u001b[0m\u001b[1;32m    126\u001b[0m     \u001b[0mdata\u001b[0m \u001b[0;34m=\u001b[0m \u001b[0mbytes_io\u001b[0m\u001b[0;34m.\u001b[0m\u001b[0mgetvalue\u001b[0m\u001b[0;34m(\u001b[0m\u001b[0;34m)\u001b[0m\u001b[0;34m\u001b[0m\u001b[0m\n\u001b[1;32m    127\u001b[0m     \u001b[0;32mif\u001b[0m \u001b[0mfmt\u001b[0m \u001b[0;34m==\u001b[0m \u001b[0;34m'svg'\u001b[0m\u001b[0;34m:\u001b[0m\u001b[0;34m\u001b[0m\u001b[0m\n",
      "\u001b[0;32m~/anaconda/envs/mne/lib/python3.6/site-packages/matplotlib/backend_bases.py\u001b[0m in \u001b[0;36mprint_figure\u001b[0;34m(self, filename, dpi, facecolor, edgecolor, orientation, format, **kwargs)\u001b[0m\n\u001b[1;32m   2261\u001b[0m                 \u001b[0morientation\u001b[0m\u001b[0;34m=\u001b[0m\u001b[0morientation\u001b[0m\u001b[0;34m,\u001b[0m\u001b[0;34m\u001b[0m\u001b[0m\n\u001b[1;32m   2262\u001b[0m                 \u001b[0mbbox_inches_restore\u001b[0m\u001b[0;34m=\u001b[0m\u001b[0m_bbox_inches_restore\u001b[0m\u001b[0;34m,\u001b[0m\u001b[0;34m\u001b[0m\u001b[0m\n\u001b[0;32m-> 2263\u001b[0;31m                 **kwargs)\n\u001b[0m\u001b[1;32m   2264\u001b[0m         \u001b[0;32mfinally\u001b[0m\u001b[0;34m:\u001b[0m\u001b[0;34m\u001b[0m\u001b[0m\n\u001b[1;32m   2265\u001b[0m             \u001b[0;32mif\u001b[0m \u001b[0mbbox_inches\u001b[0m \u001b[0;32mand\u001b[0m \u001b[0mrestore_bbox\u001b[0m\u001b[0;34m:\u001b[0m\u001b[0;34m\u001b[0m\u001b[0m\n",
      "\u001b[0;32m~/anaconda/envs/mne/lib/python3.6/site-packages/matplotlib/backends/backend_agg.py\u001b[0m in \u001b[0;36mprint_png\u001b[0;34m(self, filename_or_obj, *args, **kwargs)\u001b[0m\n\u001b[1;32m    526\u001b[0m             \u001b[0;32mwith\u001b[0m \u001b[0mcbook\u001b[0m\u001b[0;34m.\u001b[0m\u001b[0mopen_file_cm\u001b[0m\u001b[0;34m(\u001b[0m\u001b[0mfilename_or_obj\u001b[0m\u001b[0;34m,\u001b[0m \u001b[0;34m\"wb\"\u001b[0m\u001b[0;34m)\u001b[0m \u001b[0;32mas\u001b[0m \u001b[0mfh\u001b[0m\u001b[0;34m:\u001b[0m\u001b[0;34m\u001b[0m\u001b[0m\n\u001b[1;32m    527\u001b[0m                 _png.write_png(renderer._renderer, fh,\n\u001b[0;32m--> 528\u001b[0;31m                                self.figure.dpi, metadata=metadata)\n\u001b[0m\u001b[1;32m    529\u001b[0m         \u001b[0;32mfinally\u001b[0m\u001b[0;34m:\u001b[0m\u001b[0;34m\u001b[0m\u001b[0m\n\u001b[1;32m    530\u001b[0m             \u001b[0mrenderer\u001b[0m\u001b[0;34m.\u001b[0m\u001b[0mdpi\u001b[0m \u001b[0;34m=\u001b[0m \u001b[0moriginal_dpi\u001b[0m\u001b[0;34m\u001b[0m\u001b[0m\n",
      "\u001b[0;31mRuntimeError\u001b[0m: libpng signaled error"
     ]
    },
    {
     "data": {
      "text/plain": [
       "<Figure size 432x432 with 1 Axes>"
      ]
     },
     "metadata": {},
     "output_type": "display_data"
    },
    {
     "name": "stderr",
     "output_type": "stream",
     "text": [
      "WARNING:matplotlib.text:posx and posy should be finite values\n"
     ]
    },
    {
     "ename": "RuntimeError",
     "evalue": "libpng signaled error",
     "output_type": "error",
     "traceback": [
      "\u001b[0;31m---------------------------------------------------------------------------\u001b[0m",
      "\u001b[0;31mRuntimeError\u001b[0m                              Traceback (most recent call last)",
      "\u001b[0;32m~/anaconda/envs/mne/lib/python3.6/site-packages/IPython/core/formatters.py\u001b[0m in \u001b[0;36m__call__\u001b[0;34m(self, obj)\u001b[0m\n\u001b[1;32m    339\u001b[0m                 \u001b[0;32mpass\u001b[0m\u001b[0;34m\u001b[0m\u001b[0m\n\u001b[1;32m    340\u001b[0m             \u001b[0;32melse\u001b[0m\u001b[0;34m:\u001b[0m\u001b[0;34m\u001b[0m\u001b[0m\n\u001b[0;32m--> 341\u001b[0;31m                 \u001b[0;32mreturn\u001b[0m \u001b[0mprinter\u001b[0m\u001b[0;34m(\u001b[0m\u001b[0mobj\u001b[0m\u001b[0;34m)\u001b[0m\u001b[0;34m\u001b[0m\u001b[0m\n\u001b[0m\u001b[1;32m    342\u001b[0m             \u001b[0;31m# Finally look for special method names\u001b[0m\u001b[0;34m\u001b[0m\u001b[0;34m\u001b[0m\u001b[0m\n\u001b[1;32m    343\u001b[0m             \u001b[0mmethod\u001b[0m \u001b[0;34m=\u001b[0m \u001b[0mget_real_method\u001b[0m\u001b[0;34m(\u001b[0m\u001b[0mobj\u001b[0m\u001b[0;34m,\u001b[0m \u001b[0mself\u001b[0m\u001b[0;34m.\u001b[0m\u001b[0mprint_method\u001b[0m\u001b[0;34m)\u001b[0m\u001b[0;34m\u001b[0m\u001b[0m\n",
      "\u001b[0;32m~/anaconda/envs/mne/lib/python3.6/site-packages/IPython/core/pylabtools.py\u001b[0m in \u001b[0;36m<lambda>\u001b[0;34m(fig)\u001b[0m\n\u001b[1;32m    239\u001b[0m \u001b[0;34m\u001b[0m\u001b[0m\n\u001b[1;32m    240\u001b[0m     \u001b[0;32mif\u001b[0m \u001b[0;34m'png'\u001b[0m \u001b[0;32min\u001b[0m \u001b[0mformats\u001b[0m\u001b[0;34m:\u001b[0m\u001b[0;34m\u001b[0m\u001b[0m\n\u001b[0;32m--> 241\u001b[0;31m         \u001b[0mpng_formatter\u001b[0m\u001b[0;34m.\u001b[0m\u001b[0mfor_type\u001b[0m\u001b[0;34m(\u001b[0m\u001b[0mFigure\u001b[0m\u001b[0;34m,\u001b[0m \u001b[0;32mlambda\u001b[0m \u001b[0mfig\u001b[0m\u001b[0;34m:\u001b[0m \u001b[0mprint_figure\u001b[0m\u001b[0;34m(\u001b[0m\u001b[0mfig\u001b[0m\u001b[0;34m,\u001b[0m \u001b[0;34m'png'\u001b[0m\u001b[0;34m,\u001b[0m \u001b[0;34m**\u001b[0m\u001b[0mkwargs\u001b[0m\u001b[0;34m)\u001b[0m\u001b[0;34m)\u001b[0m\u001b[0;34m\u001b[0m\u001b[0m\n\u001b[0m\u001b[1;32m    242\u001b[0m     \u001b[0;32mif\u001b[0m \u001b[0;34m'retina'\u001b[0m \u001b[0;32min\u001b[0m \u001b[0mformats\u001b[0m \u001b[0;32mor\u001b[0m \u001b[0;34m'png2x'\u001b[0m \u001b[0;32min\u001b[0m \u001b[0mformats\u001b[0m\u001b[0;34m:\u001b[0m\u001b[0;34m\u001b[0m\u001b[0m\n\u001b[1;32m    243\u001b[0m         \u001b[0mpng_formatter\u001b[0m\u001b[0;34m.\u001b[0m\u001b[0mfor_type\u001b[0m\u001b[0;34m(\u001b[0m\u001b[0mFigure\u001b[0m\u001b[0;34m,\u001b[0m \u001b[0;32mlambda\u001b[0m \u001b[0mfig\u001b[0m\u001b[0;34m:\u001b[0m \u001b[0mretina_figure\u001b[0m\u001b[0;34m(\u001b[0m\u001b[0mfig\u001b[0m\u001b[0;34m,\u001b[0m \u001b[0;34m**\u001b[0m\u001b[0mkwargs\u001b[0m\u001b[0;34m)\u001b[0m\u001b[0;34m)\u001b[0m\u001b[0;34m\u001b[0m\u001b[0m\n",
      "\u001b[0;32m~/anaconda/envs/mne/lib/python3.6/site-packages/IPython/core/pylabtools.py\u001b[0m in \u001b[0;36mprint_figure\u001b[0;34m(fig, fmt, bbox_inches, **kwargs)\u001b[0m\n\u001b[1;32m    123\u001b[0m \u001b[0;34m\u001b[0m\u001b[0m\n\u001b[1;32m    124\u001b[0m     \u001b[0mbytes_io\u001b[0m \u001b[0;34m=\u001b[0m \u001b[0mBytesIO\u001b[0m\u001b[0;34m(\u001b[0m\u001b[0;34m)\u001b[0m\u001b[0;34m\u001b[0m\u001b[0m\n\u001b[0;32m--> 125\u001b[0;31m     \u001b[0mfig\u001b[0m\u001b[0;34m.\u001b[0m\u001b[0mcanvas\u001b[0m\u001b[0;34m.\u001b[0m\u001b[0mprint_figure\u001b[0m\u001b[0;34m(\u001b[0m\u001b[0mbytes_io\u001b[0m\u001b[0;34m,\u001b[0m \u001b[0;34m**\u001b[0m\u001b[0mkw\u001b[0m\u001b[0;34m)\u001b[0m\u001b[0;34m\u001b[0m\u001b[0m\n\u001b[0m\u001b[1;32m    126\u001b[0m     \u001b[0mdata\u001b[0m \u001b[0;34m=\u001b[0m \u001b[0mbytes_io\u001b[0m\u001b[0;34m.\u001b[0m\u001b[0mgetvalue\u001b[0m\u001b[0;34m(\u001b[0m\u001b[0;34m)\u001b[0m\u001b[0;34m\u001b[0m\u001b[0m\n\u001b[1;32m    127\u001b[0m     \u001b[0;32mif\u001b[0m \u001b[0mfmt\u001b[0m \u001b[0;34m==\u001b[0m \u001b[0;34m'svg'\u001b[0m\u001b[0;34m:\u001b[0m\u001b[0;34m\u001b[0m\u001b[0m\n",
      "\u001b[0;32m~/anaconda/envs/mne/lib/python3.6/site-packages/matplotlib/backend_bases.py\u001b[0m in \u001b[0;36mprint_figure\u001b[0;34m(self, filename, dpi, facecolor, edgecolor, orientation, format, **kwargs)\u001b[0m\n\u001b[1;32m   2261\u001b[0m                 \u001b[0morientation\u001b[0m\u001b[0;34m=\u001b[0m\u001b[0morientation\u001b[0m\u001b[0;34m,\u001b[0m\u001b[0;34m\u001b[0m\u001b[0m\n\u001b[1;32m   2262\u001b[0m                 \u001b[0mbbox_inches_restore\u001b[0m\u001b[0;34m=\u001b[0m\u001b[0m_bbox_inches_restore\u001b[0m\u001b[0;34m,\u001b[0m\u001b[0;34m\u001b[0m\u001b[0m\n\u001b[0;32m-> 2263\u001b[0;31m                 **kwargs)\n\u001b[0m\u001b[1;32m   2264\u001b[0m         \u001b[0;32mfinally\u001b[0m\u001b[0;34m:\u001b[0m\u001b[0;34m\u001b[0m\u001b[0m\n\u001b[1;32m   2265\u001b[0m             \u001b[0;32mif\u001b[0m \u001b[0mbbox_inches\u001b[0m \u001b[0;32mand\u001b[0m \u001b[0mrestore_bbox\u001b[0m\u001b[0;34m:\u001b[0m\u001b[0;34m\u001b[0m\u001b[0m\n",
      "\u001b[0;32m~/anaconda/envs/mne/lib/python3.6/site-packages/matplotlib/backends/backend_agg.py\u001b[0m in \u001b[0;36mprint_png\u001b[0;34m(self, filename_or_obj, *args, **kwargs)\u001b[0m\n\u001b[1;32m    526\u001b[0m             \u001b[0;32mwith\u001b[0m \u001b[0mcbook\u001b[0m\u001b[0;34m.\u001b[0m\u001b[0mopen_file_cm\u001b[0m\u001b[0;34m(\u001b[0m\u001b[0mfilename_or_obj\u001b[0m\u001b[0;34m,\u001b[0m \u001b[0;34m\"wb\"\u001b[0m\u001b[0;34m)\u001b[0m \u001b[0;32mas\u001b[0m \u001b[0mfh\u001b[0m\u001b[0;34m:\u001b[0m\u001b[0;34m\u001b[0m\u001b[0m\n\u001b[1;32m    527\u001b[0m                 _png.write_png(renderer._renderer, fh,\n\u001b[0;32m--> 528\u001b[0;31m                                self.figure.dpi, metadata=metadata)\n\u001b[0m\u001b[1;32m    529\u001b[0m         \u001b[0;32mfinally\u001b[0m\u001b[0;34m:\u001b[0m\u001b[0;34m\u001b[0m\u001b[0m\n\u001b[1;32m    530\u001b[0m             \u001b[0mrenderer\u001b[0m\u001b[0;34m.\u001b[0m\u001b[0mdpi\u001b[0m \u001b[0;34m=\u001b[0m \u001b[0moriginal_dpi\u001b[0m\u001b[0;34m\u001b[0m\u001b[0m\n",
      "\u001b[0;31mRuntimeError\u001b[0m: libpng signaled error"
     ]
    },
    {
     "data": {
      "text/plain": [
       "<Figure size 432x432 with 1 Axes>"
      ]
     },
     "execution_count": 20,
     "metadata": {},
     "output_type": "execute_result"
    }
   ],
   "source": []
  },
  {
   "cell_type": "code",
   "execution_count": 22,
   "metadata": {},
   "outputs": [
    {
     "name": "stderr",
     "output_type": "stream",
     "text": [
      "WARNING:root:Did not find any electrode locations the info, will attempt to use digitization points instead. However, if digitization points do not correspond to the EEG electrodes, this will lead to bad results. Please verify that the sensor locations in the plot are accurate.\n"
     ]
    },
    {
     "name": "stdout",
     "output_type": "stream",
     "text": [
      "Fitted sphere radius:         0.0 mm\n",
      "Origin head coordinates:      0.0 0.0 0.0 mm\n",
      "Origin device coordinates:    0.0 0.0 0.0 mm\n"
     ]
    },
    {
     "ename": "ValueError",
     "evalue": "The following electrodes have overlapping positions, which causes problems during visualization:\nLm, LE1, Nasium, LE3, LD2, LD5, LC3, LC6, LB1, LB4, LA2, LA5, LL1, LL4, LL7, LL10, LL13, L3, L6, L9, L12, Z1, Z4, Z7, Z10, Z13, R3, R6, R9, R12, RR1, RR4, RR7, RR10, RR13, RA2, RA5, RB1, RB4, RC3, RC6, RD2, RD5, RE1, VEOG, RE3, Rm, RE4, RD1, RD3, RD4, RD6, RD7, RC1, RC2, RC4, RC5, RC7, RB2, RB3, RB5, RB6, RA1, RA3, RA4, RR2, RR3, RR5, RR6, RR8, RR9, RR11, RR12, R1, R2, R4, R5, R7, R8, R10, R11, R13, R14, Z2, Z3, Z5, Z6, Z8, Z9, Z11, Z12, Z14, L1, L2, L4, L5, L7, L8, L10, L11, L13, L14, LL2, LL3, LL5, LL6, LL8, LL9, LL11, LL12, LA1, LA3, LA4, LB2, LB3, LB5, LB6, LC1, LC2, LC4, LC5, LC7, LD1, LD3, LD4, LD6, LD7, LE4",
     "output_type": "error",
     "traceback": [
      "\u001b[0;31m---------------------------------------------------------------------------\u001b[0m",
      "\u001b[0;31mValueError\u001b[0m                                Traceback (most recent call last)",
      "\u001b[0;32m<ipython-input-22-290e475d2194>\u001b[0m in \u001b[0;36m<module>\u001b[0;34m()\u001b[0m\n\u001b[0;32m----> 1\u001b[0;31m \u001b[0mepoch\u001b[0m\u001b[0;34m.\u001b[0m\u001b[0mplot_projs_topomap\u001b[0m\u001b[0;34m(\u001b[0m\u001b[0;34m)\u001b[0m\u001b[0;34m\u001b[0m\u001b[0m\n\u001b[0m",
      "\u001b[0;32m~/anaconda/envs/mne/lib/python3.6/site-packages/mne/io/proj.py\u001b[0m in \u001b[0;36mplot_projs_topomap\u001b[0;34m(self, ch_type, layout, axes)\u001b[0m\n\u001b[1;32m    320\u001b[0m                 \u001b[0;32mfor\u001b[0m \u001b[0mch\u001b[0m \u001b[0;32min\u001b[0m \u001b[0mch_type\u001b[0m\u001b[0;34m:\u001b[0m\u001b[0;34m\u001b[0m\u001b[0m\n\u001b[1;32m    321\u001b[0m                     \u001b[0;32mif\u001b[0m \u001b[0mch\u001b[0m \u001b[0;32min\u001b[0m \u001b[0mself\u001b[0m\u001b[0;34m:\u001b[0m\u001b[0;34m\u001b[0m\u001b[0m\n\u001b[0;32m--> 322\u001b[0;31m                         \u001b[0mlayout\u001b[0m\u001b[0;34m.\u001b[0m\u001b[0mappend\u001b[0m\u001b[0;34m(\u001b[0m\u001b[0mfind_layout\u001b[0m\u001b[0;34m(\u001b[0m\u001b[0mself\u001b[0m\u001b[0;34m.\u001b[0m\u001b[0minfo\u001b[0m\u001b[0;34m,\u001b[0m \u001b[0mch\u001b[0m\u001b[0;34m,\u001b[0m \u001b[0mexclude\u001b[0m\u001b[0;34m=\u001b[0m\u001b[0;34m[\u001b[0m\u001b[0;34m]\u001b[0m\u001b[0;34m)\u001b[0m\u001b[0;34m)\u001b[0m\u001b[0;34m\u001b[0m\u001b[0m\n\u001b[0m\u001b[1;32m    323\u001b[0m                     \u001b[0;32melse\u001b[0m\u001b[0;34m:\u001b[0m\u001b[0;34m\u001b[0m\u001b[0m\n\u001b[1;32m    324\u001b[0m                         \u001b[0mwarn\u001b[0m\u001b[0;34m(\u001b[0m\u001b[0;34m'Channel type %s is not found in info.'\u001b[0m \u001b[0;34m%\u001b[0m \u001b[0mch\u001b[0m\u001b[0;34m)\u001b[0m\u001b[0;34m\u001b[0m\u001b[0m\n",
      "\u001b[0;32m~/anaconda/envs/mne/lib/python3.6/site-packages/mne/channels/layout.py\u001b[0m in \u001b[0;36mfind_layout\u001b[0;34m(info, ch_type, exclude)\u001b[0m\n\u001b[1;32m    418\u001b[0m             raise RuntimeError('Cannot make EEG layout, no measurement info '\n\u001b[1;32m    419\u001b[0m                                'was passed to `find_layout`')\n\u001b[0;32m--> 420\u001b[0;31m         \u001b[0;32mreturn\u001b[0m \u001b[0mmake_eeg_layout\u001b[0m\u001b[0;34m(\u001b[0m\u001b[0minfo\u001b[0m\u001b[0;34m,\u001b[0m \u001b[0mexclude\u001b[0m\u001b[0;34m=\u001b[0m\u001b[0mexclude\u001b[0m\u001b[0;34m)\u001b[0m\u001b[0;34m\u001b[0m\u001b[0m\n\u001b[0m\u001b[1;32m    421\u001b[0m     \u001b[0;32melif\u001b[0m \u001b[0mhas_4D_mag\u001b[0m\u001b[0;34m:\u001b[0m\u001b[0;34m\u001b[0m\u001b[0m\n\u001b[1;32m    422\u001b[0m         \u001b[0mlayout_name\u001b[0m \u001b[0;34m=\u001b[0m \u001b[0;34m'magnesWH3600'\u001b[0m\u001b[0;34m\u001b[0m\u001b[0m\n",
      "\u001b[0;32m~/anaconda/envs/mne/lib/python3.6/site-packages/mne/channels/layout.py\u001b[0m in \u001b[0;36mmake_eeg_layout\u001b[0;34m(info, radius, width, height, exclude)\u001b[0m\n\u001b[1;32m    252\u001b[0m     picks = pick_types(info, meg=False, eeg=True, ref_meg=False,\n\u001b[1;32m    253\u001b[0m                        exclude=exclude)\n\u001b[0;32m--> 254\u001b[0;31m     \u001b[0mloc2d\u001b[0m \u001b[0;34m=\u001b[0m \u001b[0m_auto_topomap_coords\u001b[0m\u001b[0;34m(\u001b[0m\u001b[0minfo\u001b[0m\u001b[0;34m,\u001b[0m \u001b[0mpicks\u001b[0m\u001b[0;34m)\u001b[0m\u001b[0;34m\u001b[0m\u001b[0m\n\u001b[0m\u001b[1;32m    255\u001b[0m     \u001b[0mnames\u001b[0m \u001b[0;34m=\u001b[0m \u001b[0;34m[\u001b[0m\u001b[0minfo\u001b[0m\u001b[0;34m[\u001b[0m\u001b[0;34m'chs'\u001b[0m\u001b[0;34m]\u001b[0m\u001b[0;34m[\u001b[0m\u001b[0mi\u001b[0m\u001b[0;34m]\u001b[0m\u001b[0;34m[\u001b[0m\u001b[0;34m'ch_name'\u001b[0m\u001b[0;34m]\u001b[0m \u001b[0;32mfor\u001b[0m \u001b[0mi\u001b[0m \u001b[0;32min\u001b[0m \u001b[0mpicks\u001b[0m\u001b[0;34m]\u001b[0m\u001b[0;34m\u001b[0m\u001b[0m\n\u001b[1;32m    256\u001b[0m \u001b[0;34m\u001b[0m\u001b[0m\n",
      "\u001b[0;32m~/anaconda/envs/mne/lib/python3.6/site-packages/mne/channels/layout.py\u001b[0m in \u001b[0;36m_auto_topomap_coords\u001b[0;34m(info, picks, ignore_overlap, to_sphere)\u001b[0m\n\u001b[1;32m    709\u001b[0m         raise ValueError('The following electrodes have overlapping positions,'\n\u001b[1;32m    710\u001b[0m                          \u001b[0;34m' which causes problems during visualization:\\n'\u001b[0m \u001b[0;34m+\u001b[0m\u001b[0;34m\u001b[0m\u001b[0m\n\u001b[0;32m--> 711\u001b[0;31m                          ', '.join(problematic_electrodes))\n\u001b[0m\u001b[1;32m    712\u001b[0m \u001b[0;34m\u001b[0m\u001b[0m\n\u001b[1;32m    713\u001b[0m     \u001b[0;32mif\u001b[0m \u001b[0mto_sphere\u001b[0m\u001b[0;34m:\u001b[0m\u001b[0;34m\u001b[0m\u001b[0m\n",
      "\u001b[0;31mValueError\u001b[0m: The following electrodes have overlapping positions, which causes problems during visualization:\nLm, LE1, Nasium, LE3, LD2, LD5, LC3, LC6, LB1, LB4, LA2, LA5, LL1, LL4, LL7, LL10, LL13, L3, L6, L9, L12, Z1, Z4, Z7, Z10, Z13, R3, R6, R9, R12, RR1, RR4, RR7, RR10, RR13, RA2, RA5, RB1, RB4, RC3, RC6, RD2, RD5, RE1, VEOG, RE3, Rm, RE4, RD1, RD3, RD4, RD6, RD7, RC1, RC2, RC4, RC5, RC7, RB2, RB3, RB5, RB6, RA1, RA3, RA4, RR2, RR3, RR5, RR6, RR8, RR9, RR11, RR12, R1, R2, R4, R5, R7, R8, R10, R11, R13, R14, Z2, Z3, Z5, Z6, Z8, Z9, Z11, Z12, Z14, L1, L2, L4, L5, L7, L8, L10, L11, L13, L14, LL2, LL3, LL5, LL6, LL8, LL9, LL11, LL12, LA1, LA3, LA4, LB2, LB3, LB5, LB6, LC1, LC2, LC4, LC5, LC7, LD1, LD3, LD4, LD6, LD7, LE4"
     ]
    }
   ],
   "source": [
    "epoch.plot_projs_topomap()"
   ]
  },
  {
   "cell_type": "code",
   "execution_count": null,
   "metadata": {},
   "outputs": [],
   "source": []
  }
 ],
 "metadata": {
  "kernelspec": {
   "display_name": "Python 3",
   "language": "python",
   "name": "python3"
  },
  "language_info": {
   "codemirror_mode": {
    "name": "ipython",
    "version": 3
   },
   "file_extension": ".py",
   "mimetype": "text/x-python",
   "name": "python",
   "nbconvert_exporter": "python",
   "pygments_lexer": "ipython3",
   "version": "3.6.6"
  }
 },
 "nbformat": 4,
 "nbformat_minor": 2
}
