{
 "cells": [
  {
   "cell_type": "markdown",
   "metadata": {},
   "source": [
    "### Visualization of our EEG data \n",
    "A notebook with different methods to visualize our data and results of classification  \n",
    "Author: Shateesh Bhugwansing"
   ]
  },
  {
   "cell_type": "markdown",
   "metadata": {},
   "source": [
    "## NOTE (10/31): \n",
    "The sensor spacing is off. I need to figure out why.\n",
    "things to try (for next week):\n",
    "- plotting 2D position data"
   ]
  },
  {
   "cell_type": "code",
   "execution_count": 1,
   "metadata": {},
   "outputs": [],
   "source": [
    "%run ../preprocessing/StimCodes.ipynb\n",
    "import mne\n",
    "import numpy as np\n",
    "import matplotlib.pyplot as plt\n",
    "%matplotlib inline\n",
    "import matplotlib\n",
    "matplotlib.rcParams.update({'font.size': 11})"
   ]
  },
  {
   "cell_type": "code",
   "execution_count": 2,
   "metadata": {},
   "outputs": [
    {
     "name": "stdout",
     "output_type": "stream",
     "text": [
      "Reading /Volumes/SB/EpochedEEG/20131216_1441_epo.fif ...\n",
      "    Found the data of interest:\n",
      "        t =    -199.22 ...     500.00 ms\n",
      "        0 CTF compensation matrices available\n",
      "5424 matching events found\n",
      "Applying baseline correction (mode: mean)\n",
      "5424 matching events found\n",
      "Applying baseline correction (mode: mean)\n",
      "Not setting metadata\n",
      "0 projection items activated\n"
     ]
    }
   ],
   "source": [
    "# read in data \n",
    "epoch_path = '/Volumes/SB/EpochedEEG/20131216_1441_epo.fif'\n",
    "epoch = mne.read_epochs(epoch_path, preload=True)"
   ]
  },
  {
   "cell_type": "code",
   "execution_count": null,
   "metadata": {},
   "outputs": [],
   "source": [
    "path = '/Users/shateeshbhugwansing/Desktop/seniorprojecteeg/Visualization/'\n",
    "montage = mne.channels.read_montage(kind=\"ANT_DukeWaveGuard_128_electrode_montage_copy\", ch_names=None, path=path, unit='mm', transform=False)"
   ]
  },
  {
   "cell_type": "code",
   "execution_count": null,
   "metadata": {},
   "outputs": [],
   "source": [
    "montage"
   ]
  },
  {
   "cell_type": "code",
   "execution_count": null,
   "metadata": {},
   "outputs": [],
   "source": [
    "epoch.set_montage(montage)"
   ]
  },
  {
   "cell_type": "code",
   "execution_count": null,
   "metadata": {},
   "outputs": [],
   "source": [
    "epoch.plot_sensors();"
   ]
  },
  {
   "cell_type": "code",
   "execution_count": null,
   "metadata": {},
   "outputs": [],
   "source": [
    "epoch.plot_sensors('3d');"
   ]
  },
  {
   "cell_type": "markdown",
   "metadata": {},
   "source": [
    "## Mapping coefficients to the channels\n",
    "Map the coefficients of Logistic Regression to the channels of the ANT Waveguard Duke cap"
   ]
  },
  {
   "cell_type": "code",
   "execution_count": 3,
   "metadata": {},
   "outputs": [],
   "source": [
    "# %run ../preprocessing/Artifact_Removal/preprocecssing_helpers.ipynb\n",
    "# %run ../preprocessing/StimCodes.ipynb\n",
    "# %run ../Classification/ConcatEpochTrails.ipynb\n",
    "# %run ../PCA/Emmanuil-PCA.ipynb\n",
    "\n",
    "from mne.decoding import Vectorizer\n",
    "from sklearn.preprocessing import MinMaxScaler, Normalizer\n",
    "from sklearn.preprocessing import StandardScaler\n",
    "from sklearn.pipeline import make_pipeline\n",
    "from sklearn.linear_model import LogisticRegression\n",
    "from sklearn.model_selection import train_test_split\n",
    "from sklearn.model_selection import StratifiedKFold\n",
    "from sklearn.metrics import classification_report\n",
    "from sklearn.svm import SVC  # noqa\n",
    "from sklearn.model_selection import ShuffleSplit  # noqa\n",
    "\n",
    "from mne.decoding import UnsupervisedSpatialFilter\n",
    "from sklearn.decomposition import PCA\n",
    "\n",
    "from sklearn.metrics import confusion_matrix\n",
    "from mne.viz import tight_layout\n",
    "\n",
    "import time"
   ]
  },
  {
   "cell_type": "code",
   "execution_count": 7,
   "metadata": {},
   "outputs": [],
   "source": [
    "new_stim_code_event_ids = {\n",
    "     \n",
    "    \"b-f2-wrd\":1,\n",
    "    \"b-f1-wrd\":2,\n",
    "    \"b-tg-wrd\":3,\n",
    "\n",
    "    \"b-f2-spk\":4,\n",
    "    \"b-f1-spk\":5,\n",
    "    \"b-tg-spk\":6,\n",
    "\n",
    "    \"b-f2-pic\":7,\n",
    "    \"b-f1-pic\":8,\n",
    "    \"b-tg-pic\":9,\n",
    "\n",
    "    \"b-f2-snd\":10,\n",
    "    \"b-f1-snd\":11,\n",
    "    \"b-tg-snd\":12,\n",
    "\n",
    "    \"f-f2-wrd\":13,\n",
    "    \"f-f1-wrd\":14,\n",
    "    \"f-tg-wrd\":15,\n",
    "\n",
    "    \"f-f2-spk\":16,\n",
    "    \"f-f1-spk\":17,\n",
    "    \"f-tg-spk\":18,\n",
    "\n",
    "    \"f-f2-pic\":19,\n",
    "    \"f-f1-pic\":20,\n",
    "    \"f-tg-pic\":21,\n",
    "\n",
    "    \"f-f2-snd\":22,\n",
    "    \"f-f1-snd\":23,\n",
    "    \"f-tg-snd\":24\n",
    "}"
   ]
  },
  {
   "cell_type": "code",
   "execution_count": null,
   "metadata": {},
   "outputs": [],
   "source": [
    "## the following is from Emmanuil's Audio vs. Visual notebook"
   ]
  },
  {
   "cell_type": "code",
   "execution_count": null,
   "metadata": {},
   "outputs": [],
   "source": [
    "# get indicies of trials of epoch object\n",
    "trial_index_list = get_trial_index_list(epoch_object= epoch)"
   ]
  },
  {
   "cell_type": "code",
   "execution_count": null,
   "metadata": {},
   "outputs": [],
   "source": [
    "# get new events for epoch object\n",
    "new_event_list = convert_event_ids_to_stim_combinations(epoch_object=epoch,\n",
    "                                                        trial_index_list = trial_index_list,\n",
    "                                                        stim_combinations = stim_combinations)"
   ]
  },
  {
   "cell_type": "code",
   "execution_count": null,
   "metadata": {},
   "outputs": [],
   "source": [
    "print(epoch.events.shape)\n",
    "print(new_event_list.shape)"
   ]
  },
  {
   "cell_type": "code",
   "execution_count": null,
   "metadata": {},
   "outputs": [],
   "source": [
    "# assign new events to current epoch object\n",
    "epoch.events = new_event_list\n",
    "\n",
    "# assign new event_ids to current epoch object (dictionary \n",
    "# found in ../Classification/ConcatEpochTrails.ipynb)\n",
    " \n",
    "epoch.event_id = modality_lexicality_event_ids"
   ]
  },
  {
   "cell_type": "code",
   "execution_count": null,
   "metadata": {},
   "outputs": [],
   "source": [
    "# classification time!\n",
    "\n",
    "# Isolate audio vs visual codes\n",
    "# audio codes are < 700, # visual codes are > 700 \n",
    "# audio : 100 , visual : 101\n",
    "for event in epoch.events:\n",
    "    if event[-1] < 700:\n",
    "        event[-1] = 100\n",
    "    else:\n",
    "        event[-1] = 101"
   ]
  },
  {
   "cell_type": "code",
   "execution_count": null,
   "metadata": {},
   "outputs": [],
   "source": [
    "norm_pipe = make_pipeline(Vectorizer(), \n",
    "                          StandardScaler())\n",
    "norm_pipe.fit(epoch.get_data())"
   ]
  },
  {
   "cell_type": "code",
   "execution_count": null,
   "metadata": {},
   "outputs": [],
   "source": [
    "scaled_data = norm_pipe.transform(epoch.get_data())\n",
    "scaled_data.shape"
   ]
  },
  {
   "cell_type": "code",
   "execution_count": null,
   "metadata": {},
   "outputs": [],
   "source": [
    "# do PCA to reduce dimensions and data needed for classification.\n",
    "# pca = UnsupervisedSpatialFilter(PCA(28), average=False) # PCA, keep 9 components \n",
    "\n",
    "epoch_data = epoch.get_data()\n",
    "# pca_data = pca.fit_transform(epoch_data)"
   ]
  },
  {
   "cell_type": "code",
   "execution_count": null,
   "metadata": {},
   "outputs": [],
   "source": [
    "# classification pipeline\n",
    "start = time.time()\n",
    "clf = make_pipeline(Vectorizer(),\n",
    "                    StandardScaler(),\n",
    "                    LogisticRegression(penalty='l1'))\n",
    "end = time.time()\n",
    "print(\"clf elapsed time: {0}\".format(end - start))\n",
    "\n",
    "start_master = time.time()\n",
    "cv = StratifiedKFold(n_splits=5, shuffle = True, random_state = 42)\n",
    "\n",
    "labels = epoch.events[:,-1]\n",
    "preds = np.empty(len(epoch_data))\n",
    "for train, test in cv.split(epoch_data, labels):\n",
    "    start = time.time()\n",
    "    clf.fit(epoch_data[train], labels[train])\n",
    "    preds[test] = clf.predict(epoch_data[test])\n",
    "    end = time.time()\n",
    "    print(\"kfold elapsed time: {0}\".format(end - start))\n",
    "end = time.time()\n",
    "print(\"classification elapsed time: {0}\".format(end - start_master))\n",
    "\n",
    "\n",
    "start = time.time()\n",
    "target_names = ['Audio', 'Visual']\n",
    "report = classification_report(labels, preds, target_names=target_names)\n",
    "print(report)\n",
    "end = time.time()\n",
    "print(\"reporting elapsed time: {0}\".format(end - start))"
   ]
  },
  {
   "cell_type": "code",
   "execution_count": 6,
   "metadata": {},
   "outputs": [],
   "source": [
    "## Emmanuil's classification code crashed. \n",
    "## Going to use what Tarekul did."
   ]
  },
  {
   "cell_type": "code",
   "execution_count": 8,
   "metadata": {},
   "outputs": [],
   "source": [
    "def update_stim_code(epoch):\n",
    "    keys_to_delete = [x for x in epoch.event_id if 'stim' in x]\n",
    "    for key in keys_to_delete:\n",
    "        if 'stim' in key:\n",
    "            del epoch.event_id[key]\n",
    "            \n",
    "    for key in new_stim_code_event_ids:\n",
    "        epoch.event_id[key] = new_stim_code_event_ids[key]\n",
    "    \n",
    "    return epoch"
   ]
  },
  {
   "cell_type": "code",
   "execution_count": 9,
   "metadata": {},
   "outputs": [
    {
     "data": {
      "text/plain": [
       "(5424, 3)"
      ]
     },
     "execution_count": 9,
     "metadata": {},
     "output_type": "execute_result"
    }
   ],
   "source": [
    "epochWnewStim = update_stim_code(epoch)\n",
    "epochWnewStim.events.shape"
   ]
  },
  {
   "cell_type": "code",
   "execution_count": 10,
   "metadata": {},
   "outputs": [],
   "source": [
    "events = epochWnewStim.events[:,-1]\n",
    "event_ids = epochWnewStim.event_id"
   ]
  },
  {
   "cell_type": "code",
   "execution_count": 11,
   "metadata": {},
   "outputs": [],
   "source": [
    "stim_combinations = {\n",
    "    (5,6,4): \"AALL\",\n",
    "    (17,18,16) :\"AALL\",\n",
    "    \n",
    "    (11,6,10):\"AALN\",\n",
    "    (23,18,22):\"AALN\",\n",
    "    \n",
    "    (5,12,4) :\"AANL\",\n",
    "    (17,24,16):\"AANL\",\n",
    "    \n",
    "    (11,12,10) : \"AANN\",\n",
    "    (23,24,22): \"AANN\",\n",
    "    \n",
    "    (2,6,1):\"AVLL\",\n",
    "    (14,18,13):\"AVLL\",\n",
    "    \n",
    "    (8,12,7):\"AVNN\",\n",
    "    (20,24,19):\"AVNN\",\n",
    "    \n",
    "    (5,3,4) :\"VALL\",\n",
    "    (17,15,16):\"VALL\",\n",
    "    \n",
    "    (11,9,10) :\"VANN\",\n",
    "    (23,21,22):\"VANN\",\n",
    "    \n",
    "    (2,3,1) :\"VVLL\",\n",
    "    (14,15,13):\"VVLL\",\n",
    "    \n",
    "    (8,3,7):\"VVLN\",\n",
    "    (20,15,19):\"VVLN\",\n",
    "    \n",
    "    (2,9,1) :\"VVNL\",\n",
    "    (14,21,13):\"VVNL\",\n",
    "    \n",
    "    (8,9,7) :\"VVNN\",\n",
    "    (20,21,19):\"VVNN\",\n",
    "    \n",
    "    (14,21,4):\"whatever\"\n",
    "    \n",
    "    \n",
    "    \n",
    "}"
   ]
  },
  {
   "cell_type": "code",
   "execution_count": 12,
   "metadata": {},
   "outputs": [
    {
     "data": {
      "text/plain": [
       "[array([27806,     0,   100]),\n",
       " array([27931,     0,   100]),\n",
       " array([28060,     0,   100]),\n",
       " array([28521,     0,   100]),\n",
       " array([28646,     0,   100]),\n",
       " array([28775,     0,   100]),\n",
       " array([29292,     0,   100]),\n",
       " array([29417,     0,   100]),\n",
       " array([29546,     0,   100]),\n",
       " array([29826,     0,   100]),\n",
       " array([29951,     0,   100]),\n",
       " array([30080,     0,   100]),\n",
       " array([30752,     0,   100]),\n",
       " array([30876,     0,   100]),\n",
       " array([31006,     0,   100]),\n",
       " array([31406,     0,   100]),\n",
       " array([31531,     0,   100]),\n",
       " array([31660,     0,   100]),\n",
       " array([31940,     0,   100]),\n",
       " array([32065,     0,   100]),\n",
       " array([32194,     0,   100]),\n",
       " array([32646,     0,   100]),\n",
       " array([32771,     0,   100]),\n",
       " array([32900,     0,   100]),\n",
       " array([33383,     0,   100]),\n",
       " array([33508,     0,   100]),\n",
       " array([33637,     0,   100]),\n",
       " array([35463,     0,   100]),\n",
       " array([35587,     0,   100]),\n",
       " array([35717,     0,   100]),\n",
       " array([36328,     0,   100]),\n",
       " array([36453,     0,   100]),\n",
       " array([36582,     0,   100]),\n",
       " array([37543,     0,   100]),\n",
       " array([37667,     0,   100]),\n",
       " array([37797,     0,   100]),\n",
       " array([38124,     0,   100]),\n",
       " array([38249,     0,   100]),\n",
       " array([38378,     0,   100]),\n",
       " array([38658,     0,   100]),\n",
       " array([38783,     0,   100]),\n",
       " array([38912,     0,   100]),\n",
       " array([39390,     0,   100]),\n",
       " array([39515,     0,   100]),\n",
       " array([39644,     0,   100]),\n",
       " array([40277,     0,   100]),\n",
       " array([40402,     0,   100]),\n",
       " array([40531,     0,   100]),\n",
       " array([40811,     0,   100]),\n",
       " array([40936,     0,   100]),\n",
       " array([41065,     0,   100]),\n",
       " array([41345,     0,   100]),\n",
       " array([41470,     0,   100]),\n",
       " array([41599,     0,   100]),\n",
       " array([41896,     0,   100]),\n",
       " array([42021,     0,   100]),\n",
       " array([42150,     0,   100]),\n",
       " array([42443,     0,   100]),\n",
       " array([42568,     0,   100]),\n",
       " array([42697,     0,   100]),\n",
       " array([92801,     0,   200]),\n",
       " array([92926,     0,   200]),\n",
       " array([93055,     0,   200]),\n",
       " array([94032,     0,   200]),\n",
       " array([94157,     0,   200]),\n",
       " array([94286,     0,   200]),\n",
       " array([94605,     0,   200]),\n",
       " array([94730,     0,   200]),\n",
       " array([94859,     0,   200]),\n",
       " array([96039,     0,   200]),\n",
       " array([96164,     0,   200]),\n",
       " array([96293,     0,   200]),\n",
       " array([96595,     0,   200]),\n",
       " array([96720,     0,   200]),\n",
       " array([96849,     0,   200]),\n",
       " array([97404,     0,   200]),\n",
       " array([97529,     0,   200]),\n",
       " array([97658,     0,   200]),\n",
       " array([97973,     0,   200]),\n",
       " array([98098,     0,   200]),\n",
       " array([98227,     0,   200]),\n",
       " array([98627,     0,   200]),\n",
       " array([98752,     0,   200]),\n",
       " array([98881,     0,   200]),\n",
       " array([99807,     0,   200]),\n",
       " array([99932,     0,   200]),\n",
       " array([100061,      0,    200]),\n",
       " array([100953,      0,    200]),\n",
       " array([101078,      0,    200]),\n",
       " array([101207,      0,    200]),\n",
       " array([101741,      0,    200]),\n",
       " array([101866,      0,    200]),\n",
       " array([101995,      0,    200]),\n",
       " array([102649,      0,    200]),\n",
       " array([102774,      0,    200]),\n",
       " array([102903,      0,    200]),\n",
       " array([103442,      0,    200]),\n",
       " array([103567,      0,    200]),\n",
       " array([103696,      0,    200]),\n",
       " array([104307,      0,    200]),\n",
       " array([104432,      0,    200]),\n",
       " array([104561,      0,    200]),\n",
       " array([105233,      0,    200]),\n",
       " array([105358,      0,    200]),\n",
       " array([105487,      0,    200]),\n",
       " array([106280,      0,    200]),\n",
       " array([106404,      0,    200]),\n",
       " array([106534,      0,    200]),\n",
       " array([109716,      0,    200]),\n",
       " array([109841,      0,    200]),\n",
       " array([109970,      0,    200]),\n",
       " array([111077,      0,    200]),\n",
       " array([111202,      0,    200]),\n",
       " array([111331,      0,    200]),\n",
       " array([111796,      0,    200]),\n",
       " array([111921,      0,    200]),\n",
       " array([112050,      0,    200]),\n",
       " array([112511,      0,    200]),\n",
       " array([112636,      0,    200]),\n",
       " array([112765,      0,    200]),\n",
       " array([333251,      0,    100]),\n",
       " array([333376,      0,    100]),\n",
       " array([333505,      0,    100]),\n",
       " array([333979,      0,    100]),\n",
       " array([334104,      0,    100]),\n",
       " array([334233,      0,    100]),\n",
       " array([334689,      0,    100]),\n",
       " array([334814,      0,    100]),\n",
       " array([334943,      0,    100]),\n",
       " array([335314,      0,    100]),\n",
       " array([335439,      0,    100]),\n",
       " array([335568,      0,    100]),\n",
       " array([336205,      0,    100]),\n",
       " array([336330,      0,    100]),\n",
       " array([336459,      0,    100]),\n",
       " array([336739,      0,    100]),\n",
       " array([336864,      0,    100]),\n",
       " array([336993,      0,    100]),\n",
       " array([338100,      0,    100]),\n",
       " array([338225,      0,    100]),\n",
       " array([338354,      0,    100]),\n",
       " array([338660,      0,    100]),\n",
       " array([338785,      0,    100]),\n",
       " array([338914,      0,    100]),\n",
       " array([340563,      0,    100]),\n",
       " array([340688,      0,    100]),\n",
       " array([340817,      0,    100]),\n",
       " array([342992,      0,    100]),\n",
       " array([343117,      0,    100]),\n",
       " array([343246,      0,    100]),\n",
       " array([343737,      0,    100]),\n",
       " array([343862,      0,    100]),\n",
       " array([343991,      0,    100]),\n",
       " array([346299,      0,    100]),\n",
       " array([346424,      0,    100]),\n",
       " array([346553,      0,    100]),\n",
       " array([347755,      0,    100]),\n",
       " array([347880,      0,    100]),\n",
       " array([348009,      0,    100]),\n",
       " array([349387,      0,    100]),\n",
       " array([349512,      0,    100]),\n",
       " array([349641,      0,    100]),\n",
       " array([350317,      0,    100]),\n",
       " array([350442,      0,    100]),\n",
       " array([350571,      0,    100]),\n",
       " array([351505,      0,    100]),\n",
       " array([351630,      0,    100]),\n",
       " array([351760,      0,    100]),\n",
       " array([352362,      0,    100]),\n",
       " array([352495,      0,    100]),\n",
       " array([352616,      0,    100]),\n",
       " array([353146,      0,    100]),\n",
       " array([353271,      0,    100]),\n",
       " array([353400,      0,    100]),\n",
       " array([354481,      0,    100]),\n",
       " array([354606,      0,    100]),\n",
       " array([354735,      0,    100]),\n",
       " array([356117,      0,    100]),\n",
       " array([356242,      0,    100]),\n",
       " array([356372,      0,    100]),\n",
       " array([357560,      0,    200]),\n",
       " array([357685,      0,    200]),\n",
       " array([357814,      0,    200]),\n",
       " array([358417,      0,    200]),\n",
       " array([358542,      0,    200]),\n",
       " array([358671,      0,    200]),\n",
       " array([360006,      0,    200]),\n",
       " array([360131,      0,    200]),\n",
       " array([360260,      0,    200]),\n",
       " array([362138,      0,    200]),\n",
       " array([362263,      0,    200]),\n",
       " array([362392,      0,    200]),\n",
       " array([364071,      0,    200]),\n",
       " array([364196,      0,    200]),\n",
       " array([364325,      0,    200]),\n",
       " array([364614,      0,    200]),\n",
       " array([364739,      0,    200]),\n",
       " array([364868,      0,    200]),\n",
       " array([365178,      0,    200]),\n",
       " array([365303,      0,    200]),\n",
       " array([365432,      0,    200]),\n",
       " array([365850,      0,    200]),\n",
       " array([365975,      0,    200]),\n",
       " array([366104,      0,    200]),\n",
       " array([366435,      0,    200]),\n",
       " array([366560,      0,    200]),\n",
       " array([366689,      0,    200]),\n",
       " array([367671,      0,    200]),\n",
       " array([367796,      0,    200]),\n",
       " array([367925,      0,    200]),\n",
       " array([370729,      0,    200]),\n",
       " array([370854,      0,    200]),\n",
       " array([370983,      0,    200]),\n",
       " array([371495,      0,    200]),\n",
       " array([371620,      0,    200]),\n",
       " array([371749,      0,    200]),\n",
       " array([372154,      0,    200]),\n",
       " array([372279,      0,    200]),\n",
       " array([372408,      0,    200]),\n",
       " array([372873,      0,    200]),\n",
       " array([372998,      0,    200]),\n",
       " array([373127,      0,    200]),\n",
       " array([375207,      0,    200]),\n",
       " array([375332,      0,    200]),\n",
       " array([375461,      0,    200]),\n",
       " array([376236,      0,    200]),\n",
       " array([376361,      0,    200]),\n",
       " array([376491,      0,    200]),\n",
       " array([377068,      0,    200]),\n",
       " array([377192,      0,    200]),\n",
       " array([377322,      0,    200]),\n",
       " array([378428,      0,    200]),\n",
       " array([378553,      0,    200]),\n",
       " array([378682,      0,    200]),\n",
       " array([379178,      0,    200]),\n",
       " array([379303,      0,    200]),\n",
       " array([379432,      0,    200]),\n",
       " array([379966,      0,    200]),\n",
       " array([380091,      0,    200]),\n",
       " array([380220,      0,    200]),\n",
       " array([442260,      0,    100]),\n",
       " array([442385,      0,    100]),\n",
       " array([442515,      0,    100]),\n",
       " array([443100,      0,    100]),\n",
       " array([443225,      0,    100]),\n",
       " array([443354,      0,    100]),\n",
       " array([443686,      0,    100]),\n",
       " array([443811,      0,    100]),\n",
       " array([443940,      0,    100]),\n",
       " array([444259,      0,    100]),\n",
       " array([444383,      0,    100]),\n",
       " array([444513,      0,    100]),\n",
       " array([445004,      0,    100]),\n",
       " array([445128,      0,    100]),\n",
       " array([445258,      0,    100]),\n",
       " array([445792,      0,    100]),\n",
       " array([445917,      0,    100]),\n",
       " array([446046,      0,    100]),\n",
       " array([446326,      0,    100]),\n",
       " array([446451,      0,    100]),\n",
       " array([446580,      0,    100]),\n",
       " array([447088,      0,    100]),\n",
       " array([447213,      0,    100]),\n",
       " array([447342,      0,    100]),\n",
       " array([449331,      0,    100]),\n",
       " array([449456,      0,    100]),\n",
       " array([449585,      0,    100]),\n",
       " array([450933,      0,    100]),\n",
       " array([451058,      0,    100]),\n",
       " array([451187,      0,    100]),\n",
       " array([451605,      0,    100]),\n",
       " array([451730,      0,    100]),\n",
       " array([451859,      0,    100]),\n",
       " array([452449,      0,    100]),\n",
       " array([452574,      0,    100]),\n",
       " array([452703,      0,    100]),\n",
       " array([453293,      0,    100]),\n",
       " array([453418,      0,    100]),\n",
       " array([453547,      0,    100]),\n",
       " array([453965,      0,    100]),\n",
       " array([454090,      0,    100]),\n",
       " array([454219,      0,    100]),\n",
       " array([454499,      0,    100]),\n",
       " array([454624,      0,    100]),\n",
       " array([454753,      0,    100]),\n",
       " array([455059,      0,    100]),\n",
       " array([455184,      0,    100]),\n",
       " array([455313,      0,    100]),\n",
       " array([455967,      0,    100]),\n",
       " array([456092,      0,    100]),\n",
       " array([456221,      0,    100]),\n",
       " array([456514,      0,    100]),\n",
       " array([456639,      0,    100]),\n",
       " array([456768,      0,    100]),\n",
       " array([457048,      0,    100]),\n",
       " array([457173,      0,    100]),\n",
       " array([457302,      0,    100]),\n",
       " array([458297,      0,    100]),\n",
       " array([458422,      0,    100]),\n",
       " array([458551,      0,    100]),\n",
       " array([561192,      0,    100]),\n",
       " array([561316,      0,    100]),\n",
       " array([561446,      0,    100]),\n",
       " array([562432,      0,    100]),\n",
       " array([562557,      0,    100]),\n",
       " array([562686,      0,    100]),\n",
       " array([563125,      0,    100]),\n",
       " array([563250,      0,    100]),\n",
       " array([563379,      0,    100]),\n",
       " array([563754,      0,    100]),\n",
       " array([563879,      0,    100]),\n",
       " array([564008,      0,    100]),\n",
       " array([564942,      0,    100]),\n",
       " array([565067,      0,    100]),\n",
       " array([565196,      0,    100]),\n",
       " array([565575,      0,    100]),\n",
       " array([565700,      0,    100]),\n",
       " array([565829,      0,    100]),\n",
       " array([566264,      0,    100]),\n",
       " array([566389,      0,    100]),\n",
       " array([566518,      0,    100]),\n",
       " array([567001,      0,    100]),\n",
       " array([567126,      0,    100]),\n",
       " array([567255,      0,    100]),\n",
       " array([567612,      0,    100]),\n",
       " array([567737,      0,    100]),\n",
       " array([567866,      0,    100]),\n",
       " array([568405,      0,    100]),\n",
       " array([568529,      0,    100]),\n",
       " array([568659,      0,    100]),\n",
       " array([569063,      0,    100]),\n",
       " array([569188,      0,    100]),\n",
       " array([569318,      0,    100]),\n",
       " array([569895,      0,    100]),\n",
       " array([570019,      0,    100]),\n",
       " array([570149,      0,    100]),\n",
       " array([570454,      0,    100]),\n",
       " array([570579,      0,    100]),\n",
       " array([570708,      0,    100]),\n",
       " array([572397,      0,    100]),\n",
       " array([572521,      0,    100]),\n",
       " array([572651,      0,    100]),\n",
       " array([573529,      0,    100]),\n",
       " array([573654,      0,    100]),\n",
       " array([573783,      0,    100]),\n",
       " array([574356,      0,    100]),\n",
       " array([574481,      0,    100]),\n",
       " array([574610,      0,    100]),\n",
       " array([575613,      0,    100]),\n",
       " array([575738,      0,    100]),\n",
       " array([575867,      0,    100]),\n",
       " array([576272,      0,    100]),\n",
       " array([576397,      0,    100]),\n",
       " array([576526,      0,    100]),\n",
       " array([577267,      0,    100]),\n",
       " array([577392,      0,    100]),\n",
       " array([577521,      0,    100]),\n",
       " array([578206,      0,    100]),\n",
       " array([578331,      0,    100]),\n",
       " array([578460,      0,    100])]"
      ]
     },
     "execution_count": 12,
     "metadata": {},
     "output_type": "execute_result"
    }
   ],
   "source": [
    "events = epochWnewStim.events\n",
    "events_new = []\n",
    "temp = []\n",
    "combo = []\n",
    "\n",
    "\n",
    "for event in events:\n",
    "    if event[-1] == 31:\n",
    "        combo = []\n",
    "        for trialEpochs in temp:\n",
    "            if trialEpochs[-1] >=1 and trialEpochs[-1]<=24:\n",
    "                combo.append(trialEpochs[-1])\n",
    "        if len(combo) == 3: \n",
    "            combo_tuple = (combo[0],combo[1],combo[2]) \n",
    "            if stim_combinations[combo_tuple] == \"VVNN\" :\n",
    "                #print(combo_tuple)\n",
    "                for k in temp:\n",
    "                    if k[-1] >= 1 and k[-1] <= 24:\n",
    "                        #print(k)\n",
    "                        k[-1] = 100\n",
    "            elif stim_combinations[combo_tuple] == \"AANN\":\n",
    "                #print(combo_tuple)\n",
    "                for k in temp:\n",
    "                    if k[-1] >= 1 and k[-1] <= 24:\n",
    "                        #print(k)\n",
    "                        k[-1] = 200       \n",
    "            combo_tuple = []\n",
    "                \n",
    "        \n",
    "        for p in temp:\n",
    "            if p[-1] == 100 or p[-1] == 200:\n",
    "                events_new.append(p)\n",
    "#             if p[-1] >=1 and p[-1] <=24:\n",
    "#                 events_new.append(p)\n",
    "        temp = []\n",
    "        temp.append(event)\n",
    "    else:\n",
    "        temp.append(event)\n",
    "events_new"
   ]
  },
  {
   "cell_type": "code",
   "execution_count": 13,
   "metadata": {},
   "outputs": [],
   "source": [
    "#New epoch with only visual stim code combinations\n",
    "test = epochWnewStim[(epochWnewStim.events[:,-1]==100) | (epochWnewStim.events[:,-1]==200)].copy()"
   ]
  },
  {
   "cell_type": "code",
   "execution_count": 14,
   "metadata": {},
   "outputs": [
    {
     "name": "stdout",
     "output_type": "stream",
     "text": [
      "shape of data (360, 129, 180)\n",
      "shape of target array (360,)\n"
     ]
    },
    {
     "name": "stderr",
     "output_type": "stream",
     "text": [
      "/Users/shateeshbhugwansing/anaconda/envs/mne/lib/python3.6/site-packages/sklearn/cross_validation.py:41: DeprecationWarning: This module was deprecated in version 0.18 in favor of the model_selection module into which all the refactored classes and functions are moved. Also note that the interface of the new CV iterators are different from that of this module. This module will be removed in 0.20.\n",
      "  \"This module will be removed in 0.20.\", DeprecationWarning)\n"
     ]
    }
   ],
   "source": [
    "from sklearn.cross_validation import train_test_split\n",
    "\n",
    "#set features as epoch data\n",
    "#set targets as event ids\n",
    "features_data = test.get_data()\n",
    "target_V_vs_A = test.events[:,-1]\n",
    "\n",
    "print(\"shape of data\",features_data.shape)\n",
    "print(\"shape of target array\",target_V_vs_A.shape)\n",
    "\n",
    "\n"
   ]
  },
  {
   "cell_type": "code",
   "execution_count": 15,
   "metadata": {},
   "outputs": [],
   "source": [
    "#new epoch with only events corresponding to 100 or 200(visual/audio stim codes)\n",
    "binaryEpoch = epochWnewStim[(epochWnewStim.events[:,-1]==100) | (epochWnewStim.events[:,-1]==200)].copy()"
   ]
  },
  {
   "cell_type": "code",
   "execution_count": 16,
   "metadata": {},
   "outputs": [],
   "source": [
    "#pipeling for converting data from 3D to 2D using vectorizer and\n",
    "#LogisticRegression for classification\n",
    "clf = make_pipeline(Vectorizer(),\n",
    "                    MinMaxScaler(),\n",
    "                    (LogisticRegression(C=1)))\n",
    "\n",
    "#Provides train/test indices to split data in train/test sets.\n",
    "cv = StratifiedKFold(n_splits = 10, shuffle=True)\n",
    "#y_preds = np.empty(len(target_V_vs_A))\n",
    "score = []\n",
    "# tprs = []\n",
    "# aucs = []\n",
    "# mean_fpr = np.linspace(0, 1, 100)\n",
    "\n",
    "#i = 0\n",
    "for train,test in cv.split(features_data,target_V_vs_A):\n",
    "    X_train = features_data[train] \n",
    "    #print(\"shape of training features(data):\",X_train.shape)\n",
    "    y_train = target_V_vs_A[train] \n",
    "    #print(\"shape of training target:\",y_train.shape)\n",
    "    X_test = features_data[test] \n",
    "    #print(\"shape of testing data:\",X_test.shape)\n",
    "    y_test = target_V_vs_A[test]\n",
    "    #print(\"shape of testing target:\",y_test.shape)\n",
    "    \n",
    "    #fit the model to training set\n",
    "    clf.fit(X_train,y_train)\n",
    "    \n",
    "    #returns the mean accuracy on test data and labels\n",
    "    score.append(clf.score(X_test,y_test))\n",
    "    \n",
    "    \n",
    "    \n",
    "\n",
    "\n"
   ]
  },
  {
   "cell_type": "code",
   "execution_count": 17,
   "metadata": {},
   "outputs": [
    {
     "name": "stdout",
     "output_type": "stream",
     "text": [
      "mean classification score 0.7527777777777777\n"
     ]
    }
   ],
   "source": [
    "print(\"mean classification score\", np.mean(score))"
   ]
  },
  {
   "cell_type": "code",
   "execution_count": null,
   "metadata": {},
   "outputs": [],
   "source": []
  },
  {
   "cell_type": "markdown",
   "metadata": {},
   "source": [
    "### Topography Map"
   ]
  },
  {
   "cell_type": "code",
   "execution_count": null,
   "metadata": {},
   "outputs": [],
   "source": [
    "projs = mne.compute_proj_epochs(epoch)"
   ]
  },
  {
   "cell_type": "code",
   "execution_count": null,
   "metadata": {},
   "outputs": [],
   "source": [
    "epoch_projs = epoch.add_proj(projs)"
   ]
  },
  {
   "cell_type": "code",
   "execution_count": null,
   "metadata": {},
   "outputs": [],
   "source": [
    "type(epoch_projs)"
   ]
  },
  {
   "cell_type": "code",
   "execution_count": null,
   "metadata": {},
   "outputs": [],
   "source": [
    "type(epoch)"
   ]
  },
  {
   "cell_type": "code",
   "execution_count": null,
   "metadata": {},
   "outputs": [],
   "source": [
    "epoch_projs.plot_projs_topomap()"
   ]
  },
  {
   "cell_type": "code",
   "execution_count": null,
   "metadata": {},
   "outputs": [],
   "source": []
  },
  {
   "cell_type": "code",
   "execution_count": null,
   "metadata": {},
   "outputs": [],
   "source": [
    "epoch.plot_projs_topomap()"
   ]
  },
  {
   "cell_type": "markdown",
   "metadata": {},
   "source": [
    "### topomap() is not working. Maybe I need to manaully create a layout"
   ]
  },
  {
   "cell_type": "code",
   "execution_count": null,
   "metadata": {},
   "outputs": [],
   "source": []
  }
 ],
 "metadata": {
  "kernelspec": {
   "display_name": "Python 3",
   "language": "python",
   "name": "python3"
  },
  "language_info": {
   "codemirror_mode": {
    "name": "ipython",
    "version": 3
   },
   "file_extension": ".py",
   "mimetype": "text/x-python",
   "name": "python",
   "nbconvert_exporter": "python",
   "pygments_lexer": "ipython3",
   "version": "3.6.6"
  }
 },
 "nbformat": 4,
 "nbformat_minor": 2
}
