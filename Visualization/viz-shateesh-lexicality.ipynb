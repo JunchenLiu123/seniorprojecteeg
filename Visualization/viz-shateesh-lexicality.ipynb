{
 "cells": [
  {
   "cell_type": "markdown",
   "metadata": {},
   "source": [
    "# Lexicality: Language vs Non-Language\n",
    "A notebook to visualize the classification results of the lexicality problem\n",
    "\n",
    "Author: Shateesh Bhugwansing"
   ]
  },
  {
   "cell_type": "code",
   "execution_count": 1,
   "metadata": {},
   "outputs": [],
   "source": [
    "import mne\n",
    "import numpy as np\n",
    "import matplotlib.pyplot as plt\n",
    "from matplotlib import cm\n",
    "import matplotlib\n",
    "%matplotlib inline \n"
   ]
  },
  {
   "cell_type": "code",
   "execution_count": 2,
   "metadata": {},
   "outputs": [],
   "source": [
    "montage = mne.channels.read_montage(kind=\"ANT_DukeWaveGuard_128_electrode_montages_updated_V4\")\n"
   ]
  },
  {
   "cell_type": "code",
   "execution_count": 8,
   "metadata": {},
   "outputs": [
    {
     "name": "stdout",
     "output_type": "stream",
     "text": [
      "Reading /Volumes/SB/NEW_EPOCH_DATA/20140205_1114_epo.fif ...\n",
      "    Found the data of interest:\n",
      "        t =       0.00 ...     500.00 ms\n",
      "        0 CTF compensation matrices available\n",
      "1908 matching events found\n",
      "Applying baseline correction (mode: mean)\n",
      "1908 matching events found\n",
      "Applying baseline correction (mode: mean)\n",
      "Not setting metadata\n",
      "0 projection items activated\n"
     ]
    }
   ],
   "source": [
    "# read in data \n",
    "epoch_path = '/Volumes/SB/NEW_EPOCH_DATA/20140205_1114_epo.fif'\n",
    "epoch = mne.read_epochs(epoch_path, preload=True)"
   ]
  },
  {
   "cell_type": "code",
   "execution_count": 4,
   "metadata": {},
   "outputs": [
    {
     "data": {
      "text/plain": [
       "<EpochsFIF  |   1908 events (all good), 0 - 0.5 sec, baseline [0, 0], ~467.9 MB, data loaded,\n",
       " 'b-f1-pic': 60\n",
       " 'b-f1-snd': 60\n",
       " 'b-f1-spk': 100\n",
       " 'b-f1-wrd': 79\n",
       " 'b-f2-pic': 60\n",
       " 'b-f2-snd': 60\n",
       " 'b-f2-spk': 100\n",
       " 'b-f2-wrd': 79\n",
       " 'b-tg-pic': 60\n",
       " 'b-tg-snd': 80\n",
       " 'b-tg-spk': 79\n",
       " 'b-tg-wrd': 80\n",
       " 'f-f1-pic': 100\n",
       " 'f-f1-snd': 59\n",
       " 'f-f1-spk': 99\n",
       " 'f-f1-wrd': 79\n",
       " 'f-f2-pic': 100\n",
       " 'f-f2-snd': 59\n",
       " 'f-f2-spk': 99\n",
       " 'f-f2-wrd': 79\n",
       " 'f-tg-pic': 99\n",
       " 'f-tg-snd': 99\n",
       " 'f-tg-spk': 79\n",
       " 'f-tg-wrd': 60>"
      ]
     },
     "execution_count": 4,
     "metadata": {},
     "output_type": "execute_result"
    }
   ],
   "source": [
    "epoch.drop_channels(['Lm', 'Rm', 'Nasium', 'VEOG'])"
   ]
  },
  {
   "cell_type": "code",
   "execution_count": 5,
   "metadata": {},
   "outputs": [
    {
     "data": {
      "text/plain": [
       "125"
      ]
     },
     "execution_count": 5,
     "metadata": {},
     "output_type": "execute_result"
    }
   ],
   "source": [
    "len(epoch.ch_names)"
   ]
  },
  {
   "cell_type": "code",
   "execution_count": 6,
   "metadata": {},
   "outputs": [
    {
     "data": {
      "text/plain": [
       "<EpochsFIF  |   1908 events (all good), 0 - 0.5 sec, baseline [0, 0], ~460.5 MB, data loaded,\n",
       " 'b-f1-pic': 60\n",
       " 'b-f1-snd': 60\n",
       " 'b-f1-spk': 100\n",
       " 'b-f1-wrd': 79\n",
       " 'b-f2-pic': 60\n",
       " 'b-f2-snd': 60\n",
       " 'b-f2-spk': 100\n",
       " 'b-f2-wrd': 79\n",
       " 'b-tg-pic': 60\n",
       " 'b-tg-snd': 80\n",
       " 'b-tg-spk': 79\n",
       " 'b-tg-wrd': 80\n",
       " 'f-f1-pic': 100\n",
       " 'f-f1-snd': 59\n",
       " 'f-f1-spk': 99\n",
       " 'f-f1-wrd': 79\n",
       " 'f-f2-pic': 100\n",
       " 'f-f2-snd': 59\n",
       " 'f-f2-spk': 99\n",
       " 'f-f2-wrd': 79\n",
       " 'f-tg-pic': 99\n",
       " 'f-tg-snd': 99\n",
       " 'f-tg-spk': 79\n",
       " 'f-tg-wrd': 60>"
      ]
     },
     "execution_count": 6,
     "metadata": {},
     "output_type": "execute_result"
    }
   ],
   "source": [
    "# remove missing channels 'LL4', 'L12'\n",
    "epoch.drop_channels(['LL4', 'L12'])\n"
   ]
  },
  {
   "cell_type": "markdown",
   "metadata": {},
   "source": [
    "## Classification experiment (to generate coefficients)\n",
    "Language vs. Non-Language  \n",
    "data: NEW_EPOCH_DATA/20140205_1114_epo.fif  \n",
    "classifier: Logistic regression  \n"
   ]
  },
  {
   "cell_type": "code",
   "execution_count": 13,
   "metadata": {},
   "outputs": [
    {
     "name": "stderr",
     "output_type": "stream",
     "text": [
      "ERROR:root:File `'preprocecssing_helpers.ipynb.py'` not found.\n",
      "ERROR:root:File `'Batch_ArtifactFilter_Epoch.ipynb.py'` not found.\n",
      "ERROR:root:File `'preprocecssing_helpers.ipynb.py'` not found.\n"
     ]
    }
   ],
   "source": [
    "# Run Emmanuil's helper notebooks to re-label the data \n",
    "%run ../preprocessing/Artifact_Removal/Extract_Describer_Events.ipynb\n",
    "%run ../preprocessing/Artifact_Removal/preprocecssing_helpers.ipynb\n",
    "%run ../preprocessing/Artifact_Removal/Batch_ArtifactFilter_Epoch.ipynb\n",
    "%run ../preprocessing/StimCodes.ipynb\n",
    "%run ../Classification/ConcatEpochTrails.ipynb\n"
   ]
  },
  {
   "cell_type": "code",
   "execution_count": null,
   "metadata": {},
   "outputs": [],
   "source": []
  }
 ],
 "metadata": {
  "kernelspec": {
   "display_name": "Python 3",
   "language": "python",
   "name": "python3"
  },
  "language_info": {
   "codemirror_mode": {
    "name": "ipython",
    "version": 3
   },
   "file_extension": ".py",
   "mimetype": "text/x-python",
   "name": "python",
   "nbconvert_exporter": "python",
   "pygments_lexer": "ipython3",
   "version": "3.6.6"
  }
 },
 "nbformat": 4,
 "nbformat_minor": 2
}
