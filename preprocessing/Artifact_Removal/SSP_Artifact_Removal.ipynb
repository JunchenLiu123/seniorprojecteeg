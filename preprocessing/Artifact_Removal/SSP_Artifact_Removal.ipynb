{
 "cells": [
  {
   "cell_type": "code",
   "execution_count": 20,
   "metadata": {},
   "outputs": [],
   "source": [
    "import mne\n",
    "from mne.decoding import SlidingEstimator, LinearModel\n",
    "from sklearn.pipeline import make_pipeline\n",
    "from sklearn.preprocessing import StandardScaler\n",
    "from sklearn.linear_model import LogisticRegression\n",
    "import os\n",
    "import time"
   ]
  },
  {
   "cell_type": "code",
   "execution_count": 4,
   "metadata": {},
   "outputs": [],
   "source": [
    "path = 'D:\\EEGLAB\\SA20140304'\n",
    "eeglab_files = os.listdir(path)"
   ]
  },
  {
   "cell_type": "code",
   "execution_count": 5,
   "metadata": {},
   "outputs": [
    {
     "name": "stdout",
     "output_type": "stream",
     "text": [
      "Reading D:\\EEGLAB\\SA20140304\\20140304_1418.fdt\n",
      "Reading 0 ... 1273369  =      0.000 ...  2487.049 secs...\n"
     ]
    }
   ],
   "source": [
    "# read file\n",
    "eeglab_file = os.path.join(path, eeglab_files[1])\n",
    "raw = mne.io.read_raw_eeglab(eeglab_file, preload=True)"
   ]
  },
  {
   "cell_type": "code",
   "execution_count": 6,
   "metadata": {},
   "outputs": [
    {
     "data": {
      "text/plain": [
       "<RawEEGLAB  |  20140304_1418.fdt, n_channels x n_times : 128 x 1273370 (2487.0 sec), ~1.21 GB, data loaded>"
      ]
     },
     "execution_count": 6,
     "metadata": {},
     "output_type": "execute_result"
    }
   ],
   "source": [
    "raw.pick_types(meg=False, eeg=True, eog=True)"
   ]
  },
  {
   "cell_type": "code",
   "execution_count": 7,
   "metadata": {},
   "outputs": [
    {
     "data": {
      "text/plain": [
       "['Lm',\n",
       " 'LE1',\n",
       " 'Nasium',\n",
       " 'LE3',\n",
       " 'LD2',\n",
       " 'LD5',\n",
       " 'LC3',\n",
       " 'LC6',\n",
       " 'LB1',\n",
       " 'LB4',\n",
       " 'LA2',\n",
       " 'LA5',\n",
       " 'LL1',\n",
       " 'LL4',\n",
       " 'LL7',\n",
       " 'LL10',\n",
       " 'LL13',\n",
       " 'L3',\n",
       " 'L6',\n",
       " 'L9',\n",
       " 'L12',\n",
       " 'Z1',\n",
       " 'Z4',\n",
       " 'Z7',\n",
       " 'Z10',\n",
       " 'Z13',\n",
       " 'R3',\n",
       " 'R6',\n",
       " 'R9',\n",
       " 'R12',\n",
       " 'RR1',\n",
       " 'RR4',\n",
       " 'RR7',\n",
       " 'RR10',\n",
       " 'RR13',\n",
       " 'RA2',\n",
       " 'RA5',\n",
       " 'RB1',\n",
       " 'RB4',\n",
       " 'RC3',\n",
       " 'RC6',\n",
       " 'RD2',\n",
       " 'RD5',\n",
       " 'RE1',\n",
       " 'VEOG',\n",
       " 'RE3',\n",
       " 'Rm',\n",
       " 'RE4',\n",
       " 'RD1',\n",
       " 'RD3',\n",
       " 'RD4',\n",
       " 'RD6',\n",
       " 'RD7',\n",
       " 'RC1',\n",
       " 'RC2',\n",
       " 'RC4',\n",
       " 'RC5',\n",
       " 'RC7',\n",
       " 'RB2',\n",
       " 'RB3',\n",
       " 'RB5',\n",
       " 'RB6',\n",
       " 'RA1',\n",
       " 'RA3',\n",
       " 'RA4',\n",
       " 'RR2',\n",
       " 'RR3',\n",
       " 'RR5',\n",
       " 'RR6',\n",
       " 'RR8',\n",
       " 'RR9',\n",
       " 'RR11',\n",
       " 'RR12',\n",
       " 'R1',\n",
       " 'R2',\n",
       " 'R4',\n",
       " 'R5',\n",
       " 'R7',\n",
       " 'R8',\n",
       " 'R10',\n",
       " 'R11',\n",
       " 'R13',\n",
       " 'R14',\n",
       " 'Z2',\n",
       " 'Z3',\n",
       " 'Z5',\n",
       " 'Z6',\n",
       " 'Z8',\n",
       " 'Z9',\n",
       " 'Z11',\n",
       " 'Z12',\n",
       " 'Z14',\n",
       " 'L1',\n",
       " 'L2',\n",
       " 'L4',\n",
       " 'L5',\n",
       " 'L7',\n",
       " 'L8',\n",
       " 'L10',\n",
       " 'L11',\n",
       " 'L13',\n",
       " 'L14',\n",
       " 'LL2',\n",
       " 'LL3',\n",
       " 'LL5',\n",
       " 'LL6',\n",
       " 'LL8',\n",
       " 'LL9',\n",
       " 'LL11',\n",
       " 'LL12',\n",
       " 'LA1',\n",
       " 'LA3',\n",
       " 'LA4',\n",
       " 'LB2',\n",
       " 'LB3',\n",
       " 'LB5',\n",
       " 'LB6',\n",
       " 'LC1',\n",
       " 'LC2',\n",
       " 'LC4',\n",
       " 'LC5',\n",
       " 'LC7',\n",
       " 'LD1',\n",
       " 'LD3',\n",
       " 'LD4',\n",
       " 'LD6',\n",
       " 'LD7',\n",
       " 'LE4']"
      ]
     },
     "execution_count": 7,
     "metadata": {},
     "output_type": "execute_result"
    }
   ],
   "source": [
    "raw.ch_names"
   ]
  },
  {
   "cell_type": "code",
   "execution_count": 21,
   "metadata": {},
   "outputs": [
    {
     "ename": "NameError",
     "evalue": "name 'X' is not defined",
     "output_type": "error",
     "traceback": [
      "\u001b[1;31m---------------------------------------------------------------------------\u001b[0m",
      "\u001b[1;31mNameError\u001b[0m                                 Traceback (most recent call last)",
      "\u001b[1;32m<ipython-input-21-99ebaf2c4f6a>\u001b[0m in \u001b[0;36m<module>\u001b[1;34m()\u001b[0m\n\u001b[0;32m      2\u001b[0m \u001b[0mclf\u001b[0m \u001b[1;33m=\u001b[0m \u001b[0mmake_pipeline\u001b[0m\u001b[1;33m(\u001b[0m\u001b[0mStandardScaler\u001b[0m\u001b[1;33m(\u001b[0m\u001b[1;33m)\u001b[0m\u001b[1;33m,\u001b[0m \u001b[0mLinearModel\u001b[0m\u001b[1;33m(\u001b[0m\u001b[0mLogisticRegression\u001b[0m\u001b[1;33m(\u001b[0m\u001b[1;33m)\u001b[0m\u001b[1;33m)\u001b[0m\u001b[1;33m)\u001b[0m\u001b[1;33m\u001b[0m\u001b[0m\n\u001b[0;32m      3\u001b[0m \u001b[0mtime_decod\u001b[0m \u001b[1;33m=\u001b[0m \u001b[0mSlidingEstimator\u001b[0m\u001b[1;33m(\u001b[0m\u001b[0mclf\u001b[0m\u001b[1;33m,\u001b[0m \u001b[0mn_jobs\u001b[0m\u001b[1;33m=\u001b[0m\u001b[1;36m1\u001b[0m\u001b[1;33m,\u001b[0m \u001b[0mscoring\u001b[0m\u001b[1;33m=\u001b[0m\u001b[1;34m'roc_auc'\u001b[0m\u001b[1;33m)\u001b[0m\u001b[1;33m\u001b[0m\u001b[0m\n\u001b[1;32m----> 4\u001b[1;33m \u001b[0mtime_decod\u001b[0m\u001b[1;33m.\u001b[0m\u001b[0mfit\u001b[0m\u001b[1;33m(\u001b[0m\u001b[0mX\u001b[0m\u001b[1;33m,\u001b[0m \u001b[0my\u001b[0m\u001b[1;33m)\u001b[0m\u001b[1;33m\u001b[0m\u001b[0m\n\u001b[0m\u001b[0;32m      5\u001b[0m \u001b[1;33m\u001b[0m\u001b[0m\n\u001b[0;32m      6\u001b[0m \u001b[0mend\u001b[0m \u001b[1;33m=\u001b[0m \u001b[0mtime\u001b[0m\u001b[1;33m.\u001b[0m\u001b[0mtime\u001b[0m\u001b[1;33m(\u001b[0m\u001b[1;33m)\u001b[0m\u001b[1;33m\u001b[0m\u001b[0m\n",
      "\u001b[1;31mNameError\u001b[0m: name 'X' is not defined"
     ]
    }
   ],
   "source": [
    "start = time.time()\n",
    "clf = make_pipeline(StandardScaler(), LinearModel(LogisticRegression()))\n",
    "time_decod = SlidingEstimator(clf, n_jobs=1, scoring='roc_auc')\n",
    "time_decod.fit(X, y)\n",
    "\n",
    "end = time.time()\n",
    "print (\"time :\", end - start)"
   ]
  },
  {
   "cell_type": "code",
   "execution_count": null,
   "metadata": {},
   "outputs": [],
   "source": []
  }
 ],
 "metadata": {
  "kernelspec": {
   "display_name": "Python 3",
   "language": "python",
   "name": "python3"
  },
  "language_info": {
   "codemirror_mode": {
    "name": "ipython",
    "version": 3
   },
   "file_extension": ".py",
   "mimetype": "text/x-python",
   "name": "python",
   "nbconvert_exporter": "python",
   "pygments_lexer": "ipython3",
   "version": "3.6.6"
  }
 },
 "nbformat": 4,
 "nbformat_minor": 2
}
