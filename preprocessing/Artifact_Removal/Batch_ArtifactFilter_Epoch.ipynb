{
 "cells": [
  {
   "cell_type": "code",
   "execution_count": null,
   "metadata": {},
   "outputs": [],
   "source": [
    "%run preprocecssing_helpers.ipynb\n",
    "import os\n",
    "\n",
    "import mne\n",
    "from mne.preprocessing import ICA\n",
    "import numpy\n",
    "import matplotlib.pyplot as plt\n",
    "%matplotlib inline\n",
    "import matplotlib\n",
    "matplotlib.rcParams['figure.figsize'] = (20.0, 15.0)\n",
    "matplotlib.rcParams.update({'font.size': 15})"
   ]
  },
  {
   "cell_type": "code",
   "execution_count": null,
   "metadata": {},
   "outputs": [],
   "source": [
    "path = 'F:\\StroopEEG'\n",
    "eeglab_files = os.listdir(path)\n",
    "eeglab_dict = search_folders(path, eeglab_files)\n",
    "eeglab_files = paths_of_eeglab_files(path, eeglab_dict)\n",
    "eeglab_files"
   ]
  },
  {
   "cell_type": "code",
   "execution_count": null,
   "metadata": {},
   "outputs": [],
   "source": [
    "for set_file in eeglab_files:\n",
    "    try:\n",
    "        raw = mne.io.read_raw_eeglab(set_file, preload=True)\n",
    "        raw.notch_filter(np.arange(60,241,60), filter_length='auto', phase = 'zero')\n",
    "        raw.filter(5,100, fir_design='firwin')\n",
    "        ica = ICA(n_components=None, max_iter = 1000, random_state = 42)\n",
    "        ica.fit(raw,picks = None, decim=3, reject=dict(mag=4e-12, grad=4000e-13))\n",
    "        ica.detect_artifacts(raw,start_find=None, stop_find=None, ecg_ch=None, \n",
    "                     ecg_score_func='pearsonr', skew_criterion=None, \n",
    "                     kurt_criterion=None, var_criterion=None,add_nodes=None)\n",
    "        \n",
    "        m_event = mne.find_events(raw_ica, min_duration=1/raw.info['sfreq'], shortest_event= 0.5, initial_event=True)\n",
    "        epoch = mne.Epochs(raw, events=m_event, event_id = event_id, preload = True)\n",
    "        \n",
    "    except:\n",
    "        print(\"***Error converting file: {0}***\".format(set_file))\n",
    "        "
   ]
  },
  {
   "cell_type": "code",
   "execution_count": null,
   "metadata": {},
   "outputs": [],
   "source": []
  }
 ],
 "metadata": {
  "kernelspec": {
   "display_name": "Python 3",
   "language": "python",
   "name": "python3"
  },
  "language_info": {
   "codemirror_mode": {
    "name": "ipython",
    "version": 3
   },
   "file_extension": ".py",
   "mimetype": "text/x-python",
   "name": "python",
   "nbconvert_exporter": "python",
   "pygments_lexer": "ipython3",
   "version": "3.6.6"
  }
 },
 "nbformat": 4,
 "nbformat_minor": 2
}
