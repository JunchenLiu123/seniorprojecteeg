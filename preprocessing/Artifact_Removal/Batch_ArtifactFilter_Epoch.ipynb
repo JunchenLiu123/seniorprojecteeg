{
 "cells": [
  {
   "cell_type": "code",
   "execution_count": 1,
   "metadata": {},
   "outputs": [],
   "source": [
    "%run preprocecssing_helpers.ipynb\n",
    "import os\n",
    "import time\n",
    "import mne\n",
    "from mne.preprocessing import ICA\n",
    "import numpy\n",
    "import matplotlib.pyplot as plt\n",
    "# %matplotlib inline\n",
    "%matplotlib qt\n",
    "import matplotlib\n",
    "matplotlib.rcParams['figure.figsize'] = (10.0, 10.0)\n",
    "matplotlib.rcParams.update({'font.size': 15})\n",
    "# matplotlib.rcParams."
   ]
  },
  {
   "cell_type": "code",
   "execution_count": 2,
   "metadata": {},
   "outputs": [
    {
     "data": {
      "text/plain": [
       "['F:\\\\EEGLAB\\\\SA20131216\\\\20131216_1310.set',\n",
       " 'F:\\\\EEGLAB\\\\SA20131216\\\\20131216_1441.set',\n",
       " 'F:\\\\EEGLAB\\\\SA20140205\\\\20140205_1114.set',\n",
       " 'F:\\\\EEGLAB\\\\SA20140205\\\\20140205_1230.set',\n",
       " 'F:\\\\EEGLAB\\\\SA20140206\\\\20140206_1029.set',\n",
       " 'F:\\\\EEGLAB\\\\SA20140206\\\\20140206_1151.set',\n",
       " 'F:\\\\EEGLAB\\\\SA20140207\\\\20140207_1146.set',\n",
       " 'F:\\\\EEGLAB\\\\SA20140207\\\\20140207_1219.set',\n",
       " 'F:\\\\EEGLAB\\\\SA20140217\\\\20140217_1136.set',\n",
       " 'F:\\\\EEGLAB\\\\SA20140217\\\\20140217_1211.set',\n",
       " 'F:\\\\EEGLAB\\\\SA20140219\\\\20140219_1046.set',\n",
       " 'F:\\\\EEGLAB\\\\SA20140219\\\\20140219_1205.set',\n",
       " 'F:\\\\EEGLAB\\\\SA20140220\\\\20140220_1009.set',\n",
       " 'F:\\\\EEGLAB\\\\SA20140220\\\\20140220_1123.set',\n",
       " 'F:\\\\EEGLAB\\\\SA20140225\\\\20140225_1422.set',\n",
       " 'F:\\\\EEGLAB\\\\SA20140225\\\\20140225_1552.set',\n",
       " 'F:\\\\EEGLAB\\\\SA20140227A\\\\20140227_1058.set',\n",
       " 'F:\\\\EEGLAB\\\\SA20140227A\\\\20140227_1220.set',\n",
       " 'F:\\\\EEGLAB\\\\SA20140227B\\\\20140227_1410.set']"
      ]
     },
     "execution_count": 2,
     "metadata": {},
     "output_type": "execute_result"
    }
   ],
   "source": [
    "# path = 'F:\\StroopEEG'\n",
    "path = 'F:\\EEGLAB'\n",
    "\n",
    "eeglab_files = os.listdir(path)\n",
    "eeglab_dict = search_folders(path, eeglab_files)\n",
    "eeglab_files = paths_of_eeglab_files(path, eeglab_dict)\n",
    "eeglab_files"
   ]
  },
  {
   "cell_type": "code",
   "execution_count": 22,
   "metadata": {},
   "outputs": [
    {
     "name": "stdout",
     "output_type": "stream",
     "text": [
      "Reading F:\\EEGLAB\\SA20140205\\20140205_1114.fdt\n",
      "Reading 0 ... 859270  =      0.000 ...  1678.262 secs...\n"
     ]
    }
   ],
   "source": [
    "raw = mne.io.read_raw_eeglab(eeglab_files[2],preload = True)"
   ]
  },
  {
   "cell_type": "code",
   "execution_count": 12,
   "metadata": {},
   "outputs": [],
   "source": [
    "def list_eeglab_files(root_path):\n",
    "    \"\"\"\n",
    "    NOTE: must perform magic command %run preprocecssing_helpers.ipynb before using this method.\n",
    "    \n",
    "    Description: \n",
    "        Lists all eeglab .set files within a directory. \n",
    "        Assuming that the file format is: \n",
    "        Root Folder -> Subject Folder -> eeglab file contents\n",
    "        example: \n",
    "        EEGLAB (root) -> SA20140220 (subject) -> 20140220_1009.set\n",
    "        or \n",
    "        F:\\\\EEGLAB\\\\SA20140220\\\\20140220_1009.set\n",
    "    \n",
    "    Variables: \n",
    "        root_path: the folder containing all subject folders\n",
    "    ----\n",
    "    Returns:\n",
    "        List of file .set path locations.\n",
    "    \"\"\"\n",
    "    \n",
    "    eeglab_files_list = os.listdir(root_path)\n",
    "    eeglab_dict = search_folders(root_path, eeglab_files_list)\n",
    "    eeglab_files = paths_of_eeglab_files(path, eeglab_dict)\n",
    "    \n",
    "    return eeglab_files"
   ]
  },
  {
   "cell_type": "code",
   "execution_count": null,
   "metadata": {},
   "outputs": [],
   "source": [
    "eeglab_files = list_eeglab_files(path)"
   ]
  },
  {
   "cell_type": "code",
   "execution_count": 17,
   "metadata": {},
   "outputs": [],
   "source": [
    "def find_events(eeglab):\n",
    "    \"\"\"\n",
    "    Description:\n",
    "        returns the events of an eeglab .set object\n",
    "        \n",
    "    Variables:\n",
    "        eeglab: mne.io.eeglab.eeglab.RawEEGLAB object\n",
    "    ------\n",
    "    returns: np array of 3d lists\n",
    "    \"\"\"\n",
    "    return mne.find_events(raw, output= 'offset',\n",
    "                              consecutive= True,\n",
    "                              min_duration=0.001953125, \n",
    "                              shortest_event= 2, \n",
    "                              initial_event=False)\n",
    "    "
   ]
  },
  {
   "cell_type": "code",
   "execution_count": 56,
   "metadata": {},
   "outputs": [
    {
     "name": "stdout",
     "output_type": "stream",
     "text": [
      "5793 events found\n",
      "Event IDs: [  1   2   3   4   5   6   7   8   9  10  11  12  13  14  15  16  17  18\n",
      "  19  20  21  22  23  24  31 129 130 131 132 133 134 135 136 137 138 139\n",
      " 140 141 142 143 144 145 155 156 157 158 159 160 161 162 163 164 165]\n"
     ]
    },
    {
     "data": {
      "text/plain": [
       "numpy.ndarray"
      ]
     },
     "execution_count": 56,
     "metadata": {},
     "output_type": "execute_result"
    }
   ],
   "source": [
    "events = find_events(raw)\n",
    "type(events)"
   ]
  },
  {
   "cell_type": "code",
   "execution_count": 49,
   "metadata": {},
   "outputs": [],
   "source": [
    "def get_trials(events):\n",
    "    \"\"\"\n",
    "    Descriptions:\n",
    "        returns a list of trials where each trial contains timestamp, offset and event_id\n",
    "    \n",
    "    Variables:\n",
    "        events: A np array of 3d lists. use mne.find_events or custom find_events(eeglab) method already written.\n",
    "    -----\n",
    "    returns: np array of lists\n",
    "    \"\"\"\n",
    "    trials = []\n",
    "    current_trial = []\n",
    "    for event in events:\n",
    "        if event[-1] == 31 and current_trial != []:\n",
    "            trials.append(current_trial)\n",
    "            current_trial = []\n",
    "            current_trial.append(event)\n",
    "        else:\n",
    "            current_trial.append(event)\n",
    "            \n",
    "    trials.append(current_trial) # the last trial does not have an indicator, so append it after the loop ends\n",
    "    return trials"
   ]
  },
  {
   "cell_type": "code",
   "execution_count": 55,
   "metadata": {},
   "outputs": [],
   "source": [
    "trials = get_trials(events)"
   ]
  },
  {
   "cell_type": "code",
   "execution_count": 60,
   "metadata": {},
   "outputs": [
    {
     "data": {
      "text/plain": [
       "31"
      ]
     },
     "execution_count": 60,
     "metadata": {},
     "output_type": "execute_result"
    }
   ],
   "source": [
    "trials[1][0]"
   ]
  },
  {
   "cell_type": "code",
   "execution_count": 129,
   "metadata": {},
   "outputs": [],
   "source": [
    "def filter_events(eeglab):\n",
    "    \"\"\"\n",
    "    Description:\n",
    "        Filters out all events that are not within the 1-24 stim-code definitions.\n",
    "        Also filters for trials that have a reaction time greater than .500ms as the subject \n",
    "        failed to click in time and was marked incorrect anyway.\n",
    "        \n",
    "    Variables:\n",
    "        eeglab: mne.io.eeglab.eeglab.RawEEGLAB object\n",
    "    ------\n",
    "    returns:\n",
    "        new_events: \n",
    "            np array of 3d list of events \n",
    "    \"\"\"\n",
    "    \n",
    "    events = find_events(eeglab)\n",
    "    trials = get_trials(events)\n",
    "    button_clicks = [131,132]\n",
    "    accuracy = [129,130]\n",
    "    found_first_stim_code = False\n",
    "    found_third_stim_code = False\n",
    "    isEnd_of_trial = False\n",
    "    new_events = []\n",
    "    good_trials = []\n",
    "    bad_trials_count = 0\n",
    "    for trial in trials:\n",
    "#         print(trial)\n",
    "        for event in trial:\n",
    "            # find first stim-code\n",
    "            if event[-1] <= 24 and found_first_stim_code == False: \n",
    "                first_stim_code = event\n",
    "                found_first_stim_code = True\n",
    "#                 print(\"found first stim-code: {0}\".format(first_stim_code))\n",
    "\n",
    "            # find third stim-code\n",
    "            if found_first_stim_code and event[-1] <= 24:\n",
    "                #the third stim-code is one less than the first. \n",
    "                if event[-1] + 1 == first_stim_code[-1]:\n",
    "                    third_stim_code = event\n",
    "                    found_third_stim_code = True\n",
    "            \n",
    "            if event[-1] in button_clicks:\n",
    "                button_click = event        \n",
    "                \n",
    "            if event[-1] in accuracy:\n",
    "                #end of trial\n",
    "                if event[-1] == 130: # incorrect\n",
    "                    button_click = event\n",
    "                    time_diff = (button_click[0] - third_stim_code[0]) * (1/512) #compute time in seconds\n",
    "                    if time_diff > 1:\n",
    "                        print(\"time difference {0}\".format(time_diff))\n",
    "                        print(third_stim_code)\n",
    "                        print(button_click)\n",
    "                        bad_trials_count+=1\n",
    "                    else:\n",
    "                        #store this trial\n",
    "                         good_trials.append(trial)\n",
    "                else:\n",
    "                    good_trials.append(trial)\n",
    "                found_first_stim_code = False\n",
    "                found_third_stim_code = False\n",
    "                \n",
    "    print(\"\\n **{0} bad trials dropped**\".format(bad_trials_count))\n",
    "    return np.concatenate([x for x in good_trials])"
   ]
  },
  {
   "cell_type": "code",
   "execution_count": 130,
   "metadata": {},
   "outputs": [
    {
     "name": "stdout",
     "output_type": "stream",
     "text": [
      "5793 events found\n",
      "Event IDs: [  1   2   3   4   5   6   7   8   9  10  11  12  13  14  15  16  17  18\n",
      "  19  20  21  22  23  24  31 129 130 131 132 133 134 135 136 137 138 139\n",
      " 140 141 142 143 144 145 155 156 157 158 159 160 161 162 163 164 165]\n",
      "time difference 1.060546875\n",
      "[8655    0   13]\n",
      "[9198    0  130]\n",
      "time difference 1.4765625\n",
      "[100574      0     16]\n",
      "[101330      0    130]\n",
      "time difference 1.109375\n",
      "[303457      0      1]\n",
      "[304025      0    130]\n",
      "time difference 1.111328125\n",
      "[679756      0     22]\n",
      "[680325      0    130]\n",
      "\n",
      " **4 bad trials dropped**\n"
     ]
    }
   ],
   "source": [
    "new_events = np.array(filter_events(eeglab = raw))"
   ]
  },
  {
   "cell_type": "code",
   "execution_count": 32,
   "metadata": {},
   "outputs": [
    {
     "name": "stdout",
     "output_type": "stream",
     "text": [
      "1920 matching events found\n",
      "Applying baseline correction (mode: mean)\n",
      "Not setting metadata\n",
      "0 projection items activated\n",
      "Loading data for 1920 events and 500 original time points ...\n",
      "0 bad epochs dropped\n"
     ]
    }
   ],
   "source": [
    "tmax = (1/raw.info['sfreq']) * 499 # tmax 1/sfrq * desired epoch length\n",
    "epoch = mne.Epochs(raw, events=new_events, event_id = new_stim_code_event_ids, preload = True, tmin=0, tmax=tmax) "
   ]
  },
  {
   "cell_type": "code",
   "execution_count": 5,
   "metadata": {},
   "outputs": [],
   "source": [
    "event_id = {'trail_start':  31, \n",
    "            'left_button':  131, \n",
    "            'right_button': 132,\n",
    "            'congruent':    133,\n",
    "            'incongruent':  134,\n",
    "            'correct':      129,\n",
    "            'incorrect':    130,\n",
    "            # targets\n",
    "            't_baby' :        135,\n",
    "            't_bell':         136,\n",
    "            't_bird':         137,\n",
    "            't_burp':         138,\n",
    "            't_dog':          139,\n",
    "            't_drum':         140,\n",
    "            't_knock':        141,\n",
    "            't_laugh':        142,\n",
    "            't_phone':        143,\n",
    "            't_train':        144,\n",
    "            't_water':        145,\n",
    "            #flankers\n",
    "            'f_baby' :        155,\n",
    "            'f_bell':         156,\n",
    "            'f_bird':         157,\n",
    "            'f_burp':         158,\n",
    "            'f_dog':          159,\n",
    "            'f_drum':         160,\n",
    "            'f_knock':        161,\n",
    "            'f_laugh':        162,\n",
    "            'f_phone':        163,\n",
    "            'f_train':        164,\n",
    "            'f_water':        165,\n",
    "}\n",
    "# event codes 1 - 24 represent flanker and target stim codes. They are NOT explicity defined in dissertation.\n",
    "for i in range(1,13):\n",
    "    event_id[\"flanker_stim_{0}\".format(i)] = i\n",
    "    \n",
    "for j in range(13, 25):\n",
    "    event_id[\"target_stim_{0}\".format(j)] = j"
   ]
  },
  {
   "cell_type": "code",
   "execution_count": null,
   "metadata": {},
   "outputs": [],
   "source": []
  },
  {
   "cell_type": "code",
   "execution_count": null,
   "metadata": {},
   "outputs": [],
   "source": [
    "# for set_file in eeglab_files[0]:\n",
    "#     try:\n",
    "#         start = time.time()\n",
    "#         raw = mne.io.read_raw_eeglab(set_file, preload=True)\n",
    "#         raw.notch_filter(np.arange(60,241,60), filter_length='auto', phase = 'zero')\n",
    "#         raw.filter(5,100, fir_design='firwin')\n",
    "#         raw.resample(256, n_jobs=10)\n",
    "#         ica = ICA(n_components=None, max_iter = 1000, random_state = 42)\n",
    "#         ica.fit(raw,picks = None, decim=3, reject=dict(mag=4e-12, grad=4000e-13))\n",
    "#         ica.detect_artifacts(raw,start_find=None, stop_find=None, ecg_ch=None, \n",
    "#                      ecg_score_func='pearsonr', skew_criterion=None, \n",
    "#                      kurt_criterion=None, var_criterion=None,add_nodes=None)\n",
    "#         raw_ica = ica.apply(raw)\n",
    "\n",
    "#         m_event = mne.find_events(raw_ica, min_duration=1/raw.info['sfreq'], shortest_event= 1, initial_event=True)\n",
    "#         epoch = mne.Epochs(raw, events=m_event, event_id = event_id, preload = True)\n",
    "# #         epoch.save(set_file.split('\\\\')[-1].split('.')[0] + \"_epo.fif\", verbose = True)\n",
    "#         end = time.time()\n",
    "#         print(\"SUCESSFULLY LOADED time elapsed: {0}\", (end - start))\n",
    "#     except :\n",
    "#         print(\"***Error converting file: {0}***\".format(set_file))\n",
    "        "
   ]
  },
  {
   "cell_type": "code",
   "execution_count": 27,
   "metadata": {},
   "outputs": [],
   "source": [
    "new_stim_code_event_ids = {\n",
    "     \n",
    "    \"b-f2-wrd\":1,\n",
    "    \"b-f1-wrd\":2,\n",
    "    \"b-tg-wrd\":3,\n",
    "\n",
    "    \"b-f2-spk\":4,\n",
    "    \"b-f1-spk\":5,\n",
    "    \"b-tg-spk\":6,\n",
    "\n",
    "    \"b-f2-pic\":7,\n",
    "    \"b-f1-pic\":8,\n",
    "    \"b-tg-pic\":9,\n",
    "\n",
    "    \"b-f2-snd\":10,\n",
    "    \"b-f1-snd\":11,\n",
    "    \"b-tg-snd\":12,\n",
    "\n",
    "    \"f-f2-wrd\":13,\n",
    "    \"f-f1-wrd\":14,\n",
    "    \"f-tg-wrd\":15,\n",
    "\n",
    "    \"f-f2-spk\":16,\n",
    "    \"f-f1-spk\":17,\n",
    "    \"f-tg-spk\":18,\n",
    "\n",
    "    \"f-f2-pic\":19,\n",
    "    \"f-f1-pic\":20,\n",
    "    \"f-tg-pic\":21,\n",
    "\n",
    "    \"f-f2-snd\":22,\n",
    "    \"f-f1-snd\":23,\n",
    "    \"f-tg-snd\":24\n",
    "}"
   ]
  },
  {
   "cell_type": "code",
   "execution_count": 3,
   "metadata": {},
   "outputs": [],
   "source": [
    "# start = time.time()\n",
    "# # raw = mne.io.read_raw_eeglab(, preload=True)\n",
    "# raw.notch_filter(np.arange(60,241,60), filter_length='auto', phase = 'zero')\n",
    "# raw.filter(5,100, fir_design='firwin')\n",
    "# raw.resample(256, n_jobs=10)\n",
    "# ica = ICA(n_components=None, max_iter = 1000, random_state = 42)\n",
    "# ica.fit(raw,picks = None, decim=3, reject=dict(mag=4e-12, grad=4000e-13))\n",
    "# ica.detect_artifacts(raw,start_find=None, stop_find=None, ecg_ch=None, \n",
    "#              ecg_score_func='pearsonr', skew_criterion=None, \n",
    "#              kurt_criterion=None, var_criterion=None,add_nodes=None)\n",
    "# raw_ica = ica.apply(raw)\n",
    "\n",
    "# # m_event = mne.find_events(raw_ica, min_duration=1/raw.info['sfreq'], shortest_event= 0.5, initial_event=True)\n",
    "# epoch = mne.Epochs(raw, events=new_events, event_id =new_stim_code_event_ids , preload = True, tmin=0, tmax=1,)\n",
    "# end = time.time()\n",
    "# print(\"time elapsed: {0}\", (end - start))"
   ]
  },
  {
   "cell_type": "markdown",
   "metadata": {},
   "source": [
    "## check if saving and loading epoch file works."
   ]
  },
  {
   "cell_type": "code",
   "execution_count": null,
   "metadata": {},
   "outputs": [],
   "source": [
    "os.chdir(epoch_destination)"
   ]
  },
  {
   "cell_type": "code",
   "execution_count": null,
   "metadata": {},
   "outputs": [],
   "source": [
    "\n",
    "epoch.save('20131216_1310_epo.fif',verbose = True)"
   ]
  },
  {
   "cell_type": "code",
   "execution_count": null,
   "metadata": {},
   "outputs": [],
   "source": [
    "epoch_files = os.listdir(epoch_destination)"
   ]
  },
  {
   "cell_type": "code",
   "execution_count": null,
   "metadata": {},
   "outputs": [],
   "source": [
    "epoch_file = epoch_files[0]\n",
    "epoch_ = mne.read_epochs(epoch_file,preload=True)"
   ]
  },
  {
   "cell_type": "code",
   "execution_count": null,
   "metadata": {},
   "outputs": [],
   "source": [
    "epoch_.plot(title=\"epochs\");"
   ]
  },
  {
   "cell_type": "code",
   "execution_count": null,
   "metadata": {},
   "outputs": [],
   "source": [
    "for set_file in eeglab_files:\n",
    "    print(set_file.split('\\\\')[-1].split('.')[0] + \"_epo.fif\")"
   ]
  },
  {
   "cell_type": "code",
   "execution_count": null,
   "metadata": {},
   "outputs": [],
   "source": [
    "# start = time.time()\n",
    "raw = mne.io.read_raw_eeglab(eeglab_files[1], preload=True)\n",
    "raw.notch_filter(np.arange(60,241,60), filter_length='auto', phase = 'zero')\n",
    "raw.filter(5,100, fir_design='firwin')\n",
    "raw.resample(256, n_jobs=10)\n",
    "ica = ICA(n_components=None, max_iter = 1000, random_state = 42)\n",
    "ica.fit(raw,picks = None, decim=3, reject=dict(mag=4e-12, grad=4000e-13))\n",
    "ica.detect_artifacts(raw,start_find=None, stop_find=None, ecg_ch=None, \n",
    "             ecg_score_func='pearsonr', skew_criterion=None, \n",
    "             kurt_criterion=None, var_criterion=None,add_nodes=None)\n",
    "raw_ica = ica.apply(raw)\n",
    "\n",
    "m_event = mne.find_events(raw_ica, min_duration=1/raw.info['sfreq'], shortest_event= 1.5, initial_event=True)\n",
    "epoch = mne.Epochs(raw, events=m_event, event_id = event_id, preload = True)"
   ]
  },
  {
   "cell_type": "markdown",
   "metadata": {},
   "source": [
    "## Read epoched data any plot"
   ]
  },
  {
   "cell_type": "code",
   "execution_count": null,
   "metadata": {},
   "outputs": [],
   "source": [
    "path = 'E:\\EpochedEEG'\n",
    "epoch_files = os.listdir(path)"
   ]
  },
  {
   "cell_type": "code",
   "execution_count": null,
   "metadata": {},
   "outputs": [],
   "source": [
    "eeg_file = os.path.join(path,epoch_files[0])"
   ]
  },
  {
   "cell_type": "code",
   "execution_count": null,
   "metadata": {},
   "outputs": [],
   "source": [
    "epoch = mne.read_epochs(eeg_file, preload = True)"
   ]
  },
  {
   "cell_type": "code",
   "execution_count": null,
   "metadata": {},
   "outputs": [],
   "source": [
    "epoch.plot(n_channels=20, n_epochs = 10, title = eeg_file);"
   ]
  },
  {
   "cell_type": "code",
   "execution_count": null,
   "metadata": {},
   "outputs": [],
   "source": []
  }
 ],
 "metadata": {
  "kernelspec": {
   "display_name": "Python 3",
   "language": "python",
   "name": "python3"
  },
  "language_info": {
   "codemirror_mode": {
    "name": "ipython",
    "version": 3
   },
   "file_extension": ".py",
   "mimetype": "text/x-python",
   "name": "python",
   "nbconvert_exporter": "python",
   "pygments_lexer": "ipython3",
   "version": "3.6.6"
  }
 },
 "nbformat": 4,
 "nbformat_minor": 2
}
