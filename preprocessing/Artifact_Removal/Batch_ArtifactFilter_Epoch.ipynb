{
 "cells": [
  {
   "cell_type": "code",
   "execution_count": 1,
   "metadata": {},
   "outputs": [],
   "source": [
    "%run preprocecssing_helpers.ipynb\n",
    "import os\n",
    "import time\n",
    "import mne\n",
    "from mne.preprocessing import ICA\n",
    "import numpy\n",
    "import matplotlib.pyplot as plt\n",
    "# %matplotlib inline\n",
    "%matplotlib inline\n",
    "import matplotlib\n",
    "matplotlib.rcParams['figure.figsize'] = (10.0, 10.0)\n",
    "matplotlib.rcParams.update({'font.size': 15})\n",
    "# matplotlib.rcParams."
   ]
  },
  {
   "cell_type": "code",
   "execution_count": null,
   "metadata": {},
   "outputs": [],
   "source": [
    "# path = 'F:\\StroopEEG'\n",
    "# path = 'E:\\EEGLAB'\n",
    "\n",
    "\n",
    "# eeglab_files = os.listdir(path)\n",
    "# eeglab_dict = search_folders(path, eeglab_files)\n",
    "# eeglab_files = paths_of_eeglab_files(path, eeglab_dict)\n",
    "# eeglab_files"
   ]
  },
  {
   "cell_type": "code",
   "execution_count": 83,
   "metadata": {},
   "outputs": [],
   "source": [
    "new_stim_code_event_ids = {\n",
    "     \n",
    "    \"b-f2-wrd\":1,\n",
    "    \"b-f1-wrd\":2,\n",
    "    \"b-tg-wrd\":3,\n",
    "\n",
    "    \"b-f2-spk\":4,\n",
    "    \"b-f1-spk\":5,\n",
    "    \"b-tg-spk\":6,\n",
    "\n",
    "    \"b-f2-pic\":7,\n",
    "    \"b-f1-pic\":8,\n",
    "    \"b-tg-pic\":9,\n",
    "\n",
    "    \"b-f2-snd\":10,\n",
    "    \"b-f1-snd\":11,\n",
    "    \"b-tg-snd\":12,\n",
    "\n",
    "    \"f-f2-wrd\":13,\n",
    "    \"f-f1-wrd\":14,\n",
    "    \"f-tg-wrd\":15,\n",
    "\n",
    "    \"f-f2-spk\":16,\n",
    "    \"f-f1-spk\":17,\n",
    "    \"f-tg-spk\":18,\n",
    "\n",
    "    \"f-f2-pic\":19,\n",
    "    \"f-f1-pic\":20,\n",
    "    \"f-tg-pic\":21,\n",
    "\n",
    "    \"f-f2-snd\":22,\n",
    "    \"f-f1-snd\":23,\n",
    "    \"f-tg-snd\":24\n",
    "}"
   ]
  },
  {
   "cell_type": "code",
   "execution_count": 93,
   "metadata": {},
   "outputs": [],
   "source": [
    "# raw = mne.io.read_raw_eeglab(eeglab_files[38],preload = True)"
   ]
  },
  {
   "cell_type": "code",
   "execution_count": 15,
   "metadata": {},
   "outputs": [],
   "source": [
    "def list_eeglab_files(root_path):\n",
    "    \"\"\"\n",
    "    NOTE: must perform magic command %run preprocecssing_helpers.ipynb before using this method.\n",
    "    \n",
    "    Description: \n",
    "        Lists all eeglab .set files within a directory. \n",
    "        Assuming that the file format is: \n",
    "        Root Folder -> Subject Folder -> eeglab file contents\n",
    "        example: \n",
    "        EEGLAB (root) -> SA20140220 (subject) -> 20140220_1009.set\n",
    "        or \n",
    "        F:\\\\EEGLAB\\\\SA20140220\\\\20140220_1009.set\n",
    "    \n",
    "    Variables: \n",
    "        root_path: the folder containing all subject folders\n",
    "    ----\n",
    "    Returns:\n",
    "        List of file .set path locations.\n",
    "    \"\"\"\n",
    "    \n",
    "    eeglab_files_list = os.listdir(root_path)\n",
    "    eeglab_dict = search_folders(root_path, eeglab_files_list)\n",
    "    eeglab_files = paths_of_eeglab_files(path, eeglab_dict)\n",
    "    \n",
    "    return eeglab_files"
   ]
  },
  {
   "cell_type": "code",
   "execution_count": 16,
   "metadata": {},
   "outputs": [],
   "source": [
    "# eeglab_files = list_eeglab_files(path)"
   ]
  },
  {
   "cell_type": "code",
   "execution_count": 17,
   "metadata": {},
   "outputs": [],
   "source": [
    "def find_events(eeglab):\n",
    "    \"\"\"\n",
    "    Description:\n",
    "        returns the events of an eeglab .set object\n",
    "        \n",
    "    Variables:\n",
    "        eeglab: mne.io.eeglab.eeglab.RawEEGLAB object\n",
    "    ------\n",
    "    returns: np array of 3d lists\n",
    "    \"\"\"\n",
    "    return mne.find_events(eeglab, output= 'offset',\n",
    "#                               consecutive= True,\n",
    "                              min_duration=1/eeglab.info['sfreq'], \n",
    "                              shortest_event= 0, \n",
    "                              initial_event=False)\n",
    "    "
   ]
  },
  {
   "cell_type": "code",
   "execution_count": 92,
   "metadata": {},
   "outputs": [],
   "source": [
    "# events = find_events(raw)\n",
    "# events"
   ]
  },
  {
   "cell_type": "code",
   "execution_count": 19,
   "metadata": {},
   "outputs": [],
   "source": [
    "def get_trials(events):\n",
    "    \"\"\"\n",
    "    Descriptions:\n",
    "        returns a list of trials where each trial contains timestamp, offset and event_id\n",
    "    \n",
    "    Variables:\n",
    "        events: A np array of 3d lists. use mne.find_events or custom find_events(eeglab) method already written.\n",
    "    -----\n",
    "    returns: np array of lists\n",
    "    \"\"\"\n",
    "    trials = []\n",
    "    current_trial = []\n",
    "    for event in events:\n",
    "        if event[-1] == 31 and current_trial != []:\n",
    "            trials.append(current_trial)\n",
    "            current_trial = []\n",
    "            current_trial.append(event)\n",
    "        else:\n",
    "            current_trial.append(event)\n",
    "            \n",
    "    trials.append(current_trial) # the last trial does not have an indicator, so append it after the loop ends\n",
    "    return trials"
   ]
  },
  {
   "cell_type": "code",
   "execution_count": 67,
   "metadata": {},
   "outputs": [],
   "source": [
    "# trials = get_trials(events)"
   ]
  },
  {
   "cell_type": "code",
   "execution_count": 91,
   "metadata": {},
   "outputs": [],
   "source": [
    "# trials"
   ]
  },
  {
   "cell_type": "code",
   "execution_count": 22,
   "metadata": {},
   "outputs": [],
   "source": [
    "def filter_bad_trials(eeglab):\n",
    "    \"\"\"\n",
    "    Description:\n",
    "        Filters out all events that are not within the 1-24 stim-code definitions.\n",
    "        Also filters for trials that have a reaction time greater than .500ms as the subject \n",
    "        failed to click in time and was marked incorrect anyway.\n",
    "        \n",
    "    Variables:\n",
    "        eeglab: mne.io.eeglab.eeglab.RawEEGLAB object\n",
    "    ------\n",
    "    returns:\n",
    "        new_events: \n",
    "            np array of 3d list of events \n",
    "    \"\"\"\n",
    "    \n",
    "    events = find_events(eeglab)\n",
    "    trials = get_trials(events)\n",
    "    button_clicks = [131,132]\n",
    "    accuracy = [129,130]\n",
    "    found_first_stim_code = False\n",
    "    found_third_stim_code = False\n",
    "    isEnd_of_trial = False\n",
    "    new_events = []\n",
    "    good_trials = []\n",
    "    bad_trials_count = 0\n",
    "    for trial in trials:\n",
    "#         print(trial)\n",
    "        for event in trial:\n",
    "            # find first stim-code\n",
    "            if event[-1] <= 24 and found_first_stim_code == False: \n",
    "                first_stim_code = event\n",
    "                found_first_stim_code = True\n",
    "#                 print(\"found first stim-code: {0}\".format(first_stim_code))\n",
    "\n",
    "            # find third stim-code\n",
    "            if found_first_stim_code and event[-1] <= 24:\n",
    "                #the third stim-code is one less than the first. \n",
    "                if event[-1] + 1 == first_stim_code[-1]:\n",
    "                    third_stim_code = event\n",
    "                    found_third_stim_code = True\n",
    "            \n",
    "            if event[-1] in button_clicks:\n",
    "                button_click = event        \n",
    "                \n",
    "            if event[-1] in accuracy:\n",
    "                #end of trial\n",
    "                if event[-1] == 130: # incorrect\n",
    "                    button_click = event\n",
    "                    time_diff = (button_click[0] - third_stim_code[0]) * (1/512) #compute time in seconds\n",
    "                    if time_diff > 1:\n",
    "                        print(\"time difference {0}\".format(time_diff))\n",
    "                        print(third_stim_code)\n",
    "                        print(button_click)\n",
    "                        bad_trials_count+=1\n",
    "                    else:\n",
    "                        #store this trial\n",
    "                         good_trials.append(trial)\n",
    "                else:\n",
    "                    good_trials.append(trial)\n",
    "                found_first_stim_code = False\n",
    "                found_third_stim_code = False\n",
    "                \n",
    "    print(\"\\n **{0} bad trials dropped**\".format(bad_trials_count))\n",
    "    return np.concatenate([x for x in good_trials])"
   ]
  },
  {
   "cell_type": "code",
   "execution_count": 69,
   "metadata": {},
   "outputs": [
    {
     "name": "stdout",
     "output_type": "stream",
     "text": [
      "4888 events found\n",
      "Event IDs: [  3   4   5   6   7   8   9  10  11  12  13  14  15  16  17  18  19  20\n",
      "  21  22  23  24  31 129 130 131 132 133 134 135 136 137 138 139 140 141\n",
      " 142 143 144 145 155 156 157 158 159 160 161 162 163 164 165]\n",
      "time difference 1.134765625\n",
      "[120626      0     10]\n",
      "[121207      0    130]\n",
      "time difference 1.1484375\n",
      "[260711      0      7]\n",
      "[261299      0    130]\n",
      "time difference 3.2265625\n",
      "[325286      0     16]\n",
      "[326938      0    130]\n",
      "\n",
      " **3 bad trials dropped**\n"
     ]
    }
   ],
   "source": [
    "# filtered_events = filter_bad_trials(raw)"
   ]
  },
  {
   "cell_type": "code",
   "execution_count": 70,
   "metadata": {},
   "outputs": [
    {
     "data": {
      "text/plain": [
       "array([[ 11442,      0,     31],\n",
       "       [ 11445,      0,    143],\n",
       "       [ 11448,      0,    163],\n",
       "       ...,\n",
       "       [725544,      0,    132],\n",
       "       [725698,      0,    134],\n",
       "       [725701,      0,    129]], dtype=int64)"
      ]
     },
     "execution_count": 70,
     "metadata": {},
     "output_type": "execute_result"
    }
   ],
   "source": [
    "# filtered_events"
   ]
  },
  {
   "cell_type": "code",
   "execution_count": 24,
   "metadata": {},
   "outputs": [],
   "source": [
    "def events_with_stim_codes(events):\n",
    "    \"\"\"\n",
    "    Description:\n",
    "        Method will return an mne events ndarray containing only \n",
    "        stim-codes (event_ids 1-24).\n",
    "    Variables:\n",
    "        events: list of 3d lists \n",
    "    -----\n",
    "    Returns:\n",
    "        new_events list of 3d lists containing events of stim-codes    \n",
    "    \"\"\"\n",
    "    new_events = []\n",
    "    for event in events:\n",
    "        if event[-1] <= 24:\n",
    "            new_events.append(np.array(event))\n",
    "            \n",
    "    return np.array(new_events)\n",
    "    "
   ]
  },
  {
   "cell_type": "code",
   "execution_count": 71,
   "metadata": {},
   "outputs": [],
   "source": [
    "# stim_code_events = events_with_stim_codes(filtered_events)"
   ]
  },
  {
   "cell_type": "code",
   "execution_count": 72,
   "metadata": {},
   "outputs": [
    {
     "data": {
      "text/plain": [
       "array([[ 11468,      0,     20],\n",
       "       [ 11701,      0,     24],\n",
       "       [ 11994,      0,     19],\n",
       "       ...,\n",
       "       [724921,      0,     23],\n",
       "       [725189,      0,     21],\n",
       "       [725439,      0,     22]], dtype=int64)"
      ]
     },
     "execution_count": 72,
     "metadata": {},
     "output_type": "execute_result"
    }
   ],
   "source": [
    "# stim_code_events"
   ]
  },
  {
   "cell_type": "code",
   "execution_count": 25,
   "metadata": {},
   "outputs": [],
   "source": [
    "# some eeglab .set files may not have seen ALL of the 1-24 stim-code events.\n",
    "# write method to return a proper event_id dictionary\n",
    "def get_stim_code_event_ids(events, event_ids):\n",
    "    \"\"\"\n",
    "    Description:\n",
    "        return dictionay of event_ids that match the criteria of the eeglab file.\n",
    "        Some files may not have all stim-code events, and to avoid errors when creating epochs, \n",
    "        this method will return a dictionary of compatible event_ids.\n",
    "        \n",
    "    Variables:\n",
    "        events: ndarray of ints (n_events, 3)\n",
    "        event_ids: dictionary of event_ids \n",
    "            ex. {'stim-code': 1}\n",
    "    -----\n",
    "    return: dictionary of event_ids\n",
    "    \"\"\"\n",
    "    unique_events = np.unique(events[:,-1])\n",
    "    event_id_values = event_ids.values()\n",
    "    event_dict = {}\n",
    "    \n",
    "    for event_id in unique_events:\n",
    "        if event_id in event_id_values:\n",
    "            key = list(event_ids.keys())[event_id-1]\n",
    "            event_dict[key] = event_id\n",
    "            \n",
    "    return event_dict"
   ]
  },
  {
   "cell_type": "code",
   "execution_count": 26,
   "metadata": {},
   "outputs": [],
   "source": [
    "def artifact_removal(eeglab):\n",
    "    \"\"\"\n",
    "    Description:\n",
    "        Perform notch filter, frequenc filter, and ICA \n",
    "        \n",
    "    Variables: \n",
    "        eeglab: mne.io.eeglab.eeglab.RawEEGLAB object\n",
    "    returns:\n",
    "        eeglab: mne.io.eeglab.eeglab.RawEEGLAB object\n",
    "\n",
    "    \"\"\"\n",
    "    \n",
    "    raw.notch_filter(np.arange(60,241,60), filter_length='auto', phase = 'zero')\n",
    "    raw.filter(5,100, fir_design='firwin')\n",
    "#     raw.resample(256, n_jobs=10)\n",
    "    ica = ICA(n_components=None, max_iter = 1000, random_state = 42)\n",
    "    ica.fit(raw,picks = None, decim=3, reject=dict(mag=4e-12, grad=4000e-13))\n",
    "    ica.detect_artifacts(raw,start_find=None, stop_find=None, ecg_ch=None, \n",
    "                 ecg_score_func='pearsonr', skew_criterion=None, \n",
    "                 kurt_criterion=None, var_criterion=None,add_nodes=None)\n",
    "    \n",
    "    return ica.apply(raw)"
   ]
  },
  {
   "cell_type": "code",
   "execution_count": 77,
   "metadata": {},
   "outputs": [],
   "source": [
    "def create_epochs(eeglab, events, event_id):\n",
    "    \"\"\"\n",
    "    Description: \n",
    "        create mne.epoch object from eeglab data.\n",
    "    \n",
    "    Variables:\n",
    "        eeglab: mne.io.eeglab.eeglab.RawEEGLAB object\n",
    "        events: array of int, shape (n_events, 3)\n",
    "        event_id: dictionary of events \n",
    "            Keys are name of event as string, value is event_id as an int.\n",
    "    \n",
    "    returns:\n",
    "        mne.epoch object\n",
    "            \n",
    "    \"\"\"\n",
    "    try:\n",
    "        tmax = (1/raw.info['sfreq']) * 256 # tmax 1/sfrq * desired epoch length\n",
    "        epoch = mne.Epochs(raw, \n",
    "                      events=events,\n",
    "                      event_id = new_stim_code_event_ids, \n",
    "                      preload = True, \n",
    "                      tmin=0, \n",
    "                      tmax=tmax) \n",
    "        return epoch\n",
    "    except:\n",
    "        print(\"Error in method create_epochs\")"
   ]
  },
  {
   "cell_type": "code",
   "execution_count": 81,
   "metadata": {},
   "outputs": [],
   "source": [
    "def remove_artifacts_and_create_epochs(eeglab):\n",
    "    \"\"\"\n",
    "    Description:\n",
    "        Handles the start to finish process of finding events, event_ids, \n",
    "        artifact removal, and creating epoch object.\n",
    "    \n",
    "    Variables:\n",
    "        eeglab: mne.io.eeglab.eeglab.RawEEGLAB object\n",
    "    \n",
    "    Returns:\n",
    "        mne.epochs object\n",
    "    \"\"\"\n",
    "    event_create = False\n",
    "    stim_code_event_create = False\n",
    "    stim_code_events_id_create = False\n",
    "    raw_ica_create = Falsehttp://localhost:8888/notebooks/seniorprojecteeg-master-fork/preprocessing/Artifact_Removal/Batch_ArtifactFilter_Epoch.ipynb#\n",
    "    try:\n",
    "        events = filter_bad_trials(eeglab)\n",
    "        event_create = True\n",
    "        stim_code_events = events_with_stim_codes(events)\n",
    "        stim_code_event_create = True\n",
    "        stim_code_event_ids = get_stim_code_event_ids(stim_code_events,new_stim_code_event_ids)\n",
    "        stim_code_events_id_create = True\n",
    "        raw_ica = artifact_removal(eeglab= eeglab)\n",
    "        raw_ica_create = True\n",
    "\n",
    "        return create_epochs(eeglab= raw_ica, events= stim_code_events, event_id= stim_code_event_ids)\n",
    "    except:\n",
    "        print(\"Error in method remove_artifacts_and_create_epochs\")\n",
    "        print(\"info:\\n event_create: {0} \\n stim_code_event_create: {1} \\n \\\n",
    "              stim_code_Events_id_Create: {2} \\n raw_ica_create: {3} \\n\".format(event_create,\n",
    "                                                                               stim_code_event_create,\n",
    "                                                                               stim_code_events_id_create,\n",
    "                                                                               raw_ica_create))"
   ]
  },
  {
   "cell_type": "code",
   "execution_count": 94,
   "metadata": {
    "scrolled": false
   },
   "outputs": [],
   "source": [
    "# epoch = remove_artifacts_and_create_epochs(eeglab=raw)"
   ]
  },
  {
   "cell_type": "code",
   "execution_count": null,
   "metadata": {},
   "outputs": [],
   "source": [
    "# get_stim_code_event_ids(new_events, new_stim_code_event_ids)"
   ]
  },
  {
   "cell_type": "code",
   "execution_count": null,
   "metadata": {},
   "outputs": [],
   "source": [
    "# list(new_stim_code_event_ids.keys())"
   ]
  },
  {
   "cell_type": "code",
   "execution_count": null,
   "metadata": {},
   "outputs": [],
   "source": [
    "# new_stim_code_event_ids.values()"
   ]
  },
  {
   "cell_type": "code",
   "execution_count": null,
   "metadata": {},
   "outputs": [],
   "source": [
    "# new_events = events_with_stim_codes(filtered_events)\n",
    "# np.unique(new_events[:,-1])"
   ]
  },
  {
   "cell_type": "code",
   "execution_count": null,
   "metadata": {},
   "outputs": [],
   "source": [
    "# for set_file in eeglab_files[0]:\n",
    "#     try:\n",
    "#         start = time.time()\n",
    "#         raw = mne.io.read_raw_eeglab(set_file, preload=True)\n",
    "#         raw.notch_filter(np.arange(60,241,60), filter_length='auto', phase = 'zero')\n",
    "#         raw.filter(5,100, fir_design='firwin')\n",
    "#         raw.resample(256, n_jobs=10)\n",
    "#         ica = ICA(n_components=None, max_iter = 1000, random_state = 42)\n",
    "#         ica.fit(raw,picks = None, decim=3, reject=dict(mag=4e-12, grad=4000e-13))\n",
    "#         ica.detect_artifacts(raw,start_find=None, stop_find=None, ecg_ch=None, \n",
    "#                      ecg_score_func='pearsonr', skew_criterion=None, \n",
    "#                      kurt_criterion=None, var_criterion=None,add_nodes=None)\n",
    "#         raw_ica = ica.apply(raw)\n",
    "\n",
    "#         m_event = mne.find_events(raw_ica, min_duration=1/raw.info['sfreq'], shortest_event= 1, initial_event=True)\n",
    "#         epoch = mne.Epochs(raw, events=m_event, event_id = event_id, preload = True)\n",
    "# #         epoch.save(set_file.split('\\\\')[-1].split('.')[0] + \"_epo.fif\", verbose = True)\n",
    "#         end = time.time()\n",
    "#         print(\"SUCESSFULLY LOADED time elapsed: {0}\", (end - start))\n",
    "#     except :\n",
    "#         print(\"***Error converting file: {0}***\".format(set_file))\n",
    "        "
   ]
  },
  {
   "cell_type": "code",
   "execution_count": null,
   "metadata": {},
   "outputs": [],
   "source": [
    "# start = time.time()\n",
    "# # raw = mne.io.read_raw_eeglab(, preload=True)\n",
    "# raw.notch_filter(np.arange(60,241,60), filter_length='auto', phase = 'zero')\n",
    "# raw.filter(5,100, fir_design='firwin')\n",
    "# raw.resample(256, n_jobs=10)\n",
    "# ica = ICA(n_components=None, max_iter = 1000, random_state = 42)\n",
    "# ica.fit(raw,picks = None, decim=3, reject=dict(mag=4e-12, grad=4000e-13))\n",
    "# ica.detect_artifacts(raw,start_find=None, stop_find=None, ecg_ch=None, \n",
    "#              ecg_score_func='pearsonr', skew_criterion=None, \n",
    "#              kurt_criterion=None, var_criterion=None,add_nodes=None)\n",
    "# raw_ica = ica.apply(raw)\n",
    "\n",
    "# # m_event = mne.find_events(raw_ica, min_duration=1/raw.info['sfreq'], shortest_event= 0.5, initial_event=True)\n",
    "# epoch = mne.Epochs(raw, events=new_events, event_id =new_stim_code_event_ids , preload = True, tmin=0, tmax=1,)\n",
    "# end = time.time()\n",
    "# print(\"time elapsed: {0}\", (end - start))"
   ]
  },
  {
   "cell_type": "markdown",
   "metadata": {},
   "source": [
    "## check if saving and loading epoch file works."
   ]
  },
  {
   "cell_type": "code",
   "execution_count": null,
   "metadata": {},
   "outputs": [],
   "source": [
    "# os.chdir(epoch_destination)"
   ]
  },
  {
   "cell_type": "code",
   "execution_count": null,
   "metadata": {},
   "outputs": [],
   "source": [
    "\n",
    "# epoch.save('20131216_1310_epo.fif',verbose = True)"
   ]
  },
  {
   "cell_type": "code",
   "execution_count": null,
   "metadata": {},
   "outputs": [],
   "source": [
    "# epoch_files = os.listdir(epoch_destination)"
   ]
  },
  {
   "cell_type": "code",
   "execution_count": null,
   "metadata": {},
   "outputs": [],
   "source": [
    "# epoch_file = epoch_files[0]\n",
    "# epoch_ = mne.read_epochs(epoch_file,preload=True)"
   ]
  },
  {
   "cell_type": "code",
   "execution_count": null,
   "metadata": {},
   "outputs": [],
   "source": [
    "# epoch_.plot(title=\"epochs\");"
   ]
  },
  {
   "cell_type": "code",
   "execution_count": null,
   "metadata": {},
   "outputs": [],
   "source": [
    "# for set_file in eeglab_files:\n",
    "#     print(set_file.split('\\\\')[-1].split('.')[0] + \"_epo.fif\")"
   ]
  },
  {
   "cell_type": "code",
   "execution_count": null,
   "metadata": {},
   "outputs": [],
   "source": [
    "# # start = time.time()\n",
    "# raw = mne.io.read_raw_eeglab(eeglab_files[1], preload=True)\n",
    "# raw.notch_filter(np.arange(60,241,60), filter_length='auto', phase = 'zero')\n",
    "# raw.filter(5,100, fir_design='firwin')\n",
    "# raw.resample(256, n_jobs=10)\n",
    "# ica = ICA(n_components=None, max_iter = 1000, random_state = 42)\n",
    "# ica.fit(raw,picks = None, decim=3, reject=dict(mag=4e-12, grad=4000e-13))\n",
    "# ica.detect_artifacts(raw,start_find=None, stop_find=None, ecg_ch=None, \n",
    "#              ecg_score_func='pearsonr', skew_criterion=None, \n",
    "#              kurt_criterion=None, var_criterion=None,add_nodes=None)\n",
    "# raw_ica = ica.apply(raw)\n",
    "\n",
    "# m_event = mne.find_events(raw_ica, min_duration=1/raw.info['sfreq'], shortest_event= 1.5, initial_event=True)\n",
    "# epoch = mne.Epochs(raw, events=m_event, event_id = event_id, preload = True)"
   ]
  },
  {
   "cell_type": "markdown",
   "metadata": {},
   "source": [
    "## Convert Raw EEGLAB Data"
   ]
  },
  {
   "cell_type": "code",
   "execution_count": null,
   "metadata": {},
   "outputs": [],
   "source": [
    "# #get eeglab data\n",
    "# # path = 'C:\\\\Users\\Emmanuil\\Desktop\\School\\Fall 2018\\Senior Project\\EEGLAB'\n",
    "# path = 'D:\\\\EEGLAB'\n",
    "# eeglab_files = list_eeglab_files(path)"
   ]
  },
  {
   "cell_type": "code",
   "execution_count": null,
   "metadata": {},
   "outputs": [],
   "source": [
    "# eeglab_files"
   ]
  },
  {
   "cell_type": "code",
   "execution_count": 96,
   "metadata": {
    "scrolled": true
   },
   "outputs": [
    {
     "name": "stdout",
     "output_type": "stream",
     "text": [
      "Reading E:\\EEGLAB\\SA20140415\\20140415_1137.fdt\n",
      "Reading 0 ... 889656  =      0.000 ...  1737.609 secs...\n",
      "6344 events found\n",
      "Event IDs: [  1   2   3   4   5   6   7   8   9  10  11  12  13  14  15  16  17  18\n",
      "  19  20  21  22  23  24  31 129 130 131 132 133 134 135 136 137 138 139\n",
      " 140 141 142 143 144 145 155 156 157 158 159 160 161 162 163 164 165]\n",
      "time difference 1.29296875\n",
      "[238511      0     10]\n",
      "[239173      0    130]\n",
      "time difference 1.037109375\n",
      "[306314      0      1]\n",
      "[306845      0    130]\n",
      "time difference 1.064453125\n",
      "[314635      0      1]\n",
      "[315180      0    130]\n",
      "time difference 1.818359375\n",
      "[458942      0      4]\n",
      "[459873      0    130]\n",
      "time difference 1.169921875\n",
      "[477034      0      4]\n",
      "[477633      0    130]\n",
      "time difference 1.935546875\n",
      "[511855      0     19]\n",
      "[512846      0    130]\n",
      "time difference 3.73046875\n",
      "[519218      0     19]\n",
      "[521128      0    130]\n",
      "time difference 1.021484375\n",
      "[577146      0     19]\n",
      "[577669      0    130]\n",
      "time difference 1.474609375\n",
      "[585864      0     19]\n",
      "[586619      0    130]\n",
      "time difference 1.15625\n",
      "[591190      0     19]\n",
      "[591782      0    130]\n",
      "\n",
      " **10 bad trials dropped**\n",
      "Setting up band-stop filter\n",
      "Filter length of 3379 samples (6.600 sec) selected\n",
      "Setting up band-pass filter from 5 - 1e+02 Hz\n",
      "l_trans_bandwidth chosen to be 2.0 Hz\n",
      "h_trans_bandwidth chosen to be 25.0 Hz\n",
      "Filter length of 845 samples (1.650 sec) selected\n",
      "Fitting ICA to data using 128 channels (please be patient, this may take a while)\n",
      "Inferring max_pca_components from picks\n",
      "Using all PCA components: 128\n",
      "Fitting ICA took 289.1s.\n",
      "    Searching for artifacts...\n",
      "Artifact indices found:\n",
      "    \n",
      "Ready.\n",
      "Transforming to ICA space (128 components)\n",
      "Zeroing out 0 ICA components\n",
      "2070 matching events found\n",
      "Applying baseline correction (mode: mean)\n",
      "Not setting metadata\n",
      "0 projection items activated\n",
      "Loading data for 2070 events and 257 original time points ...\n",
      "0 bad epochs dropped\n",
      "The following EEG sensors did not have a position specified in the selected montage: ['Nasium', 'LL4', 'L12', 'VEOG']. Their position has been left untouched.\n"
     ]
    },
    {
     "name": "stderr",
     "output_type": "stream",
     "text": [
      "<ipython-input-96-d4efa7d53f0d>:15: RuntimeWarning: The following EEG sensors did not have a position specified in the selected montage: ['Nasium', 'LL4', 'L12', 'VEOG']. Their position has been left untouched.\n",
      "  epoch.set_montage(montage)\n"
     ]
    },
    {
     "name": "stdout",
     "output_type": "stream",
     "text": [
      "Reading E:\\EEGLAB\\SA20140415\\20140415_1309.fdt\n",
      "Reading 0 ... 692722  =      0.000 ...  1352.973 secs...\n",
      "5245 events found\n",
      "Event IDs: [  1   2   3   4   5   6   7   8   9  10  11  12  13  14  15  16  17  18\n",
      "  19  20  21  22  23  24  31 128 129 130 131 132 133 134 135 136 137 138\n",
      " 139 140 141 142 143 144 145 155 156 157 158 159 160 161 162 163 164 165]\n",
      "time difference 2.001953125\n",
      "[42976     0    13]\n",
      "[44001     0   130]\n",
      "time difference 1.365234375\n",
      "[48941     0    13]\n",
      "[49640     0   130]\n",
      "time difference 1.3671875\n",
      "[51988     0    13]\n",
      "[52688     0   130]\n",
      "time difference 1.078125\n",
      "[118763      0     16]\n",
      "[119315      0    130]\n",
      "\n",
      " **4 bad trials dropped**\n",
      "Setting up band-stop filter\n",
      "Filter length of 3379 samples (6.600 sec) selected\n",
      "Setting up band-pass filter from 5 - 1e+02 Hz\n",
      "l_trans_bandwidth chosen to be 2.0 Hz\n",
      "h_trans_bandwidth chosen to be 25.0 Hz\n",
      "Filter length of 845 samples (1.650 sec) selected\n",
      "Fitting ICA to data using 128 channels (please be patient, this may take a while)\n",
      "Inferring max_pca_components from picks\n",
      "Using all PCA components: 128\n"
     ]
    },
    {
     "name": "stderr",
     "output_type": "stream",
     "text": [
      "C:\\Users\\Emmanuil\\Anaconda3\\envs\\mne\\lib\\site-packages\\sklearn\\decomposition\\fastica_.py:121: ConvergenceWarning: FastICA did not converge. Consider increasing tolerance or the maximum number of iterations.\n",
      "  ConvergenceWarning)\n"
     ]
    },
    {
     "name": "stdout",
     "output_type": "stream",
     "text": [
      "Fitting ICA took 434.6s.\n",
      "    Searching for artifacts...\n",
      "Artifact indices found:\n",
      "    \n",
      "Ready.\n",
      "Transforming to ICA space (128 components)\n",
      "Zeroing out 0 ICA components\n",
      "1726 matching events found\n",
      "Applying baseline correction (mode: mean)\n",
      "Not setting metadata\n",
      "0 projection items activated\n",
      "Loading data for 1726 events and 257 original time points ...\n",
      "0 bad epochs dropped\n",
      "The following EEG sensors did not have a position specified in the selected montage: ['Nasium', 'LL4', 'L12', 'VEOG']. Their position has been left untouched.\n"
     ]
    },
    {
     "name": "stderr",
     "output_type": "stream",
     "text": [
      "<ipython-input-96-d4efa7d53f0d>:15: RuntimeWarning: The following EEG sensors did not have a position specified in the selected montage: ['Nasium', 'LL4', 'L12', 'VEOG']. Their position has been left untouched.\n",
      "  epoch.set_montage(montage)\n"
     ]
    },
    {
     "name": "stdout",
     "output_type": "stream",
     "text": [
      "Reading E:\\EEGLAB\\SA20140418\\20140418_1421.fdt\n",
      "Reading 0 ... 774301  =      0.000 ...  1512.307 secs...\n",
      "5613 events found\n",
      "Event IDs: [  1   2   3   4   5   6   7   8   9  10  11  12  13  14  15  16  17  18\n",
      "  19  20  21  22  23  24  31 129 130 131 132 133 134 135 136 137 138 139\n",
      " 140 141 142 143 144 145 155 156 157 158 159 160 161 162 163 164 165]\n",
      "time difference 1.43359375\n",
      "[397559      0     19]\n",
      "[398293      0    130]\n",
      "time difference 1.583984375\n",
      "[679215      0     16]\n",
      "[680026      0    130]\n",
      "\n",
      " **2 bad trials dropped**\n",
      "Setting up band-stop filter\n",
      "Filter length of 3379 samples (6.600 sec) selected\n",
      "Setting up band-pass filter from 5 - 1e+02 Hz\n",
      "l_trans_bandwidth chosen to be 2.0 Hz\n",
      "h_trans_bandwidth chosen to be 25.0 Hz\n",
      "Filter length of 845 samples (1.650 sec) selected\n",
      "Fitting ICA to data using 128 channels (please be patient, this may take a while)\n",
      "Inferring max_pca_components from picks\n",
      "Using all PCA components: 128\n"
     ]
    },
    {
     "name": "stderr",
     "output_type": "stream",
     "text": [
      "C:\\Users\\Emmanuil\\Anaconda3\\envs\\mne\\lib\\site-packages\\sklearn\\decomposition\\fastica_.py:121: ConvergenceWarning: FastICA did not converge. Consider increasing tolerance or the maximum number of iterations.\n",
      "  ConvergenceWarning)\n"
     ]
    },
    {
     "name": "stdout",
     "output_type": "stream",
     "text": [
      "Fitting ICA took 543.9s.\n",
      "    Searching for artifacts...\n",
      "Artifact indices found:\n",
      "    \n",
      "Ready.\n",
      "Transforming to ICA space (128 components)\n",
      "Zeroing out 0 ICA components\n",
      "1856 matching events found\n",
      "Applying baseline correction (mode: mean)\n",
      "Not setting metadata\n",
      "0 projection items activated\n",
      "Loading data for 1856 events and 257 original time points ...\n",
      "0 bad epochs dropped\n",
      "The following EEG sensors did not have a position specified in the selected montage: ['Nasium', 'LL4', 'L12', 'VEOG']. Their position has been left untouched.\n"
     ]
    },
    {
     "name": "stderr",
     "output_type": "stream",
     "text": [
      "<ipython-input-96-d4efa7d53f0d>:15: RuntimeWarning: The following EEG sensors did not have a position specified in the selected montage: ['Nasium', 'LL4', 'L12', 'VEOG']. Their position has been left untouched.\n",
      "  epoch.set_montage(montage)\n"
     ]
    },
    {
     "name": "stdout",
     "output_type": "stream",
     "text": [
      "Reading E:\\EEGLAB\\SA20140418\\20140418_1546.fdt\n",
      "Reading 0 ... 934635  =      0.000 ...  1825.459 secs...\n",
      "5973 events found\n",
      "Event IDs: [  1   2   3   4   5   6   7   8   9  10  11  12  13  14  15  16  17  18\n",
      "  19  20  21  22  23  24  31 129 130 131 132 133 134 135 136 137 138 139\n",
      " 140 141 142 143 144 145 155 156 157 158 159 160 161 162 163 164 165]\n",
      "time difference 2.615234375\n",
      "[267138      0      4]\n",
      "[268477      0    130]\n",
      "time difference 1.45703125\n",
      "[413904      0     16]\n",
      "[414650      0    130]\n",
      "time difference 1.89453125\n",
      "[420205      0     16]\n",
      "[421175      0    130]\n",
      "time difference 1.2265625\n",
      "[518746      0     16]\n",
      "[519374      0    130]\n",
      "time difference 2.755859375\n",
      "[768594      0     22]\n",
      "[770005      0    130]\n",
      "time difference 2.68359375\n",
      "[840704      0     16]\n",
      "[842078      0    130]\n",
      "\n",
      " **6 bad trials dropped**\n",
      "Setting up band-stop filter\n",
      "Filter length of 3379 samples (6.600 sec) selected\n",
      "Setting up band-pass filter from 5 - 1e+02 Hz\n",
      "l_trans_bandwidth chosen to be 2.0 Hz\n",
      "h_trans_bandwidth chosen to be 25.0 Hz\n",
      "Filter length of 845 samples (1.650 sec) selected\n",
      "Fitting ICA to data using 128 channels (please be patient, this may take a while)\n",
      "Inferring max_pca_components from picks\n",
      "Using all PCA components: 128\n"
     ]
    },
    {
     "name": "stderr",
     "output_type": "stream",
     "text": [
      "C:\\Users\\Emmanuil\\Anaconda3\\envs\\mne\\lib\\site-packages\\sklearn\\decomposition\\fastica_.py:121: ConvergenceWarning: FastICA did not converge. Consider increasing tolerance or the maximum number of iterations.\n",
      "  ConvergenceWarning)\n"
     ]
    },
    {
     "name": "stdout",
     "output_type": "stream",
     "text": [
      "Fitting ICA took 553.0s.\n",
      "    Searching for artifacts...\n",
      "Artifact indices found:\n",
      "    \n",
      "Ready.\n",
      "Transforming to ICA space (128 components)\n",
      "Zeroing out 0 ICA components\n",
      "1962 matching events found\n",
      "Applying baseline correction (mode: mean)\n",
      "Not setting metadata\n",
      "0 projection items activated\n",
      "Loading data for 1962 events and 257 original time points ...\n",
      "0 bad epochs dropped\n",
      "The following EEG sensors did not have a position specified in the selected montage: ['Nasium', 'LL4', 'L12', 'VEOG']. Their position has been left untouched.\n"
     ]
    },
    {
     "name": "stderr",
     "output_type": "stream",
     "text": [
      "<ipython-input-96-d4efa7d53f0d>:15: RuntimeWarning: The following EEG sensors did not have a position specified in the selected montage: ['Nasium', 'LL4', 'L12', 'VEOG']. Their position has been left untouched.\n",
      "  epoch.set_montage(montage)\n"
     ]
    },
    {
     "name": "stdout",
     "output_type": "stream",
     "text": [
      "Reading E:\\EEGLAB\\SA20140423\\20140423_1404.fdt\n",
      "Reading 0 ... 1053302  =      0.000 ...  2057.230 secs...\n",
      "6159 events found\n",
      "Event IDs: [  1   2   3   4   5   6   7   8   9  10  11  12  13  14  15  16  17  18\n",
      "  19  20  21  22  23  24  31 128 129 130 131 132 133 134 135 136 137 138\n",
      " 139 140 141 142 143 144 145 155 156 157 158 159 160 161 162 163 164 165]\n",
      "time difference 3.734375\n",
      "[47573     0    13]\n",
      "[49485     0   130]\n",
      "time difference 1.095703125\n",
      "[228056      0     19]\n",
      "[228617      0    130]\n",
      "time difference 1.85546875\n",
      "[515581      0     19]\n",
      "[516531      0    130]\n",
      "\n",
      " **3 bad trials dropped**\n",
      "Setting up band-stop filter\n",
      "Filter length of 3379 samples (6.600 sec) selected\n",
      "Setting up band-pass filter from 5 - 1e+02 Hz\n",
      "l_trans_bandwidth chosen to be 2.0 Hz\n",
      "h_trans_bandwidth chosen to be 25.0 Hz\n",
      "Filter length of 845 samples (1.650 sec) selected\n",
      "Fitting ICA to data using 128 channels (please be patient, this may take a while)\n",
      "Inferring max_pca_components from picks\n",
      "Using all PCA components: 128\n"
     ]
    },
    {
     "name": "stderr",
     "output_type": "stream",
     "text": [
      "C:\\Users\\Emmanuil\\Anaconda3\\envs\\mne\\lib\\site-packages\\sklearn\\decomposition\\fastica_.py:121: ConvergenceWarning: FastICA did not converge. Consider increasing tolerance or the maximum number of iterations.\n",
      "  ConvergenceWarning)\n"
     ]
    },
    {
     "name": "stdout",
     "output_type": "stream",
     "text": [
      "Fitting ICA took 623.4s.\n",
      "    Searching for artifacts...\n",
      "Artifact indices found:\n",
      "    \n",
      "Ready.\n",
      "Transforming to ICA space (128 components)\n",
      "Zeroing out 0 ICA components\n",
      "Error in method create_epochs\n",
      "Could not convert E:\\EEGLAB\\SA20140423\\20140423_1404.set\n",
      "info:\n",
      " read_file: True \n",
      " created_epoch: True \n",
      " set_montage: False \n",
      " saved_epoch: False \n",
      "\n",
      "Reading E:\\EEGLAB\\SA20140423\\20140423_1554.fdt\n",
      "Reading 0 ... 869020  =      0.000 ...  1697.305 secs...\n",
      "5443 events found\n",
      "Event IDs: [  1   2   3   4   5   6   7   8   9  10  11  12  13  14  15  16  17  18\n",
      "  19  20  21  22  23  24  31 129 130 131 132 133 134 135 136 137 138 139\n",
      " 140 141 142 143 144 145 155 156 157 158 159 160 161 162 163 164 165]\n",
      "time difference 1.28515625\n",
      "[786204      0      4]\n",
      "[786862      0    130]\n",
      "\n",
      " **1 bad trials dropped**\n",
      "Setting up band-stop filter\n",
      "Filter length of 3379 samples (6.600 sec) selected\n",
      "Setting up band-pass filter from 5 - 1e+02 Hz\n",
      "l_trans_bandwidth chosen to be 2.0 Hz\n",
      "h_trans_bandwidth chosen to be 25.0 Hz\n",
      "Filter length of 845 samples (1.650 sec) selected\n",
      "Fitting ICA to data using 128 channels (please be patient, this may take a while)\n",
      "Inferring max_pca_components from picks\n",
      "Using all PCA components: 128\n"
     ]
    },
    {
     "name": "stderr",
     "output_type": "stream",
     "text": [
      "C:\\Users\\Emmanuil\\Anaconda3\\envs\\mne\\lib\\site-packages\\sklearn\\decomposition\\fastica_.py:121: ConvergenceWarning: FastICA did not converge. Consider increasing tolerance or the maximum number of iterations.\n",
      "  ConvergenceWarning)\n"
     ]
    },
    {
     "name": "stdout",
     "output_type": "stream",
     "text": [
      "Fitting ICA took 540.2s.\n",
      "    Searching for artifacts...\n",
      "Artifact indices found:\n",
      "    \n",
      "Ready.\n",
      "Transforming to ICA space (128 components)\n",
      "Zeroing out 0 ICA components\n",
      "1797 matching events found\n",
      "Applying baseline correction (mode: mean)\n",
      "Not setting metadata\n",
      "0 projection items activated\n",
      "Loading data for 1797 events and 257 original time points ...\n",
      "0 bad epochs dropped\n",
      "The following EEG sensors did not have a position specified in the selected montage: ['Nasium', 'LL4', 'L12', 'VEOG']. Their position has been left untouched.\n"
     ]
    },
    {
     "name": "stderr",
     "output_type": "stream",
     "text": [
      "<ipython-input-96-d4efa7d53f0d>:15: RuntimeWarning: The following EEG sensors did not have a position specified in the selected montage: ['Nasium', 'LL4', 'L12', 'VEOG']. Their position has been left untouched.\n",
      "  epoch.set_montage(montage)\n"
     ]
    },
    {
     "name": "stdout",
     "output_type": "stream",
     "text": [
      "Reading E:\\EEGLAB\\SA20140424\\20140424_1002.fdt\n",
      "Reading 0 ... 976404  =      0.000 ...  1907.039 secs...\n",
      "6336 events found\n",
      "Event IDs: [  1   2   3   4   5   6   7   8   9  10  11  12  13  14  15  16  17  18\n",
      "  19  20  21  22  23  24  31 129 130 131 132 133 134 135 136 137 138 139\n",
      " 140 141 142 143 144 145 155 156 157 158 159 160 161 162 163 164 165]\n",
      "time difference 1.0546875\n",
      "[23419     0    13]\n",
      "[23959     0   130]\n",
      "time difference 1.591796875\n",
      "[70031     0    16]\n",
      "[70846     0   130]\n",
      "time difference 1.791015625\n",
      "[85534     0    19]\n",
      "[86451     0   130]\n",
      "time difference 1.861328125\n",
      "[163090      0     19]\n",
      "[164043      0    130]\n",
      "time difference 1.232421875\n",
      "[316236      0      1]\n",
      "[316867      0    130]\n",
      "time difference 2.611328125\n",
      "[337651      0      1]\n",
      "[338988      0    130]\n",
      "time difference 3.22265625\n",
      "[397116      0     22]\n",
      "[398766      0    130]\n",
      "time difference 1.19921875\n",
      "[904295      0      1]\n",
      "[904909      0    130]\n",
      "\n",
      " **8 bad trials dropped**\n",
      "Setting up band-stop filter\n",
      "Filter length of 3379 samples (6.600 sec) selected\n",
      "Setting up band-pass filter from 5 - 1e+02 Hz\n",
      "l_trans_bandwidth chosen to be 2.0 Hz\n",
      "h_trans_bandwidth chosen to be 25.0 Hz\n",
      "Filter length of 845 samples (1.650 sec) selected\n",
      "Fitting ICA to data using 128 channels (please be patient, this may take a while)\n",
      "Inferring max_pca_components from picks\n",
      "Using all PCA components: 128\n"
     ]
    },
    {
     "name": "stderr",
     "output_type": "stream",
     "text": [
      "C:\\Users\\Emmanuil\\Anaconda3\\envs\\mne\\lib\\site-packages\\sklearn\\decomposition\\fastica_.py:121: ConvergenceWarning: FastICA did not converge. Consider increasing tolerance or the maximum number of iterations.\n",
      "  ConvergenceWarning)\n"
     ]
    },
    {
     "name": "stdout",
     "output_type": "stream",
     "text": [
      "Fitting ICA took 541.7s.\n",
      "    Searching for artifacts...\n",
      "Artifact indices found:\n",
      "    \n",
      "Ready.\n",
      "Transforming to ICA space (128 components)\n",
      "Zeroing out 0 ICA components\n",
      "2076 matching events found\n",
      "Applying baseline correction (mode: mean)\n",
      "Not setting metadata\n",
      "0 projection items activated\n",
      "Loading data for 2076 events and 257 original time points ...\n",
      "0 bad epochs dropped\n",
      "The following EEG sensors did not have a position specified in the selected montage: ['Nasium', 'LL4', 'L12', 'VEOG']. Their position has been left untouched.\n"
     ]
    },
    {
     "name": "stderr",
     "output_type": "stream",
     "text": [
      "<ipython-input-96-d4efa7d53f0d>:15: RuntimeWarning: The following EEG sensors did not have a position specified in the selected montage: ['Nasium', 'LL4', 'L12', 'VEOG']. Their position has been left untouched.\n",
      "  epoch.set_montage(montage)\n"
     ]
    },
    {
     "name": "stdout",
     "output_type": "stream",
     "text": [
      "Reading E:\\EEGLAB\\SA20140424\\20140424_1606.fdt\n",
      "Reading 0 ... 752766  =      0.000 ...  1470.246 secs...\n",
      "5251 events found\n",
      "Event IDs: [  1   2   3   4   5   6   7   8   9  10  11  12  13  14  15  16  17  18\n",
      "  19  20  21  22  23  24  31 128 129 130 131 132 133 134 135 136 137 138\n",
      " 139 140 141 142 143 144 145 155 156 157 158 159 160 161 162 163 164 165]\n",
      "time difference 1.716796875\n",
      "[114021      0     13]\n",
      "[114900      0    130]\n",
      "time difference 4.259765625\n",
      "[319605      0     22]\n",
      "[321786      0    130]\n",
      "\n",
      " **2 bad trials dropped**\n",
      "Setting up band-stop filter\n",
      "Filter length of 3379 samples (6.600 sec) selected\n",
      "Setting up band-pass filter from 5 - 1e+02 Hz\n",
      "l_trans_bandwidth chosen to be 2.0 Hz\n",
      "h_trans_bandwidth chosen to be 25.0 Hz\n",
      "Filter length of 845 samples (1.650 sec) selected\n",
      "Fitting ICA to data using 128 channels (please be patient, this may take a while)\n",
      "Inferring max_pca_components from picks\n",
      "Using all PCA components: 128\n"
     ]
    },
    {
     "name": "stderr",
     "output_type": "stream",
     "text": [
      "C:\\Users\\Emmanuil\\Anaconda3\\envs\\mne\\lib\\site-packages\\sklearn\\decomposition\\fastica_.py:121: ConvergenceWarning: FastICA did not converge. Consider increasing tolerance or the maximum number of iterations.\n",
      "  ConvergenceWarning)\n"
     ]
    },
    {
     "name": "stdout",
     "output_type": "stream",
     "text": [
      "Fitting ICA took 445.5s.\n",
      "    Searching for artifacts...\n",
      "Artifact indices found:\n",
      "    \n",
      "Ready.\n",
      "Transforming to ICA space (128 components)\n",
      "Zeroing out 0 ICA components\n",
      "1735 matching events found\n",
      "Applying baseline correction (mode: mean)\n",
      "Not setting metadata\n",
      "0 projection items activated\n",
      "Loading data for 1735 events and 257 original time points ...\n",
      "0 bad epochs dropped\n",
      "The following EEG sensors did not have a position specified in the selected montage: ['Nasium', 'LL4', 'L12', 'VEOG']. Their position has been left untouched.\n"
     ]
    },
    {
     "name": "stderr",
     "output_type": "stream",
     "text": [
      "<ipython-input-96-d4efa7d53f0d>:15: RuntimeWarning: The following EEG sensors did not have a position specified in the selected montage: ['Nasium', 'LL4', 'L12', 'VEOG']. Their position has been left untouched.\n",
      "  epoch.set_montage(montage)\n"
     ]
    },
    {
     "name": "stdout",
     "output_type": "stream",
     "text": [
      "Reading E:\\EEGLAB\\SA20140428\\20140428_0959.fdt\n",
      "Reading 0 ... 1003478  =      0.000 ...  1959.918 secs...\n",
      "6154 events found\n",
      "Event IDs: [  1   2   3   4   5   6   7   8   9  10  11  12  13  14  15  16  17  18\n",
      "  19  20  21  22  23  24  31 129 130 131 132 133 134 135 136 137 138 139\n",
      " 140 141 142 143 144 145 155 156 157 158 159 160 161 162 163 164 165]\n",
      "time difference 1.97265625\n",
      "[35650     0     1]\n",
      "[36660     0   130]\n",
      "time difference 1.640625\n",
      "[131619      0     22]\n",
      "[132459      0    130]\n",
      "time difference 1.359375\n",
      "[141381      0     19]\n",
      "[142077      0    130]\n",
      "time difference 1.51953125\n",
      "[302131      0      7]\n",
      "[302909      0    130]\n",
      "time difference 1.134765625\n",
      "[501293      0     19]\n",
      "[501874      0    130]\n",
      "time difference 1.130859375\n",
      "[604581      0      1]\n",
      "[605160      0    130]\n",
      "time difference 1.177734375\n",
      "[610822      0      1]\n",
      "[611425      0    130]\n",
      "time difference 2.111328125\n",
      "[669328      0      7]\n",
      "[670409      0    130]\n",
      "time difference 1.162109375\n",
      "[741878      0     16]\n",
      "[742473      0    130]\n",
      "time difference 1.02734375\n",
      "[879789      0     22]\n",
      "[880315      0    130]\n",
      "time difference 1.193359375\n",
      "[952589      0     16]\n",
      "[953200      0    130]\n",
      "time difference 1.193359375\n",
      "[954048      0     16]\n",
      "[954659      0    130]\n",
      "\n",
      " **12 bad trials dropped**\n",
      "Setting up band-stop filter\n",
      "Filter length of 3379 samples (6.600 sec) selected\n",
      "Setting up band-pass filter from 5 - 1e+02 Hz\n",
      "l_trans_bandwidth chosen to be 2.0 Hz\n",
      "h_trans_bandwidth chosen to be 25.0 Hz\n",
      "Filter length of 845 samples (1.650 sec) selected\n",
      "Fitting ICA to data using 128 channels (please be patient, this may take a while)\n",
      "Inferring max_pca_components from picks\n",
      "Using all PCA components: 128\n"
     ]
    },
    {
     "name": "stderr",
     "output_type": "stream",
     "text": [
      "C:\\Users\\Emmanuil\\Anaconda3\\envs\\mne\\lib\\site-packages\\sklearn\\decomposition\\fastica_.py:121: ConvergenceWarning: FastICA did not converge. Consider increasing tolerance or the maximum number of iterations.\n",
      "  ConvergenceWarning)\n"
     ]
    },
    {
     "name": "stdout",
     "output_type": "stream",
     "text": [
      "Fitting ICA took 555.8s.\n",
      "    Searching for artifacts...\n",
      "Artifact indices found:\n",
      "    \n",
      "Ready.\n",
      "Transforming to ICA space (128 components)\n",
      "Zeroing out 0 ICA components\n",
      "2004 matching events found\n",
      "Applying baseline correction (mode: mean)\n",
      "Not setting metadata\n",
      "0 projection items activated\n",
      "Loading data for 2004 events and 257 original time points ...\n",
      "0 bad epochs dropped\n",
      "The following EEG sensors did not have a position specified in the selected montage: ['Nasium', 'LL4', 'L12', 'VEOG']. Their position has been left untouched.\n"
     ]
    },
    {
     "name": "stderr",
     "output_type": "stream",
     "text": [
      "<ipython-input-96-d4efa7d53f0d>:15: RuntimeWarning: The following EEG sensors did not have a position specified in the selected montage: ['Nasium', 'LL4', 'L12', 'VEOG']. Their position has been left untouched.\n",
      "  epoch.set_montage(montage)\n"
     ]
    },
    {
     "name": "stdout",
     "output_type": "stream",
     "text": [
      "Reading E:\\EEGLAB\\SA20140428\\20140428_1215.fdt\n",
      "Reading 0 ... 854674  =      0.000 ...  1669.285 secs...\n",
      "5436 events found\n",
      "Event IDs: [  1   2   3   4   5   6   7   8   9  10  11  12  13  14  15  16  17  18\n",
      "  19  20  21  22  23  24  29  31 128 129 130 131 132 133 134 135 136 137\n",
      " 138 139 140 141 142 143 144 145 155 156 157 158 159 160 161 162 163 164\n",
      " 165]\n",
      "time difference 1.173828125\n",
      "[109190      0     19]\n",
      "[109791      0    130]\n",
      "time difference 1.1015625\n",
      "[245771      0     19]\n",
      "[246335      0    130]\n",
      "time difference 1.15625\n",
      "[310984      0     22]\n",
      "[311576      0    130]\n",
      "time difference 1.4375\n",
      "[330768      0     22]\n",
      "[331504      0    130]\n",
      "time difference 1.056640625\n",
      "[508730      0      1]\n",
      "[509271      0    130]\n",
      "\n",
      " **5 bad trials dropped**\n",
      "Setting up band-stop filter\n",
      "Filter length of 3379 samples (6.600 sec) selected\n",
      "Setting up band-pass filter from 5 - 1e+02 Hz\n",
      "l_trans_bandwidth chosen to be 2.0 Hz\n",
      "h_trans_bandwidth chosen to be 25.0 Hz\n",
      "Filter length of 845 samples (1.650 sec) selected\n",
      "Fitting ICA to data using 128 channels (please be patient, this may take a while)\n",
      "Inferring max_pca_components from picks\n",
      "Using all PCA components: 128\n"
     ]
    },
    {
     "name": "stderr",
     "output_type": "stream",
     "text": [
      "C:\\Users\\Emmanuil\\Anaconda3\\envs\\mne\\lib\\site-packages\\sklearn\\decomposition\\fastica_.py:121: ConvergenceWarning: FastICA did not converge. Consider increasing tolerance or the maximum number of iterations.\n",
      "  ConvergenceWarning)\n"
     ]
    },
    {
     "name": "stdout",
     "output_type": "stream",
     "text": [
      "Fitting ICA took 506.6s.\n",
      "    Searching for artifacts...\n",
      "Artifact indices found:\n",
      "    \n",
      "Ready.\n",
      "Transforming to ICA space (128 components)\n",
      "Zeroing out 0 ICA components\n",
      "Error in method create_epochs\n",
      "Could not convert E:\\EEGLAB\\SA20140428\\20140428_1215.set\n",
      "info:\n",
      " read_file: True \n",
      " created_epoch: True \n",
      " set_montage: False \n",
      " saved_epoch: False \n",
      "\n",
      "Events like the following will be dropped entirely: ['__'], 1 in total\n",
      "1/3566 event codes could not be mapped to integers. Use the 'event_id' parameter to map such events manually.\n",
      "Reading E:\\EEGLAB\\SA20140430\\20140430_1309.fdt\n",
      "Reading 0 ... 527359  =      0.000 ...  1029.998 secs...\n"
     ]
    },
    {
     "name": "stderr",
     "output_type": "stream",
     "text": [
      "<ipython-input-96-d4efa7d53f0d>:11: RuntimeWarning: Events like the following will be dropped entirely: ['__'], 1 in total\n",
      "  raw = mne.io.read_raw_eeglab(file, preload = True)\n",
      "<ipython-input-96-d4efa7d53f0d>:11: RuntimeWarning: 1/3566 event codes could not be mapped to integers. Use the 'event_id' parameter to map such events manually.\n",
      "  raw = mne.io.read_raw_eeglab(file, preload = True)\n"
     ]
    },
    {
     "name": "stdout",
     "output_type": "stream",
     "text": [
      "3565 events found\n",
      "Event IDs: [  1   2   3   4   5   6   7   8   9  10  11  12  13  14  15  16  17  18\n",
      "  19  20  21  22  23  31 129 130 131 132 133 134 135 136 137 138 139 140\n",
      " 141 142 143 144 145 155 156 157 158 159 160 162 163 164 165]\n",
      "time difference 2.26171875\n",
      "[67497     0     7]\n",
      "[68655     0   130]\n",
      "time difference 2.865234375\n",
      "[97864     0    10]\n",
      "[99331     0   130]\n",
      "time difference 1.08984375\n",
      "[108481      0     10]\n",
      "[109039      0    130]\n",
      "time difference 1.138671875\n",
      "[361254      0     19]\n",
      "[361837      0    130]\n",
      "\n",
      " **4 bad trials dropped**\n",
      "Setting up band-stop filter\n",
      "Filter length of 3379 samples (6.600 sec) selected\n",
      "Setting up band-pass filter from 5 - 1e+02 Hz\n",
      "l_trans_bandwidth chosen to be 2.0 Hz\n",
      "h_trans_bandwidth chosen to be 25.0 Hz\n",
      "Filter length of 845 samples (1.650 sec) selected\n",
      "Fitting ICA to data using 128 channels (please be patient, this may take a while)\n",
      "Inferring max_pca_components from picks\n",
      "Using all PCA components: 128\n"
     ]
    },
    {
     "name": "stderr",
     "output_type": "stream",
     "text": [
      "C:\\Users\\Emmanuil\\Anaconda3\\envs\\mne\\lib\\site-packages\\sklearn\\decomposition\\fastica_.py:121: ConvergenceWarning: FastICA did not converge. Consider increasing tolerance or the maximum number of iterations.\n",
      "  ConvergenceWarning)\n"
     ]
    },
    {
     "name": "stdout",
     "output_type": "stream",
     "text": [
      "Fitting ICA took 316.9s.\n",
      "    Searching for artifacts...\n",
      "Artifact indices found:\n",
      "    \n",
      "Ready.\n",
      "Transforming to ICA space (128 components)\n",
      "Zeroing out 0 ICA components\n",
      "Error in method create_epochs\n",
      "Could not convert E:\\EEGLAB\\SA20140430\\20140430_1309.set\n",
      "info:\n",
      " read_file: True \n",
      " created_epoch: True \n",
      " set_montage: False \n",
      " saved_epoch: False \n",
      "\n",
      "Reading E:\\EEGLAB\\SA20140430\\20140430_1501.fdt\n",
      "Reading 0 ... 1163169  =      0.000 ...  2271.814 secs...\n",
      "7733 events found\n",
      "Event IDs: [  1   2   3   4   5   6   7   8   9  10  11  12  13  14  15  16  17  18\n",
      "  19  20  21  22  23  24  31 129 130 131 132 133 134 135 136 137 138 139\n",
      " 140 141 142 143 144 145 155 156 157 158 159 160 161 162 163 164 165]\n",
      "time difference 1.09765625\n",
      "[130435      0     13]\n",
      "[130997      0    130]\n",
      "time difference 1.703125\n",
      "[338418      0     19]\n",
      "[339290      0    130]\n",
      "time difference 1.166015625\n",
      "[422268      0     22]\n",
      "[422865      0    130]\n",
      "time difference 1.0703125\n",
      "[429475      0      7]\n",
      "[430023      0    130]\n",
      "time difference 1.255859375\n",
      "[455233      0     13]\n",
      "[455876      0    130]\n",
      "time difference 1.9765625\n",
      "[709249      0     22]\n",
      "[710261      0    130]\n",
      "time difference 1.107421875\n",
      "[761032      0      7]\n",
      "[761599      0    130]\n",
      "time difference 1.109375\n",
      "[784950      0     10]\n",
      "[785518      0    130]\n",
      "time difference 1.1875\n",
      "[828809      0     16]\n",
      "[829417      0    130]\n",
      "time difference 2.625\n",
      "[830250      0     16]\n",
      "[831594      0    130]\n",
      "time difference 1.24609375\n",
      "[878597      0      4]\n",
      "[879235      0    130]\n",
      "time difference 1.70703125\n",
      "[946192      0     19]\n",
      "[947066      0    130]\n",
      "time difference 1.16796875\n",
      "[947927      0     19]\n",
      "[948525      0    130]\n",
      "time difference 1.875\n",
      "[957699      0     19]\n",
      "[958659      0    130]\n",
      "\n",
      " **14 bad trials dropped**\n",
      "Setting up band-stop filter\n",
      "Filter length of 3379 samples (6.600 sec) selected\n",
      "Setting up band-pass filter from 5 - 1e+02 Hz\n",
      "l_trans_bandwidth chosen to be 2.0 Hz\n",
      "h_trans_bandwidth chosen to be 25.0 Hz\n",
      "Filter length of 845 samples (1.650 sec) selected\n",
      "Fitting ICA to data using 128 channels (please be patient, this may take a while)\n",
      "Inferring max_pca_components from picks\n",
      "Using all PCA components: 128\n"
     ]
    },
    {
     "name": "stderr",
     "output_type": "stream",
     "text": [
      "C:\\Users\\Emmanuil\\Anaconda3\\envs\\mne\\lib\\site-packages\\sklearn\\decomposition\\fastica_.py:121: ConvergenceWarning: FastICA did not converge. Consider increasing tolerance or the maximum number of iterations.\n",
      "  ConvergenceWarning)\n"
     ]
    },
    {
     "name": "stdout",
     "output_type": "stream",
     "text": [
      "Fitting ICA took 637.1s.\n",
      "    Searching for artifacts...\n",
      "Artifact indices found:\n",
      "    \n",
      "Ready.\n",
      "Transforming to ICA space (128 components)\n",
      "Zeroing out 0 ICA components\n",
      "2521 matching events found\n",
      "Applying baseline correction (mode: mean)\n",
      "Not setting metadata\n",
      "0 projection items activated\n",
      "Loading data for 2521 events and 257 original time points ...\n",
      "0 bad epochs dropped\n",
      "The following EEG sensors did not have a position specified in the selected montage: ['Nasium', 'LL4', 'L12', 'VEOG']. Their position has been left untouched.\n"
     ]
    },
    {
     "name": "stderr",
     "output_type": "stream",
     "text": [
      "<ipython-input-96-d4efa7d53f0d>:15: RuntimeWarning: The following EEG sensors did not have a position specified in the selected montage: ['Nasium', 'LL4', 'L12', 'VEOG']. Their position has been left untouched.\n",
      "  epoch.set_montage(montage)\n"
     ]
    }
   ],
   "source": [
    "# # save new epoch files in the directory specified below. \n",
    "# os.chdir('E:\\correct_time_epochs')\n",
    "# montage = mne.channels.read_montage(kind ='ANT_DukeWaveGuard_128_electrode_montages_updated_V4')\n",
    "\n",
    "# for file in eeglab_files[40:50]:\n",
    "# for file in eeglab_files[50:]:\n",
    "#     try:\n",
    "#         read_file = False\n",
    "#         created_epoch = False\n",
    "#         set_montage = False\n",
    "#         saved_epoch = False\n",
    "#         raw = mne.io.read_raw_eeglab(file, preload = True)\n",
    "#         read_file = True\n",
    "#         epoch = remove_artifacts_and_create_epochs(raw)\n",
    "#         created_epoch = True\n",
    "#         epoch.set_montage(montage)\n",
    "#         set_montage = True\n",
    "#         epoch.save(file.split('\\\\')[-1].split('.')[0] + \"_epo.fif\", verbose = True)\n",
    "#         saved_epoch = True\n",
    "#     except:\n",
    "#         print(\"Could not convert {0}\".format(file))\n",
    "#         print(\"info:\\n read_file: {0} \\n created_epoch: {1} \\n set_montage: {2} \\n saved_epoch: {3} \\n\".format(read_file,\n",
    "#                                                                                                                created_epoch,\n",
    "#                                                                                                                set_montage,\n",
    "#                                                                                                                saved_epoch))"
   ]
  },
  {
   "cell_type": "code",
   "execution_count": null,
   "metadata": {},
   "outputs": [],
   "source": [
    "# # add montage files to epoch files.\n",
    "# epoch_path = 'D:\\\\stim_code_epochs'\n",
    "# epoch_files = os.listdir(epoch_path)"
   ]
  },
  {
   "cell_type": "code",
   "execution_count": null,
   "metadata": {},
   "outputs": [],
   "source": [
    "# montage = mne.channels.read_montage(kind ='ANT_DukeWaveGuard_128_electrode_montages_updated_V4')"
   ]
  },
  {
   "cell_type": "code",
   "execution_count": null,
   "metadata": {},
   "outputs": [],
   "source": [
    "# os.chdir('D:\\stim_code_epochs')\n",
    "# for epoch_file in epoch_files[1:]:\n",
    "#     epoch = mne.read_epochs(os.path.join(epoch_path, epoch_file), preload = True)\n",
    "#     epoch.set_montage(montage=montage)\n",
    "#     epoch.save(epoch_file.split('\\\\')[-1].split('.')[0] + \"_epo.fif\", verbose = True)\n",
    "    "
   ]
  }
 ],
 "metadata": {
  "kernelspec": {
   "display_name": "Python 3",
   "language": "python",
   "name": "python3"
  },
  "language_info": {
   "codemirror_mode": {
    "name": "ipython",
    "version": 3
   },
   "file_extension": ".py",
   "mimetype": "text/x-python",
   "name": "python",
   "nbconvert_exporter": "python",
   "pygments_lexer": "ipython3",
   "version": "3.6.7"
  }
 },
 "nbformat": 4,
 "nbformat_minor": 2
}
