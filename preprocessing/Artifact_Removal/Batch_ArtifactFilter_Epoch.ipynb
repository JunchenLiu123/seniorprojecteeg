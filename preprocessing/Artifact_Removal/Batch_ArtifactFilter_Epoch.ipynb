{
 "cells": [
  {
   "cell_type": "code",
   "execution_count": null,
   "metadata": {},
   "outputs": [],
   "source": [
    "%run preprocecssing_helpers.ipynb\n",
    "import os\n",
    "import time\n",
    "import mne\n",
    "from mne.preprocessing import ICA\n",
    "import numpy\n",
    "import matplotlib.pyplot as plt\n",
    "# %matplotlib inline\n",
    "%matplotlib qt\n",
    "import matplotlib\n",
    "matplotlib.rcParams['figure.figsize'] = (10.0, 10.0)\n",
    "matplotlib.rcParams.update({'font.size': 15})\n",
    "# matplotlib.rcParams."
   ]
  },
  {
   "cell_type": "code",
   "execution_count": null,
   "metadata": {},
   "outputs": [],
   "source": [
    "# path = 'F:\\StroopEEG'\n",
    "path = 'F:\\EEGLAB'\n",
    "\n",
    "# eeglab_files = os.listdir(path)\n",
    "# eeglab_dict = search_folders(path, eeglab_files)\n",
    "# eeglab_files = paths_of_eeglab_files(path, eeglab_dict)\n",
    "# eeglab_files"
   ]
  },
  {
   "cell_type": "code",
   "execution_count": null,
   "metadata": {},
   "outputs": [],
   "source": [
    "new_stim_code_event_ids = {\n",
    "     \n",
    "    \"b-f2-wrd\":1,\n",
    "    \"b-f1-wrd\":2,\n",
    "    \"b-tg-wrd\":3,\n",
    "\n",
    "    \"b-f2-spk\":4,\n",
    "    \"b-f1-spk\":5,\n",
    "    \"b-tg-spk\":6,\n",
    "\n",
    "    \"b-f2-pic\":7,\n",
    "    \"b-f1-pic\":8,\n",
    "    \"b-tg-pic\":9,\n",
    "\n",
    "    \"b-f2-snd\":10,\n",
    "    \"b-f1-snd\":11,\n",
    "    \"b-tg-snd\":12,\n",
    "\n",
    "    \"f-f2-wrd\":13,\n",
    "    \"f-f1-wrd\":14,\n",
    "    \"f-tg-wrd\":15,\n",
    "\n",
    "    \"f-f2-spk\":16,\n",
    "    \"f-f1-spk\":17,\n",
    "    \"f-tg-spk\":18,\n",
    "\n",
    "    \"f-f2-pic\":19,\n",
    "    \"f-f1-pic\":20,\n",
    "    \"f-tg-pic\":21,\n",
    "\n",
    "    \"f-f2-snd\":22,\n",
    "    \"f-f1-snd\":23,\n",
    "    \"f-tg-snd\":24\n",
    "}"
   ]
  },
  {
   "cell_type": "code",
   "execution_count": null,
   "metadata": {},
   "outputs": [],
   "source": [
    "# raw = mne.io.read_raw_eeglab(eeglab_files[2],preload = True)"
   ]
  },
  {
   "cell_type": "code",
   "execution_count": null,
   "metadata": {},
   "outputs": [],
   "source": [
    "def list_eeglab_files(root_path):\n",
    "    \"\"\"\n",
    "    NOTE: must perform magic command %run preprocecssing_helpers.ipynb before using this method.\n",
    "    \n",
    "    Description: \n",
    "        Lists all eeglab .set files within a directory. \n",
    "        Assuming that the file format is: \n",
    "        Root Folder -> Subject Folder -> eeglab file contents\n",
    "        example: \n",
    "        EEGLAB (root) -> SA20140220 (subject) -> 20140220_1009.set\n",
    "        or \n",
    "        F:\\\\EEGLAB\\\\SA20140220\\\\20140220_1009.set\n",
    "    \n",
    "    Variables: \n",
    "        root_path: the folder containing all subject folders\n",
    "    ----\n",
    "    Returns:\n",
    "        List of file .set path locations.\n",
    "    \"\"\"\n",
    "    \n",
    "    eeglab_files_list = os.listdir(root_path)\n",
    "    eeglab_dict = search_folders(root_path, eeglab_files_list)\n",
    "    eeglab_files = paths_of_eeglab_files(path, eeglab_dict)\n",
    "    \n",
    "    return eeglab_files"
   ]
  },
  {
   "cell_type": "code",
   "execution_count": null,
   "metadata": {},
   "outputs": [],
   "source": [
    "# eeglab_files = list_eeglab_files(path)"
   ]
  },
  {
   "cell_type": "code",
   "execution_count": null,
   "metadata": {},
   "outputs": [],
   "source": [
    "def find_events(eeglab):\n",
    "    \"\"\"\n",
    "    Description:\n",
    "        returns the events of an eeglab .set object\n",
    "        \n",
    "    Variables:\n",
    "        eeglab: mne.io.eeglab.eeglab.RawEEGLAB object\n",
    "    ------\n",
    "    returns: np array of 3d lists\n",
    "    \"\"\"\n",
    "    return mne.find_events(eeglab, output= 'offset',\n",
    "#                               consecutive= True,\n",
    "                              min_duration=1/eeglab.info['sfreq'], \n",
    "                              shortest_event= .5, \n",
    "                              initial_event=False)\n",
    "    "
   ]
  },
  {
   "cell_type": "code",
   "execution_count": null,
   "metadata": {},
   "outputs": [],
   "source": [
    "# events = find_events(raw)\n",
    "# type(events)"
   ]
  },
  {
   "cell_type": "code",
   "execution_count": null,
   "metadata": {},
   "outputs": [],
   "source": [
    "def get_trials(events):\n",
    "    \"\"\"\n",
    "    Descriptions:\n",
    "        returns a list of trials where each trial contains timestamp, offset and event_id\n",
    "    \n",
    "    Variables:\n",
    "        events: A np array of 3d lists. use mne.find_events or custom find_events(eeglab) method already written.\n",
    "    -----\n",
    "    returns: np array of lists\n",
    "    \"\"\"\n",
    "    trials = []\n",
    "    current_trial = []\n",
    "    for event in events:\n",
    "        if event[-1] == 31 and current_trial != []:\n",
    "            trials.append(current_trial)\n",
    "            current_trial = []\n",
    "            current_trial.append(event)\n",
    "        else:\n",
    "            current_trial.append(event)\n",
    "            \n",
    "    trials.append(current_trial) # the last trial does not have an indicator, so append it after the loop ends\n",
    "    return trials"
   ]
  },
  {
   "cell_type": "code",
   "execution_count": null,
   "metadata": {},
   "outputs": [],
   "source": [
    "# trials = get_trials(events)"
   ]
  },
  {
   "cell_type": "code",
   "execution_count": null,
   "metadata": {},
   "outputs": [],
   "source": [
    "# trials[1][0]"
   ]
  },
  {
   "cell_type": "code",
   "execution_count": null,
   "metadata": {},
   "outputs": [],
   "source": [
    "def filter_bad_trials(eeglab):\n",
    "    \"\"\"\n",
    "    Description:\n",
    "        Filters out all events that are not within the 1-24 stim-code definitions.\n",
    "        Also filters for trials that have a reaction time greater than .500ms as the subject \n",
    "        failed to click in time and was marked incorrect anyway.\n",
    "        \n",
    "    Variables:\n",
    "        eeglab: mne.io.eeglab.eeglab.RawEEGLAB object\n",
    "    ------\n",
    "    returns:\n",
    "        new_events: \n",
    "            np array of 3d list of events \n",
    "    \"\"\"\n",
    "    \n",
    "    events = find_events(eeglab)\n",
    "    trials = get_trials(events)\n",
    "    button_clicks = [131,132]\n",
    "    accuracy = [129,130]\n",
    "    found_first_stim_code = False\n",
    "    found_third_stim_code = False\n",
    "    isEnd_of_trial = False\n",
    "    new_events = []\n",
    "    good_trials = []\n",
    "    bad_trials_count = 0\n",
    "    for trial in trials:\n",
    "#         print(trial)\n",
    "        for event in trial:\n",
    "            # find first stim-code\n",
    "            if event[-1] <= 24 and found_first_stim_code == False: \n",
    "                first_stim_code = event\n",
    "                found_first_stim_code = True\n",
    "#                 print(\"found first stim-code: {0}\".format(first_stim_code))\n",
    "\n",
    "            # find third stim-code\n",
    "            if found_first_stim_code and event[-1] <= 24:\n",
    "                #the third stim-code is one less than the first. \n",
    "                if event[-1] + 1 == first_stim_code[-1]:\n",
    "                    third_stim_code = event\n",
    "                    found_third_stim_code = True\n",
    "            \n",
    "            if event[-1] in button_clicks:\n",
    "                button_click = event        \n",
    "                \n",
    "            if event[-1] in accuracy:\n",
    "                #end of trial\n",
    "                if event[-1] == 130: # incorrect\n",
    "                    button_click = event\n",
    "                    time_diff = (button_click[0] - third_stim_code[0]) * (1/512) #compute time in seconds\n",
    "                    if time_diff > 1:\n",
    "                        print(\"time difference {0}\".format(time_diff))\n",
    "                        print(third_stim_code)\n",
    "                        print(button_click)\n",
    "                        bad_trials_count+=1\n",
    "                    else:\n",
    "                        #store this trial\n",
    "                         good_trials.append(trial)\n",
    "                else:\n",
    "                    good_trials.append(trial)\n",
    "                found_first_stim_code = False\n",
    "                found_third_stim_code = False\n",
    "                \n",
    "    print(\"\\n **{0} bad trials dropped**\".format(bad_trials_count))\n",
    "    return np.concatenate([x for x in good_trials])"
   ]
  },
  {
   "cell_type": "code",
   "execution_count": null,
   "metadata": {},
   "outputs": [],
   "source": [
    "# filtered_events = filter_bad_trials(raw)"
   ]
  },
  {
   "cell_type": "code",
   "execution_count": null,
   "metadata": {},
   "outputs": [],
   "source": [
    "def events_with_stim_codes(events):\n",
    "    \"\"\"\n",
    "    Description:\n",
    "        Method will return an mne events ndarray containing only \n",
    "        stim-codes (event_ids 1-24).\n",
    "    Variables:\n",
    "        events: list of 3d lists \n",
    "    -----\n",
    "    Returns:\n",
    "        new_events list of 3d lists containing events of stim-codes    \n",
    "    \"\"\"\n",
    "    new_events = []\n",
    "    for event in events:\n",
    "        if event[-1] <= 24:\n",
    "            new_events.append(np.array(event))\n",
    "            \n",
    "    return np.array(new_events)\n",
    "    "
   ]
  },
  {
   "cell_type": "code",
   "execution_count": null,
   "metadata": {},
   "outputs": [],
   "source": [
    "# some eeglab .set files may not have seen ALL of the 1-24 stim-code events.\n",
    "# write method to return a proper event_id dictionary\n",
    "def get_stim_code_event_ids(events, event_ids):\n",
    "    \"\"\"\n",
    "    Description:\n",
    "        return dictionay of event_ids that match the criteria of the eeglab file.\n",
    "        Some files may not have all stim-code events, and to avoid errors when creating epochs, \n",
    "        this method will return a dictionary of compatible event_ids.\n",
    "        \n",
    "    Variables:\n",
    "        events: ndarray of ints (n_events, 3)\n",
    "        event_ids: dictionary of event_ids \n",
    "            ex. {'stim-code': 1}\n",
    "    -----\n",
    "    return: dictionary of event_ids\n",
    "    \"\"\"\n",
    "    unique_events = np.unique(events[:,-1])\n",
    "    event_id_values = event_ids.values()\n",
    "    event_dict = {}\n",
    "    \n",
    "    for event_id in unique_events:\n",
    "        if event_id in event_id_values:\n",
    "            key = list(event_ids.keys())[event_id-1]\n",
    "            event_dict[key] = event_id\n",
    "            \n",
    "    return event_dict"
   ]
  },
  {
   "cell_type": "code",
   "execution_count": null,
   "metadata": {},
   "outputs": [],
   "source": [
    "def artifact_removal(eeglab):\n",
    "    \"\"\"\n",
    "    NOTE: use this method after creating epoch objects to speed up process!\n",
    "    \n",
    "    Description:\n",
    "        Perform notch filter, frequenc filter, and ICA \n",
    "        \n",
    "    Variables: \n",
    "        eeglab: mne.io.eeglab.eeglab.RawEEGLAB object\n",
    "    returns:\n",
    "        eeglab: mne.io.eeglab.eeglab.RawEEGLAB object\n",
    "\n",
    "    \"\"\"\n",
    "    \n",
    "    raw.notch_filter(np.arange(60,241,60), filter_length='auto', phase = 'zero')\n",
    "    raw.filter(5,100, fir_design='firwin')\n",
    "    raw.resample(256, n_jobs=10)\n",
    "    ica = ICA(n_components=None, max_iter = 1000, random_state = 42)\n",
    "    ica.fit(raw,picks = None, decim=3, reject=dict(mag=4e-12, grad=4000e-13))\n",
    "    ica.detect_artifacts(raw,start_find=None, stop_find=None, ecg_ch=None, \n",
    "                 ecg_score_func='pearsonr', skew_criterion=None, \n",
    "                 kurt_criterion=None, var_criterion=None,add_nodes=None)\n",
    "    \n",
    "    return ica.apply(raw)"
   ]
  },
  {
   "cell_type": "code",
   "execution_count": null,
   "metadata": {},
   "outputs": [],
   "source": [
    "def create_epochs(eeglab, events, event_id):\n",
    "    \"\"\"\n",
    "    Description: \n",
    "        create mne.epoch object from eeglab data.\n",
    "    \n",
    "    Variables:\n",
    "        eeglab: mne.io.eeglab.eeglab.RawEEGLAB object\n",
    "        events: array of int, shape (n_events, 3)\n",
    "        event_id: dictionary of events \n",
    "            Keys are name of event as string, value is event_id as an int.\n",
    "    \n",
    "    returns:\n",
    "        mne.epoch object\n",
    "            \n",
    "    \"\"\"\n",
    "    tmax = (1/raw.info['sfreq']) * 499 # tmax 1/sfrq * desired epoch length\n",
    "    return mne.Epochs(raw, \n",
    "                      events=events,\n",
    "                      event_id = new_stim_code_event_ids, \n",
    "                      preload = True, \n",
    "                      tmin=0, \n",
    "                      tmax=tmax) \n",
    "    "
   ]
  },
  {
   "cell_type": "code",
   "execution_count": null,
   "metadata": {},
   "outputs": [],
   "source": [
    "# tmax = (1/raw.info['sfreq']) * 499 # tmax 1/sfrq * desired epoch length\n",
    "# epoch = mne.Epochs(raw, events=new_events, event_id = new_stim_code_event_ids, preload = True, tmin=0, tmax=tmax) "
   ]
  },
  {
   "cell_type": "code",
   "execution_count": null,
   "metadata": {},
   "outputs": [],
   "source": []
  },
  {
   "cell_type": "code",
   "execution_count": null,
   "metadata": {},
   "outputs": [],
   "source": [
    "def remove_artifacts_and_create_epochs(eeglab):\n",
    "    \"\"\"\n",
    "    Description:\n",
    "        Handles the start to finish process of finding events, event_ids, \n",
    "        artifact removal, and creaing epoch object.\n",
    "    \n",
    "    Variables:\n",
    "        eeglab: mne.io.eeglab.eeglab.RawEEGLAB object\n",
    "    \n",
    "    Returns:\n",
    "        mne.epoch object\n",
    "    \"\"\"\n",
    "    events = filter_bad_trials(eeglab)\n",
    "    stim_code_events = events_with_stim_codes(events)\n",
    "    stim_code_event_ids = get_stim_code_event_ids(stim_code_events,new_stim_code_event_ids)\n",
    "    raw_ica = artifact_removal(eeglab= eeglab)\n",
    "    \n",
    "    return create_epochs(eeglab= raw_ica, events= stim_code_events, event_id= stim_code_event_ids)\n",
    "    "
   ]
  },
  {
   "cell_type": "code",
   "execution_count": null,
   "metadata": {},
   "outputs": [],
   "source": [
    "# eeglab_files = list_eeglab_files(path)\n",
    "# eeglab_files"
   ]
  },
  {
   "cell_type": "code",
   "execution_count": null,
   "metadata": {},
   "outputs": [],
   "source": [
    "# raw = mne.io.read_raw_eeglab(eeglab_files[3],preload = True)"
   ]
  },
  {
   "cell_type": "code",
   "execution_count": null,
   "metadata": {
    "scrolled": false
   },
   "outputs": [],
   "source": [
    "# epoch = remove_artifacts_and_create_epochs(eeglab=raw)"
   ]
  },
  {
   "cell_type": "code",
   "execution_count": null,
   "metadata": {},
   "outputs": [],
   "source": [
    "# np.unique(epoch.events[:,-1])"
   ]
  },
  {
   "cell_type": "code",
   "execution_count": null,
   "metadata": {},
   "outputs": [],
   "source": [
    "# 5565/9"
   ]
  },
  {
   "cell_type": "code",
   "execution_count": null,
   "metadata": {},
   "outputs": [],
   "source": [
    "event_id = {'trail_start':  31, \n",
    "            'left_button':  131, \n",
    "            'right_button': 132,\n",
    "            'congruent':    133,\n",
    "            'incongruent':  134,\n",
    "            'correct':      129,\n",
    "            'incorrect':    130,\n",
    "            # targets\n",
    "            't_baby' :        135,\n",
    "            't_bell':         136,\n",
    "            't_bird':         137,\n",
    "            't_burp':         138,\n",
    "            't_dog':          139,\n",
    "            't_drum':         140,\n",
    "            't_knock':        141,\n",
    "            't_laugh':        142,\n",
    "            't_phone':        143,\n",
    "            't_train':        144,\n",
    "            't_water':        145,\n",
    "            #flankers\n",
    "            'f_baby' :        155,\n",
    "            'f_bell':         156,\n",
    "            'f_bird':         157,\n",
    "            'f_burp':         158,\n",
    "            'f_dog':          159,\n",
    "            'f_drum':         160,\n",
    "            'f_knock':        161,\n",
    "            'f_laugh':        162,\n",
    "            'f_phone':        163,\n",
    "            'f_train':        164,\n",
    "            'f_water':        165,\n",
    "}\n",
    "# event codes 1 - 24 represent flanker and target stim codes. They are NOT explicity defined in dissertation.\n",
    "for i in range(1,13):\n",
    "    event_id[\"flanker_stim_{0}\".format(i)] = i\n",
    "    \n",
    "for j in range(13, 25):\n",
    "    event_id[\"target_stim_{0}\".format(j)] = j"
   ]
  },
  {
   "cell_type": "code",
   "execution_count": null,
   "metadata": {},
   "outputs": [],
   "source": [
    "# get_stim_code_event_ids(new_events, new_stim_code_event_ids)"
   ]
  },
  {
   "cell_type": "code",
   "execution_count": null,
   "metadata": {},
   "outputs": [],
   "source": [
    "# list(new_stim_code_event_ids.keys())"
   ]
  },
  {
   "cell_type": "code",
   "execution_count": null,
   "metadata": {},
   "outputs": [],
   "source": [
    "# new_stim_code_event_ids.values()"
   ]
  },
  {
   "cell_type": "code",
   "execution_count": null,
   "metadata": {},
   "outputs": [],
   "source": [
    "# new_events = events_with_stim_codes(filtered_events)\n",
    "# np.unique(new_events[:,-1])"
   ]
  },
  {
   "cell_type": "code",
   "execution_count": null,
   "metadata": {},
   "outputs": [],
   "source": [
    "# for set_file in eeglab_files[0]:\n",
    "#     try:\n",
    "#         start = time.time()\n",
    "#         raw = mne.io.read_raw_eeglab(set_file, preload=True)\n",
    "#         raw.notch_filter(np.arange(60,241,60), filter_length='auto', phase = 'zero')\n",
    "#         raw.filter(5,100, fir_design='firwin')\n",
    "#         raw.resample(256, n_jobs=10)\n",
    "#         ica = ICA(n_components=None, max_iter = 1000, random_state = 42)\n",
    "#         ica.fit(raw,picks = None, decim=3, reject=dict(mag=4e-12, grad=4000e-13))\n",
    "#         ica.detect_artifacts(raw,start_find=None, stop_find=None, ecg_ch=None, \n",
    "#                      ecg_score_func='pearsonr', skew_criterion=None, \n",
    "#                      kurt_criterion=None, var_criterion=None,add_nodes=None)\n",
    "#         raw_ica = ica.apply(raw)\n",
    "\n",
    "#         m_event = mne.find_events(raw_ica, min_duration=1/raw.info['sfreq'], shortest_event= 1, initial_event=True)\n",
    "#         epoch = mne.Epochs(raw, events=m_event, event_id = event_id, preload = True)\n",
    "# #         epoch.save(set_file.split('\\\\')[-1].split('.')[0] + \"_epo.fif\", verbose = True)\n",
    "#         end = time.time()\n",
    "#         print(\"SUCESSFULLY LOADED time elapsed: {0}\", (end - start))\n",
    "#     except :\n",
    "#         print(\"***Error converting file: {0}***\".format(set_file))\n",
    "        "
   ]
  },
  {
   "cell_type": "code",
   "execution_count": null,
   "metadata": {},
   "outputs": [],
   "source": [
    "# start = time.time()\n",
    "# # raw = mne.io.read_raw_eeglab(, preload=True)\n",
    "# raw.notch_filter(np.arange(60,241,60), filter_length='auto', phase = 'zero')\n",
    "# raw.filter(5,100, fir_design='firwin')\n",
    "# raw.resample(256, n_jobs=10)\n",
    "# ica = ICA(n_components=None, max_iter = 1000, random_state = 42)\n",
    "# ica.fit(raw,picks = None, decim=3, reject=dict(mag=4e-12, grad=4000e-13))\n",
    "# ica.detect_artifacts(raw,start_find=None, stop_find=None, ecg_ch=None, \n",
    "#              ecg_score_func='pearsonr', skew_criterion=None, \n",
    "#              kurt_criterion=None, var_criterion=None,add_nodes=None)\n",
    "# raw_ica = ica.apply(raw)\n",
    "\n",
    "# # m_event = mne.find_events(raw_ica, min_duration=1/raw.info['sfreq'], shortest_event= 0.5, initial_event=True)\n",
    "# epoch = mne.Epochs(raw, events=new_events, event_id =new_stim_code_event_ids , preload = True, tmin=0, tmax=1,)\n",
    "# end = time.time()\n",
    "# print(\"time elapsed: {0}\", (end - start))"
   ]
  },
  {
   "cell_type": "markdown",
   "metadata": {},
   "source": [
    "## check if saving and loading epoch file works."
   ]
  },
  {
   "cell_type": "code",
   "execution_count": null,
   "metadata": {},
   "outputs": [],
   "source": [
    "# os.chdir(epoch_destination)"
   ]
  },
  {
   "cell_type": "code",
   "execution_count": null,
   "metadata": {},
   "outputs": [],
   "source": [
    "\n",
    "# epoch.save('20131216_1310_epo.fif',verbose = True)"
   ]
  },
  {
   "cell_type": "code",
   "execution_count": null,
   "metadata": {},
   "outputs": [],
   "source": [
    "# epoch_files = os.listdir(epoch_destination)"
   ]
  },
  {
   "cell_type": "code",
   "execution_count": null,
   "metadata": {},
   "outputs": [],
   "source": [
    "# epoch_file = epoch_files[0]\n",
    "# epoch_ = mne.read_epochs(epoch_file,preload=True)"
   ]
  },
  {
   "cell_type": "code",
   "execution_count": null,
   "metadata": {},
   "outputs": [],
   "source": [
    "# epoch_.plot(title=\"epochs\");"
   ]
  },
  {
   "cell_type": "code",
   "execution_count": null,
   "metadata": {},
   "outputs": [],
   "source": [
    "# for set_file in eeglab_files:\n",
    "#     print(set_file.split('\\\\')[-1].split('.')[0] + \"_epo.fif\")"
   ]
  },
  {
   "cell_type": "code",
   "execution_count": null,
   "metadata": {},
   "outputs": [],
   "source": [
    "# # start = time.time()\n",
    "# raw = mne.io.read_raw_eeglab(eeglab_files[1], preload=True)\n",
    "# raw.notch_filter(np.arange(60,241,60), filter_length='auto', phase = 'zero')\n",
    "# raw.filter(5,100, fir_design='firwin')\n",
    "# raw.resample(256, n_jobs=10)\n",
    "# ica = ICA(n_components=None, max_iter = 1000, random_state = 42)\n",
    "# ica.fit(raw,picks = None, decim=3, reject=dict(mag=4e-12, grad=4000e-13))\n",
    "# ica.detect_artifacts(raw,start_find=None, stop_find=None, ecg_ch=None, \n",
    "#              ecg_score_func='pearsonr', skew_criterion=None, \n",
    "#              kurt_criterion=None, var_criterion=None,add_nodes=None)\n",
    "# raw_ica = ica.apply(raw)\n",
    "\n",
    "# m_event = mne.find_events(raw_ica, min_duration=1/raw.info['sfreq'], shortest_event= 1.5, initial_event=True)\n",
    "# epoch = mne.Epochs(raw, events=m_event, event_id = event_id, preload = True)"
   ]
  },
  {
   "cell_type": "markdown",
   "metadata": {},
   "source": [
    "## Convert Raw EEGLAB Data"
   ]
  },
  {
   "cell_type": "code",
   "execution_count": null,
   "metadata": {},
   "outputs": [],
   "source": [
    "# #get eeglab data\n",
    "# path = 'C:\\\\Users\\Emmanuil\\Desktop\\School\\Fall 2018\\Senior Project\\EEGLAB'\n",
    "# eeglab_files = list_eeglab_files(path)"
   ]
  },
  {
   "cell_type": "code",
   "execution_count": null,
   "metadata": {},
   "outputs": [],
   "source": [
    "# # save new epoch files in the directory specified below. \n",
    "# os.chdir('D:\\stim_code_epochs')\n",
    "# for file in eeglab_files:\n",
    "#     try:\n",
    "#         raw = mne.io.read_raw_eeglab(file, preload = True)\n",
    "#         epoch = remove_artifacts_and_create_epochs(raw)\n",
    "#         epoch.save(file.split('\\\\')[-1].split('.')[0] + \"_epo.fif\", verbose = True)\n",
    "#     except:\n",
    "#         print(\"Could not convert {0}\".format(file))"
   ]
  },
  {
   "cell_type": "code",
   "execution_count": null,
   "metadata": {},
   "outputs": [],
   "source": []
  }
 ],
 "metadata": {
  "kernelspec": {
   "display_name": "Python 3",
   "language": "python",
   "name": "python3"
  },
  "language_info": {
   "codemirror_mode": {
    "name": "ipython",
    "version": 3
   },
   "file_extension": ".py",
   "mimetype": "text/x-python",
   "name": "python",
   "nbconvert_exporter": "python",
   "pygments_lexer": "ipython3",
   "version": "3.6.7"
  }
 },
 "nbformat": 4,
 "nbformat_minor": 2
}
