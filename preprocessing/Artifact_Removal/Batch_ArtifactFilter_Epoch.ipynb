{
 "cells": [
  {
   "cell_type": "code",
   "execution_count": null,
   "metadata": {},
   "outputs": [],
   "source": [
    "%run preprocecssing_helpers.ipynb\n",
    "import os\n",
    "import time\n",
    "import mne\n",
    "from mne.preprocessing import ICA\n",
    "import numpy\n",
    "import matplotlib.pyplot as plt\n",
    "%matplotlib inline\n",
    "import matplotlib\n",
    "matplotlib.rcParams['figure.figsize'] = (20.0, 15.0)\n",
    "matplotlib.rcParams.update({'font.size': 15})"
   ]
  },
  {
   "cell_type": "code",
   "execution_count": null,
   "metadata": {},
   "outputs": [],
   "source": [
    "path = 'F:\\StroopEEG'\n",
    "eeglab_files = os.listdir(path)\n",
    "eeglab_dict = search_folders(path, eeglab_files)\n",
    "eeglab_files = paths_of_eeglab_files(path, eeglab_dict)\n",
    "eeglab_files"
   ]
  },
  {
   "cell_type": "code",
   "execution_count": null,
   "metadata": {},
   "outputs": [],
   "source": [
    "event_id = {'trail_start':  31, \n",
    "            'left_button':  131, \n",
    "            'right_button': 132,\n",
    "            'congruent':    133,\n",
    "            'incongruent':  134,\n",
    "            'correct':      129,\n",
    "            'incorrect':    130,\n",
    "            # targets\n",
    "            't_baby' :        135,\n",
    "            't_bell':         136,\n",
    "            't_bird':         137,\n",
    "            't_burp':         138,\n",
    "            't_dog':          139,\n",
    "            't_drum':         140,\n",
    "            't_knock':        141,\n",
    "            't_laugh':        142,\n",
    "            't_phone':        143,\n",
    "            't_train':        144,\n",
    "            't_water':        145,\n",
    "            #flankers\n",
    "            'f_baby' :        155,\n",
    "            'f_bell':         156,\n",
    "            'f_bird':         157,\n",
    "            'f_burp':         158,\n",
    "            'f_dog':          159,\n",
    "            'f_drum':         160,\n",
    "            'f_knock':        161,\n",
    "            'f_laugh':        162,\n",
    "            'f_phone':        163,\n",
    "            'f_train':        164,\n",
    "            'f_water':        165,\n",
    "}\n",
    "# event codes 1 - 24 represent flanker and target stim codes. They are NOT explicity defined in dissertation.\n",
    "for i in range(1,13):\n",
    "    event_id[\"flanker_stim_{0}\".format(i)] = i\n",
    "    \n",
    "for j in range(13, 25):\n",
    "    event_id[\"target_stim_{0}\".format(j)] = j"
   ]
  },
  {
   "cell_type": "code",
   "execution_count": null,
   "metadata": {},
   "outputs": [],
   "source": [
    "epoch_destination = 'D:\\EpochedEEG'"
   ]
  },
  {
   "cell_type": "code",
   "execution_count": null,
   "metadata": {},
   "outputs": [],
   "source": [
    "for set_file in eeglab_files[1:2]:\n",
    "    try:\n",
    "        start = time.time()\n",
    "        raw = mne.io.read_raw_eeglab(set_file, preload=True)\n",
    "        raw.notch_filter(np.arange(60,241,60), filter_length='auto', phase = 'zero')\n",
    "        raw.filter(5,100, fir_design='firwin')\n",
    "        raw.resample(256, n_jobs=10)\n",
    "        ica = ICA(n_components=None, max_iter = 1000, random_state = 42)\n",
    "        ica.fit(raw,picks = None, decim=3, reject=dict(mag=4e-12, grad=4000e-13))\n",
    "        ica.detect_artifacts(raw,start_find=None, stop_find=None, ecg_ch=None, \n",
    "                     ecg_score_func='pearsonr', skew_criterion=None, \n",
    "                     kurt_criterion=None, var_criterion=None,add_nodes=None)\n",
    "        raw_ica = ica.apply(raw)\n",
    "\n",
    "        m_event = mne.find_events(raw_ica, min_duration=1/raw.info['sfreq'], shortest_event= 0.5, initial_event=True)\n",
    "        epoch = mne.Epochs(raw, events=m_event, event_id = event_id, preload = True)\n",
    "        end = time.time()\n",
    "        print(\"time elapsed: {0}\", (end - start))\n",
    "    except :\n",
    "        print(\"***Error converting file: {0} \\n {1}***\".format(set_file, e))\n",
    "        "
   ]
  },
  {
   "cell_type": "code",
   "execution_count": null,
   "metadata": {},
   "outputs": [],
   "source": [
    "start = time.time()\n",
    "raw = mne.io.read_raw_eeglab(set_file, preload=True)\n",
    "raw.notch_filter(np.arange(60,241,60), filter_length='auto', phase = 'zero')\n",
    "raw.filter(5,100, fir_design='firwin')\n",
    "raw.resample(256, n_jobs=10)\n",
    "ica = ICA(n_components=None, max_iter = 1000, random_state = 42)\n",
    "ica.fit(raw,picks = None, decim=3, reject=dict(mag=4e-12, grad=4000e-13))\n",
    "ica.detect_artifacts(raw,start_find=None, stop_find=None, ecg_ch=None, \n",
    "             ecg_score_func='pearsonr', skew_criterion=None, \n",
    "             kurt_criterion=None, var_criterion=None,add_nodes=None)\n",
    "raw_ica = ica.apply(raw)\n",
    "\n",
    "m_event = mne.find_events(raw_ica, min_duration=1/raw.info['sfreq'], shortest_event= 0.5, initial_event=True)\n",
    "epoch = mne.Epochs(raw, events=m_event, event_id = event_id, preload = True)\n",
    "end = time.time()\n",
    "print(\"time elapsed: {0}\", (end - start))"
   ]
  },
  {
   "cell_type": "markdown",
   "metadata": {},
   "source": [
    "## check if saving and loading epoch file works."
   ]
  },
  {
   "cell_type": "code",
   "execution_count": null,
   "metadata": {},
   "outputs": [],
   "source": [
    "os.chdir(epoch_destination)"
   ]
  },
  {
   "cell_type": "code",
   "execution_count": null,
   "metadata": {},
   "outputs": [],
   "source": [
    "\n",
    "epoch.save('20131216_1310_epo.fif',verbose = True)"
   ]
  },
  {
   "cell_type": "code",
   "execution_count": null,
   "metadata": {},
   "outputs": [],
   "source": [
    "epoch_files = os.listdir(epoch_destination)"
   ]
  },
  {
   "cell_type": "code",
   "execution_count": null,
   "metadata": {},
   "outputs": [],
   "source": [
    "epoch_file = epoch_files[0]\n",
    "epoch_ = mne.read_epochs(epoch_file,preload=True)"
   ]
  },
  {
   "cell_type": "code",
   "execution_count": null,
   "metadata": {},
   "outputs": [],
   "source": [
    "epoch_.plot(title=\"epochs\");"
   ]
  },
  {
   "cell_type": "code",
   "execution_count": null,
   "metadata": {},
   "outputs": [],
   "source": []
  }
 ],
 "metadata": {
  "kernelspec": {
   "display_name": "Python 3",
   "language": "python",
   "name": "python3"
  },
  "language_info": {
   "codemirror_mode": {
    "name": "ipython",
    "version": 3
   },
   "file_extension": ".py",
   "mimetype": "text/x-python",
   "name": "python",
   "nbconvert_exporter": "python",
   "pygments_lexer": "ipython3",
   "version": "3.6.6"
  }
 },
 "nbformat": 4,
 "nbformat_minor": 2
}
