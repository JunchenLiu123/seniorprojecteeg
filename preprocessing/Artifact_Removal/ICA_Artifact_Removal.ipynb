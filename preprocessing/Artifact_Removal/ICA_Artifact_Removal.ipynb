{
 "cells": [
  {
   "cell_type": "code",
   "execution_count": 43,
   "metadata": {},
   "outputs": [],
   "source": [
    "%run preprocecssing_helpers.ipynb\n",
    "import os\n",
    "\n",
    "import mne\n",
    "from mne.preprocessing import ICA\n",
    "import numpy\n",
    "import matplotlib.pyplot as plt\n",
    "# %matplotlib inline\n"
   ]
  },
  {
   "cell_type": "code",
   "execution_count": 44,
   "metadata": {},
   "outputs": [],
   "source": [
    "path = 'E:\\StroopEEG'\n",
    "eeglab_files = os.listdir(path)"
   ]
  },
  {
   "cell_type": "code",
   "execution_count": 45,
   "metadata": {},
   "outputs": [
    {
     "data": {
      "text/plain": [
       "['E:\\\\StroopEEG\\\\SA20131216\\\\20131216_1310.set',\n",
       " 'E:\\\\StroopEEG\\\\SA20131216\\\\20131216_1441.set',\n",
       " 'E:\\\\StroopEEG\\\\SA20140304\\\\20140304_1418.set',\n",
       " 'E:\\\\StroopEEG\\\\SA20140304\\\\20140304_1614.set',\n",
       " 'E:\\\\StroopEEG\\\\SA20140306\\\\20140306_1133.set',\n",
       " 'E:\\\\StroopEEG\\\\SA20140306\\\\20140306_1338.set',\n",
       " 'E:\\\\StroopEEG\\\\SA20140313\\\\20140313_1439.set',\n",
       " 'E:\\\\StroopEEG\\\\SA20140313\\\\20140313_1630.set',\n",
       " 'E:\\\\StroopEEG\\\\SA20140314\\\\20140314_1424.set',\n",
       " 'E:\\\\StroopEEG\\\\SA20140314\\\\20140314_1553.set',\n",
       " 'E:\\\\StroopEEG\\\\SA20140318\\\\20140318_1043.set',\n",
       " 'E:\\\\StroopEEG\\\\SA20140318\\\\20140318_1211.set',\n",
       " 'E:\\\\StroopEEG\\\\SA20140319\\\\20140319_1043.set',\n",
       " 'E:\\\\StroopEEG\\\\SA20140319\\\\20140319_1342.set',\n",
       " 'E:\\\\StroopEEG\\\\SA20140320A\\\\20140320_1040.set',\n",
       " 'E:\\\\StroopEEG\\\\SA20140320A\\\\20140320_1156.set',\n",
       " 'E:\\\\StroopEEG\\\\SA20140320B\\\\20140320_1421.set',\n",
       " 'E:\\\\StroopEEG\\\\SA20140320B\\\\20140320_1543.set',\n",
       " 'E:\\\\StroopEEG\\\\SA20140324\\\\20140324_1441.set',\n",
       " 'E:\\\\StroopEEG\\\\SA20140324\\\\20140324_1553.set',\n",
       " 'E:\\\\StroopEEG\\\\SA20140325\\\\20140325_1007.set',\n",
       " 'E:\\\\StroopEEG\\\\SA20140325\\\\20140325_1144.set',\n",
       " 'E:\\\\StroopEEG\\\\SA20140327\\\\20140327_1022.set',\n",
       " 'E:\\\\StroopEEG\\\\SA20140327\\\\20140327_1241.set',\n",
       " 'E:\\\\StroopEEG\\\\SA20140331\\\\20140331_1753.set']"
      ]
     },
     "execution_count": 45,
     "metadata": {},
     "output_type": "execute_result"
    }
   ],
   "source": [
    "eeglab_dict = search_folders(path, eeglab_files)\n",
    "eeglab_files = paths_of_eeglab_files(path, eeglab_dict)\n",
    "eeglab_files"
   ]
  },
  {
   "cell_type": "code",
   "execution_count": 46,
   "metadata": {},
   "outputs": [
    {
     "data": {
      "text/plain": [
       "'E:\\\\StroopEEG\\\\SA20131216\\\\20131216_1310.set'"
      ]
     },
     "execution_count": 46,
     "metadata": {},
     "output_type": "execute_result"
    }
   ],
   "source": [
    "eeglab_files[0]"
   ]
  },
  {
   "cell_type": "code",
   "execution_count": 47,
   "metadata": {},
   "outputs": [
    {
     "name": "stdout",
     "output_type": "stream",
     "text": [
      "Reading E:\\StroopEEG\\SA20131216\\20131216_1441.fdt\n",
      "Reading 0 ... 1406417  =      0.000 ...  2746.908 secs...\n"
     ]
    }
   ],
   "source": [
    "# read file\n",
    "raw = mne.io.read_raw_eeglab(eeglab_files[1], preload=True)"
   ]
  },
  {
   "cell_type": "code",
   "execution_count": null,
   "metadata": {},
   "outputs": [],
   "source": [
    "raw.plot(duration)\n",
    "\n"
   ]
  },
  {
   "cell_type": "code",
   "execution_count": null,
   "metadata": {},
   "outputs": [],
   "source": []
  },
  {
   "cell_type": "code",
   "execution_count": 48,
   "metadata": {},
   "outputs": [
    {
     "name": "stdout",
     "output_type": "stream",
     "text": [
      "Setting up high-pass filter at 1 Hz\n",
      "l_trans_bandwidth chosen to be 1.0 Hz\n",
      "Filter length of 1691 samples (3.303 sec) selected\n"
     ]
    },
    {
     "name": "stderr",
     "output_type": "stream",
     "text": [
      "[Parallel(n_jobs=10)]: Using backend LokyBackend with 10 concurrent workers.\n",
      "[Parallel(n_jobs=10)]: Done  52 tasks      | elapsed:   10.7s\n",
      "[Parallel(n_jobs=10)]: Done 128 out of 128 | elapsed:   25.9s finished\n"
     ]
    }
   ],
   "source": [
    "# clean data\n",
    "raw.filter(1, None, n_jobs= 10, fir_design= 'firwin')\n",
    "picks_eeg = mne.pick_types(raw.info, eeg = True, meg = False, eog = False, exclude= 'bads')\n",
    "method = 'fastica'\n",
    "n_components= 25\n",
    "decim = 3\n",
    "random_state = 23"
   ]
  },
  {
   "cell_type": "code",
   "execution_count": 49,
   "metadata": {},
   "outputs": [
    {
     "name": "stdout",
     "output_type": "stream",
     "text": [
      "<ICA  |  no decomposition, fit (fastica):  samples, no dimension reduction>\n"
     ]
    }
   ],
   "source": [
    "ica = ICA(n_components= n_components, method = method, random_state= random_state)\n",
    "print(ica)"
   ]
  },
  {
   "cell_type": "code",
   "execution_count": 50,
   "metadata": {},
   "outputs": [
    {
     "name": "stdout",
     "output_type": "stream",
     "text": [
      "Fitting ICA to data using 128 channels (please be patient, this may take a while)\n",
      "Inferring max_pca_components from picks\n",
      "Selection by number: 25 components\n",
      "Fitting ICA took 98.3s.\n"
     ]
    },
    {
     "data": {
      "text/plain": [
       "<ICA  |  raw data decomposition, fit (fastica): 468540 samples, 25 components, channels used: \"eeg\">"
      ]
     },
     "execution_count": 50,
     "metadata": {},
     "output_type": "execute_result"
    }
   ],
   "source": [
    "reject = dict(mag = 5e-12, grad = 4000e-13)\n",
    "ica.fit(raw, decim = decim, reject = reject)"
   ]
  },
  {
   "cell_type": "code",
   "execution_count": 51,
   "metadata": {},
   "outputs": [
    {
     "name": "stdout",
     "output_type": "stream",
     "text": [
      "    Searching for artifacts...\n",
      "    found 1 artifact by skewness\n",
      "    found 1 artifact by kurtosis\n",
      "    found 1 artifact by variance\n",
      "Artifact indices found:\n",
      "    11, 11, 11\n",
      "    Removing duplicate indices...\n",
      "Ready.\n"
     ]
    },
    {
     "data": {
      "text/plain": [
       "<ICA  |  raw data decomposition, fit (fastica): 468540 samples, 25 components, channels used: \"eeg\", 1 sources marked for exclusion>"
      ]
     },
     "execution_count": 51,
     "metadata": {},
     "output_type": "execute_result"
    }
   ],
   "source": [
    "ica.detect_artifacts(raw) # can you spot some potential bad guys?"
   ]
  },
  {
   "cell_type": "code",
   "execution_count": 18,
   "metadata": {},
   "outputs": [
    {
     "name": "stdout",
     "output_type": "stream",
     "text": [
      "No EOG channels found\n",
      "Trying with EEG 061 and EEG 062\n"
     ]
    }
   ],
   "source": [
    "try: \n",
    "    a,b = ica.find_bads_eog(raw)\n",
    "    ica.exclude += a\n",
    "except:\n",
    "    pass"
   ]
  },
  {
   "cell_type": "markdown",
   "metadata": {},
   "source": [
    "* Can't plot results due to type mismatching and missing electrode locations."
   ]
  },
  {
   "cell_type": "code",
   "execution_count": 55,
   "metadata": {},
   "outputs": [
    {
     "data": {
      "text/plain": [
       "<bound method score_sources of <ICA  |  raw data decomposition, fit (fastica): 468540 samples, 25 components, channels used: \"eeg\", 1 sources marked for exclusion>>"
      ]
     },
     "execution_count": 55,
     "metadata": {},
     "output_type": "execute_result"
    }
   ],
   "source": [
    "ica.score_sources"
   ]
  },
  {
   "cell_type": "code",
   "execution_count": 25,
   "metadata": {},
   "outputs": [
    {
     "name": "stdout",
     "output_type": "stream",
     "text": [
      "Applying average reference.\n",
      "Applying a custom EEG reference.\n"
     ]
    }
   ],
   "source": [
    "raw_avg = mne.set_eeg_reference(raw, 'average', projection= False)"
   ]
  },
  {
   "cell_type": "code",
   "execution_count": null,
   "metadata": {},
   "outputs": [],
   "source": []
  },
  {
   "cell_type": "code",
   "execution_count": null,
   "metadata": {},
   "outputs": [],
   "source": []
  }
 ],
 "metadata": {
  "kernelspec": {
   "display_name": "Python 3",
   "language": "python",
   "name": "python3"
  },
  "language_info": {
   "codemirror_mode": {
    "name": "ipython",
    "version": 3
   },
   "file_extension": ".py",
   "mimetype": "text/x-python",
   "name": "python",
   "nbconvert_exporter": "python",
   "pygments_lexer": "ipython3",
   "version": "3.6.6"
  }
 },
 "nbformat": 4,
 "nbformat_minor": 2
}
