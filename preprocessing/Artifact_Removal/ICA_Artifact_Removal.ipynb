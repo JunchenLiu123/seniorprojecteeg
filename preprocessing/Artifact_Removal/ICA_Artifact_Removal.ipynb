{
 "cells": [
  {
   "cell_type": "code",
   "execution_count": null,
   "metadata": {},
   "outputs": [],
   "source": [
    "%run preprocecssing_helpers.ipynb\n",
    "import os\n",
    "\n",
    "import mne\n",
    "from mne.preprocessing import ICA\n",
    "import numpy\n",
    "import matplotlib.pyplot as plt\n",
    "%matplotlib inline\n",
    "import matplotlib\n",
    "matplotlib.rcParams['figure.figsize'] = (20.0, 15.0)\n",
    "matplotlib.rcParams.update({'font.size': 15})"
   ]
  },
  {
   "cell_type": "code",
   "execution_count": null,
   "metadata": {},
   "outputs": [],
   "source": [
    "path = 'F:\\StroopEEG'\n",
    "eeglab_files = os.listdir(path)"
   ]
  },
  {
   "cell_type": "code",
   "execution_count": null,
   "metadata": {},
   "outputs": [],
   "source": [
    "eeglab_dict = search_folders(path, eeglab_files)\n",
    "eeglab_files = paths_of_eeglab_files(path, eeglab_dict)\n",
    "eeglab_files"
   ]
  },
  {
   "cell_type": "code",
   "execution_count": null,
   "metadata": {},
   "outputs": [],
   "source": [
    "eeglab_files[0]"
   ]
  },
  {
   "cell_type": "code",
   "execution_count": null,
   "metadata": {},
   "outputs": [],
   "source": [
    "# read file\n",
    "raw = mne.io.read_raw_eeglab(eeglab_files[1], preload=True)"
   ]
  },
  {
   "cell_type": "code",
   "execution_count": null,
   "metadata": {},
   "outputs": [],
   "source": [
    "picks = mne.pick_types(raw.info, meg = False, eeg= True, eog= False, stim = False)\n"
   ]
  },
  {
   "cell_type": "code",
   "execution_count": null,
   "metadata": {},
   "outputs": [],
   "source": [
    "raw.plot();"
   ]
  },
  {
   "cell_type": "code",
   "execution_count": null,
   "metadata": {},
   "outputs": [],
   "source": [
    "raw.notch_filter(np.arange(60,241,60), filter_length='auto', phase = 'zero')\n",
    "raw.filter(5,100, fir_design='firwin')"
   ]
  },
  {
   "cell_type": "code",
   "execution_count": null,
   "metadata": {},
   "outputs": [],
   "source": [
    "ica = ICA(n_components=None, max_iter = 1000, random_state = 42)"
   ]
  },
  {
   "cell_type": "code",
   "execution_count": null,
   "metadata": {},
   "outputs": [],
   "source": [
    "ica.fit(raw,picks = None, decim=3, reject=dict(mag=4e-12, grad=4000e-13))"
   ]
  },
  {
   "cell_type": "code",
   "execution_count": null,
   "metadata": {},
   "outputs": [],
   "source": [
    "ica.detect_artifacts(raw,start_find=None, stop_find=None, ecg_ch=None, \n",
    "                     ecg_score_func='pearsonr', skew_criterion=None, \n",
    "                     kurt_criterion=None, var_criterion=None,add_nodes=None)"
   ]
  },
  {
   "cell_type": "code",
   "execution_count": null,
   "metadata": {},
   "outputs": [],
   "source": [
    "ica.plot_sources(raw);"
   ]
  },
  {
   "cell_type": "code",
   "execution_count": null,
   "metadata": {
    "scrolled": true
   },
   "outputs": [],
   "source": [
    "ica.plot_overlay(raw, start = 0, stop = 100);"
   ]
  },
  {
   "cell_type": "code",
   "execution_count": null,
   "metadata": {},
   "outputs": [],
   "source": [
    "raw_ica = ica.apply(raw)"
   ]
  },
  {
   "cell_type": "code",
   "execution_count": null,
   "metadata": {},
   "outputs": [],
   "source": [
    "raw_ica.plot(duration=20,  n_channels=128);"
   ]
  },
  {
   "cell_type": "code",
   "execution_count": null,
   "metadata": {},
   "outputs": [],
   "source": [
    "m_event = mne.find_events(raw_ica, min_duration=1/raw.info['sfreq'], shortest_event= 0.5, initial_event=True)"
   ]
  },
  {
   "cell_type": "code",
   "execution_count": null,
   "metadata": {},
   "outputs": [],
   "source": [
    "raw.add_events = m_event"
   ]
  },
  {
   "cell_type": "code",
   "execution_count": null,
   "metadata": {},
   "outputs": [],
   "source": [
    "# event_id : this dictionary is created from information from Dave's dissertation page 27\n",
    "concepts={1:'BABY',2:'BELL',3:'BIRD',4:'BURP',5:'DOG',6:'DRUM',\n",
    "              7:'KNOCK',8:'LAUGH',9:'PHONE',10:'TRAIN',11:'WATER'}\n",
    "\n",
    "event_id = {'trail_start':  31, \n",
    "            'left_button':  131, \n",
    "            'right_button': 132,\n",
    "            'congruent':    133,\n",
    "            'incongruent':  134,\n",
    "            'correct':      129,\n",
    "            'incorrect':    130,\n",
    "            # targets\n",
    "            't_baby' :        135,\n",
    "            't_bell':         136,\n",
    "            't_bird':         137,\n",
    "            't_burp':         138,\n",
    "            't_dog':          139,\n",
    "            't_drum':         140,\n",
    "            't_knock':        141,\n",
    "            't_laugh':        142,\n",
    "            't_phone':        143,\n",
    "            't_train':        144,\n",
    "            't_water':        145,\n",
    "            #flankers\n",
    "            'f_baby' :        155,\n",
    "            'f_bell':         156,\n",
    "            'f_bird':         157,\n",
    "            'f_burp':         158,\n",
    "            'f_dog':          159,\n",
    "            'f_drum':         160,\n",
    "            'f_knock':        161,\n",
    "            'f_laugh':        162,\n",
    "            'f_phone':        163,\n",
    "            'f_train':        164,\n",
    "            'f_water':        165,\n",
    "}\n",
    "# event codes 1 - 24 represent flanker and target stim codes. They are NOT explicity defined in dissertation.\n",
    "for i in range(1,13):\n",
    "    event_id[\"flanker_stim_{0}\".format(i)] = i\n",
    "    \n",
    "for j in range(13, 25):\n",
    "    event_id[\"target_stim_{0}\".format(j)] = j"
   ]
  },
  {
   "cell_type": "code",
   "execution_count": null,
   "metadata": {},
   "outputs": [],
   "source": [
    "epoch = mne.Epochs(raw, events=m_event, event_id = event_id, preload = True, )"
   ]
  },
  {
   "cell_type": "code",
   "execution_count": null,
   "metadata": {},
   "outputs": [],
   "source": [
    "epoch.resample(256);"
   ]
  },
  {
   "cell_type": "code",
   "execution_count": null,
   "metadata": {},
   "outputs": [],
   "source": [
    "epoch.plot(n_channels=20, n_epochs=20, title=\"epochs\")"
   ]
  }
 ],
 "metadata": {
  "kernelspec": {
   "display_name": "Python 3",
   "language": "python",
   "name": "python3"
  },
  "language_info": {
   "codemirror_mode": {
    "name": "ipython",
    "version": 3
   },
   "file_extension": ".py",
   "mimetype": "text/x-python",
   "name": "python",
   "nbconvert_exporter": "python",
   "pygments_lexer": "ipython3",
   "version": "3.6.7"
  }
 },
 "nbformat": 4,
 "nbformat_minor": 2
}
