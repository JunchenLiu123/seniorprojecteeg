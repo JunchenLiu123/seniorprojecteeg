{
 "cells": [
  {
   "cell_type": "code",
   "execution_count": null,
   "metadata": {},
   "outputs": [],
   "source": [
    "import mne\n",
    "import os\n",
    "# os.chdir('C:\\\\Users\\\\Esimk_000\\\\Desktop\\\\School\\\\Spring 2018\\\\Cs59866\\\\EEG Project\\\\seniorprojecteeg-master-fork\\\\preprocessing\\\\Artifact_Removal')\n",
    "%run preprocecssing_helpers.ipynb\n",
    "%run Batch_ArtifactFilter_Epoch.ipynb\n",
    "%run ../StimCodes.ipynb\n",
    "\n",
    "import time\n",
    "import mne\n",
    "from mne.preprocessing import ICA\n",
    "import numpy\n",
    "import matplotlib.pyplot as plt\n",
    "%matplotlib inline\n",
    "import matplotlib\n",
    "matplotlib.rcParams['figure.figsize'] = (20.0, 15.0)\n",
    "matplotlib.rcParams.update({'font.size': 15})"
   ]
  },
  {
   "cell_type": "code",
   "execution_count": null,
   "metadata": {},
   "outputs": [],
   "source": [
    "# path = 'D:/EEGLAB/'\n",
    "# eeglab_files = list_eeglab_files(path)\n",
    "\n",
    "# path = '/sharedData3/proj_mdg/scratch-eproj/NEW_EPOCH_DATA/'"
   ]
  },
  {
   "cell_type": "code",
   "execution_count": null,
   "metadata": {},
   "outputs": [],
   "source": [
    "# files = os.listdir(path)"
   ]
  },
  {
   "cell_type": "code",
   "execution_count": null,
   "metadata": {},
   "outputs": [],
   "source": [
    "# epoch_files = [x for x in files if '.fif' in x]"
   ]
  },
  {
   "cell_type": "code",
   "execution_count": null,
   "metadata": {},
   "outputs": [],
   "source": [
    "# epoch_files"
   ]
  },
  {
   "cell_type": "code",
   "execution_count": 15,
   "metadata": {},
   "outputs": [],
   "source": [
    "# epoch_file = os.path.join(path, epoch_files[10])"
   ]
  },
  {
   "cell_type": "code",
   "execution_count": null,
   "metadata": {},
   "outputs": [],
   "source": [
    "# epoch = mne.read_epochs(epoch_file, preload = True)"
   ]
  },
  {
   "cell_type": "code",
   "execution_count": null,
   "metadata": {},
   "outputs": [],
   "source": []
  },
  {
   "cell_type": "code",
   "execution_count": null,
   "metadata": {},
   "outputs": [],
   "source": [
    "# eeglab_files"
   ]
  },
  {
   "cell_type": "code",
   "execution_count": null,
   "metadata": {},
   "outputs": [],
   "source": [
    "# raw = mne.io.read_raw_eeglab(eeglab_files[4],preload = True)"
   ]
  },
  {
   "cell_type": "code",
   "execution_count": null,
   "metadata": {},
   "outputs": [],
   "source": [
    "# os.chdir(\"F:\\\\\")\n",
    "# epoch.save(eeglab_files[4].split('\\\\')[-1].split('.')[0] + \"_epo.fif\", verbose = True)"
   ]
  },
  {
   "cell_type": "code",
   "execution_count": null,
   "metadata": {},
   "outputs": [],
   "source": [
    "# events = find_events(raw)\n",
    "# eeglab_trials = get_trials(events)\n",
    "# eeglab_trials[1:3]"
   ]
  },
  {
   "cell_type": "code",
   "execution_count": null,
   "metadata": {},
   "outputs": [],
   "source": [
    "modality_lexicality_event_ids = {\n",
    "   \"AALL\" : 112,\n",
    "   \"AALN\" : 212,\n",
    "   \"AANL\" : 312,\n",
    "   \"AANN\" : 412,\n",
    "   \"AVLL\" : 512,\n",
    "   \"AVNN\" : 612,\n",
    "   \"VALL\" : 712,\n",
    "   \"VANN\" : 812,\n",
    "   \"VVLL\" : 912,\n",
    "   \"VVLN\" : 1012,\n",
    "   \"VVNL\" : 1112,\n",
    "   \"VVNN\" : 1212\n",
    "}"
   ]
  },
  {
   "cell_type": "code",
   "execution_count": null,
   "metadata": {},
   "outputs": [],
   "source": [
    "def get_epoch_trials(epoch_object):\n",
    "    #note: third stim-code has a value that is 1 more than the first.\n",
    "    events = epoch_object.events\n",
    "    found_first_stim_code = False\n",
    "    found_second_stim_code = False\n",
    "    found_third_stim_code = False\n",
    "    current_trial = []\n",
    "    trials = []\n",
    "    for event in events:\n",
    "        if not found_first_stim_code and not found_second_stim_code and not found_third_stim_code: #still searching for the end of trial\n",
    "            current_trial.append(event)\n",
    "            found_first_stim_code = True\n",
    "            first_stim_code = event\n",
    "        elif not found_second_stim_code and not found_third_stim_code:\n",
    "            current_trial.append(event)\n",
    "            found_second_stim_code = True\n",
    "        elif not found_third_stim_code and (event[-1] + 1) == first_stim_code[-1]: \n",
    "            current_trial.append(event)\n",
    "            found_third_stim_code = True\n",
    "            trials.append(current_trial)\n",
    "            current_trial = []\n",
    "            found_first_stim_code = False\n",
    "            found_second_stim_code = False\n",
    "            found_third_stim_code = False\n",
    "        elif not found_third_stim_code and (event[-1] + 1) != first_stim_code[-1]:\n",
    "            # there is no third event, trial is unfinished.\n",
    "            current_trial = []\n",
    "            current_trial.append(event)#assuming it's first stim-code...for now\n",
    "            found_first_stim_code = True\n",
    "    return trials"
   ]
  },
  {
   "cell_type": "code",
   "execution_count": null,
   "metadata": {},
   "outputs": [],
   "source": [
    "def get_stim_code_epoch_trials(epoch_object):\n",
    "    events = epoch_object.events\n",
    "    found_first_stim_code = False\n",
    "    found_second_stim_code = False\n",
    "    found_third_stim_code = False\n",
    "    current_trial = []\n",
    "    trials = []\n",
    "    \n",
    "    for i in range(len(events[:,-1])-2):\n",
    "        found_third_stim_code = False\n",
    "        while (not found_third_stim_code):\n",
    "            stim_code_1 = events[i]\n",
    "            stim_code_2 = events[i+1]\n",
    "            stim_code_3 = events[i+2]\n",
    "#             print(stim_code_1,stim_code_2,stim_code_3)\n",
    "            \n",
    "            if stim_code_1[-1] == stim_code_3[-1] + 1:\n",
    "                trials.append([stim_code_1,stim_code_2,stim_code_3])\n",
    "                found_third_stim_code = True\n",
    "            else:\n",
    "                \n",
    "                break;\n",
    "    return trials"
   ]
  },
  {
   "cell_type": "code",
   "execution_count": null,
   "metadata": {},
   "outputs": [],
   "source": [
    "def stim_code_combination_from_trial(stim_code_tuple, stim_combinations):\n",
    "    \"\"\"\n",
    "    Description:\n",
    "        returns the correct stim-code combination event id \n",
    "        example - a trial has events (20, 15, 19), this method will match those values to a \n",
    "        stim combination that is defined in the dictionary stim_combinations\n",
    "    \"\"\"\n",
    "    for stim_code in stim_combinations.keys():\n",
    "        if stim_code_tuple == stim_code:\n",
    "            return stim_combinations[stim_code]\n",
    "    return \"NaN\""
   ]
  },
  {
   "cell_type": "code",
   "execution_count": null,
   "metadata": {},
   "outputs": [],
   "source": [
    "def convert_epoch_events_to_stim_combinations(epoch_object):\n",
    "    trials = get_stim_code_epoch_trials(epoch_object)\n",
    "#     print(trials)\n",
    "    new_events_master = []\n",
    "    \n",
    "    for trial in trials:\n",
    "#         print(trial)\n",
    "        trial = np.array(trial)\n",
    "        stim_codes = trial[:,-1]\n",
    "        try:\n",
    "#             print(\"stim_codes\",stim_codes)\n",
    "            stim_code_tuple = (stim_codes[0],stim_codes[1], stim_codes[2])\n",
    "#             print(\"stim_code_tuple\",stim_code_tuple)\n",
    "            stim_combination = stim_code_combination_from_trial(stim_code_tuple, stim_combinations)\n",
    "#             print(\"stim_combination\",stim_combination)\n",
    "            new_event_id = modality_lexicality_event_ids[stim_combination]\n",
    "#             print(\"New event_id\", new_event_id)\n",
    "            trial[:,-1] = new_event_id\n",
    "            new_events_master.append(trial)\n",
    "        except:\n",
    "            pass\n",
    "#             print(\"Error with stim-code: {0}\".format(stim_code_tuple))\n",
    "#     print(new_events_master)\n",
    "    return np.concatenate([x for x in new_events_master])"
   ]
  },
  {
   "cell_type": "code",
   "execution_count": null,
   "metadata": {},
   "outputs": [],
   "source": [
    "# new_events = convert_epoch_events_to_stim_combinations(epoch_object=epoch.copy())\n",
    "# new_events.shape"
   ]
  },
  {
   "cell_type": "code",
   "execution_count": null,
   "metadata": {},
   "outputs": [],
   "source": [
    "# print(new_events.shape)\n",
    "# print(epoch.events.shape)"
   ]
  },
  {
   "cell_type": "code",
   "execution_count": null,
   "metadata": {},
   "outputs": [],
   "source": [
    "# checked_events = np.array([x for x in new_events if x[0] in epoch.events[:,0]])"
   ]
  },
  {
   "cell_type": "code",
   "execution_count": null,
   "metadata": {},
   "outputs": [],
   "source": [
    "def epoch_indexes_to_drop(epoch_object, events):\n",
    "    epoch_events = epoch_object.events\n",
    "    indicies_to_drop = []\n",
    "    for i in range(len(epoch_events)):\n",
    "        if epoch_events[i,0] not in events[:,0]:\n",
    "            indicies_to_drop.append(i)\n",
    "    return indicies_to_drop"
   ]
  },
  {
   "cell_type": "code",
   "execution_count": null,
   "metadata": {},
   "outputs": [],
   "source": [
    "import itertools\n",
    "def generate_indicies_tuples(indicies_to_drop, len_epochs):\n",
    "    indicides_tuples = []\n",
    "    if indicies_to_drop !=[]:\n",
    "        \n",
    "        for i in range(len(indicies_to_drop)):\n",
    "            if i == 0:\n",
    "                print(\"i ==0\")\n",
    "                indicides_tuples.append((0,indicies_to_drop[i]))\n",
    "                print(indicides_tuples)\n",
    "            else:\n",
    "                if indicies_to_drop[i-1] +1 == indicies_to_drop[i]:\n",
    "                    pass\n",
    "    #                 indicides_tuples.append((indicies_to_drop[i-1] +1, indicies_to_drop[i] +1 ))\n",
    "\n",
    "                else:\n",
    "                    indicides_tuples.append((indicies_to_drop[i-1] +1, indicies_to_drop[i]))\n",
    "            print(indicies_to_drop)\n",
    "\n",
    "        indicides_tuples.append((indicies_to_drop[-1] +1, len_epochs))\n",
    "        return indicides_tuples\n",
    "    else:\n",
    "        return []\n",
    "        \n",
    "def drop_bad_epoch_events(epoch_object, indicies_to_drop):\n",
    "    indicies_tuples = generate_indicies_tuples(indicies_to_drop, epoch.events.shape[0])\n",
    "    print(\"indicides tuple\", indicies_tuples)\n",
    "    epoch_list = []\n",
    "    if indicies_tuples !=[]:\n",
    "        for index in indicies_tuples:\n",
    "            epoch_list.append(epoch_object[index[0]:index[1]])\n",
    "        if epoch_list != []:\n",
    "            return mne.epochs.concatenate_epochs(epoch_list)\n",
    "    else: \n",
    "        return epoch_object\n",
    "#     else:\n",
    "#         return epoch_object"
   ]
  },
  {
   "cell_type": "code",
   "execution_count": 20,
   "metadata": {},
   "outputs": [],
   "source": [
    "def convert_epoch_object_events(epoch_object):\n",
    "    new_events = convert_epoch_events_to_stim_combinations(epoch_object=epoch_object.copy())\n",
    "    indicies_to_drop = epoch_indexes_to_drop(epoch_object.copy(), new_events)\n",
    "    new_epoch = drop_bad_epoch_events(epoch_object.copy(), indicies_to_drop=indicies_to_drop)\n",
    "#     print(\"**\", new_events)\n",
    "#     new_epoch.events = new_events\n",
    "    return new_epoch"
   ]
  },
  {
   "cell_type": "code",
   "execution_count": 16,
   "metadata": {},
   "outputs": [],
   "source": [
    "# for epoch_file in epoch_files:\n",
    "#     file = os.path.join(path, epoch_file)\n",
    "#     epoch = mne.read_epochs(file, preload = True);\n",
    "    \n",
    "#     print(\"**epoch events shape\", epoch.events.shape)\n",
    "# #     try:\n",
    "        \n",
    "#     new_events = convert_epoch_events_to_stim_combinations(epoch_object=epoch.copy())\n",
    "#     print(\"**new_events shape\", new_events.shape)\n",
    "\n",
    "#     indicies_to_drop = epoch_indexes_to_drop(epoch.copy(), new_events)\n",
    "#     print(\"**indicies to drop\", indicies_to_drop)\n",
    "#     new_epoch = drop_bad_epoch_events(epoch.copy(), indicies_to_drop=indicies_to_drop)\n",
    "#     print(\"**new epoch shape\", new_epoch.get_data().shape)\n",
    "# #     except:\n",
    "# #         print(\"**Error with file {0}\".format(epoch_file))"
   ]
  },
  {
   "cell_type": "code",
   "execution_count": 9,
   "metadata": {},
   "outputs": [],
   "source": [
    "# epoch.events[597:605]"
   ]
  },
  {
   "cell_type": "code",
   "execution_count": 10,
   "metadata": {},
   "outputs": [],
   "source": [
    "# epoch.events.shape[0]"
   ]
  },
  {
   "cell_type": "code",
   "execution_count": 11,
   "metadata": {},
   "outputs": [],
   "source": [
    "# indicies_to_drop = epoch_indexes_to_drop(epoch.copy(), new_events)\n",
    "# new_epoch = drop_bad_epoch_events(epoch.copy(), indicies_to_drop=indicies_to_drop)"
   ]
  },
  {
   "cell_type": "code",
   "execution_count": 12,
   "metadata": {},
   "outputs": [],
   "source": [
    "# new_epoch.events.shape"
   ]
  },
  {
   "cell_type": "code",
   "execution_count": 13,
   "metadata": {},
   "outputs": [],
   "source": [
    "# epoch.events = new_events\n"
   ]
  },
  {
   "cell_type": "code",
   "execution_count": 14,
   "metadata": {},
   "outputs": [],
   "source": [
    "# new_epochs = mne.epochs.concatenate_epochs([epoch[:1116], epoch[1117:]])"
   ]
  },
  {
   "cell_type": "code",
   "execution_count": null,
   "metadata": {},
   "outputs": [],
   "source": [
    "def isCorrect_stim_code_trials(trials):\n",
    "    \"\"\"\n",
    "    Description:\n",
    "        A sanity check that makes sure all trials are in the correct order\n",
    "        The third stim-code needs to have a value that is one less than the \n",
    "        first stim-code.\n",
    "        \n",
    "    Variables:\n",
    "        trials: An ndarray of shape  (n_trials, 3, 3)\n",
    "    -----\n",
    "    returns:\n",
    "        boolean if all are correct, or one is incorrect. \n",
    "        It will print all incorrect trials\n",
    "    \"\"\"\n",
    "    has_incorrect_trial = True\n",
    "    for trial in trials:\n",
    "        if trial[:,-1][0] == trial[:,-1][-1] + 1:\n",
    "            pass\n",
    "        else:\n",
    "            print(\"Incorrect Trial \\n: {0}\".format(trial))\n",
    "            has_incorrect_trial = False\n",
    "            \n",
    "                    \n",
    "    return has_incorrect_trial"
   ]
  },
  {
   "cell_type": "code",
   "execution_count": null,
   "metadata": {},
   "outputs": [],
   "source": [
    "# isCorrect_stim_code_trials(epoch_trials)"
   ]
  },
  {
   "cell_type": "code",
   "execution_count": null,
   "metadata": {},
   "outputs": [],
   "source": [
    "# def create_describer_events(epoch, eeglab):\n",
    "#     \"\"\"\n",
    "#     Description:\n",
    "#         uses raw eeglab events and epoch events to return a new dictionary\n",
    "#         with key the timestamp of an event, and value is the new event_id.\n",
    "#         These event_ids can later be split/manipulated to label data by specific \n",
    "#         events\n",
    "#     Variables:\n",
    "#         epoch: mne.io.epoch object\n",
    "#         raw_events: an ndarray of 3d integers shape \n",
    "        \n",
    "#     returns:\n",
    "#         dictionary\n",
    "#     \"\"\"\n",
    "#     raw_events = find_events(eeglab)\n",
    "#     raw_trials = get_trials(raw_events)\n",
    "#     epoch_events = epoch.events\n",
    "#     epoch_trials = get_epoch_trials(epoch)\n",
    "    \n",
    "#     for epoch_trial in epoch_trials:\n",
    "#         for event in epoch_trial\n",
    "#             if event[0] in \n",
    "#     #  "
   ]
  },
  {
   "cell_type": "code",
   "execution_count": null,
   "metadata": {},
   "outputs": [],
   "source": []
  }
 ],
 "metadata": {
  "kernelspec": {
   "display_name": "Python 3",
   "language": "python",
   "name": "python3"
  },
  "language_info": {
   "codemirror_mode": {
    "name": "ipython",
    "version": 3
   },
   "file_extension": ".py",
   "mimetype": "text/x-python",
   "name": "python",
   "nbconvert_exporter": "python",
   "pygments_lexer": "ipython3",
   "version": "3.6.6"
  }
 },
 "nbformat": 4,
 "nbformat_minor": 2
}
