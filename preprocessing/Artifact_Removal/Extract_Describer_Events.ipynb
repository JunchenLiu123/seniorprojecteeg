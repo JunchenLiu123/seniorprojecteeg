{
 "cells": [
  {
   "cell_type": "code",
   "execution_count": 2,
   "metadata": {},
   "outputs": [],
   "source": [
    "import mne\n",
    "import os\n",
    "os.chdir('C:\\\\Users\\\\Esimk_000\\\\Desktop\\\\School\\\\Spring 2018\\\\Cs59866\\\\EEG Project\\\\seniorprojecteeg-master-fork\\\\preprocessing\\\\Artifact_Removal')\n",
    "%run preprocecssing_helpers.ipynb\n",
    "%run Batch_ArtifactFilter_Epoch.ipynb\n",
    "import time\n",
    "import mne\n",
    "from mne.preprocessing import ICA\n",
    "import numpy\n",
    "import matplotlib.pyplot as plt\n",
    "%matplotlib inline\n",
    "import matplotlib\n",
    "matplotlib.rcParams['figure.figsize'] = (20.0, 15.0)\n",
    "matplotlib.rcParams.update({'font.size': 15})"
   ]
  },
  {
   "cell_type": "code",
   "execution_count": 3,
   "metadata": {},
   "outputs": [],
   "source": [
    "path = 'F:/EEGLAB/'\n",
    "eeglab_files = list_eeglab_files(path)"
   ]
  },
  {
   "cell_type": "code",
   "execution_count": 4,
   "metadata": {},
   "outputs": [
    {
     "data": {
      "text/plain": [
       "['F:/EEGLAB/SA20131216\\\\20131216_1310.set',\n",
       " 'F:/EEGLAB/SA20131216\\\\20131216_1441.set',\n",
       " 'F:/EEGLAB/SA20140205\\\\20140205_1114.set',\n",
       " 'F:/EEGLAB/SA20140205\\\\20140205_1230.set',\n",
       " 'F:/EEGLAB/SA20140206\\\\20140206_1029.set',\n",
       " 'F:/EEGLAB/SA20140206\\\\20140206_1151.set',\n",
       " 'F:/EEGLAB/SA20140207\\\\20140207_1146.set',\n",
       " 'F:/EEGLAB/SA20140207\\\\20140207_1219.set',\n",
       " 'F:/EEGLAB/SA20140217\\\\20140217_1136.set',\n",
       " 'F:/EEGLAB/SA20140217\\\\20140217_1211.set',\n",
       " 'F:/EEGLAB/SA20140219\\\\20140219_1046.set',\n",
       " 'F:/EEGLAB/SA20140219\\\\20140219_1205.set',\n",
       " 'F:/EEGLAB/SA20140220\\\\20140220_1009.set',\n",
       " 'F:/EEGLAB/SA20140220\\\\20140220_1123.set',\n",
       " 'F:/EEGLAB/SA20140225\\\\20140225_1422.set',\n",
       " 'F:/EEGLAB/SA20140225\\\\20140225_1552.set',\n",
       " 'F:/EEGLAB/SA20140227A\\\\20140227_1058.set',\n",
       " 'F:/EEGLAB/SA20140227A\\\\20140227_1220.set',\n",
       " 'F:/EEGLAB/SA20140227B\\\\20140227_1410.set']"
      ]
     },
     "execution_count": 4,
     "metadata": {},
     "output_type": "execute_result"
    }
   ],
   "source": [
    "eeglab_files"
   ]
  },
  {
   "cell_type": "code",
   "execution_count": 6,
   "metadata": {},
   "outputs": [
    {
     "name": "stdout",
     "output_type": "stream",
     "text": [
      "Reading F:/EEGLAB/SA20140206\\20140206_1029.fdt\n",
      "Reading 0 ... 813578  =      0.000 ...  1589.020 secs...\n"
     ]
    }
   ],
   "source": [
    "raw = mne.io.read_raw_eeglab(eeglab_files[4],preload = True)"
   ]
  },
  {
   "cell_type": "code",
   "execution_count": 7,
   "metadata": {},
   "outputs": [
    {
     "name": "stdout",
     "output_type": "stream",
     "text": [
      "5792 events found\n",
      "Event IDs: [  1   2   3   4   5   6   7   8   9  10  11  12  13  14  15  16  17  18\n",
      "  19  20  21  22  23  24  31 129 130 131 132 133 134 135 136 137 138 139\n",
      " 140 141 142 143 144 145 155 156 157 158 159 160 161 162 163 164 165]\n",
      "time difference 1.74609375\n",
      "[82151     0    16]\n",
      "[83045     0   130]\n",
      "\n",
      " **1 bad trials dropped**\n",
      "Setting up band-stop filter\n",
      "Filter length of 3379 samples (6.600 sec) selected\n",
      "Setting up band-pass filter from 5 - 1e+02 Hz\n",
      "l_trans_bandwidth chosen to be 2.0 Hz\n",
      "h_trans_bandwidth chosen to be 25.0 Hz\n",
      "Filter length of 845 samples (1.650 sec) selected\n",
      "5792 events found\n",
      "Event IDs: [  1   2   3   4   5   6   7   8   9  10  11  12  13  14  15  16  17  18\n",
      "  19  20  21  22  23  24  31 129 130 131 132 133 134 135 136 137 138 139\n",
      " 140 141 142 143 144 145 155 156 157 158 159 160 161 162 163 164 165]\n"
     ]
    },
    {
     "name": "stderr",
     "output_type": "stream",
     "text": [
      "[Parallel(n_jobs=10)]: Using backend LokyBackend with 10 concurrent workers.\n",
      "[Parallel(n_jobs=10)]: Done  52 tasks      | elapsed:   15.9s\n",
      "[Parallel(n_jobs=10)]: Done 129 out of 129 | elapsed:   28.1s finished\n"
     ]
    },
    {
     "name": "stdout",
     "output_type": "stream",
     "text": [
      "5384 events found\n",
      "Event IDs: [  1   2   3   4   5   6   7   8   9  10  11  12  13  14  15  16  17  18\n",
      "  19  20  21  22  23  24  31 129 130 131 132 133 134 135 136 137 138 139\n",
      " 140 141 142 143 144 145 155 156 157 158 159 160 161 162 163 164 165]\n",
      "Fitting ICA to data using 128 channels (please be patient, this may take a while)\n",
      "Inferring max_pca_components from picks\n",
      "Using all PCA components: 128\n",
      "Fitting ICA took 756.0s.\n",
      "    Searching for artifacts...\n",
      "Artifact indices found:\n",
      "    \n",
      "Ready.\n",
      "Transforming to ICA space (128 components)\n",
      "Zeroing out 0 ICA components\n",
      "1917 matching events found\n",
      "Applying baseline correction (mode: mean)\n",
      "Not setting metadata\n",
      "0 projection items activated\n",
      "Loading data for 1917 events and 500 original time points ...\n",
      "968 bad epochs dropped\n"
     ]
    }
   ],
   "source": [
    "epoch = remove_artifacts_and_create_epochs(raw)"
   ]
  },
  {
   "cell_type": "code",
   "execution_count": 8,
   "metadata": {},
   "outputs": [],
   "source": [
    "os.chdir(\"F:\\\\\")\n",
    "epoch.save(eeglab_files[4].split('\\\\')[-1].split('.')[0] + \"_epo.fif\", verbose = True)"
   ]
  },
  {
   "cell_type": "code",
   "execution_count": 9,
   "metadata": {},
   "outputs": [
    {
     "name": "stdout",
     "output_type": "stream",
     "text": [
      "5384 events found\n",
      "Event IDs: [  1   2   3   4   5   6   7   8   9  10  11  12  13  14  15  16  17  18\n",
      "  19  20  21  22  23  24  31 129 130 131 132 133 134 135 136 137 138 139\n",
      " 140 141 142 143 144 145 155 156 157 158 159 160 161 162 163 164 165]\n"
     ]
    },
    {
     "data": {
      "text/plain": [
       "[[array([3992,  136,   31], dtype=int64),\n",
       "  array([3993,    0,  136], dtype=int64),\n",
       "  array([3995,    0,  156], dtype=int64),\n",
       "  array([4000,    0,   11], dtype=int64),\n",
       "  array([4138,    0,   12], dtype=int64),\n",
       "  array([4263,    0,   10], dtype=int64),\n",
       "  array([4539,  133,  132], dtype=int64),\n",
       "  array([4541,    0,  133], dtype=int64)],\n",
       " [array([4689,    0,   31], dtype=int64),\n",
       "  array([4691,  156,  143], dtype=int64),\n",
       "  array([4692,    0,  156], dtype=int64),\n",
       "  array([4698,    0,   11], dtype=int64),\n",
       "  array([4836,    0,   12], dtype=int64),\n",
       "  array([4965,    0,   10], dtype=int64),\n",
       "  array([5088,    0,  131], dtype=int64),\n",
       "  array([5100,    0,  134], dtype=int64)]]"
      ]
     },
     "execution_count": 9,
     "metadata": {},
     "output_type": "execute_result"
    }
   ],
   "source": [
    "events = find_events(raw)\n",
    "eeglab_trials = get_trials(events)\n",
    "eeglab_trials[1:3]"
   ]
  },
  {
   "cell_type": "code",
   "execution_count": 11,
   "metadata": {},
   "outputs": [],
   "source": [
    "def get_epoch_trials(epoch_object):\n",
    "    #note: third stim-code has a value that is 1 more than the first.\n",
    "    events = epoch_object.events\n",
    "    found_first_stim_code = False\n",
    "    found_second_stim_code = False\n",
    "    found_third_stim_code = False\n",
    "    current_trial = []\n",
    "    trials = []\n",
    "    for event in events:\n",
    "        if not found_first_stim_code and not found_second_stim_code and not found_third_stim_code: #still searching for the end of trial\n",
    "            current_trial.append(event)\n",
    "            found_first_stim_code = True\n",
    "            first_stim_code = event\n",
    "        elif not found_second_stim_code and not found_third_stim_code:\n",
    "            current_trial.append(event)\n",
    "            found_second_stim_code = True\n",
    "        elif not found_third_stim_code and (event[-1] + 1) == first_stim_code[-1]: \n",
    "            current_trial.append(event)\n",
    "            found_third_stim_code = True\n",
    "            trials.append(current_trial)\n",
    "            current_trial = []\n",
    "            found_first_stim_code = False\n",
    "            found_second_stim_code = False\n",
    "            found_third_stim_code = False\n",
    "        elif not found_third_stim_code and (event[-1] + 1) != first_stim_code[-1]:\n",
    "            # there is no third event, trial is unfinished.\n",
    "            current_trial = []\n",
    "            current_trial.append(event)#assuming it's first stim-code...for now\n",
    "            found_first_stim_code = True\n",
    "    return trials"
   ]
  },
  {
   "cell_type": "code",
   "execution_count": 26,
   "metadata": {},
   "outputs": [],
   "source": [
    "def isCorrect_stim_code_trials(trials):\n",
    "    \"\"\"\n",
    "    Description:\n",
    "        A sanity check that makes sure all trials are in the correct order\n",
    "        The third stim-code needs to have a value that is one less than the \n",
    "        first stim-code.\n",
    "        \n",
    "    Variables:\n",
    "        trials: An ndarray of shape  (n_trials, 3, 3)\n",
    "    -----\n",
    "    returns:\n",
    "        boolean if all are correct, or one is incorrect. \n",
    "        It will print all incorrect trials\n",
    "    \"\"\"\n",
    "    has_incorrect_trial = False\n",
    "    for trial in trials:\n",
    "        if trial[:,-1][0] == trial[:,-1][-1] + 1:\n",
    "            pass\n",
    "        else:\n",
    "            print(\"Incorrect Trial \\n: {0}\".format(trial))\n",
    "            has_incorrect_trial = True\n",
    "            \n",
    "                    \n",
    "    return has_incorrect_trial"
   ]
  },
  {
   "cell_type": "code",
   "execution_count": 27,
   "metadata": {},
   "outputs": [
    {
     "data": {
      "text/plain": [
       "False"
      ]
     },
     "execution_count": 27,
     "metadata": {},
     "output_type": "execute_result"
    }
   ],
   "source": [
    "isCorrect_stim_code_trials(epoch_trials)"
   ]
  },
  {
   "cell_type": "code",
   "execution_count": 17,
   "metadata": {},
   "outputs": [
    {
     "data": {
      "text/plain": [
       "(316, 3, 3)"
      ]
     },
     "execution_count": 17,
     "metadata": {},
     "output_type": "execute_result"
    }
   ],
   "source": [
    "epoch_trials.shape"
   ]
  },
  {
   "cell_type": "code",
   "execution_count": 12,
   "metadata": {},
   "outputs": [],
   "source": [
    "epoch_trials = np.array(get_epoch_trials(epoch))"
   ]
  },
  {
   "cell_type": "code",
   "execution_count": 36,
   "metadata": {},
   "outputs": [
    {
     "data": {
      "text/plain": [
       "14.609375"
      ]
     },
     "execution_count": 36,
     "metadata": {},
     "output_type": "execute_result"
    }
   ],
   "source": [
    "7480*(1/512)"
   ]
  },
  {
   "cell_type": "code",
   "execution_count": 14,
   "metadata": {},
   "outputs": [
    {
     "data": {
      "text/plain": [
       "array([[[  8000,      0,     11],\n",
       "        [  8276,      0,     12],\n",
       "        [  8526,      0,     10]],\n",
       "\n",
       "       [[  9396,      0,     11],\n",
       "        [  9671,      0,     12],\n",
       "        [  9930,      0,     10]],\n",
       "\n",
       "       [[ 10498,      0,     11],\n",
       "        [ 10774,      0,     12],\n",
       "        [ 11041,      0,     10]],\n",
       "\n",
       "       ...,\n",
       "\n",
       "       [[402801,      0,      8],\n",
       "        [403051,      0,     12],\n",
       "        [403309,      0,      7]],\n",
       "\n",
       "       [[403869,      0,      8],\n",
       "        [404127,      0,     12],\n",
       "        [404403,      0,      7]],\n",
       "\n",
       "       [[404963,      0,      8],\n",
       "        [405221,      0,     12],\n",
       "        [405505,      0,      7]]])"
      ]
     },
     "execution_count": 14,
     "metadata": {},
     "output_type": "execute_result"
    }
   ],
   "source": [
    "epoch_trials"
   ]
  }
 ],
 "metadata": {
  "kernelspec": {
   "display_name": "Python 3",
   "language": "python",
   "name": "python3"
  },
  "language_info": {
   "codemirror_mode": {
    "name": "ipython",
    "version": 3
   },
   "file_extension": ".py",
   "mimetype": "text/x-python",
   "name": "python",
   "nbconvert_exporter": "python",
   "pygments_lexer": "ipython3",
   "version": "3.6.6"
  }
 },
 "nbformat": 4,
 "nbformat_minor": 2
}
