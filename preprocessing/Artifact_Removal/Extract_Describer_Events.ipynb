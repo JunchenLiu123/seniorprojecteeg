{
 "cells": [
  {
   "cell_type": "code",
   "execution_count": 1,
   "metadata": {},
   "outputs": [
    {
     "name": "stderr",
     "output_type": "stream",
     "text": [
      "ERROR:root:File `'../preprocessing/StimCodes.ipynb.py'` not found.\n"
     ]
    }
   ],
   "source": [
    "import mne\n",
    "import os\n",
    "# os.chdir('C:\\\\Users\\\\Esimk_000\\\\Desktop\\\\School\\\\Spring 2018\\\\Cs59866\\\\EEG Project\\\\seniorprojecteeg-master-fork\\\\preprocessing\\\\Artifact_Removal')\n",
    "%run preprocecssing_helpers.ipynb\n",
    "%run Batch_ArtifactFilter_Epoch.ipynb\n",
    "%run ../preprocessing/StimCodes.ipynb\n",
    "\n",
    "import time\n",
    "import mne\n",
    "from mne.preprocessing import ICA\n",
    "import numpy\n",
    "import matplotlib.pyplot as plt\n",
    "%matplotlib inline\n",
    "import matplotlib\n",
    "matplotlib.rcParams['figure.figsize'] = (20.0, 15.0)\n",
    "matplotlib.rcParams.update({'font.size': 15})"
   ]
  },
  {
   "cell_type": "code",
   "execution_count": 11,
   "metadata": {},
   "outputs": [],
   "source": [
    "# path = 'D:/EEGLAB/'\n",
    "# eeglab_files = list_eeglab_files(path)"
   ]
  },
  {
   "cell_type": "code",
   "execution_count": 12,
   "metadata": {},
   "outputs": [
    {
     "data": {
      "text/plain": [
       "['D:/EEGLAB/SA20131216\\\\20131216_1310.set',\n",
       " 'D:/EEGLAB/SA20131216\\\\20131216_1441.set',\n",
       " 'D:/EEGLAB/SA20140205\\\\20140205_1114.set',\n",
       " 'D:/EEGLAB/SA20140205\\\\20140205_1230.set',\n",
       " 'D:/EEGLAB/SA20140206\\\\20140206_1029.set',\n",
       " 'D:/EEGLAB/SA20140206\\\\20140206_1151.set',\n",
       " 'D:/EEGLAB/SA20140207\\\\20140207_1146.set',\n",
       " 'D:/EEGLAB/SA20140207\\\\20140207_1219.set',\n",
       " 'D:/EEGLAB/SA20140217\\\\20140217_1136.set',\n",
       " 'D:/EEGLAB/SA20140217\\\\20140217_1211.set',\n",
       " 'D:/EEGLAB/SA20140219\\\\20140219_1046.set',\n",
       " 'D:/EEGLAB/SA20140219\\\\20140219_1205.set',\n",
       " 'D:/EEGLAB/SA20140220\\\\20140220_1009.set',\n",
       " 'D:/EEGLAB/SA20140220\\\\20140220_1123.set',\n",
       " 'D:/EEGLAB/SA20140225\\\\20140225_1422.set',\n",
       " 'D:/EEGLAB/SA20140225\\\\20140225_1552.set',\n",
       " 'D:/EEGLAB/SA20140227A\\\\20140227_1058.set',\n",
       " 'D:/EEGLAB/SA20140227A\\\\20140227_1220.set',\n",
       " 'D:/EEGLAB/SA20140227B\\\\20140227_1410.set']"
      ]
     },
     "execution_count": 12,
     "metadata": {},
     "output_type": "execute_result"
    }
   ],
   "source": [
    "# eeglab_files"
   ]
  },
  {
   "cell_type": "code",
   "execution_count": 13,
   "metadata": {},
   "outputs": [
    {
     "name": "stdout",
     "output_type": "stream",
     "text": [
      "Reading D:/EEGLAB/SA20140206\\20140206_1029.fdt\n",
      "Reading 0 ... 813578  =      0.000 ...  1589.020 secs...\n"
     ]
    }
   ],
   "source": [
    "# raw = mne.io.read_raw_eeglab(eeglab_files[4],preload = True)"
   ]
  },
  {
   "cell_type": "code",
   "execution_count": null,
   "metadata": {},
   "outputs": [],
   "source": [
    "# os.chdir(\"F:\\\\\")\n",
    "# epoch.save(eeglab_files[4].split('\\\\')[-1].split('.')[0] + \"_epo.fif\", verbose = True)"
   ]
  },
  {
   "cell_type": "code",
   "execution_count": 14,
   "metadata": {},
   "outputs": [
    {
     "name": "stdout",
     "output_type": "stream",
     "text": [
      "5792 events found\n",
      "Event IDs: [  1   2   3   4   5   6   7   8   9  10  11  12  13  14  15  16  17  18\n",
      "  19  20  21  22  23  24  31 129 130 131 132 133 134 135 136 137 138 139\n",
      " 140 141 142 143 144 145 155 156 157 158 159 160 161 162 163 164 165]\n"
     ]
    },
    {
     "data": {
      "text/plain": [
       "[[array([7983,    0,   31], dtype=int64),\n",
       "  array([7986,    0,  136], dtype=int64),\n",
       "  array([7989,    0,  156], dtype=int64),\n",
       "  array([8000,    0,   11], dtype=int64),\n",
       "  array([8276,    0,   12], dtype=int64),\n",
       "  array([8526,    0,   10], dtype=int64),\n",
       "  array([9077,    0,  132], dtype=int64),\n",
       "  array([9080,    0,  133], dtype=int64),\n",
       "  array([9082,    0,  129], dtype=int64)],\n",
       " [array([9378,    0,   31], dtype=int64),\n",
       "  array([9381,    0,  143], dtype=int64),\n",
       "  array([9384,    0,  156], dtype=int64),\n",
       "  array([9396,    0,   11], dtype=int64),\n",
       "  array([9671,    0,   12], dtype=int64),\n",
       "  array([9930,    0,   10], dtype=int64),\n",
       "  array([10175,     0,   131], dtype=int64),\n",
       "  array([10197,     0,   134], dtype=int64),\n",
       "  array([10199,     0,   129], dtype=int64)]]"
      ]
     },
     "execution_count": 14,
     "metadata": {},
     "output_type": "execute_result"
    }
   ],
   "source": [
    "# events = find_events(raw)\n",
    "# eeglab_trials = get_trials(events)\n",
    "# eeglab_trials[1:3]"
   ]
  },
  {
   "cell_type": "code",
   "execution_count": 7,
   "metadata": {},
   "outputs": [],
   "source": [
    "def get_epoch_trials(epoch_object):\n",
    "    #note: third stim-code has a value that is 1 more than the first.\n",
    "    events = epoch_object.events\n",
    "    found_first_stim_code = False\n",
    "    found_second_stim_code = False\n",
    "    found_third_stim_code = False\n",
    "    current_trial = []\n",
    "    trials = []\n",
    "    for event in events:\n",
    "        if not found_first_stim_code and not found_second_stim_code and not found_third_stim_code: #still searching for the end of trial\n",
    "            current_trial.append(event)\n",
    "            found_first_stim_code = True\n",
    "            first_stim_code = event\n",
    "        elif not found_second_stim_code and not found_third_stim_code:\n",
    "            current_trial.append(event)\n",
    "            found_second_stim_code = True\n",
    "        elif not found_third_stim_code and (event[-1] + 1) == first_stim_code[-1]: \n",
    "            current_trial.append(event)\n",
    "            found_third_stim_code = True\n",
    "            trials.append(current_trial)\n",
    "            current_trial = []\n",
    "            found_first_stim_code = False\n",
    "            found_second_stim_code = False\n",
    "            found_third_stim_code = False\n",
    "        elif not found_third_stim_code and (event[-1] + 1) != first_stim_code[-1]:\n",
    "            # there is no third event, trial is unfinished.\n",
    "            current_trial = []\n",
    "            current_trial.append(event)#assuming it's first stim-code...for now\n",
    "            found_first_stim_code = True\n",
    "    return trials"
   ]
  },
  {
   "cell_type": "code",
   "execution_count": 4,
   "metadata": {},
   "outputs": [],
   "source": [
    "def get_stim_code_epoch_trials(epoch_object):\n",
    "    events = epoch_object.events\n",
    "    found_first_stim_code = False\n",
    "    found_second_stim_code = False\n",
    "    found_third_stim_code = False\n",
    "    current_trial = []\n",
    "    trials = []\n",
    "    \n",
    "    for i in range(len(events[:,-1])-2):\n",
    "        found_third_stim_code = False\n",
    "        while (not found_third_stim_code):\n",
    "            stim_code_1 = events[i]\n",
    "            stim_code_2 = events[i+1]\n",
    "            stim_code_3 = events[i+2]\n",
    "            print(stim_code_1,stim_code_2,stim_code_3)\n",
    "            \n",
    "            if stim_code_1[-1] == stim_code_3[-1] + 1:\n",
    "                trials.append([stim_code_1,stim_code_2,stim_code_3])\n",
    "                found_third_stim_code = True\n",
    "            else:\n",
    "                \n",
    "                break;\n",
    "    return trials"
   ]
  },
  {
   "cell_type": "code",
   "execution_count": null,
   "metadata": {},
   "outputs": [],
   "source": []
  },
  {
   "cell_type": "code",
   "execution_count": 3,
   "metadata": {},
   "outputs": [],
   "source": [
    "def stim_code_combination_from_trial(stim_code_tuple, stim_combinations):\n",
    "    \"\"\"\n",
    "    Description:\n",
    "        returns the correct stim-code combination event id \n",
    "        example - a trial has events (20, 15, 19), this method will match those values to a \n",
    "        stim combination that is defined in the dictionary stim_combinations\n",
    "    \"\"\"\n",
    "    for stim_code in stim_combinations.keys():\n",
    "        if stim_code_tuple == stim_code:\n",
    "            return stim_combinations[stim_code]\n",
    "    return \"NaN\""
   ]
  },
  {
   "cell_type": "code",
   "execution_count": 5,
   "metadata": {},
   "outputs": [],
   "source": [
    "def convert_epoch_events_to_stim_combinations(epoch_object):\n",
    "    trials = get_stim_code_epoch_trials(epoch_object)\n",
    "#     print(trials)\n",
    "    new_events_master = []\n",
    "    \n",
    "    for trial in trials:\n",
    "#         print(trial)\n",
    "        trial = np.array(trial)\n",
    "        stim_codes = trial[:,-1]\n",
    "        try:\n",
    "#             print(stim_codes)\n",
    "            stim_code_tuple = (stim_codes[0],stim_codes[1], stim_codes[2])\n",
    "#             print(stim_code_tuple)\n",
    "            stim_combination = stim_code_combination_from_trial(stim_code_tuple, stim_combinations)\n",
    "#             print(stim_combination)\n",
    "            new_event_id = modality_lexicality_event_ids[stim_combination]\n",
    "            trial[:,-1] = new_event_id\n",
    "            new_events_master.append(trial)\n",
    "        except:\n",
    "            print(\"Error with stim-code: {0}\".format(stim_codes))\n",
    "        \n",
    "    return np.concatenate([x for x in new_events_master])"
   ]
  },
  {
   "cell_type": "code",
   "execution_count": null,
   "metadata": {},
   "outputs": [],
   "source": []
  },
  {
   "cell_type": "code",
   "execution_count": 8,
   "metadata": {},
   "outputs": [],
   "source": [
    "def isCorrect_stim_code_trials(trials):\n",
    "    \"\"\"\n",
    "    Description:\n",
    "        A sanity check that makes sure all trials are in the correct order\n",
    "        The third stim-code needs to have a value that is one less than the \n",
    "        first stim-code.\n",
    "        \n",
    "    Variables:\n",
    "        trials: An ndarray of shape  (n_trials, 3, 3)\n",
    "    -----\n",
    "    returns:\n",
    "        boolean if all are correct, or one is incorrect. \n",
    "        It will print all incorrect trials\n",
    "    \"\"\"\n",
    "    has_incorrect_trial = True\n",
    "    for trial in trials:\n",
    "        if trial[:,-1][0] == trial[:,-1][-1] + 1:\n",
    "            pass\n",
    "        else:\n",
    "            print(\"Incorrect Trial \\n: {0}\".format(trial))\n",
    "            has_incorrect_trial = False\n",
    "            \n",
    "                    \n",
    "    return has_incorrect_trial"
   ]
  },
  {
   "cell_type": "code",
   "execution_count": null,
   "metadata": {},
   "outputs": [],
   "source": [
    "# isCorrect_stim_code_trials(epoch_trials)"
   ]
  },
  {
   "cell_type": "code",
   "execution_count": null,
   "metadata": {},
   "outputs": [],
   "source": [
    "# def create_describer_events(epoch, eeglab):\n",
    "#     \"\"\"\n",
    "#     Description:\n",
    "#         uses raw eeglab events and epoch events to return a new dictionary\n",
    "#         with key the timestamp of an event, and value is the new event_id.\n",
    "#         These event_ids can later be split/manipulated to label data by specific \n",
    "#         events\n",
    "#     Variables:\n",
    "#         epoch: mne.io.epoch object\n",
    "#         raw_events: an ndarray of 3d integers shape \n",
    "        \n",
    "#     returns:\n",
    "#         dictionary\n",
    "#     \"\"\"\n",
    "#     raw_events = find_events(eeglab)\n",
    "#     raw_trials = get_trials(raw_events)\n",
    "#     epoch_events = epoch.events\n",
    "#     epoch_trials = get_epoch_trials(epoch)\n",
    "    \n",
    "#     for epoch_trial in epoch_trials:\n",
    "#         for event in epoch_trial\n",
    "#             if event[0] in \n",
    "#     #  "
   ]
  }
 ],
 "metadata": {
  "kernelspec": {
   "display_name": "Python 3",
   "language": "python",
   "name": "python3"
  },
  "language_info": {
   "codemirror_mode": {
    "name": "ipython",
    "version": 3
   },
   "file_extension": ".py",
   "mimetype": "text/x-python",
   "name": "python",
   "nbconvert_exporter": "python",
   "pygments_lexer": "ipython3",
   "version": "3.6.7"
  }
 },
 "nbformat": 4,
 "nbformat_minor": 2
}
