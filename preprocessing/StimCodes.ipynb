{
 "cells": [
  {
   "cell_type": "markdown",
   "metadata": {},
   "source": [
    "# Stim Codes\n",
    "\n",
    "* This notebook will define and incorporate the event_ids from 1 - 24. These were previously undefined, but after looking the files in the raw data folders provided by Dave Britton, it was discovered that each subject had a text file with the following naming conventions _XXXX201402051154.txt_. These files contained more descriptive definitions for stim codes 1-24. \n"
   ]
  },
  {
   "cell_type": "code",
   "execution_count": 51,
   "metadata": {},
   "outputs": [],
   "source": [
    "import mne\n",
    "import os"
   ]
  },
  {
   "cell_type": "markdown",
   "metadata": {},
   "source": [
    "### Stim code definitions"
   ]
  },
  {
   "cell_type": "code",
   "execution_count": 52,
   "metadata": {},
   "outputs": [],
   "source": [
    "stim_codes = {\n",
    "\n",
    "    1: {\"con\":\"b/0\", \"pos\":\"f2/0\", \"stim\":\"wrd/0\" },\n",
    "    2: {\"con\":\"b/0\", \"pos\":\"f1/1\", \"stim\":\"wrd/0\" },\n",
    "    3: {\"con\":\"b/0\", \"pos\":\"tg/2\", \"stim\":\"wrd/0\" },\n",
    "\n",
    "    4: {\"con\":\"b/0\", \"pos\":\"f2/0\", \"stim\":\"spk/1\" },\n",
    "    5: {\"con\":\"b/0\", \"pos\":\"f1/1\", \"stim\":\"spk/1\" },\n",
    "    6: {\"con\":\"b/0\", \"pos\":\"tg/2\", \"stim\":\"spk/1\" },\n",
    "\n",
    "    7: {\"con\":\"b/0\", \"pos\":\"f2/0\",\"stim\":\"pic/2\" },\n",
    "    8: {\"con\":\"b/0\", \"pos\":\"f1/1\",\"stim\":\"pic/2\" },\n",
    "    9: {\"con\":\"b/0\", \"pos\":\"tg/2\",\"stim\":\"pic/2\" },\n",
    "\n",
    "    10: {\"con\":\"b/0\", \"pos\":\"f2/0\",\"stim\":\"snd/3\" },\n",
    "    11: {\"con\":\"b/0\", \"pos\":\"f1/1\",\"stim\":\"snd/3\" },\n",
    "    12: {\"con\":\"b/0\", \"pos\":\"tg/2\",\"stim\":\"snd/3\" },\n",
    "\n",
    "    13: {\"con\":\"f/1\", \"pos\":\"f2/0\",\"stim\":\"wrd/0\" },\n",
    "    14: {\"con\":\"f/1\", \"pos\":\"f1/1\",\"stim\":\"wrd/0\" },\n",
    "    15: {\"con\":\"f/1\", \"pos\":\"tg/2\",\"stim\":\"wrd/0\" },\n",
    "\n",
    "    16: {\"con\":\"f/1\", \"pos\":\"f2/0\",\"stim\":\"spk/1\" },\n",
    "    17: {\"con\":\"f/1\", \"pos\":\"f1/1\",\"stim\":\"spk/1\" },\n",
    "    18: {\"con\":\"f/1\", \"pos\":\"tg/2\",\"stim\":\"spk/1\" },\n",
    "\n",
    "    19: {\"con\":\"f/1\", \"pos\":\"f2/0\",\"stim\":\"pic/2\" },\n",
    "    20: {\"con\":\"f/1\", \"pos\":\"f1/1\",\"stim\":\"pic/2\" },\n",
    "    21: {\"con\":\"f/1\", \"pos\":\"tg/2\",\"stim\":\"pic/2\" },\n",
    "\n",
    "    22: {\"con\":\"f/1\", \"pos\":\"f2/0\",\"stim\":\"snd/3\" },\n",
    "    23: {\"con\":\"f/1\", \"pos\":\"f1/1\",\"stim\":\"snd/3\" },\n",
    "    24: {\"con\":\"f/1\", \"pos\":\"tg/2\",\"stim\": \"snd/3\"}\n",
    "}"
   ]
  },
  {
   "cell_type": "code",
   "execution_count": 57,
   "metadata": {},
   "outputs": [],
   "source": [
    "new_stim_code_event_ids = {\n",
    "     \n",
    "    \"b-f2-wrd\":1,\n",
    "    \"b-f1-wrd\":2,\n",
    "    \"b-tg-wrd\":3,\n",
    "\n",
    "    \"b-f2-spk\":4,\n",
    "    \"b-f1-spk\":5,\n",
    "    \"b-tg-spk\":6,\n",
    "\n",
    "    \"b-f2-pic\":7,\n",
    "    \"b-f1-pic\":8,\n",
    "    \"b-tg-pic\":9,\n",
    "\n",
    "    \"b-f2-snd\":10,\n",
    "    \"b-f1-snd\":11,\n",
    "    \"b-tg-snd\":12,\n",
    "\n",
    "    \"f-f2-wrd\":13,\n",
    "    \"f-f1-wrd\":14,\n",
    "    \"f-tg-wrd\":15,\n",
    "\n",
    "    \"f-f2-spk\":16,\n",
    "    \"f-f1-spk\":17,\n",
    "    \"f-tg-spk\":18,\n",
    "\n",
    "    \"f-f2-pic\":19,\n",
    "    \"f-f1-pic\":20,\n",
    "    \"f-tg-pic\":21,\n",
    "\n",
    "    \"f-f2-snd\":22,\n",
    "    \"f-f1-snd\":23,\n",
    "    \"f-tg-snd\":24\n",
    "}"
   ]
  },
  {
   "cell_type": "code",
   "execution_count": 1,
   "metadata": {},
   "outputs": [],
   "source": [
    "modal_lexi = {\n",
    "    \n",
    "     \"AALL\":  [(5,6,4), (17,18,16)],  \n",
    "     \"AALN\":  [(11,6,10),(23,18,22)], \n",
    "     \"AANL\":  [(5,12,4), (17,24,16)], \n",
    "     \"AANN\":  [(11,12,10), (23,24,22)], \n",
    "     \"AVLL\":  [(2,6,1),(14,18,13)],\n",
    "     \"AVNN\":  [(8,12,7), (20,24,19)],\n",
    "     \"VALL\":  [(5,3,4), (17,15,16)],\n",
    "     \"VANN\":  [(11,9,10), (23,21,22)],\n",
    "     \"VVLL\":  [(2,3,1), (14,15,13)],\n",
    "     \"VVLN\":  [(8,3,7), (20,15,19)],\n",
    "     \"VVNL\":  [(2,9,1), (14,21,13)],\n",
    "     \"VVNN\":  [(8,9,7), (20,21,19)]\n",
    "}"
   ]
  },
  {
   "cell_type": "code",
   "execution_count": 3,
   "metadata": {},
   "outputs": [],
   "source": [
    "stim_combinations = {\n",
    "    (5,6,4): \"AALL\",\n",
    "    (17,18,16) :\"AALL\",\n",
    "    \n",
    "    (11,6,10):\"AALN\",\n",
    "    (23,18,22):\"AALN\",\n",
    "    \n",
    "    (5,12,4) :\"AANL\",\n",
    "    (17,24,16):\"AANL\",\n",
    "    \n",
    "    (11,12,10) : \"AANN\",\n",
    "    (23,24,22): \"AANN\",\n",
    "    \n",
    "    (2,6,1):\"AVLL\",\n",
    "    (14,18,13):\"AVLL\",\n",
    "    \n",
    "    (8,12,7):\"AVNN\",\n",
    "    (20,24,19):\"AVNN\",\n",
    "    \n",
    "    (5,3,4) :\"VALL\",\n",
    "    (17,15,16):\"VALL\",\n",
    "    \n",
    "    (11,9,10) :\"VANN\",\n",
    "    (23,21,22):\"VANN\",\n",
    "    \n",
    "    (2,3,1) :\"VVLL\",\n",
    "    (14,15,13):\"VVLL\",\n",
    "    \n",
    "    (8,3,7):\"VVLN\",\n",
    "    (20,15,19):\"VVLN\",\n",
    "    \n",
    "    (2,9,1) :\"VVNL\",\n",
    "    (14,21,13):\"VVNL\",\n",
    "    \n",
    "    (8,9,7) :\"VVNN\",\n",
    "    (20,21,19):\"VVNN\"\n",
    "}"
   ]
  },
  {
   "cell_type": "code",
   "execution_count": null,
   "metadata": {},
   "outputs": [],
   "source": []
  },
  {
   "cell_type": "code",
   "execution_count": null,
   "metadata": {},
   "outputs": [],
   "source": [
    "full_modal_lexi = {\n",
    "     \"AALL\": {\"spk-spk\": [(5,6,4), (17,18,16)] },  # spk-spk : Audio - spoken word - a word (a word spoken) \n",
    "     \"AALN\": {\"spk-snd\": [(11,6,10),(23,18,22)] }, # spk-snd : Audio - spoken word - a non word (Bell, dog, water, knock, drum, )\n",
    "     \"AANL\": {\"snd-spk\": [(5,12,4), (17,24,16)] }, # snd-spk : Audio - sound - a word\n",
    "     \"AANN\": {\"snd-snd\": [(11,12,10), (23,24,22)] }, \n",
    "     \"AVLL\": {\"spk-wrd\": [(2,6,1),(14,18,13)] },\n",
    "     \"AVNN\": {\"snd-pic\": [(8,12,7), (20,24,19)] },\n",
    "     \"VALL\": {\"wrd-spk\": [(5,3,4), (17,15,16)] },\n",
    "     \"VANN\": {\"pic-snd\": [(11,9,10), (23,21,22)] },\n",
    "     \"VVLL\": {\"wrd-wrd\": [(2,3,1), (14,15,13)] },\n",
    "     \"VVLN\": {\"wrd-pic\": [(8,3,7), (20,15,19)] },\n",
    "     \"VVNL\": {\"pic-wrd\": [(2,9,1), (14,21,13)] },\n",
    "     \"VVNN\": {\"pic-pic\": [(8,9,7), (20,21,19)]}\n",
    "}"
   ]
  },
  {
   "cell_type": "code",
   "execution_count": 4,
   "metadata": {},
   "outputs": [],
   "source": [
    "# path = 'E:\\EpochedEEG'\n",
    "# epoch_files = os.listdir(path)"
   ]
  },
  {
   "cell_type": "code",
   "execution_count": 61,
   "metadata": {},
   "outputs": [
    {
     "name": "stdout",
     "output_type": "stream",
     "text": [
      "Reading E:\\EpochedEEG\\20131216_1441_epo.fif ...\n",
      "    Found the data of interest:\n",
      "        t =    -199.22 ...     500.00 ms\n",
      "        0 CTF compensation matrices available\n",
      "5424 matching events found\n",
      "Applying baseline correction (mode: mean)\n",
      "5424 matching events found\n",
      "Applying baseline correction (mode: mean)\n",
      "Not setting metadata\n",
      "0 projection items activated\n"
     ]
    }
   ],
   "source": [
    "# epoch_file = os.path.join(path, epoch_files[0])\n",
    "# epoch = mne.read_epochs(epoch_file,preload= True)"
   ]
  },
  {
   "cell_type": "code",
   "execution_count": 37,
   "metadata": {},
   "outputs": [],
   "source": [
    "# keys_to_rename = [x for x in epoch.event_id if 'stim' in x]"
   ]
  },
  {
   "cell_type": "code",
   "execution_count": 39,
   "metadata": {},
   "outputs": [
    {
     "data": {
      "text/plain": [
       "['flanker_stim_1', 'flanker_stim_2']"
      ]
     },
     "execution_count": 39,
     "metadata": {},
     "output_type": "execute_result"
    }
   ],
   "source": [
    "# keys_to_rename[:2]"
   ]
  },
  {
   "cell_type": "code",
   "execution_count": 63,
   "metadata": {},
   "outputs": [],
   "source": [
    "def update_stim_code_event_ids(epoch_object):\n",
    "    keys_to_delete = [x for x in epoch_object.event_id if 'stim' in x]\n",
    "    \n",
    "    for key in keys_to_delete:\n",
    "        if key in epoch_object.event_id.keys():\n",
    "            del epoch_object.event_id[key]\n",
    "            \n",
    "    for key in new_stim_code_event_ids:\n",
    "        epoch_object.event_id[key] = new_stim_code_event_ids[key]\n",
    "    return epoch_object"
   ]
  },
  {
   "cell_type": "code",
   "execution_count": 64,
   "metadata": {},
   "outputs": [],
   "source": [
    "# epochs = update_stim_code_event_ids(epoch)"
   ]
  },
  {
   "cell_type": "code",
   "execution_count": 65,
   "metadata": {},
   "outputs": [
    {
     "data": {
      "text/plain": [
       "{'trail_start': 31,\n",
       " 'left_button': 131,\n",
       " 'right_button': 132,\n",
       " 'congruent': 133,\n",
       " 'incongruent': 134,\n",
       " 'correct': 129,\n",
       " 'incorrect': 130,\n",
       " 't_baby': 135,\n",
       " 't_bell': 136,\n",
       " 't_bird': 137,\n",
       " 't_burp': 138,\n",
       " 't_dog': 139,\n",
       " 't_drum': 140,\n",
       " 't_knock': 141,\n",
       " 't_laugh': 142,\n",
       " 't_phone': 143,\n",
       " 't_train': 144,\n",
       " 't_water': 145,\n",
       " 'f_baby': 155,\n",
       " 'f_bell': 156,\n",
       " 'f_bird': 157,\n",
       " 'f_burp': 158,\n",
       " 'f_dog': 159,\n",
       " 'f_drum': 160,\n",
       " 'f_knock': 161,\n",
       " 'f_laugh': 162,\n",
       " 'f_phone': 163,\n",
       " 'f_train': 164,\n",
       " 'f_water': 165,\n",
       " 'b-f2-wrd': 1,\n",
       " 'b-f1-wrd': 2,\n",
       " 'b-tg-wrd': 3,\n",
       " 'b-f2-spk': 4,\n",
       " 'b-f1-spk': 5,\n",
       " 'b-tg-spk': 6,\n",
       " 'b-f2-pic': 7,\n",
       " 'b-f1-pic': 8,\n",
       " 'b-tg-pic': 9,\n",
       " 'b-f2-snd': 10,\n",
       " 'b-f1-snd': 11,\n",
       " 'b-tg-snd': 12,\n",
       " 'f-f2-wrd': 13,\n",
       " 'f-f1-wrd': 14,\n",
       " 'f-tg-wrd': 15,\n",
       " 'f-f2-spk': 16,\n",
       " 'f-f1-spk': 17,\n",
       " 'f-tg-spk': 18,\n",
       " 'f-f2-pic': 19,\n",
       " 'f-f1-pic': 20,\n",
       " 'f-tg-pic': 21,\n",
       " 'f-f2-snd': 22,\n",
       " 'f-f1-snd': 23,\n",
       " 'f-tg-snd': 24}"
      ]
     },
     "execution_count": 65,
     "metadata": {},
     "output_type": "execute_result"
    }
   ],
   "source": [
    "# epochs.event_id"
   ]
  },
  {
   "cell_type": "code",
   "execution_count": 45,
   "metadata": {},
   "outputs": [
    {
     "data": {
      "text/plain": [
       "'b-f2-wrd'"
      ]
     },
     "execution_count": 45,
     "metadata": {},
     "output_type": "execute_result"
    }
   ],
   "source": [
    "# new_stim_code_event_ids[int(key.split(\"_\")[-1])]"
   ]
  },
  {
   "cell_type": "code",
   "execution_count": 49,
   "metadata": {},
   "outputs": [],
   "source": [
    "# epoch.event_id['b-f2-wrd'] = epoch.event_id['flanker_stim_1']\n",
    "# del epoch.event_id['flanker_stim_1']"
   ]
  },
  {
   "cell_type": "code",
   "execution_count": 50,
   "metadata": {},
   "outputs": [
    {
     "data": {
      "text/plain": [
       "{'trail_start': 31,\n",
       " 'left_button': 131,\n",
       " 'right_button': 132,\n",
       " 'congruent': 133,\n",
       " 'incongruent': 134,\n",
       " 'correct': 129,\n",
       " 'incorrect': 130,\n",
       " 't_baby': 135,\n",
       " 't_bell': 136,\n",
       " 't_bird': 137,\n",
       " 't_burp': 138,\n",
       " 't_dog': 139,\n",
       " 't_drum': 140,\n",
       " 't_knock': 141,\n",
       " 't_laugh': 142,\n",
       " 't_phone': 143,\n",
       " 't_train': 144,\n",
       " 't_water': 145,\n",
       " 'f_baby': 155,\n",
       " 'f_bell': 156,\n",
       " 'f_bird': 157,\n",
       " 'f_burp': 158,\n",
       " 'f_dog': 159,\n",
       " 'f_drum': 160,\n",
       " 'f_knock': 161,\n",
       " 'f_laugh': 162,\n",
       " 'f_phone': 163,\n",
       " 'f_train': 164,\n",
       " 'f_water': 165,\n",
       " 'flanker_stim_2': 'b-f1-wrd',\n",
       " 'flanker_stim_3': 'b-tg-wrd',\n",
       " 'flanker_stim_4': 'b-f2-spk',\n",
       " 'flanker_stim_5': 'b-f1-spk',\n",
       " 'flanker_stim_6': 'b-tg-spk',\n",
       " 'flanker_stim_7': 'b-f2-pic',\n",
       " 'flanker_stim_8': 'b-f1-pic',\n",
       " 'flanker_stim_9': 'b-tg-pic',\n",
       " 'flanker_stim_10': 'b-f2-snd',\n",
       " 'flanker_stim_11': 'b-f1-snd',\n",
       " 'flanker_stim_12': 'b-tg-snd',\n",
       " 'target_stim_13': 'f-f2-wrd',\n",
       " 'target_stim_14': 'f-f1-wrd',\n",
       " 'target_stim_15': 'f-tg-wrd',\n",
       " 'target_stim_16': 'f-f2-spk',\n",
       " 'target_stim_17': 'f-f1-spk',\n",
       " 'target_stim_18': 'f-tg-spk',\n",
       " 'target_stim_19': 'f-f2-pic',\n",
       " 'target_stim_20': 'f-f1-pic',\n",
       " 'target_stim_21': 'f-tg-pic',\n",
       " 'target_stim_22': 'f-f2-snd',\n",
       " 'target_stim_23': 'f-f1-snd',\n",
       " 'target_stim_24': 'f-tg-snd',\n",
       " 'b-f2-wrd': 'b-f2-wrd'}"
      ]
     },
     "execution_count": 50,
     "metadata": {},
     "output_type": "execute_result"
    }
   ],
   "source": [
    "# epoch.event_id"
   ]
  },
  {
   "cell_type": "code",
   "execution_count": null,
   "metadata": {},
   "outputs": [],
   "source": []
  }
 ],
 "metadata": {
  "kernelspec": {
   "display_name": "Python 3",
   "language": "python",
   "name": "python3"
  },
  "language_info": {
   "codemirror_mode": {
    "name": "ipython",
    "version": 3
   },
   "file_extension": ".py",
   "mimetype": "text/x-python",
   "name": "python",
   "nbconvert_exporter": "python",
   "pygments_lexer": "ipython3",
   "version": "3.6.7"
  }
 },
 "nbformat": 4,
 "nbformat_minor": 2
}
