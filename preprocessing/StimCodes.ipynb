{
 "cells": [
  {
   "cell_type": "markdown",
   "metadata": {},
   "source": [
    "# Stim Codes\n",
    "\n",
    "* This notebook will define and incorporate the event_ids from 1 - 24. These were previously undefined, but after looking the files in the raw data folders provided by Dave Britton, it was discovered that each subject had a text file with the following naming conventions _XXXX201402051154.txt_. These files contained more descriptive definitions for stim codes 1-24. \n"
   ]
  },
  {
   "cell_type": "code",
   "execution_count": 3,
   "metadata": {},
   "outputs": [],
   "source": [
    "import mne\n",
    "import os"
   ]
  },
  {
   "cell_type": "markdown",
   "metadata": {},
   "source": [
    "### Stim code definitions"
   ]
  },
  {
   "cell_type": "code",
   "execution_count": 25,
   "metadata": {},
   "outputs": [],
   "source": [
    "stim_codes = {\n",
    "    \n",
    "    1: {\"con\":\"b/0\", \"pos\":\"f2/0\", \"stim\":\"wrd/0\" },\n",
    "    2: {\"con\":\"b/0\", \"pos\":\"f1/1\", \"stim\":\"wrd/0\" },\n",
    "    3: {\"con\":\"b/0\", \"pos\":\"tg/2\", \"stim\":\"wrd/0\" },\n",
    "\n",
    "    4: {\"con\":\"b/0\", \"pos\":\"f2/0\", \"stim\":\"spk/1\" },\n",
    "    5: {\"con\":\"b/0\", \"pos\":\"f1/1\", \"stim\":\"spk/1\" },\n",
    "    6: {\"con\":\"b/0\", \"pos\":\"tg/2\", \"stim\":\"spk/1\" },\n",
    "\n",
    "    7: {\"con\":\"b/0\", \"pos\":\"f2/0\",\"stim\":\"pic/2\" },\n",
    "    8: {\"con\":\"b/0\", \"pos\":\"f1/1\",\"stim\":\"pic/2\" },\n",
    "    9: {\"con\":\"b/0\", \"pos\":\"tg/2\",\"stim\":\"pic/2\" },\n",
    "\n",
    "    10: {\"con\":\"b/0\", \"pos\":\"f2/0\",\"stim\":\"snd/3\" },\n",
    "    11: {\"con\":\"b/0\", \"pos\":\"f1/1\",\"stim\":\"snd/3\" },\n",
    "    12: {\"con\":\"b/0\", \"pos\":\"tg/2\",\"stim\":\"snd/3\" },\n",
    "\n",
    "    13: {\"con\":\"f/1\", \"pos\":\"f2/0\",\"stim\":\"wrd/0\" },\n",
    "    14: {\"con\":\"f/1\", \"pos\":\"f1/1\",\"stim\":\"wrd/0\" },\n",
    "    15: {\"con\":\"f/1\", \"pos\":\"tg/2\",\"stim\":\"wrd/0\" },\n",
    "\n",
    "    16: {\"con\":\"f/1\", \"pos\":\"f2/0\",\"stim\":\"spk/1\" },\n",
    "    17: {\"con\":\"f/1\", \"pos\":\"f1/1\",\"stim\":\"spk/1\" },\n",
    "    18: {\"con\":\"f/1\", \"pos\":\"tg/2\",\"stim\":\"spk/1\" },\n",
    "\n",
    "    19: {\"con\":\"f/1\", \"pos\":\"f2/0\",\"stim\":\"pic/2\" },\n",
    "    20: {\"con\":\"f/1\", \"pos\":\"f1/1\",\"stim\":\"pic/2\" },\n",
    "    21: {\"con\":\"f/1\", \"pos\":\"tg/2\",\"stim\":\"pic/2\" },\n",
    "\n",
    "    22: {\"con\":\"f/1\", \"pos\":\"f2/0\",\"stim\":\"snd/3\" },\n",
    "    23: {\"con\":\"f/1\", \"pos\":\"f1/1\",\"stim\":\"snd/3\" },\n",
    "    24: {\"con\":\"f/1\", \"pos\":\"tg/2\",\"stim\": \"snd/3\" }\n",
    "}"
   ]
  },
  {
   "cell_type": "code",
   "execution_count": 27,
   "metadata": {},
   "outputs": [],
   "source": [
    "Mode_lexi = {\n",
    "     \"AALL\": {\"spk-spk\": [(5,6,4), (17,18,16)] },  # spk-spk : Audio - spoken word - a word (a word spoken) \n",
    "     \"AALN\": {\"spk-snd\": [(11,6,10),(23,18,22)] }, # spk-snd : Audio - spoken word - a non word (Bell, dog, water, knock, drum, )\n",
    "     \"AANL\": {\"snd-spk\": [(5,12,4), (17,24,16)] }, # snd-spk : Audio - sound - a word\n",
    "     \"AANN\": {\"snd-snd\": [(11,12,10), (23,24,22)] }, \n",
    "     \"AVLL\": {\"spk-wrd\": [(2,6,1),(14,18,13)] },\n",
    "     \"AVNN\": {\"snd-pic\": [(8,12,7), (20,24,7)] },\n",
    "     \"VALL\": {\"wrd-spk\": [(5,3,4), (17,15,16)] },\n",
    "     \"VANN\": {\"pic-snd\": [(11,9,10), (23,21,22)] },\n",
    "     \"VVLL\": {\"wrd-wrd\": [(2,3,1), (14,15,13)] },\n",
    "     \"VVLN\": {\"wrd-pic\": [(8,3,7), (20,15,19)] },\n",
    "     \"VVNL\": {\"pic-wrd\": [(2,9,1), (14,21,13)] },\n",
    "     \"VVNN\": {\"pic-pic\": [(8,9,7), (20,21,19)]}\n",
    "}"
   ]
  },
  {
   "cell_type": "code",
   "execution_count": 4,
   "metadata": {},
   "outputs": [],
   "source": [
    "path = 'E:\\EpochedEEG'\n",
    "epoch_files = os.listdir(path)"
   ]
  },
  {
   "cell_type": "code",
   "execution_count": 5,
   "metadata": {},
   "outputs": [
    {
     "name": "stdout",
     "output_type": "stream",
     "text": [
      "Reading E:\\EpochedEEG\\20131216_1441_epo.fif ...\n",
      "    Found the data of interest:\n",
      "        t =    -199.22 ...     500.00 ms\n",
      "        0 CTF compensation matrices available\n",
      "5424 matching events found\n",
      "Applying baseline correction (mode: mean)\n",
      "5424 matching events found\n",
      "Applying baseline correction (mode: mean)\n",
      "Not setting metadata\n",
      "0 projection items activated\n"
     ]
    }
   ],
   "source": [
    "epoch_file = os.path.join(path, epoch_files[0])\n",
    "epoch = mne.read_epochs(epoch_file,preload= True)"
   ]
  },
  {
   "cell_type": "code",
   "execution_count": null,
   "metadata": {},
   "outputs": [],
   "source": []
  }
 ],
 "metadata": {
  "kernelspec": {
   "display_name": "Python 3",
   "language": "python",
   "name": "python3"
  },
  "language_info": {
   "codemirror_mode": {
    "name": "ipython",
    "version": 3
   },
   "file_extension": ".py",
   "mimetype": "text/x-python",
   "name": "python",
   "nbconvert_exporter": "python",
   "pygments_lexer": "ipython3",
   "version": "3.6.6"
  }
 },
 "nbformat": 4,
 "nbformat_minor": 2
}
