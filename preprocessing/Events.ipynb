{
 "cells": [
  {
   "cell_type": "code",
   "execution_count": 3,
   "metadata": {},
   "outputs": [],
   "source": [
    "# Add events to .set EEGLAB files"
   ]
  },
  {
   "cell_type": "code",
   "execution_count": 58,
   "metadata": {},
   "outputs": [],
   "source": [
    "import mne\n",
    "import os\n",
    "import numpy as np"
   ]
  },
  {
   "cell_type": "code",
   "execution_count": 2,
   "metadata": {},
   "outputs": [],
   "source": [
    "path = 'D:\\EEGLAB\\SA20140304'\n",
    "trg_path = 'D:\\EEGLAB\\SA20140304\\20140304_1418_trg.txt'\n",
    "eeglab_files = os.listdir(path)"
   ]
  },
  {
   "cell_type": "code",
   "execution_count": 3,
   "metadata": {},
   "outputs": [
    {
     "name": "stdout",
     "output_type": "stream",
     "text": [
      "Reading D:\\EEGLAB\\SA20140304\\20140304_1418.fdt\n",
      "Reading 0 ... 1273369  =      0.000 ...  2487.049 secs...\n"
     ]
    }
   ],
   "source": [
    "# read file\n",
    "eeglab_file = os.path.join(path, eeglab_files[1])\n",
    "raw = mne.io.read_raw_eeglab(eeglab_file, preload=True)"
   ]
  },
  {
   "cell_type": "code",
   "execution_count": null,
   "metadata": {},
   "outputs": [],
   "source": [
    "# event_id : this dictionary is created from information from Dave's dissertation page 27\n",
    "    concepts={1:'BABY',2:'BELL',3:'BIRD',4:'BURP',5:'DOG',6:'DRUM',\n",
    "              7:'KNOCK',8:'LAUGH',9:'PHONE',10:'TRAIN',11:'WATER'}\n",
    "\n",
    "event_id = {'trail_start':  31, \n",
    "            'left_button':  131, \n",
    "            'right_button': 132,\n",
    "            'congruent':    133,\n",
    "            'incongruent':  134,\n",
    "            'correct':      129,\n",
    "            'incorrect':    130,\n",
    "            't_baby' :        135,\n",
    "            't_bell':         136,\n",
    "            't_bird':         137,\n",
    "            't_burp':         138,\n",
    "            't_dog':          139,\n",
    "            't_drum':         140,\n",
    "            't_knock':        141,\n",
    "            't_laugh':        142,\n",
    "            't_phone':        143,\n",
    "            't_train':        144,\n",
    "            't_water':        145,\n",
    "            \n",
    "            'f_baby' :        155,\n",
    "            'f_bell':         156,\n",
    "            'f_bird':         157,\n",
    "            'f_burp':         158,\n",
    "            'f_dog':          159,\n",
    "            'f_drum':         160,\n",
    "            'f_knock':        161,\n",
    "            'f_laugh':        162,\n",
    "            'f_phone':        163,\n",
    "            'f_train':        164,\n",
    "            'f_water':        165,\n",
    "}"
   ]
  },
  {
   "cell_type": "code",
   "execution_count": 4,
   "metadata": {},
   "outputs": [
    {
     "data": {
      "text/plain": [
       "['20140304_1418.fdt',\n",
       " '20140304_1418.set',\n",
       " '20140304_1614.fdt',\n",
       " '20140304_1614.set',\n",
       " '20140304_1614_trg.txt',\n",
       " '20140304_1418_trg.txt']"
      ]
     },
     "execution_count": 4,
     "metadata": {},
     "output_type": "execute_result"
    }
   ],
   "source": [
    "eeglab_files"
   ]
  },
  {
   "cell_type": "code",
   "execution_count": 31,
   "metadata": {},
   "outputs": [],
   "source": [
    "# read .trg file\n",
    "file = open(os.path.join(path, eeglab_files[-1]), 'r')"
   ]
  },
  {
   "cell_type": "code",
   "execution_count": 32,
   "metadata": {},
   "outputs": [],
   "source": [
    "line_list = []\n",
    "for line in file:\n",
    "    line_list.append(line.split())"
   ]
  },
  {
   "cell_type": "code",
   "execution_count": 75,
   "metadata": {},
   "outputs": [],
   "source": [
    "header = line_list[:1]\n",
    "line_list = line_list[1:]\n",
    "events = []\n",
    "line_list[0][-1] = '0'\n",
    "for list in line_list:\n",
    "    a, b,c = list\n",
    "#     print(list)\n",
    "    events.append([float (a), int (b), int(c)])"
   ]
  },
  {
   "cell_type": "code",
   "execution_count": 62,
   "metadata": {},
   "outputs": [],
   "source": [
    "events = np.array(events)"
   ]
  },
  {
   "cell_type": "code",
   "execution_count": 36,
   "metadata": {},
   "outputs": [
    {
     "data": {
      "text/plain": [
       "7966"
      ]
     },
     "execution_count": 36,
     "metadata": {},
     "output_type": "execute_result"
    }
   ],
   "source": [
    "len(events)"
   ]
  },
  {
   "cell_type": "code",
   "execution_count": 76,
   "metadata": {},
   "outputs": [],
   "source": [
    "# raw.add_events((len(events),events[:,-1]))"
   ]
  },
  {
   "cell_type": "code",
   "execution_count": 59,
   "metadata": {},
   "outputs": [],
   "source": [
    "events = np.array(events)"
   ]
  },
  {
   "cell_type": "code",
   "execution_count": 72,
   "metadata": {},
   "outputs": [
    {
     "data": {
      "text/plain": [
       "array([  0.,   1.,   2.,   3.,   4.,   5.,   6.,   7.,   8.,   9.,  10.,\n",
       "        11.,  12.,  13.,  14.,  15.,  16.,  17.,  18.,  19.,  20.,  21.,\n",
       "        22.,  23.,  24.,  31., 128., 129., 130., 131., 132., 133., 134.,\n",
       "       135., 136., 137., 138., 139., 140., 141., 142., 143., 144., 145.,\n",
       "       155., 156., 157., 158., 159., 160., 161., 162., 163., 164., 165.])"
      ]
     },
     "execution_count": 72,
     "metadata": {},
     "output_type": "execute_result"
    }
   ],
   "source": [
    "np.unique(events[:,-1])"
   ]
  }
 ],
 "metadata": {
  "kernelspec": {
   "display_name": "Python 3",
   "language": "python",
   "name": "python3"
  },
  "language_info": {
   "codemirror_mode": {
    "name": "ipython",
    "version": 3
   },
   "file_extension": ".py",
   "mimetype": "text/x-python",
   "name": "python",
   "nbconvert_exporter": "python",
   "pygments_lexer": "ipython3",
   "version": "3.6.6"
  }
 },
 "nbformat": 4,
 "nbformat_minor": 2
}
