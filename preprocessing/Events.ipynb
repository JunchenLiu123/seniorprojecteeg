{
 "cells": [
  {
   "cell_type": "code",
   "execution_count": 3,
   "metadata": {},
   "outputs": [],
   "source": [
    "# Add events to .set EEGLAB files"
   ]
  },
  {
   "cell_type": "code",
   "execution_count": 2,
   "metadata": {},
   "outputs": [],
   "source": [
    "import mne\n",
    "import os\n",
    "import numpy as np\n",
    "import matplotlib.pyplot as plt\n",
    "%matplotlib inline\n",
    "import matplotlib\n",
    "matplotlib.rcParams['figure.figsize'] = (15.0, 10.0)\n",
    "matplotlib.rcParams.update({'font.size': 15})\n",
    "\n",
    "import time"
   ]
  },
  {
   "cell_type": "code",
   "execution_count": 18,
   "metadata": {},
   "outputs": [],
   "source": [
    "path = 'E:\\StroopEEG'\n",
    "trg_path = 'D:\\EEGLAB\\SA20140304\\20140304_1418_trg.txt'\n",
    "eeglab_files = os.listdir(path)"
   ]
  },
  {
   "cell_type": "code",
   "execution_count": 19,
   "metadata": {},
   "outputs": [
    {
     "data": {
      "text/plain": [
       "['SA20131216',\n",
       " 'SA20140304',\n",
       " 'SA20140306',\n",
       " 'SA20140313',\n",
       " 'SA20140314',\n",
       " 'SA20140318',\n",
       " 'SA20140319',\n",
       " 'SA20140320A',\n",
       " 'SA20140320B',\n",
       " 'SA20140324',\n",
       " 'SA20140325',\n",
       " 'SA20140327',\n",
       " 'SA20140331']"
      ]
     },
     "execution_count": 19,
     "metadata": {},
     "output_type": "execute_result"
    }
   ],
   "source": [
    "eeglab_files = [x for x in eeglab_files if '.zip' not in x]\n",
    "eeglab_files"
   ]
  },
  {
   "cell_type": "code",
   "execution_count": 20,
   "metadata": {},
   "outputs": [],
   "source": [
    "def search_folders(path, listdir):\n",
    "    dict = {}\n",
    "    for dir in listdir:\n",
    "        folder_path = os.path.join(path, dir)\n",
    "        contents = os.listdir(folder_path)\n",
    "        dict[dir] = [x for x in contents if '.set' in x]\n",
    "    return dict"
   ]
  },
  {
   "cell_type": "code",
   "execution_count": 21,
   "metadata": {},
   "outputs": [
    {
     "data": {
      "text/plain": [
       "{'SA20131216': ['20131216_1310.set', '20131216_1441.set'],\n",
       " 'SA20140304': ['20140304_1418.set', '20140304_1614.set'],\n",
       " 'SA20140306': ['20140306_1133.set', '20140306_1338.set'],\n",
       " 'SA20140313': ['20140313_1439.set', '20140313_1630.set'],\n",
       " 'SA20140314': ['20140314_1424.set', '20140314_1553.set'],\n",
       " 'SA20140318': ['20140318_1043.set', '20140318_1211.set'],\n",
       " 'SA20140319': ['20140319_1043.set', '20140319_1342.set'],\n",
       " 'SA20140320A': ['20140320_1040.set', '20140320_1156.set'],\n",
       " 'SA20140320B': ['20140320_1421.set', '20140320_1543.set'],\n",
       " 'SA20140324': ['20140324_1441.set', '20140324_1553.set'],\n",
       " 'SA20140325': ['20140325_1007.set', '20140325_1144.set'],\n",
       " 'SA20140327': ['20140327_1022.set', '20140327_1241.set'],\n",
       " 'SA20140331': ['20140331_1753.set']}"
      ]
     },
     "execution_count": 21,
     "metadata": {},
     "output_type": "execute_result"
    }
   ],
   "source": [
    "eeglab_dict = search_folders(path, eeglab_files)\n",
    "eeglab_dict"
   ]
  },
  {
   "cell_type": "code",
   "execution_count": 22,
   "metadata": {},
   "outputs": [
    {
     "name": "stdout",
     "output_type": "stream",
     "text": [
      "Reading E:\\StroopEEG\\SA20140304\\20140304_1418.fdt\n",
      "Reading 0 ... 1273369  =      0.000 ...  2487.049 secs...\n"
     ]
    }
   ],
   "source": [
    "# read file\n",
    "np.random.seed(42)\n",
    "eeglab_dict_keys = list(eeglab_dict.keys())\n",
    "eeglab_folder = os.path.join(path,eeglab_dict_keys[1])\n",
    "\n",
    "eeglab_file = os.path.join(eeglab_folder, eeglab_dict[eeglab_dict_keys[1]][0])\n",
    "raw = mne.io.read_raw_eeglab(eeglab_file, preload=True, verbose = True)"
   ]
  },
  {
   "cell_type": "code",
   "execution_count": 23,
   "metadata": {},
   "outputs": [
    {
     "data": {
      "text/plain": [
       "<Info | 17 non-empty fields\n",
       "    bads : list | 0 items\n",
       "    buffer_size_sec : float | 1.0\n",
       "    ch_names : list | Lm, LE1, Nasium, LE3, LD2, LD5, LC3, LC6, LB1, ...\n",
       "    chs : list | 129 items (EEG: 128, STIM: 1)\n",
       "    comps : list | 0 items\n",
       "    custom_ref_applied : bool | False\n",
       "    dev_head_t : Transform | 3 items\n",
       "    dig : list | 128 items\n",
       "    events : list | 0 items\n",
       "    highpass : float | 0.0 Hz\n",
       "    hpi_meas : list | 0 items\n",
       "    hpi_results : list | 0 items\n",
       "    lowpass : float | 256.0 Hz\n",
       "    nchan : int | 129\n",
       "    proc_history : list | 0 items\n",
       "    projs : list | 0 items\n",
       "    sfreq : float | 512.0 Hz\n",
       "    acq_pars : NoneType\n",
       "    acq_stim : NoneType\n",
       "    ctf_head_t : NoneType\n",
       "    description : NoneType\n",
       "    dev_ctf_t : NoneType\n",
       "    experimenter : NoneType\n",
       "    file_id : NoneType\n",
       "    gantry_angle : NoneType\n",
       "    hpi_subsystem : NoneType\n",
       "    kit_system_id : NoneType\n",
       "    line_freq : NoneType\n",
       "    meas_date : NoneType\n",
       "    meas_id : NoneType\n",
       "    proj_id : NoneType\n",
       "    proj_name : NoneType\n",
       "    subject_info : NoneType\n",
       "    xplotter_layout : NoneType\n",
       ">"
      ]
     },
     "execution_count": 23,
     "metadata": {},
     "output_type": "execute_result"
    }
   ],
   "source": [
    "raw.info"
   ]
  },
  {
   "cell_type": "code",
   "execution_count": 24,
   "metadata": {},
   "outputs": [
    {
     "name": "stdout",
     "output_type": "stream",
     "text": [
      "7932 events found\n",
      "Event IDs: [  1   2   3   4   5   6   7   8   9  10  11  12  13  14  15  16  17  18\n",
      "  19  20  21  22  23  24  31 128 129 130 131 132 133 134 135 136 137 138\n",
      " 139 140 141 142 143 144 145 155 156 157 158 159 160 161 162 163 164 165]\n"
     ]
    },
    {
     "data": {
      "text/plain": [
       "array([[   5552,       0,     131],\n",
       "       [   5880,       0,      31],\n",
       "       [   5882,       0,     135],\n",
       "       ...,\n",
       "       [1257018,       0,     131],\n",
       "       [1257241,       0,     134],\n",
       "       [1257244,       0,     129]], dtype=int64)"
      ]
     },
     "execution_count": 24,
     "metadata": {},
     "output_type": "execute_result"
    }
   ],
   "source": [
    "events = mne.find_events(raw, min_duration=1/raw.info['sfreq'], shortest_event=1)\n",
    "events"
   ]
  },
  {
   "cell_type": "code",
   "execution_count": 25,
   "metadata": {},
   "outputs": [],
   "source": [
    "# event_id : this dictionary is created from information from Dave's dissertation page 27\n",
    "concepts={1:'BABY',2:'BELL',3:'BIRD',4:'BURP',5:'DOG',6:'DRUM',\n",
    "              7:'KNOCK',8:'LAUGH',9:'PHONE',10:'TRAIN',11:'WATER'}\n",
    "\n",
    "event_id = {'trail_start':  31, \n",
    "            'left_button':  131, \n",
    "            'right_button': 132,\n",
    "            'congruent':    133,\n",
    "            'incongruent':  134,\n",
    "            'correct':      129,\n",
    "            'incorrect':    130,\n",
    "            # targets\n",
    "            't_baby' :        135,\n",
    "            't_bell':         136,\n",
    "            't_bird':         137,\n",
    "            't_burp':         138,\n",
    "            't_dog':          139,\n",
    "            't_drum':         140,\n",
    "            't_knock':        141,\n",
    "            't_laugh':        142,\n",
    "            't_phone':        143,\n",
    "            't_train':        144,\n",
    "            't_water':        145,\n",
    "            #flankers\n",
    "            'f_baby' :        155,\n",
    "            'f_bell':         156,\n",
    "            'f_bird':         157,\n",
    "            'f_burp':         158,\n",
    "            'f_dog':          159,\n",
    "            'f_drum':         160,\n",
    "            'f_knock':        161,\n",
    "            'f_laugh':        162,\n",
    "            'f_phone':        163,\n",
    "            'f_train':        164,\n",
    "            'f_water':        165,\n",
    "            \n",
    "}\n",
    "# event codes 1 - 24 represent flanker and target stim codes. They are NOT explicity defined in dissertation.\n",
    "for i in range(1,13):\n",
    "    event_id[\"flanker_stim_{0}\".format(i)] = i\n",
    "    \n",
    "for j in range(13, 25):\n",
    "    event_id[\"target_stim_{0}\".format(j)] = j"
   ]
  },
  {
   "cell_type": "code",
   "execution_count": null,
   "metadata": {},
   "outputs": [],
   "source": [
    "def get_events(raw_eeglab):\n",
    "    \"\"\"\n",
    "    raw_eeglab: raw mne.eeglab object\n",
    "    ---\n",
    "    return: 3d np.array of events  \n",
    "    \"\"\"\n",
    "    return mne.find_events(raw_ica, min_duration=1/raw.info['sfreq'], shortest_event= 1.5, initial_event=True)"
   ]
  },
  {
   "cell_type": "code",
   "execution_count": 1,
   "metadata": {},
   "outputs": [],
   "source": [
    "# method to build trials from events\n",
    "def extract_trials(events):\n",
    "    \"\"\"raw_eeglab: mne.raw_eeglab\n",
    "    \n",
    "       return : np.array of lists  \n",
    "    \"\"\"\n",
    "    trials = []\n",
    "    event_trial = []\n",
    "    for event in events:\n",
    "        if event[-1] == 31 and event_trial != []:\n",
    "            trials.append(event_trial)\n",
    "            event_trial = []\n",
    "            event_trial.append(event)\n",
    "        else:\n",
    "            event_trial.append(events)\n",
    "            \n",
    "    return event_trial"
   ]
  }
 ],
 "metadata": {
  "kernelspec": {
   "display_name": "Python 3",
   "language": "python",
   "name": "python3"
  },
  "language_info": {
   "codemirror_mode": {
    "name": "ipython",
    "version": 3
   },
   "file_extension": ".py",
   "mimetype": "text/x-python",
   "name": "python",
   "nbconvert_exporter": "python",
   "pygments_lexer": "ipython3",
   "version": "3.6.6"
  }
 },
 "nbformat": 4,
 "nbformat_minor": 2
}
