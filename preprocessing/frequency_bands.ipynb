{
 "cells": [
  {
   "cell_type": "code",
   "execution_count": 18,
   "metadata": {},
   "outputs": [
    {
     "name": "stderr",
     "output_type": "stream",
     "text": [
      "ERROR:root:File `'preprocecssing_helpers.ipynb.py'` not found.\n",
      "ERROR:root:File `'preprocecssing_helpers.ipynb.py'` not found.\n",
      "ERROR:root:File `'Batch_ArtifactFilter_Epoch.ipynb.py'` not found.\n",
      "ERROR:tornado.application:Exception in callback functools.partial(<function wrap.<locals>.null_wrapper at 0x0000027210B83BF8>)\n",
      "Traceback (most recent call last):\n",
      "  File \"C:\\Users\\Emmanuil\\Anaconda3\\envs\\mne\\lib\\site-packages\\tornado\\ioloop.py\", line 758, in _run_callback\n",
      "    ret = callback()\n",
      "  File \"C:\\Users\\Emmanuil\\Anaconda3\\envs\\mne\\lib\\site-packages\\tornado\\stack_context.py\", line 300, in null_wrapper\n",
      "    return fn(*args, **kwargs)\n",
      "  File \"C:\\Users\\Emmanuil\\Anaconda3\\envs\\mne\\lib\\site-packages\\ipykernel\\kernelbase.py\", line 306, in advance_eventloop\n",
      "    eventloop(self)\n",
      "TypeError: 'NoneType' object is not callable\n"
     ]
    }
   ],
   "source": [
    "# %run ../preprocessing/Artifact_Removal/preprocecssing_helpers.ipynb\n",
    "%run ../preprocessing/StimCodes.ipynb\n",
    "%run ../preprocessing/Artifact_Removal/Batch_ArtifactFilter_Epoch.ipynb\n",
    "%run ../Classification/ConcatEpochTrails.ipynb\n",
    "%run ../preprocessing/Artifact_Removal/Extract_Describer_Events.ipynb\n",
    "import os\n",
    "\n",
    "import mne\n",
    "from mne.baseline import rescale\n",
    "from mne.stats import _bootstrap_ci\n",
    "\n",
    "import numpy as np\n",
    "import matplotlib.pyplot as plt\n",
    "import matplotlib\n",
    "matplotlib.rcParams['figure.figsize'] = (20.0, 20.0)\n",
    "matplotlib.rcParams.update({'font.size': 15})"
   ]
  },
  {
   "cell_type": "code",
   "execution_count": 3,
   "metadata": {},
   "outputs": [],
   "source": [
    "path = 'D:\\stim_code_epochs'\n",
    "epoch_files = os.listdir(path)"
   ]
  },
  {
   "cell_type": "code",
   "execution_count": 4,
   "metadata": {},
   "outputs": [],
   "source": [
    "np.random.seed(42)\n",
    "n = np.random.randint(0,len(epoch_files))"
   ]
  },
  {
   "cell_type": "code",
   "execution_count": 5,
   "metadata": {},
   "outputs": [
    {
     "name": "stdout",
     "output_type": "stream",
     "text": [
      "Reading D:\\stim_code_epochs\\20140207_1219_epo.fif ...\n",
      "    Found the data of interest:\n",
      "        t =       0.00 ...    1949.22 ms\n",
      "        0 CTF compensation matrices available\n",
      "940 matching events found\n",
      "Applying baseline correction (mode: mean)\n",
      "940 matching events found\n",
      "Applying baseline correction (mode: mean)\n",
      "Not setting metadata\n",
      "0 projection items activated\n"
     ]
    }
   ],
   "source": [
    "epoch = mne.read_epochs(os.path.join(path, epoch_files[n]), preload = True)"
   ]
  },
  {
   "cell_type": "code",
   "execution_count": 6,
   "metadata": {},
   "outputs": [],
   "source": [
    "iter_freqs = [\n",
    "    ('Theta', 4, 7),\n",
    "    ('Alpha', 8, 12),\n",
    "    ('Beta', 13, 25),\n",
    "    ('Gamma', 30, 45)\n",
    "]"
   ]
  },
  {
   "cell_type": "code",
   "execution_count": 7,
   "metadata": {},
   "outputs": [
    {
     "name": "stdout",
     "output_type": "stream",
     "text": [
      "Reading D:\\stim_code_epochs\\20140207_1219_epo.fif ...\n",
      "    Found the data of interest:\n",
      "        t =       0.00 ...    1949.22 ms\n",
      "        0 CTF compensation matrices available\n",
      "940 matching events found\n",
      "Applying baseline correction (mode: mean)\n",
      "940 matching events found\n",
      "Applying baseline correction (mode: mean)\n",
      "Not setting metadata\n",
      "0 projection items activated\n",
      "Setting up band-pass filter from 4 - 7 Hz\n",
      "Filter length of 845 samples (3.301 sec) selected\n",
      "filter_length (845) is longer than the signal (500), distortion is likely. Reduce filter length or filter a longer signal.\n"
     ]
    },
    {
     "name": "stderr",
     "output_type": "stream",
     "text": [
      "<ipython-input-7-585b19868a9a>:9: RuntimeWarning: filter_length (845) is longer than the signal (500), distortion is likely. Reduce filter length or filter a longer signal.\n",
      "  fir_design = 'firwin')\n"
     ]
    },
    {
     "name": "stdout",
     "output_type": "stream",
     "text": [
      "Subtracting Evoked from Epochs\n",
      "    The following channels are not included in the subtraction: STI 014\n",
      "[done]\n",
      "940 matching events found\n",
      "No baseline correction applied\n",
      "Not setting metadata\n",
      "0 projection items activated\n",
      "0 bad epochs dropped\n",
      "Reading D:\\stim_code_epochs\\20140207_1219_epo.fif ...\n",
      "    Found the data of interest:\n",
      "        t =       0.00 ...    1949.22 ms\n",
      "        0 CTF compensation matrices available\n",
      "940 matching events found\n",
      "Applying baseline correction (mode: mean)\n",
      "940 matching events found\n",
      "Applying baseline correction (mode: mean)\n",
      "Not setting metadata\n",
      "0 projection items activated\n",
      "Setting up band-pass filter from 8 - 12 Hz\n",
      "Filter length of 845 samples (3.301 sec) selected\n",
      "filter_length (845) is longer than the signal (500), distortion is likely. Reduce filter length or filter a longer signal.\n"
     ]
    },
    {
     "name": "stderr",
     "output_type": "stream",
     "text": [
      "<ipython-input-7-585b19868a9a>:9: RuntimeWarning: filter_length (845) is longer than the signal (500), distortion is likely. Reduce filter length or filter a longer signal.\n",
      "  fir_design = 'firwin')\n"
     ]
    },
    {
     "name": "stdout",
     "output_type": "stream",
     "text": [
      "Subtracting Evoked from Epochs\n",
      "    The following channels are not included in the subtraction: STI 014\n",
      "[done]\n",
      "940 matching events found\n",
      "No baseline correction applied\n",
      "Not setting metadata\n",
      "0 projection items activated\n",
      "0 bad epochs dropped\n",
      "Reading D:\\stim_code_epochs\\20140207_1219_epo.fif ...\n",
      "    Found the data of interest:\n",
      "        t =       0.00 ...    1949.22 ms\n",
      "        0 CTF compensation matrices available\n",
      "940 matching events found\n",
      "Applying baseline correction (mode: mean)\n",
      "940 matching events found\n",
      "Applying baseline correction (mode: mean)\n",
      "Not setting metadata\n",
      "0 projection items activated\n",
      "Setting up band-pass filter from 13 - 25 Hz\n",
      "Filter length of 845 samples (3.301 sec) selected\n",
      "filter_length (845) is longer than the signal (500), distortion is likely. Reduce filter length or filter a longer signal.\n"
     ]
    },
    {
     "name": "stderr",
     "output_type": "stream",
     "text": [
      "<ipython-input-7-585b19868a9a>:9: RuntimeWarning: filter_length (845) is longer than the signal (500), distortion is likely. Reduce filter length or filter a longer signal.\n",
      "  fir_design = 'firwin')\n"
     ]
    },
    {
     "name": "stdout",
     "output_type": "stream",
     "text": [
      "Subtracting Evoked from Epochs\n",
      "    The following channels are not included in the subtraction: STI 014\n",
      "[done]\n",
      "940 matching events found\n",
      "No baseline correction applied\n",
      "Not setting metadata\n",
      "0 projection items activated\n",
      "0 bad epochs dropped\n",
      "Reading D:\\stim_code_epochs\\20140207_1219_epo.fif ...\n",
      "    Found the data of interest:\n",
      "        t =       0.00 ...    1949.22 ms\n",
      "        0 CTF compensation matrices available\n",
      "940 matching events found\n",
      "Applying baseline correction (mode: mean)\n",
      "940 matching events found\n",
      "Applying baseline correction (mode: mean)\n",
      "Not setting metadata\n",
      "0 projection items activated\n",
      "Setting up band-pass filter from 30 - 45 Hz\n",
      "Filter length of 845 samples (3.301 sec) selected\n",
      "filter_length (845) is longer than the signal (500), distortion is likely. Reduce filter length or filter a longer signal.\n"
     ]
    },
    {
     "name": "stderr",
     "output_type": "stream",
     "text": [
      "<ipython-input-7-585b19868a9a>:9: RuntimeWarning: filter_length (845) is longer than the signal (500), distortion is likely. Reduce filter length or filter a longer signal.\n",
      "  fir_design = 'firwin')\n"
     ]
    },
    {
     "name": "stdout",
     "output_type": "stream",
     "text": [
      "Subtracting Evoked from Epochs\n",
      "    The following channels are not included in the subtraction: STI 014\n",
      "[done]\n",
      "940 matching events found\n",
      "No baseline correction applied\n",
      "Not setting metadata\n",
      "0 projection items activated\n",
      "0 bad epochs dropped\n"
     ]
    }
   ],
   "source": [
    "frequency_map = list()\n",
    "frequency_data = list()\n",
    "for band, fmin, fmax in iter_freqs:\n",
    "    epoch = mne.read_epochs(os.path.join(path, epoch_files[n]), preload = True)\n",
    "    epoch.drop_channels(['Nasium','Lm','Rm','VEOG'])\n",
    "    filtered_epoch = epoch.filter(fmin, fmax, n_jobs=1,\n",
    "                                    l_trans_bandwidth = 1,\n",
    "                                    h_trans_bandwidth = 1,\n",
    "                                    fir_design = 'firwin')\n",
    "    filtered_epoch.subtract_evoked()\n",
    "    filtered_epoch = mne.EpochsArray(filtered_epoch.get_data(), info = filtered_epoch.info,\n",
    "                                      tmin = filtered_epoch.tmin)\n",
    "    frequency_map.append(((band,fmin,fmax), filtered_epoch.average()))\n",
    "    frequency_data.append(((band,fmin,fmax), filtered_epoch))\n",
    "    "
   ]
  },
  {
   "cell_type": "code",
   "execution_count": 8,
   "metadata": {},
   "outputs": [
    {
     "name": "stdout",
     "output_type": "stream",
     "text": [
      "Applying baseline correction (mode: mean)\n",
      "Applying baseline correction (mode: mean)\n",
      "Applying baseline correction (mode: mean)\n",
      "Applying baseline correction (mode: mean)\n",
      "Applying baseline correction (mode: mean)\n",
      "Applying baseline correction (mode: mean)\n",
      "Applying baseline correction (mode: mean)\n",
      "Applying baseline correction (mode: mean)\n",
      "Applying baseline correction (mode: mean)\n",
      "Applying baseline correction (mode: mean)\n",
      "Applying baseline correction (mode: mean)\n",
      "Applying baseline correction (mode: mean)\n"
     ]
    },
    {
     "data": {
      "text/plain": [
       "Text(0.5, 0, 'Time [ms]')"
      ]
     },
     "execution_count": 8,
     "metadata": {},
     "output_type": "execute_result"
    },
    {
     "data": {
      "image/png": "[encoded data removed]",
      "text/plain": [
       "<Figure size 720x504 with 4 Axes>"
      ]
     },
     "metadata": {
      "needs_background": "light"
     },
     "output_type": "display_data"
    }
   ],
   "source": [
    "fig, axes = plt.subplots(4, 1, figsize=(10, 7), sharex=True, sharey=True)\n",
    "colors = plt.get_cmap('winter_r')(np.linspace(0, 1, 4))\n",
    "for ((freq_name, fmin, fmax), average), color, ax in zip(\n",
    "        frequency_map, colors, axes.ravel()[::-1]):\n",
    "    times = average.times * 1e3\n",
    "    gfp = np.sum(average.data ** 2, axis=0)\n",
    "    gfp = mne.baseline.rescale(gfp, times, baseline=(None, 0))\n",
    "    ax.plot(times, gfp, label=freq_name, color=color, linewidth=2.5)\n",
    "    ax.axhline(0, linestyle='--', color='grey', linewidth=2)\n",
    "    ci_low, ci_up = _bootstrap_ci(average.data, random_state=0,\n",
    "                                  stat_fun=lambda x: np.sum(x ** 2, axis=0))\n",
    "    ci_low = rescale(ci_low, average.times, baseline=(None, 0))\n",
    "    ci_up = rescale(ci_up, average.times, baseline=(None, 0))\n",
    "    ax.fill_between(times, gfp + ci_up, gfp - ci_low, color=color, alpha=0.3)\n",
    "    ax.grid(True)\n",
    "    ax.set_ylabel('GFP')\n",
    "    ax.annotate('%s (%d-%dHz)' % (freq_name, fmin, fmax),\n",
    "                xy=(0.95, 0.8),\n",
    "                horizontalalignment='right',\n",
    "                xycoords='axes fraction')\n",
    "    ax.set_xlim(-1000, 3000)\n",
    "\n",
    "axes.ravel()[-1].set_xlabel('Time [ms]')"
   ]
  },
  {
   "cell_type": "code",
   "execution_count": 9,
   "metadata": {},
   "outputs": [],
   "source": [
    "gamma_epoch = frequency_data[- 1][-1]"
   ]
  },
  {
   "cell_type": "code",
   "execution_count": 20,
   "metadata": {},
   "outputs": [
    {
     "name": "stdout",
     "output_type": "stream",
     "text": [
      "events shape: (940, 3)\n",
      "\n",
      "(0, 1)\n"
     ]
    },
    {
     "ename": "ValueError",
     "evalue": "need at least one array to concatenate",
     "output_type": "error",
     "traceback": [
      "\u001b[1;31m---------------------------------------------------------------------------\u001b[0m",
      "\u001b[1;31mValueError\u001b[0m                                Traceback (most recent call last)",
      "\u001b[1;32m<ipython-input-20-04134a31337f>\u001b[0m in \u001b[0;36m<module>\u001b[1;34m\u001b[0m\n\u001b[0;32m      1\u001b[0m \u001b[1;31m# classify using gamma data and theta data because it has the most spikes\u001b[0m\u001b[1;33m\u001b[0m\u001b[1;33m\u001b[0m\u001b[1;33m\u001b[0m\u001b[0m\n\u001b[0;32m      2\u001b[0m \u001b[0mtrial_index_list\u001b[0m \u001b[1;33m=\u001b[0m \u001b[0mget_epoch_trials\u001b[0m\u001b[1;33m(\u001b[0m\u001b[0mgamma_epoch\u001b[0m\u001b[1;33m)\u001b[0m\u001b[1;33m\u001b[0m\u001b[1;33m\u001b[0m\u001b[0m\n\u001b[1;32m----> 3\u001b[1;33m \u001b[0mconvert_event_ids_to_stim_combinations\u001b[0m\u001b[1;33m(\u001b[0m\u001b[0mgamma_epoch\u001b[0m\u001b[1;33m,\u001b[0m\u001b[0mtrial_index_list\u001b[0m\u001b[1;33m,\u001b[0m \u001b[0mstim_combinations\u001b[0m\u001b[1;33m)\u001b[0m\u001b[1;33m\u001b[0m\u001b[1;33m\u001b[0m\u001b[0m\n\u001b[0m",
      "\u001b[1;32m<ipython-input-18-09f39680af34>\u001b[0m in \u001b[0;36mconvert_event_ids_to_stim_combinations\u001b[1;34m(epoch_object, trial_index_list, stim_combinations)\u001b[0m\n\u001b[0;32m     51\u001b[0m     \u001b[0mnew_events_master\u001b[0m \u001b[1;33m=\u001b[0m \u001b[0mnp\u001b[0m\u001b[1;33m.\u001b[0m\u001b[0marray\u001b[0m\u001b[1;33m(\u001b[0m\u001b[0mnew_events_master\u001b[0m\u001b[1;33m)\u001b[0m\u001b[1;33m.\u001b[0m\u001b[0mreshape\u001b[0m\u001b[1;33m(\u001b[0m\u001b[1;33m-\u001b[0m\u001b[1;36m1\u001b[0m\u001b[1;33m,\u001b[0m\u001b[1;36m1\u001b[0m\u001b[1;33m)\u001b[0m\u001b[1;33m\u001b[0m\u001b[1;33m\u001b[0m\u001b[0m\n\u001b[0;32m     52\u001b[0m     \u001b[0mprint\u001b[0m\u001b[1;33m(\u001b[0m\u001b[0mnp\u001b[0m\u001b[1;33m.\u001b[0m\u001b[0marray\u001b[0m\u001b[1;33m(\u001b[0m\u001b[0mnew_events_master\u001b[0m\u001b[1;33m)\u001b[0m\u001b[1;33m.\u001b[0m\u001b[0mshape\u001b[0m\u001b[1;33m)\u001b[0m\u001b[1;33m\u001b[0m\u001b[1;33m\u001b[0m\u001b[0m\n\u001b[1;32m---> 53\u001b[1;33m     \u001b[0mreturn_array\u001b[0m \u001b[1;33m=\u001b[0m \u001b[0mnp\u001b[0m\u001b[1;33m.\u001b[0m\u001b[0mconcatenate\u001b[0m\u001b[1;33m(\u001b[0m\u001b[1;33m[\u001b[0m\u001b[0mx\u001b[0m \u001b[1;32mfor\u001b[0m \u001b[0mx\u001b[0m \u001b[1;32min\u001b[0m \u001b[0mnew_events_master\u001b[0m\u001b[1;33m]\u001b[0m\u001b[1;33m)\u001b[0m\u001b[1;33m\u001b[0m\u001b[1;33m\u001b[0m\u001b[0m\n\u001b[0m\u001b[0;32m     54\u001b[0m     \u001b[1;32mreturn\u001b[0m \u001b[0mnp\u001b[0m\u001b[1;33m.\u001b[0m\u001b[0mconcatenate\u001b[0m\u001b[1;33m(\u001b[0m\u001b[1;33m[\u001b[0m\u001b[0mx\u001b[0m \u001b[1;32mfor\u001b[0m \u001b[0mx\u001b[0m \u001b[1;32min\u001b[0m \u001b[0mreturn_array\u001b[0m\u001b[1;33m]\u001b[0m\u001b[1;33m)\u001b[0m\u001b[1;33m\u001b[0m\u001b[1;33m\u001b[0m\u001b[0m\n",
      "\u001b[1;31mValueError\u001b[0m: need at least one array to concatenate"
     ]
    }
   ],
   "source": [
    "# classify using gamma data and theta data because it has the most spikes\n",
    "trial_index_list = get_epoch_trials(gamma_epoch)\n",
    "convert_event_ids_to_stim_combinations(gamma_epoch,trial_index_list, stim_combinations)"
   ]
  },
  {
   "cell_type": "code",
   "execution_count": 15,
   "metadata": {},
   "outputs": [
    {
     "data": {
      "text/plain": [
       "<EpochsArray  |   10 events (all good), 0 - 1.94922 sec, baseline off, ~5.1 MB, data loaded,\n",
       " '1': 10>"
      ]
     },
     "execution_count": 15,
     "metadata": {},
     "output_type": "execute_result"
    }
   ],
   "source": [
    "gamma_epoch[:10]"
   ]
  },
  {
   "cell_type": "code",
   "execution_count": null,
   "metadata": {},
   "outputs": [],
   "source": []
  }
 ],
 "metadata": {
  "kernelspec": {
   "display_name": "Python 3",
   "language": "python",
   "name": "python3"
  },
  "language_info": {
   "codemirror_mode": {
    "name": "ipython",
    "version": 3
   },
   "file_extension": ".py",
   "mimetype": "text/x-python",
   "name": "python",
   "nbconvert_exporter": "python",
   "pygments_lexer": "ipython3",
   "version": "3.6.7"
  }
 },
 "nbformat": 4,
 "nbformat_minor": 2
}
