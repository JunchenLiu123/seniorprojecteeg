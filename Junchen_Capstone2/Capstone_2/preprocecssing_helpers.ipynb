{
 "cells": [
  {
   "cell_type": "code",
   "execution_count": 5,
   "metadata": {},
   "outputs": [],
   "source": [
    "import mne\n",
    "import os\n",
    "import numpy as np\n",
    "import matplotlib.pyplot as plt\n",
    "%matplotlib inline\n",
    "\n",
    "import time"
   ]
  },
  {
   "cell_type": "code",
   "execution_count": 6,
   "metadata": {},
   "outputs": [],
   "source": [
    "\n",
    "def search_folders(path, listdir):\n",
    "    \"\"\"\n",
    "    path: base path containing all folders of subject runs.\n",
    "    \n",
    "    listdir: A list of all folders in the base path.\n",
    "    \n",
    "    returns: dictionary of \n",
    "        key: subject run folder \n",
    "        value: .set files within subject run folder\n",
    "    \"\"\"\n",
    "    eeglab_dict = {}\n",
    "    for dir in listdir:\n",
    "        folder_path = os.path.join(path, dir)\n",
    "        contents = os.listdir(folder_path)\n",
    "        eeglab_dict[dir] = [x for x in contents if '.set' in x]\n",
    "    return eeglab_dict"
   ]
  },
  {
   "cell_type": "code",
   "execution_count": 10,
   "metadata": {},
   "outputs": [],
   "source": [
    "def paths_of_eeglab_files(path, eeglab_dict):\n",
    "    eeglab_set_files = []\n",
    "    for key in eeglab_dict:\n",
    "        contents = eeglab_dict[key]\n",
    "#         print(contents)\n",
    "        for file in contents:\n",
    "            subject_run_path = os.path.join(path, key)\n",
    "#             print(subject_run_path)\n",
    "            set_file_path = os.path.join(subject_run_path, file)\n",
    "#             print(\"set file path\",set_file_path)\n",
    "            eeglab_set_files.append(set_file_path)\n",
    "    return eeglab_set_files"
   ]
  },
  {
   "cell_type": "code",
   "execution_count": null,
   "metadata": {},
   "outputs": [],
   "source": []
  }
 ],
 "metadata": {
  "kernelspec": {
   "display_name": "Python 3",
   "language": "python",
   "name": "python3"
  },
  "language_info": {
   "codemirror_mode": {
    "name": "ipython",
    "version": 3
   },
   "file_extension": ".py",
   "mimetype": "text/x-python",
   "name": "python",
   "nbconvert_exporter": "python",
   "pygments_lexer": "ipython3",
   "version": "3.6.6"
  }
 },
 "nbformat": 4,
 "nbformat_minor": 2
}
