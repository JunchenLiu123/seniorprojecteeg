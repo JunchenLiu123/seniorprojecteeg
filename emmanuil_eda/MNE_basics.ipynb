{
 "cells": [
  {
   "cell_type": "code",
   "execution_count": null,
   "metadata": {},
   "outputs": [],
   "source": [
    "import numpy as np\n",
    "import pandas as pd\n",
    "import matplotlib.pyplot as plt\n",
    "import matplotlib\n",
    "import os\n",
    "import os.path as op\n",
    "%matplotlib inline\n",
    "import mne\n",
    "from mne.datasets import sample\n",
    "matplotlib.rcParams['figure.figsize'] = (10.0, 20.0)\n",
    "matplotlib.rcParams.update({'font.size': 15})\n",
    "#update working directory\n",
    "os.chdir('C:\\\\Users\\\\Esimk_000\\\\Desktop\\\\School\\\\Spring 2018\\\\Cs59866\\\\EEG Project\\\\Jupyter_Notebook')\n",
    "data_path = 'C:\\\\Users\\\\Esimk_000\\\\Desktop\\\\School\\\\Spring 2018\\\\Cs59866\\\\EEG Project\\\\Jupyter_Notebook'"
   ]
  },
  {
   "cell_type": "code",
   "execution_count": null,
   "metadata": {},
   "outputs": [],
   "source": [
    "raw_vhdr = mne.io.read_raw_brainvision(op.join(data_path, 'suj11_l2nap_day2.vhdr'), preload = True)\n",
    "# type(raw_vhdr.info)"
   ]
  },
  {
   "cell_type": "code",
   "execution_count": null,
   "metadata": {},
   "outputs": [],
   "source": [
    "#trying to replicate some of Nings work - plotting raw the data\n",
    "raw_vhdr.filter(1,200)\n",
    "s,t = raw_vhdr[0,:]\n",
    "plt.plot(t,s[0,:], )"
   ]
  },
  {
   "cell_type": "code",
   "execution_count": null,
   "metadata": {},
   "outputs": [],
   "source": [
    "clean_raw.plot()"
   ]
  },
  {
   "cell_type": "code",
   "execution_count": null,
   "metadata": {},
   "outputs": [],
   "source": [
    "# raw_vhdr.info"
   ]
  },
  {
   "cell_type": "markdown",
   "metadata": {},
   "source": [
    "## Plot EEG data"
   ]
  },
  {
   "cell_type": "code",
   "execution_count": null,
   "metadata": {},
   "outputs": [],
   "source": [
    "#scalingDict was taken from MNE sample documentation\n",
    "scalingDict = dict(mag = 1e-12, grad = 4e-11, eeg = 20e-6, eog = 150e-6, ecg=5e-4,\n",
    "                  emg = 1e-3, ref_meg=1e-12,misc=1e-3, stim=1, resp=1,chpi=1e-4);\n",
    "\n",
    "raw_vhdr.plot(start = 0.0, duration = 10.0, n_channels =64, scalings = scalingDict);\n",
    "# plt.tight_layout();\n",
    "plt.show()"
   ]
  },
  {
   "cell_type": "code",
   "execution_count": null,
   "metadata": {},
   "outputs": [],
   "source": [
    "raw_vhdr._data.shape"
   ]
  },
  {
   "cell_type": "code",
   "execution_count": null,
   "metadata": {
    "scrolled": true
   },
   "outputs": [],
   "source": [
    "#Plot a few columns/channels from raw_vhdr data\n",
    "nrows = 3\n",
    "ncols = 1\n",
    "fig_kwargs = dict(nrows = nrows, ncols = ncols, figsize = (15,15))\n",
    "fig, ax = plt.subplots(**fig_kwargs)\n",
    "for i in range(3):\n",
    "    ax[i].plot(raw_vhdr._data[i][:10000]);\n",
    "    ax[i].set_title('Channel {}'.format(i))\n",
    "    ax[i].set_ylabel('uV (micro Volts)')\n",
    "# for i in range(3):\n",
    "#     ax[i].hist(raw_vhdr._data[i]);\n",
    "#     ax[i].set_title('Hist Channel {}'.format(i*3))\n",
    "#     ax[i].set_xlabel('Frequency (Hz)')\n",
    "plt.show()\n",
    "# raw_vhdr"
   ]
  },
  {
   "cell_type": "code",
   "execution_count": null,
   "metadata": {},
   "outputs": [],
   "source": []
  },
  {
   "cell_type": "code",
   "execution_count": null,
   "metadata": {},
   "outputs": [],
   "source": [
    "#Plot a few columns/channels from raw_vhdr data\n",
    "nrows = 3\n",
    "ncols = 1\n",
    "fig_kwargs = dict(nrows = nrows, ncols = ncols, figsize = (15,15))\n",
    "fig, ax = plt.subplots(**fig_kwargs)\n",
    "# for i in range(3):\n",
    "#     ax[i].plot(raw_vhdr._data[i]);\n",
    "#     ax[i].set_title('Channel {}'.format(i*3))\n",
    "for i in range(3):\n",
    "    ax[i].hist(raw_vhdr._data[i]);\n",
    "    ax[i].set_title('Hist Channel {}'.format(i*3))\n",
    "    ax[i].set_xlabel('uV (micro Volts)')\n",
    "plt.tight_layout()\n",
    "plt.show()\n",
    "# raw_vhdr"
   ]
  },
  {
   "cell_type": "code",
   "execution_count": null,
   "metadata": {},
   "outputs": [],
   "source": [
    "#Plot a few more columns/channels raw_vhdr data\n",
    "nrows = 3\n",
    "ncols = 1\n",
    "fig_kwargs = dict(nrows = nrows, ncols = ncols, figsize = (15,15))\n",
    "fig, ax = plt.subplots(**fig_kwargs)\n",
    "for i in range(3):\n",
    "    ax[i].plot(raw_vhdr._data[-1 -i ]);\n",
    "    ax[i].set_title('Channel {}'.format(64 - i))\n",
    "    ax[i].set_ylabel('uV (micro Volts)')\n",
    "# for i in range(3):\n",
    "#     ax[i].hist(raw_vhdr._data[i]);\n",
    "#     ax[i].set_title('Hist Channel {}'.format(i*3))\n",
    "#     ax[i].set_xlabel('Frequency (Hz)')\n",
    "plt.show()\n",
    "# raw_vhdr"
   ]
  },
  {
   "cell_type": "code",
   "execution_count": null,
   "metadata": {},
   "outputs": [],
   "source": [
    "#Plot a few columns/channels from raw_vhdr data\n",
    "nrows = 3\n",
    "ncols = 1\n",
    "fig_kwargs = dict(nrows = nrows, ncols = ncols, figsize = (15,15))\n",
    "fig, ax = plt.subplots(**fig_kwargs)\n",
    "for i in range(3):\n",
    "    ax[i].hist(raw_vhdr._data[-1 - i]);\n",
    "    ax[i].set_title('Hist Channel {}'.format(64 - i))\n",
    "    ax[i].set_xlabel('uV (micro Volts)')\n",
    "plt.tight_layout()\n",
    "plt.show()\n",
    "# raw_vhdr"
   ]
  },
  {
   "cell_type": "code",
   "execution_count": null,
   "metadata": {},
   "outputs": [],
   "source": [
    "#what is the type of a single point of data\n",
    "raw_vhdr._dtype"
   ]
  },
  {
   "cell_type": "code",
   "execution_count": null,
   "metadata": {},
   "outputs": [],
   "source": [
    "raw_vhdr.plot_psd(tmax=np.inf, average=False);\n",
    "# plt.plot()"
   ]
  },
  {
   "cell_type": "code",
   "execution_count": null,
   "metadata": {},
   "outputs": [],
   "source": []
  },
  {
   "cell_type": "code",
   "execution_count": null,
   "metadata": {},
   "outputs": [],
   "source": [
    "fig, ax = plt.subplots()\n",
    "ax.hist(raw_vhdr._data[0]);\n",
    "ax.set_title('Histogram of a sample of EEG data')\n",
    "ax.set_xlabel('Frequency (Hz)')\n",
    "ax.set_ylabel('Frequency')\n",
    "plt.show()"
   ]
  },
  {
   "cell_type": "code",
   "execution_count": null,
   "metadata": {},
   "outputs": [],
   "source": []
  },
  {
   "cell_type": "code",
   "execution_count": null,
   "metadata": {},
   "outputs": [],
   "source": [
    "#vizualizing the data\n",
    "scalingDict = dict(mag = 1e-12, grad = 4e-11, eeg = 20e-6, eog = 150e-6, ecg=5e-4,\n",
    "                  emg = 1e-3, ref_meg=1e-12,misc=1e-3, stim=1, resp=1,chpi=1e-4)\n",
    "raw.plot(start = 0.0, duration = 10, n_channels = 20, scalings = scalingDict)\n",
    "plt.show()"
   ]
  },
  {
   "cell_type": "markdown",
   "metadata": {},
   "source": [
    "# EDA on EEG Data"
   ]
  },
  {
   "cell_type": "markdown",
   "metadata": {},
   "source": [
    "## Reading the data\n",
    "* We use read_raw_brainvision method of mne because each test data sample has three types of files associated with it.\n",
    "    1. .eeg - The actual readings from EEG scan\n",
    "    2. .vhdr - header file\n",
    "        * Header file contains channel number, name of channel, and units of channel\n",
    "    3. .vmrk - marker file\n",
    "        "
   ]
  },
  {
   "cell_type": "code",
   "execution_count": null,
   "metadata": {},
   "outputs": [],
   "source": []
  },
  {
   "cell_type": "code",
   "execution_count": null,
   "metadata": {},
   "outputs": [],
   "source": []
  },
  {
   "cell_type": "markdown",
   "metadata": {},
   "source": [
    "## Types of Variables\n",
    "* What are the types of the data?\n",
    "    * Entire 'raw' file is of tpye RawBrainVision.\n",
    "    "
   ]
  },
  {
   "cell_type": "code",
   "execution_count": null,
   "metadata": {},
   "outputs": [],
   "source": [
    "data_path = 'E:\\eeg_data\\ica_140_500_0.1'\n",
    "#read data\n",
    "epoch = mne.read_epochs(op.join(data_path, 'subject1_all_runs-epo.fif'),\n",
    "                          preload=True)\n"
   ]
  },
  {
   "cell_type": "code",
   "execution_count": null,
   "metadata": {},
   "outputs": [],
   "source": [
    "#plot epoch data\n",
    "epoch.plot(n_channels = 61);"
   ]
  },
  {
   "cell_type": "code",
   "execution_count": null,
   "metadata": {},
   "outputs": [],
   "source": [
    "epoch._data.shape"
   ]
  },
  {
   "cell_type": "code",
   "execution_count": null,
   "metadata": {},
   "outputs": [],
   "source": [
    "evoked = epoch.average()"
   ]
  },
  {
   "cell_type": "code",
   "execution_count": null,
   "metadata": {},
   "outputs": [],
   "source": [
    "evoked.plot();"
   ]
  },
  {
   "cell_type": "code",
   "execution_count": null,
   "metadata": {},
   "outputs": [],
   "source": [
    "max_in_each_epoch = [e.max() for e in epoch]  # doctest:+ELLIPSIS\n",
    "print(max_in_each_epoch)"
   ]
  },
  {
   "cell_type": "code",
   "execution_count": null,
   "metadata": {},
   "outputs": [],
   "source": [
    "max_in_each_epoch = [e.max() for e in epoch]  # doctest:+ELLIPSIS\n",
    "print(np.max(np.array(max_in_each_epoch)))"
   ]
  },
  {
   "cell_type": "code",
   "execution_count": null,
   "metadata": {},
   "outputs": [],
   "source": [
    "max_in_each_epoch = [e.min() for e in epoch]  # doctest:+ELLIPSIS\n",
    "print(np.max(np.array(max_in_each_epoch)))"
   ]
  },
  {
   "cell_type": "code",
   "execution_count": null,
   "metadata": {},
   "outputs": [],
   "source": []
  },
  {
   "cell_type": "code",
   "execution_count": null,
   "metadata": {},
   "outputs": [],
   "source": [
    "#Plot a few more columns/channels raw_vhdr data\n",
    "nrows = 3\n",
    "ncols = 1\n",
    "fig_kwargs = dict(nrows = nrows, ncols = ncols, figsize = (15,15))\n",
    "fig, ax = plt.subplots(**fig_kwargs)\n",
    "# for i in range(3):\n",
    "#     ax[i].plot(epoch._data[i][i]);\n",
    "#     ax[i].set_title('Channel {}'.format(i))\n",
    "#     ax[i].set_ylabel('uV (micro Volts)')\n",
    "#     ax[i].set_xlabel('Time (s)')\n",
    "for i in range(3):\n",
    "    ax[i].hist(epoch._data[i][i]);\n",
    "    ax[i].set_title('Hist Channel {}'.format(i*3))\n",
    "    ax[i].set_xlabel('uV (micro Volts)')\n",
    "plt.tight_layout()\n",
    "plt.show()\n",
    "# raw_vhdr"
   ]
  },
  {
   "cell_type": "code",
   "execution_count": null,
   "metadata": {},
   "outputs": [],
   "source": [
    "epoch._data.shape"
   ]
  },
  {
   "cell_type": "code",
   "execution_count": null,
   "metadata": {},
   "outputs": [],
   "source": [
    "data_path = 'E:\\eeg_data\\ica_140_500_0.1'\n",
    "#read data\n",
    "epoch = mne.read_epochs(op.join(data_path, 'subject1_all_runs-epo.fif'),\n",
    "                          preload=True)"
   ]
  },
  {
   "cell_type": "code",
   "execution_count": null,
   "metadata": {},
   "outputs": [],
   "source": [
    "epoch._data.shape"
   ]
  },
  {
   "cell_type": "code",
   "execution_count": null,
   "metadata": {},
   "outputs": [],
   "source": [
    "#Plot a few more columns/channels raw_vhdr data\n",
    "nrows = 3\n",
    "ncols = 1\n",
    "fig_kwargs = dict(nrows = nrows, ncols = ncols, figsize = (15,15))\n",
    "fig, ax = plt.subplots(**fig_kwargs)\n",
    "for i in range(3):\n",
    "    ax[i].plot(epoch._data[i][i]);\n",
    "    ax[i].set_title('Channel {}'.format(i))\n",
    "    ax[i].set_ylabel('Frequency (Hz)')\n",
    "# for i in range(3):\n",
    "#     ax[i].hist(raw_vhdr._data[i]);\n",
    "#     ax[i].set_title('Hist Channel {}'.format(i*3))\n",
    "#     ax[i].set_xlabel('Frequency (Hz)')\n",
    "plt.show()\n",
    "# raw_vhdr"
   ]
  },
  {
   "cell_type": "code",
   "execution_count": null,
   "metadata": {},
   "outputs": [],
   "source": [
    "#Plot a few more columns/channels raw_vhdr data\n",
    "nrows = 3\n",
    "ncols = 1\n",
    "fig_kwargs = dict(nrows = nrows, ncols = ncols, figsize = (15,15))\n",
    "fig, ax = plt.subplots(**fig_kwargs)\n",
    "# for i in range(3):\n",
    "#     ax[i].plot(epoch._data[i ]);\n",
    "#     ax[i].set_title('Channel {}'.format(i))\n",
    "#     ax[i].set_ylabel('Frequency (Hz)')\n",
    "for i in range(3):\n",
    "    ax[i].hist(epoch._data[i][i]);\n",
    "    ax[i].set_title('Hist Channel {}'.format(i))\n",
    "    ax[i].set_xlabel('Frequency (Hz)')\n",
    "plt.tight_layout()\n",
    "plt.show()\n",
    "# raw_vhdr"
   ]
  },
  {
   "cell_type": "code",
   "execution_count": null,
   "metadata": {},
   "outputs": [],
   "source": [
    "max_in_each_epoch = [e.max() for e in epoch['aud_l']]  # doctest:+ELLIPSIS"
   ]
  }
 ],
 "metadata": {
  "kernelspec": {
   "display_name": "Python 2",
   "language": "python",
   "name": "python2"
  },
  "language_info": {
   "codemirror_mode": {
    "name": "ipython",
    "version": 2
   },
   "file_extension": ".py",
   "mimetype": "text/x-python",
   "name": "python",
   "nbconvert_exporter": "python",
   "pygments_lexer": "ipython2",
   "version": "2.7.14"
  }
 },
 "nbformat": 4,
 "nbformat_minor": 2
}
