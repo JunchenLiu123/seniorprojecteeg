{
 "cells": [
  {
   "cell_type": "markdown",
   "metadata": {},
   "source": [
    "# Week 4: Wavelet Transformation for Feature Selection \n",
    "Shateesh Bhugwansing\n",
    "\n",
    "In an attempt to increase our classification scores, I'm attempting to use Discrete Wavelet Transformation to decompose the EEG data. The resulting sub bands were ranked using their energy levels, and then fit into classifiers.\n",
    "\n",
    "The following papers were used as a reference for this procedure: \n",
    "* https://www.ncbi.nlm.nih.gov/pmc/articles/PMC5702353/\n",
    "* https://link.springer.com/article/10.1007%2Fs13246-015-0333-x#Sec3\n",
    "\n",
    "### PLEASE NOTE: \n",
    "* the python package 'pywt' (PyWavelet) and 'mne' must be installed in your environment in order to run this notebook. \n",
    "* the data sources are local to my machine/external hard drive. We haven't set up a cloud storage system yet."
   ]
  },
  {
   "cell_type": "code",
   "execution_count": null,
   "metadata": {},
   "outputs": [],
   "source": [
    "import pandas as pd \n",
    "import numpy as np \n",
    "import matplotlib.pyplot as plt\n",
    "%matplotlib inline \n",
    "\n",
    "from sklearn.model_selection import StratifiedKFold, ShuffleSplit, cross_val_score\n",
    "from sklearn.naive_bayes import GaussianNB, BernoulliNB, MultinomialNB\n",
    "from sklearn import metrics\n",
    "from sklearn.pipeline import make_pipeline, Pipeline\n",
    "from sklearn.preprocessing import StandardScaler, MinMaxScaler\n",
    "\n",
    "\n",
    "import warnings\n",
    "warnings.simplefilter(\"ignore\", DeprecationWarning)\n",
    "plt.rcParams['figure.figsize'] = (10.0, 10.0)\n",
    "plt.rcParams.update({'font.size': 12})\n",
    "\n",
    "\n",
    "#import mne to read EEG data \n",
    "import mne \n",
    "from mne.decoding import Vectorizer, CSP\n",
    "\n",
    "#import pywavelet for DWT \n",
    "import pywt "
   ]
  }
 ],
 "metadata": {
  "kernelspec": {
   "display_name": "Python 2",
   "language": "python",
   "name": "python2"
  },
  "language_info": {
   "codemirror_mode": {
    "name": "ipython",
    "version": 2
   },
   "file_extension": ".py",
   "mimetype": "text/x-python",
   "name": "python",
   "nbconvert_exporter": "python",
   "pygments_lexer": "ipython2",
   "version": "2.7.14"
  }
 },
 "nbformat": 4,
 "nbformat_minor": 2
}
