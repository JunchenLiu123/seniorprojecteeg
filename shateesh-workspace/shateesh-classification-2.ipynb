{
 "cells": [
  {
   "cell_type": "markdown",
   "metadata": {},
   "source": [
    "## Week 2: Re-do initial classification on data \n",
    "Shateesh Bhugwansing\n",
    "\n",
    "This notebook attempts to build a pipeline to use the Naive Bayes classifer on Subject 1, runs 1-4. "
   ]
  },
  {
   "cell_type": "markdown",
   "metadata": {},
   "source": [
    "### attempt 1: \n",
    "cv: 5-fold CV  \n",
    "classifier pipeline: vectorizer --> standardScaler --> gaussianNB  \n",
    "metric: accuracy"
   ]
  },
  {
   "cell_type": "code",
   "execution_count": 56,
   "metadata": {},
   "outputs": [],
   "source": [
    "import pandas as pd \n",
    "import numpy as np \n",
    "import matplotlib.pyplot as plt\n",
    "%matplotlib inline \n",
    "\n",
    "from sklearn.model_selection import StratifiedKFold\n",
    "from sklearn.naive_bayes import GaussianNB, BernoulliNB, MultinomialNB\n",
    "from sklearn import metrics\n",
    "from sklearn.pipeline import make_pipeline\n",
    "from sklearn.preprocessing import StandardScaler, MinMaxScaler\n",
    "\n",
    "\n",
    "import warnings\n",
    "warnings.simplefilter(\"ignore\", DeprecationWarning)\n",
    "plt.rcParams['figure.figsize'] = (8.0, 8.0)\n",
    "plt.rcParams.update({'font.size': 12})\n",
    "\n",
    "\n",
    "#import mne to read EEG data \n",
    "import mne \n",
    "from mne.decoding import Vectorizer\n"
   ]
  },
  {
   "cell_type": "code",
   "execution_count": 63,
   "metadata": {},
   "outputs": [
    {
     "name": "stdout",
     "output_type": "stream",
     "text": [
      "Reading /Users/shateeshbhugwansing/Desktop/seniorprojecteeg/clean_data_sample/Ex10_Suj1_Run1-epo.fif ...\n",
      "Isotrak not found\n",
      "    Read a total of 1 projection items:\n",
      "        Average EEG reference (1 x 61) active\n",
      "    Found the data of interest:\n",
      "        t =       0.00 ...    1400.00 ms\n",
      "        0 CTF compensation matrices available\n",
      "280 matching events found\n",
      "Created an SSP operator (subspace dimension = 1)\n",
      "280 matching events found\n",
      "Created an SSP operator (subspace dimension = 1)\n",
      "1 projection items activated\n",
      "Reading /Users/shateeshbhugwansing/Desktop/seniorprojecteeg/clean_data_sample/Ex10_Suj1_Run2-epo.fif ...\n",
      "Isotrak not found\n",
      "    Read a total of 1 projection items:\n",
      "        Average EEG reference (1 x 61) active\n",
      "    Found the data of interest:\n",
      "        t =       0.00 ...    1400.00 ms\n",
      "        0 CTF compensation matrices available\n",
      "285 matching events found\n",
      "Created an SSP operator (subspace dimension = 1)\n",
      "285 matching events found\n",
      "Created an SSP operator (subspace dimension = 1)\n",
      "1 projection items activated\n",
      "Reading /Users/shateeshbhugwansing/Desktop/seniorprojecteeg/clean_data_sample/Ex10_Suj1_Run3-epo.fif ...\n",
      "Isotrak not found\n",
      "    Read a total of 1 projection items:\n",
      "        Average EEG reference (1 x 61) active\n",
      "    Found the data of interest:\n",
      "        t =       0.00 ...    1400.00 ms\n",
      "        0 CTF compensation matrices available\n",
      "287 matching events found\n",
      "Created an SSP operator (subspace dimension = 1)\n",
      "287 matching events found\n",
      "Created an SSP operator (subspace dimension = 1)\n",
      "1 projection items activated\n",
      "Reading /Users/shateeshbhugwansing/Desktop/seniorprojecteeg/clean_data_sample/Ex10_Suj1_Run4-epo.fif ...\n",
      "Isotrak not found\n",
      "    Read a total of 1 projection items:\n",
      "        Average EEG reference (1 x 61) active\n",
      "    Found the data of interest:\n",
      "        t =       0.00 ...    1400.00 ms\n",
      "        0 CTF compensation matrices available\n",
      "293 matching events found\n",
      "Created an SSP operator (subspace dimension = 1)\n",
      "293 matching events found\n",
      "Created an SSP operator (subspace dimension = 1)\n",
      "1 projection items activated\n"
     ]
    }
   ],
   "source": [
    "#read in the data for the first 4 runs of subject 1 \n",
    "path1 = \"/Users/shateeshbhugwansing/Desktop/seniorprojecteeg/clean_data_sample/Ex10_Suj1_Run1-epo.fif\"\n",
    "path2 = \"/Users/shateeshbhugwansing/Desktop/seniorprojecteeg/clean_data_sample/Ex10_Suj1_Run2-epo.fif\"\n",
    "path3 = \"/Users/shateeshbhugwansing/Desktop/seniorprojecteeg/clean_data_sample/Ex10_Suj1_Run3-epo.fif\"\n",
    "path4 = \"/Users/shateeshbhugwansing/Desktop/seniorprojecteeg/clean_data_sample/Ex10_Suj1_Run4-epo.fif\"\n",
    "\n",
    "data1 = mne.read_epochs(path1, preload=True)\n",
    "data2 = mne.read_epochs(path2, preload=True)\n",
    "data3 = mne.read_epochs(path3, preload=True)\n",
    "data4 = mne.read_epochs(path4, preload=True)\n",
    "\n",
    "data = [data1, data2, data3, data4]\n",
    "\n",
    "# extract only the event_id's 4-5 for new vs. scrambled \n",
    "data1 = data1[(data1.events[:,-1] == 4) | (data1.events[:,-1] == 5)]\n",
    "data2 = data2[(data2.events[:,-1] == 4) | (data2.events[:,-1] == 5)]\n",
    "data3 = data3[(data3.events[:,-1] == 4) | (data3.events[:,-1] == 5)]\n",
    "data4 = data4[(data4.events[:,-1] == 4) | (data4.events[:,-1] == 5)]\n",
    "\n",
    "#data1 = data1.pick_channels(data1.ch_names[:60])"
   ]
  },
  {
   "cell_type": "markdown",
   "metadata": {},
   "source": [
    "### attempt 1: data1"
   ]
  },
  {
   "cell_type": "code",
   "execution_count": 70,
   "metadata": {},
   "outputs": [
    {
     "name": "stdout",
     "output_type": "stream",
     "text": [
      "('Attempt1, data1 accuracy (%): ', 0.5673758865248227)\n"
     ]
    }
   ],
   "source": [
    "# make pipeline \n",
    "clf = make_pipeline(Vectorizer(),\n",
    "                   MinMaxScaler(),\n",
    "                   GaussianNB())\n",
    "\n",
    "#cross-validation\n",
    "cv = StratifiedKFold(n_splits=10, shuffle=True, random_state=42)\n",
    "\n",
    "labels1 = data1.events[:,-1]\n",
    "preds1 = np.empty(len(labels1))\n",
    "\n",
    "#fit the classifier + make predictions\n",
    "for train, test in cv.split(data1, labels1):\n",
    "    clf.fit(data1[train], labels1[train])\n",
    "    preds1[test] = clf.predict(data1[test])\n",
    "\n",
    "\n",
    "print(\"Attempt1, data1 accuracy (%): \", metrics.accuracy_score(labels1, preds1))\n"
   ]
  },
  {
   "cell_type": "code",
   "execution_count": 65,
   "metadata": {},
   "outputs": [
    {
     "name": "stdout",
     "output_type": "stream",
     "text": [
      "(141, 61, 1401)\n"
     ]
    }
   ],
   "source": [
    "print(data1.get_data().shape)"
   ]
  },
  {
   "cell_type": "code",
   "execution_count": null,
   "metadata": {},
   "outputs": [],
   "source": []
  }
 ],
 "metadata": {
  "kernelspec": {
   "display_name": "Python 2",
   "language": "python",
   "name": "python2"
  },
  "language_info": {
   "codemirror_mode": {
    "name": "ipython",
    "version": 2
   },
   "file_extension": ".py",
   "mimetype": "text/x-python",
   "name": "python",
   "nbconvert_exporter": "python",
   "pygments_lexer": "ipython2",
   "version": "2.7.14"
  }
 },
 "nbformat": 4,
 "nbformat_minor": 2
}
