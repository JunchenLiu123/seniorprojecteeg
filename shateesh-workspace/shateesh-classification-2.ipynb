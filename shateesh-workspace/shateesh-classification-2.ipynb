{
 "cells": [
  {
   "cell_type": "markdown",
   "metadata": {},
   "source": [
    "## Week 2: Re-do initial classification on data \n",
    "Shateesh Bhugwansing\n",
    "\n",
    "This notebook attempts to build a pipeline to use the Naive Bayes classifer on Subject 1, runs 1-4. "
   ]
  },
  {
   "cell_type": "markdown",
   "metadata": {},
   "source": [
    "### attempt 1: \n",
    "cv: 10-fold CV  \n",
    "classifier pipeline: vectorizer --> MinMaxScaler --> BernoulliNB  \n",
    "metric: accuracy"
   ]
  },
  {
   "cell_type": "code",
   "execution_count": 56,
   "metadata": {},
   "outputs": [],
   "source": [
    "import pandas as pd \n",
    "import numpy as np \n",
    "import matplotlib.pyplot as plt\n",
    "%matplotlib inline \n",
    "\n",
    "from sklearn.model_selection import StratifiedKFold\n",
    "from sklearn.naive_bayes import GaussianNB, BernoulliNB, MultinomialNB\n",
    "from sklearn import metrics\n",
    "from sklearn.pipeline import make_pipeline\n",
    "from sklearn.preprocessing import StandardScaler, MinMaxScaler\n",
    "\n",
    "\n",
    "import warnings\n",
    "warnings.simplefilter(\"ignore\", DeprecationWarning)\n",
    "plt.rcParams['figure.figsize'] = (8.0, 8.0)\n",
    "plt.rcParams.update({'font.size': 12})\n",
    "\n",
    "\n",
    "#import mne to read EEG data \n",
    "import mne \n",
    "from mne.decoding import Vectorizer\n"
   ]
  },
  {
   "cell_type": "code",
   "execution_count": 78,
   "metadata": {},
   "outputs": [
    {
     "name": "stdout",
     "output_type": "stream",
     "text": [
      "Reading /Users/shateeshbhugwansing/Desktop/seniorprojecteeg/clean_data_sample/Ex10_Suj1_Run1-epo.fif ...\n",
      "Isotrak not found\n",
      "    Read a total of 1 projection items:\n",
      "        Average EEG reference (1 x 61) active\n",
      "    Found the data of interest:\n",
      "        t =       0.00 ...    1400.00 ms\n",
      "        0 CTF compensation matrices available\n",
      "280 matching events found\n",
      "Created an SSP operator (subspace dimension = 1)\n",
      "280 matching events found\n",
      "Created an SSP operator (subspace dimension = 1)\n",
      "1 projection items activated\n",
      "Reading /Users/shateeshbhugwansing/Desktop/seniorprojecteeg/clean_data_sample/Ex10_Suj1_Run2-epo.fif ...\n",
      "Isotrak not found\n",
      "    Read a total of 1 projection items:\n",
      "        Average EEG reference (1 x 61) active\n",
      "    Found the data of interest:\n",
      "        t =       0.00 ...    1400.00 ms\n",
      "        0 CTF compensation matrices available\n",
      "285 matching events found\n",
      "Created an SSP operator (subspace dimension = 1)\n",
      "285 matching events found\n",
      "Created an SSP operator (subspace dimension = 1)\n",
      "1 projection items activated\n",
      "Reading /Users/shateeshbhugwansing/Desktop/seniorprojecteeg/clean_data_sample/Ex10_Suj1_Run3-epo.fif ...\n",
      "Isotrak not found\n",
      "    Read a total of 1 projection items:\n",
      "        Average EEG reference (1 x 61) active\n",
      "    Found the data of interest:\n",
      "        t =       0.00 ...    1400.00 ms\n",
      "        0 CTF compensation matrices available\n",
      "287 matching events found\n",
      "Created an SSP operator (subspace dimension = 1)\n",
      "287 matching events found\n",
      "Created an SSP operator (subspace dimension = 1)\n",
      "1 projection items activated\n",
      "Reading /Users/shateeshbhugwansing/Desktop/seniorprojecteeg/clean_data_sample/Ex10_Suj1_Run4-epo.fif ...\n",
      "Isotrak not found\n",
      "    Read a total of 1 projection items:\n",
      "        Average EEG reference (1 x 61) active\n",
      "    Found the data of interest:\n",
      "        t =       0.00 ...    1400.00 ms\n",
      "        0 CTF compensation matrices available\n",
      "293 matching events found\n",
      "Created an SSP operator (subspace dimension = 1)\n",
      "293 matching events found\n",
      "Created an SSP operator (subspace dimension = 1)\n",
      "1 projection items activated\n",
      "Reading /Users/shateeshbhugwansing/Desktop/seniorprojecteeg/clean_data_sample/subject1_all_runs-epo.fif ...\n",
      "Isotrak not found\n",
      "    Read a total of 1 projection items:\n",
      "        Average EEG reference (1 x 61) active\n",
      "    Found the data of interest:\n",
      "        t =       0.00 ...    1400.00 ms\n",
      "        0 CTF compensation matrices available\n",
      "1121 matching events found\n",
      "Created an SSP operator (subspace dimension = 1)\n",
      "1121 matching events found\n",
      "Created an SSP operator (subspace dimension = 1)\n",
      "1 projection items activated\n"
     ]
    }
   ],
   "source": [
    "#read in the data for the first 4 runs of subject 1 \n",
    "path1 = \"/Users/shateeshbhugwansing/Desktop/seniorprojecteeg/clean_data_sample/Ex10_Suj1_Run1-epo.fif\"\n",
    "path2 = \"/Users/shateeshbhugwansing/Desktop/seniorprojecteeg/clean_data_sample/Ex10_Suj1_Run2-epo.fif\"\n",
    "path3 = \"/Users/shateeshbhugwansing/Desktop/seniorprojecteeg/clean_data_sample/Ex10_Suj1_Run3-epo.fif\"\n",
    "path4 = \"/Users/shateeshbhugwansing/Desktop/seniorprojecteeg/clean_data_sample/Ex10_Suj1_Run4-epo.fif\"\n",
    "path_all = \"/Users/shateeshbhugwansing/Desktop/seniorprojecteeg/clean_data_sample/subject1_all_runs-epo.fif\"\n",
    "\n",
    "data1 = mne.read_epochs(path1, preload=True)\n",
    "data2 = mne.read_epochs(path2, preload=True)\n",
    "data3 = mne.read_epochs(path3, preload=True)\n",
    "data4 = mne.read_epochs(path4, preload=True)\n",
    "data_all = mne.read_epochs(path_all, preload=True)\n",
    "\n",
    "# extract only the event_id's 4-5 for new vs. scrambled \n",
    "data1 = data1[(data1.events[:,-1] == 4) | (data1.events[:,-1] == 5)]\n",
    "data2 = data2[(data2.events[:,-1] == 4) | (data2.events[:,-1] == 5)]\n",
    "data3 = data3[(data3.events[:,-1] == 4) | (data3.events[:,-1] == 5)]\n",
    "data4 = data4[(data4.events[:,-1] == 4) | (data4.events[:,-1] == 5)]\n",
    "data_all = data_all[(data_all.events[:,-1] == 4) | (data_all.events[:,-1] == 5)]\n"
   ]
  },
  {
   "cell_type": "markdown",
   "metadata": {},
   "source": [
    "### attempt 1: data1"
   ]
  },
  {
   "cell_type": "code",
   "execution_count": 75,
   "metadata": {},
   "outputs": [
    {
     "name": "stdout",
     "output_type": "stream",
     "text": [
      "('Attempt1, data1. accuracy (%): ', 0.5673758865248227)\n"
     ]
    }
   ],
   "source": [
    "# make pipeline \n",
    "clf = make_pipeline(Vectorizer(),\n",
    "                   MinMaxScaler(),\n",
    "                   GaussianNB())\n",
    "\n",
    "#cross-validation\n",
    "cv = StratifiedKFold(n_splits=10, shuffle=True, random_state=42)\n",
    "\n",
    "labels1 = data1.events[:,-1]\n",
    "preds1 = np.empty(len(labels1))\n",
    "\n",
    "#fit the classifier + make predictions\n",
    "for train, test in cv.split(data1, labels1):\n",
    "    clf.fit(data1[train], labels1[train])\n",
    "    preds1[test] = clf.predict(data1[test])\n",
    "\n",
    "\n",
    "print(\"Attempt1, data1. accuracy (%): \", metrics.accuracy_score(labels1, preds1))\n"
   ]
  },
  {
   "cell_type": "markdown",
   "metadata": {},
   "source": [
    "### attempt 1: data_all"
   ]
  },
  {
   "cell_type": "code",
   "execution_count": null,
   "metadata": {},
   "outputs": [],
   "source": [
    "# make pipeline \n",
    "clf = make_pipeline(Vectorizer(),\n",
    "                   MinMaxScaler(),\n",
    "                   GaussianNB())\n",
    "\n",
    "#cross-validation\n",
    "cv = StratifiedKFold(n_splits=10, shuffle=True, random_state=42)\n",
    "\n",
    "labels_all = data_all.events[:,-1]\n",
    "preds_all = np.empty(len(labels_all))\n",
    "\n",
    "#fit the classifier + make predictions\n",
    "for train, test in cv.split(data_all, labels_all):\n",
    "    clf.fit(data1[train], labels1[train])\n",
    "    preds1[test] = clf.predict(data1[test])\n",
    "\n",
    "\n",
    "print(\"Attempt1, data1. accuracy (%): \", metrics.accuracy_score(labels1, preds1))"
   ]
  }
 ],
 "metadata": {
  "kernelspec": {
   "display_name": "Python 2",
   "language": "python",
   "name": "python2"
  },
  "language_info": {
   "codemirror_mode": {
    "name": "ipython",
    "version": 2
   },
   "file_extension": ".py",
   "mimetype": "text/x-python",
   "name": "python",
   "nbconvert_exporter": "python",
   "pygments_lexer": "ipython2",
   "version": "2.7.14"
  }
 },
 "nbformat": 4,
 "nbformat_minor": 2
}
