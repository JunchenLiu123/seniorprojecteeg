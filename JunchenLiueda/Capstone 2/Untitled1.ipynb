{
 "cells": [
  {
   "cell_type": "code",
   "execution_count": 1,
   "metadata": {},
   "outputs": [],
   "source": [
    "import numpy as np\n",
    "import matplotlib.pyplot as plt\n",
    "from mne.decoding import Vectorizer\n",
    "from sklearn.preprocessing import MinMaxScaler\n",
    "from mne.decoding import SPoC\n",
    "from sklearn.naive_bayes import GaussianNB\n",
    "from sklearn.preprocessing import StandardScaler\n",
    "from sklearn.pipeline import make_pipeline\n",
    "from sklearn.preprocessing import StandardScaler\n",
    "from sklearn.linear_model import LogisticRegression\n",
    "from sklearn.linear_model import Ridge\n",
    "from sklearn import linear_model\n",
    "from sklearn.linear_model import LinearRegression\n",
    "from sklearn.feature_extraction.text import TfidfTransformer\n",
    "from sklearn.discriminant_analysis import LinearDiscriminantAnalysis\n",
    "from sklearn.neighbors import KNeighborsClassifier as KNN\n",
    "from sklearn.model_selection import train_test_split\n",
    "from sklearn.decomposition import PCA\n",
    "from sklearn.model_selection import train_test_split as tts\n",
    "import mne\n",
    "from sklearn.model_selection import StratifiedKFold\n",
    "from mne.datasets import sample\n",
    "from mne.decoding import (SlidingEstimator, GeneralizingEstimator,\n",
    "                          cross_val_multiscore, LinearModel, get_coef)\n",
    "from sklearn.decomposition import PCA\n",
    "from sklearn.decomposition import NMF\n",
    "from sklearn.manifold import TSNE \n",
    "import os\n",
    "from mne.decoding import UnsupervisedSpatialFilter\n",
    "import os.path as op\n",
    "from os import listdir\n",
    "from os.path import isfile, join\n",
    "from collections import defaultdict\n",
    "from scipy.stats import skew, kurtosis\n",
    "import mne \n",
    "\n",
    "from mne.decoding import Vectorizer\n",
    "from sklearn.preprocessing import MinMaxScaler, Normalizer\n",
    "from sklearn.preprocessing import StandardScaler\n",
    "from sklearn.pipeline import make_pipeline\n",
    "from sklearn.linear_model import LogisticRegression\n",
    "from sklearn.model_selection import train_test_split\n",
    "from sklearn.model_selection import StratifiedKFold\n",
    "from sklearn.metrics import classification_report\n",
    "from sklearn.svm import SVC  # noqa\n",
    "from sklearn.model_selection import ShuffleSplit  # noqa\n",
    "\n",
    "from mne.decoding import UnsupervisedSpatialFilter\n",
    "from sklearn.decomposition import PCA\n",
    "from scipy.stats import skew, kurtosis\n",
    "from sklearn.metrics import confusion_matrix\n",
    "from mne.viz import tight_layout\n",
    "\n",
    "import time\n",
    "import pandas as pd"
   ]
  },
  {
   "cell_type": "code",
   "execution_count": 2,
   "metadata": {},
   "outputs": [],
   "source": [
    "%run Batch_ArtifactFilter_Epoch.ipynb"
   ]
  },
  {
   "cell_type": "code",
   "execution_count": 3,
   "metadata": {},
   "outputs": [
    {
     "name": "stdout",
     "output_type": "stream",
     "text": [
      "hello\n",
      "Reading C:\\USB Drive\\NewEEG-200s\\SA20140206\\20140206_1151.fdt\n",
      "Reading 0 ... 831247  =      0.000 ...  1623.529 secs...\n",
      "5977 events found\n",
      "Event IDs: [  1   2   3   4   5   6   7   8   9  10  11  12  13  14  15  16  17  18\n",
      "  19  20  21  22  23  24  31 128 129 130 131 132 133 134 135 136 137 138\n",
      " 139 140 141 142 143 144 145 155 156 157 158 159 160 161 162 163 164 165]\n",
      "time difference 1.80859375\n",
      "[509034      0      4]\n",
      "[509960      0    130]\n",
      "\n",
      " **1 bad trials dropped**\n",
      "Setting up band-stop filter\n",
      "Filter length of 3379 samples (6.600 sec) selected\n",
      "Setting up band-pass filter from 5 - 1e+02 Hz\n",
      "l_trans_bandwidth chosen to be 2.0 Hz\n",
      "h_trans_bandwidth chosen to be 25.0 Hz\n",
      "Filter length of 845 samples (1.650 sec) selected\n",
      "5977 events found\n",
      "Event IDs: [  1   2   3   4   5   6   7   8   9  10  11  12  13  14  15  16  17  18\n",
      "  19  20  21  22  23  24  31 128 129 130 131 132 133 134 135 136 137 138\n",
      " 139 140 141 142 143 144 145 155 156 157 158 159 160 161 162 163 164 165]\n"
     ]
    },
    {
     "name": "stderr",
     "output_type": "stream",
     "text": [
      "[Parallel(n_jobs=10)]: Done  52 tasks      | elapsed:   45.1s\n",
      "[Parallel(n_jobs=10)]: Done 129 out of 129 | elapsed:  1.2min finished\n"
     ]
    },
    {
     "name": "stdout",
     "output_type": "stream",
     "text": [
      "5584 events found\n",
      "Event IDs: [  1   2   3   4   5   6   7   8   9  10  11  12  13  14  15  16  17  18\n",
      "  19  20  21  22  23  24  31 128 129 130 131 132 133 134 135 136 137 138\n",
      " 139 140 141 142 143 144 145 155 156 157 158 159 160 161 162 163 164 165]\n",
      "Fitting ICA to data using 128 channels (please be patient, this may take a while)\n",
      "Inferring max_pca_components from picks\n",
      "Using all PCA components: 128\n",
      "Fitting ICA took 120.5s.\n",
      "    Searching for artifacts...\n",
      "Artifact indices found:\n",
      "    \n",
      "Ready.\n",
      "Transforming to ICA space (128 components)\n",
      "Zeroing out 0 ICA components\n",
      "1979 matching events found\n",
      "Applying baseline correction (mode: mean)\n",
      "Not setting metadata\n",
      "0 projection items activated\n",
      "Loading data for 1979 events and 500 original time points ...\n",
      "1011 bad epochs dropped\n"
     ]
    }
   ],
   "source": [
    "epoch=remove_artifacts_and_create_epochs('C:\\\\USB Drive\\\\NewEEG-200s\\\\SA20140206\\\\20140206_1151.set')"
   ]
  },
  {
   "cell_type": "code",
   "execution_count": 17,
   "metadata": {},
   "outputs": [],
   "source": [
    "def removebadchannel(epoch):\n",
    "    epoch.drop_channels(['Lm','Rm','VEOG'])\n",
    "    epoch.drop_channels(['STI 014'])"
   ]
  },
  {
   "cell_type": "code",
   "execution_count": 34,
   "metadata": {},
   "outputs": [],
   "source": [
    "def findchanel (newdata, i,j):\n",
    "    dataof50=[]\n",
    "    for channel in newdata[j]:\n",
    "        dataof50.append(channel)\n",
    "\n",
    "    arrayofdata50=np.array(dataof50)\n",
    "    print(arrayofdata50.shape)\n",
    "    sum1=[]\n",
    "    sum2=[]\n",
    "    for channel in arrayofdata50:\n",
    "        sum1.append(np.sum(channel))\n",
    "    sum1=np.array(sum1)\n",
    "    #print(\"shape of channel sum : Xi\", sum1.shape , sum1[0:3])\n",
    "    mean1=np.sum(sum1)/125\n",
    "    #print(\"mean of 125 channel: X\",mean1)\n",
    "    Dev=sum1-mean1\n",
    "    #print(\"Xi-X\",Dev.shape,Dev[0:3])\n",
    "    SquareofDev=Dev*Dev\n",
    "    #print(\"(Xi-X)^2\",SquareofDev.shape,SquareofDev[0:3])\n",
    "        ##print(\"variance\",var1)\n",
    "    sumofdev=np.sum(SquareofDev)\n",
    "    #print(\"sum of (Xi-X)^2\",sumofdev)\n",
    "    var=sumofdev/125\n",
    "    #print(\"variance\",var)\n",
    "    std=np.sqrt(var)\n",
    "    #print(\"std\",std)\n",
    "    dis1=mean1-std\n",
    "    dis2=mean1+std\n",
    "    print(dis1,dis2)\n",
    "    k=0\n",
    "    index=[]\n",
    "    arrayofdata=[]\n",
    "    for k in range(len(sum1)):\n",
    "        if sum1[k]<dis1 or sum1[k]>dis2 :\n",
    "            sum2.append(sum1[k])\n",
    "            index.append([k])\n",
    "            arrayofdata.append([arrayofdata50[i]])\n",
    "            arrayofdat3=np.array(arrayofdata)\n",
    "            print(arrayofdat3.shape)\n",
    "    sum2=np.array(sum2)\n",
    "    arrayofdata=np.array(arrayofdata)\n",
    "    print(sum2.shape)\n",
    "    print(index)\n",
    "    print(arrayofdata.shape)\n",
    "    stdup=[dis1]*125\n",
    "    stddown=[dis2]*125\n",
    "    x=np.arange(0,125,1)\n",
    "    _=plt.plot(x,sum1)\n",
    "    _=plt.plot(x,stdup)\n",
    "    _=plt.plot(x,stddown)"
   ]
  },
  {
   "cell_type": "code",
   "execution_count": 26,
   "metadata": {},
   "outputs": [
    {
     "ename": "ValueError",
     "evalue": "Channel(s) Lm, Rm, VEOG not found, nothing dropped.",
     "output_type": "error",
     "traceback": [
      "\u001b[1;31m---------------------------------------------------------------------------\u001b[0m",
      "\u001b[1;31mValueError\u001b[0m                                Traceback (most recent call last)",
      "\u001b[1;32m<ipython-input-26-bbf22621bf54>\u001b[0m in \u001b[0;36m<module>\u001b[1;34m()\u001b[0m\n\u001b[1;32m----> 1\u001b[1;33m \u001b[0mremovebadchannel\u001b[0m\u001b[1;33m(\u001b[0m\u001b[0mepoch\u001b[0m\u001b[1;33m)\u001b[0m\u001b[1;33m\u001b[0m\u001b[0m\n\u001b[0m",
      "\u001b[1;32m<ipython-input-17-b09d9d000d18>\u001b[0m in \u001b[0;36mremovebadchannel\u001b[1;34m(epoch)\u001b[0m\n\u001b[0;32m      1\u001b[0m \u001b[1;32mdef\u001b[0m \u001b[0mremovebadchannel\u001b[0m\u001b[1;33m(\u001b[0m\u001b[0mepoch\u001b[0m\u001b[1;33m)\u001b[0m\u001b[1;33m:\u001b[0m\u001b[1;33m\u001b[0m\u001b[0m\n\u001b[1;32m----> 2\u001b[1;33m     \u001b[0mepoch\u001b[0m\u001b[1;33m.\u001b[0m\u001b[0mdrop_channels\u001b[0m\u001b[1;33m(\u001b[0m\u001b[1;33m[\u001b[0m\u001b[1;34m'Lm'\u001b[0m\u001b[1;33m,\u001b[0m\u001b[1;34m'Rm'\u001b[0m\u001b[1;33m,\u001b[0m\u001b[1;34m'VEOG'\u001b[0m\u001b[1;33m]\u001b[0m\u001b[1;33m)\u001b[0m\u001b[1;33m\u001b[0m\u001b[0m\n\u001b[0m\u001b[0;32m      3\u001b[0m     \u001b[0mepoch\u001b[0m\u001b[1;33m.\u001b[0m\u001b[0mdrop_channels\u001b[0m\u001b[1;33m(\u001b[0m\u001b[1;33m[\u001b[0m\u001b[1;34m'STI 014'\u001b[0m\u001b[1;33m]\u001b[0m\u001b[1;33m)\u001b[0m\u001b[1;33m\u001b[0m\u001b[0m\n",
      "\u001b[1;32m~\\New folder\\envs\\py36\\lib\\site-packages\\mne\\channels\\channels.py\u001b[0m in \u001b[0;36mdrop_channels\u001b[1;34m(self, ch_names)\u001b[0m\n\u001b[0;32m    787\u001b[0m         \u001b[1;32mif\u001b[0m \u001b[0mlen\u001b[0m\u001b[1;33m(\u001b[0m\u001b[0mmissing\u001b[0m\u001b[1;33m)\u001b[0m \u001b[1;33m>\u001b[0m \u001b[1;36m0\u001b[0m\u001b[1;33m:\u001b[0m\u001b[1;33m\u001b[0m\u001b[0m\n\u001b[0;32m    788\u001b[0m             \u001b[0mmsg\u001b[0m \u001b[1;33m=\u001b[0m \u001b[1;34m\"Channel(s) {0} not found, nothing dropped.\"\u001b[0m\u001b[1;33m\u001b[0m\u001b[0m\n\u001b[1;32m--> 789\u001b[1;33m             \u001b[1;32mraise\u001b[0m \u001b[0mValueError\u001b[0m\u001b[1;33m(\u001b[0m\u001b[0mmsg\u001b[0m\u001b[1;33m.\u001b[0m\u001b[0mformat\u001b[0m\u001b[1;33m(\u001b[0m\u001b[1;34m\", \"\u001b[0m\u001b[1;33m.\u001b[0m\u001b[0mjoin\u001b[0m\u001b[1;33m(\u001b[0m\u001b[0mmissing\u001b[0m\u001b[1;33m)\u001b[0m\u001b[1;33m)\u001b[0m\u001b[1;33m)\u001b[0m\u001b[1;33m\u001b[0m\u001b[0m\n\u001b[0m\u001b[0;32m    790\u001b[0m \u001b[1;33m\u001b[0m\u001b[0m\n\u001b[0;32m    791\u001b[0m         bad_idx = [self.ch_names.index(ch_name) for ch_name in ch_names\n",
      "\u001b[1;31mValueError\u001b[0m: Channel(s) Lm, Rm, VEOG not found, nothing dropped."
     ]
    }
   ],
   "source": [
    " removebadchannel(epoch)"
   ]
  },
  {
   "cell_type": "code",
   "execution_count": 32,
   "metadata": {},
   "outputs": [
    {
     "data": {
      "text/plain": [
       "(968, 125, 500)"
      ]
     },
     "execution_count": 32,
     "metadata": {},
     "output_type": "execute_result"
    }
   ],
   "source": [
    "newdata=epoch.get_data()\n",
    "epoch.get_data().shape"
   ]
  },
  {
   "cell_type": "code",
   "execution_count": 35,
   "metadata": {},
   "outputs": [
    {
     "name": "stdout",
     "output_type": "stream",
     "text": [
      "(125, 500)\n",
      "-0.0013672415665345727 0.0014172594877000255\n",
      "(1, 1, 500)\n",
      "(2, 1, 500)\n",
      "(3, 1, 500)\n",
      "(4, 1, 500)\n",
      "(5, 1, 500)\n",
      "(6, 1, 500)\n",
      "(7, 1, 500)\n",
      "(8, 1, 500)\n",
      "(9, 1, 500)\n",
      "(10, 1, 500)\n",
      "(11, 1, 500)\n",
      "(12, 1, 500)\n",
      "(13, 1, 500)\n",
      "(14, 1, 500)\n",
      "(15, 1, 500)\n",
      "(16, 1, 500)\n",
      "(17, 1, 500)\n",
      "(18, 1, 500)\n",
      "(19, 1, 500)\n",
      "(20, 1, 500)\n",
      "(21, 1, 500)\n",
      "(22, 1, 500)\n",
      "(23, 1, 500)\n",
      "(24, 1, 500)\n",
      "(25, 1, 500)\n",
      "(26, 1, 500)\n",
      "(27, 1, 500)\n",
      "(28, 1, 500)\n",
      "(29, 1, 500)\n",
      "(30, 1, 500)\n",
      "(31, 1, 500)\n",
      "(32, 1, 500)\n",
      "(33, 1, 500)\n",
      "(34, 1, 500)\n",
      "(34,)\n",
      "[[1], [3], [11], [15], [17], [20], [26], [30], [31], [40], [42], [44], [45], [50], [51], [52], [61], [65], [70], [73], [74], [79], [81], [82], [88], [89], [90], [91], [96], [106], [114], [115], [119], [120]]\n",
      "(34, 1, 500)\n"
     ]
    }
   ],
   "source": [
    "findchanel (newdata, 0,1)"
   ]
  },
  {
   "cell_type": "code",
   "execution_count": null,
   "metadata": {},
   "outputs": [],
   "source": []
  }
 ],
 "metadata": {
  "kernelspec": {
   "display_name": "Python 3",
   "language": "python",
   "name": "python3"
  },
  "language_info": {
   "codemirror_mode": {
    "name": "ipython",
    "version": 3
   },
   "file_extension": ".py",
   "mimetype": "text/x-python",
   "name": "python",
   "nbconvert_exporter": "python",
   "pygments_lexer": "ipython3",
   "version": "3.6.5"
  }
 },
 "nbformat": 4,
 "nbformat_minor": 2
}
