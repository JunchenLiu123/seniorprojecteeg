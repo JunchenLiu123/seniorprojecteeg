{
 "cells": [
  {
   "cell_type": "code",
   "execution_count": 10,
   "metadata": {},
   "outputs": [],
   "source": [
    "%run preprocecssing_helpers.ipynb\n",
    "import os\n",
    "import time\n",
    "import mne\n",
    "from mne.preprocessing import ICA\n",
    "import numpy\n",
    "import matplotlib.pyplot as plt\n",
    "# %matplotlib inline\n",
    "%matplotlib qt\n",
    "import matplotlib\n",
    "matplotlib.rcParams['figure.figsize'] = (10.0, 10.0)\n",
    "matplotlib.rcParams.update({'font.size': 15})\n",
    "# matplotlib.rcParams."
   ]
  },
  {
   "cell_type": "code",
   "execution_count": 93,
   "metadata": {},
   "outputs": [],
   "source": []
  },
  {
   "cell_type": "code",
   "execution_count": 1,
   "metadata": {},
   "outputs": [],
   "source": [
    "new_stim_code_event_ids = {\n",
    "     \n",
    "    \"b-f2-wrd\":1,\n",
    "    \"b-f1-wrd\":2,\n",
    "    \"b-tg-wrd\":3,\n",
    "\n",
    "    \"b-f2-spk\":4,\n",
    "    \"b-f1-spk\":5,\n",
    "    \"b-tg-spk\":6,\n",
    "\n",
    "    \"b-f2-pic\":7,\n",
    "    \"b-f1-pic\":8,\n",
    "    \"b-tg-pic\":9,\n",
    "\n",
    "    \"b-f2-snd\":10,\n",
    "    \"b-f1-snd\":11,\n",
    "    \"b-tg-snd\":12,\n",
    "\n",
    "    \"f-f2-wrd\":13,\n",
    "    \"f-f1-wrd\":14,\n",
    "    \"f-tg-wrd\":15,\n",
    "\n",
    "    \"f-f2-spk\":16,\n",
    "    \"f-f1-spk\":17,\n",
    "    \"f-tg-spk\":18,\n",
    "\n",
    "    \"f-f2-pic\":19,\n",
    "    \"f-f1-pic\":20,\n",
    "    \"f-tg-pic\":21,\n",
    "\n",
    "    \"f-f2-snd\":22,\n",
    "    \"f-f1-snd\":23,\n",
    "    \"f-tg-snd\":24\n",
    "}"
   ]
  },
  {
   "cell_type": "code",
   "execution_count": 95,
   "metadata": {},
   "outputs": [],
   "source": [
    "# raw = mne.io.read_raw_eeglab(eeglab_files[2],preload = True)"
   ]
  },
  {
   "cell_type": "code",
   "execution_count": 2,
   "metadata": {},
   "outputs": [],
   "source": [
    "def list_eeglab_files(root_path):\n",
    "    \"\"\"\n",
    "    NOTE: must perform magic command %run preprocecssing_helpers.ipynb before using this method.\n",
    "    \n",
    "    Description: \n",
    "        Lists all eeglab .set files within a directory. \n",
    "        Assuming that the file format is: \n",
    "        Root Folder -> Subject Folder -> eeglab file contents\n",
    "        example: \n",
    "        EEGLAB (root) -> SA20140220 (subject) -> 20140220_1009.set\n",
    "        or \n",
    "        F:\\\\EEGLAB\\\\SA20140220\\\\20140220_1009.set\n",
    "    \n",
    "    Variables: \n",
    "        root_path: the folder containing all subject folders\n",
    "    ----\n",
    "    Returns:\n",
    "        List of file .set path locations.\n",
    "    \"\"\"\n",
    "    \n",
    "    eeglab_files_list = os.listdir(root_path)\n",
    "    eeglab_dict = search_folders(root_path, eeglab_files_list)\n",
    "    eeglab_files = paths_of_eeglab_files(path, eeglab_dict)\n",
    "    \n",
    "    return eeglab_files"
   ]
  },
  {
   "cell_type": "code",
   "execution_count": 97,
   "metadata": {},
   "outputs": [],
   "source": [
    "# eeglab_files = list_eeglab_files(path)"
   ]
  },
  {
   "cell_type": "code",
   "execution_count": 5,
   "metadata": {},
   "outputs": [],
   "source": [
    "def find_events(eeglab):\n",
    "    \"\"\"\n",
    "    Description:\n",
    "        returns the events of an eeglab .set object\n",
    "        \n",
    "    Variables:\n",
    "        eeglab: mne.io.eeglab.eeglab.RawEEGLAB object\n",
    "    ------\n",
    "    returns: np array of 3d lists\n",
    "    \"\"\"\n",
    "    return mne.find_events(eeglab, output= 'offset',\n",
    "                              consecutive= True,\n",
    "                              min_duration=1/eeglab.info['sfreq'], \n",
    "                              shortest_event= 1, \n",
    "                              initial_event=False)\n",
    "    "
   ]
  },
  {
   "cell_type": "code",
   "execution_count": 99,
   "metadata": {},
   "outputs": [],
   "source": [
    "# events = find_events(raw)\n",
    "# type(events)"
   ]
  },
  {
   "cell_type": "code",
   "execution_count": 6,
   "metadata": {},
   "outputs": [],
   "source": [
    "def get_trials(events):\n",
    "    \"\"\"\n",
    "    Descriptions:\n",
    "        returns a list of trials where each trial contains timestamp, offset and event_id\n",
    "    \n",
    "    Variables:\n",
    "        events: A np array of 3d lists. use mne.find_events or custom find_events(eeglab) method already written.\n",
    "    -----\n",
    "    returns: np array of lists\n",
    "    \"\"\"\n",
    "    trials = []\n",
    "    current_trial = []\n",
    "    for event in events:\n",
    "        if event[-1] == 31 and current_trial != []:\n",
    "            trials.append(current_trial)\n",
    "            current_trial = []\n",
    "            current_trial.append(event)\n",
    "        else:\n",
    "            current_trial.append(event)\n",
    "            \n",
    "    trials.append(current_trial) # the last trial does not have an indicator, so append it after the loop ends\n",
    "    return trials"
   ]
  },
  {
   "cell_type": "code",
   "execution_count": 101,
   "metadata": {},
   "outputs": [],
   "source": [
    "# trials = get_trials(events)"
   ]
  },
  {
   "cell_type": "code",
   "execution_count": 102,
   "metadata": {},
   "outputs": [],
   "source": [
    "# trials[1][0]"
   ]
  },
  {
   "cell_type": "code",
   "execution_count": 7,
   "metadata": {},
   "outputs": [],
   "source": [
    "def filter_bad_trials(eeglab):\n",
    "    \"\"\"\n",
    "    Description:\n",
    "        Filters out all events that are not within the 1-24 stim-code definitions.\n",
    "        Also filters for trials that have a reaction time greater than .500ms as the subject \n",
    "        failed to click in time and was marked incorrect anyway.\n",
    "        \n",
    "    Variables:\n",
    "        eeglab: mne.io.eeglab.eeglab.RawEEGLAB object\n",
    "    ------\n",
    "    returns:\n",
    "        new_events: \n",
    "            np array of 3d list of events \n",
    "    \"\"\"\n",
    "    \n",
    "    events = find_events(eeglab)\n",
    "    trials = get_trials(events)\n",
    "    button_clicks = [131,132]\n",
    "    accuracy = [129,130]\n",
    "    found_first_stim_code = False\n",
    "    found_third_stim_code = False\n",
    "    isEnd_of_trial = False\n",
    "    new_events = []\n",
    "    good_trials = []\n",
    "    bad_trials_count = 0\n",
    "    for trial in trials:\n",
    "#         print(trial)\n",
    "        for event in trial:\n",
    "            # find first stim-code\n",
    "            if event[-1] <= 24 and found_first_stim_code == False: \n",
    "                first_stim_code = event\n",
    "                found_first_stim_code = True\n",
    "#                 print(\"found first stim-code: {0}\".format(first_stim_code))\n",
    "\n",
    "            # find third stim-code\n",
    "            if found_first_stim_code and event[-1] <= 24:\n",
    "                #the third stim-code is one less than the first. \n",
    "                if event[-1] + 1 == first_stim_code[-1]:\n",
    "                    third_stim_code = event\n",
    "                    found_third_stim_code = True\n",
    "            \n",
    "            if event[-1] in button_clicks:\n",
    "                button_click = event        \n",
    "                \n",
    "            if event[-1] in accuracy:\n",
    "                #end of trial\n",
    "                if event[-1] == 130: # incorrect\n",
    "                    button_click = event\n",
    "                    time_diff = (button_click[0] - third_stim_code[0]) * (1/512) #compute time in seconds\n",
    "                    if time_diff > 1:\n",
    "                        print(\"time difference {0}\".format(time_diff))\n",
    "                        print(third_stim_code)\n",
    "                        print(button_click)\n",
    "                        bad_trials_count+=1\n",
    "                    else:\n",
    "                        #store this trial\n",
    "                         good_trials.append(trial)\n",
    "                else:\n",
    "                    good_trials.append(trial)\n",
    "                found_first_stim_code = False\n",
    "                found_third_stim_code = False\n",
    "                \n",
    "    print(\"\\n **{0} bad trials dropped**\".format(bad_trials_count))\n",
    "    return np.concatenate([x for x in good_trials])"
   ]
  },
  {
   "cell_type": "code",
   "execution_count": 104,
   "metadata": {},
   "outputs": [],
   "source": [
    "# filtered_events = filter_bad_trials(raw)"
   ]
  },
  {
   "cell_type": "code",
   "execution_count": 8,
   "metadata": {},
   "outputs": [],
   "source": [
    "def events_with_stim_codes(events):\n",
    "    \"\"\"\n",
    "    Description:\n",
    "        Method will return an mne events ndarray containing only \n",
    "        stim-codes (event_ids 1-24).\n",
    "    Variables:\n",
    "        events: list of 3d lists \n",
    "    -----\n",
    "    Returns:\n",
    "        new_events list of 3d lists containing events of stim-codes    \n",
    "    \"\"\"\n",
    "    new_events = []\n",
    "    for event in events:\n",
    "        if event[-1] <= 24:\n",
    "            new_events.append(np.array(event))\n",
    "            \n",
    "    return np.array(new_events)\n",
    "    "
   ]
  },
  {
   "cell_type": "code",
   "execution_count": 9,
   "metadata": {},
   "outputs": [],
   "source": [
    "# some eeglab .set files may not have seen ALL of the 1-24 stim-code events.\n",
    "# write method to return a proper event_id dictionary\n",
    "def get_stim_code_event_ids(events, event_ids):\n",
    "    \"\"\"\n",
    "    Description:\n",
    "        return dictionay of event_ids that match the criteria of the eeglab file.\n",
    "        Some files may not have all stim-code events, and to avoid errors when creating epochs, \n",
    "        this method will return a dictionary of compatible event_ids.\n",
    "        \n",
    "    Variables:\n",
    "        events: ndarray of ints (n_events, 3)\n",
    "        event_ids: dictionary of event_ids \n",
    "            ex. {'stim-code': 1}\n",
    "    -----\n",
    "    return: dictionary of event_ids\n",
    "    \"\"\"\n",
    "    unique_events = np.unique(events[:,-1])\n",
    "    event_id_values = event_ids.values()\n",
    "    event_dict = {}\n",
    "    \n",
    "    for event_id in unique_events:\n",
    "        if event_id in event_id_values:\n",
    "            key = list(event_ids.keys())[event_id-1]\n",
    "            event_dict[key] = event_id\n",
    "            \n",
    "    return event_dict"
   ]
  },
  {
   "cell_type": "code",
   "execution_count": 107,
   "metadata": {},
   "outputs": [],
   "source": [
    "def artifact_removal(eeglab):\n",
    "    \"\"\"\n",
    "    NOTE: use this method after creating epoch objects to speed up process!\n",
    "    \n",
    "    Description:\n",
    "        Perform notch filter, frequenc filter, and ICA \n",
    "        \n",
    "    Variables: \n",
    "        eeglab: mne.io.eeglab.eeglab.RawEEGLAB object\n",
    "    returns:\n",
    "        eeglab: mne.io.eeglab.eeglab.RawEEGLAB object\n",
    "\n",
    "    \"\"\"\n",
    "    \n",
    "    eeglab.notch_filter(np.arange(60,241,60), filter_length='auto', phase = 'zero')\n",
    "    eeglab.filter(5,100, fir_design='firwin')\n",
    "    eeglab.resample(256, n_jobs=10)\n",
    "    ica = ICA(n_components=None, max_iter = 1000, random_state = 42)\n",
    "    ica.fit(eeglab,picks = None, decim=3, reject=dict(mag=4e-12, grad=4000e-13))\n",
    "    ica.detect_artifacts(eeglab,start_find=None, stop_find=None, ecg_ch=None, \n",
    "                 ecg_score_func='pearsonr', skew_criterion=None, \n",
    "                 kurt_criterion=None, var_criterion=None,add_nodes=None)\n",
    "    \n",
    "    return ica.apply(eeglab)"
   ]
  },
  {
   "cell_type": "code",
   "execution_count": 108,
   "metadata": {},
   "outputs": [],
   "source": [
    "def create_epochs(eeglab, events, event_id):\n",
    "    \"\"\"\n",
    "    Description: \n",
    "        create mne.epoch object from eeglab data.\n",
    "    \n",
    "    Variables:\n",
    "        eeglab: mne.io.eeglab.eeglab.RawEEGLAB object\n",
    "        events: array of int, shape (n_events, 3)\n",
    "        event_id: dictionary of events \n",
    "            Keys are name of event as string, value is event_id as an int.\n",
    "    \n",
    "    returns:\n",
    "        mne.epoch object\n",
    "            \n",
    "    \"\"\"\n",
    "    tmax = (1/eeglab.info['sfreq']) * 499 # tmax 1/sfrq * desired epoch length\n",
    "    return mne.Epochs(eeglab, \n",
    "                      events=events,\n",
    "                      event_id = new_stim_code_event_ids, \n",
    "                      preload = True, \n",
    "                      tmin=0, \n",
    "                      tmax=tmax) \n",
    "    "
   ]
  },
  {
   "cell_type": "code",
   "execution_count": 109,
   "metadata": {},
   "outputs": [],
   "source": [
    "# tmax = (1/raw.info['sfreq']) * 499 # tmax 1/sfrq * desired epoch length\n",
    "# epoch = mne.Epochs(raw, events=new_events, event_id = new_stim_code_event_ids, preload = True, tmin=0, tmax=tmax) "
   ]
  },
  {
   "cell_type": "code",
   "execution_count": null,
   "metadata": {},
   "outputs": [],
   "source": []
  },
  {
   "cell_type": "code",
   "execution_count": 1,
   "metadata": {},
   "outputs": [],
   "source": [
    "def remove_artifacts_and_create_epochs(eeglab):\n",
    "    \"\"\"\n",
    "    Description:\n",
    "        Handles the start to finish process of finding events, event_ids, \n",
    "        artifact removal, and creaing epoch object.\n",
    "    \n",
    "    Variables:\n",
    "        eeglab: mne.io.eeglab.eeglab.RawEEGLAB object\n",
    "    \n",
    "    Returns:\n",
    "        mne.epoch object\n",
    "    \"\"\"\n",
    "    eeglab = mne.io.read_raw_eeglab(eeglab,preload = True)\n",
    "    events = filter_bad_trials(eeglab)\n",
    "    stim_code_events = events_with_stim_codes(events)\n",
    "    stim_code_event_ids = get_stim_code_event_ids(stim_code_events,new_stim_code_event_ids)\n",
    "    raw_ica = artifact_removal(eeglab= eeglab)\n",
    "    \n",
    "    return create_epochs(eeglab= raw_ica, events= stim_code_events, event_id= stim_code_event_ids)\n",
    "    "
   ]
  },
  {
   "cell_type": "code",
   "execution_count": 111,
   "metadata": {},
   "outputs": [
    {
     "data": {
      "text/plain": [
       "['F:\\\\EEGLAB\\\\SA20131216\\\\20131216_1310.set',\n",
       " 'F:\\\\EEGLAB\\\\SA20131216\\\\20131216_1441.set',\n",
       " 'F:\\\\EEGLAB\\\\SA20140205\\\\20140205_1114.set',\n",
       " 'F:\\\\EEGLAB\\\\SA20140205\\\\20140205_1230.set',\n",
       " 'F:\\\\EEGLAB\\\\SA20140206\\\\20140206_1029.set',\n",
       " 'F:\\\\EEGLAB\\\\SA20140206\\\\20140206_1151.set',\n",
       " 'F:\\\\EEGLAB\\\\SA20140207\\\\20140207_1146.set',\n",
       " 'F:\\\\EEGLAB\\\\SA20140207\\\\20140207_1219.set',\n",
       " 'F:\\\\EEGLAB\\\\SA20140217\\\\20140217_1136.set',\n",
       " 'F:\\\\EEGLAB\\\\SA20140217\\\\20140217_1211.set',\n",
       " 'F:\\\\EEGLAB\\\\SA20140219\\\\20140219_1046.set',\n",
       " 'F:\\\\EEGLAB\\\\SA20140219\\\\20140219_1205.set',\n",
       " 'F:\\\\EEGLAB\\\\SA20140220\\\\20140220_1009.set',\n",
       " 'F:\\\\EEGLAB\\\\SA20140220\\\\20140220_1123.set',\n",
       " 'F:\\\\EEGLAB\\\\SA20140225\\\\20140225_1422.set',\n",
       " 'F:\\\\EEGLAB\\\\SA20140225\\\\20140225_1552.set',\n",
       " 'F:\\\\EEGLAB\\\\SA20140227A\\\\20140227_1058.set',\n",
       " 'F:\\\\EEGLAB\\\\SA20140227A\\\\20140227_1220.set',\n",
       " 'F:\\\\EEGLAB\\\\SA20140227B\\\\20140227_1410.set']"
      ]
     },
     "execution_count": 111,
     "metadata": {},
     "output_type": "execute_result"
    }
   ],
   "source": []
  },
  {
   "cell_type": "code",
   "execution_count": 112,
   "metadata": {},
   "outputs": [
    {
     "name": "stdout",
     "output_type": "stream",
     "text": [
      "Reading F:\\EEGLAB\\SA20140206\\20140206_1151.fdt\n",
      "Reading 0 ... 831247  =      0.000 ...  1623.529 secs...\n"
     ]
    }
   ],
   "source": []
  },
  {
   "cell_type": "code",
   "execution_count": 113,
   "metadata": {
    "scrolled": false
   },
   "outputs": [
    {
     "name": "stdout",
     "output_type": "stream",
     "text": [
      "5977 events found\n",
      "Event IDs: [  1   2   3   4   5   6   7   8   9  10  11  12  13  14  15  16  17  18\n",
      "  19  20  21  22  23  24  31 128 129 130 131 132 133 134 135 136 137 138\n",
      " 139 140 141 142 143 144 145 155 156 157 158 159 160 161 162 163 164 165]\n",
      "time difference 1.80859375\n",
      "[509034      0      4]\n",
      "[509960      0    130]\n",
      "\n",
      " **1 bad trials dropped**\n",
      "Setting up band-stop filter\n",
      "Filter length of 3379 samples (6.600 sec) selected\n",
      "Setting up band-pass filter from 5 - 1e+02 Hz\n",
      "l_trans_bandwidth chosen to be 2.0 Hz\n",
      "h_trans_bandwidth chosen to be 25.0 Hz\n",
      "Filter length of 845 samples (1.650 sec) selected\n",
      "5977 events found\n",
      "Event IDs: [  1   2   3   4   5   6   7   8   9  10  11  12  13  14  15  16  17  18\n",
      "  19  20  21  22  23  24  31 128 129 130 131 132 133 134 135 136 137 138\n",
      " 139 140 141 142 143 144 145 155 156 157 158 159 160 161 162 163 164 165]\n"
     ]
    },
    {
     "name": "stderr",
     "output_type": "stream",
     "text": [
      "[Parallel(n_jobs=10)]: Using backend LokyBackend with 10 concurrent workers.\n",
      "[Parallel(n_jobs=10)]: Done  52 tasks      | elapsed:   14.2s\n",
      "[Parallel(n_jobs=10)]: Done 129 out of 129 | elapsed:   27.2s finished\n"
     ]
    },
    {
     "name": "stdout",
     "output_type": "stream",
     "text": [
      "5584 events found\n",
      "Event IDs: [  1   2   3   4   5   6   7   8   9  10  11  12  13  14  15  16  17  18\n",
      "  19  20  21  22  23  24  31 128 129 130 131 132 133 134 135 136 137 138\n",
      " 139 140 141 142 143 144 145 155 156 157 158 159 160 161 162 163 164 165]\n",
      "Fitting ICA to data using 128 channels (please be patient, this may take a while)\n",
      "Inferring max_pca_components from picks\n",
      "Using all PCA components: 128\n",
      "Fitting ICA took 162.5s.\n",
      "    Searching for artifacts...\n",
      "Artifact indices found:\n",
      "    \n",
      "Ready.\n",
      "Transforming to ICA space (128 components)\n",
      "Zeroing out 0 ICA components\n",
      "1979 matching events found\n",
      "Applying baseline correction (mode: mean)\n",
      "Not setting metadata\n",
      "0 projection items activated\n",
      "Loading data for 1979 events and 500 original time points ...\n",
      "1011 bad epochs dropped\n"
     ]
    }
   ],
   "source": []
  },
  {
   "cell_type": "code",
   "execution_count": 133,
   "metadata": {},
   "outputs": [],
   "source": []
  },
  {
   "cell_type": "code",
   "execution_count": 134,
   "metadata": {},
   "outputs": [],
   "source": []
  },
  {
   "cell_type": "code",
   "execution_count": 114,
   "metadata": {},
   "outputs": [],
   "source": []
  },
  {
   "cell_type": "code",
   "execution_count": null,
   "metadata": {},
   "outputs": [],
   "source": []
  },
  {
   "cell_type": "code",
   "execution_count": null,
   "metadata": {},
   "outputs": [],
   "source": []
  },
  {
   "cell_type": "code",
   "execution_count": 115,
   "metadata": {},
   "outputs": [],
   "source": [
    "# get_stim_code_event_ids(new_events, new_stim_code_event_ids)"
   ]
  },
  {
   "cell_type": "code",
   "execution_count": 116,
   "metadata": {},
   "outputs": [],
   "source": [
    "# list(new_stim_code_event_ids.keys())"
   ]
  },
  {
   "cell_type": "code",
   "execution_count": 117,
   "metadata": {},
   "outputs": [],
   "source": [
    "# new_stim_code_event_ids.values()"
   ]
  },
  {
   "cell_type": "code",
   "execution_count": 118,
   "metadata": {},
   "outputs": [],
   "source": [
    "# new_events = events_with_stim_codes(filtered_events)\n",
    "# np.unique(new_events[:,-1])"
   ]
  },
  {
   "cell_type": "code",
   "execution_count": 119,
   "metadata": {},
   "outputs": [],
   "source": [
    "# for set_file in eeglab_files[0]:\n",
    "#     try:\n",
    "#         start = time.time()\n",
    "#         raw = mne.io.read_raw_eeglab(set_file, preload=True)\n",
    "#         raw.notch_filter(np.arange(60,241,60), filter_length='auto', phase = 'zero')\n",
    "#         raw.filter(5,100, fir_design='firwin')\n",
    "#         raw.resample(256, n_jobs=10)\n",
    "#         ica = ICA(n_components=None, max_iter = 1000, random_state = 42)\n",
    "#         ica.fit(raw,picks = None, decim=3, reject=dict(mag=4e-12, grad=4000e-13))\n",
    "#         ica.detect_artifacts(raw,start_find=None, stop_find=None, ecg_ch=None, \n",
    "#                      ecg_score_func='pearsonr', skew_criterion=None, \n",
    "#                      kurt_criterion=None, var_criterion=None,add_nodes=None)\n",
    "#         raw_ica = ica.apply(raw)\n",
    "\n",
    "#         m_event = mne.find_events(raw_ica, min_duration=1/raw.info['sfreq'], shortest_event= 1, initial_event=True)\n",
    "#         epoch = mne.Epochs(raw, events=m_event, event_id = event_id, preload = True)\n",
    "# #         epoch.save(set_file.split('\\\\')[-1].split('.')[0] + \"_epo.fif\", verbose = True)\n",
    "#         end = time.time()\n",
    "#         print(\"SUCESSFULLY LOADED time elapsed: {0}\", (end - start))\n",
    "#     except :\n",
    "#         print(\"***Error converting file: {0}***\".format(set_file))\n",
    "        "
   ]
  },
  {
   "cell_type": "code",
   "execution_count": 120,
   "metadata": {},
   "outputs": [],
   "source": [
    "# start = time.time()\n",
    "# # raw = mne.io.read_raw_eeglab(, preload=True)\n",
    "# raw.notch_filter(np.arange(60,241,60), filter_length='auto', phase = 'zero')\n",
    "# raw.filter(5,100, fir_design='firwin')\n",
    "# raw.resample(256, n_jobs=10)\n",
    "# ica = ICA(n_components=None, max_iter = 1000, random_state = 42)\n",
    "# ica.fit(raw,picks = None, decim=3, reject=dict(mag=4e-12, grad=4000e-13))\n",
    "# ica.detect_artifacts(raw,start_find=None, stop_find=None, ecg_ch=None, \n",
    "#              ecg_score_func='pearsonr', skew_criterion=None, \n",
    "#              kurt_criterion=None, var_criterion=None,add_nodes=None)\n",
    "# raw_ica = ica.apply(raw)\n",
    "\n",
    "# # m_event = mne.find_events(raw_ica, min_duration=1/raw.info['sfreq'], shortest_event= 0.5, initial_event=True)\n",
    "# epoch = mne.Epochs(raw, events=new_events, event_id =new_stim_code_event_ids , preload = True, tmin=0, tmax=1,)\n",
    "# end = time.time()\n",
    "# print(\"time elapsed: {0}\", (end - start))"
   ]
  },
  {
   "cell_type": "markdown",
   "metadata": {},
   "source": [
    "## check if saving and loading epoch file works."
   ]
  },
  {
   "cell_type": "code",
   "execution_count": 121,
   "metadata": {},
   "outputs": [],
   "source": [
    "# os.chdir(epoch_destination)"
   ]
  },
  {
   "cell_type": "code",
   "execution_count": 122,
   "metadata": {},
   "outputs": [],
   "source": [
    "\n",
    "# epoch.save('20131216_1310_epo.fif',verbose = True)"
   ]
  },
  {
   "cell_type": "code",
   "execution_count": 123,
   "metadata": {},
   "outputs": [],
   "source": [
    "# epoch_files = os.listdir(epoch_destination)"
   ]
  },
  {
   "cell_type": "code",
   "execution_count": 124,
   "metadata": {},
   "outputs": [],
   "source": [
    "# epoch_file = epoch_files[0]\n",
    "# epoch_ = mne.read_epochs(epoch_file,preload=True)"
   ]
  },
  {
   "cell_type": "code",
   "execution_count": 125,
   "metadata": {},
   "outputs": [],
   "source": [
    "# epoch_.plot(title=\"epochs\");"
   ]
  },
  {
   "cell_type": "code",
   "execution_count": 126,
   "metadata": {},
   "outputs": [],
   "source": [
    "# for set_file in eeglab_files:\n",
    "#     print(set_file.split('\\\\')[-1].split('.')[0] + \"_epo.fif\")"
   ]
  },
  {
   "cell_type": "code",
   "execution_count": 127,
   "metadata": {},
   "outputs": [],
   "source": [
    "# # start = time.time()\n",
    "# raw = mne.io.read_raw_eeglab(eeglab_files[1], preload=True)\n",
    "# raw.notch_filter(np.arange(60,241,60), filter_length='auto', phase = 'zero')\n",
    "# raw.filter(5,100, fir_design='firwin')\n",
    "# raw.resample(256, n_jobs=10)\n",
    "# ica = ICA(n_components=None, max_iter = 1000, random_state = 42)\n",
    "# ica.fit(raw,picks = None, decim=3, reject=dict(mag=4e-12, grad=4000e-13))\n",
    "# ica.detect_artifacts(raw,start_find=None, stop_find=None, ecg_ch=None, \n",
    "#              ecg_score_func='pearsonr', skew_criterion=None, \n",
    "#              kurt_criterion=None, var_criterion=None,add_nodes=None)\n",
    "# raw_ica = ica.apply(raw)\n",
    "\n",
    "# m_event = mne.find_events(raw_ica, min_duration=1/raw.info['sfreq'], shortest_event= 1.5, initial_event=True)\n",
    "# epoch = mne.Epochs(raw, events=m_event, event_id = event_id, preload = True)"
   ]
  },
  {
   "cell_type": "markdown",
   "metadata": {},
   "source": [
    "## Read epoched data any plot"
   ]
  },
  {
   "cell_type": "code",
   "execution_count": 128,
   "metadata": {},
   "outputs": [],
   "source": [
    "# path = 'E:\\EpochedEEG'\n",
    "# epoch_files = os.listdir(path)"
   ]
  },
  {
   "cell_type": "code",
   "execution_count": 129,
   "metadata": {},
   "outputs": [],
   "source": [
    "# eeg_file = os.path.join(path,epoch_files[0])"
   ]
  },
  {
   "cell_type": "code",
   "execution_count": 130,
   "metadata": {},
   "outputs": [],
   "source": [
    "# epoch = mne.read_epochs(eeg_file, preload = True)"
   ]
  },
  {
   "cell_type": "code",
   "execution_count": 131,
   "metadata": {},
   "outputs": [],
   "source": [
    "# epoch.plot(n_channels=20, n_epochs = 10, title = eeg_file);"
   ]
  },
  {
   "cell_type": "code",
   "execution_count": null,
   "metadata": {},
   "outputs": [],
   "source": []
  }
 ],
 "metadata": {
  "kernelspec": {
   "display_name": "Python 3",
   "language": "python",
   "name": "python3"
  },
  "language_info": {
   "codemirror_mode": {
    "name": "ipython",
    "version": 3
   },
   "file_extension": ".py",
   "mimetype": "text/x-python",
   "name": "python",
   "nbconvert_exporter": "python",
   "pygments_lexer": "ipython3",
   "version": "3.6.5"
  }
 },
 "nbformat": 4,
 "nbformat_minor": 2
}
