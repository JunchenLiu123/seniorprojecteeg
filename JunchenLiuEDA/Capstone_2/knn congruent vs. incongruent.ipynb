{
 "cells": [
  {
   "cell_type": "markdown",
   "metadata": {},
   "source": [
    "# Use KNN to classify the data\n",
    "* this notebook will write methods to use KNN for classfying on all the data for different subject files \n",
    "* The goal is to be able to find which subject files give the most classfication scores using knn."
   ]
  },
  {
   "cell_type": "code",
   "execution_count": 1,
   "metadata": {},
   "outputs": [],
   "source": [
    "import numpy as np\n",
    "import matplotlib.pyplot as plt\n",
    "from mne.decoding import Vectorizer\n",
    "from sklearn.preprocessing import MinMaxScaler\n",
    "from mne.decoding import SPoC\n",
    "from sklearn.naive_bayes import GaussianNB\n",
    "from sklearn.preprocessing import StandardScaler\n",
    "from sklearn.pipeline import make_pipeline\n",
    "from sklearn.preprocessing import StandardScaler\n",
    "from sklearn.linear_model import LogisticRegression\n",
    "from sklearn.linear_model import Ridge\n",
    "from sklearn import linear_model\n",
    "from sklearn.linear_model import LinearRegression\n",
    "from sklearn.feature_extraction.text import TfidfTransformer\n",
    "from sklearn.discriminant_analysis import LinearDiscriminantAnalysis\n",
    "from sklearn.neighbors import KNeighborsClassifier as KNN\n",
    "from sklearn.model_selection import train_test_split\n",
    "from sklearn.decomposition import PCA\n",
    "from sklearn.model_selection import train_test_split as tts\n",
    "import mne\n",
    "from sklearn.model_selection import StratifiedKFold\n",
    "from mne.datasets import sample\n",
    "from mne.decoding import (SlidingEstimator, GeneralizingEstimator,\n",
    "                          cross_val_multiscore, LinearModel, get_coef)\n",
    "from sklearn.decomposition import PCA\n",
    "from sklearn.decomposition import NMF\n",
    "from sklearn.manifold import TSNE \n",
    "import os\n",
    "import os.path as op\n",
    "from os import listdir\n",
    "from os.path import isfile, join\n",
    "from collections import defaultdict"
   ]
  },
  {
   "cell_type": "code",
   "execution_count": null,
   "metadata": {},
   "outputs": [],
   "source": [
    "epoch=mne.read_epochs('C:\\\\USB Drive\\\\EpochedEEG\\\\20131216_1441_epo.fif',preload=True)"
   ]
  },
  {
   "cell_type": "code",
   "execution_count": 4,
   "metadata": {},
   "outputs": [
    {
     "name": "stdout",
     "output_type": "stream",
     "text": [
      "0.7874692874692875\n"
     ]
    }
   ],
   "source": [
    "X = epoch.get_data()\n",
    "y=epoch.events[:,-1]\n",
    "\n",
    "clf = make_pipeline(Vectorizer(),\n",
    "                        KNN(n_neighbors=13))\n",
    "    \n",
    "X_train, X_test, y_train, y_test = train_test_split(X,y, test_size = 0.3, random_state = 42)\n",
    "    \n",
    "clf.fit(X_train, y_train)\n",
    "    \n",
    "score = clf.score(X_test, y_test)\n",
    "print (score)"
   ]
  },
  {
   "cell_type": "code",
   "execution_count": 5,
   "metadata": {},
   "outputs": [
    {
     "data": {
      "text/plain": [
       "array([131,  31, 144, ...,   1, 131, 134])"
      ]
     },
     "execution_count": 5,
     "metadata": {},
     "output_type": "execute_result"
    }
   ],
   "source": [
    "epoch.events[:,-1]"
   ]
  },
  {
   "cell_type": "code",
   "execution_count": 2,
   "metadata": {},
   "outputs": [
    {
     "ename": "NameError",
     "evalue": "name 'epoch' is not defined",
     "output_type": "error",
     "traceback": [
      "\u001b[1;31m---------------------------------------------------------------------------\u001b[0m",
      "\u001b[1;31mNameError\u001b[0m                                 Traceback (most recent call last)",
      "\u001b[1;32m<ipython-input-2-5ae49edef64d>\u001b[0m in \u001b[0;36m<module>\u001b[1;34m()\u001b[0m\n\u001b[1;32m----> 1\u001b[1;33m \u001b[0mX\u001b[0m \u001b[1;33m=\u001b[0m \u001b[0mepoch\u001b[0m\u001b[1;33m.\u001b[0m\u001b[0mget_data\u001b[0m\u001b[1;33m(\u001b[0m\u001b[1;33m)\u001b[0m\u001b[1;33m\u001b[0m\u001b[0m\n\u001b[0m\u001b[0;32m      2\u001b[0m \u001b[0my\u001b[0m\u001b[1;33m=\u001b[0m\u001b[0mepoch\u001b[0m\u001b[1;33m.\u001b[0m\u001b[0mevents\u001b[0m\u001b[1;33m[\u001b[0m\u001b[1;33m:\u001b[0m\u001b[1;33m,\u001b[0m\u001b[1;33m-\u001b[0m\u001b[1;36m1\u001b[0m\u001b[1;33m]\u001b[0m\u001b[1;33m\u001b[0m\u001b[0m\n\u001b[0;32m      3\u001b[0m \u001b[1;33m\u001b[0m\u001b[0m\n\u001b[0;32m      4\u001b[0m clf = make_pipeline(Vectorizer(),\n\u001b[0;32m      5\u001b[0m                         LogisticRegression())\n",
      "\u001b[1;31mNameError\u001b[0m: name 'epoch' is not defined"
     ]
    }
   ],
   "source": [
    "X = epoch.get_data()\n",
    "y=epoch.events[:,-1]\n",
    "\n",
    "clf = make_pipeline(Vectorizer(),\n",
    "                        LogisticRegression())\n",
    "    \n",
    "X_train, X_test, y_train, y_test = train_test_split(X,y, test_size = 0.3, random_state = 42)\n",
    "    \n",
    "clf.fit(X_train, y_train)\n",
    "    \n",
    "    \n",
    "score = clf.score(X_test, y_test)\n",
    "print (score)"
   ]
  },
  {
   "cell_type": "code",
   "execution_count": 2,
   "metadata": {},
   "outputs": [],
   "source": [
    "def get_samples_targets(epochs):\n",
    "    X = epochs.get_data();\n",
    "    y = epochs.events[:,-1]\n",
    "    return X, y"
   ]
  },
  {
   "cell_type": "code",
   "execution_count": 3,
   "metadata": {},
   "outputs": [],
   "source": [
    "def classify_test_KNN(X,y):\n",
    "\n",
    "    clf = make_pipeline(Vectorizer(),\n",
    "                        StandardScaler(),\n",
    "                        KNN(n_neighbors=11))\n",
    "    \n",
    "    X_train, X_test, y_train, y_test = train_test_split(X,y, test_size = 0.3, random_state = 42)\n",
    "    \n",
    "    clf.fit(X_train, y_train)\n",
    "    \n",
    "    score = clf.score(X_test, y_test)\n",
    "    \n",
    "    return score"
   ]
  },
  {
   "cell_type": "code",
   "execution_count": null,
   "metadata": {},
   "outputs": [
    {
     "name": "stdout",
     "output_type": "stream",
     "text": [
      "Reading C:\\USB Drive\\EpochedEEG\\run1\\20131216_1441_epo.fif ...\n",
      "    Found the data of interest:\n",
      "        t =    -199.22 ...     500.00 ms\n",
      "        0 CTF compensation matrices available\n",
      "5424 matching events found\n",
      "Applying baseline correction (mode: mean)\n",
      "5424 matching events found\n",
      "Applying baseline correction (mode: mean)\n",
      "Not setting metadata\n",
      "0 projection items activated\n",
      "[['20131216_1441_epo.fif', 0.7917690417690417]]\n",
      "Reading C:\\USB Drive\\EpochedEEG\\run1\\20140205_1114_epo.fif ...\n",
      "    Found the data of interest:\n",
      "        t =    -199.22 ...     500.00 ms\n",
      "        0 CTF compensation matrices available\n",
      "5379 matching events found\n",
      "Applying baseline correction (mode: mean)\n",
      "5379 matching events found\n",
      "Applying baseline correction (mode: mean)\n",
      "Not setting metadata\n",
      "0 projection items activated\n",
      "[['20131216_1441_epo.fif', 0.7917690417690417], ['20140205_1114_epo.fif', 0.7100371747211895]]\n",
      "Reading C:\\USB Drive\\EpochedEEG\\run1\\20140205_1230_epo.fif ...\n",
      "    Found the data of interest:\n",
      "        t =    -199.22 ...     500.00 ms\n",
      "        0 CTF compensation matrices available\n",
      "5565 matching events found\n",
      "Applying baseline correction (mode: mean)\n",
      "5565 matching events found\n",
      "Applying baseline correction (mode: mean)\n",
      "Not setting metadata\n",
      "0 projection items activated\n",
      "[['20131216_1441_epo.fif', 0.7917690417690417], ['20140205_1114_epo.fif', 0.7100371747211895], ['20140205_1230_epo.fif', 0.6341317365269461]]\n",
      "Reading C:\\USB Drive\\EpochedEEG\\run1\\20140206_1029_epo.fif ...\n",
      "    Found the data of interest:\n",
      "        t =    -199.22 ...     500.00 ms\n",
      "        0 CTF compensation matrices available\n",
      "5384 matching events found\n",
      "Applying baseline correction (mode: mean)\n",
      "5384 matching events found\n",
      "Applying baseline correction (mode: mean)\n",
      "Not setting metadata\n",
      "0 projection items activated\n",
      "[['20131216_1441_epo.fif', 0.7917690417690417], ['20140205_1114_epo.fif', 0.7100371747211895], ['20140205_1230_epo.fif', 0.6341317365269461], ['20140206_1029_epo.fif', 0.6813118811881188]]\n",
      "Reading C:\\USB Drive\\EpochedEEG\\run1\\20140207_1146_epo.fif ...\n",
      "    Found the data of interest:\n",
      "        t =    -199.22 ...     500.00 ms\n",
      "        0 CTF compensation matrices available\n",
      "5398 matching events found\n",
      "Applying baseline correction (mode: mean)\n"
     ]
    }
   ],
   "source": [
    "scores1 = []\n",
    "\n",
    "path = 'C:\\\\USB Drive\\\\EpochedEEG\\\\run1'\n",
    "subject_runs = [f for f in listdir(path) if isfile(join(path, f))]\n",
    "for f in subject_runs:\n",
    "    epochs = mne.read_epochs(op.join(path, f),\n",
    "                          preload=True);\n",
    "    X,y = get_samples_targets(epochs)\n",
    "    scores1.append([f, classify_test_KNN(X,y)])\n",
    "    print(scores1)"
   ]
  },
  {
   "cell_type": "code",
   "execution_count": 2,
   "metadata": {},
   "outputs": [
    {
     "ename": "NameError",
     "evalue": "name 'scores1' is not defined",
     "output_type": "error",
     "traceback": [
      "\u001b[1;31m---------------------------------------------------------------------------\u001b[0m",
      "\u001b[1;31mNameError\u001b[0m                                 Traceback (most recent call last)",
      "\u001b[1;32m<ipython-input-2-0564596c63df>\u001b[0m in \u001b[0;36m<module>\u001b[1;34m()\u001b[0m\n\u001b[1;32m----> 1\u001b[1;33m \u001b[0mscores1\u001b[0m\u001b[1;33m\u001b[0m\u001b[0m\n\u001b[0m",
      "\u001b[1;31mNameError\u001b[0m: name 'scores1' is not defined"
     ]
    }
   ],
   "source": [
    "scores1"
   ]
  },
  {
   "cell_type": "code",
   "execution_count": 1,
   "metadata": {},
   "outputs": [],
   "source": [
    "scores1=[['20131216_1441_epo.fif', 0.7917690417690417], ['20140205_1114_epo.fif', 0.7100371747211895], ['20140205_1230_epo.fif', 0.6341317365269461], ['20140206_1029_epo.fif', 0.6813118811881188]]"
   ]
  },
  {
   "cell_type": "code",
   "execution_count": 3,
   "metadata": {},
   "outputs": [
    {
     "data": {
      "text/plain": [
       "[['20131216_1441_epo.fif', 0.7917690417690417],\n",
       " ['20140205_1114_epo.fif', 0.7100371747211895],\n",
       " ['20140205_1230_epo.fif', 0.6341317365269461],\n",
       " ['20140206_1029_epo.fif', 0.6813118811881188]]"
      ]
     },
     "execution_count": 3,
     "metadata": {},
     "output_type": "execute_result"
    }
   ],
   "source": [
    "scores1"
   ]
  },
  {
   "cell_type": "code",
   "execution_count": null,
   "metadata": {},
   "outputs": [
    {
     "name": "stdout",
     "output_type": "stream",
     "text": [
      "Reading C:\\USB Drive\\EpochedEEG\\run1\\20140207_1146_epo.fif ...\n",
      "    Found the data of interest:\n",
      "        t =    -199.22 ...     500.00 ms\n",
      "        0 CTF compensation matrices available\n",
      "5398 matching events found\n",
      "Applying baseline correction (mode: mean)\n",
      "5398 matching events found\n",
      "Applying baseline correction (mode: mean)\n",
      "Not setting metadata\n",
      "0 projection items activated\n",
      "[['20140207_1146_epo.fif', 0.6938271604938272]]\n",
      "Reading C:\\USB Drive\\EpochedEEG\\run1\\20140207_1219_epo.fif ...\n",
      "    Found the data of interest:\n",
      "        t =    -199.22 ...     500.00 ms\n",
      "        0 CTF compensation matrices available\n",
      "5575 matching events found\n",
      "Applying baseline correction (mode: mean)\n",
      "5575 matching events found\n",
      "Applying baseline correction (mode: mean)\n",
      "Not setting metadata\n",
      "0 projection items activated\n",
      "[['20140207_1146_epo.fif', 0.6938271604938272], ['20140207_1219_epo.fif', 0.6796174536760311]]\n",
      "Reading C:\\USB Drive\\EpochedEEG\\run1\\20140217_1136_epo.fif ...\n",
      "    Found the data of interest:\n",
      "        t =    -199.22 ...     500.00 ms\n",
      "        0 CTF compensation matrices available\n",
      "5584 matching events found\n",
      "Applying baseline correction (mode: mean)\n",
      "5584 matching events found\n",
      "Applying baseline correction (mode: mean)\n",
      "Not setting metadata\n",
      "0 projection items activated\n",
      "[['20140207_1146_epo.fif', 0.6938271604938272], ['20140207_1219_epo.fif', 0.6796174536760311], ['20140217_1136_epo.fif', 0.763126491646778]]\n",
      "Reading C:\\USB Drive\\EpochedEEG\\run1\\20140217_1211_epo.fif ...\n",
      "    Found the data of interest:\n",
      "        t =    -199.22 ...     500.00 ms\n",
      "        0 CTF compensation matrices available\n",
      "5410 matching events found\n",
      "Applying baseline correction (mode: mean)\n"
     ]
    }
   ],
   "source": [
    "scores1 = []\n",
    "\n",
    "path = 'C:\\\\USB Drive\\\\EpochedEEG\\\\run1'\n",
    "subject_runs = [f for f in listdir(path) if isfile(join(path, f))]\n",
    "for f in subject_runs:\n",
    "    epochs = mne.read_epochs(op.join(path, f),\n",
    "                          preload=True);\n",
    "    X,y = get_samples_targets(epochs)\n",
    "    scores1.append([f, classify_test_KNN(X,y)])\n",
    "    print(scores1)"
   ]
  },
  {
   "cell_type": "code",
   "execution_count": 1,
   "metadata": {},
   "outputs": [],
   "source": [
    "scores1=[['20131216_1441_epo.fif', 0.7917690417690417], ['20140205_1114_epo.fif', 0.7100371747211895], ['20140205_1230_epo.fif', 0.6341317365269461], ['20140206_1029_epo.fif', 0.6813118811881188],['20140207_1146_epo.fif', 0.6938271604938272], ['20140207_1219_epo.fif', 0.6796174536760311], ['20140217_1136_epo.fif', 0.763126491646778]]"
   ]
  },
  {
   "cell_type": "code",
   "execution_count": 2,
   "metadata": {},
   "outputs": [
    {
     "data": {
      "text/plain": [
       "[['20131216_1441_epo.fif', 0.7917690417690417],\n",
       " ['20140205_1114_epo.fif', 0.7100371747211895],\n",
       " ['20140205_1230_epo.fif', 0.6341317365269461],\n",
       " ['20140206_1029_epo.fif', 0.6813118811881188],\n",
       " ['20140207_1146_epo.fif', 0.6938271604938272],\n",
       " ['20140207_1219_epo.fif', 0.6796174536760311],\n",
       " ['20140217_1136_epo.fif', 0.763126491646778]]"
      ]
     },
     "execution_count": 2,
     "metadata": {},
     "output_type": "execute_result"
    }
   ],
   "source": [
    "scores1"
   ]
  },
  {
   "cell_type": "code",
   "execution_count": 6,
   "metadata": {},
   "outputs": [
    {
     "name": "stdout",
     "output_type": "stream",
     "text": [
      "Reading C:\\USB Drive\\EpochedEEG\\run1\\20140217_1211_epo.fif ...\n",
      "    Found the data of interest:\n",
      "        t =    -199.22 ...     500.00 ms\n",
      "        0 CTF compensation matrices available\n",
      "5410 matching events found\n",
      "Applying baseline correction (mode: mean)\n",
      "5410 matching events found\n",
      "Applying baseline correction (mode: mean)\n",
      "Not setting metadata\n",
      "0 projection items activated\n",
      "[['20140217_1211_epo.fif', 0.7547751078250154]]\n",
      "Reading C:\\USB Drive\\EpochedEEG\\run1\\20140219_1046_epo.fif ...\n",
      "    Found the data of interest:\n",
      "        t =    -199.22 ...     500.00 ms\n",
      "        0 CTF compensation matrices available\n",
      "5433 matching events found\n",
      "Applying baseline correction (mode: mean)\n",
      "5433 matching events found\n",
      "Applying baseline correction (mode: mean)\n",
      "Not setting metadata\n",
      "0 projection items activated\n",
      "[['20140217_1211_epo.fif', 0.7547751078250154], ['20140219_1046_epo.fif', 0.7380368098159509]]\n"
     ]
    }
   ],
   "source": [
    "scores1 = []\n",
    "\n",
    "path = 'C:\\\\USB Drive\\\\EpochedEEG\\\\run1'\n",
    "subject_runs = [f for f in listdir(path) if isfile(join(path, f))]\n",
    "for f in subject_runs:\n",
    "    epochs = mne.read_epochs(op.join(path, f),\n",
    "                          preload=True);\n",
    "    X,y = get_samples_targets(epochs)\n",
    "    scores1.append([f, classify_test_KNN(X,y)])\n",
    "    print(scores1)"
   ]
  },
  {
   "cell_type": "code",
   "execution_count": 4,
   "metadata": {},
   "outputs": [],
   "source": [
    "scores1=[['20131216_1441_epo.fif', 0.7917690417690417], ['20140205_1114_epo.fif', 0.7100371747211895], ['20140205_1230_epo.fif', 0.6341317365269461], ['20140206_1029_epo.fif', 0.6813118811881188],['20140207_1146_epo.fif', 0.6938271604938272], ['20140207_1219_epo.fif', 0.6796174536760311], ['20140217_1136_epo.fif', 0.763126491646778],['20140217_1211_epo.fif', 0.7547751078250154], ['20140219_1046_epo.fif', 0.7380368098159509]]"
   ]
  },
  {
   "cell_type": "code",
   "execution_count": 5,
   "metadata": {},
   "outputs": [
    {
     "data": {
      "text/plain": [
       "[['20131216_1441_epo.fif', 0.7917690417690417],\n",
       " ['20140205_1114_epo.fif', 0.7100371747211895],\n",
       " ['20140205_1230_epo.fif', 0.6341317365269461],\n",
       " ['20140206_1029_epo.fif', 0.6813118811881188],\n",
       " ['20140207_1146_epo.fif', 0.6938271604938272],\n",
       " ['20140207_1219_epo.fif', 0.6796174536760311],\n",
       " ['20140217_1136_epo.fif', 0.763126491646778],\n",
       " ['20140217_1211_epo.fif', 0.7547751078250154],\n",
       " ['20140219_1046_epo.fif', 0.7380368098159509]]"
      ]
     },
     "execution_count": 5,
     "metadata": {},
     "output_type": "execute_result"
    }
   ],
   "source": [
    "scores1"
   ]
  },
  {
   "cell_type": "code",
   "execution_count": 27,
   "metadata": {},
   "outputs": [
    {
     "name": "stdout",
     "output_type": "stream",
     "text": [
      "[['20131216_1441_epo.fif', 0.7917690417690417], ['20140205_1114_epo.fif', 0.7100371747211895], ['20140205_1230_epo.fif', 0.6341317365269461], ['20140206_1029_epo.fif', 0.6813118811881188], ['20140207_1146_epo.fif', 0.6938271604938272], ['20140207_1219_epo.fif', 0.6796174536760311], ['20140217_1136_epo.fif', 0.763126491646778], ['20140217_1211_epo.fif', 0.7547751078250154], ['20140219_1046_epo.fif', 0.7380368098159509]]\n"
     ]
    },
    {
     "data": {
      "image/png": "[encoded data removed]",
      "text/plain": [
       "<Figure size 1368x288 with 1 Axes>"
      ]
     },
     "metadata": {},
     "output_type": "display_data"
    }
   ],
   "source": [
    "scores4=np.array(scores1)\n",
    "print(scores1)\n",
    "values4 = [float(x) for x in scores4[:,-1]]\n",
    "subject = [x for x in scores4[:,0]]\n",
    "fig, ax = plt.subplots(figsize = (19,4))\n",
    "ax.bar(subject, values4, align='center', alpha=0.5);\n",
    "ax.set_title('KNN scores for congruent vs. incongruent')\n",
    "ax.set_xlabel('subject')\n",
    "ax.set_ylabel('scores')\n",
    "fig.tight_layout()"
   ]
  },
  {
   "cell_type": "code",
   "execution_count": 10,
   "metadata": {},
   "outputs": [],
   "source": [
    "subject = [x for x in scores4[-1,:]]"
   ]
  },
  {
   "cell_type": "code",
   "execution_count": 23,
   "metadata": {},
   "outputs": [
    {
     "data": {
      "text/plain": [
       "array(['20131216_1441_epo.fif', '20140205_1114_epo.fif',\n",
       "       '20140205_1230_epo.fif', '20140206_1029_epo.fif',\n",
       "       '20140207_1146_epo.fif', '20140207_1219_epo.fif',\n",
       "       '20140217_1136_epo.fif', '20140217_1211_epo.fif',\n",
       "       '20140219_1046_epo.fif'], dtype='<U21')"
      ]
     },
     "execution_count": 23,
     "metadata": {},
     "output_type": "execute_result"
    }
   ],
   "source": [
    "scores4[:,0]"
   ]
  },
  {
   "cell_type": "code",
   "execution_count": 32,
   "metadata": {},
   "outputs": [
    {
     "name": "stdout",
     "output_type": "stream",
     "text": [
      "0.716292539740322\n",
      "0.7917690417690417\n",
      "0.6341317365269461\n"
     ]
    }
   ],
   "source": [
    "print(np.mean(values4))\n",
    "print(np.max(values4))\n",
    "print(np.min(values4))"
   ]
  },
  {
   "cell_type": "code",
   "execution_count": 44,
   "metadata": {},
   "outputs": [],
   "source": []
  },
  {
   "cell_type": "code",
   "execution_count": 1,
   "metadata": {},
   "outputs": [
    {
     "ename": "NameError",
     "evalue": "name 'values4' is not defined",
     "output_type": "error",
     "traceback": [
      "\u001b[1;31m---------------------------------------------------------------------------\u001b[0m",
      "\u001b[1;31mNameError\u001b[0m                                 Traceback (most recent call last)",
      "\u001b[1;32m<ipython-input-1-edbc59ac1176>\u001b[0m in \u001b[0;36m<module>\u001b[1;34m()\u001b[0m\n\u001b[1;32m----> 1\u001b[1;33m \u001b[0mvalues4\u001b[0m\u001b[1;33m\u001b[0m\u001b[0m\n\u001b[0m",
      "\u001b[1;31mNameError\u001b[0m: name 'values4' is not defined"
     ]
    }
   ],
   "source": [
    "values4"
   ]
  },
  {
   "cell_type": "code",
   "execution_count": 47,
   "metadata": {},
   "outputs": [
    {
     "name": "stdout",
     "output_type": "stream",
     "text": [
      "[['20131216_1441_epo.fif', 0.7917690417690417], ['20140205_1114_epo.fif', 0.7100371747211895], ['20140205_1230_epo.fif', 0.6341317365269461], ['20140206_1029_epo.fif', 0.6813118811881188], ['20140207_1146_epo.fif', 0.6938271604938272], ['20140207_1219_epo.fif', 0.6796174536760311], ['20140217_1136_epo.fif', 0.763126491646778], ['20140217_1211_epo.fif', 0.7547751078250154], ['20140219_1046_epo.fif', 0.7380368098159509]]\n"
     ]
    },
    {
     "data": {
      "image/png": "[encoded data removed]",
      "text/plain": [
       "<Figure size 1368x288 with 1 Axes>"
      ]
     },
     "metadata": {},
     "output_type": "display_data"
    }
   ],
   "source": [
    "scores4=np.array(scores1)\n",
    "print(scores1)\n",
    "subject = [x for x in scores4[:,0]]\n",
    "fig, ax = plt.subplots(figsize = (19,4))\n",
    "ax.bar(subject, values4, align='center', alpha=0.7);\n",
    "ax.set_title('KNN scores for flanker vs. target')\n",
    "ax.set_xlabel('subject')\n",
    "ax.set_ylabel('scores')\n",
    "fig.tight_layout()"
   ]
  },
  {
   "cell_type": "code",
   "execution_count": 46,
   "metadata": {},
   "outputs": [
    {
     "name": "stdout",
     "output_type": "stream",
     "text": [
      "0.7334991111111111\n",
      "0.83276\n",
      "0.56832\n"
     ]
    }
   ],
   "source": [
    "print(np.mean(values4))\n",
    "print(np.max(values4))\n",
    "print(np.min(values4))"
   ]
  },
  {
   "cell_type": "code",
   "execution_count": null,
   "metadata": {},
   "outputs": [],
   "source": []
  }
 ],
 "metadata": {
  "kernelspec": {
   "display_name": "Python 3",
   "language": "python",
   "name": "python3"
  },
  "language_info": {
   "codemirror_mode": {
    "name": "ipython",
    "version": 3
   },
   "file_extension": ".py",
   "mimetype": "text/x-python",
   "name": "python",
   "nbconvert_exporter": "python",
   "pygments_lexer": "ipython3",
   "version": "3.6.7"
  }
 },
 "nbformat": 4,
 "nbformat_minor": 2
}
