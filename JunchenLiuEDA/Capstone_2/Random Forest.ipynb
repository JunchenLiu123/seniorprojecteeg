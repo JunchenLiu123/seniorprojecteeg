{
 "cells": [
  {
   "cell_type": "markdown",
   "metadata": {},
   "source": [
    "# Use Random forest to drop the unimportant channels\n",
    "* This notebook will use random forest to classify the data and sum the features importance obtains from random forest so that we know which channels are the most important and which channels are the least important\n",
    "* The goal is to be able to using random forest as feature selection to select only the useful channels for classfication."
   ]
  },
  {
   "cell_type": "code",
   "execution_count": 3,
   "metadata": {},
   "outputs": [],
   "source": [
    "import numpy as np\n",
    "import matplotlib.pyplot as plt\n",
    "from mne.decoding import Vectorizer\n",
    "from sklearn.preprocessing import MinMaxScaler\n",
    "from mne.decoding import SPoC\n",
    "from sklearn.naive_bayes import GaussianNB\n",
    "from sklearn.preprocessing import StandardScaler\n",
    "from sklearn.pipeline import make_pipeline\n",
    "from sklearn.preprocessing import StandardScaler\n",
    "from sklearn.linear_model import LogisticRegression\n",
    "from sklearn.linear_model import Ridge\n",
    "from sklearn import linear_model\n",
    "from sklearn.linear_model import LinearRegression\n",
    "from sklearn.feature_extraction.text import TfidfTransformer\n",
    "from sklearn.discriminant_analysis import LinearDiscriminantAnalysis\n",
    "from sklearn.neighbors import KNeighborsClassifier as KNN\n",
    "from sklearn.model_selection import train_test_split\n",
    "from sklearn.decomposition import PCA\n",
    "from sklearn.model_selection import train_test_split as tts\n",
    "import mne\n",
    "from sklearn.model_selection import StratifiedKFold\n",
    "from mne.datasets import sample\n",
    "from mne.decoding import (SlidingEstimator, GeneralizingEstimator,\n",
    "                          cross_val_multiscore, LinearModel, get_coef)\n",
    "from sklearn.decomposition import PCA\n",
    "from sklearn.decomposition import NMF\n",
    "from sklearn.manifold import TSNE \n",
    "import os\n",
    "from mne.decoding import UnsupervisedSpatialFilter\n",
    "import os.path as op\n",
    "from os import listdir\n",
    "from os.path import isfile, join\n",
    "from collections import defaultdict\n",
    "from scipy.stats import skew, kurtosis\n",
    "import mne \n",
    "\n",
    "from mne.decoding import Vectorizer\n",
    "from sklearn.preprocessing import MinMaxScaler, Normalizer\n",
    "from sklearn.preprocessing import StandardScaler\n",
    "from sklearn.pipeline import make_pipeline\n",
    "from sklearn.linear_model import LogisticRegression\n",
    "from sklearn.model_selection import train_test_split\n",
    "from sklearn.model_selection import StratifiedKFold\n",
    "from sklearn.metrics import classification_report\n",
    "from sklearn.svm import SVC  # noqa\n",
    "from sklearn.model_selection import ShuffleSplit  # noqa\n",
    "\n",
    "from mne.decoding import UnsupervisedSpatialFilter\n",
    "from sklearn.decomposition import PCA\n",
    "from scipy.stats import skew, kurtosis\n",
    "from sklearn.metrics import confusion_matrix\n",
    "from mne.viz import tight_layout\n",
    "\n",
    "import time\n",
    "import pandas as pd\n",
    "from sklearn.ensemble import RandomForestRegressor\n"
   ]
  },
  {
   "cell_type": "code",
   "execution_count": 4,
   "metadata": {},
   "outputs": [],
   "source": [
    "%run Batch_ArtifactFilter_Epoch.ipynb"
   ]
  },
  {
   "cell_type": "code",
   "execution_count": 5,
   "metadata": {},
   "outputs": [
    {
     "name": "stdout",
     "output_type": "stream",
     "text": [
      "hello\n",
      "Reading D:\\USB Drive\\NewEEG-200s\\SA20140206\\20140206_1151.fdt\n",
      "Reading 0 ... 831247  =      0.000 ...  1623.529 secs...\n",
      "5977 events found\n",
      "Event IDs: [  1   2   3   4   5   6   7   8   9  10  11  12  13  14  15  16  17  18\n",
      "  19  20  21  22  23  24  31 128 129 130 131 132 133 134 135 136 137 138\n",
      " 139 140 141 142 143 144 145 155 156 157 158 159 160 161 162 163 164 165]\n",
      "time difference 1.80859375\n",
      "[509034      0      4]\n",
      "[509960      0    130]\n",
      "\n",
      " **1 bad trials dropped**\n",
      "Setting up band-stop filter\n",
      "Filter length of 3379 samples (6.600 sec) selected\n",
      "Setting up band-pass filter from 5 - 1e+02 Hz\n",
      "l_trans_bandwidth chosen to be 2.0 Hz\n",
      "h_trans_bandwidth chosen to be 25.0 Hz\n",
      "Filter length of 845 samples (1.650 sec) selected\n",
      "5977 events found\n",
      "Event IDs: [  1   2   3   4   5   6   7   8   9  10  11  12  13  14  15  16  17  18\n",
      "  19  20  21  22  23  24  31 128 129 130 131 132 133 134 135 136 137 138\n",
      " 139 140 141 142 143 144 145 155 156 157 158 159 160 161 162 163 164 165]\n"
     ]
    },
    {
     "name": "stderr",
     "output_type": "stream",
     "text": [
      "[Parallel(n_jobs=10)]: Using backend LokyBackend with 10 concurrent workers.\n",
      "[Parallel(n_jobs=10)]: Done  52 tasks      | elapsed:   27.8s\n",
      "[Parallel(n_jobs=10)]: Done 129 out of 129 | elapsed:   42.3s finished\n"
     ]
    },
    {
     "name": "stdout",
     "output_type": "stream",
     "text": [
      "5584 events found\n",
      "Event IDs: [  1   2   3   4   5   6   7   8   9  10  11  12  13  14  15  16  17  18\n",
      "  19  20  21  22  23  24  31 128 129 130 131 132 133 134 135 136 137 138\n",
      " 139 140 141 142 143 144 145 155 156 157 158 159 160 161 162 163 164 165]\n",
      "Fitting ICA to data using 128 channels (please be patient, this may take a while)\n",
      "Inferring max_pca_components from picks\n",
      "Using all PCA components: 128\n",
      "Fitting ICA took 173.6s.\n",
      "    Searching for artifacts...\n",
      "Artifact indices found:\n",
      "    \n",
      "Ready.\n",
      "Transforming to ICA space (128 components)\n",
      "Zeroing out 0 ICA components\n",
      "1979 matching events found\n",
      "Applying baseline correction (mode: mean)\n",
      "Not setting metadata\n",
      "0 projection items activated\n",
      "Loading data for 1979 events and 500 original time points ...\n",
      "1011 bad epochs dropped\n"
     ]
    }
   ],
   "source": [
    "epoch=remove_artifacts_and_create_epochs('D:\\\\USB Drive\\\\NewEEG-200s\\\\SA20140206\\\\20140206_1151.set')"
   ]
  },
  {
   "cell_type": "code",
   "execution_count": 6,
   "metadata": {},
   "outputs": [],
   "source": [
    "def removebadchannel(epoch):\n",
    "    epoch.drop_channels(['Lm','Rm','VEOG'])\n",
    "    epoch.drop_channels(['STI 014'])"
   ]
  },
  {
   "cell_type": "code",
   "execution_count": 7,
   "metadata": {},
   "outputs": [],
   "source": [
    " removebadchannel(epoch)"
   ]
  },
  {
   "cell_type": "code",
   "execution_count": 8,
   "metadata": {},
   "outputs": [
    {
     "data": {
      "text/plain": [
       "(968, 125, 500)"
      ]
     },
     "execution_count": 8,
     "metadata": {},
     "output_type": "execute_result"
    }
   ],
   "source": [
    "newdata=epoch.get_data()\n",
    "epoch.get_data().shape"
   ]
  },
  {
   "cell_type": "code",
   "execution_count": 1,
   "metadata": {},
   "outputs": [],
   "source": [
    "def filter_event_id(epoch):\n",
    "    newepoch=epoch\n",
    "    epochs=[[]]\n",
    "    j=0\n",
    "    for i in range(len(newepoch.events[:,-1])):\n",
    "        if i % 3 ==0:\n",
    "            epochs.append([])\n",
    "            j=j+1\n",
    "            epochs[j].append(epoch.events[i,-1])\n",
    "        else:\n",
    "            epochs[j].append(epoch.events[i,-1])\n",
    "    for events in epochs:\n",
    "        if  4 in events or 1 in events or 13 in events or 16 in events:\n",
    "            for i in range(len(events)):\n",
    "                    events[i]=4\n",
    "        else:\n",
    "            for i in range(len(events)):\n",
    "                    events[i]=5\n",
    "    epochs.pop(0)\n",
    "    flattened_list = [y for x in epochs for y in x]\n",
    "    for i in range(len(newepoch.events)):\n",
    "        newepoch.events[i]=flattened_list[i]\n",
    "    return newepoch"
   ]
  },
  {
   "cell_type": "code",
   "execution_count": 2,
   "metadata": {},
   "outputs": [
    {
     "ename": "NameError",
     "evalue": "name 'epoch' is not defined",
     "output_type": "error",
     "traceback": [
      "\u001b[1;31m---------------------------------------------------------------------------\u001b[0m",
      "\u001b[1;31mNameError\u001b[0m                                 Traceback (most recent call last)",
      "\u001b[1;32m<ipython-input-2-c21d55204678>\u001b[0m in \u001b[0;36m<module>\u001b[1;34m\u001b[0m\n\u001b[1;32m----> 1\u001b[1;33m \u001b[0mepoch\u001b[0m\u001b[1;33m=\u001b[0m\u001b[0mfilter_event_id\u001b[0m\u001b[1;33m(\u001b[0m\u001b[0mepoch\u001b[0m\u001b[1;33m)\u001b[0m\u001b[1;33m\u001b[0m\u001b[1;33m\u001b[0m\u001b[0m\n\u001b[0m\u001b[0;32m      2\u001b[0m \u001b[0mprint\u001b[0m\u001b[1;33m(\u001b[0m\u001b[0mepoch\u001b[0m\u001b[1;33m.\u001b[0m\u001b[0mevents\u001b[0m\u001b[1;33m[\u001b[0m\u001b[1;33m:\u001b[0m\u001b[1;33m,\u001b[0m\u001b[1;33m-\u001b[0m\u001b[1;36m1\u001b[0m\u001b[1;33m]\u001b[0m\u001b[1;33m)\u001b[0m\u001b[1;33m\u001b[0m\u001b[1;33m\u001b[0m\u001b[0m\n",
      "\u001b[1;31mNameError\u001b[0m: name 'epoch' is not defined"
     ]
    }
   ],
   "source": [
    "epoch=filter_event_id(epoch)\n",
    "print(epoch.events[:,-1])"
   ]
  },
  {
   "cell_type": "code",
   "execution_count": 15,
   "metadata": {},
   "outputs": [
    {
     "name": "stdout",
     "output_type": "stream",
     "text": [
      "(968, 62500)\n"
     ]
    }
   ],
   "source": [
    "X = epoch.get_data()\n",
    "y = epoch.events[:,-1]\n",
    "vec=Vectorizer()\n",
    "X=vec.fit_transform(X)\n",
    "print(X.shape)"
   ]
  },
  {
   "cell_type": "code",
   "execution_count": 16,
   "metadata": {},
   "outputs": [
    {
     "name": "stdout",
     "output_type": "stream",
     "text": [
      "Accuracy: 0.5082644628099173\n"
     ]
    }
   ],
   "source": [
    "from sklearn import metrics\n",
    "clf = RandomForestRegressor(n_estimators =10, random_state = 42)\n",
    "    \n",
    "X_train, X_test, y_train, y_test = train_test_split(X,y, test_size = 0.25, random_state = 42)\n",
    "    \n",
    "clf.fit(X_train, y_train)\n",
    "    \n",
    "y_pred=clf.predict(X_test)\n",
    "print(\"Accuracy:\",metrics.accuracy_score(y_test, y_pred.round()))\n"
   ]
  },
  {
   "cell_type": "code",
   "execution_count": 17,
   "metadata": {},
   "outputs": [],
   "source": [
    "channel=[]\n",
    "importances = np.array(clf.feature_importances_)\n",
    "for i in range(0,len(importances),500):\n",
    "    channel.append(np.sum(importances[i:i+500]))\n",
    "    channel1=np.array(channel)\n",
    "    channel1.shape"
   ]
  },
  {
   "cell_type": "code",
   "execution_count": 18,
   "metadata": {},
   "outputs": [
    {
     "data": {
      "text/plain": [
       "(125,)"
      ]
     },
     "execution_count": 18,
     "metadata": {},
     "output_type": "execute_result"
    }
   ],
   "source": [
    "channel1.shape"
   ]
  },
  {
   "cell_type": "code",
   "execution_count": 20,
   "metadata": {},
   "outputs": [
    {
     "data": {
      "text/plain": [
       "LL1     0.032933\n",
       "RE3     0.028642\n",
       "LD5     0.025103\n",
       "LD2     0.025054\n",
       "LL5     0.023427\n",
       "LD7     0.020484\n",
       "R3      0.018113\n",
       "Z11     0.017973\n",
       "R1      0.017915\n",
       "LC7     0.017148\n",
       "R7      0.015788\n",
       "LC4     0.015585\n",
       "RD4     0.014985\n",
       "LB4     0.014439\n",
       "LE3     0.014407\n",
       "RC7     0.013730\n",
       "LB3     0.013700\n",
       "Z10     0.013603\n",
       "RR3     0.013038\n",
       "LA3     0.012893\n",
       "LC1     0.012414\n",
       "LL3     0.011947\n",
       "L10     0.011773\n",
       "Z9      0.011743\n",
       "L2      0.011707\n",
       "RR9     0.011685\n",
       "RD5     0.011434\n",
       "Z13     0.011213\n",
       "RA2     0.011125\n",
       "L4      0.011036\n",
       "          ...   \n",
       "LL9     0.003272\n",
       "LD6     0.003154\n",
       "L11     0.003135\n",
       "Z6      0.003105\n",
       "LD3     0.003034\n",
       "RE1     0.002926\n",
       "L1      0.002916\n",
       "RR13    0.002909\n",
       "Z14     0.002832\n",
       "RR2     0.002805\n",
       "LB5     0.002627\n",
       "LA5     0.002574\n",
       "LA4     0.002524\n",
       "Z7      0.002104\n",
       "RA1     0.002099\n",
       "Z12     0.002095\n",
       "LC3     0.001547\n",
       "RR10    0.001507\n",
       "LL2     0.001502\n",
       "RA3     0.001402\n",
       "RC2     0.001113\n",
       "R4      0.001080\n",
       "RA5     0.000557\n",
       "RC5     0.000533\n",
       "Z5      0.000527\n",
       "R13     0.000518\n",
       "RB1     0.000445\n",
       "L8      0.000423\n",
       "LL13    0.000000\n",
       "RD6     0.000000\n",
       "Length: 125, dtype: float64"
      ]
     },
     "execution_count": 20,
     "metadata": {},
     "output_type": "execute_result"
    }
   ],
   "source": [
    "import pandas as pd\n",
    "feature_imp = pd.Series(channel1,index=epoch.ch_names).sort_values(ascending=False)\n",
    "feature_imp"
   ]
  },
  {
   "cell_type": "code",
   "execution_count": 22,
   "metadata": {},
   "outputs": [
    {
     "ename": "ValueError",
     "evalue": "Channel(s) LL13, RD6 not found, nothing dropped.",
     "output_type": "error",
     "traceback": [
      "\u001b[1;31m---------------------------------------------------------------------------\u001b[0m",
      "\u001b[1;31mValueError\u001b[0m                                Traceback (most recent call last)",
      "\u001b[1;32m<ipython-input-22-60a9a29962c0>\u001b[0m in \u001b[0;36m<module>\u001b[1;34m\u001b[0m\n\u001b[1;32m----> 1\u001b[1;33m \u001b[0mepoch\u001b[0m\u001b[1;33m.\u001b[0m\u001b[0mdrop_channels\u001b[0m\u001b[1;33m(\u001b[0m\u001b[1;33m[\u001b[0m\u001b[1;34m'LL13'\u001b[0m\u001b[1;33m,\u001b[0m\u001b[1;34m'RD6'\u001b[0m\u001b[1;33m]\u001b[0m\u001b[1;33m)\u001b[0m\u001b[1;33m\u001b[0m\u001b[1;33m\u001b[0m\u001b[0m\n\u001b[0m",
      "\u001b[1;32m~\\Anaconda3\\envs\\mne\\lib\\site-packages\\mne\\channels\\channels.py\u001b[0m in \u001b[0;36mdrop_channels\u001b[1;34m(self, ch_names)\u001b[0m\n\u001b[0;32m    787\u001b[0m         \u001b[1;32mif\u001b[0m \u001b[0mlen\u001b[0m\u001b[1;33m(\u001b[0m\u001b[0mmissing\u001b[0m\u001b[1;33m)\u001b[0m \u001b[1;33m>\u001b[0m \u001b[1;36m0\u001b[0m\u001b[1;33m:\u001b[0m\u001b[1;33m\u001b[0m\u001b[1;33m\u001b[0m\u001b[0m\n\u001b[0;32m    788\u001b[0m             \u001b[0mmsg\u001b[0m \u001b[1;33m=\u001b[0m \u001b[1;34m\"Channel(s) {0} not found, nothing dropped.\"\u001b[0m\u001b[1;33m\u001b[0m\u001b[1;33m\u001b[0m\u001b[0m\n\u001b[1;32m--> 789\u001b[1;33m             \u001b[1;32mraise\u001b[0m \u001b[0mValueError\u001b[0m\u001b[1;33m(\u001b[0m\u001b[0mmsg\u001b[0m\u001b[1;33m.\u001b[0m\u001b[0mformat\u001b[0m\u001b[1;33m(\u001b[0m\u001b[1;34m\", \"\u001b[0m\u001b[1;33m.\u001b[0m\u001b[0mjoin\u001b[0m\u001b[1;33m(\u001b[0m\u001b[0mmissing\u001b[0m\u001b[1;33m)\u001b[0m\u001b[1;33m)\u001b[0m\u001b[1;33m)\u001b[0m\u001b[1;33m\u001b[0m\u001b[1;33m\u001b[0m\u001b[0m\n\u001b[0m\u001b[0;32m    790\u001b[0m \u001b[1;33m\u001b[0m\u001b[0m\n\u001b[0;32m    791\u001b[0m         bad_idx = [self.ch_names.index(ch_name) for ch_name in ch_names\n",
      "\u001b[1;31mValueError\u001b[0m: Channel(s) LL13, RD6 not found, nothing dropped."
     ]
    }
   ],
   "source": [
    "epoch.drop_channels(['LL13','RD6'])"
   ]
  },
  {
   "cell_type": "code",
   "execution_count": 23,
   "metadata": {},
   "outputs": [
    {
     "name": "stdout",
     "output_type": "stream",
     "text": [
      "(968, 61500)\n"
     ]
    }
   ],
   "source": [
    "X = epoch.get_data()\n",
    "y = epoch.events[:,-1]\n",
    "vec=Vectorizer()\n",
    "X=vec.fit_transform(X)\n",
    "print(X.shape)"
   ]
  },
  {
   "cell_type": "code",
   "execution_count": 28,
   "metadata": {},
   "outputs": [
    {
     "name": "stdout",
     "output_type": "stream",
     "text": [
      "Accuracy: 0.5371900826446281\n"
     ]
    }
   ],
   "source": [
    "from sklearn import metrics\n",
    "clf = RandomForestRegressor(n_estimators =10, random_state = 42)\n",
    "    \n",
    "X_train, X_test, y_train, y_test = train_test_split(X,y, test_size = 0.25, random_state = 42)\n",
    "    \n",
    "clf.fit(X_train, y_train)\n",
    "    \n",
    "y_pred=clf.predict(X_test)\n",
    "print(\"Accuracy:\",metrics.accuracy_score(y_test, y_pred.round()))"
   ]
  },
  {
   "cell_type": "code",
   "execution_count": 29,
   "metadata": {},
   "outputs": [
    {
     "data": {
      "text/plain": [
       "(123,)"
      ]
     },
     "execution_count": 29,
     "metadata": {},
     "output_type": "execute_result"
    }
   ],
   "source": [
    "channel=[]\n",
    "importances = np.array(clf.feature_importances_)\n",
    "for i in range(0,len(importances),500):\n",
    "    channel.append(np.sum(importances[i:i+500]))\n",
    "    channel1=np.array(channel)\n",
    "    channel1.shape\n",
    "channel1.shape"
   ]
  },
  {
   "cell_type": "code",
   "execution_count": 30,
   "metadata": {},
   "outputs": [
    {
     "data": {
      "text/plain": [
       "LD5     0.026533\n",
       "LL1     0.024749\n",
       "RE3     0.023394\n",
       "LD7     0.021925\n",
       "R1      0.021638\n",
       "RD4     0.021474\n",
       "LL5     0.021254\n",
       "Z11     0.020744\n",
       "R3      0.017808\n",
       "RR3     0.017703\n",
       "LD2     0.017579\n",
       "R7      0.016910\n",
       "LB3     0.016764\n",
       "LL3     0.016204\n",
       "LC4     0.015759\n",
       "LC7     0.015734\n",
       "Z9      0.014279\n",
       "RR9     0.014254\n",
       "RB4     0.013621\n",
       "Z10     0.013603\n",
       "LA2     0.013534\n",
       "LE3     0.013489\n",
       "LL11    0.013057\n",
       "L10     0.012995\n",
       "LC6     0.012979\n",
       "LL12    0.012829\n",
       "RR1     0.012670\n",
       "LB4     0.012545\n",
       "RC1     0.012510\n",
       "L13     0.012365\n",
       "          ...   \n",
       "RC2     0.003499\n",
       "L11     0.003382\n",
       "L1      0.003251\n",
       "LL8     0.003156\n",
       "L6      0.003147\n",
       "RB1     0.003141\n",
       "L3      0.002877\n",
       "RD3     0.002869\n",
       "L12     0.002833\n",
       "RC5     0.002543\n",
       "R14     0.002507\n",
       "LB2     0.002389\n",
       "LL7     0.002037\n",
       "RR10    0.001640\n",
       "LC3     0.001637\n",
       "RD7     0.001570\n",
       "RA3     0.001099\n",
       "Z6      0.001093\n",
       "R13     0.001020\n",
       "Z5      0.000560\n",
       "RA1     0.000559\n",
       "R4      0.000558\n",
       "RR2     0.000547\n",
       "L8      0.000521\n",
       "R12     0.000508\n",
       "Z4      0.000484\n",
       "LD6     0.000000\n",
       "RR13    0.000000\n",
       "LA5     0.000000\n",
       "LL2     0.000000\n",
       "Length: 123, dtype: float64"
      ]
     },
     "execution_count": 30,
     "metadata": {},
     "output_type": "execute_result"
    }
   ],
   "source": [
    "import pandas as pd\n",
    "feature_imp = pd.Series(channel1,index=epoch.ch_names).sort_values(ascending=False)\n",
    "feature_imp"
   ]
  },
  {
   "cell_type": "code",
   "execution_count": 32,
   "metadata": {},
   "outputs": [
    {
     "ename": "ValueError",
     "evalue": "Channel(s) RR13, LD6, LA5, LL2 not found, nothing dropped.",
     "output_type": "error",
     "traceback": [
      "\u001b[1;31m---------------------------------------------------------------------------\u001b[0m",
      "\u001b[1;31mValueError\u001b[0m                                Traceback (most recent call last)",
      "\u001b[1;32m<ipython-input-32-5358bc12d499>\u001b[0m in \u001b[0;36m<module>\u001b[1;34m\u001b[0m\n\u001b[1;32m----> 1\u001b[1;33m \u001b[0mepoch\u001b[0m\u001b[1;33m.\u001b[0m\u001b[0mdrop_channels\u001b[0m\u001b[1;33m(\u001b[0m\u001b[1;33m[\u001b[0m\u001b[1;34m'RR13'\u001b[0m\u001b[1;33m,\u001b[0m\u001b[1;34m'LD6'\u001b[0m\u001b[1;33m,\u001b[0m\u001b[1;34m'LA5'\u001b[0m\u001b[1;33m,\u001b[0m\u001b[1;34m'LL2'\u001b[0m\u001b[1;33m]\u001b[0m\u001b[1;33m)\u001b[0m\u001b[1;33m\u001b[0m\u001b[1;33m\u001b[0m\u001b[0m\n\u001b[0m",
      "\u001b[1;32m~\\Anaconda3\\envs\\mne\\lib\\site-packages\\mne\\channels\\channels.py\u001b[0m in \u001b[0;36mdrop_channels\u001b[1;34m(self, ch_names)\u001b[0m\n\u001b[0;32m    787\u001b[0m         \u001b[1;32mif\u001b[0m \u001b[0mlen\u001b[0m\u001b[1;33m(\u001b[0m\u001b[0mmissing\u001b[0m\u001b[1;33m)\u001b[0m \u001b[1;33m>\u001b[0m \u001b[1;36m0\u001b[0m\u001b[1;33m:\u001b[0m\u001b[1;33m\u001b[0m\u001b[1;33m\u001b[0m\u001b[0m\n\u001b[0;32m    788\u001b[0m             \u001b[0mmsg\u001b[0m \u001b[1;33m=\u001b[0m \u001b[1;34m\"Channel(s) {0} not found, nothing dropped.\"\u001b[0m\u001b[1;33m\u001b[0m\u001b[1;33m\u001b[0m\u001b[0m\n\u001b[1;32m--> 789\u001b[1;33m             \u001b[1;32mraise\u001b[0m \u001b[0mValueError\u001b[0m\u001b[1;33m(\u001b[0m\u001b[0mmsg\u001b[0m\u001b[1;33m.\u001b[0m\u001b[0mformat\u001b[0m\u001b[1;33m(\u001b[0m\u001b[1;34m\", \"\u001b[0m\u001b[1;33m.\u001b[0m\u001b[0mjoin\u001b[0m\u001b[1;33m(\u001b[0m\u001b[0mmissing\u001b[0m\u001b[1;33m)\u001b[0m\u001b[1;33m)\u001b[0m\u001b[1;33m)\u001b[0m\u001b[1;33m\u001b[0m\u001b[1;33m\u001b[0m\u001b[0m\n\u001b[0m\u001b[0;32m    790\u001b[0m \u001b[1;33m\u001b[0m\u001b[0m\n\u001b[0;32m    791\u001b[0m         bad_idx = [self.ch_names.index(ch_name) for ch_name in ch_names\n",
      "\u001b[1;31mValueError\u001b[0m: Channel(s) RR13, LD6, LA5, LL2 not found, nothing dropped."
     ]
    }
   ],
   "source": [
    "epoch.drop_channels(['RR13','LD6','LA5','LL2'])"
   ]
  },
  {
   "cell_type": "code",
   "execution_count": 34,
   "metadata": {},
   "outputs": [
    {
     "name": "stdout",
     "output_type": "stream",
     "text": [
      "(968, 59500)\n"
     ]
    }
   ],
   "source": [
    "X = epoch.get_data()\n",
    "y = epoch.events[:,-1]\n",
    "vec=Vectorizer()\n",
    "X=vec.fit_transform(X)\n",
    "print(X.shape)"
   ]
  },
  {
   "cell_type": "code",
   "execution_count": 35,
   "metadata": {},
   "outputs": [
    {
     "name": "stdout",
     "output_type": "stream",
     "text": [
      "Accuracy: 0.5041322314049587\n"
     ]
    }
   ],
   "source": [
    "from sklearn import metrics\n",
    "clf = RandomForestRegressor(n_estimators =10, random_state = 42)\n",
    "    \n",
    "X_train, X_test, y_train, y_test = train_test_split(X,y, test_size = 0.25, random_state = 42)\n",
    "    \n",
    "clf.fit(X_train, y_train)\n",
    "    \n",
    "y_pred=clf.predict(X_test)\n",
    "print(\"Accuracy:\",metrics.accuracy_score(y_test, y_pred.round()))"
   ]
  },
  {
   "cell_type": "code",
   "execution_count": 37,
   "metadata": {},
   "outputs": [
    {
     "data": {
      "text/plain": [
       "(119,)"
      ]
     },
     "execution_count": 37,
     "metadata": {},
     "output_type": "execute_result"
    }
   ],
   "source": [
    "channel=[]\n",
    "importances = np.array(clf.feature_importances_)\n",
    "for i in range(0,len(importances),500):\n",
    "    channel.append(np.sum(importances[i:i+500]))\n",
    "    channel1=np.array(channel)\n",
    "    channel1.shape\n",
    "channel1.shape"
   ]
  },
  {
   "cell_type": "code",
   "execution_count": 40,
   "metadata": {},
   "outputs": [
    {
     "data": {
      "text/plain": [
       "LL1     0.034656\n",
       "LD7     0.026271\n",
       "LD2     0.026103\n",
       "RE3     0.024941\n",
       "Z11     0.021891\n",
       "LD5     0.021881\n",
       "R3      0.019679\n",
       "LL11    0.018766\n",
       "RD4     0.018439\n",
       "R1      0.018407\n",
       "LL5     0.018171\n",
       "LB3     0.017298\n",
       "R7      0.016395\n",
       "RC4     0.015232\n",
       "Z10     0.015150\n",
       "LB4     0.014864\n",
       "LC4     0.014712\n",
       "RB4     0.014516\n",
       "LL3     0.013466\n",
       "L2      0.013333\n",
       "RR2     0.012367\n",
       "RC1     0.012356\n",
       "LA2     0.012313\n",
       "L13     0.012287\n",
       "RR3     0.012109\n",
       "Z13     0.011812\n",
       "LA3     0.011785\n",
       "LC7     0.011610\n",
       "Z9      0.011458\n",
       "LC6     0.011448\n",
       "          ...   \n",
       "Z5      0.003825\n",
       "LB2     0.003734\n",
       "Z6      0.003627\n",
       "LL9     0.003272\n",
       "Z12     0.003194\n",
       "L12     0.003157\n",
       "L11     0.003073\n",
       "RR10    0.003064\n",
       "LA4     0.003021\n",
       "RD7     0.002820\n",
       "L7      0.002674\n",
       "RA1     0.002617\n",
       "LD4     0.002554\n",
       "RA3     0.002397\n",
       "RB1     0.002120\n",
       "Z7      0.002120\n",
       "L6      0.002056\n",
       "L8      0.002014\n",
       "LL7     0.001643\n",
       "Z2      0.001115\n",
       "L1      0.001072\n",
       "RC5     0.000865\n",
       "R4      0.000553\n",
       "Z14     0.000546\n",
       "LB5     0.000521\n",
       "LC3     0.000474\n",
       "R13     0.000000\n",
       "RA5     0.000000\n",
       "LD3     0.000000\n",
       "RE1     0.000000\n",
       "Length: 119, dtype: float64"
      ]
     },
     "execution_count": 40,
     "metadata": {},
     "output_type": "execute_result"
    }
   ],
   "source": [
    "import pandas as pd\n",
    "feature_imp = pd.Series(channel1,index=epoch.ch_names).sort_values(ascending=False)\n",
    "feature_imp"
   ]
  },
  {
   "cell_type": "code",
   "execution_count": 41,
   "metadata": {},
   "outputs": [
    {
     "data": {
      "text/plain": [
       "<Epochs  |   968 events (all good), 0 - 1.94922 sec, baseline [None, 0], ~424.9 MB, data loaded,\n",
       " 'b-f1-pic': 0\n",
       " 'b-f1-snd': 0\n",
       " 'b-f1-spk': 425\n",
       " 'b-f1-wrd': 0\n",
       " 'b-f2-pic': 0\n",
       " 'b-f2-snd': 0\n",
       " 'b-f2-spk': 543\n",
       " 'b-f2-wrd': 0\n",
       " 'b-tg-pic': 0\n",
       " 'b-tg-snd': 0\n",
       " 'b-tg-spk': 0\n",
       " 'b-tg-wrd': 0\n",
       " 'f-f1-pic': 0\n",
       " 'f-f1-snd': 0\n",
       " 'f-f1-spk': 0\n",
       " 'f-f1-wrd': 0\n",
       " 'f-f2-pic': 0\n",
       " 'f-f2-snd': 0\n",
       " 'f-f2-spk': 0\n",
       " 'f-f2-wrd': 0\n",
       " 'f-tg-pic': 0\n",
       " 'f-tg-snd': 0\n",
       " 'f-tg-spk': 0\n",
       " 'f-tg-wrd': 0>"
      ]
     },
     "execution_count": 41,
     "metadata": {},
     "output_type": "execute_result"
    }
   ],
   "source": [
    "epoch.drop_channels(['R13','RA5','LD3','RE1'])"
   ]
  },
  {
   "cell_type": "code",
   "execution_count": 42,
   "metadata": {},
   "outputs": [
    {
     "name": "stdout",
     "output_type": "stream",
     "text": [
      "(968, 57500)\n"
     ]
    }
   ],
   "source": [
    "X = epoch.get_data()\n",
    "y = epoch.events[:,-1]\n",
    "vec=Vectorizer()\n",
    "X=vec.fit_transform(X)\n",
    "print(X.shape)"
   ]
  },
  {
   "cell_type": "code",
   "execution_count": 44,
   "metadata": {},
   "outputs": [
    {
     "name": "stdout",
     "output_type": "stream",
     "text": [
      "Accuracy: 0.5247933884297521\n"
     ]
    }
   ],
   "source": [
    "from sklearn import metrics\n",
    "clf = RandomForestRegressor(n_estimators =10, random_state = 42)\n",
    "    \n",
    "X_train, X_test, y_train, y_test = train_test_split(X,y, test_size = 0.25, random_state = 42)\n",
    "    \n",
    "clf.fit(X_train, y_train)\n",
    "    \n",
    "y_pred=clf.predict(X_test)\n",
    "print(\"Accuracy:\",metrics.accuracy_score(y_test, y_pred.round()))"
   ]
  },
  {
   "cell_type": "code",
   "execution_count": 45,
   "metadata": {},
   "outputs": [
    {
     "data": {
      "text/plain": [
       "(115,)"
      ]
     },
     "execution_count": 45,
     "metadata": {},
     "output_type": "execute_result"
    }
   ],
   "source": [
    "channel=[]\n",
    "importances = np.array(clf.feature_importances_)\n",
    "for i in range(0,len(importances),500):\n",
    "    channel.append(np.sum(importances[i:i+500]))\n",
    "    channel1=np.array(channel)\n",
    "    channel1.shape\n",
    "channel1.shape"
   ]
  },
  {
   "cell_type": "code",
   "execution_count": 46,
   "metadata": {},
   "outputs": [
    {
     "data": {
      "text/plain": [
       "LL1     0.025655\n",
       "LD7     0.025542\n",
       "RE3     0.023577\n",
       "R1      0.021592\n",
       "LD5     0.020276\n",
       "Z11     0.020220\n",
       "LL3     0.020022\n",
       "LD2     0.019878\n",
       "R7      0.018433\n",
       "R3      0.018205\n",
       "LL5     0.017861\n",
       "LC7     0.017702\n",
       "RR1     0.016296\n",
       "LC4     0.016202\n",
       "LC6     0.014478\n",
       "L2      0.014291\n",
       "LA2     0.014214\n",
       "RC7     0.014171\n",
       "Z9      0.014063\n",
       "LE1     0.013845\n",
       "LB3     0.013700\n",
       "LB4     0.013611\n",
       "RD4     0.013503\n",
       "RD2     0.013168\n",
       "LL11    0.012604\n",
       "RR9     0.012551\n",
       "RC4     0.012397\n",
       "Z10     0.011934\n",
       "LB1     0.011877\n",
       "R8      0.011810\n",
       "          ...   \n",
       "R6      0.004120\n",
       "Z12     0.004082\n",
       "LB2     0.003503\n",
       "RA1     0.003491\n",
       "RR10    0.003402\n",
       "Z2      0.003202\n",
       "LL8     0.003156\n",
       "RD3     0.002869\n",
       "L7      0.002742\n",
       "LL7     0.002687\n",
       "RC2     0.002666\n",
       "RA3     0.002558\n",
       "RC5     0.002557\n",
       "R14     0.002507\n",
       "RB1     0.002503\n",
       "L11     0.002163\n",
       "RR7     0.002133\n",
       "Z6      0.002113\n",
       "LD4     0.002106\n",
       "RD7     0.002091\n",
       "L1      0.002043\n",
       "L6      0.001572\n",
       "L8      0.001536\n",
       "Z7      0.001364\n",
       "R12     0.001118\n",
       "R4      0.001081\n",
       "LC3     0.000935\n",
       "LB6     0.000000\n",
       "Z5      0.000000\n",
       "Z4      0.000000\n",
       "Length: 115, dtype: float64"
      ]
     },
     "execution_count": 46,
     "metadata": {},
     "output_type": "execute_result"
    }
   ],
   "source": [
    "import pandas as pd\n",
    "feature_imp = pd.Series(channel1,index=epoch.ch_names).sort_values(ascending=False)\n",
    "feature_imp"
   ]
  },
  {
   "cell_type": "code",
   "execution_count": 47,
   "metadata": {},
   "outputs": [
    {
     "data": {
      "text/plain": [
       "<Epochs  |   968 events (all good), 0 - 1.94922 sec, baseline [None, 0], ~413.9 MB, data loaded,\n",
       " 'b-f1-pic': 0\n",
       " 'b-f1-snd': 0\n",
       " 'b-f1-spk': 425\n",
       " 'b-f1-wrd': 0\n",
       " 'b-f2-pic': 0\n",
       " 'b-f2-snd': 0\n",
       " 'b-f2-spk': 543\n",
       " 'b-f2-wrd': 0\n",
       " 'b-tg-pic': 0\n",
       " 'b-tg-snd': 0\n",
       " 'b-tg-spk': 0\n",
       " 'b-tg-wrd': 0\n",
       " 'f-f1-pic': 0\n",
       " 'f-f1-snd': 0\n",
       " 'f-f1-spk': 0\n",
       " 'f-f1-wrd': 0\n",
       " 'f-f2-pic': 0\n",
       " 'f-f2-snd': 0\n",
       " 'f-f2-spk': 0\n",
       " 'f-f2-wrd': 0\n",
       " 'f-tg-pic': 0\n",
       " 'f-tg-snd': 0\n",
       " 'f-tg-spk': 0\n",
       " 'f-tg-wrd': 0>"
      ]
     },
     "execution_count": 47,
     "metadata": {},
     "output_type": "execute_result"
    }
   ],
   "source": [
    "epoch.drop_channels(['LB6','Z5','Z4'])"
   ]
  },
  {
   "cell_type": "code",
   "execution_count": 48,
   "metadata": {},
   "outputs": [
    {
     "name": "stdout",
     "output_type": "stream",
     "text": [
      "(968, 56000)\n"
     ]
    }
   ],
   "source": [
    "X = epoch.get_data()\n",
    "y = epoch.events[:,-1]\n",
    "vec=Vectorizer()\n",
    "X=vec.fit_transform(X)\n",
    "print(X.shape)"
   ]
  },
  {
   "cell_type": "code",
   "execution_count": 49,
   "metadata": {},
   "outputs": [
    {
     "name": "stdout",
     "output_type": "stream",
     "text": [
      "Accuracy: 0.5578512396694215\n"
     ]
    }
   ],
   "source": [
    "from sklearn import metrics\n",
    "clf = RandomForestRegressor(n_estimators =10, random_state = 42)\n",
    "    \n",
    "X_train, X_test, y_train, y_test = train_test_split(X,y, test_size = 0.25, random_state = 42)\n",
    "    \n",
    "clf.fit(X_train, y_train)\n",
    "    \n",
    "y_pred=clf.predict(X_test)\n",
    "print(\"Accuracy:\",metrics.accuracy_score(y_test, y_pred.round()))"
   ]
  },
  {
   "cell_type": "code",
   "execution_count": 50,
   "metadata": {},
   "outputs": [
    {
     "data": {
      "text/plain": [
       "(112,)"
      ]
     },
     "execution_count": 50,
     "metadata": {},
     "output_type": "execute_result"
    }
   ],
   "source": [
    "channel=[]\n",
    "importances = np.array(clf.feature_importances_)\n",
    "for i in range(0,len(importances),500):\n",
    "    channel.append(np.sum(importances[i:i+500]))\n",
    "    channel1=np.array(channel)\n",
    "    channel1.shape\n",
    "channel1.shape"
   ]
  },
  {
   "cell_type": "code",
   "execution_count": 51,
   "metadata": {},
   "outputs": [
    {
     "data": {
      "text/plain": [
       "LL1     0.028295\n",
       "LD7     0.023866\n",
       "RE3     0.023007\n",
       "LD2     0.021128\n",
       "Z11     0.021092\n",
       "LL5     0.020795\n",
       "R1      0.020558\n",
       "LD5     0.020276\n",
       "R3      0.019730\n",
       "LB3     0.017217\n",
       "Z10     0.016811\n",
       "LC7     0.016638\n",
       "LL3     0.016432\n",
       "R7      0.015925\n",
       "L2      0.015431\n",
       "LC4     0.015233\n",
       "L10     0.014511\n",
       "RD5     0.014491\n",
       "LB4     0.014418\n",
       "LC6     0.014228\n",
       "RR3     0.014092\n",
       "RC7     0.013787\n",
       "L4      0.013266\n",
       "RD4     0.013028\n",
       "LL4     0.012937\n",
       "Z13     0.012834\n",
       "Z9      0.012426\n",
       "LC1     0.011680\n",
       "RR6     0.011232\n",
       "LA2     0.010994\n",
       "          ...   \n",
       "RE4     0.004954\n",
       "LB1     0.004840\n",
       "LD4     0.004675\n",
       "LL6     0.004587\n",
       "RR2     0.004569\n",
       "L3      0.004472\n",
       "LA4     0.004429\n",
       "L8      0.004149\n",
       "R14     0.004058\n",
       "R11     0.003986\n",
       "RB1     0.003983\n",
       "RA1     0.003864\n",
       "LB5     0.003787\n",
       "RD7     0.003373\n",
       "LL9     0.003272\n",
       "LL8     0.003156\n",
       "R12     0.002939\n",
       "R9      0.002927\n",
       "RD3     0.002869\n",
       "RR7     0.002099\n",
       "L1      0.001645\n",
       "L6      0.001572\n",
       "RA3     0.001298\n",
       "RC2     0.001113\n",
       "LC3     0.001086\n",
       "LL7     0.001060\n",
       "R4      0.000523\n",
       "RR10    0.000428\n",
       "Z2      0.000000\n",
       "Z6      0.000000\n",
       "Length: 112, dtype: float64"
      ]
     },
     "execution_count": 51,
     "metadata": {},
     "output_type": "execute_result"
    }
   ],
   "source": [
    "import pandas as pd\n",
    "feature_imp = pd.Series(channel1,index=epoch.ch_names).sort_values(ascending=False)\n",
    "feature_imp"
   ]
  },
  {
   "cell_type": "code",
   "execution_count": 52,
   "metadata": {},
   "outputs": [
    {
     "data": {
      "text/plain": [
       "<Epochs  |   968 events (all good), 0 - 1.94922 sec, baseline [None, 0], ~406.5 MB, data loaded,\n",
       " 'b-f1-pic': 0\n",
       " 'b-f1-snd': 0\n",
       " 'b-f1-spk': 425\n",
       " 'b-f1-wrd': 0\n",
       " 'b-f2-pic': 0\n",
       " 'b-f2-snd': 0\n",
       " 'b-f2-spk': 543\n",
       " 'b-f2-wrd': 0\n",
       " 'b-tg-pic': 0\n",
       " 'b-tg-snd': 0\n",
       " 'b-tg-spk': 0\n",
       " 'b-tg-wrd': 0\n",
       " 'f-f1-pic': 0\n",
       " 'f-f1-snd': 0\n",
       " 'f-f1-spk': 0\n",
       " 'f-f1-wrd': 0\n",
       " 'f-f2-pic': 0\n",
       " 'f-f2-snd': 0\n",
       " 'f-f2-spk': 0\n",
       " 'f-f2-wrd': 0\n",
       " 'f-tg-pic': 0\n",
       " 'f-tg-snd': 0\n",
       " 'f-tg-spk': 0\n",
       " 'f-tg-wrd': 0>"
      ]
     },
     "execution_count": 52,
     "metadata": {},
     "output_type": "execute_result"
    }
   ],
   "source": [
    "epoch.drop_channels(['Z2','Z6'])"
   ]
  },
  {
   "cell_type": "code",
   "execution_count": 53,
   "metadata": {},
   "outputs": [
    {
     "name": "stdout",
     "output_type": "stream",
     "text": [
      "(968, 55000)\n"
     ]
    }
   ],
   "source": [
    "X = epoch.get_data()\n",
    "y = epoch.events[:,-1]\n",
    "vec=Vectorizer()\n",
    "X=vec.fit_transform(X)\n",
    "print(X.shape)"
   ]
  },
  {
   "cell_type": "code",
   "execution_count": 54,
   "metadata": {},
   "outputs": [
    {
     "name": "stdout",
     "output_type": "stream",
     "text": [
      "Accuracy: 0.5743801652892562\n"
     ]
    }
   ],
   "source": [
    "from sklearn import metrics\n",
    "clf = RandomForestRegressor(n_estimators =10, random_state = 42)\n",
    "    \n",
    "X_train, X_test, y_train, y_test = train_test_split(X,y, test_size = 0.25, random_state = 42)\n",
    "    \n",
    "clf.fit(X_train, y_train)\n",
    "    \n",
    "y_pred=clf.predict(X_test)\n",
    "print(\"Accuracy:\",metrics.accuracy_score(y_test, y_pred.round()))"
   ]
  },
  {
   "cell_type": "code",
   "execution_count": 55,
   "metadata": {},
   "outputs": [
    {
     "data": {
      "text/plain": [
       "(110,)"
      ]
     },
     "execution_count": 55,
     "metadata": {},
     "output_type": "execute_result"
    }
   ],
   "source": [
    "channel=[]\n",
    "importances = np.array(clf.feature_importances_)\n",
    "for i in range(0,len(importances),500):\n",
    "    channel.append(np.sum(importances[i:i+500]))\n",
    "    channel1=np.array(channel)\n",
    "    channel1.shape\n",
    "channel1.shape"
   ]
  },
  {
   "cell_type": "code",
   "execution_count": 56,
   "metadata": {},
   "outputs": [
    {
     "data": {
      "text/plain": [
       "LL1     0.035766\n",
       "RE3     0.024009\n",
       "Z11     0.023854\n",
       "LD5     0.023399\n",
       "LD2     0.023200\n",
       "RD4     0.020960\n",
       "LD7     0.020951\n",
       "R1      0.019018\n",
       "LL5     0.019008\n",
       "LB3     0.017934\n",
       "R7      0.017307\n",
       "L2      0.016931\n",
       "R3      0.016755\n",
       "LA3     0.016733\n",
       "LC6     0.016597\n",
       "LC4     0.016518\n",
       "Z10     0.015691\n",
       "L3      0.015068\n",
       "LB4     0.014033\n",
       "Z9      0.013934\n",
       "RR3     0.013577\n",
       "LL3     0.013466\n",
       "R8      0.012838\n",
       "LE1     0.012689\n",
       "L13     0.012530\n",
       "L10     0.012300\n",
       "RR9     0.012038\n",
       "RE4     0.011865\n",
       "RC1     0.011717\n",
       "RR4     0.011660\n",
       "          ...   \n",
       "Z12     0.005032\n",
       "RB5     0.005002\n",
       "LL4     0.004964\n",
       "RB2     0.004951\n",
       "Z14     0.004794\n",
       "LB2     0.004754\n",
       "R9      0.004485\n",
       "RB3     0.004423\n",
       "LD4     0.004260\n",
       "R2      0.004036\n",
       "L12     0.003677\n",
       "RB1     0.003660\n",
       "LL8     0.003635\n",
       "RC5     0.003519\n",
       "R11     0.003496\n",
       "RD3     0.003358\n",
       "RD7     0.002960\n",
       "RA1     0.002680\n",
       "LB5     0.002522\n",
       "L1      0.001964\n",
       "Z7      0.001536\n",
       "LA4     0.001214\n",
       "L8      0.001096\n",
       "LL7     0.000972\n",
       "RR10    0.000841\n",
       "L7      0.000558\n",
       "R4      0.000554\n",
       "L11     0.000511\n",
       "LC3     0.000452\n",
       "RA3     0.000000\n",
       "Length: 110, dtype: float64"
      ]
     },
     "execution_count": 56,
     "metadata": {},
     "output_type": "execute_result"
    }
   ],
   "source": [
    "import pandas as pd\n",
    "feature_imp = pd.Series(channel1,index=epoch.ch_names).sort_values(ascending=False)\n",
    "feature_imp"
   ]
  },
  {
   "cell_type": "code",
   "execution_count": 57,
   "metadata": {},
   "outputs": [
    {
     "data": {
      "text/plain": [
       "<Epochs  |   968 events (all good), 0 - 1.94922 sec, baseline [None, 0], ~402.8 MB, data loaded,\n",
       " 'b-f1-pic': 0\n",
       " 'b-f1-snd': 0\n",
       " 'b-f1-spk': 425\n",
       " 'b-f1-wrd': 0\n",
       " 'b-f2-pic': 0\n",
       " 'b-f2-snd': 0\n",
       " 'b-f2-spk': 543\n",
       " 'b-f2-wrd': 0\n",
       " 'b-tg-pic': 0\n",
       " 'b-tg-snd': 0\n",
       " 'b-tg-spk': 0\n",
       " 'b-tg-wrd': 0\n",
       " 'f-f1-pic': 0\n",
       " 'f-f1-snd': 0\n",
       " 'f-f1-spk': 0\n",
       " 'f-f1-wrd': 0\n",
       " 'f-f2-pic': 0\n",
       " 'f-f2-snd': 0\n",
       " 'f-f2-spk': 0\n",
       " 'f-f2-wrd': 0\n",
       " 'f-tg-pic': 0\n",
       " 'f-tg-snd': 0\n",
       " 'f-tg-spk': 0\n",
       " 'f-tg-wrd': 0>"
      ]
     },
     "execution_count": 57,
     "metadata": {},
     "output_type": "execute_result"
    }
   ],
   "source": [
    "epoch.drop_channels(['RA3'])"
   ]
  },
  {
   "cell_type": "code",
   "execution_count": 58,
   "metadata": {},
   "outputs": [
    {
     "name": "stdout",
     "output_type": "stream",
     "text": [
      "(968, 54500)\n"
     ]
    }
   ],
   "source": [
    "X = epoch.get_data()\n",
    "y = epoch.events[:,-1]\n",
    "vec=Vectorizer()\n",
    "X=vec.fit_transform(X)\n",
    "print(X.shape)"
   ]
  },
  {
   "cell_type": "code",
   "execution_count": 59,
   "metadata": {},
   "outputs": [
    {
     "name": "stdout",
     "output_type": "stream",
     "text": [
      "Accuracy: 0.5289256198347108\n"
     ]
    }
   ],
   "source": [
    "from sklearn import metrics\n",
    "clf = RandomForestRegressor(n_estimators =10, random_state = 42)\n",
    "    \n",
    "X_train, X_test, y_train, y_test = train_test_split(X,y, test_size = 0.25, random_state = 42)\n",
    "    \n",
    "clf.fit(X_train, y_train)\n",
    "    \n",
    "y_pred=clf.predict(X_test)\n",
    "print(\"Accuracy:\",metrics.accuracy_score(y_test, y_pred.round()))"
   ]
  },
  {
   "cell_type": "code",
   "execution_count": 60,
   "metadata": {},
   "outputs": [
    {
     "data": {
      "text/plain": [
       "(109,)"
      ]
     },
     "execution_count": 60,
     "metadata": {},
     "output_type": "execute_result"
    }
   ],
   "source": [
    "channel=[]\n",
    "importances = np.array(clf.feature_importances_)\n",
    "for i in range(0,len(importances),500):\n",
    "    channel.append(np.sum(importances[i:i+500]))\n",
    "    channel1=np.array(channel)\n",
    "    channel1.shape\n",
    "channel1.shape"
   ]
  },
  {
   "cell_type": "code",
   "execution_count": 61,
   "metadata": {},
   "outputs": [
    {
     "data": {
      "text/plain": [
       "LL1     0.030251\n",
       "RE3     0.023813\n",
       "LD5     0.023490\n",
       "LD2     0.023283\n",
       "LD7     0.021357\n",
       "LL5     0.020957\n",
       "R1      0.019747\n",
       "LA3     0.019701\n",
       "LC4     0.019063\n",
       "R7      0.018932\n",
       "R3      0.018835\n",
       "LC7     0.018637\n",
       "RD4     0.018443\n",
       "RR9     0.018180\n",
       "Z11     0.016899\n",
       "LL3     0.015989\n",
       "L2      0.015365\n",
       "LC6     0.014379\n",
       "RR3     0.014373\n",
       "RD2     0.014289\n",
       "RR11    0.013763\n",
       "LB3     0.013700\n",
       "Z13     0.013266\n",
       "LB4     0.012965\n",
       "L10     0.012962\n",
       "LC1     0.012656\n",
       "Z9      0.012507\n",
       "LE3     0.012416\n",
       "Z10     0.012374\n",
       "LL11    0.012000\n",
       "          ...   \n",
       "RC5     0.005402\n",
       "Z14     0.005134\n",
       "RB2     0.005024\n",
       "LC2     0.004969\n",
       "RC3     0.004905\n",
       "R6      0.004668\n",
       "R14     0.004661\n",
       "LL4     0.004490\n",
       "Z12     0.004454\n",
       "RA1     0.003976\n",
       "R2      0.003468\n",
       "L1      0.003254\n",
       "R4      0.003038\n",
       "R9      0.002927\n",
       "RD3     0.002869\n",
       "R12     0.002811\n",
       "L6      0.002698\n",
       "LL7     0.002680\n",
       "L12     0.002556\n",
       "LA4     0.002465\n",
       "LB2     0.002389\n",
       "RC2     0.002170\n",
       "L11     0.002163\n",
       "RB1     0.001943\n",
       "LC3     0.001591\n",
       "RD7     0.001570\n",
       "L8      0.001546\n",
       "RD5     0.001006\n",
       "RR10    0.000374\n",
       "LB5     0.000000\n",
       "Length: 109, dtype: float64"
      ]
     },
     "execution_count": 61,
     "metadata": {},
     "output_type": "execute_result"
    }
   ],
   "source": [
    "import pandas as pd\n",
    "feature_imp = pd.Series(channel1,index=epoch.ch_names).sort_values(ascending=False)\n",
    "feature_imp"
   ]
  },
  {
   "cell_type": "code",
   "execution_count": 62,
   "metadata": {},
   "outputs": [
    {
     "data": {
      "text/plain": [
       "<Epochs  |   968 events (all good), 0 - 1.94922 sec, baseline [None, 0], ~395.4 MB, data loaded,\n",
       " 'b-f1-pic': 0\n",
       " 'b-f1-snd': 0\n",
       " 'b-f1-spk': 425\n",
       " 'b-f1-wrd': 0\n",
       " 'b-f2-pic': 0\n",
       " 'b-f2-snd': 0\n",
       " 'b-f2-spk': 543\n",
       " 'b-f2-wrd': 0\n",
       " 'b-tg-pic': 0\n",
       " 'b-tg-snd': 0\n",
       " 'b-tg-spk': 0\n",
       " 'b-tg-wrd': 0\n",
       " 'f-f1-pic': 0\n",
       " 'f-f1-snd': 0\n",
       " 'f-f1-spk': 0\n",
       " 'f-f1-wrd': 0\n",
       " 'f-f2-pic': 0\n",
       " 'f-f2-snd': 0\n",
       " 'f-f2-spk': 0\n",
       " 'f-f2-wrd': 0\n",
       " 'f-tg-pic': 0\n",
       " 'f-tg-snd': 0\n",
       " 'f-tg-spk': 0\n",
       " 'f-tg-wrd': 0>"
      ]
     },
     "execution_count": 62,
     "metadata": {},
     "output_type": "execute_result"
    }
   ],
   "source": [
    "epoch.drop_channels(['LB5','RR10'])"
   ]
  },
  {
   "cell_type": "code",
   "execution_count": 63,
   "metadata": {},
   "outputs": [
    {
     "name": "stdout",
     "output_type": "stream",
     "text": [
      "(968, 53500)\n"
     ]
    }
   ],
   "source": [
    "X = epoch.get_data()\n",
    "y = epoch.events[:,-1]\n",
    "vec=Vectorizer()\n",
    "X=vec.fit_transform(X)\n",
    "print(X.shape)"
   ]
  },
  {
   "cell_type": "code",
   "execution_count": 64,
   "metadata": {},
   "outputs": [
    {
     "name": "stdout",
     "output_type": "stream",
     "text": [
      "Accuracy: 0.5413223140495868\n"
     ]
    }
   ],
   "source": [
    "from sklearn import metrics\n",
    "clf = RandomForestRegressor(n_estimators =10, random_state = 42)\n",
    "    \n",
    "X_train, X_test, y_train, y_test = train_test_split(X,y, test_size = 0.25, random_state = 42)\n",
    "    \n",
    "clf.fit(X_train, y_train)\n",
    "    \n",
    "y_pred=clf.predict(X_test)\n",
    "print(\"Accuracy:\",metrics.accuracy_score(y_test, y_pred.round()))"
   ]
  },
  {
   "cell_type": "code",
   "execution_count": 68,
   "metadata": {},
   "outputs": [
    {
     "name": "stdout",
     "output_type": "stream",
     "text": [
      "(107,)\n"
     ]
    },
    {
     "data": {
      "text/plain": [
       "LL1     0.030052\n",
       "RE3     0.026692\n",
       "LD5     0.025006\n",
       "LD7     0.023110\n",
       "Z11     0.020778\n",
       "Z10     0.019804\n",
       "LL5     0.019705\n",
       "LD2     0.019369\n",
       "R1      0.019030\n",
       "R3      0.018835\n",
       "RD4     0.017899\n",
       "R7      0.016228\n",
       "RC7     0.015999\n",
       "RE4     0.015541\n",
       "LB3     0.014940\n",
       "LC4     0.014712\n",
       "LL11    0.014702\n",
       "RR9     0.014470\n",
       "RR3     0.014054\n",
       "Z9      0.013956\n",
       "LC7     0.013902\n",
       "LL3     0.013717\n",
       "L2      0.013187\n",
       "LE3     0.013131\n",
       "LE4     0.013063\n",
       "RD2     0.012872\n",
       "LB4     0.012837\n",
       "LC1     0.012323\n",
       "L4      0.011725\n",
       "Z13     0.011713\n",
       "          ...   \n",
       "LC5     0.005429\n",
       "LL9     0.005219\n",
       "RD3     0.005175\n",
       "LB2     0.005131\n",
       "LB1     0.004840\n",
       "LD4     0.004640\n",
       "L14     0.004533\n",
       "R9      0.004474\n",
       "RB2     0.004469\n",
       "RR11    0.004383\n",
       "LL8     0.004275\n",
       "Z12     0.004035\n",
       "RR7     0.004015\n",
       "R11     0.003986\n",
       "RC2     0.003584\n",
       "RR2     0.003553\n",
       "R12     0.003535\n",
       "L1      0.003423\n",
       "L12     0.003368\n",
       "RD7     0.003133\n",
       "LA4     0.002951\n",
       "RB1     0.002851\n",
       "RC5     0.001982\n",
       "L8      0.001866\n",
       "Z7      0.001543\n",
       "R4      0.001427\n",
       "LL7     0.001078\n",
       "L6      0.000847\n",
       "L11     0.000000\n",
       "LC3     0.000000\n",
       "Length: 107, dtype: float64"
      ]
     },
     "execution_count": 68,
     "metadata": {},
     "output_type": "execute_result"
    }
   ],
   "source": [
    "channel=[]\n",
    "importances = np.array(clf.feature_importances_)\n",
    "for i in range(0,len(importances),500):\n",
    "    channel.append(np.sum(importances[i:i+500]))\n",
    "    channel1=np.array(channel)\n",
    "    channel1.shape\n",
    "print(channel1.shape)\n",
    "import pandas as pd\n",
    "feature_imp = pd.Series(channel1,index=epoch.ch_names).sort_values(ascending=False)\n",
    "feature_imp"
   ]
  },
  {
   "cell_type": "code",
   "execution_count": 69,
   "metadata": {},
   "outputs": [
    {
     "data": {
      "text/plain": [
       "<Epochs  |   968 events (all good), 0 - 1.94922 sec, baseline [None, 0], ~388.0 MB, data loaded,\n",
       " 'b-f1-pic': 0\n",
       " 'b-f1-snd': 0\n",
       " 'b-f1-spk': 425\n",
       " 'b-f1-wrd': 0\n",
       " 'b-f2-pic': 0\n",
       " 'b-f2-snd': 0\n",
       " 'b-f2-spk': 543\n",
       " 'b-f2-wrd': 0\n",
       " 'b-tg-pic': 0\n",
       " 'b-tg-snd': 0\n",
       " 'b-tg-spk': 0\n",
       " 'b-tg-wrd': 0\n",
       " 'f-f1-pic': 0\n",
       " 'f-f1-snd': 0\n",
       " 'f-f1-spk': 0\n",
       " 'f-f1-wrd': 0\n",
       " 'f-f2-pic': 0\n",
       " 'f-f2-snd': 0\n",
       " 'f-f2-spk': 0\n",
       " 'f-f2-wrd': 0\n",
       " 'f-tg-pic': 0\n",
       " 'f-tg-snd': 0\n",
       " 'f-tg-spk': 0\n",
       " 'f-tg-wrd': 0>"
      ]
     },
     "execution_count": 69,
     "metadata": {},
     "output_type": "execute_result"
    }
   ],
   "source": [
    "epoch.drop_channels(['L11','LC3'])"
   ]
  },
  {
   "cell_type": "code",
   "execution_count": 70,
   "metadata": {},
   "outputs": [
    {
     "name": "stdout",
     "output_type": "stream",
     "text": [
      "(968, 52500)\n"
     ]
    }
   ],
   "source": [
    "X = epoch.get_data()\n",
    "y = epoch.events[:,-1]\n",
    "vec=Vectorizer()\n",
    "X=vec.fit_transform(X)\n",
    "print(X.shape)"
   ]
  },
  {
   "cell_type": "code",
   "execution_count": 71,
   "metadata": {},
   "outputs": [
    {
     "name": "stdout",
     "output_type": "stream",
     "text": [
      "Accuracy: 0.5330578512396694\n",
      "(105,)\n"
     ]
    },
    {
     "data": {
      "text/plain": [
       "LL1       0.034170\n",
       "RE3       0.024371\n",
       "LD5       0.023064\n",
       "LD7       0.022550\n",
       "LD2       0.021558\n",
       "R1        0.020562\n",
       "LL5       0.019146\n",
       "L2        0.017923\n",
       "RD4       0.017899\n",
       "Z11       0.017418\n",
       "R3        0.016755\n",
       "R7        0.016603\n",
       "LA3       0.015984\n",
       "LC4       0.015601\n",
       "Z10       0.015171\n",
       "L10       0.015034\n",
       "Z3        0.014829\n",
       "LC7       0.014234\n",
       "RR9       0.014114\n",
       "LB3       0.013700\n",
       "R8        0.013584\n",
       "LE3       0.013443\n",
       "LL11      0.013170\n",
       "Z9        0.013040\n",
       "RR3       0.013038\n",
       "L13       0.012851\n",
       "LB4       0.012095\n",
       "LE1       0.012082\n",
       "LL10      0.011421\n",
       "RR11      0.011349\n",
       "            ...   \n",
       "L12       0.005802\n",
       "RR5       0.005709\n",
       "R14       0.005635\n",
       "R6        0.005579\n",
       "L14       0.005515\n",
       "L6        0.005442\n",
       "RC2       0.005441\n",
       "Z8        0.005384\n",
       "L7        0.005227\n",
       "LL7       0.005123\n",
       "RD7       0.005068\n",
       "LL4       0.005043\n",
       "Nasium    0.005027\n",
       "R9        0.004786\n",
       "RB5       0.004478\n",
       "RB2       0.004469\n",
       "RC3       0.004454\n",
       "LB2       0.004079\n",
       "R12       0.003369\n",
       "LL8       0.003156\n",
       "Z12       0.003058\n",
       "L8        0.002766\n",
       "RB1       0.002568\n",
       "Z7        0.002514\n",
       "LA4       0.002465\n",
       "R4        0.002222\n",
       "L1        0.002163\n",
       "RA1       0.001891\n",
       "RC5       0.000000\n",
       "R2        0.000000\n",
       "Length: 105, dtype: float64"
      ]
     },
     "execution_count": 71,
     "metadata": {},
     "output_type": "execute_result"
    }
   ],
   "source": [
    "from sklearn import metrics\n",
    "clf = RandomForestRegressor(n_estimators =10, random_state = 42)\n",
    "    \n",
    "X_train, X_test, y_train, y_test = train_test_split(X,y, test_size = 0.25, random_state = 42)\n",
    "    \n",
    "clf.fit(X_train, y_train)\n",
    "    \n",
    "y_pred=clf.predict(X_test)\n",
    "print(\"Accuracy:\",metrics.accuracy_score(y_test, y_pred.round()))\n",
    "channel=[]\n",
    "importances = np.array(clf.feature_importances_)\n",
    "for i in range(0,len(importances),500):\n",
    "    channel.append(np.sum(importances[i:i+500]))\n",
    "    channel1=np.array(channel)\n",
    "    channel1.shape\n",
    "print(channel1.shape)\n",
    "import pandas as pd\n",
    "feature_imp = pd.Series(channel1,index=epoch.ch_names).sort_values(ascending=False)\n",
    "feature_imp"
   ]
  },
  {
   "cell_type": "code",
   "execution_count": 73,
   "metadata": {},
   "outputs": [
    {
     "data": {
      "text/plain": [
       "<Epochs  |   968 events (all good), 0 - 1.94922 sec, baseline [None, 0], ~380.6 MB, data loaded,\n",
       " 'b-f1-pic': 0\n",
       " 'b-f1-snd': 0\n",
       " 'b-f1-spk': 425\n",
       " 'b-f1-wrd': 0\n",
       " 'b-f2-pic': 0\n",
       " 'b-f2-snd': 0\n",
       " 'b-f2-spk': 543\n",
       " 'b-f2-wrd': 0\n",
       " 'b-tg-pic': 0\n",
       " 'b-tg-snd': 0\n",
       " 'b-tg-spk': 0\n",
       " 'b-tg-wrd': 0\n",
       " 'f-f1-pic': 0\n",
       " 'f-f1-snd': 0\n",
       " 'f-f1-spk': 0\n",
       " 'f-f1-wrd': 0\n",
       " 'f-f2-pic': 0\n",
       " 'f-f2-snd': 0\n",
       " 'f-f2-spk': 0\n",
       " 'f-f2-wrd': 0\n",
       " 'f-tg-pic': 0\n",
       " 'f-tg-snd': 0\n",
       " 'f-tg-spk': 0\n",
       " 'f-tg-wrd': 0>"
      ]
     },
     "execution_count": 73,
     "metadata": {},
     "output_type": "execute_result"
    }
   ],
   "source": [
    "epoch.drop_channels(['RC5','R2'])"
   ]
  },
  {
   "cell_type": "code",
   "execution_count": 74,
   "metadata": {},
   "outputs": [
    {
     "name": "stdout",
     "output_type": "stream",
     "text": [
      "(968, 51500)\n",
      "Accuracy: 0.5206611570247934\n",
      "(103,)\n"
     ]
    },
    {
     "data": {
      "text/plain": [
       "LL1     0.029185\n",
       "LD5     0.028656\n",
       "RE3     0.024468\n",
       "LD7     0.024177\n",
       "R3      0.023829\n",
       "LB3     0.019614\n",
       "LD2     0.019055\n",
       "Z11     0.018895\n",
       "LL5     0.018615\n",
       "LC4     0.018453\n",
       "RD4     0.017899\n",
       "LL11    0.017795\n",
       "Z10     0.017625\n",
       "R1      0.017023\n",
       "R7      0.016862\n",
       "RR9     0.015451\n",
       "RR4     0.014218\n",
       "L10     0.013662\n",
       "RC7     0.013253\n",
       "RR3     0.013038\n",
       "LC6     0.013015\n",
       "L2      0.012781\n",
       "LB4     0.012667\n",
       "Z3      0.012557\n",
       "RB3     0.012452\n",
       "RC4     0.012195\n",
       "LC1     0.012174\n",
       "LA2     0.012046\n",
       "RR11    0.011762\n",
       "Z13     0.011625\n",
       "          ...   \n",
       "LL4     0.006374\n",
       "L5      0.006362\n",
       "LD4     0.006344\n",
       "L7      0.006110\n",
       "Z8      0.006050\n",
       "RB5     0.005510\n",
       "LL8     0.005457\n",
       "LB1     0.005324\n",
       "L9      0.005189\n",
       "R9      0.005065\n",
       "L14     0.005051\n",
       "RB2     0.005023\n",
       "RC3     0.005012\n",
       "L8      0.004776\n",
       "LL6     0.004655\n",
       "RR2     0.004647\n",
       "LB2     0.004137\n",
       "R6      0.004120\n",
       "LL12    0.004049\n",
       "RA1     0.004045\n",
       "LL7     0.003153\n",
       "Z7      0.002636\n",
       "L1      0.002634\n",
       "Z12     0.002570\n",
       "LA4     0.002465\n",
       "RD7     0.001624\n",
       "RC2     0.001121\n",
       "Z14     0.000521\n",
       "R4      0.000000\n",
       "RB1     0.000000\n",
       "Length: 103, dtype: float64"
      ]
     },
     "execution_count": 74,
     "metadata": {},
     "output_type": "execute_result"
    }
   ],
   "source": [
    "X = epoch.get_data()\n",
    "y = epoch.events[:,-1]\n",
    "vec=Vectorizer()\n",
    "X=vec.fit_transform(X)\n",
    "print(X.shape)\n",
    "from sklearn import metrics\n",
    "clf = RandomForestRegressor(n_estimators =10, random_state = 42)\n",
    "    \n",
    "X_train, X_test, y_train, y_test = train_test_split(X,y, test_size = 0.25, random_state = 42)\n",
    "    \n",
    "clf.fit(X_train, y_train)\n",
    "    \n",
    "y_pred=clf.predict(X_test)\n",
    "print(\"Accuracy:\",metrics.accuracy_score(y_test, y_pred.round()))\n",
    "channel=[]\n",
    "importances = np.array(clf.feature_importances_)\n",
    "for i in range(0,len(importances),500):\n",
    "    channel.append(np.sum(importances[i:i+500]))\n",
    "    channel1=np.array(channel)\n",
    "    channel1.shape\n",
    "print(channel1.shape)\n",
    "import pandas as pd\n",
    "feature_imp = pd.Series(channel1,index=epoch.ch_names).sort_values(ascending=False)\n",
    "feature_imp"
   ]
  },
  {
   "cell_type": "code",
   "execution_count": 75,
   "metadata": {},
   "outputs": [
    {
     "data": {
      "text/plain": [
       "<Epochs  |   968 events (all good), 0 - 1.94922 sec, baseline [None, 0], ~358.4 MB, data loaded,\n",
       " 'b-f1-pic': 0\n",
       " 'b-f1-snd': 0\n",
       " 'b-f1-spk': 425\n",
       " 'b-f1-wrd': 0\n",
       " 'b-f2-pic': 0\n",
       " 'b-f2-snd': 0\n",
       " 'b-f2-spk': 543\n",
       " 'b-f2-wrd': 0\n",
       " 'b-tg-pic': 0\n",
       " 'b-tg-snd': 0\n",
       " 'b-tg-spk': 0\n",
       " 'b-tg-wrd': 0\n",
       " 'f-f1-pic': 0\n",
       " 'f-f1-snd': 0\n",
       " 'f-f1-spk': 0\n",
       " 'f-f1-wrd': 0\n",
       " 'f-f2-pic': 0\n",
       " 'f-f2-snd': 0\n",
       " 'f-f2-spk': 0\n",
       " 'f-f2-wrd': 0\n",
       " 'f-tg-pic': 0\n",
       " 'f-tg-snd': 0\n",
       " 'f-tg-spk': 0\n",
       " 'f-tg-wrd': 0>"
      ]
     },
     "execution_count": 75,
     "metadata": {},
     "output_type": "execute_result"
    }
   ],
   "source": [
    "epoch.drop_channels(['RB1','R4','Z14','RC2','RD7','LA4'])"
   ]
  },
  {
   "cell_type": "code",
   "execution_count": 76,
   "metadata": {},
   "outputs": [
    {
     "name": "stdout",
     "output_type": "stream",
     "text": [
      "(968, 48500)\n",
      "Accuracy: 0.5495867768595041\n",
      "(97,)\n"
     ]
    },
    {
     "data": {
      "text/plain": [
       "LL1       0.034216\n",
       "LD2       0.027626\n",
       "LD5       0.026676\n",
       "R1        0.025719\n",
       "RE3       0.023590\n",
       "LD7       0.021040\n",
       "LL5       0.020555\n",
       "L2        0.020140\n",
       "RD4       0.019422\n",
       "Z11       0.018900\n",
       "R3        0.017746\n",
       "Z10       0.015602\n",
       "LL11      0.015452\n",
       "LB4       0.015090\n",
       "LC4       0.015085\n",
       "Z9        0.015042\n",
       "LB3       0.014595\n",
       "LA3       0.014472\n",
       "LL3       0.014326\n",
       "RR3       0.014089\n",
       "RC4       0.013701\n",
       "LC6       0.013463\n",
       "R7        0.013182\n",
       "LE3       0.013166\n",
       "RR9       0.013029\n",
       "Z1        0.012560\n",
       "LD1       0.012553\n",
       "RR11      0.012429\n",
       "LL10      0.012138\n",
       "RB3       0.011931\n",
       "            ...   \n",
       "RC6       0.007071\n",
       "L7        0.006838\n",
       "R14       0.006755\n",
       "LD4       0.006292\n",
       "LB1       0.006290\n",
       "LL4       0.005931\n",
       "R11       0.005899\n",
       "LA1       0.005817\n",
       "RC3       0.005560\n",
       "LC2       0.005559\n",
       "Z3        0.005501\n",
       "RA4       0.005242\n",
       "LB2       0.005218\n",
       "LL6       0.005141\n",
       "L6        0.005096\n",
       "RA1       0.005022\n",
       "RB2       0.005018\n",
       "Z8        0.004933\n",
       "RD3       0.004306\n",
       "LL8       0.004223\n",
       "Nasium    0.004074\n",
       "R9        0.004006\n",
       "R12       0.003941\n",
       "RR2       0.003553\n",
       "Z7        0.003404\n",
       "L12       0.002709\n",
       "Z12       0.002095\n",
       "L1        0.001651\n",
       "LL7       0.001643\n",
       "L8        0.000000\n",
       "Length: 97, dtype: float64"
      ]
     },
     "execution_count": 76,
     "metadata": {},
     "output_type": "execute_result"
    }
   ],
   "source": [
    "X = epoch.get_data()\n",
    "y = epoch.events[:,-1]\n",
    "vec=Vectorizer()\n",
    "X=vec.fit_transform(X)\n",
    "print(X.shape)\n",
    "from sklearn import metrics\n",
    "clf = RandomForestRegressor(n_estimators =10, random_state = 42)\n",
    "    \n",
    "X_train, X_test, y_train, y_test = train_test_split(X,y, test_size = 0.25, random_state = 42)\n",
    "    \n",
    "clf.fit(X_train, y_train)\n",
    "    \n",
    "y_pred=clf.predict(X_test)\n",
    "print(\"Accuracy:\",metrics.accuracy_score(y_test, y_pred.round()))\n",
    "channel=[]\n",
    "importances = np.array(clf.feature_importances_)\n",
    "for i in range(0,len(importances),500):\n",
    "    channel.append(np.sum(importances[i:i+500]))\n",
    "    channel1=np.array(channel)\n",
    "    channel1.shape\n",
    "print(channel1.shape)\n",
    "import pandas as pd\n",
    "feature_imp = pd.Series(channel1,index=epoch.ch_names).sort_values(ascending=False)\n",
    "feature_imp"
   ]
  },
  {
   "cell_type": "code",
   "execution_count": 77,
   "metadata": {},
   "outputs": [
    {
     "data": {
      "text/plain": [
       "<Epochs  |   968 events (all good), 0 - 1.94922 sec, baseline [None, 0], ~332.6 MB, data loaded,\n",
       " 'b-f1-pic': 0\n",
       " 'b-f1-snd': 0\n",
       " 'b-f1-spk': 425\n",
       " 'b-f1-wrd': 0\n",
       " 'b-f2-pic': 0\n",
       " 'b-f2-snd': 0\n",
       " 'b-f2-spk': 543\n",
       " 'b-f2-wrd': 0\n",
       " 'b-tg-pic': 0\n",
       " 'b-tg-snd': 0\n",
       " 'b-tg-spk': 0\n",
       " 'b-tg-wrd': 0\n",
       " 'f-f1-pic': 0\n",
       " 'f-f1-snd': 0\n",
       " 'f-f1-spk': 0\n",
       " 'f-f1-wrd': 0\n",
       " 'f-f2-pic': 0\n",
       " 'f-f2-snd': 0\n",
       " 'f-f2-spk': 0\n",
       " 'f-f2-wrd': 0\n",
       " 'f-tg-pic': 0\n",
       " 'f-tg-snd': 0\n",
       " 'f-tg-spk': 0\n",
       " 'f-tg-wrd': 0>"
      ]
     },
     "execution_count": 77,
     "metadata": {},
     "output_type": "execute_result"
    }
   ],
   "source": [
    "epoch.drop_channels(['L8','LL7','L1','Z12','L12','Z7','Nasium'])"
   ]
  },
  {
   "cell_type": "code",
   "execution_count": 78,
   "metadata": {},
   "outputs": [
    {
     "name": "stdout",
     "output_type": "stream",
     "text": [
      "(968, 45000)\n",
      "Accuracy: 0.5247933884297521\n",
      "(90,)\n"
     ]
    },
    {
     "data": {
      "text/plain": [
       "LL1     0.032374\n",
       "RE3     0.029172\n",
       "LD2     0.027270\n",
       "LD5     0.025737\n",
       "LD7     0.024792\n",
       "Z11     0.023263\n",
       "R7      0.021718\n",
       "R1      0.020389\n",
       "LL3     0.019370\n",
       "RD4     0.019282\n",
       "Z10     0.017922\n",
       "LL5     0.017343\n",
       "R3      0.017312\n",
       "RD2     0.017273\n",
       "L2      0.016588\n",
       "LE3     0.016013\n",
       "LC7     0.015975\n",
       "LB4     0.015540\n",
       "LC4     0.014712\n",
       "RR1     0.014625\n",
       "L10     0.014615\n",
       "LA3     0.014315\n",
       "LL11    0.014081\n",
       "LB3     0.014076\n",
       "RC7     0.012672\n",
       "RR9     0.012322\n",
       "L14     0.012312\n",
       "LC6     0.012195\n",
       "Z3      0.012108\n",
       "RR11    0.012073\n",
       "          ...   \n",
       "LL12    0.007817\n",
       "RB4     0.007713\n",
       "LE4     0.007699\n",
       "RD1     0.007314\n",
       "R14     0.007159\n",
       "LC2     0.007153\n",
       "L9      0.007102\n",
       "LB2     0.006928\n",
       "L5      0.006922\n",
       "RR8     0.006856\n",
       "RC3     0.006832\n",
       "RR5     0.006770\n",
       "LC5     0.006535\n",
       "R9      0.006358\n",
       "LL4     0.006324\n",
       "Z8      0.006007\n",
       "RB3     0.005912\n",
       "L7      0.005892\n",
       "RA4     0.005363\n",
       "R12     0.005009\n",
       "LL6     0.005008\n",
       "LB1     0.004840\n",
       "RA1     0.004408\n",
       "R11     0.003981\n",
       "RB5     0.003959\n",
       "R10     0.003869\n",
       "LL8     0.003700\n",
       "RD5     0.003662\n",
       "RD3     0.002869\n",
       "L6      0.001547\n",
       "Length: 90, dtype: float64"
      ]
     },
     "execution_count": 78,
     "metadata": {},
     "output_type": "execute_result"
    }
   ],
   "source": [
    "X = epoch.get_data()\n",
    "y = epoch.events[:,-1]\n",
    "vec=Vectorizer()\n",
    "X=vec.fit_transform(X)\n",
    "print(X.shape)\n",
    "from sklearn import metrics\n",
    "clf = RandomForestRegressor(n_estimators =10, random_state = 42)\n",
    "    \n",
    "X_train, X_test, y_train, y_test = train_test_split(X,y, test_size = 0.25, random_state = 42)\n",
    "    \n",
    "clf.fit(X_train, y_train)\n",
    "    \n",
    "y_pred=clf.predict(X_test)\n",
    "print(\"Accuracy:\",metrics.accuracy_score(y_test, y_pred.round()))\n",
    "channel=[]\n",
    "importances = np.array(clf.feature_importances_)\n",
    "for i in range(0,len(importances),500):\n",
    "    channel.append(np.sum(importances[i:i+500]))\n",
    "    channel1=np.array(channel)\n",
    "    channel1.shape\n",
    "print(channel1.shape)\n",
    "import pandas as pd\n",
    "feature_imp = pd.Series(channel1,index=epoch.ch_names).sort_values(ascending=False)\n",
    "feature_imp"
   ]
  },
  {
   "cell_type": "code",
   "execution_count": null,
   "metadata": {},
   "outputs": [],
   "source": []
  }
 ],
 "metadata": {
  "kernelspec": {
   "display_name": "Python 3",
   "language": "python",
   "name": "python3"
  },
  "language_info": {
   "codemirror_mode": {
    "name": "ipython",
    "version": 3
   },
   "file_extension": ".py",
   "mimetype": "text/x-python",
   "name": "python",
   "nbconvert_exporter": "python",
   "pygments_lexer": "ipython3",
   "version": "3.6.5"
  }
 },
 "nbformat": 4,
 "nbformat_minor": 2
}
