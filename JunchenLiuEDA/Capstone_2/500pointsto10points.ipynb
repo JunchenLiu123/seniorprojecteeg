{
 "cells": [
  {
   "cell_type": "markdown",
   "metadata": {},
   "source": [
    "# Reduce the data points for each channel\n",
    "* this notebook will take the average of each 50 points and convert it to 1 point, so 500 ms will now become 10 ms\n",
    "* The goal is to be able to simplify the data from nevent,nchanel,500 to nevent,nchanel,10 and do classfication\n",
    "  * in other words it will be easier for us to find the variances acorss channels by having less data points"
   ]
  },
  {
   "cell_type": "code",
   "execution_count": null,
   "metadata": {},
   "outputs": [],
   "source": [
    "import numpy as np\n",
    "import matplotlib.pyplot as plt\n",
    "from mne.decoding import Vectorizer\n",
    "from sklearn.preprocessing import MinMaxScaler\n",
    "from mne.decoding import SPoC\n",
    "from sklearn.naive_bayes import GaussianNB\n",
    "from sklearn.preprocessing import StandardScaler\n",
    "from sklearn.pipeline import make_pipeline\n",
    "from sklearn.preprocessing import StandardScaler\n",
    "from sklearn.linear_model import LogisticRegression\n",
    "from sklearn.linear_model import Ridge\n",
    "from sklearn import linear_model\n",
    "from sklearn.linear_model import LinearRegression\n",
    "from sklearn.feature_extraction.text import TfidfTransformer\n",
    "from sklearn.discriminant_analysis import LinearDiscriminantAnalysis\n",
    "from sklearn.neighbors import KNeighborsClassifier as KNN\n",
    "from sklearn.model_selection import train_test_split\n",
    "from sklearn.decomposition import PCA\n",
    "from sklearn.model_selection import train_test_split as tts\n",
    "import mne\n",
    "from sklearn.model_selection import StratifiedKFold\n",
    "from mne.datasets import sample\n",
    "from mne.decoding import (SlidingEstimator, GeneralizingEstimator,\n",
    "                          cross_val_multiscore, LinearModel, get_coef)\n",
    "from sklearn.decomposition import PCA\n",
    "from sklearn.decomposition import NMF\n",
    "from sklearn.manifold import TSNE \n",
    "import os\n",
    "from mne.decoding import UnsupervisedSpatialFilter\n",
    "import os.path as op\n",
    "from os import listdir\n",
    "from os.path import isfile, join\n",
    "from collections import defaultdict\n",
    "from scipy.stats import skew, kurtosis\n",
    "import mne \n",
    "\n",
    "from mne.decoding import Vectorizer\n",
    "from sklearn.preprocessing import MinMaxScaler, Normalizer\n",
    "from sklearn.preprocessing import StandardScaler\n",
    "from sklearn.pipeline import make_pipeline\n",
    "from sklearn.linear_model import LogisticRegression\n",
    "from sklearn.model_selection import train_test_split\n",
    "from sklearn.model_selection import StratifiedKFold\n",
    "from sklearn.metrics import classification_report\n",
    "from sklearn.svm import SVC  # noqa\n",
    "from sklearn.model_selection import ShuffleSplit  # noqa\n",
    "\n",
    "from mne.decoding import UnsupervisedSpatialFilter\n",
    "from sklearn.decomposition import PCA\n",
    "from scipy.stats import skew, kurtosis\n",
    "from sklearn.metrics import confusion_matrix\n",
    "from mne.viz import tight_layout\n",
    "\n",
    "import time\n",
    "import pandas as pd"
   ]
  },
  {
   "cell_type": "code",
   "execution_count": null,
   "metadata": {},
   "outputs": [],
   "source": [
    "%run Batch_ArtifactFilter_Epoch.ipynb"
   ]
  },
  {
   "cell_type": "code",
   "execution_count": null,
   "metadata": {},
   "outputs": [],
   "source": [
    "epoch=remove_artifacts_and_create_epochs('D:\\\\USB Drive\\\\NewEEG-200s\\\\SA20140205\\\\20140205_1230.set')"
   ]
  },
  {
   "cell_type": "code",
   "execution_count": null,
   "metadata": {},
   "outputs": [],
   "source": [
    "epoch.get_data().shape"
   ]
  },
  {
   "cell_type": "code",
   "execution_count": null,
   "metadata": {},
   "outputs": [],
   "source": [
    "epoch.get_data()[1,1,:].shape"
   ]
  },
  {
   "cell_type": "code",
   "execution_count": null,
   "metadata": {},
   "outputs": [],
   "source": [
    "epoch.get_data()[1,1,10:20].shape"
   ]
  },
  {
   "cell_type": "code",
   "execution_count": null,
   "metadata": {},
   "outputs": [],
   "source": [
    "newdata=epoch.get_data()"
   ]
  },
  {
   "cell_type": "code",
   "execution_count": null,
   "metadata": {},
   "outputs": [],
   "source": [
    "newdata.shape"
   ]
  },
  {
   "cell_type": "code",
   "execution_count": null,
   "metadata": {},
   "outputs": [],
   "source": [
    "newdata=epoch.get_data()[1,1,:]"
   ]
  },
  {
   "cell_type": "code",
   "execution_count": null,
   "metadata": {},
   "outputs": [],
   "source": [
    "newdata.shape"
   ]
  },
  {
   "cell_type": "code",
   "execution_count": null,
   "metadata": {},
   "outputs": [],
   "source": [
    "i=50\n",
    "j=0\n",
    "newdata1=[]\n",
    "for i in range(len(newdata)):\n",
    "    if i%50==0:\n",
    "        newdata1[1,1,j]=np.mean(newdata[1,1,i-50:i])\n",
    "        j=j+1\n",
    "        "
   ]
  },
  {
   "cell_type": "code",
   "execution_count": null,
   "metadata": {},
   "outputs": [],
   "source": [
    "data=epoch.get_data()[1,1,0:50]"
   ]
  },
  {
   "cell_type": "code",
   "execution_count": null,
   "metadata": {},
   "outputs": [],
   "source": [
    "data.shape\n",
    "np.mean(data)"
   ]
  },
  {
   "cell_type": "code",
   "execution_count": null,
   "metadata": {},
   "outputs": [],
   "source": [
    "data=epoch.get_data()[1,1,51:100]\n",
    "np.mean(data)"
   ]
  },
  {
   "cell_type": "code",
   "execution_count": null,
   "metadata": {},
   "outputs": [],
   "source": [
    "newdata.shape"
   ]
  },
  {
   "cell_type": "code",
   "execution_count": null,
   "metadata": {},
   "outputs": [],
   "source": [
    " final_variances = []\n",
    "    for d in data:\n",
    "    #     print (data.shape)\n",
    "        variances = []\n",
    "        skewnesses = []\n",
    "        kurtosises = []\n",
    "        stats = []\n",
    "        for channel in \n",
    "    #         print(channel.shape)\n",
    "            var = channel.var()\n",
    "            variances.append(var)\n",
    "            \n",
    "            skewness = skew(channel, axis=0)\n",
    "#             print(skewness)\n",
    "\n",
    "            skewnesses.append(skewness)\n",
    "#             print(skewness)\n",
    "            kurt = kurtosis(channel)\n",
    "            kurtosises.append(kurt)\n",
    "#         print(skewnesses)\n",
    "#         mean_skew = np.mean(skewnesses)\n",
    "#         stats.append(mean_skew)\n",
    "#         stats.append(np.mean(variances))\n",
    "        final_variances.append([np.mean(variances), np.mean(skewnesses), np.mean(kurtosises)])"
   ]
  },
  {
   "cell_type": "code",
   "execution_count": null,
   "metadata": {},
   "outputs": [],
   "source": [
    "for d in newdata:\n",
    "    for channel in d:\n",
    "        print(channel.shape)"
   ]
  },
  {
   "cell_type": "code",
   "execution_count": null,
   "metadata": {},
   "outputs": [],
   "source": [
    "final_variances = []\n",
    "final_variances.append()"
   ]
  },
  {
   "cell_type": "code",
   "execution_count": null,
   "metadata": {},
   "outputs": [],
   "source": [
    "newdata=epoch.get_data()\n",
    "data=[]\n",
    "for d in newdata:\n",
    "    mean1=[]\n",
    "    mean2=[]\n",
    "    mean3=[]\n",
    "    mean4=[]\n",
    "    mean5=[]\n",
    "    mean6=[]\n",
    "    mean7=[]\n",
    "    mean8=[]\n",
    "    mean9=[]\n",
    "    mean10=[]\n",
    "    #   print (data.shape)\n",
    "    for channel in d:\n",
    "        mean1.append(np.mean(channel[0:50]))\n",
    "        mean2.append(np.mean(channel[51:100]))\n",
    "        mean3.append(np.mean(channel[101:150]))\n",
    "        mean4.append(np.mean(channel[151:200]))\n",
    "        mean5.append(np.mean(channel[201:250]))\n",
    "        mean6.append(np.mean(channel[251:300]))\n",
    "        mean7.append(np.mean(channel[301:350]))\n",
    "        mean8.append(np.mean(channel[351:400]))\n",
    "        mean9.append(np.mean(channel[401:450]))\n",
    "        mean10.append(np.mean(channel[451:500]))\n",
    "    data.append([mean1,mean2,mean3,mean4,mean5,mean6,mean7,mean8,mean9,mean10])"
   ]
  },
  {
   "cell_type": "code",
   "execution_count": null,
   "metadata": {},
   "outputs": [],
   "source": [
    "array=np.array(data)"
   ]
  },
  {
   "cell_type": "code",
   "execution_count": null,
   "metadata": {},
   "outputs": [],
   "source": [
    "array.shape"
   ]
  },
  {
   "cell_type": "code",
   "execution_count": null,
   "metadata": {},
   "outputs": [],
   "source": [
    "array"
   ]
  },
  {
   "cell_type": "code",
   "execution_count": null,
   "metadata": {},
   "outputs": [],
   "source": [
    "final_variances = []\n",
    "for d in newdata:\n",
    "    #     print (data.shape)\n",
    "    variances = []\n",
    "    skewnesses = []\n",
    "    kurtosises = []\n",
    "    stats = []\n",
    "    for channel in d:\n",
    "    #         print(channel.shape)\n",
    "        var = channel.var()\n",
    "        variances.append(var)\n",
    "            \n",
    "        skewness = skew(channel, axis=0)\n",
    "#             print(skewness)\n",
    "\n",
    "        skewnesses.append(skewness)\n",
    "#             print(skewness)\n",
    "        kurt = kurtosis(channel)\n",
    "        kurtosises.append(kurt)\n",
    "#         print(skewnesses)\n",
    "#         mean_skew = np.mean(skewnesses)\n",
    "#         stats.append(mean_skew)\n",
    "#         stats.append(np.mean(variances))\n",
    "    final_variances.append([variances, skewnesses, kurtosises])"
   ]
  },
  {
   "cell_type": "code",
   "execution_count": null,
   "metadata": {},
   "outputs": [],
   "source": [
    "array= np.array(final_variances)\n",
    "array.shape"
   ]
  },
  {
   "cell_type": "code",
   "execution_count": null,
   "metadata": {},
   "outputs": [],
   "source": [
    "epoch[0:10].plot()"
   ]
  },
  {
   "cell_type": "code",
   "execution_count": null,
   "metadata": {},
   "outputs": [],
   "source": [
    "newdata"
   ]
  },
  {
   "cell_type": "code",
   "execution_count": null,
   "metadata": {},
   "outputs": [],
   "source": [
    "newdata.shape"
   ]
  },
  {
   "cell_type": "code",
   "execution_count": null,
   "metadata": {},
   "outputs": [],
   "source": [
    "newdata[7,1,:]"
   ]
  },
  {
   "cell_type": "code",
   "execution_count": null,
   "metadata": {},
   "outputs": [],
   "source": [
    "array.shape"
   ]
  },
  {
   "cell_type": "code",
   "execution_count": null,
   "metadata": {},
   "outputs": [],
   "source": [
    "newdata=epoch.get_data()\n",
    "data=[]\n",
    "for d in newdata:\n",
    "    mean1=[]\n",
    "    mean2=[]\n",
    "    mean3=[]\n",
    "    mean4=[]\n",
    "    mean5=[]\n",
    "    mean6=[]\n",
    "    mean7=[]\n",
    "    mean8=[]\n",
    "    mean9=[]\n",
    "    mean10=[]\n",
    "    #   print (data.shape)\n",
    "    for channel in d:\n",
    "        mean1.append(np.mean(channel[0:50]))\n",
    "        mean2.append(np.mean(channel[51:100]))\n",
    "        mean3.append(np.mean(channel[101:150]))\n",
    "        mean4.append(np.mean(channel[151:200]))\n",
    "        mean5.append(np.mean(channel[201:250]))\n",
    "        mean6.append(np.mean(channel[251:300]))\n",
    "        mean7.append(np.mean(channel[301:350]))\n",
    "        mean8.append(np.mean(channel[351:400]))\n",
    "        mean9.append(np.mean(channel[401:450]))\n",
    "        mean10.append(np.mean(channel[451:500]))\n",
    "    data.append([mean1,mean2,mean3,mean4,mean5,mean6,mean7,mean8,mean9,mean10])"
   ]
  },
  {
   "cell_type": "code",
   "execution_count": null,
   "metadata": {},
   "outputs": [],
   "source": [
    "data=np.array(data)\n",
    "olddata=newdata"
   ]
  },
  {
   "cell_type": "code",
   "execution_count": null,
   "metadata": {},
   "outputs": [],
   "source": [
    "newdata=data.swapaxes(1,2)"
   ]
  },
  {
   "cell_type": "code",
   "execution_count": null,
   "metadata": {},
   "outputs": [],
   "source": [
    "newdata.shape"
   ]
  },
  {
   "cell_type": "code",
   "execution_count": null,
   "metadata": {},
   "outputs": [],
   "source": [
    "olddata[1,1,:]"
   ]
  },
  {
   "cell_type": "code",
   "execution_count": null,
   "metadata": {},
   "outputs": [],
   "source": [
    "newdata[1,1,:]"
   ]
  },
  {
   "cell_type": "code",
   "execution_count": null,
   "metadata": {},
   "outputs": [],
   "source": [
    "data=[ 0.00000000e+00, -1.35766065e-06,  5.04398277e-06,  9.58098872e-06,\n",
    "        8.23398520e-06,  6.85851464e-06,  3.38759893e-06,  7.50868129e-06,\n",
    "        1.18741766e-05,  6.82357305e-06,  8.03419241e-06,  9.51350580e-06,\n",
    "        7.35557849e-06,  8.19861154e-06,  7.06659811e-06,  7.27607200e-06,\n",
    "        5.97910998e-06,  1.39251753e-06,  5.73692049e-06,  8.85043857e-06,\n",
    "        5.60823901e-06,  9.36023208e-06,  1.08426793e-05,  9.70856904e-06,\n",
    "        1.07597549e-05,  8.70108140e-06,  1.13143831e-05,  1.11563854e-05,\n",
    "        8.51546882e-06,  1.02569843e-05,  8.09696896e-06,  7.81499789e-06,\n",
    "        5.13768035e-06, -4.59993374e-08,  4.08474579e-06,  7.45697446e-06,\n",
    "        1.02173200e-05,  1.31848782e-05,  1.24412072e-05,  1.06294499e-05,\n",
    "        8.18387737e-06,  9.20999379e-06,  5.79731280e-06,  6.28225893e-06,\n",
    "        8.05636529e-06,  3.28118257e-06,  4.05178206e-06,  1.48781750e-06,\n",
    "        2.36239865e-06,  6.96846549e-06,  5.94890152e-06,  6.90094383e-06,\n",
    "        6.66772373e-06,  8.79180337e-06,  1.00787222e-05,  8.21182072e-06,\n",
    "        9.54050309e-06,  9.47217219e-06,  6.85423788e-06,  3.47870997e-06,\n",
    "        1.50735034e-06, -1.29897489e-08,  5.00492279e-07,  7.31697455e-06,\n",
    "        1.20459281e-05,  8.39421384e-06,  4.80942128e-06,  6.96779862e-06,\n",
    "        9.04350300e-06,  8.63902880e-06,  8.05085312e-06,  5.23047726e-06,\n",
    "        9.40212138e-06,  1.26709890e-05,  2.46464571e-06,  2.06687514e-06,\n",
    "        7.91219543e-06,  8.54248472e-06,  1.28250819e-05,  1.30146311e-05,\n",
    "        1.26577672e-05,  1.25356189e-05,  1.20308917e-05,  1.27399534e-05,\n",
    "        6.41812075e-06,  3.71329391e-06,  5.72344285e-06,  7.31086321e-06,\n",
    "        4.90460612e-06,  5.46110008e-07,  4.75169176e-06,  7.48770785e-06,\n",
    "        6.46961520e-06,  8.18466492e-06,  9.88273609e-06,  8.29881192e-06,\n",
    "        3.68330579e-06,  5.21507530e-06,  5.15914850e-06,  4.13694913e-06,\n",
    "        9.00508772e-06,  8.38520287e-06,  8.18131481e-06,  7.45762986e-06,\n",
    "        5.47722134e-06,  8.00021183e-06,  1.36985394e-05,  1.34728713e-05,\n",
    "        7.95449460e-06,  9.37603656e-06,  8.68519487e-06,  3.27725204e-06,\n",
    "       -3.46293856e-07,  4.18421279e-06,  4.84074463e-06,  1.82295966e-06,\n",
    "        9.39693831e-06,  2.66560242e-06, -3.38952908e-06,  6.76475452e-06,\n",
    "        8.02401538e-06,  9.10555404e-06,  1.18306729e-05,  9.07660481e-06,\n",
    "        8.81631661e-06,  1.18061902e-05,  1.22891386e-05,  1.15564708e-05,\n",
    "        9.85638995e-06,  7.25809400e-06,  9.91502814e-06,  1.12601890e-05,\n",
    "        6.87020766e-06,  6.43254981e-06,  8.77863056e-06,  3.79269070e-06,\n",
    "        9.54441981e-07,  5.97656036e-06,  9.03657018e-06,  1.04406764e-05,\n",
    "        8.89165651e-06,  7.12130145e-06,  1.08148517e-05,  9.17995683e-06,\n",
    "        2.53338046e-06,  2.59390872e-06,  3.52762066e-06,  2.95798079e-06,\n",
    "        6.10272602e-06,  7.15299788e-06,  6.00094012e-06,  4.35650524e-06,\n",
    "        3.95927141e-06,  7.87242700e-06,  8.94605801e-06,  8.74916582e-06,\n",
    "        9.02126455e-06,  8.46481568e-06,  1.05053831e-05,  1.12306684e-05,\n",
    "        1.07185083e-05,  8.56493621e-06,  5.15254934e-06,  6.15025789e-06,\n",
    "        5.39449956e-06,  1.49573637e-06,  2.57778296e-06,  8.53729431e-06,\n",
    "        1.27494202e-05,  1.04519192e-05,  1.08764386e-05,  9.22440428e-06,\n",
    "        3.17626306e-06,  4.81950873e-06,  6.80044980e-06,  7.58892304e-06,\n",
    "        5.47640469e-06,  6.28833990e-06,  1.04252604e-05,  9.75347501e-06,\n",
    "        8.06658178e-06,  3.44867956e-06, -1.11781666e-07,  5.23591377e-06,\n",
    "        1.17474116e-05,  8.48096212e-06,  1.03049751e-05,  9.78867257e-06,\n",
    "        8.64342894e-06,  1.48816805e-05,  1.16546121e-05,  1.29818093e-05,\n",
    "        1.21741392e-05,  6.13102679e-06,  6.55201482e-06,  4.16977898e-06,\n",
    "        2.25496302e-06, -7.94517137e-07, -3.96233930e-06,  3.54531304e-06,\n",
    "        6.52189116e-06,  3.41351818e-06,  8.16611800e-06,  6.49338508e-06,\n",
    "        5.83221292e-06,  8.59820566e-06,  4.24010437e-06,  8.05948699e-06,\n",
    "        1.24671151e-05,  8.69828073e-06,  1.00251171e-05,  1.39298970e-05,\n",
    "        9.16204477e-06,  8.88682392e-06,  5.69316483e-06, -1.65532467e-06,\n",
    "        5.09772141e-06,  9.12539195e-06,  8.75588557e-06,  9.81002954e-06,\n",
    "        9.83618899e-06,  6.78574923e-06,  4.65359445e-06,  4.30480397e-06,\n",
    "        8.68224115e-06,  1.32328568e-05,  9.13119045e-06,  1.08664776e-05,\n",
    "        8.02916533e-06,  5.06907047e-06,  1.04732226e-05,  6.68964033e-06,\n",
    "        3.68113061e-06,  8.06247109e-06,  1.09873880e-05,  1.24884170e-05,\n",
    "        9.20877833e-06,  5.07115145e-06,  6.06748525e-06,  2.10460874e-06,\n",
    "        1.98485679e-06,  5.39551060e-06,  2.27878792e-06,  6.72265373e-06,\n",
    "        8.41412782e-06,  5.37302800e-06,  5.28814917e-06,  1.68660082e-06,\n",
    "        3.85038645e-06,  8.04446498e-06,  1.05624991e-05,  9.64907853e-06,\n",
    "        3.24725216e-06,  2.61313572e-06,  4.85616010e-06,  4.32929000e-06,\n",
    "        7.53809376e-06,  1.32712900e-05,  1.41870973e-05,  1.20728716e-05,\n",
    "        1.41605186e-05,  2.02383147e-05,  1.08140564e-05,  8.72982184e-07,\n",
    "        5.78090448e-06,  6.42953395e-06,  8.69786941e-06,  1.13326883e-05,\n",
    "        8.42884553e-06,  7.93015920e-06,  1.16535492e-05,  1.02388042e-05,\n",
    "        4.70300492e-06,  2.12316081e-06,  2.36141147e-06,  4.70019461e-06,\n",
    "        2.95072098e-06,  2.78040274e-06,  4.69212359e-06,  2.55326038e-06,\n",
    "        2.87854966e-06,  7.50340241e-06,  1.03520289e-05,  9.06278172e-06,\n",
    "        9.11880049e-06,  1.03244316e-05,  5.72648122e-06,  5.48899106e-06,\n",
    "        1.05770869e-05,  6.98102624e-06,  5.50568935e-06,  1.05843800e-05,\n",
    "        7.34496536e-06,  6.07949089e-06,  9.27119033e-06,  5.39924720e-06,\n",
    "        3.26676258e-06,  6.40792826e-06,  1.10162591e-05,  1.03031105e-05,\n",
    "        5.85229978e-06,  4.43025292e-06,  7.68592335e-06,  1.00239438e-05,\n",
    "        7.98517444e-06,  8.73987694e-06,  9.01808755e-06,  7.52329377e-06,\n",
    "        7.46546791e-06,  5.97486459e-06,  6.20661775e-06,  9.46669964e-06,\n",
    "        1.07885528e-05,  1.11859748e-05,  8.43077853e-06,  9.35328582e-07,\n",
    "       -1.31971811e-06,  2.41863875e-06,  2.43203892e-06,  4.80325494e-06,\n",
    "        9.16310734e-06,  8.32876330e-06,  7.34104718e-06,  6.92416667e-06,\n",
    "        1.13654345e-05,  1.22994833e-05,  7.90438780e-06,  1.02269611e-05,\n",
    "        1.06403933e-05,  1.15918211e-05,  1.14812588e-05,  9.48511777e-06,\n",
    "        8.93244550e-06,  2.81377860e-06,  2.61304203e-07,  3.40795385e-06,\n",
    "        8.26144727e-06,  8.34857661e-06,  7.69335486e-06,  8.74058944e-06,\n",
    "        5.68149827e-06,  4.89404538e-06,  2.61220515e-06,  5.25318518e-06,\n",
    "        1.10733070e-05,  1.21211303e-05,  8.53639071e-06,  3.00904629e-06,\n",
    "        7.82906906e-06,  9.18612987e-06,  4.66135860e-06,  7.77689848e-06,\n",
    "        7.77455834e-06,  4.06096779e-07,  1.23575983e-06,  1.07089828e-05,\n",
    "        1.18797899e-05,  8.57740128e-06,  8.16436820e-06,  5.87397004e-06,\n",
    "        6.37340665e-06,  7.53666391e-06,  6.54977088e-06,  8.94600068e-06,\n",
    "        1.10850930e-05,  1.20847020e-05,  1.12922097e-05,  1.11936557e-05,\n",
    "        1.11426698e-05,  7.95591342e-06,  5.24507945e-06,  3.12496626e-07,\n",
    "       -6.82411565e-07,  3.44658409e-06,  6.15930963e-06,  8.26744235e-06,\n",
    "        9.71822004e-06,  1.13021659e-05,  8.24938910e-06,  6.94824220e-06,\n",
    "        9.35151796e-06,  4.43215199e-06,  2.39010028e-06,  4.10474228e-06,\n",
    "        4.63965162e-06,  8.89220249e-06,  8.92575218e-06,  7.27019680e-06,\n",
    "        4.81545897e-06,  2.16601529e-06,  3.00534376e-06,  4.35582695e-06,\n",
    "        1.10204878e-05,  1.16882862e-05,  1.02532563e-05,  1.17208160e-05,\n",
    "        8.49636425e-06,  8.98838464e-06,  7.22971313e-06,  5.19544968e-06,\n",
    "        6.91814772e-06,  5.82669818e-06,  6.36739114e-06,  5.79305118e-06,\n",
    "        4.07761982e-06,  7.26725564e-06,  9.91418094e-06,  8.45349321e-06,\n",
    "        8.59998132e-06,  6.85572278e-06,  3.26698342e-06,  8.55035290e-06,\n",
    "        1.34681967e-05,  1.08719378e-05,  1.02518644e-05,  1.25837381e-05,\n",
    "        1.12682698e-05,  7.13404980e-06,  4.58185709e-06,  7.55176885e-06,\n",
    "        8.68648672e-06,  6.12137074e-06,  9.91214183e-06,  8.14104282e-06,\n",
    "        4.97242896e-06,  9.33776928e-06,  1.16656707e-05,  7.40757784e-06,\n",
    "        1.13564964e-06,  4.61770715e-06,  8.74586174e-06,  8.46073998e-06,\n",
    "        6.91978020e-06,  7.50818728e-06,  9.42239117e-06,  3.31315019e-06,\n",
    "        4.13195237e-06,  7.28175652e-06,  1.94604754e-06,  4.50268656e-06,\n",
    "        7.08967920e-06,  2.91098994e-06,  3.40781992e-06,  4.53013045e-06,\n",
    "        2.48567320e-07, -2.95745622e-06, -8.87527920e-08,  3.00476756e-06,\n",
    "        6.02925602e-06,  9.28570128e-06,  9.23052196e-06,  9.47882221e-06,\n",
    "        1.17375837e-05,  1.33034538e-05,  1.54269255e-05,  1.40723930e-05,\n",
    "        8.38005512e-06,  9.05963533e-06,  7.87558860e-06,  5.17760734e-06,\n",
    "        6.00518999e-06,  5.77088821e-06,  1.28984162e-05,  1.32702242e-05,\n",
    "        3.11694103e-06,  2.80332896e-06,  7.66569269e-06,  9.79008781e-06,\n",
    "        1.26565370e-05,  1.26646625e-05,  9.73949951e-06,  1.42236083e-05,\n",
    "        1.42503359e-05,  1.08764159e-05,  1.59393173e-05,  1.29999638e-05,\n",
    "        7.99933921e-06,  9.34201559e-06,  6.83836504e-06,  1.41235520e-06,\n",
    "        3.71634026e-06,  4.93101525e-06, -1.44585842e-06,  1.45348998e-06,\n",
    "        7.07456769e-06,  3.94696248e-06,  2.54112869e-07,  3.51277406e-06,\n",
    "        5.11121325e-06,  3.62350111e-06,  3.82708107e-06,  2.06157697e-06,\n",
    "        3.13284142e-06,  4.48762220e-06,  5.07519665e-06,  7.22444036e-06,\n",
    "        6.90456319e-06,  7.78940244e-06,  1.06339557e-05,  9.14622670e-06]"
   ]
  },
  {
   "cell_type": "code",
   "execution_count": null,
   "metadata": {},
   "outputs": [],
   "source": [
    "olddata=np.array(data)\n",
    "olddata.shape"
   ]
  },
  {
   "cell_type": "code",
   "execution_count": null,
   "metadata": {},
   "outputs": [],
   "source": [
    "olddata"
   ]
  },
  {
   "cell_type": "code",
   "execution_count": null,
   "metadata": {},
   "outputs": [],
   "source": [
    "newdata=epoch.get_data()\n",
    "data=[]\n",
    "for d in newdata:\n",
    "    mean1=[]\n",
    "    mean2=[]\n",
    "    mean3=[]\n",
    "    mean4=[]\n",
    "    mean5=[]\n",
    "    mean6=[]\n",
    "    mean7=[]\n",
    "    mean8=[]\n",
    "    mean9=[]\n",
    "    mean10=[]\n",
    "    #   print (data.shape)\n",
    "    for channel in d:\n",
    "        mean1.append(channel[0:50])\n",
    "        mean2.append(channel[51:100])\n",
    "        mean3.append(channel[101:150])\n",
    "        mean4.append(channel[151:200])\n",
    "        mean5.append(channel[201:250])\n",
    "        mean6.append(channel[251:300])\n",
    "        mean7.append(channel[301:350])\n",
    "        mean8.append(channel[351:400])\n",
    "        mean9.append(channel[401:450])\n",
    "        mean10.append(channel[451:500])\n",
    "    data.append([mean1,mean2,mean3,mean4,mean5,mean6,mean7,mean8,mean9,mean10])"
   ]
  },
  {
   "cell_type": "code",
   "execution_count": null,
   "metadata": {},
   "outputs": [],
   "source": [
    "data=np.array(data)"
   ]
  },
  {
   "cell_type": "code",
   "execution_count": null,
   "metadata": {},
   "outputs": [],
   "source": [
    "data[1,1,:]"
   ]
  },
  {
   "cell_type": "code",
   "execution_count": null,
   "metadata": {},
   "outputs": [],
   "source": [
    "index = np.arange(len(newdata[1,1,:]))\n",
    "plt.bar(index, newdata[1,1,:])\n",
    "plt.xlabel('Genre', fontsize=5)\n",
    "plt.ylabel('No of Movies', fontsize=5)\n",
    "plt.xticks(index, newdata[1,1,:], fontsize=5, rotation=30)\n",
    "plt.title('average 10 points')\n",
    "plt.show()"
   ]
  },
  {
   "cell_type": "code",
   "execution_count": null,
   "metadata": {},
   "outputs": [],
   "source": [
    "data=epoch.get_data()"
   ]
  },
  {
   "cell_type": "code",
   "execution_count": null,
   "metadata": {},
   "outputs": [],
   "source": [
    "data.shape"
   ]
  },
  {
   "cell_type": "code",
   "execution_count": null,
   "metadata": {},
   "outputs": [],
   "source": [
    "j=0\n",
    "for epoch in data:\n",
    "    for channel in epoch:\n",
    "        for i in range(len(channel)):\n",
    "            if i%50 == 0:\n",
    "                section[j]==channel[i-50:i]"
   ]
  },
  {
   "cell_type": "code",
   "execution_count": null,
   "metadata": {},
   "outputs": [],
   "source": [
    "newdata=epoch.get_data()\n",
    "dataof50=[]\n",
    "\n",
    "for channel in newdata[0]:\n",
    "    dataof50.append(channel[0:50])"
   ]
  },
  {
   "cell_type": "code",
   "execution_count": null,
   "metadata": {},
   "outputs": [],
   "source": [
    "arrayofdata50=np.array(dataof50)\n",
    "arrayofdata50.shape\n",
    "sum=[]\n",
    "for channel in arrayofdata50:\n",
    "    sum.append(np.sum(channel))\n",
    "print(np.array(sum).shape)\n",
    "sum=np.array(sum)\n",
    "mean=np.mean(sum)\n",
    "print(mean)\n",
    "var=sum-mean\n",
    "print(var.shape)\n",
    "average=np.mean(var)\n",
    "print(average)"
   ]
  },
  {
   "cell_type": "code",
   "execution_count": null,
   "metadata": {},
   "outputs": [],
   "source": [
    "dataof100=[]\n",
    "for channel in newdata[0]:\n",
    "    dataof100.append(channel[51:100])\n",
    "\n",
    "arrayofdata100=np.array(dataof100)\n",
    "arrayofdata100.shape\n",
    "sum1=[]\n",
    "for channel in arrayofdata100:\n",
    "    sum1.append(np.sum(channel))\n",
    "print(np.array(sum1).shape)\n",
    "sum1=np.array(sum1)\n",
    "mean1=np.mean(sum1)\n",
    "print(mean1)\n",
    "var1=sum1-mean1\n",
    "print(var1.shape)\n",
    "average1=np.mean(var1)\n",
    "print(average1)"
   ]
  },
  {
   "cell_type": "code",
   "execution_count": null,
   "metadata": {},
   "outputs": [],
   "source": [
    "def getave(data,i,j):\n",
    "    dataof100=[]\n",
    "    for channel in data[j]:\n",
    "        dataof100.append(channel[i:i+49])\n",
    "\n",
    "    arrayofdata100=np.array(dataof100)\n",
    "    arrayofdata100.shape\n",
    "    sum1=[]\n",
    "    for channel in arrayofdata100:\n",
    "        sum1.append(np.sum(channel))\n",
    "    print(np.array(sum1).shape)\n",
    "    sum1=np.array(sum1)\n",
    "    mean1=np.mean(sum1)\n",
    "    print(mean1)\n",
    "    var1=sum1-mean1\n",
    "    print(var1.shape)\n",
    "    average1=np.mean(var1)\n",
    "    print(average1)"
   ]
  },
  {
   "cell_type": "code",
   "execution_count": null,
   "metadata": {},
   "outputs": [],
   "source": [
    "getave(newdata,101)"
   ]
  },
  {
   "cell_type": "code",
   "execution_count": null,
   "metadata": {},
   "outputs": [],
   "source": [
    "getave(newdata,151)"
   ]
  },
  {
   "cell_type": "code",
   "execution_count": null,
   "metadata": {},
   "outputs": [],
   "source": [
    "getave(newdata,201)"
   ]
  },
  {
   "cell_type": "code",
   "execution_count": null,
   "metadata": {},
   "outputs": [],
   "source": [
    "def getave(data,i,j):\n",
    "    dataof100=[]\n",
    "    for channel in data[j]:\n",
    "        dataof100.append(channel[i:i+49])\n",
    "\n",
    "    arrayofdata100=np.array(dataof100)\n",
    "    print(\"shape of array\",arrayofdata100.shape)\n",
    "    sum1=[]\n",
    "    for channel in arrayofdata100:\n",
    "        sum1.append(np.sum(channel))\n",
    "    print(\"shape of array sum\",np.array(sum1).shape)\n",
    "    sum1=np.array(sum1)\n",
    "    print(\"sum\", np.sum(sum1))\n",
    "    mean1=np.mean(sum1)\n",
    "    mean2=np.sum(sum1)/129\n",
    "    var1=sum1-mean1\n",
    "    print(var1)\n",
    "    average1=np.mean(var1)\n",
    "    print(average1)"
   ]
  },
  {
   "cell_type": "code",
   "execution_count": null,
   "metadata": {},
   "outputs": [],
   "source": [
    "getave(newdata,101,2)"
   ]
  },
  {
   "cell_type": "code",
   "execution_count": null,
   "metadata": {},
   "outputs": [],
   "source": [
    "getave(newdata,101,2)"
   ]
  },
  {
   "cell_type": "code",
   "execution_count": null,
   "metadata": {},
   "outputs": [],
   "source": [
    "328.99/129"
   ]
  },
  {
   "cell_type": "code",
   "execution_count": null,
   "metadata": {},
   "outputs": [],
   "source": [
    "epoch.ch_names"
   ]
  },
  {
   "cell_type": "code",
   "execution_count": null,
   "metadata": {},
   "outputs": [],
   "source": [
    "epoch.drop_channels(['STI 014'])"
   ]
  },
  {
   "cell_type": "code",
   "execution_count": null,
   "metadata": {},
   "outputs": [],
   "source": [
    "epoch.ch_names"
   ]
  },
  {
   "cell_type": "code",
   "execution_count": null,
   "metadata": {},
   "outputs": [],
   "source": [
    "epoch.get_data().shape"
   ]
  },
  {
   "cell_type": "code",
   "execution_count": null,
   "metadata": {},
   "outputs": [],
   "source": [
    "newdata=epoch.get_data()"
   ]
  },
  {
   "cell_type": "code",
   "execution_count": null,
   "metadata": {},
   "outputs": [],
   "source": [
    "epoch.drop_channels(['Lm','Rm','VEOG'])"
   ]
  },
  {
   "cell_type": "code",
   "execution_count": null,
   "metadata": {},
   "outputs": [],
   "source": [
    "epoch.get_data().shape"
   ]
  },
  {
   "cell_type": "code",
   "execution_count": null,
   "metadata": {},
   "outputs": [],
   "source": [
    "newdata=epoch.get_data()"
   ]
  },
  {
   "cell_type": "code",
   "execution_count": null,
   "metadata": {},
   "outputs": [],
   "source": [
    "def getave(data,i,j):\n",
    "    dataof100=[]\n",
    "    for channel in data[j]:\n",
    "        dataof100.append(channel[i:i+50])\n",
    "\n",
    "    arrayofdata100=np.array(dataof100)\n",
    "    print(arrayofdata100.shape)\n",
    "    sum1=[]\n",
    "    for channel in arrayofdata100:\n",
    "        sum1.append(np.sum(channel))\n",
    "    sum1=np.array(sum1)\n",
    "    mean1=np.mean(sum1)\n",
    "    mean2=np.sum(sum1)/129\n",
    "    var1=sum1-mean1\n",
    "    print(\"variance\",var1)\n",
    "    average1=np.mean(var1)\n",
    "    print(\"average varaince for segment \" ,i ,\"to \", i+49 , \"is: \" ,average1)\n",
    "#     df=pd.DataFrame(var1)\n",
    "#     print(df)\n",
    "#     df.columns=['variance']\n",
    "#     index = np.arange(125)\n",
    "#     df.plot.bar(x=index,y='variance')\n",
    "    \n",
    "    index = np.arange(125)\n",
    "    plt.bar(index, var1)\n",
    "    plt.xlabel('Genre', fontsize=5)\n",
    "    plt.ylabel('No of Movies', fontsize=5)\n",
    "    plt.xticks(index, var1, fontsize=5, rotation=30)\n",
    "    plt.title('average 10 points')\n",
    "    plt.show()"
   ]
  },
  {
   "cell_type": "code",
   "execution_count": null,
   "metadata": {},
   "outputs": [],
   "source": [
    "getave(newdata,151,3)"
   ]
  },
  {
   "cell_type": "code",
   "execution_count": null,
   "metadata": {},
   "outputs": [],
   "source": [
    "getave(newdata,0,1)\n",
    "getave(newdata,51,1)\n",
    "getave(newdata,101,1)\n",
    "getave(newdata,151,1)\n",
    "getave(newdata,201,1)\n",
    "getave(newdata,251,1)\n",
    "getave(newdata,301,1)\n",
    "getave(newdata,351,1)\n",
    "getave(newdata,401,1)\n",
    "getave(newdata,451,1)"
   ]
  },
  {
   "cell_type": "code",
   "execution_count": null,
   "metadata": {},
   "outputs": [],
   "source": [
    "getave(newdata,0,4)\n",
    "getave(newdata,51,4)\n",
    "getave(newdata,101,4)\n",
    "getave(newdata,151,4)\n",
    "getave(newdata,201,4)\n",
    "getave(newdata,251,4)\n",
    "getave(newdata,301,4)\n",
    "getave(newdata,351,4)\n",
    "getave(newdata,401,4)\n",
    "getave(newdata,451,4)"
   ]
  },
  {
   "cell_type": "code",
   "execution_count": null,
   "metadata": {},
   "outputs": [],
   "source": [
    "getave(newdata,51,0)\n",
    "index = np.arange(129)\n",
    "plt.bar(index, var1)\n",
    "plt.xlabel('Genre', fontsize=5)\n",
    "plt.ylabel('No of Movies', fontsize=5)\n",
    "plt.xticks(index, var1, fontsize=5, rotation=30)\n",
    "plt.title('average 10 points')\n",
    "plt.show()"
   ]
  },
  {
   "cell_type": "code",
   "execution_count": null,
   "metadata": {},
   "outputs": [],
   "source": []
  }
 ],
 "metadata": {
  "kernelspec": {
   "display_name": "Python 3",
   "language": "python",
   "name": "python3"
  },
  "language_info": {
   "codemirror_mode": {
    "name": "ipython",
    "version": 3
   },
   "file_extension": ".py",
   "mimetype": "text/x-python",
   "name": "python",
   "nbconvert_exporter": "python",
   "pygments_lexer": "ipython3",
   "version": "3.6.5"
  }
 },
 "nbformat": 4,
 "nbformat_minor": 2
}
