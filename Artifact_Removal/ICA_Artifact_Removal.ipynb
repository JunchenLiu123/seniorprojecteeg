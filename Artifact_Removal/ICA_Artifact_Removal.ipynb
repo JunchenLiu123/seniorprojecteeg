{
 "cells": [
  {
   "cell_type": "code",
   "execution_count": 1,
   "metadata": {},
   "outputs": [],
   "source": [
    "import os\n",
    "\n",
    "import mne\n",
    "from mne.preprocessing import ICA\n",
    "import numpy\n",
    "import matplotlib.pyplot as plt\n",
    "# %matplotlib inline"
   ]
  },
  {
   "cell_type": "code",
   "execution_count": 2,
   "metadata": {},
   "outputs": [],
   "source": [
    "path = 'D:\\EEGLAB\\SA20140304'\n",
    "eeglab_files = os.listdir(path)"
   ]
  },
  {
   "cell_type": "code",
   "execution_count": null,
   "metadata": {},
   "outputs": [],
   "source": []
  },
  {
   "cell_type": "code",
   "execution_count": 3,
   "metadata": {},
   "outputs": [
    {
     "name": "stdout",
     "output_type": "stream",
     "text": [
      "Reading D:\\EEGLAB\\SA20140304\\20140304_1418.fdt\n",
      "Reading 0 ... 1273369  =      0.000 ...  2487.049 secs...\n"
     ]
    }
   ],
   "source": [
    "# read file\n",
    "eeglab_file = os.path.join(path, eeglab_files[1])\n",
    "raw = mne.io.read_raw_eeglab(eeglab_file, preload=True)"
   ]
  },
  {
   "cell_type": "code",
   "execution_count": 4,
   "metadata": {},
   "outputs": [
    {
     "name": "stdout",
     "output_type": "stream",
     "text": [
      "Setting up high-pass filter at 1 Hz\n",
      "l_trans_bandwidth chosen to be 1.0 Hz\n",
      "Filter length of 1691 samples (3.303 sec) selected\n"
     ]
    }
   ],
   "source": [
    "# clean data\n",
    "raw.filter(1, None, n_jobs= 1, fir_design= 'firwin')\n",
    "picks_eeg = mne.pick_types(raw.info, eeg = True, meg = False, eog = False, exclude= 'bads')\n",
    "method = 'fastica'\n",
    "n_components= 25\n",
    "decim = 3\n",
    "random_state = 23"
   ]
  },
  {
   "cell_type": "code",
   "execution_count": 5,
   "metadata": {},
   "outputs": [
    {
     "name": "stdout",
     "output_type": "stream",
     "text": [
      "<ICA  |  no decomposition, fit (fastica):  samples, no dimension reduction>\n"
     ]
    }
   ],
   "source": [
    "ica = ICA(n_components= n_components, method = method, random_state= random_state)\n",
    "print(ica)"
   ]
  },
  {
   "cell_type": "code",
   "execution_count": 6,
   "metadata": {},
   "outputs": [
    {
     "name": "stdout",
     "output_type": "stream",
     "text": [
      "Fitting ICA to data using 128 channels (please be patient, this may take a while)\n",
      "Inferring max_pca_components from picks\n",
      "Selection by number: 25 components\n",
      "Fitting ICA took 42.5s.\n"
     ]
    },
    {
     "data": {
      "text/plain": [
       "<ICA  |  raw data decomposition, fit (fastica): 424422 samples, 25 components, channels used: \"eeg\">"
      ]
     },
     "execution_count": 6,
     "metadata": {},
     "output_type": "execute_result"
    }
   ],
   "source": [
    "reject = dict(mag = 5e-12, grad = 4000e-13)\n",
    "ica.fit(raw, decim = decim, reject = reject)"
   ]
  },
  {
   "cell_type": "code",
   "execution_count": 12,
   "metadata": {},
   "outputs": [
    {
     "name": "stdout",
     "output_type": "stream",
     "text": [
      "    Searching for artifacts...\n",
      "    found 1 artifact by skewness\n",
      "    found 1 artifact by kurtosis\n",
      "    found 1 artifact by variance\n",
      "Artifact indices found:\n",
      "    1, 1, 5\n",
      "    Removing duplicate indices...\n",
      "Ready.\n"
     ]
    },
    {
     "data": {
      "text/plain": [
       "<ICA  |  raw data decomposition, fit (fastica): 424422 samples, 25 components, channels used: \"eeg\", 2 sources marked for exclusion>"
      ]
     },
     "execution_count": 12,
     "metadata": {},
     "output_type": "execute_result"
    }
   ],
   "source": [
    "ica.detect_artifacts(raw) # can you spot some potential bad guys?"
   ]
  },
  {
   "cell_type": "code",
   "execution_count": 16,
   "metadata": {
    "collapsed": true
   },
   "outputs": [
    {
     "name": "stdout",
     "output_type": "stream",
     "text": [
      "    using multitaper spectrum estimation with 7 DPSS windows\n"
     ]
    },
    {
     "name": "stderr",
     "output_type": "stream",
     "text": [
      "C:\\Users\\Esimk_000\\Anaconda3\\envs\\mne\\lib\\site-packages\\mkl_fft\\_numpy_fft.py:331: FutureWarning: Using a non-tuple sequence for multidimensional indexing is deprecated; use `arr[tuple(seq)]` instead of `arr[seq]`. In the future this will be interpreted as an array index, `arr[np.array(seq)]`, which will result either in an error or a different result.\n",
      "  output = mkl_fft.rfft_numpy(a, n=n, axis=axis)\n",
      "WARNING:root:Did not find any electrode locations the info, will attempt to use digitization points instead. However, if digitization points do not correspond to the EEG electrodes, this will lead to bad results. Please verify that the sensor locations in the plot are accurate.\n"
     ]
    },
    {
     "name": "stdout",
     "output_type": "stream",
     "text": [
      "Fitted sphere radius:         0.0 mm\n",
      "Origin head coordinates:      0.0 0.0 0.0 mm\n",
      "Origin device coordinates:    0.0 0.0 0.0 mm\n"
     ]
    },
    {
     "ename": "TypeError",
     "evalue": "Cannot cast ufunc subtract output from dtype('float64') to dtype('int32') with casting rule 'same_kind'",
     "output_type": "error",
     "traceback": [
      "\u001b[1;31m---------------------------------------------------------------------------\u001b[0m",
      "\u001b[1;31mTypeError\u001b[0m                                 Traceback (most recent call last)",
      "\u001b[1;32m<ipython-input-16-f93cccb0fe87>\u001b[0m in \u001b[0;36m<module>\u001b[1;34m()\u001b[0m\n\u001b[1;32m----> 1\u001b[1;33m \u001b[0mica\u001b[0m\u001b[1;33m.\u001b[0m\u001b[0mplot_properties\u001b[0m\u001b[1;33m(\u001b[0m\u001b[0mraw\u001b[0m\u001b[1;33m,\u001b[0m \u001b[0mpicks\u001b[0m\u001b[1;33m=\u001b[0m\u001b[1;36m0\u001b[0m\u001b[1;33m)\u001b[0m\u001b[1;33m\u001b[0m\u001b[0m\n\u001b[0m",
      "\u001b[1;32m~\\Anaconda3\\envs\\mne\\lib\\site-packages\\mne\\preprocessing\\ica.py\u001b[0m in \u001b[0;36mplot_properties\u001b[1;34m(self, inst, picks, axes, dB, plot_std, topomap_args, image_args, psd_args, figsize, show)\u001b[0m\n\u001b[0;32m   1464\u001b[0m                                    \u001b[0mtopomap_args\u001b[0m\u001b[1;33m=\u001b[0m\u001b[0mtopomap_args\u001b[0m\u001b[1;33m,\u001b[0m\u001b[1;33m\u001b[0m\u001b[0m\n\u001b[0;32m   1465\u001b[0m                                    \u001b[0mimage_args\u001b[0m\u001b[1;33m=\u001b[0m\u001b[0mimage_args\u001b[0m\u001b[1;33m,\u001b[0m \u001b[0mpsd_args\u001b[0m\u001b[1;33m=\u001b[0m\u001b[0mpsd_args\u001b[0m\u001b[1;33m,\u001b[0m\u001b[1;33m\u001b[0m\u001b[0m\n\u001b[1;32m-> 1466\u001b[1;33m                                    figsize=figsize, show=show)\n\u001b[0m\u001b[0;32m   1467\u001b[0m \u001b[1;33m\u001b[0m\u001b[0m\n\u001b[0;32m   1468\u001b[0m     \u001b[1;33m@\u001b[0m\u001b[0mcopy_function_doc_to_method_doc\u001b[0m\u001b[1;33m(\u001b[0m\u001b[0mplot_ica_sources\u001b[0m\u001b[1;33m)\u001b[0m\u001b[1;33m\u001b[0m\u001b[0m\n",
      "\u001b[1;32m~\\Anaconda3\\envs\\mne\\lib\\site-packages\\mne\\viz\\ica.py\u001b[0m in \u001b[0;36mplot_ica_properties\u001b[1;34m(ica, inst, picks, axes, dB, plot_std, topomap_args, image_args, psd_args, figsize, show)\u001b[0m\n\u001b[0;32m    278\u001b[0m         \u001b[1;31m# --------\u001b[0m\u001b[1;33m\u001b[0m\u001b[1;33m\u001b[0m\u001b[0m\n\u001b[0;32m    279\u001b[0m         \u001b[1;31m# component topomap\u001b[0m\u001b[1;33m\u001b[0m\u001b[1;33m\u001b[0m\u001b[0m\n\u001b[1;32m--> 280\u001b[1;33m         \u001b[0m_plot_ica_topomap\u001b[0m\u001b[1;33m(\u001b[0m\u001b[0mica\u001b[0m\u001b[1;33m,\u001b[0m \u001b[0mpick\u001b[0m\u001b[1;33m,\u001b[0m \u001b[0mshow\u001b[0m\u001b[1;33m=\u001b[0m\u001b[1;32mFalse\u001b[0m\u001b[1;33m,\u001b[0m \u001b[0maxes\u001b[0m\u001b[1;33m=\u001b[0m\u001b[0maxes\u001b[0m\u001b[1;33m[\u001b[0m\u001b[1;36m0\u001b[0m\u001b[1;33m]\u001b[0m\u001b[1;33m,\u001b[0m \u001b[1;33m**\u001b[0m\u001b[0mtopomap_args\u001b[0m\u001b[1;33m)\u001b[0m\u001b[1;33m\u001b[0m\u001b[0m\n\u001b[0m\u001b[0;32m    281\u001b[0m \u001b[1;33m\u001b[0m\u001b[0m\n\u001b[0;32m    282\u001b[0m         \u001b[1;31m# image and erp\u001b[0m\u001b[1;33m\u001b[0m\u001b[1;33m\u001b[0m\u001b[0m\n",
      "\u001b[1;32m~\\Anaconda3\\envs\\mne\\lib\\site-packages\\mne\\viz\\topomap.py\u001b[0m in \u001b[0;36m_plot_ica_topomap\u001b[1;34m(ica, idx, ch_type, res, layout, vmin, vmax, cmap, colorbar, title, show, outlines, contours, image_interp, head_pos, axes, sensors)\u001b[0m\n\u001b[0;32m    813\u001b[0m     \u001b[0mdata\u001b[0m \u001b[1;33m=\u001b[0m \u001b[0mica\u001b[0m\u001b[1;33m.\u001b[0m\u001b[0mget_components\u001b[0m\u001b[1;33m(\u001b[0m\u001b[1;33m)\u001b[0m\u001b[1;33m[\u001b[0m\u001b[1;33m:\u001b[0m\u001b[1;33m,\u001b[0m \u001b[0midx\u001b[0m\u001b[1;33m]\u001b[0m\u001b[1;33m\u001b[0m\u001b[0m\n\u001b[0;32m    814\u001b[0m     data_picks, pos, merge_grads, names, _ = _prepare_topo_plot(\n\u001b[1;32m--> 815\u001b[1;33m         ica, ch_type, layout)\n\u001b[0m\u001b[0;32m    816\u001b[0m     \u001b[0mpos\u001b[0m\u001b[1;33m,\u001b[0m \u001b[0moutlines\u001b[0m \u001b[1;33m=\u001b[0m \u001b[0m_check_outlines\u001b[0m\u001b[1;33m(\u001b[0m\u001b[0mpos\u001b[0m\u001b[1;33m,\u001b[0m \u001b[0moutlines\u001b[0m\u001b[1;33m,\u001b[0m \u001b[0mhead_pos\u001b[0m\u001b[1;33m)\u001b[0m\u001b[1;33m\u001b[0m\u001b[0m\n\u001b[0;32m    817\u001b[0m     \u001b[1;32massert\u001b[0m \u001b[0moutlines\u001b[0m \u001b[1;32mis\u001b[0m \u001b[1;32mnot\u001b[0m \u001b[1;32mNone\u001b[0m\u001b[1;33m\u001b[0m\u001b[0m\n",
      "\u001b[1;32m~\\Anaconda3\\envs\\mne\\lib\\site-packages\\mne\\viz\\topomap.py\u001b[0m in \u001b[0;36m_prepare_topo_plot\u001b[1;34m(inst, ch_type, layout)\u001b[0m\n\u001b[0;32m     72\u001b[0m \u001b[1;33m\u001b[0m\u001b[0m\n\u001b[0;32m     73\u001b[0m         \u001b[1;32mif\u001b[0m \u001b[0mlayout\u001b[0m \u001b[1;32mis\u001b[0m \u001b[1;32mNone\u001b[0m\u001b[1;33m:\u001b[0m\u001b[1;33m\u001b[0m\u001b[0m\n\u001b[1;32m---> 74\u001b[1;33m             \u001b[0mpos\u001b[0m \u001b[1;33m=\u001b[0m \u001b[0m_find_topomap_coords\u001b[0m\u001b[1;33m(\u001b[0m\u001b[0minfo\u001b[0m\u001b[1;33m,\u001b[0m \u001b[0mpicks\u001b[0m\u001b[1;33m)\u001b[0m\u001b[1;33m\u001b[0m\u001b[0m\n\u001b[0m\u001b[0;32m     75\u001b[0m         \u001b[1;32melse\u001b[0m\u001b[1;33m:\u001b[0m\u001b[1;33m\u001b[0m\u001b[0m\n\u001b[0;32m     76\u001b[0m             \u001b[0mnames\u001b[0m \u001b[1;33m=\u001b[0m \u001b[1;33m[\u001b[0m\u001b[0mn\u001b[0m\u001b[1;33m.\u001b[0m\u001b[0mupper\u001b[0m\u001b[1;33m(\u001b[0m\u001b[1;33m)\u001b[0m \u001b[1;32mfor\u001b[0m \u001b[0mn\u001b[0m \u001b[1;32min\u001b[0m \u001b[0mlayout\u001b[0m\u001b[1;33m.\u001b[0m\u001b[0mnames\u001b[0m\u001b[1;33m]\u001b[0m\u001b[1;33m\u001b[0m\u001b[0m\n",
      "\u001b[1;32m~\\Anaconda3\\envs\\mne\\lib\\site-packages\\mne\\channels\\layout.py\u001b[0m in \u001b[0;36m_find_topomap_coords\u001b[1;34m(info, picks, layout)\u001b[0m\n\u001b[0;32m    613\u001b[0m         \u001b[0mpos\u001b[0m \u001b[1;33m=\u001b[0m \u001b[0mnp\u001b[0m\u001b[1;33m.\u001b[0m\u001b[0masarray\u001b[0m\u001b[1;33m(\u001b[0m\u001b[0mpos\u001b[0m\u001b[1;33m)\u001b[0m\u001b[1;33m\u001b[0m\u001b[0m\n\u001b[0;32m    614\u001b[0m     \u001b[1;32melse\u001b[0m\u001b[1;33m:\u001b[0m\u001b[1;33m\u001b[0m\u001b[0m\n\u001b[1;32m--> 615\u001b[1;33m         \u001b[0mpos\u001b[0m \u001b[1;33m=\u001b[0m \u001b[0m_auto_topomap_coords\u001b[0m\u001b[1;33m(\u001b[0m\u001b[0minfo\u001b[0m\u001b[1;33m,\u001b[0m \u001b[0mpicks\u001b[0m\u001b[1;33m)\u001b[0m\u001b[1;33m\u001b[0m\u001b[0m\n\u001b[0m\u001b[0;32m    616\u001b[0m \u001b[1;33m\u001b[0m\u001b[0m\n\u001b[0;32m    617\u001b[0m     \u001b[1;32mreturn\u001b[0m \u001b[0mpos\u001b[0m\u001b[1;33m\u001b[0m\u001b[0m\n",
      "\u001b[1;32m~\\Anaconda3\\envs\\mne\\lib\\site-packages\\mne\\channels\\layout.py\u001b[0m in \u001b[0;36m_auto_topomap_coords\u001b[1;34m(info, picks, ignore_overlap, to_sphere)\u001b[0m\n\u001b[0;32m    692\u001b[0m                      FIFF.FIFFV_POINT_EXTRA)\n\u001b[0;32m    693\u001b[0m         \u001b[0m_\u001b[0m\u001b[1;33m,\u001b[0m \u001b[0morigin_head\u001b[0m\u001b[1;33m,\u001b[0m \u001b[0m_\u001b[0m \u001b[1;33m=\u001b[0m \u001b[0mfit_sphere_to_headshape\u001b[0m\u001b[1;33m(\u001b[0m\u001b[0minfo\u001b[0m\u001b[1;33m,\u001b[0m \u001b[0mdig_kinds\u001b[0m\u001b[1;33m,\u001b[0m \u001b[0munits\u001b[0m\u001b[1;33m=\u001b[0m\u001b[1;34m'm'\u001b[0m\u001b[1;33m)\u001b[0m\u001b[1;33m\u001b[0m\u001b[0m\n\u001b[1;32m--> 694\u001b[1;33m         \u001b[0mlocs3d\u001b[0m \u001b[1;33m-=\u001b[0m \u001b[0morigin_head\u001b[0m\u001b[1;33m\u001b[0m\u001b[0m\n\u001b[0m\u001b[0;32m    695\u001b[0m \u001b[1;33m\u001b[0m\u001b[0m\n\u001b[0;32m    696\u001b[0m         \u001b[1;31m# Match the digitization points with the requested\u001b[0m\u001b[1;33m\u001b[0m\u001b[1;33m\u001b[0m\u001b[0m\n",
      "\u001b[1;31mTypeError\u001b[0m: Cannot cast ufunc subtract output from dtype('float64') to dtype('int32') with casting rule 'same_kind'"
     ]
    },
    {
     "data": {
      "image/png": "[encoded data removed]",
      "text/plain": [
       "<Figure size 504x432 with 5 Axes>"
      ]
     },
     "metadata": {},
     "output_type": "display_data"
    }
   ],
   "source": [
    "ica.plot_properties(raw, picks=0)"
   ]
  },
  {
   "cell_type": "markdown",
   "metadata": {},
   "source": [
    "* Can't plot results due to type mismatching and missing electrode locations."
   ]
  },
  {
   "cell_type": "code",
   "execution_count": null,
   "metadata": {},
   "outputs": [],
   "source": []
  }
 ],
 "metadata": {
  "kernelspec": {
   "display_name": "Python 3",
   "language": "python",
   "name": "python3"
  },
  "language_info": {
   "codemirror_mode": {
    "name": "ipython",
    "version": 3
   },
   "file_extension": ".py",
   "mimetype": "text/x-python",
   "name": "python",
   "nbconvert_exporter": "python",
   "pygments_lexer": "ipython3",
   "version": "3.6.6"
  }
 },
 "nbformat": 4,
 "nbformat_minor": 2
}
