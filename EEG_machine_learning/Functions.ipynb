{
 "cells": [
  {
   "cell_type": "code",
   "execution_count": null,
   "metadata": {},
   "outputs": [],
   "source": [
    "def filter_events(epochs, filter_for):\n",
    "    \"\"\"\n",
    "    Description: Fitler for n_events in the epoch object.\n",
    "    \n",
    "    epochs: mne epoch object.\n",
    "    \n",
    "    filter_for: a list of events to filter for. ex: [4,5,10]\n",
    "\n",
    "    \"\"\"\n",
    "    \n",
    "    if len(filter_for) >= len(epochs.event_id):\n",
    "        return epochs\n",
    "    \n",
    "    else:\n",
    "        temp_epochs = []\n",
    "        for i in range(len(filter_for)):\n",
    "            temp_epochs.append(epochs[epochs.events[:,-1] == filter_for[i]])\n",
    "        \n",
    "        return mne.concatenate_epochs(temp_epochs)"
   ]
  },
  {
   "cell_type": "code",
   "execution_count": null,
   "metadata": {},
   "outputs": [],
   "source": [
    "def get_samples_targets(epochs):\n",
    "    \"\"\"\n",
    "    Description: Read an epochs object and return X and y values for samples and targets respectively.\n",
    "    \"\"\"\n",
    "    X = epochs.get_data();\n",
    "    y = epochs.events[:,-1]\n",
    "    return X, y"
   ]
  },
  {
   "cell_type": "code",
   "execution_count": 7,
   "metadata": {},
   "outputs": [],
   "source": [
    "#Create function to run over multiple files, store results in an array and plot/display them.\n",
    "\n",
    "def pipeline(classifier, hype_kwargs):\n",
    "    \"\"\"\n",
    "    Description: create classication pipeline\n",
    "    \n",
    "    classifier: A string with name that corressponds to a classifier. \n",
    "                Below is the dictionary:\n",
    "                {'LogisticRegression': LogisticRegression(),\n",
    "                 'KNN': KNeighborsClassifier(),\n",
    "                 'LDA': LinearDiscriminatoryAnalysis(),\n",
    "                 'GaussianNB', GaussianNB()}\n",
    "    hype_kwargs: Dictionaray of arguments/hyperparamters for classifier.\n",
    "    \"\"\"\n",
    "    classification = {'LogisticRegression': LogisticRegression(),\n",
    "                      'KNN': KNeighborsClassifier(),\n",
    "                      'LDA': LinearDiscriminantAnalysis(),\n",
    "                      'GaussianNB': GaussianNB()}\n",
    "    classifier = classification[classifier]\n",
    "    print(type(classifier))\n",
    "    clf = make_pipeline(\n",
    "                        Vectorizer(),\n",
    "                        StandardScaler(),\n",
    "                        classifier)\n",
    "    \n",
    "#     X_train, X_test, y_train, y_test = train_test_split(X,y, test_size = 0.3, random_state = 42)\n",
    "    \n",
    "#     clf.fit(X_train, y_train)\n",
    "    \n",
    "#     score = clf.score(X_test, y_test)\n",
    "    \n",
    "    return clf"
   ]
  },
  {
   "cell_type": "code",
   "execution_count": null,
   "metadata": {},
   "outputs": [],
   "source": []
  },
  {
   "cell_type": "code",
   "execution_count": 3,
   "metadata": {},
   "outputs": [],
   "source": [
    "def read_epoch_files(path):\n",
    "    \"\"\"\n",
    "    read_epoch_files:\n",
    "    \n",
    "    path: a file path\n",
    "    \n",
    "    return: \n",
    "    \"\"\"\n",
    "    \n",
    "    subject_runs = []\n",
    "    for file in os.listdir(path):\n",
    "        if file.endswith(\".fif\"):\n",
    "            subject_runs.append(os.path.join(path, file))\n",
    "        \n",
    "    all_files = []\n",
    "    \n",
    "    for f in subject_runs:\n",
    "        all_files.append(mne.read_epochs(f, preload=True));\n",
    "    \n",
    "    return all_files\n",
    "            \n",
    "            "
   ]
  },
  {
   "cell_type": "code",
   "execution_count": 4,
   "metadata": {},
   "outputs": [],
   "source": [
    "def filter_numb_epochs(list_of_epochs, n_epochs):\n",
    "    \"\"\"\n",
    "    filter_numb_epochs: will filter out files that have less than or equal to n_epochs number of epochs.\n",
    "    \n",
    "    list_of_epochs: A list of epoch files.\n",
    "    \n",
    "    n_epochs: an integer value for number of epochs wanted to be filtered.\n",
    "    \n",
    "    return: list f epochs\n",
    "    \"\"\"\n",
    "    temp_list_of_epochs = []\n",
    "    for epochs in list_of_epochs:\n",
    "        if len(epochs.events[:,-1]) >= n_epochs:\n",
    "            temp_list_of_epochs.append(epochs)\n",
    "            \n",
    "    return temp_list_of_epochs"
   ]
  },
  {
   "cell_type": "code",
   "execution_count": 1,
   "metadata": {},
   "outputs": [],
   "source": [
    "def get_subject_runs(path):\n",
    "    \"\"\"Returns a list of file names that end with .fif\n",
    "       \n",
    "       path: the path of folder\"\"\"\n",
    "    subject_runs = []\n",
    "    for file in os.listdir(path):\n",
    "        if file.endswith(\".fif\"):\n",
    "            subject_runs.append(os.path.join(path, file))\n",
    "    return subject_runs"
   ]
  },
  {
   "cell_type": "code",
   "execution_count": null,
   "metadata": {},
   "outputs": [],
   "source": [
    "def get_filtered_epoch_files(subject_runs):\n",
    "    \"\"\"\n",
    "    returns a list of file names with epochs greather than 200\n",
    "    subject_runs: list of files that end with .fif \n",
    "    \"\"\"\n",
    "    filtered_epoch_files = []\n",
    "    n_epochs = 200\n",
    "    for f in subject_runs:\n",
    "        epochs = mne.read_epochs(f, preload=True)\n",
    "        if len(epochs.events[:,-1]) >=200:\n",
    "            filtered_epoch_files.append(f)\n",
    "    return filtered_epoch_files"
   ]
  }
 ],
 "metadata": {
  "kernelspec": {
   "display_name": "Python 2",
   "language": "python",
   "name": "python2"
  },
  "language_info": {
   "codemirror_mode": {
    "name": "ipython",
    "version": 2
   },
   "file_extension": ".py",
   "mimetype": "text/x-python",
   "name": "python",
   "nbconvert_exporter": "python",
   "pygments_lexer": "ipython2",
   "version": "2.7.14"
  }
 },
 "nbformat": 4,
 "nbformat_minor": 2
}
