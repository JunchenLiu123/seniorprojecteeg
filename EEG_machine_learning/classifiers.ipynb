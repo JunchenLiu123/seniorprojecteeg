{
 "cells": [
  {
   "cell_type": "markdown",
   "metadata": {},
   "source": [
    "# Classifying Events with:\n",
    "* Logistic Regression\n",
    "* Random Forests\n",
    "* SVM\n",
    "* Naive Bayes\n",
    "\n"
   ]
  },
  {
   "cell_type": "code",
   "execution_count": 4,
   "metadata": {},
   "outputs": [],
   "source": [
    "#Use mne XDawn for preprocessing\n",
    "\n",
    "import numpy as np\n",
    "import matplotlib.pyplot as plt\n",
    "import matplotlib\n",
    "\n",
    "from sklearn.model_selection import StratifiedKFold\n",
    "from sklearn.pipeline import make_pipeline\n",
    "from sklearn.linear_model import LogisticRegression\n",
    "from sklearn.svm import SVC\n",
    "from sklearn.ensemble import RandomForestClassifier\n",
    "from sklearn.metrics import classification_report, confusion_matrix\n",
    "from sklearn.preprocessing import MinMaxScaler\n",
    "\n",
    "import mne\n",
    "from mne import io, pick_types, read_events, Epochs\n",
    "# from mne.datasets import sample\n",
    "from mne.preprocessing import Xdawn\n",
    "from mne.decoding import Vectorizer\n",
    "from mne.viz import tight_layout\n",
    "\n",
    "import os\n",
    "import os.path as op\n",
    "\n",
    "matplotlib.rcParams['figure.figsize'] = (15.0, 10.0)\n",
    "matplotlib.rcParams.update({'font.size': 15})\n",
    "\n",
    "#data path for each run of each subject.\n",
    "drive_data_path = 'E:\\eeg_data'\n",
    "\n",
    "#data path on my external hdd for folder containing all tests of each subject in one file\n",
    "drive_all_data_path = 'E:\\eeg_data\\ica_140_500_0.1'"
   ]
  },
  {
   "cell_type": "code",
   "execution_count": 11,
   "metadata": {
    "scrolled": false
   },
   "outputs": [
    {
     "name": "stdout",
     "output_type": "stream",
     "text": [
      "('subject number used for classification:', array([ 1,  4, 13,  3, 17]))\n",
      "Reading E:\\eeg_data\\ica_140_500_0.1\\subject1_all_runs-epo.fif ...\n",
      "Isotrak not found\n",
      "    Read a total of 1 projection items:\n",
      "        Average EEG reference (1 x 61) active\n",
      "    Found the data of interest:\n",
      "        t =       0.00 ...    1400.00 ms\n",
      "        0 CTF compensation matrices available\n",
      "1121 matching events found\n",
      "Created an SSP operator (subspace dimension = 1)\n",
      "1121 matching events found\n",
      "Created an SSP operator (subspace dimension = 1)\n",
      "1 projection items activated\n",
      "Reading E:\\eeg_data\\ica_140_500_0.1\\subject4_all_runs-epo.fif ...\n",
      "Isotrak not found\n",
      "    Read a total of 1 projection items:\n",
      "        Average EEG reference (1 x 61) active\n",
      "    Found the data of interest:\n",
      "        t =       0.00 ...    1400.00 ms\n",
      "        0 CTF compensation matrices available\n",
      "615 matching events found\n",
      "Created an SSP operator (subspace dimension = 1)\n",
      "615 matching events found\n",
      "Created an SSP operator (subspace dimension = 1)\n",
      "1 projection items activated\n",
      "Reading E:\\eeg_data\\ica_140_500_0.1\\subject13_all_runs-epo.fif ...\n",
      "Isotrak not found\n",
      "    Read a total of 1 projection items:\n",
      "        Average EEG reference (1 x 61) active\n",
      "    Found the data of interest:\n",
      "        t =       0.00 ...    1400.00 ms\n",
      "        0 CTF compensation matrices available\n",
      "1197 matching events found\n",
      "Created an SSP operator (subspace dimension = 1)\n",
      "1197 matching events found\n",
      "Created an SSP operator (subspace dimension = 1)\n",
      "1 projection items activated\n",
      "Reading E:\\eeg_data\\ica_140_500_0.1\\subject3_all_runs-epo.fif ...\n",
      "Isotrak not found\n",
      "    Read a total of 1 projection items:\n",
      "        Average EEG reference (1 x 61) active\n",
      "    Found the data of interest:\n",
      "        t =       0.00 ...    1400.00 ms\n",
      "        0 CTF compensation matrices available\n",
      "566 matching events found\n",
      "Created an SSP operator (subspace dimension = 1)\n",
      "566 matching events found\n",
      "Created an SSP operator (subspace dimension = 1)\n",
      "1 projection items activated\n",
      "Reading E:\\eeg_data\\ica_140_500_0.1\\subject17_all_runs-epo.fif ...\n",
      "Isotrak not found\n",
      "    Read a total of 1 projection items:\n",
      "        Average EEG reference (1 x 61) active\n",
      "    Found the data of interest:\n",
      "        t =       0.00 ...    1400.00 ms\n",
      "        0 CTF compensation matrices available\n",
      "1050 matching events found\n",
      "Created an SSP operator (subspace dimension = 1)\n",
      "1050 matching events found\n",
      "Created an SSP operator (subspace dimension = 1)\n",
      "1 projection items activated\n"
     ]
    }
   ],
   "source": [
    "# import all runs data from 10 subjects\n",
    "\n",
    "#initalize a np array of numbers from 1 to 10. This is the number of subjects\n",
    "np.random.seed(41)\n",
    "numb_subj = np.random.randint(1,25,5)\n",
    "numb_subj\n",
    "print(\"subject number used for classification:\",numb_subj)\n",
    "#empty array that will have all file names\n",
    "files = []\n",
    "\n",
    "for i in range(len(numb_subj)):\n",
    "    files.append(str('subject' + str(numb_subj[i]) + '_all_runs-epo.fif'))\n",
    "\n",
    "#convert to np array\n",
    "files = np.array(files)\n",
    "\n",
    "all_data = []\n",
    "for i in range(len(files)):\n",
    "     all_data.append(mne.read_epochs(op.join(drive_all_data_path, files[i]),\n",
    "                          preload=True));\n"
   ]
  },
  {
   "cell_type": "code",
   "execution_count": 12,
   "metadata": {},
   "outputs": [],
   "source": [
    "#extract event_id 4 and 5 from all data\n",
    "\n",
    "all_epochs = []\n",
    "for i in range(len(all_data)):\n",
    "    all_epochs.append(all_data[i][(all_data[i].events[:,-1] == 4) | (all_data[i].events[:,-1] == 5)])"
   ]
  },
  {
   "cell_type": "code",
   "execution_count": 13,
   "metadata": {},
   "outputs": [
    {
     "name": "stdout",
     "output_type": "stream",
     "text": [
      "2186 matching events found\n",
      "Created an SSP operator (subspace dimension = 1)\n",
      "0 bad epochs dropped\n"
     ]
    }
   ],
   "source": [
    "#concatenate epochs list\n",
    "epochs = mne.concatenate_epochs(all_epochs)"
   ]
  },
  {
   "cell_type": "code",
   "execution_count": 14,
   "metadata": {},
   "outputs": [],
   "source": [
    "epochs = epochs.pick_channels(epochs.ch_names[:60])"
   ]
  },
  {
   "cell_type": "code",
   "execution_count": 15,
   "metadata": {},
   "outputs": [
    {
     "name": "stdout",
     "output_type": "stream",
     "text": [
      "             precision    recall  f1-score   support\n",
      "\n",
      "        new       0.63      0.67      0.65      1195\n",
      "   scramble       0.57      0.52      0.54       991\n",
      "\n",
      "avg / total       0.60      0.60      0.60      2186\n",
      "\n"
     ]
    }
   ],
   "source": [
    "clf = make_pipeline(Xdawn(n_components = 3),\n",
    "                    Vectorizer(),\n",
    "                    MinMaxScaler(),\n",
    "                    LogisticRegression(penalty='l1'))\n",
    "#cross validator\n",
    "cv = StratifiedKFold(n_splits = 10, shuffle = True, random_state = 42)\n",
    "\n",
    "\n",
    "#Do cross-validation\n",
    "labels = epochs.events[:,-1]\n",
    "preds = np.empty(len(labels))\n",
    "\n",
    "for train, test in cv.split(epochs, labels):\n",
    "    clf.fit(epochs[train], labels[train])\n",
    "    preds[test] = clf.predict(epochs[test])\n",
    "    \n",
    "target_names = ['new', 'scramble']\n",
    "report = classification_report(labels, preds, target_names=target_names)\n",
    "print(report)"
   ]
  },
  {
   "cell_type": "code",
   "execution_count": 16,
   "metadata": {},
   "outputs": [],
   "source": [
    "# Normalized confusion matrix\n",
    "cm = confusion_matrix(labels, preds)\n",
    "cm_normalized = cm.astype(float) / cm.sum(axis=1)[:, np.newaxis]"
   ]
  },
  {
   "cell_type": "code",
   "execution_count": 17,
   "metadata": {
    "scrolled": false
   },
   "outputs": [
    {
     "data": {
      "image/png": "[encoded data removed]",
      "text/plain": [
       "<matplotlib.figure.Figure at 0xd195ef0>"
      ]
     },
     "metadata": {},
     "output_type": "display_data"
    }
   ],
   "source": [
    "# Plot confusion matrix\n",
    "plt.imshow(cm_normalized, interpolation='nearest', cmap=plt.cm.Blues)\n",
    "plt.title('Normalized Confusion matrix', fontsize = 35)\n",
    "plt.colorbar()\n",
    "tick_marks = np.arange(len(target_names))\n",
    "plt.xticks(tick_marks, target_names, rotation=45, fontsize = 20)\n",
    "plt.yticks(tick_marks, target_names, fontsize = 20)\n",
    "tight_layout()\n",
    "plt.ylabel('True label', fontsize = 35)\n",
    "plt.xlabel('Predicted label',fontsize = 35)\n",
    "plt.show()"
   ]
  },
  {
   "cell_type": "code",
   "execution_count": 18,
   "metadata": {},
   "outputs": [
    {
     "data": {
      "text/plain": [
       "0.66972477064220182"
      ]
     },
     "execution_count": 18,
     "metadata": {},
     "output_type": "execute_result"
    }
   ],
   "source": [
    "clf.score(epochs[test],labels[test])"
   ]
  },
  {
   "cell_type": "markdown",
   "metadata": {},
   "source": [
    "## More tests by sampling more files"
   ]
  },
  {
   "cell_type": "code",
   "execution_count": 28,
   "metadata": {},
   "outputs": [
    {
     "name": "stdout",
     "output_type": "stream",
     "text": [
      "[[ 7 20 15 11  8]\n",
      " [21  7 19 23 11]\n",
      " [11 24 21  4  8]\n",
      " [24  3 22 21  2]\n",
      " [24 12  6  2 21]\n",
      " [ 1 12 22 12 17]\n",
      " [10 16 15 15 19]\n",
      " [12 23 20  3  5]\n",
      " [19  7 21  9  7]\n",
      " [18  4 14 18  9]]\n"
     ]
    }
   ],
   "source": [
    "np.random.seed(42)\n",
    "subjects = []\n",
    "#generate 10 random samples of 5 files \n",
    "for i in range(10):\n",
    "    subjects.append(np.random.randint(1,25,5))\n",
    "subjects = np.array(subjects)\n",
    "print(subjects)"
   ]
  },
  {
   "cell_type": "code",
   "execution_count": null,
   "metadata": {},
   "outputs": [],
   "source": []
  },
  {
   "cell_type": "code",
   "execution_count": null,
   "metadata": {},
   "outputs": [],
   "source": []
  }
 ],
 "metadata": {
  "kernelspec": {
   "display_name": "Python 2",
   "language": "python",
   "name": "python2"
  },
  "language_info": {
   "codemirror_mode": {
    "name": "ipython",
    "version": 2
   },
   "file_extension": ".py",
   "mimetype": "text/x-python",
   "name": "python",
   "nbconvert_exporter": "python",
   "pygments_lexer": "ipython2",
   "version": "2.7.14"
  }
 },
 "nbformat": 4,
 "nbformat_minor": 2
}
