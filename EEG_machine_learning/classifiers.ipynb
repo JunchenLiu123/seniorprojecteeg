{
 "cells": [
  {
   "cell_type": "markdown",
   "metadata": {},
   "source": [
    "# Classifying Events with:\n",
    "* Logistic Regression\n",
    "* Random Forests\n",
    "* SVM\n",
    "* Naive Bayes\n",
    "\n"
   ]
  },
  {
   "cell_type": "code",
   "execution_count": 2,
   "metadata": {},
   "outputs": [],
   "source": [
    "#Use mne XDawn for preprocessing\n",
    "\n",
    "import numpy as np\n",
    "import matplotlib.pyplot as plt\n",
    "import matplotlib\n",
    "\n",
    "from sklearn.model_selection import StratifiedKFold\n",
    "from sklearn.pipeline import make_pipeline\n",
    "from sklearn.linear_model import LogisticRegression\n",
    "from sklearn.svm import SVC\n",
    "from sklearn.ensemble import RandomForestClassifier\n",
    "from sklearn.metrics import classification_report, confusion_matrix\n",
    "from sklearn.preprocessing import MinMaxScaler\n",
    "\n",
    "import mne\n",
    "from mne import io, pick_types, read_events, Epochs\n",
    "# from mne.datasets import sample\n",
    "from mne.preprocessing import Xdawn\n",
    "from mne.decoding import Vectorizer\n",
    "from mne.viz import tight_layout\n",
    "\n",
    "import os\n",
    "import os.path as op\n",
    "\n",
    "matplotlib.rcParams['figure.figsize'] = (15.0, 10.0)\n",
    "matplotlib.rcParams.update({'font.size': 15})\n",
    "\n",
    "#data path for each run of each subject.\n",
    "drive_data_path = 'E:\\eeg_data'\n",
    "\n",
    "#data path on my external hdd for folder containing all tests of each subject in one file\n",
    "drive_all_data_path = 'E:\\eeg_data\\ica_140_500_0.1'"
   ]
  },
  {
   "cell_type": "code",
   "execution_count": null,
   "metadata": {},
   "outputs": [],
   "source": []
  },
  {
   "cell_type": "code",
   "execution_count": 13,
   "metadata": {},
   "outputs": [
    {
     "name": "stdout",
     "output_type": "stream",
     "text": [
      "['subject1_all_runs-epo.fif' 'subject2_all_runs-epo.fif'\n",
      " 'subject3_all_runs-epo.fif' 'subject4_all_runs-epo.fif'\n",
      " 'subject5_all_runs-epo.fif' 'subject6_all_runs-epo.fif'\n",
      " 'subject7_all_runs-epo.fif' 'subject8_all_runs-epo.fif'\n",
      " 'subject9_all_runs-epo.fif' 'subject10_all_runs-epo.fif'\n",
      " 'subject11_all_runs-epo.fif' 'subject12_all_runs-epo.fif'\n",
      " 'subject13_all_runs-epo.fif' 'subject14_all_runs-epo.fif'\n",
      " 'subject15_all_runs-epo.fif' 'subject16_all_runs-epo.fif'\n",
      " 'subject17_all_runs-epo.fif' 'subject18_all_runs-epo.fif'\n",
      " 'subject19_all_runs-epo.fif' 'subject20_all_runs-epo.fif'\n",
      " 'subject21_all_runs-epo.fif' 'subject22_all_runs-epo.fif'\n",
      " 'subject23_all_runs-epo.fif' 'subject24_all_runs-epo.fif'\n",
      " 'subject25_all_runs-epo.fif' 'subject26_all_runs-epo.fif'\n",
      " 'subject27_all_runs-epo.fif' 'subject28_all_runs-epo.fif']\n"
     ]
    }
   ],
   "source": [
    "# import all runs data from 10 subjects\n",
    "\n",
    "#initalize a np array of numbers from 1 to 28. This is the number of subjects\n",
    "numb_subj = np.arange(1,29,1)\n",
    "\n",
    "\n",
    "#empty array that will have all file names\n",
    "files = []\n",
    "\n",
    "for i in range(len(numb_subj)):\n",
    "    files.append(str('subject' + str(numb_subj[i]) + '_all_runs-epo.fif'))\n",
    "\n",
    "#convert to np array\n",
    "files = np.array(files)\n",
    "\n",
    "all_data = np.empty\n",
    "\n",
    "\n",
    "\n"
   ]
  },
  {
   "cell_type": "code",
   "execution_count": 3,
   "metadata": {},
   "outputs": [
    {
     "data": {
      "text/plain": [
       "'subject4_all_runs-epo.fif'"
      ]
     },
     "execution_count": 3,
     "metadata": {},
     "output_type": "execute_result"
    }
   ],
   "source": [
    "'subject' + '4' + '_all_runs-epo.fif'"
   ]
  },
  {
   "cell_type": "code",
   "execution_count": 6,
   "metadata": {},
   "outputs": [
    {
     "data": {
      "text/plain": [
       "'subject4_all_runs-epo.fif'"
      ]
     },
     "execution_count": 6,
     "metadata": {},
     "output_type": "execute_result"
    }
   ],
   "source": [
    "file_structure[0] + str(4) + file_structure[1]"
   ]
  },
  {
   "cell_type": "code",
   "execution_count": 7,
   "metadata": {},
   "outputs": [
    {
     "data": {
      "text/plain": [
       "array([ 1,  2,  3,  4,  5,  6,  7,  8,  9, 10, 11, 12, 13, 14, 15, 16, 17,\n",
       "       18, 19, 20, 21, 22, 23, 24, 25, 26, 27, 28])"
      ]
     },
     "execution_count": 7,
     "metadata": {},
     "output_type": "execute_result"
    }
   ],
   "source": [
    "for i in range*"
   ]
  },
  {
   "cell_type": "code",
   "execution_count": null,
   "metadata": {},
   "outputs": [],
   "source": []
  }
 ],
 "metadata": {
  "kernelspec": {
   "display_name": "Python 2",
   "language": "python",
   "name": "python2"
  },
  "language_info": {
   "codemirror_mode": {
    "name": "ipython",
    "version": 2
   },
   "file_extension": ".py",
   "mimetype": "text/x-python",
   "name": "python",
   "nbconvert_exporter": "python",
   "pygments_lexer": "ipython2",
   "version": "2.7.14"
  }
 },
 "nbformat": 4,
 "nbformat_minor": 2
}
