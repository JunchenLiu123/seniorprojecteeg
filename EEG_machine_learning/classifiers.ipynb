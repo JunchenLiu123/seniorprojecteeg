{
 "cells": [
  {
   "cell_type": "markdown",
   "metadata": {},
   "source": [
    "# Classifying Events with:\n",
    "* Logistic Regression\n",
    "* Random Forests\n",
    "* SVM\n",
    "* Naive Bayes\n",
    "\n"
   ]
  },
  {
   "cell_type": "code",
   "execution_count": 1,
   "metadata": {},
   "outputs": [],
   "source": [
    "#Use mne XDawn for preprocessing\n",
    "\n",
    "import numpy as np\n",
    "import matplotlib.pyplot as plt\n",
    "import matplotlib\n",
    "\n",
    "from sklearn.model_selection import StratifiedKFold\n",
    "from sklearn.pipeline import make_pipeline\n",
    "from sklearn.linear_model import LogisticRegression\n",
    "from sklearn.svm import SVC\n",
    "from sklearn.ensemble import RandomForestClassifier\n",
    "from sklearn.metrics import classification_report, confusion_matrix\n",
    "from sklearn.preprocessing import MinMaxScaler\n",
    "\n",
    "import mne\n",
    "from mne import io, pick_types, read_events, Epochs\n",
    "# from mne.datasets import sample\n",
    "from mne.preprocessing import Xdawn\n",
    "from mne.decoding import Vectorizer\n",
    "from mne.viz import tight_layout\n",
    "\n",
    "import os\n",
    "import os.path as op\n",
    "\n",
    "matplotlib.rcParams['figure.figsize'] = (15.0, 10.0)\n",
    "matplotlib.rcParams.update({'font.size': 15})\n",
    "\n",
    "#data path for each run of each subject.\n",
    "drive_data_path = 'E:\\eeg_data'\n",
    "\n",
    "#data path on my external hdd for folder containing all tests of each subject in one file\n",
    "drive_all_data_path = 'E:\\eeg_data\\ica_140_500_0.1'"
   ]
  },
  {
   "cell_type": "code",
   "execution_count": 2,
   "metadata": {
    "scrolled": false
   },
   "outputs": [
    {
     "name": "stdout",
     "output_type": "stream",
     "text": [
      "Reading E:\\eeg_data\\ica_140_500_0.1\\subject1_all_runs-epo.fif ...\n",
      "Isotrak not found\n",
      "    Read a total of 1 projection items:\n",
      "        Average EEG reference (1 x 61) active\n",
      "    Found the data of interest:\n",
      "        t =       0.00 ...    1400.00 ms\n",
      "        0 CTF compensation matrices available\n",
      "1121 matching events found\n",
      "Created an SSP operator (subspace dimension = 1)\n",
      "1121 matching events found\n",
      "Created an SSP operator (subspace dimension = 1)\n",
      "1 projection items activated\n",
      "Reading E:\\eeg_data\\ica_140_500_0.1\\subject2_all_runs-epo.fif ...\n",
      "Isotrak not found\n",
      "    Read a total of 1 projection items:\n",
      "        Average EEG reference (1 x 61) active\n",
      "    Found the data of interest:\n",
      "        t =       0.00 ...    1400.00 ms\n",
      "        0 CTF compensation matrices available\n",
      "545 matching events found\n",
      "Created an SSP operator (subspace dimension = 1)\n",
      "545 matching events found\n",
      "Created an SSP operator (subspace dimension = 1)\n",
      "1 projection items activated\n",
      "Reading E:\\eeg_data\\ica_140_500_0.1\\subject3_all_runs-epo.fif ...\n",
      "Isotrak not found\n",
      "    Read a total of 1 projection items:\n",
      "        Average EEG reference (1 x 61) active\n",
      "    Found the data of interest:\n",
      "        t =       0.00 ...    1400.00 ms\n",
      "        0 CTF compensation matrices available\n",
      "566 matching events found\n",
      "Created an SSP operator (subspace dimension = 1)\n",
      "566 matching events found\n",
      "Created an SSP operator (subspace dimension = 1)\n",
      "1 projection items activated\n",
      "Reading E:\\eeg_data\\ica_140_500_0.1\\subject4_all_runs-epo.fif ...\n",
      "Isotrak not found\n",
      "    Read a total of 1 projection items:\n",
      "        Average EEG reference (1 x 61) active\n",
      "    Found the data of interest:\n",
      "        t =       0.00 ...    1400.00 ms\n",
      "        0 CTF compensation matrices available\n",
      "615 matching events found\n",
      "Created an SSP operator (subspace dimension = 1)\n",
      "615 matching events found\n",
      "Created an SSP operator (subspace dimension = 1)\n",
      "1 projection items activated\n",
      "Reading E:\\eeg_data\\ica_140_500_0.1\\subject5_all_runs-epo.fif ...\n",
      "Isotrak not found\n",
      "    Read a total of 1 projection items:\n",
      "        Average EEG reference (1 x 61) active\n",
      "    Found the data of interest:\n",
      "        t =       0.00 ...    1400.00 ms\n",
      "        0 CTF compensation matrices available\n",
      "969 matching events found\n",
      "Created an SSP operator (subspace dimension = 1)\n",
      "969 matching events found\n",
      "Created an SSP operator (subspace dimension = 1)\n",
      "1 projection items activated\n",
      "Reading E:\\eeg_data\\ica_140_500_0.1\\subject6_all_runs-epo.fif ...\n",
      "Isotrak not found\n",
      "    Read a total of 1 projection items:\n",
      "        Average EEG reference (1 x 61) active\n",
      "    Found the data of interest:\n",
      "        t =       0.00 ...    1400.00 ms\n",
      "        0 CTF compensation matrices available\n",
      "499 matching events found\n",
      "Created an SSP operator (subspace dimension = 1)\n",
      "499 matching events found\n",
      "Created an SSP operator (subspace dimension = 1)\n",
      "1 projection items activated\n",
      "Reading E:\\eeg_data\\ica_140_500_0.1\\subject7_all_runs-epo.fif ...\n",
      "Isotrak not found\n",
      "    Read a total of 1 projection items:\n",
      "        Average EEG reference (1 x 61) active\n",
      "    Found the data of interest:\n",
      "        t =       0.00 ...    1400.00 ms\n",
      "        0 CTF compensation matrices available\n",
      "833 matching events found\n",
      "Created an SSP operator (subspace dimension = 1)\n",
      "833 matching events found\n",
      "Created an SSP operator (subspace dimension = 1)\n",
      "1 projection items activated\n",
      "Reading E:\\eeg_data\\ica_140_500_0.1\\subject8_all_runs-epo.fif ...\n",
      "Isotrak not found\n",
      "    Read a total of 1 projection items:\n",
      "        Average EEG reference (1 x 61) active\n",
      "    Found the data of interest:\n",
      "        t =       0.00 ...    1400.00 ms\n",
      "        0 CTF compensation matrices available\n",
      "1069 matching events found\n",
      "Created an SSP operator (subspace dimension = 1)\n",
      "1069 matching events found\n",
      "Created an SSP operator (subspace dimension = 1)\n",
      "1 projection items activated\n",
      "Reading E:\\eeg_data\\ica_140_500_0.1\\subject9_all_runs-epo.fif ...\n",
      "Isotrak not found\n",
      "    Read a total of 1 projection items:\n",
      "        Average EEG reference (1 x 61) active\n",
      "    Found the data of interest:\n",
      "        t =       0.00 ...    1400.00 ms\n",
      "        0 CTF compensation matrices available\n",
      "959 matching events found\n",
      "Created an SSP operator (subspace dimension = 1)\n",
      "959 matching events found\n",
      "Created an SSP operator (subspace dimension = 1)\n",
      "1 projection items activated\n",
      "Reading E:\\eeg_data\\ica_140_500_0.1\\subject10_all_runs-epo.fif ...\n",
      "Isotrak not found\n",
      "    Read a total of 1 projection items:\n",
      "        Average EEG reference (1 x 61) active\n",
      "    Found the data of interest:\n",
      "        t =       0.00 ...    1400.00 ms\n",
      "        0 CTF compensation matrices available\n",
      "964 matching events found\n",
      "Created an SSP operator (subspace dimension = 1)\n",
      "964 matching events found\n",
      "Created an SSP operator (subspace dimension = 1)\n",
      "1 projection items activated\n"
     ]
    }
   ],
   "source": [
    "# import all runs data from 10 subjects\n",
    "\n",
    "#initalize a np array of numbers from 1 to 10. This is the number of subjects\n",
    "numb_subj = np.arange(1,11,1)\n",
    "\n",
    "\n",
    "#empty array that will have all file names\n",
    "files = []\n",
    "\n",
    "for i in range(len(numb_subj)):\n",
    "    files.append(str('subject' + str(numb_subj[i]) + '_all_runs-epo.fif'))\n",
    "\n",
    "#convert to np array\n",
    "files = np.array(files)\n",
    "\n",
    "all_data = []\n",
    "for i in range(len(files)):\n",
    "     all_data.append(mne.read_epochs(op.join(drive_all_data_path, files[i]),\n",
    "                          preload=True));\n",
    "\n"
   ]
  },
  {
   "cell_type": "code",
   "execution_count": 3,
   "metadata": {},
   "outputs": [],
   "source": [
    "#extract event_id 4 and 5 from all data\n",
    "\n",
    "all_epochs = []\n",
    "for i in range(len(all_data)):\n",
    "    \n",
    "    all_epochs.append(all_data[i][(all_data[i].events[:,-1] == 4) | (all_data[i].events[:,-1] == 5)])"
   ]
  },
  {
   "cell_type": "code",
   "execution_count": 5,
   "metadata": {},
   "outputs": [
    {
     "name": "stderr",
     "output_type": "stream",
     "text": [
      "C:\\Users\\Esimk_000\\Anaconda3\\envs\\py27\\lib\\site-packages\\mne\\epochs.py:2651: RuntimeWarning: overflow encountered in long_scalars\n",
      "  int((10 + tmax) * epochs.info['sfreq']))\n"
     ]
    },
    {
     "name": "stdout",
     "output_type": "stream",
     "text": [
      "The events passed to the Epochs constructor are not chronologically ordered.\n",
      "3826 matching events found\n"
     ]
    },
    {
     "name": "stderr",
     "output_type": "stream",
     "text": [
      "<ipython-input-5-35e9a5f5539c>:2: RuntimeWarning: The events passed to the Epochs constructor are not chronologically ordered.\n",
      "  epochs = mne.concatenate_epochs(all_epochs)\n"
     ]
    },
    {
     "name": "stdout",
     "output_type": "stream",
     "text": [
      "Created an SSP operator (subspace dimension = 1)\n",
      "0 bad epochs dropped\n"
     ]
    }
   ],
   "source": [
    "#concatenate epochs list\n",
    "epochs = mne.concatenate_epochs(all_epochs)"
   ]
  },
  {
   "cell_type": "code",
   "execution_count": 9,
   "metadata": {},
   "outputs": [],
   "source": [
    "epochs = epochs.pick_channels(epochs.ch_names[:60])"
   ]
  },
  {
   "cell_type": "code",
   "execution_count": 10,
   "metadata": {},
   "outputs": [
    {
     "name": "stdout",
     "output_type": "stream",
     "text": [
      "             precision    recall  f1-score   support\n",
      "\n",
      "        new       0.66      0.74      0.70      2214\n",
      "   scramble       0.57      0.47      0.52      1612\n",
      "\n",
      "avg / total       0.62      0.63      0.62      3826\n",
      "\n"
     ]
    }
   ],
   "source": [
    "clf = make_pipeline(Xdawn(n_components = 3),\n",
    "                    Vectorizer(),\n",
    "                    MinMaxScaler(),\n",
    "                    LogisticRegression(penalty='l1'))\n",
    "#cross validator\n",
    "cv = StratifiedKFold(n_splits = 10, shuffle = True, random_state = 42)\n",
    "\n",
    "\n",
    "#Do cross-validation\n",
    "labels = epochs.events[:,-1]\n",
    "preds = np.empty(len(labels))\n",
    "\n",
    "for train, test in cv.split(epochs, labels):\n",
    "    clf.fit(epochs[train], labels[train])\n",
    "    preds[test] = clf.predict(epochs[test])\n",
    "    \n",
    "target_names = ['new', 'scramble']\n",
    "report = classification_report(labels, preds, target_names=target_names)\n",
    "print(report)"
   ]
  },
  {
   "cell_type": "code",
   "execution_count": null,
   "metadata": {},
   "outputs": [],
   "source": []
  }
 ],
 "metadata": {
  "kernelspec": {
   "display_name": "Python 2",
   "language": "python",
   "name": "python2"
  },
  "language_info": {
   "codemirror_mode": {
    "name": "ipython",
    "version": 2
   },
   "file_extension": ".py",
   "mimetype": "text/x-python",
   "name": "python",
   "nbconvert_exporter": "python",
   "pygments_lexer": "ipython2",
   "version": "2.7.14"
  }
 },
 "nbformat": 4,
 "nbformat_minor": 2
}
