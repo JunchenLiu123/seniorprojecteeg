{
 "cells": [
  {
   "cell_type": "markdown",
   "metadata": {},
   "source": [
    "# Feature Extraction\n",
    "* A common method of EEG classification encountered during research of literary sources was feature extraction. \n",
    "* Using the data points of the signals is not a good way to classify.\n",
    "* However, extracting statistical, and signal processing related features may help significantly improve our classification results.\n",
    "* There are over a hundred features that can be extracted from EEG based on the sources read.\n",
    "* This notebook will try to explore a few of in the following realms:\n",
    "    1. Statisical \n",
    "        * mean, median, std\n",
    "    2. Time Domain\n",
    "        * hjorth paramter, 1st difference mean and maximum\n",
    "    3. Frequency Domain\n",
    "        * Converting time domain signals into frequency domain signals with Fourier transform.\n",
    "        * Caluclating band power and max power with FT.\n",
    "    4. Wavelet-based features\n",
    "        * Discrete Wavelet Transform (High pass and Low Pass)\n",
    "    5. Auto-regressive Coefficients\n",
    "        * AR model of order 6 using Burg's Algorithm. Using the coefficients as features.\n",
    "* All of the feature domains will be explained further throughout the notebook.\n",
    "Source: (S. S. R, J. Rabha, K. Y. Nagarjuna, D. Samanta, P. Mitra and M. Sarma, \"Motor Imagery EEG Signal Processing and Classification Using Machine Learning Approach,\" 2017 International Conference on New Trends in Computing Sciences (ICTCS), Amman, 2017, pp. 61-66.\n",
    "doi: 10.1109/ICTCS.2017.15) https://ieeexplore-ieee-org.ccny-proxy1.libr.ccny.cuny.edu/document/8250265/citations)"
   ]
  },
  {
   "cell_type": "code",
   "execution_count": null,
   "metadata": {},
   "outputs": [],
   "source": []
  }
 ],
 "metadata": {
  "kernelspec": {
   "display_name": "Python 2",
   "language": "python",
   "name": "python2"
  },
  "language_info": {
   "codemirror_mode": {
    "name": "ipython",
    "version": 2
   },
   "file_extension": ".py",
   "mimetype": "text/x-python",
   "name": "python",
   "nbconvert_exporter": "python",
   "pygments_lexer": "ipython2",
   "version": "2.7.14"
  }
 },
 "nbformat": 4,
 "nbformat_minor": 2
}
